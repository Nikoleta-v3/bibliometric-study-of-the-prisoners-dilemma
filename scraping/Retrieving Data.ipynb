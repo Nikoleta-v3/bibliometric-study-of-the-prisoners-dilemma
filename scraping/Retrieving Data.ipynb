{
 "cells": [
  {
   "cell_type": "markdown",
   "metadata": {},
   "source": [
    "Retrieving data from Axelbib\n",
    "===========================\n",
    "At this stage the data are within the django data base Axelbib. There they have been \n",
    "cleaned and missing information has been manually filled in. \n",
    "\n",
    "Axelbib has a django rest framework. \n",
    "The data will be retrieved by the rest framework in a json format\n",
    "and will be push into a pandas dataframe following the Arcas structure."
   ]
  },
  {
   "cell_type": "code",
   "execution_count": 2,
   "metadata": {
    "collapsed": true
   },
   "outputs": [],
   "source": [
    "import requests\n",
    "import pandas as pd\n",
    "from itertools import product\n",
    "import collections\n",
    "import json\n",
    "from pandas.io.json import json_normalize"
   ]
  },
  {
   "cell_type": "code",
   "execution_count": 3,
   "metadata": {
    "collapsed": true
   },
   "outputs": [],
   "source": [
    "from password import password"
   ]
  },
  {
   "cell_type": "code",
   "execution_count": 3,
   "metadata": {
    "collapsed": true
   },
   "outputs": [],
   "source": [
    "keys = ['title', 'provenance', 'score', 'read', 'unique_key',\n",
    "        'date', 'abstract', 'author', 'journal', 'labels',\n",
    "        'key_word', 'list_strategies', 'pages', 'key']"
   ]
  },
  {
   "cell_type": "code",
   "execution_count": 4,
   "metadata": {
    "collapsed": false
   },
   "outputs": [],
   "source": [
    "def raw_to_db(an_article):\n",
    "    an_article['author'] = [f['name'] for f in an_article['author']]\n",
    "    an_article['key_word'] = [f['key_word'] for f in an_article['key_word']]\n",
    "    an_article['date'] = an_article['date']['year']\n",
    "    an_article['labels'] = [f['label'] for f in an_article['labels']]\n",
    "    \n",
    "    for _, field in enumerate(an_article):\n",
    "        if not an_article[field]:\n",
    "            an_article[field] = ['None']\n",
    "   \n",
    "    values = []\n",
    "    for key in keys:\n",
    "        if type(an_article[key]) is not list:\n",
    "            values.append([an_article[key]])\n",
    "        else:\n",
    "            values.append(an_article[key])\n",
    "    data = []\n",
    "    for row in product(*values):\n",
    "        data.append(row)\n",
    "    df = pd.DataFrame(data, columns=keys)    \n",
    "    return df"
   ]
  },
  {
   "cell_type": "code",
   "execution_count": 10,
   "metadata": {
    "collapsed": false
   },
   "outputs": [],
   "source": [
    "page = 1\n",
    "status = 200\n",
    "dfs = []\n",
    "while page <= 111:\n",
    "    req = requests.get('http://127.0.0.1:8000/article/?page={}'.format(page), auth=(\"nikoleta\", password))\n",
    "    status =  req.status_code\n",
    "    page += 1\n",
    "    results_of_req = req.json()['results']\n",
    "    for raw_article in results_of_req:\n",
    "        df = raw_to_db(raw_article)\n",
    "        dfs.append(df)        "
   ]
  },
  {
   "cell_type": "code",
   "execution_count": 11,
   "metadata": {
    "collapsed": false
   },
   "outputs": [],
   "source": [
    "df = pd.concat(dfs, ignore_index=True)"
   ]
  },
  {
   "cell_type": "code",
   "execution_count": 12,
   "metadata": {
    "collapsed": false
   },
   "outputs": [
    {
     "data": {
      "text/plain": [
       "(1104, 11078, 1104)"
      ]
     },
     "execution_count": 12,
     "metadata": {},
     "output_type": "execute_result"
    }
   ],
   "source": [
    "len(dfs), len(df), len(df.groupby(\"unique_key\").count())"
   ]
  },
  {
   "cell_type": "code",
   "execution_count": 13,
   "metadata": {
    "collapsed": true
   },
   "outputs": [],
   "source": [
    "df.to_json('data.json')"
   ]
  },
  {
   "cell_type": "code",
   "execution_count": 14,
   "metadata": {
    "collapsed": false
   },
   "outputs": [
    {
     "data": {
      "text/html": [
       "<div>\n",
       "<table border=\"1\" class=\"dataframe\">\n",
       "  <thead>\n",
       "    <tr style=\"text-align: right;\">\n",
       "      <th></th>\n",
       "      <th>title</th>\n",
       "      <th>provenance</th>\n",
       "      <th>score</th>\n",
       "      <th>read</th>\n",
       "      <th>unique_key</th>\n",
       "      <th>date</th>\n",
       "      <th>abstract</th>\n",
       "      <th>author</th>\n",
       "      <th>journal</th>\n",
       "      <th>labels</th>\n",
       "      <th>key_word</th>\n",
       "      <th>list_strategies</th>\n",
       "      <th>pages</th>\n",
       "      <th>key</th>\n",
       "    </tr>\n",
       "  </thead>\n",
       "  <tbody>\n",
       "    <tr>\n",
       "      <th>0</th>\n",
       "      <td>Network Structures between Strategies in Itera...</td>\n",
       "      <td>arXiv</td>\n",
       "      <td>None</td>\n",
       "      <td>None</td>\n",
       "      <td>00660e6b2eedbebaf611cafc864ed1e4</td>\n",
       "      <td>2014</td>\n",
       "      <td>We use replicator dynamics to study an iterate...</td>\n",
       "      <td>Myungkyoon Roh</td>\n",
       "      <td>The Korean Physical Society February 2014, Vol...</td>\n",
       "      <td>None</td>\n",
       "      <td>None</td>\n",
       "      <td>None</td>\n",
       "      <td>None</td>\n",
       "      <td>Kim2014</td>\n",
       "    </tr>\n",
       "    <tr>\n",
       "      <th>1</th>\n",
       "      <td>Network Structures between Strategies in Itera...</td>\n",
       "      <td>arXiv</td>\n",
       "      <td>None</td>\n",
       "      <td>None</td>\n",
       "      <td>00660e6b2eedbebaf611cafc864ed1e4</td>\n",
       "      <td>2014</td>\n",
       "      <td>We use replicator dynamics to study an iterate...</td>\n",
       "      <td>Seung-Woo Son</td>\n",
       "      <td>The Korean Physical Society February 2014, Vol...</td>\n",
       "      <td>None</td>\n",
       "      <td>None</td>\n",
       "      <td>None</td>\n",
       "      <td>None</td>\n",
       "      <td>Kim2014</td>\n",
       "    </tr>\n",
       "    <tr>\n",
       "      <th>2</th>\n",
       "      <td>Network Structures between Strategies in Itera...</td>\n",
       "      <td>arXiv</td>\n",
       "      <td>None</td>\n",
       "      <td>None</td>\n",
       "      <td>00660e6b2eedbebaf611cafc864ed1e4</td>\n",
       "      <td>2014</td>\n",
       "      <td>We use replicator dynamics to study an iterate...</td>\n",
       "      <td>Young Jin Kim</td>\n",
       "      <td>The Korean Physical Society February 2014, Vol...</td>\n",
       "      <td>None</td>\n",
       "      <td>None</td>\n",
       "      <td>None</td>\n",
       "      <td>None</td>\n",
       "      <td>Kim2014</td>\n",
       "    </tr>\n",
       "    <tr>\n",
       "      <th>3</th>\n",
       "      <td>Effect of Initial Fraction of Cooperators on C...</td>\n",
       "      <td>PLOS</td>\n",
       "      <td>3.2582638</td>\n",
       "      <td>None</td>\n",
       "      <td>0091a50bfd4c106e273c9132da6d33ac</td>\n",
       "      <td>2013</td>\n",
       "      <td>We investigate the influence of initial fracti...</td>\n",
       "      <td>Eriko Fukuda</td>\n",
       "      <td>PLoS ONE</td>\n",
       "      <td>None</td>\n",
       "      <td>None</td>\n",
       "      <td>None</td>\n",
       "      <td>None</td>\n",
       "      <td>Shigaki2013</td>\n",
       "    </tr>\n",
       "    <tr>\n",
       "      <th>4</th>\n",
       "      <td>Effect of Initial Fraction of Cooperators on C...</td>\n",
       "      <td>PLOS</td>\n",
       "      <td>3.2582638</td>\n",
       "      <td>None</td>\n",
       "      <td>0091a50bfd4c106e273c9132da6d33ac</td>\n",
       "      <td>2013</td>\n",
       "      <td>We investigate the influence of initial fracti...</td>\n",
       "      <td>Jun Tanimoto</td>\n",
       "      <td>PLoS ONE</td>\n",
       "      <td>None</td>\n",
       "      <td>None</td>\n",
       "      <td>None</td>\n",
       "      <td>None</td>\n",
       "      <td>Shigaki2013</td>\n",
       "    </tr>\n",
       "    <tr>\n",
       "      <th>5</th>\n",
       "      <td>Effect of Initial Fraction of Cooperators on C...</td>\n",
       "      <td>PLOS</td>\n",
       "      <td>3.2582638</td>\n",
       "      <td>None</td>\n",
       "      <td>0091a50bfd4c106e273c9132da6d33ac</td>\n",
       "      <td>2013</td>\n",
       "      <td>We investigate the influence of initial fracti...</td>\n",
       "      <td>Keizo Shigaki</td>\n",
       "      <td>PLoS ONE</td>\n",
       "      <td>None</td>\n",
       "      <td>None</td>\n",
       "      <td>None</td>\n",
       "      <td>None</td>\n",
       "      <td>Shigaki2013</td>\n",
       "    </tr>\n",
       "    <tr>\n",
       "      <th>6</th>\n",
       "      <td>Effect of Initial Fraction of Cooperators on C...</td>\n",
       "      <td>PLOS</td>\n",
       "      <td>3.2582638</td>\n",
       "      <td>None</td>\n",
       "      <td>0091a50bfd4c106e273c9132da6d33ac</td>\n",
       "      <td>2013</td>\n",
       "      <td>We investigate the influence of initial fracti...</td>\n",
       "      <td>Zhen Wang</td>\n",
       "      <td>PLoS ONE</td>\n",
       "      <td>None</td>\n",
       "      <td>None</td>\n",
       "      <td>None</td>\n",
       "      <td>None</td>\n",
       "      <td>Shigaki2013</td>\n",
       "    </tr>\n",
       "    <tr>\n",
       "      <th>7</th>\n",
       "      <td>The Good, the Bad, and the Rare: Memory for Pa...</td>\n",
       "      <td>PLOS</td>\n",
       "      <td>1.1111743</td>\n",
       "      <td>None</td>\n",
       "      <td>00b1b64eda8418c0e3706f43e894a206</td>\n",
       "      <td>2011</td>\n",
       "      <td>For cooperation to evolve via direct reciproci...</td>\n",
       "      <td>Jeffrey R. Stevens</td>\n",
       "      <td>PLoS ONE</td>\n",
       "      <td>None</td>\n",
       "      <td>None</td>\n",
       "      <td>None</td>\n",
       "      <td>None</td>\n",
       "      <td>Volstorf2011</td>\n",
       "    </tr>\n",
       "    <tr>\n",
       "      <th>8</th>\n",
       "      <td>The Good, the Bad, and the Rare: Memory for Pa...</td>\n",
       "      <td>PLOS</td>\n",
       "      <td>1.1111743</td>\n",
       "      <td>None</td>\n",
       "      <td>00b1b64eda8418c0e3706f43e894a206</td>\n",
       "      <td>2011</td>\n",
       "      <td>For cooperation to evolve via direct reciproci...</td>\n",
       "      <td>Jenny Volstorf</td>\n",
       "      <td>PLoS ONE</td>\n",
       "      <td>None</td>\n",
       "      <td>None</td>\n",
       "      <td>None</td>\n",
       "      <td>None</td>\n",
       "      <td>Volstorf2011</td>\n",
       "    </tr>\n",
       "    <tr>\n",
       "      <th>9</th>\n",
       "      <td>The Good, the Bad, and the Rare: Memory for Pa...</td>\n",
       "      <td>PLOS</td>\n",
       "      <td>1.1111743</td>\n",
       "      <td>None</td>\n",
       "      <td>00b1b64eda8418c0e3706f43e894a206</td>\n",
       "      <td>2011</td>\n",
       "      <td>For cooperation to evolve via direct reciproci...</td>\n",
       "      <td>Jörg Rieskamp</td>\n",
       "      <td>PLoS ONE</td>\n",
       "      <td>None</td>\n",
       "      <td>None</td>\n",
       "      <td>None</td>\n",
       "      <td>None</td>\n",
       "      <td>Volstorf2011</td>\n",
       "    </tr>\n",
       "  </tbody>\n",
       "</table>\n",
       "</div>"
      ],
      "text/plain": [
       "                                               title provenance      score  \\\n",
       "0  Network Structures between Strategies in Itera...      arXiv       None   \n",
       "1  Network Structures between Strategies in Itera...      arXiv       None   \n",
       "2  Network Structures between Strategies in Itera...      arXiv       None   \n",
       "3  Effect of Initial Fraction of Cooperators on C...       PLOS  3.2582638   \n",
       "4  Effect of Initial Fraction of Cooperators on C...       PLOS  3.2582638   \n",
       "5  Effect of Initial Fraction of Cooperators on C...       PLOS  3.2582638   \n",
       "6  Effect of Initial Fraction of Cooperators on C...       PLOS  3.2582638   \n",
       "7  The Good, the Bad, and the Rare: Memory for Pa...       PLOS  1.1111743   \n",
       "8  The Good, the Bad, and the Rare: Memory for Pa...       PLOS  1.1111743   \n",
       "9  The Good, the Bad, and the Rare: Memory for Pa...       PLOS  1.1111743   \n",
       "\n",
       "   read                        unique_key  date  \\\n",
       "0  None  00660e6b2eedbebaf611cafc864ed1e4  2014   \n",
       "1  None  00660e6b2eedbebaf611cafc864ed1e4  2014   \n",
       "2  None  00660e6b2eedbebaf611cafc864ed1e4  2014   \n",
       "3  None  0091a50bfd4c106e273c9132da6d33ac  2013   \n",
       "4  None  0091a50bfd4c106e273c9132da6d33ac  2013   \n",
       "5  None  0091a50bfd4c106e273c9132da6d33ac  2013   \n",
       "6  None  0091a50bfd4c106e273c9132da6d33ac  2013   \n",
       "7  None  00b1b64eda8418c0e3706f43e894a206  2011   \n",
       "8  None  00b1b64eda8418c0e3706f43e894a206  2011   \n",
       "9  None  00b1b64eda8418c0e3706f43e894a206  2011   \n",
       "\n",
       "                                            abstract              author  \\\n",
       "0  We use replicator dynamics to study an iterate...      Myungkyoon Roh   \n",
       "1  We use replicator dynamics to study an iterate...       Seung-Woo Son   \n",
       "2  We use replicator dynamics to study an iterate...       Young Jin Kim   \n",
       "3  We investigate the influence of initial fracti...        Eriko Fukuda   \n",
       "4  We investigate the influence of initial fracti...        Jun Tanimoto   \n",
       "5  We investigate the influence of initial fracti...       Keizo Shigaki   \n",
       "6  We investigate the influence of initial fracti...           Zhen Wang   \n",
       "7  For cooperation to evolve via direct reciproci...  Jeffrey R. Stevens   \n",
       "8  For cooperation to evolve via direct reciproci...      Jenny Volstorf   \n",
       "9  For cooperation to evolve via direct reciproci...       Jörg Rieskamp   \n",
       "\n",
       "                                             journal labels key_word  \\\n",
       "0  The Korean Physical Society February 2014, Vol...   None     None   \n",
       "1  The Korean Physical Society February 2014, Vol...   None     None   \n",
       "2  The Korean Physical Society February 2014, Vol...   None     None   \n",
       "3                                           PLoS ONE   None     None   \n",
       "4                                           PLoS ONE   None     None   \n",
       "5                                           PLoS ONE   None     None   \n",
       "6                                           PLoS ONE   None     None   \n",
       "7                                           PLoS ONE   None     None   \n",
       "8                                           PLoS ONE   None     None   \n",
       "9                                           PLoS ONE   None     None   \n",
       "\n",
       "  list_strategies pages           key  \n",
       "0            None  None       Kim2014  \n",
       "1            None  None       Kim2014  \n",
       "2            None  None       Kim2014  \n",
       "3            None  None   Shigaki2013  \n",
       "4            None  None   Shigaki2013  \n",
       "5            None  None   Shigaki2013  \n",
       "6            None  None   Shigaki2013  \n",
       "7            None  None  Volstorf2011  \n",
       "8            None  None  Volstorf2011  \n",
       "9            None  None  Volstorf2011  "
      ]
     },
     "execution_count": 14,
     "metadata": {},
     "output_type": "execute_result"
    }
   ],
   "source": [
    "df.head(10)"
   ]
  },
  {
   "cell_type": "code",
   "execution_count": null,
   "metadata": {
    "collapsed": true
   },
   "outputs": [],
   "source": []
  },
  {
   "cell_type": "code",
   "execution_count": null,
   "metadata": {
    "collapsed": true
   },
   "outputs": [],
   "source": []
  }
 ],
 "metadata": {
  "anaconda-cloud": {},
  "kernelspec": {
   "display_name": "Python [conda env:literature]",
   "language": "python",
   "name": "conda-env-literature-py"
  },
  "language_info": {
   "codemirror_mode": {
    "name": "ipython",
    "version": 3
   },
   "file_extension": ".py",
   "mimetype": "text/x-python",
   "name": "python",
   "nbconvert_exporter": "python",
   "pygments_lexer": "ipython3",
   "version": "3.6.0"
  }
 },
 "nbformat": 4,
 "nbformat_minor": 2
}
