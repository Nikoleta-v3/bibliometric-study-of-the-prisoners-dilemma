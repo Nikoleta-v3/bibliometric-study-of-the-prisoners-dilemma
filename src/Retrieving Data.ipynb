{
 "cells": [
  {
   "cell_type": "markdown",
   "metadata": {},
   "source": [
    "Retrieving data from Axelbib\n",
    "===========================\n",
    "At this stage the data are within the django data base Axelbib. There they have been \n",
    "cleaned and missing information has been manually filled in. \n",
    "\n",
    "Axelbib has a django rest framework. \n",
    "The data will be retrieved by the rest framework in a json format\n",
    "and will be push into a pandas dataframe following the Arcas structure."
   ]
  },
  {
   "cell_type": "code",
   "execution_count": 1,
   "metadata": {
    "collapsed": true
   },
   "outputs": [],
   "source": [
    "import requests\n",
    "import pandas as pd\n",
    "from itertools import product\n",
    "import collections\n",
    "import json\n",
    "from pandas.io.json import json_normalize"
   ]
  },
  {
   "cell_type": "code",
   "execution_count": 2,
   "metadata": {
    "collapsed": true
   },
   "outputs": [],
   "source": [
    "from password import password"
   ]
  },
  {
   "cell_type": "code",
   "execution_count": 3,
   "metadata": {
    "collapsed": true
   },
   "outputs": [],
   "source": [
    "keys = ['title', 'provenance', 'score', 'read', 'unique_key',\n",
    "        'date', 'abstract', 'author', 'journal', 'labels',\n",
    "        'key_word', 'list_strategies', 'pages', 'key']"
   ]
  },
  {
   "cell_type": "code",
   "execution_count": 4,
   "metadata": {
    "collapsed": false
   },
   "outputs": [],
   "source": [
    "def raw_to_db(an_article):\n",
    "    an_article['author'] = [f['name'] for f in an_article['author']]\n",
    "    an_article['key_word'] = [f['key_word'] for f in an_article['key_word']]\n",
    "    an_article['date'] = an_article['date']['year']\n",
    "    an_article['labels'] = [f['label'] for f in an_article['labels']]\n",
    "    \n",
    "    for _, field in enumerate(an_article):\n",
    "        if not an_article[field]:\n",
    "            an_article[field] = ['None']\n",
    "   \n",
    "    values = []\n",
    "    for key in keys:\n",
    "        if type(an_article[key]) is not list:\n",
    "            values.append([an_article[key]])\n",
    "        else:\n",
    "            values.append(an_article[key])\n",
    "    data = []\n",
    "    for row in product(*values):\n",
    "        data.append(row)\n",
    "    df = pd.DataFrame(data, columns=keys)    \n",
    "    return df"
   ]
  },
  {
   "cell_type": "code",
   "execution_count": 5,
   "metadata": {
    "collapsed": false
   },
   "outputs": [],
   "source": [
    "page = 1\n",
    "status = 200\n",
    "dfs = []\n",
    "while page <= 115:\n",
    "    req = requests.get('http://127.0.0.1:8000/article/?page={}'.format(page), auth=(\"nikoleta\", password))\n",
    "    status =  req.status_code\n",
    "    page += 1\n",
    "    results_of_req = req.json()['results']\n",
    "    for raw_article in results_of_req:\n",
    "        df = raw_to_db(raw_article)\n",
    "        dfs.append(df)        "
   ]
  },
  {
   "cell_type": "code",
   "execution_count": 6,
   "metadata": {
    "collapsed": false
   },
   "outputs": [],
   "source": [
    "df = pd.concat(dfs, ignore_index=True)"
   ]
  },
  {
   "cell_type": "code",
   "execution_count": 7,
   "metadata": {
    "collapsed": false
   },
   "outputs": [
    {
     "data": {
      "text/plain": [
       "(1145, 11034, 1145)"
      ]
     },
     "execution_count": 7,
     "metadata": {},
     "output_type": "execute_result"
    }
   ],
   "source": [
    "len(dfs), len(df), len(df.groupby(\"unique_key\").count())"
   ]
  },
  {
   "cell_type": "code",
   "execution_count": 8,
   "metadata": {
    "collapsed": true
   },
   "outputs": [],
   "source": [
    "df.to_json('data.json')"
   ]
  },
  {
   "cell_type": "code",
   "execution_count": null,
   "metadata": {
    "collapsed": true
   },
   "outputs": [],
   "source": []
  }
 ],
 "metadata": {
  "anaconda-cloud": {},
  "kernelspec": {
   "display_name": "Python [conda env:literature]",
   "language": "python",
   "name": "conda-env-literature-py"
  },
  "language_info": {
   "codemirror_mode": {
    "name": "ipython",
    "version": 3
   },
   "file_extension": ".py",
   "mimetype": "text/x-python",
   "name": "python",
   "nbconvert_exporter": "python",
   "pygments_lexer": "ipython3",
   "version": "3.6.0"
  }
 },
 "nbformat": 4,
 "nbformat_minor": 2
}
