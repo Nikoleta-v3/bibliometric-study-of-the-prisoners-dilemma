{
 "cells": [
  {
   "cell_type": "code",
   "execution_count": 1,
   "metadata": {
    "collapsed": true
   },
   "outputs": [],
   "source": [
    "import glob"
   ]
  },
  {
   "cell_type": "code",
   "execution_count": 2,
   "metadata": {
    "collapsed": true
   },
   "outputs": [],
   "source": [
    "import pandas as pd"
   ]
  },
  {
   "cell_type": "code",
   "execution_count": 94,
   "metadata": {
    "collapsed": true
   },
   "outputs": [],
   "source": [
    "import requests\n",
    "import json"
   ]
  },
  {
   "cell_type": "code",
   "execution_count": 90,
   "metadata": {
    "collapsed": true
   },
   "outputs": [],
   "source": [
    "from password import password"
   ]
  },
  {
   "cell_type": "code",
   "execution_count": 3,
   "metadata": {
    "collapsed": true
   },
   "outputs": [],
   "source": [
    "words = [\"prisoner's dilemma\", \"prisoner’s dilemma\", \"prisoners evolution\",\n",
    "         \"prisoner dilemma\", \"prisoner game theory\", \"memory one strategy\",\n",
    "         \"tit for tat\", \"tit-for-tat\", \"zero determinant strategy\"]"
   ]
  },
  {
   "cell_type": "code",
   "execution_count": 4,
   "metadata": {},
   "outputs": [],
   "source": [
    "dfs = []\n",
    "for filename in glob.glob('articles/*.json'):\n",
    "    dfs.append(pd.read_json(filename))"
   ]
  },
  {
   "cell_type": "code",
   "execution_count": 5,
   "metadata": {
    "collapsed": true
   },
   "outputs": [],
   "source": [
    "df = pd.concat(dfs, ignore_index=True)"
   ]
  },
  {
   "cell_type": "code",
   "execution_count": 6,
   "metadata": {},
   "outputs": [
    {
     "data": {
      "text/plain": [
       "1325"
      ]
     },
     "execution_count": 6,
     "metadata": {},
     "output_type": "execute_result"
    }
   ],
   "source": [
    "len(df['unique_key'].unique())"
   ]
  },
  {
   "cell_type": "code",
   "execution_count": 7,
   "metadata": {},
   "outputs": [],
   "source": [
    "df = df[df['date'] == 2017]"
   ]
  },
  {
   "cell_type": "code",
   "execution_count": 68,
   "metadata": {},
   "outputs": [
    {
     "data": {
      "text/plain": [
       "7131"
      ]
     },
     "execution_count": 68,
     "metadata": {},
     "output_type": "execute_result"
    }
   ],
   "source": [
    "size = len(df)\n",
    "size"
   ]
  },
  {
   "cell_type": "code",
   "execution_count": 69,
   "metadata": {},
   "outputs": [
    {
     "data": {
      "text/plain": [
       "645"
      ]
     },
     "execution_count": 69,
     "metadata": {},
     "output_type": "execute_result"
    }
   ],
   "source": [
    "len(df['unique_key'].unique())"
   ]
  },
  {
   "cell_type": "code",
   "execution_count": 70,
   "metadata": {},
   "outputs": [],
   "source": [
    "the_list = []\n",
    "for title in df.title:\n",
    "    l = []\n",
    "    for key in words:\n",
    "        if key in title:\n",
    "            l.append(True)\n",
    "        else:\n",
    "            l.append(False)\n",
    "    the_list.append(l)"
   ]
  },
  {
   "cell_type": "code",
   "execution_count": 71,
   "metadata": {},
   "outputs": [],
   "source": [
    "title_check = [sum(item) for item in the_list]"
   ]
  },
  {
   "cell_type": "code",
   "execution_count": 72,
   "metadata": {},
   "outputs": [],
   "source": [
    "the_list = []\n",
    "for ab in df.abstract:\n",
    "    if ab is not None:\n",
    "        l = []\n",
    "        for w in words:\n",
    "            if w in ab:\n",
    "                l.append(True)\n",
    "            else:\n",
    "                l.append(False)\n",
    "        the_list.append(l)\n",
    "    else:\n",
    "        the_list.append([False])"
   ]
  },
  {
   "cell_type": "code",
   "execution_count": 73,
   "metadata": {},
   "outputs": [],
   "source": [
    "abst_check = [sum(l) for l in the_list]"
   ]
  },
  {
   "cell_type": "code",
   "execution_count": 74,
   "metadata": {},
   "outputs": [],
   "source": [
    "flag = [bool(title_check[i] + abst_check[i]) for i in range(size)]"
   ]
  },
  {
   "cell_type": "code",
   "execution_count": 75,
   "metadata": {},
   "outputs": [],
   "source": [
    "articles = df[flag]"
   ]
  },
  {
   "cell_type": "code",
   "execution_count": 76,
   "metadata": {},
   "outputs": [
    {
     "data": {
      "text/plain": [
       "12"
      ]
     },
     "execution_count": 76,
     "metadata": {},
     "output_type": "execute_result"
    }
   ],
   "source": [
    "len(articles['unique_key'].unique())"
   ]
  },
  {
   "cell_type": "code",
   "execution_count": 97,
   "metadata": {},
   "outputs": [
    {
     "data": {
      "text/plain": [
       "array([ 'The co-evolution of networks and prisoner’s dilemma game by considering sensitivity and visibility',\n",
       "       \"A leader-based cooperation-prompt protocol for the prisoner's dilemma game in multi-agent systems\",\n",
       "       'Anti-Malicious Crowdsourcing Using the Zero-Determinant Strategy',\n",
       "       'Learning with Opponent-Learning Awareness',\n",
       "       'Evolutionary fate of memory-one strategies in repeated prisoner’s dilemma game in structured populations',\n",
       "       \"Demographic Prisoner's Dilemma : a probabilistic framework\",\n",
       "       'Duality between cooperation and defection in the presence of tit-for-tat\\n  in replicator dynamics',\n",
       "       'Cooperation of Improved Hk Networks Based on Prisoner Dilemma Game',\n",
       "       \"Evolution Reinforces Cooperation with the Emergence of Self-Recognition\\n  Mechanisms: an empirical study of the Moran process for the iterated\\n  Prisoner's dilemma\",\n",
       "       'Privacy Protection-Oriented Mobile Crowdsensing Analysis Based on Game Theory',\n",
       "       'Uncertainty measurement with belief entropy on interference effect in\\n  Quantum-Like Bayesian Networks',\n",
       "       'Zero-determinant strategies in finitely repeated games'], dtype=object)"
      ]
     },
     "execution_count": 97,
     "metadata": {},
     "output_type": "execute_result"
    }
   ],
   "source": [
    "articles['title'].unique()"
   ]
  },
  {
   "cell_type": "code",
   "execution_count": 98,
   "metadata": {
    "collapsed": true
   },
   "outputs": [],
   "source": [
    "def post_to_axelbib(post):\n",
    "    \"\"\"A function for posting to Axelbib\n",
    "    \"\"\"\n",
    "    url = 'http://127.0.0.1:8000/article/'\n",
    "    headers = {'Content-Type': 'application/json'}\n",
    "    r = requests.post(url, data=json.dumps(post), auth=('nikoleta', password),\n",
    "                       headers=headers)\n",
    "    return r.status_code"
   ]
  },
  {
   "cell_type": "code",
   "execution_count": 96,
   "metadata": {},
   "outputs": [
    {
     "name": "stdout",
     "output_type": "stream",
     "text": [
      "Li2017 The co-evolution of networks and prisoner’s dilemma game by considering sensitivity and visibility 400\n",
      "Huang2017 Uncertainty measurement with belief entropy on interference effect in\n",
      "  Quantum-Like Bayesian Networks 400\n",
      "Foerster2017 Learning with Opponent-Learning Awareness 400\n",
      "Guo2017 A leader-based cooperation-prompt protocol for the prisoner's dilemma game in multi-agent systems 400\n",
      "Ichinose2017 Zero-determinant strategies in finitely repeated games 400\n",
      "Baek2017 Duality between cooperation and defection in the presence of tit-for-tat\n",
      "  in replicator dynamics 400\n",
      "Knight2017 Evolution Reinforces Cooperation with the Emergence of Self-Recognition\n",
      "  Mechanisms: an empirical study of the Moran process for the iterated\n",
      "  Prisoner's dilemma 400\n",
      "Ma2017 Privacy Protection-Oriented Mobile Crowdsensing Analysis Based on Game Theory 400\n",
      "Gibaud2017 Demographic Prisoner's Dilemma : a probabilistic framework 400\n",
      "Hu2017 Anti-Malicious Crowdsourcing Using the Zero-Determinant Strategy 400\n",
      "Xu-Sheng2017 Evolutionary fate of memory-one strategies in repeated prisoner’s dilemma game in structured populations 400\n",
      "Deng2017 Cooperation of Improved Hk Networks Based on Prisoner Dilemma Game 400\n"
     ]
    }
   ],
   "source": [
    "for label, group in articles.groupby(\"unique_key\"):\n",
    "    post = {}\n",
    "    post['title'] = group['title'].unique()[0]\n",
    "    post['author'] = [{'name': v} for v in group['author'].unique()]\n",
    "    post['date'] = {'year': str(group['date'].unique()[0])}\n",
    "    post['abstract'] = group['abstract'].unique()[0]\n",
    "    post['key'] = group['key'].unique()[0]\n",
    "    post['unique_key'] = label\n",
    "    post['labels'] = []\n",
    "    post['pages'] = group['pages'].unique()[0]\n",
    "    post['journal'] = group['journal'].unique()[0]\n",
    "    post['list_strategies'] = []\n",
    "    post['read'] = False\n",
    "    post['key_word'] = [{'key_word': v} for v in group['key_word'].unique()]\n",
    "    post['provenance'] = group['provenance'].unique()[0]\n",
    "    post['score'] =  group['score'].unique()[0]\n",
    "    \n",
    "    st = post_to_axelbib(post)\n",
    "    \n",
    "    print(post['key'], post['title'], st)"
   ]
  },
  {
   "cell_type": "code",
   "execution_count": null,
   "metadata": {
    "collapsed": true
   },
   "outputs": [],
   "source": []
  }
 ],
 "metadata": {
  "anaconda-cloud": {},
  "kernelspec": {
   "display_name": "Python [conda env:literature]",
   "language": "python",
   "name": "conda-env-literature-py"
  },
  "language_info": {
   "codemirror_mode": {
    "name": "ipython",
    "version": 3
   },
   "file_extension": ".py",
   "mimetype": "text/x-python",
   "name": "python",
   "nbconvert_exporter": "python",
   "pygments_lexer": "ipython3",
   "version": "3.6.0"
  }
 },
 "nbformat": 4,
 "nbformat_minor": 2
}
