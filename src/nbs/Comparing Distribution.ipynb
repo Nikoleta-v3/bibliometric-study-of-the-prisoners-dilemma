{
 "cells": [
  {
   "cell_type": "code",
   "execution_count": 1,
   "metadata": {},
   "outputs": [],
   "source": [
    "from scipy import stats"
   ]
  },
  {
   "cell_type": "code",
   "execution_count": 2,
   "metadata": {
    "collapsed": true
   },
   "outputs": [],
   "source": [
    "from sklearn import preprocessing"
   ]
  },
  {
   "cell_type": "code",
   "execution_count": 3,
   "metadata": {
    "collapsed": true
   },
   "outputs": [],
   "source": [
    "def test_normality(distribution):\n",
    "    alpha = 0.05\n",
    "    z, p = stats.mstats.normaltest(distribution)\n",
    "\n",
    "    if p < alpha:  # null hypothesis: x comes from a normal distribution\n",
    "        print(\"The null hypothesis can be rejected. It is not normally distributed.\")\n",
    "    else:\n",
    "        print(\"The null hypothesis cannot be rejected. It is normally distributed.\")"
   ]
  },
  {
   "cell_type": "code",
   "execution_count": 4,
   "metadata": {
    "collapsed": true
   },
   "outputs": [],
   "source": [
    "def test_kruskal(distributions):\n",
    "    alpha = 0.05\n",
    "    _, p = stats.kruskal(distributions[0],distributions[1], distributions[2])\n",
    "    \n",
    "    if p < alpha:  # null hypothesis: x comes from a normal distribution\n",
    "        print(p, \"The null hypothesis can be rejected.\")\n",
    "    else:\n",
    "        print(p, \"The null hypothesis cannot be rejected.\")"
   ]
  },
  {
   "cell_type": "code",
   "execution_count": 35,
   "metadata": {
    "collapsed": true
   },
   "outputs": [],
   "source": [
    "def test_mannwhitneyu(distributions, alternative):\n",
    "    alpha = 0.05\n",
    "    _, p = stats.mannwhitneyu(distributions[0],distributions[1], alternative=alternative)\n",
    "    \n",
    "    if p < alpha:  # null hypothesis: x comes from a normal distribution\n",
    "        print(p, \"The null hypothesis can be rejected.\")\n",
    "    else:\n",
    "        print(p, \"The null hypothesis cannot be rejected.\")"
   ]
  },
  {
   "cell_type": "code",
   "execution_count": 36,
   "metadata": {
    "collapsed": true
   },
   "outputs": [],
   "source": [
    "with open('pd_bc_dist.tex', 'r') as textfile:\n",
    "    pd_bc = textfile.read()"
   ]
  },
  {
   "cell_type": "code",
   "execution_count": 37,
   "metadata": {},
   "outputs": [],
   "source": [
    "with open('pa_bc_dist.tex', 'r') as textfile:\n",
    "    pa_bc = textfile.read()"
   ]
  },
  {
   "cell_type": "code",
   "execution_count": 38,
   "metadata": {},
   "outputs": [],
   "source": [
    "with open('ag_bc_dist.tex', 'r') as textfile:\n",
    "    ag_bc = textfile.read()"
   ]
  },
  {
   "cell_type": "code",
   "execution_count": 39,
   "metadata": {},
   "outputs": [],
   "source": [
    "pd_bc = [float(i) for i in pd_bc.replace('[', '').replace(']', '').split(',')]"
   ]
  },
  {
   "cell_type": "code",
   "execution_count": 40,
   "metadata": {
    "collapsed": true
   },
   "outputs": [],
   "source": [
    "pa_bc = [float(i) for i in pa_bc.replace('[', '').replace(']', '').split(',')]\n",
    "ag_bc = [float(i) for i in ag_bc.replace('[', '').replace(']', '').split(',')]"
   ]
  },
  {
   "cell_type": "code",
   "execution_count": 91,
   "metadata": {},
   "outputs": [
    {
     "name": "stdout",
     "output_type": "stream",
     "text": [
      "0.04392693493493974 The null hypothesis can be rejected.\n"
     ]
    }
   ],
   "source": [
    "test_mannwhitneyu([pd_bc, pa_bc], 'less')"
   ]
  },
  {
   "cell_type": "code",
   "execution_count": 92,
   "metadata": {},
   "outputs": [
    {
     "name": "stdout",
     "output_type": "stream",
     "text": [
      "1.370159967902306e-08 The null hypothesis can be rejected.\n"
     ]
    }
   ],
   "source": [
    "test_mannwhitneyu([pd_bc, ag_bc], 'less')"
   ]
  },
  {
   "cell_type": "code",
   "execution_count": 43,
   "metadata": {
    "collapsed": true
   },
   "outputs": [],
   "source": [
    "import matplotlib.pyplot as plt\n",
    "\n",
    "%matplotlib inline"
   ]
  },
  {
   "cell_type": "code",
   "execution_count": 45,
   "metadata": {},
   "outputs": [
    {
     "data": {
      "image/png": "[encoded data removed]",
      "text/plain": [
       "<matplotlib.figure.Figure at 0x7fa313365a58>"
      ]
     },
     "metadata": {},
     "output_type": "display_data"
    }
   ],
   "source": [
    "fig, axes = plt.subplots(nrows=1, ncols=3, figsize=(25, 5))\n",
    "axes[0].hist(pd_bc)\n",
    "axes[1].hist(pa_bc)\n",
    "axes[2].hist(ag_bc);"
   ]
  },
  {
   "cell_type": "code",
   "execution_count": 69,
   "metadata": {
    "collapsed": true
   },
   "outputs": [],
   "source": [
    "with open('pd_cc_dist.tex', 'r') as textfile:\n",
    "    pd_cc = textfile.read()"
   ]
  },
  {
   "cell_type": "code",
   "execution_count": 70,
   "metadata": {
    "collapsed": true
   },
   "outputs": [],
   "source": [
    "with open('pa_cc_dist.tex', 'r') as textfile:\n",
    "    pa_cc = textfile.read()"
   ]
  },
  {
   "cell_type": "code",
   "execution_count": 71,
   "metadata": {
    "collapsed": true
   },
   "outputs": [],
   "source": [
    "with open('ag_cc_dist.tex', 'r') as textfile:\n",
    "    ag_cc = textfile.read()"
   ]
  },
  {
   "cell_type": "code",
   "execution_count": 72,
   "metadata": {},
   "outputs": [],
   "source": [
    "pd_cc = [float(i) for i in pd_cc.replace('[', '').replace(']', '').split(',')]\n",
    "pa_cc = [float(i) for i in pa_cc.replace('[', '').replace(']', '').split(',')]\n",
    "ag_cc = [float(i) for i in ag_cc.replace('[', '').replace(']', '').split(',')]"
   ]
  },
  {
   "cell_type": "code",
   "execution_count": 74,
   "metadata": {},
   "outputs": [
    {
     "data": {
      "image/png": "[encoded data removed]",
      "text/plain": [
       "<matplotlib.figure.Figure at 0x7fa31289f320>"
      ]
     },
     "metadata": {},
     "output_type": "display_data"
    }
   ],
   "source": [
    "fig, axes = plt.subplots(nrows=1, ncols=3, figsize=(25, 5))\n",
    "axes[0].hist(pd_cc)\n",
    "axes[1].hist(pa_cc)\n",
    "axes[2].hist(ag_cc);"
   ]
  },
  {
   "cell_type": "code",
   "execution_count": 89,
   "metadata": {},
   "outputs": [
    {
     "name": "stdout",
     "output_type": "stream",
     "text": [
      "0.0 The null hypothesis can be rejected.\n"
     ]
    }
   ],
   "source": [
    "test_mannwhitneyu([pd_bc, pa_cc], 'less')"
   ]
  },
  {
   "cell_type": "code",
   "execution_count": 90,
   "metadata": {},
   "outputs": [
    {
     "name": "stdout",
     "output_type": "stream",
     "text": [
      "4.1004871881052316e-08 The null hypothesis can be rejected.\n"
     ]
    }
   ],
   "source": [
    "test_mannwhitneyu([pd_cc, ag_cc], 'greater')"
   ]
  },
  {
   "cell_type": "code",
   "execution_count": 87,
   "metadata": {},
   "outputs": [
    {
     "data": {
      "text/plain": [
       "0.0"
      ]
     },
     "execution_count": 87,
     "metadata": {},
     "output_type": "execute_result"
    }
   ],
   "source": [
    "round(1.370159967902306e-08, 7)"
   ]
  },
  {
   "cell_type": "code",
   "execution_count": null,
   "metadata": {
    "collapsed": true
   },
   "outputs": [],
   "source": []
  }
 ],
 "metadata": {
  "anaconda-cloud": {},
  "kernelspec": {
   "display_name": "Python [conda env:literature]",
   "language": "python",
   "name": "conda-env-literature-py"
  },
  "language_info": {
   "codemirror_mode": {
    "name": "ipython",
    "version": 3
   },
   "file_extension": ".py",
   "mimetype": "text/x-python",
   "name": "python",
   "nbconvert_exporter": "python",
   "pygments_lexer": "ipython3",
   "version": "3.6.0"
  }
 },
 "nbformat": 4,
 "nbformat_minor": 2
}
