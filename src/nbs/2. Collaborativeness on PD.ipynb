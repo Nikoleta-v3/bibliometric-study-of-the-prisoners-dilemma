{
 "cells": [
  {
   "cell_type": "code",
   "execution_count": 1,
   "metadata": {},
   "outputs": [],
   "source": [
    "import matplotlib\n",
    "import matplotlib.pyplot as plt\n"
   ]
  },
  {
   "cell_type": "code",
   "execution_count": 2,
   "metadata": {},
   "outputs": [],
   "source": [
    "import networkx as nx\n",
    "import community\n",
    "import pandas as pd\n",
    "\n",
    "import numpy as np\n",
    "import json\n"
   ]
  },
  {
   "cell_type": "code",
   "execution_count": 3,
   "metadata": {},
   "outputs": [],
   "source": [
    "import collections"
   ]
  },
  {
   "cell_type": "code",
   "execution_count": 4,
   "metadata": {},
   "outputs": [],
   "source": [
    "from networkx.algorithms.community import greedy_modularity_communities\n"
   ]
  },
  {
   "cell_type": "code",
   "execution_count": 5,
   "metadata": {},
   "outputs": [],
   "source": [
    "from importlib.machinery import SourceFileLoader\n",
    "\n",
    "tools = SourceFileLoader(\"tools\", \"../tools.py\").load_module()\n",
    "\n",
    "from tools import write_to_file, test_kruskal\n"
   ]
  },
  {
   "cell_type": "code",
   "execution_count": 6,
   "metadata": {},
   "outputs": [],
   "source": [
    "%matplotlib inline\n",
    "\n",
    "import matplotlib.patches as mpatches\n",
    "import matplotlib.lines as lines\n",
    "\n",
    "font = {'size'   : 10,\n",
    "        'weight': 'bold'}\n",
    "matplotlib.rc('font', **font)"
   ]
  },
  {
   "cell_type": "code",
   "execution_count": 7,
   "metadata": {},
   "outputs": [],
   "source": [
    "df = pd.read_csv(\"../data/prisoners_dilemma_articles_meta_data_clean.csv\")\n"
   ]
  },
  {
   "cell_type": "code",
   "execution_count": 8,
   "metadata": {},
   "outputs": [],
   "source": [
    "periods = np.sort(df[\"date\"].unique())\n",
    "periods = periods[~np.isnan(periods)]\n",
    "periods = periods[1:]"
   ]
  },
  {
   "cell_type": "markdown",
   "metadata": {},
   "source": [
    " Collaborativeness \n",
    "---------------------------"
   ]
  },
  {
   "cell_type": "code",
   "execution_count": 9,
   "metadata": {},
   "outputs": [],
   "source": [
    "graph = nx.read_gml(\"../data/networks/pd_new_graph.gml\")"
   ]
  },
  {
   "cell_type": "markdown",
   "metadata": {},
   "source": [
    "Illustrating co-authors network\n",
    "------------------------"
   ]
  },
  {
   "cell_type": "markdown",
   "metadata": {},
   "source": [
    "**Use Gephi**"
   ]
  },
  {
   "cell_type": "markdown",
   "metadata": {},
   "source": [
    "Network Metrics\n",
    "-----------------------"
   ]
  },
  {
   "cell_type": "code",
   "execution_count": 10,
   "metadata": {},
   "outputs": [],
   "source": [
    "number_edges = nx.number_of_edges(graph)\n",
    "number_nodes = nx.number_of_nodes(graph)\n"
   ]
  },
  {
   "cell_type": "code",
   "execution_count": 11,
   "metadata": {},
   "outputs": [],
   "source": [
    "for filename, metric in zip([\"pd_edges.txt\", \"pd_unique_authors.txt\"],\n",
    "                            [number_edges, number_nodes]\n",
    "):\n",
    "    write_to_file(filename=filename, metric=metric)\n"
   ]
  },
  {
   "cell_type": "code",
   "execution_count": 12,
   "metadata": {},
   "outputs": [],
   "source": [
    "def fix_names_for_table(name):\n",
    "    name = name.title()\n",
    "    return name\n",
    "\n"
   ]
  },
  {
   "cell_type": "markdown",
   "metadata": {},
   "source": [
    "Collaborative Behaviour\n",
    "-----------------------------"
   ]
  },
  {
   "cell_type": "code",
   "execution_count": 13,
   "metadata": {},
   "outputs": [],
   "source": [
    "def collaborative_metrics_of_graph(graph):\n",
    "    \"\"\"\n",
    "    Returns the following metrics:\n",
    "    - number of nodes\n",
    "    - number of edges\n",
    "    - number of isolated authors\n",
    "    - percentage of isolated authors\n",
    "    - number of connected components\n",
    "    - size of the largest connected component\n",
    "    - average degree\n",
    "    - clustering coefficients\n",
    "    - modularity\n",
    "    \"\"\"\n",
    "    num_nodes = nx.number_of_nodes(graph)\n",
    "    num_edges = nx.number_of_edges(graph)\n",
    "    isolated_nodes = len(list(nx.isolates(graph)))\n",
    "    percentage_isolated_nodes = np.round(isolated_nodes / num_nodes, 3) * 100\n",
    "    number_connected_components = nx.number_connected_components(graph)\n",
    "    size_of_largest_cc = len(max(nx.connected_components(graph), key=len))\n",
    "\n",
    "    degree_distribution = sorted([d for n, d in graph.degree()], reverse=True)\n",
    "    av_degree = np.round(np.mean(degree_distribution), 3)\n",
    "\n",
    "    clustering_coeff = round(nx.average_clustering(graph), 3)\n",
    "\n",
    "    try:\n",
    "        number_of_communities = len(list(greedy_modularity_communities(graph)))\n",
    "    except ZeroDivisionError:\n",
    "        number_of_communities = \"-\"\n",
    "\n",
    "    communities = community.best_partition(graph)\n",
    "    try:\n",
    "        modularity = community.modularity(partition=communities, graph=graph)\n",
    "    except ValueError:\n",
    "        modularity = \"-\"\n",
    "\n",
    "    metrics = {\n",
    "        \"# Nodes\": num_nodes,\n",
    "        \"# Edges\": num_edges,\n",
    "        \"# Isolated nodes\": isolated_nodes,\n",
    "        \"% Isolated nodes\": round(percentage_isolated_nodes, 3),\n",
    "        \"# Connected components\": number_connected_components,\n",
    "        \"Size of largest component\": size_of_largest_cc,\n",
    "        \"Av. degree\": av_degree,\n",
    "        \"Clustering coeff\": clustering_coeff,\n",
    "        \"# Communities\": number_of_communities,\n",
    "        \"Modularity\": modularity,\n",
    "    }\n",
    "\n",
    "    return metrics, degree_distribution\n"
   ]
  },
  {
   "cell_type": "markdown",
   "metadata": {},
   "source": [
    "**Network Metrics**"
   ]
  },
  {
   "cell_type": "code",
   "execution_count": 14,
   "metadata": {},
   "outputs": [],
   "source": [
    "metrics = collaborative_metrics_of_graph(graph)[0]\n"
   ]
  },
  {
   "cell_type": "code",
   "execution_count": 15,
   "metadata": {},
   "outputs": [
    {
     "data": {
      "text/plain": [
       "{'# Nodes': 4011,\n",
       " '# Edges': 7642,\n",
       " '# Isolated nodes': 128,\n",
       " '% Isolated nodes': 3.2,\n",
       " '# Connected components': 947,\n",
       " 'Size of largest component': 796,\n",
       " 'Av. degree': 3.811,\n",
       " 'Clustering coeff': 0.701,\n",
       " '# Communities': 967,\n",
       " 'Modularity': 0.9656214920903332}"
      ]
     },
     "execution_count": 15,
     "metadata": {},
     "output_type": "execute_result"
    }
   ],
   "source": [
    "metrics\n"
   ]
  },
  {
   "cell_type": "code",
   "execution_count": 16,
   "metadata": {},
   "outputs": [],
   "source": [
    "degree_dstrs = collaborative_metrics_of_graph(graph)[1]"
   ]
  },
  {
   "cell_type": "code",
   "execution_count": 17,
   "metadata": {},
   "outputs": [],
   "source": [
    "# for key in metrics:\n",
    "#     filename = key.replace(\" \", \"_\").replace(\"#\", \"num\").replace(\"%\", \"perce\") + \".txt\"\n",
    "#     write_to_file(filename, metrics[key])\n"
   ]
  },
  {
   "cell_type": "markdown",
   "metadata": {},
   "source": [
    "**Analysing clusters**"
   ]
  },
  {
   "cell_type": "code",
   "execution_count": 18,
   "metadata": {},
   "outputs": [],
   "source": [
    "center_cluster = max(nx.connected_component_subgraphs(graph), key=len)\n"
   ]
  },
  {
   "cell_type": "code",
   "execution_count": 19,
   "metadata": {},
   "outputs": [],
   "source": [
    "center_cluster_metrics = collaborative_metrics_of_graph(center_cluster)[0]\n"
   ]
  },
  {
   "cell_type": "code",
   "execution_count": 20,
   "metadata": {},
   "outputs": [],
   "source": [
    "center_cluster_degrees = collaborative_metrics_of_graph(center_cluster)[1]\n",
    "\n"
   ]
  },
  {
   "cell_type": "markdown",
   "metadata": {},
   "source": [
    "**Tables**"
   ]
  },
  {
   "cell_type": "code",
   "execution_count": 21,
   "metadata": {},
   "outputs": [],
   "source": [
    "columns_order = [\n",
    "    \"# Nodes\",\n",
    "    \"# Edges\",\n",
    "    \"# Isolated nodes\",\n",
    "    \"% Isolated nodes\",\n",
    "    \"# Connected components\",\n",
    "    \"Size of largest component\",\n",
    "    \"Av. degree\",\n",
    "    \"# Communities\",\n",
    "    \"Modularity\",\n",
    "    \"Clustering coeff\",\n",
    "]\n"
   ]
  },
  {
   "cell_type": "code",
   "execution_count": 22,
   "metadata": {},
   "outputs": [],
   "source": [
    "metrics_table = pd.DataFrame.from_dict([metrics, center_cluster_metrics])\n",
    "metrics_table.index = [r\"$G$\", r\"$\\bar{G}$\"]"
   ]
  },
  {
   "cell_type": "code",
   "execution_count": 23,
   "metadata": {},
   "outputs": [],
   "source": [
    "# metrics_table = metrics_table[columns_order]"
   ]
  },
  {
   "cell_type": "code",
   "execution_count": 24,
   "metadata": {},
   "outputs": [],
   "source": [
    "# write_to_file(metric=metrics_table.to_latex(), filename=\"network_comparison.tex\")\n"
   ]
  },
  {
   "cell_type": "markdown",
   "metadata": {},
   "source": [
    "**Degree Distribution**"
   ]
  },
  {
   "cell_type": "code",
   "execution_count": 25,
   "metadata": {},
   "outputs": [
    {
     "data": {
      "text/plain": [
       "59"
      ]
     },
     "execution_count": 25,
     "metadata": {},
     "output_type": "execute_result"
    }
   ],
   "source": [
    "max(degree_dstrs)\n"
   ]
  },
  {
   "cell_type": "code",
   "execution_count": 26,
   "metadata": {},
   "outputs": [],
   "source": [
    "colors = [None, \"darkgreen\"]\n",
    "labels = [r'$G$', r'$\\bar{G}$']"
   ]
  },
  {
   "cell_type": "code",
   "execution_count": 27,
   "metadata": {},
   "outputs": [
    {
     "data": {
      "image/png": "[encoded data removed]",
      "text/plain": [
       "<Figure size 576x252 with 2 Axes>"
      ]
     },
     "metadata": {
      "needs_background": "light"
     },
     "output_type": "display_data"
    }
   ],
   "source": [
    "fig, axes = plt.subplots(ncols=2, figsize=(8, 3.5))\n",
    "\n",
    "for i, measure in enumerate([degree_dstrs, center_cluster_degrees]):\n",
    "    \n",
    "    weights = np.ones_like(measure) / float(len(measure))\n",
    "\n",
    "    axes[i].hist(measure, weights=weights, color=colors[i])\n",
    "    median = np.median(measure)\n",
    "    axes[i].axvline(median,\n",
    "                    color=\"sienna\",\n",
    "                    linestyle=\":\",\n",
    "                    linewidth=3,\n",
    "                    label=f\"median={median}\")\n",
    "    axes[i].set_title(labels[i])\n",
    "\n",
    "    axes[i].legend();\n",
    "\n",
    "plt.savefig(\"../../assets/images/networks_ditributions.pdf\")\n"
   ]
  },
  {
   "cell_type": "code",
   "execution_count": 28,
   "metadata": {
    "scrolled": true
   },
   "outputs": [
    {
     "data": {
      "text/html": [
       "<div>\n",
       "<style scoped>\n",
       "    .dataframe tbody tr th:only-of-type {\n",
       "        vertical-align: middle;\n",
       "    }\n",
       "\n",
       "    .dataframe tbody tr th {\n",
       "        vertical-align: top;\n",
       "    }\n",
       "\n",
       "    .dataframe thead th {\n",
       "        text-align: right;\n",
       "    }\n",
       "</style>\n",
       "<table border=\"1\" class=\"dataframe\">\n",
       "  <thead>\n",
       "    <tr style=\"text-align: right;\">\n",
       "      <th></th>\n",
       "      <th>0</th>\n",
       "    </tr>\n",
       "  </thead>\n",
       "  <tbody>\n",
       "    <tr>\n",
       "      <td>count</td>\n",
       "      <td>4011.000000</td>\n",
       "    </tr>\n",
       "    <tr>\n",
       "      <td>mean</td>\n",
       "      <td>3.810521</td>\n",
       "    </tr>\n",
       "    <tr>\n",
       "      <td>std</td>\n",
       "      <td>4.415118</td>\n",
       "    </tr>\n",
       "    <tr>\n",
       "      <td>min</td>\n",
       "      <td>0.000000</td>\n",
       "    </tr>\n",
       "    <tr>\n",
       "      <td>25%</td>\n",
       "      <td>2.000000</td>\n",
       "    </tr>\n",
       "    <tr>\n",
       "      <td>50%</td>\n",
       "      <td>3.000000</td>\n",
       "    </tr>\n",
       "    <tr>\n",
       "      <td>75%</td>\n",
       "      <td>5.000000</td>\n",
       "    </tr>\n",
       "    <tr>\n",
       "      <td>max</td>\n",
       "      <td>59.000000</td>\n",
       "    </tr>\n",
       "  </tbody>\n",
       "</table>\n",
       "</div>"
      ],
      "text/plain": [
       "                 0\n",
       "count  4011.000000\n",
       "mean      3.810521\n",
       "std       4.415118\n",
       "min       0.000000\n",
       "25%       2.000000\n",
       "50%       3.000000\n",
       "75%       5.000000\n",
       "max      59.000000"
      ]
     },
     "execution_count": 28,
     "metadata": {},
     "output_type": "execute_result"
    }
   ],
   "source": [
    "temp = pd.DataFrame(degree_dstrs)\n",
    "temp.describe()"
   ]
  },
  {
   "cell_type": "markdown",
   "metadata": {},
   "source": [
    "Cumulative Graphs\n",
    "---------"
   ]
  },
  {
   "cell_type": "code",
   "execution_count": 29,
   "metadata": {},
   "outputs": [],
   "source": [
    "linestyle = [\":o\", \"-.\", \"--\"]\n"
   ]
  },
  {
   "cell_type": "code",
   "execution_count": 30,
   "metadata": {},
   "outputs": [],
   "source": [
    "import glob\n"
   ]
  },
  {
   "cell_type": "code",
   "execution_count": 31,
   "metadata": {},
   "outputs": [],
   "source": [
    "years = sorted(df.date.unique())"
   ]
  },
  {
   "cell_type": "code",
   "execution_count": 32,
   "metadata": {},
   "outputs": [],
   "source": [
    "cumulative_graphs = []\n",
    "for year in years[:-1]:\n",
    "    cumulative_graphs.append(nx.read_gml(f\"../data/networks/yearly/G_pd_{int(year)}.gml\"))\n"
   ]
  },
  {
   "cell_type": "code",
   "execution_count": 33,
   "metadata": {},
   "outputs": [
    {
     "data": {
      "text/plain": [
       "57"
      ]
     },
     "execution_count": 33,
     "metadata": {},
     "output_type": "execute_result"
    }
   ],
   "source": [
    "len(cumulative_graphs)"
   ]
  },
  {
   "cell_type": "code",
   "execution_count": 34,
   "metadata": {},
   "outputs": [],
   "source": [
    "cumulative_clusters = [max(nx.connected_component_subgraphs(G), key=len) for G in cumulative_graphs[6:]]\n"
   ]
  },
  {
   "cell_type": "code",
   "execution_count": 35,
   "metadata": {},
   "outputs": [
    {
     "data": {
      "text/plain": [
       "(57, 51)"
      ]
     },
     "execution_count": 35,
     "metadata": {},
     "output_type": "execute_result"
    }
   ],
   "source": [
    "len(cumulative_graphs), len(cumulative_clusters)\n"
   ]
  },
  {
   "cell_type": "code",
   "execution_count": 36,
   "metadata": {},
   "outputs": [],
   "source": [
    "cumulative_metrics = [collaborative_metrics_of_graph(G)[0] for G in cumulative_graphs[6:]\n",
    "]\n"
   ]
  },
  {
   "cell_type": "code",
   "execution_count": 37,
   "metadata": {},
   "outputs": [],
   "source": [
    "cumulative_cluster_metrics = [collaborative_metrics_of_graph(G)[0] for G in cumulative_clusters]\n"
   ]
  },
  {
   "cell_type": "code",
   "execution_count": 38,
   "metadata": {},
   "outputs": [
    {
     "data": {
      "text/plain": [
       "51"
      ]
     },
     "execution_count": 38,
     "metadata": {},
     "output_type": "execute_result"
    }
   ],
   "source": [
    "len(cumulative_cluster_metrics)"
   ]
  },
  {
   "cell_type": "markdown",
   "metadata": {},
   "source": [
    "**Tables**"
   ]
  },
  {
   "cell_type": "code",
   "execution_count": 39,
   "metadata": {},
   "outputs": [],
   "source": [
    "# with open(\"../../assets/periods_dictionary.json\") as json_file:\n",
    "#     periods_dictionary = json.load(json_file)"
   ]
  },
  {
   "cell_type": "code",
   "execution_count": 40,
   "metadata": {},
   "outputs": [],
   "source": [
    "cumulative_table = pd.DataFrame.from_dict(cumulative_metrics).round(3)\n",
    "cumulative_table = cumulative_table[columns_order]\n"
   ]
  },
  {
   "cell_type": "code",
   "execution_count": 41,
   "metadata": {},
   "outputs": [
    {
     "data": {
      "text/html": [
       "<div>\n",
       "<style scoped>\n",
       "    .dataframe tbody tr th:only-of-type {\n",
       "        vertical-align: middle;\n",
       "    }\n",
       "\n",
       "    .dataframe tbody tr th {\n",
       "        vertical-align: top;\n",
       "    }\n",
       "\n",
       "    .dataframe thead th {\n",
       "        text-align: right;\n",
       "    }\n",
       "</style>\n",
       "<table border=\"1\" class=\"dataframe\">\n",
       "  <thead>\n",
       "    <tr style=\"text-align: right;\">\n",
       "      <th></th>\n",
       "      <th># Nodes</th>\n",
       "      <th># Edges</th>\n",
       "      <th># Isolated nodes</th>\n",
       "      <th>% Isolated nodes</th>\n",
       "      <th># Connected components</th>\n",
       "      <th>Size of largest component</th>\n",
       "      <th>Av. degree</th>\n",
       "      <th># Communities</th>\n",
       "      <th>Modularity</th>\n",
       "      <th>Clustering coeff</th>\n",
       "    </tr>\n",
       "  </thead>\n",
       "  <tbody>\n",
       "    <tr>\n",
       "      <td>0</td>\n",
       "      <td>6</td>\n",
       "      <td>3</td>\n",
       "      <td>0</td>\n",
       "      <td>0.0</td>\n",
       "      <td>3</td>\n",
       "      <td>2</td>\n",
       "      <td>1.000</td>\n",
       "      <td>3</td>\n",
       "      <td>0.667</td>\n",
       "      <td>0.000</td>\n",
       "    </tr>\n",
       "    <tr>\n",
       "      <td>1</td>\n",
       "      <td>8</td>\n",
       "      <td>4</td>\n",
       "      <td>0</td>\n",
       "      <td>0.0</td>\n",
       "      <td>4</td>\n",
       "      <td>2</td>\n",
       "      <td>1.000</td>\n",
       "      <td>4</td>\n",
       "      <td>0.750</td>\n",
       "      <td>0.000</td>\n",
       "    </tr>\n",
       "    <tr>\n",
       "      <td>2</td>\n",
       "      <td>19</td>\n",
       "      <td>15</td>\n",
       "      <td>0</td>\n",
       "      <td>0.0</td>\n",
       "      <td>8</td>\n",
       "      <td>5</td>\n",
       "      <td>1.579</td>\n",
       "      <td>8</td>\n",
       "      <td>0.684</td>\n",
       "      <td>0.228</td>\n",
       "    </tr>\n",
       "    <tr>\n",
       "      <td>3</td>\n",
       "      <td>20</td>\n",
       "      <td>17</td>\n",
       "      <td>0</td>\n",
       "      <td>0.0</td>\n",
       "      <td>8</td>\n",
       "      <td>6</td>\n",
       "      <td>1.700</td>\n",
       "      <td>8</td>\n",
       "      <td>0.630</td>\n",
       "      <td>0.250</td>\n",
       "    </tr>\n",
       "    <tr>\n",
       "      <td>4</td>\n",
       "      <td>22</td>\n",
       "      <td>18</td>\n",
       "      <td>0</td>\n",
       "      <td>0.0</td>\n",
       "      <td>9</td>\n",
       "      <td>6</td>\n",
       "      <td>1.636</td>\n",
       "      <td>9</td>\n",
       "      <td>0.667</td>\n",
       "      <td>0.227</td>\n",
       "    </tr>\n",
       "    <tr>\n",
       "      <td>5</td>\n",
       "      <td>33</td>\n",
       "      <td>28</td>\n",
       "      <td>0</td>\n",
       "      <td>0.0</td>\n",
       "      <td>13</td>\n",
       "      <td>6</td>\n",
       "      <td>1.697</td>\n",
       "      <td>13</td>\n",
       "      <td>0.827</td>\n",
       "      <td>0.424</td>\n",
       "    </tr>\n",
       "    <tr>\n",
       "      <td>6</td>\n",
       "      <td>39</td>\n",
       "      <td>34</td>\n",
       "      <td>0</td>\n",
       "      <td>0.0</td>\n",
       "      <td>15</td>\n",
       "      <td>6</td>\n",
       "      <td>1.744</td>\n",
       "      <td>15</td>\n",
       "      <td>0.867</td>\n",
       "      <td>0.513</td>\n",
       "    </tr>\n",
       "    <tr>\n",
       "      <td>7</td>\n",
       "      <td>42</td>\n",
       "      <td>35</td>\n",
       "      <td>1</td>\n",
       "      <td>2.4</td>\n",
       "      <td>17</td>\n",
       "      <td>6</td>\n",
       "      <td>1.667</td>\n",
       "      <td>17</td>\n",
       "      <td>0.873</td>\n",
       "      <td>0.476</td>\n",
       "    </tr>\n",
       "    <tr>\n",
       "      <td>8</td>\n",
       "      <td>42</td>\n",
       "      <td>35</td>\n",
       "      <td>1</td>\n",
       "      <td>2.4</td>\n",
       "      <td>17</td>\n",
       "      <td>6</td>\n",
       "      <td>1.667</td>\n",
       "      <td>17</td>\n",
       "      <td>0.873</td>\n",
       "      <td>0.476</td>\n",
       "    </tr>\n",
       "    <tr>\n",
       "      <td>9</td>\n",
       "      <td>42</td>\n",
       "      <td>35</td>\n",
       "      <td>1</td>\n",
       "      <td>2.4</td>\n",
       "      <td>17</td>\n",
       "      <td>6</td>\n",
       "      <td>1.667</td>\n",
       "      <td>17</td>\n",
       "      <td>0.873</td>\n",
       "      <td>0.476</td>\n",
       "    </tr>\n",
       "    <tr>\n",
       "      <td>10</td>\n",
       "      <td>44</td>\n",
       "      <td>36</td>\n",
       "      <td>1</td>\n",
       "      <td>2.3</td>\n",
       "      <td>18</td>\n",
       "      <td>6</td>\n",
       "      <td>1.636</td>\n",
       "      <td>18</td>\n",
       "      <td>0.880</td>\n",
       "      <td>0.455</td>\n",
       "    </tr>\n",
       "    <tr>\n",
       "      <td>11</td>\n",
       "      <td>44</td>\n",
       "      <td>36</td>\n",
       "      <td>1</td>\n",
       "      <td>2.3</td>\n",
       "      <td>18</td>\n",
       "      <td>6</td>\n",
       "      <td>1.636</td>\n",
       "      <td>18</td>\n",
       "      <td>0.880</td>\n",
       "      <td>0.455</td>\n",
       "    </tr>\n",
       "    <tr>\n",
       "      <td>12</td>\n",
       "      <td>47</td>\n",
       "      <td>40</td>\n",
       "      <td>1</td>\n",
       "      <td>2.1</td>\n",
       "      <td>18</td>\n",
       "      <td>6</td>\n",
       "      <td>1.702</td>\n",
       "      <td>18</td>\n",
       "      <td>0.884</td>\n",
       "      <td>0.454</td>\n",
       "    </tr>\n",
       "    <tr>\n",
       "      <td>13</td>\n",
       "      <td>47</td>\n",
       "      <td>40</td>\n",
       "      <td>1</td>\n",
       "      <td>2.1</td>\n",
       "      <td>18</td>\n",
       "      <td>6</td>\n",
       "      <td>1.702</td>\n",
       "      <td>18</td>\n",
       "      <td>0.884</td>\n",
       "      <td>0.454</td>\n",
       "    </tr>\n",
       "    <tr>\n",
       "      <td>14</td>\n",
       "      <td>50</td>\n",
       "      <td>46</td>\n",
       "      <td>1</td>\n",
       "      <td>2.0</td>\n",
       "      <td>18</td>\n",
       "      <td>6</td>\n",
       "      <td>1.840</td>\n",
       "      <td>18</td>\n",
       "      <td>0.889</td>\n",
       "      <td>0.497</td>\n",
       "    </tr>\n",
       "  </tbody>\n",
       "</table>\n",
       "</div>"
      ],
      "text/plain": [
       "    # Nodes  # Edges  # Isolated nodes  % Isolated nodes  \\\n",
       "0         6        3                 0               0.0   \n",
       "1         8        4                 0               0.0   \n",
       "2        19       15                 0               0.0   \n",
       "3        20       17                 0               0.0   \n",
       "4        22       18                 0               0.0   \n",
       "5        33       28                 0               0.0   \n",
       "6        39       34                 0               0.0   \n",
       "7        42       35                 1               2.4   \n",
       "8        42       35                 1               2.4   \n",
       "9        42       35                 1               2.4   \n",
       "10       44       36                 1               2.3   \n",
       "11       44       36                 1               2.3   \n",
       "12       47       40                 1               2.1   \n",
       "13       47       40                 1               2.1   \n",
       "14       50       46                 1               2.0   \n",
       "\n",
       "    # Connected components  Size of largest component  Av. degree  \\\n",
       "0                        3                          2       1.000   \n",
       "1                        4                          2       1.000   \n",
       "2                        8                          5       1.579   \n",
       "3                        8                          6       1.700   \n",
       "4                        9                          6       1.636   \n",
       "5                       13                          6       1.697   \n",
       "6                       15                          6       1.744   \n",
       "7                       17                          6       1.667   \n",
       "8                       17                          6       1.667   \n",
       "9                       17                          6       1.667   \n",
       "10                      18                          6       1.636   \n",
       "11                      18                          6       1.636   \n",
       "12                      18                          6       1.702   \n",
       "13                      18                          6       1.702   \n",
       "14                      18                          6       1.840   \n",
       "\n",
       "    # Communities  Modularity  Clustering coeff  \n",
       "0               3       0.667             0.000  \n",
       "1               4       0.750             0.000  \n",
       "2               8       0.684             0.228  \n",
       "3               8       0.630             0.250  \n",
       "4               9       0.667             0.227  \n",
       "5              13       0.827             0.424  \n",
       "6              15       0.867             0.513  \n",
       "7              17       0.873             0.476  \n",
       "8              17       0.873             0.476  \n",
       "9              17       0.873             0.476  \n",
       "10             18       0.880             0.455  \n",
       "11             18       0.880             0.455  \n",
       "12             18       0.884             0.454  \n",
       "13             18       0.884             0.454  \n",
       "14             18       0.889             0.497  "
      ]
     },
     "execution_count": 41,
     "metadata": {},
     "output_type": "execute_result"
    }
   ],
   "source": [
    "cumulative_table.head(15)\n"
   ]
  },
  {
   "cell_type": "code",
   "execution_count": 42,
   "metadata": {},
   "outputs": [
    {
     "data": {
      "text/html": [
       "<div>\n",
       "<style scoped>\n",
       "    .dataframe tbody tr th:only-of-type {\n",
       "        vertical-align: middle;\n",
       "    }\n",
       "\n",
       "    .dataframe tbody tr th {\n",
       "        vertical-align: top;\n",
       "    }\n",
       "\n",
       "    .dataframe thead th {\n",
       "        text-align: right;\n",
       "    }\n",
       "</style>\n",
       "<table border=\"1\" class=\"dataframe\">\n",
       "  <thead>\n",
       "    <tr style=\"text-align: right;\">\n",
       "      <th></th>\n",
       "      <th># Nodes</th>\n",
       "      <th># Edges</th>\n",
       "      <th># Isolated nodes</th>\n",
       "      <th>% Isolated nodes</th>\n",
       "      <th># Connected components</th>\n",
       "      <th>Size of largest component</th>\n",
       "      <th>Av. degree</th>\n",
       "      <th># Communities</th>\n",
       "      <th>Modularity</th>\n",
       "      <th>Clustering coeff</th>\n",
       "    </tr>\n",
       "  </thead>\n",
       "  <tbody>\n",
       "    <tr>\n",
       "      <td>count</td>\n",
       "      <td>51.000000</td>\n",
       "      <td>51.000000</td>\n",
       "      <td>51.000000</td>\n",
       "      <td>51.000000</td>\n",
       "      <td>51.000000</td>\n",
       "      <td>51.000000</td>\n",
       "      <td>51.000000</td>\n",
       "      <td>51.000000</td>\n",
       "      <td>51.000000</td>\n",
       "      <td>51.000000</td>\n",
       "    </tr>\n",
       "    <tr>\n",
       "      <td>mean</td>\n",
       "      <td>616.352941</td>\n",
       "      <td>949.588235</td>\n",
       "      <td>28.960784</td>\n",
       "      <td>5.468627</td>\n",
       "      <td>181.529412</td>\n",
       "      <td>82.921569</td>\n",
       "      <td>1.973294</td>\n",
       "      <td>183.352941</td>\n",
       "      <td>0.911706</td>\n",
       "      <td>0.452000</td>\n",
       "    </tr>\n",
       "    <tr>\n",
       "      <td>std</td>\n",
       "      <td>1038.107525</td>\n",
       "      <td>1893.650519</td>\n",
       "      <td>37.154252</td>\n",
       "      <td>3.989661</td>\n",
       "      <td>260.653897</td>\n",
       "      <td>188.097086</td>\n",
       "      <td>0.706136</td>\n",
       "      <td>264.912501</td>\n",
       "      <td>0.088772</td>\n",
       "      <td>0.144216</td>\n",
       "    </tr>\n",
       "    <tr>\n",
       "      <td>min</td>\n",
       "      <td>6.000000</td>\n",
       "      <td>3.000000</td>\n",
       "      <td>0.000000</td>\n",
       "      <td>0.000000</td>\n",
       "      <td>3.000000</td>\n",
       "      <td>2.000000</td>\n",
       "      <td>1.000000</td>\n",
       "      <td>3.000000</td>\n",
       "      <td>0.630000</td>\n",
       "      <td>0.000000</td>\n",
       "    </tr>\n",
       "    <tr>\n",
       "      <td>25%</td>\n",
       "      <td>47.000000</td>\n",
       "      <td>40.000000</td>\n",
       "      <td>1.000000</td>\n",
       "      <td>2.400000</td>\n",
       "      <td>18.000000</td>\n",
       "      <td>6.000000</td>\n",
       "      <td>1.603000</td>\n",
       "      <td>18.000000</td>\n",
       "      <td>0.884000</td>\n",
       "      <td>0.398500</td>\n",
       "    </tr>\n",
       "    <tr>\n",
       "      <td>50%</td>\n",
       "      <td>106.000000</td>\n",
       "      <td>81.000000</td>\n",
       "      <td>12.000000</td>\n",
       "      <td>4.400000</td>\n",
       "      <td>47.000000</td>\n",
       "      <td>6.000000</td>\n",
       "      <td>1.693000</td>\n",
       "      <td>47.000000</td>\n",
       "      <td>0.947000</td>\n",
       "      <td>0.454000</td>\n",
       "    </tr>\n",
       "    <tr>\n",
       "      <td>75%</td>\n",
       "      <td>586.000000</td>\n",
       "      <td>539.500000</td>\n",
       "      <td>42.000000</td>\n",
       "      <td>8.450000</td>\n",
       "      <td>230.000000</td>\n",
       "      <td>20.500000</td>\n",
       "      <td>1.862000</td>\n",
       "      <td>230.000000</td>\n",
       "      <td>0.969500</td>\n",
       "      <td>0.505000</td>\n",
       "    </tr>\n",
       "    <tr>\n",
       "      <td>max</td>\n",
       "      <td>4011.000000</td>\n",
       "      <td>7642.000000</td>\n",
       "      <td>128.000000</td>\n",
       "      <td>12.900000</td>\n",
       "      <td>947.000000</td>\n",
       "      <td>796.000000</td>\n",
       "      <td>3.811000</td>\n",
       "      <td>967.000000</td>\n",
       "      <td>0.987000</td>\n",
       "      <td>0.701000</td>\n",
       "    </tr>\n",
       "  </tbody>\n",
       "</table>\n",
       "</div>"
      ],
      "text/plain": [
       "           # Nodes      # Edges  # Isolated nodes  % Isolated nodes  \\\n",
       "count    51.000000    51.000000         51.000000         51.000000   \n",
       "mean    616.352941   949.588235         28.960784          5.468627   \n",
       "std    1038.107525  1893.650519         37.154252          3.989661   \n",
       "min       6.000000     3.000000          0.000000          0.000000   \n",
       "25%      47.000000    40.000000          1.000000          2.400000   \n",
       "50%     106.000000    81.000000         12.000000          4.400000   \n",
       "75%     586.000000   539.500000         42.000000          8.450000   \n",
       "max    4011.000000  7642.000000        128.000000         12.900000   \n",
       "\n",
       "       # Connected components  Size of largest component  Av. degree  \\\n",
       "count               51.000000                  51.000000   51.000000   \n",
       "mean               181.529412                  82.921569    1.973294   \n",
       "std                260.653897                 188.097086    0.706136   \n",
       "min                  3.000000                   2.000000    1.000000   \n",
       "25%                 18.000000                   6.000000    1.603000   \n",
       "50%                 47.000000                   6.000000    1.693000   \n",
       "75%                230.000000                  20.500000    1.862000   \n",
       "max                947.000000                 796.000000    3.811000   \n",
       "\n",
       "       # Communities  Modularity  Clustering coeff  \n",
       "count      51.000000   51.000000         51.000000  \n",
       "mean      183.352941    0.911706          0.452000  \n",
       "std       264.912501    0.088772          0.144216  \n",
       "min         3.000000    0.630000          0.000000  \n",
       "25%        18.000000    0.884000          0.398500  \n",
       "50%        47.000000    0.947000          0.454000  \n",
       "75%       230.000000    0.969500          0.505000  \n",
       "max       967.000000    0.987000          0.701000  "
      ]
     },
     "execution_count": 42,
     "metadata": {},
     "output_type": "execute_result"
    }
   ],
   "source": [
    "cumulative_table.describe()"
   ]
  },
  {
   "cell_type": "code",
   "execution_count": 43,
   "metadata": {},
   "outputs": [],
   "source": [
    "# write_to_file(\n",
    "#     metric=cumulative_table.to_latex(), filename=\"cumulative_graphs_table.tex\"\n",
    "# )\n"
   ]
  },
  {
   "cell_type": "code",
   "execution_count": 44,
   "metadata": {},
   "outputs": [],
   "source": [
    "clusters_cum_table = pd.DataFrame.from_dict(cumulative_cluster_metrics).round(3)\n",
    "clusters_cum_table = clusters_cum_table[columns_order]\n"
   ]
  },
  {
   "cell_type": "code",
   "execution_count": 45,
   "metadata": {},
   "outputs": [],
   "source": [
    "# write_to_file(\n",
    "#     metric=clusters_cum_table.to_latex(), filename=\"cumulative_clusters_table.tex\"\n",
    "# )\n"
   ]
  },
  {
   "cell_type": "markdown",
   "metadata": {},
   "source": [
    "**Centralities**"
   ]
  },
  {
   "cell_type": "code",
   "execution_count": 46,
   "metadata": {},
   "outputs": [],
   "source": [
    "betweeness = sorted(nx.betweenness_centrality(graph).items(), key=lambda x: x[1], reverse=True)\n",
    "closeness = sorted(nx.closeness_centrality(graph).items(), key=lambda x: x[1], reverse=True)"
   ]
  },
  {
   "cell_type": "code",
   "execution_count": 47,
   "metadata": {},
   "outputs": [],
   "source": [
    "betweeness_cluster = sorted(nx.betweenness_centrality(center_cluster).items(), key=lambda x: x[1], reverse=True)\n",
    "closeness_cluster = sorted(nx.closeness_centrality(center_cluster).items(), key=lambda x: x[1], reverse=True)"
   ]
  },
  {
   "cell_type": "code",
   "execution_count": 48,
   "metadata": {},
   "outputs": [],
   "source": [
    "labels = ['Betweenness', 'Closeness']"
   ]
  },
  {
   "cell_type": "code",
   "execution_count": 49,
   "metadata": {},
   "outputs": [],
   "source": [
    "tables = []\n",
    "for i, measure in enumerate([betweeness, closeness, betweeness_cluster, closeness_cluster]):\n",
    "    table = pd.DataFrame(measure[:10], columns=[\"Name\", labels[int(i % 2)]])\n",
    "    table.Name = [fix_names_for_table(name) for name in table.Name]\n",
    "    table.index += 1\n",
    "    tables.append(table)     \n"
   ]
  },
  {
   "cell_type": "code",
   "execution_count": 50,
   "metadata": {},
   "outputs": [],
   "source": [
    "# write_to_file(\n",
    "#     metric=pd.concat(tables, axis=1).round(3).to_latex(), filename=\"centralities_pd_graph.tex\"\n",
    "# )"
   ]
  },
  {
   "cell_type": "markdown",
   "metadata": {},
   "source": [
    "**Distributions**"
   ]
  },
  {
   "cell_type": "code",
   "execution_count": 51,
   "metadata": {},
   "outputs": [],
   "source": [
    "distributions_betweeness = [point[1] for point in betweeness]\n",
    "distributions_closeness = [point[1] for point in closeness]"
   ]
  },
  {
   "cell_type": "code",
   "execution_count": 52,
   "metadata": {},
   "outputs": [],
   "source": [
    "distributions_betweeness_cluster = [point[1] for point in betweeness_cluster]\n",
    "distributions_closeness_cluster = [point[1] for point in closeness_cluster]"
   ]
  },
  {
   "cell_type": "code",
   "execution_count": 71,
   "metadata": {},
   "outputs": [],
   "source": [
    "colors = ['darkgray', 'darkorange']"
   ]
  },
  {
   "cell_type": "code",
   "execution_count": 79,
   "metadata": {},
   "outputs": [
    {
     "data": {
      "image/png": "[encoded data removed]",
      "text/plain": [
       "<Figure size 720x288 with 2 Axes>"
      ]
     },
     "metadata": {
      "needs_background": "light"
     },
     "output_type": "display_data"
    }
   ],
   "source": [
    "fig, axes = plt.subplots(ncols=2, figsize=(10, 4))\n",
    "labels = [r'$G$', r'$\\bar{G}$']\n",
    "\n",
    "\n",
    "for i, measure in enumerate([distributions_betweeness, distributions_betweeness_cluster]):\n",
    "    \n",
    "    weights = np.ones_like(measure) / float(len(measure))\n",
    "\n",
    "    axes[i].hist(measure, weights=weights, color=colors[i])\n",
    "    median = np.median(measure)\n",
    "    axes[i].axvline(median,\n",
    "                    color=\"darkred\",\n",
    "                    linestyle=\":\",\n",
    "                    linewidth=3,\n",
    "                    label=f\"median={median}\")\n",
    "\n",
    "    for tick in axes[i].get_xticklabels():\n",
    "        tick.set_rotation(45)\n",
    "    \n",
    "    axes[i].set_title(labels[i])\n",
    "\n",
    "    axes[i].legend();\n",
    "    \n",
    "fig.savefig(\"../../assets/images/pd_betweeness_centralities.pdf\", bbox_inches='tight')"
   ]
  },
  {
   "cell_type": "code",
   "execution_count": 80,
   "metadata": {},
   "outputs": [
    {
     "data": {
      "image/png": "[encoded data removed]",
      "text/plain": [
       "<Figure size 720x288 with 2 Axes>"
      ]
     },
     "metadata": {
      "needs_background": "light"
     },
     "output_type": "display_data"
    }
   ],
   "source": [
    "fig, axes = plt.subplots(ncols=2, figsize=(10, 4))\n",
    "\n",
    "for i, measure in enumerate([distributions_closeness,\n",
    "                                  distributions_closeness_cluster]):\n",
    "    \n",
    "    weights = np.ones_like(measure) / float(len(measure))\n",
    "\n",
    "    axes[i].hist(measure, weights=weights, color=colors[i])\n",
    "    median = np.median(measure)\n",
    "    axes[i].axvline(median,\n",
    "                    color=\"darkred\",\n",
    "                    linestyle=\":\",\n",
    "                    linewidth=3,\n",
    "                    label=f\"median={round(median, 2)}\")\n",
    "    axes[i].set_title(labels[i])\n",
    "    \n",
    "    for tick in axes[i].get_xticklabels():\n",
    "        tick.set_rotation(45)\n",
    "\n",
    "    axes[i].legend();\n",
    "    \n",
    "fig.savefig(\"../../assets/images/pd_closeness_centralities.pdf\", bbox_inches='tight')"
   ]
  },
  {
   "cell_type": "markdown",
   "metadata": {},
   "source": [
    "Topics\n",
    "====="
   ]
  },
  {
   "cell_type": "code",
   "execution_count": 55,
   "metadata": {},
   "outputs": [],
   "source": [
    "data_with_topics = pd.read_csv('../data/prisoners_dilemma_meta_data_with_topics.csv')"
   ]
  },
  {
   "cell_type": "code",
   "execution_count": 56,
   "metadata": {},
   "outputs": [],
   "source": [
    "names = df['author']"
   ]
  },
  {
   "cell_type": "code",
   "execution_count": 57,
   "metadata": {},
   "outputs": [],
   "source": [
    "names = [tools.normalise_name(name) for name in names]"
   ]
  },
  {
   "cell_type": "code",
   "execution_count": 58,
   "metadata": {},
   "outputs": [],
   "source": [
    "data_with_topics['author_standarized'] = names"
   ]
  },
  {
   "cell_type": "code",
   "execution_count": 59,
   "metadata": {},
   "outputs": [],
   "source": [
    "counts = data_with_topics[['author_standarized',\n",
    "                           'Dominant_Topic']].drop_duplicates().groupby('author_standarized').count()"
   ]
  },
  {
   "cell_type": "code",
   "execution_count": 60,
   "metadata": {},
   "outputs": [
    {
     "data": {
      "text/plain": [
       "2246"
      ]
     },
     "execution_count": 60,
     "metadata": {},
     "output_type": "execute_result"
    }
   ],
   "source": [
    "len(counts[counts.values == 1])"
   ]
  },
  {
   "cell_type": "code",
   "execution_count": 61,
   "metadata": {},
   "outputs": [
    {
     "data": {
      "text/plain": [
       "1975"
      ]
     },
     "execution_count": 61,
     "metadata": {},
     "output_type": "execute_result"
    }
   ],
   "source": [
    "len(counts[counts.values > 1])"
   ]
  },
  {
   "cell_type": "code",
   "execution_count": 62,
   "metadata": {},
   "outputs": [
    {
     "data": {
      "image/png": "[encoded data removed]",
      "text/plain": [
       "<Figure size 432x288 with 1 Axes>"
      ]
     },
     "metadata": {
      "needs_background": "light"
     },
     "output_type": "display_data"
    }
   ],
   "source": [
    "fig, ax = plt.subplots()\n",
    "\n",
    "measure = counts[counts['Dominant_Topic'] > 1].values\n",
    "\n",
    "weights = np.ones_like(measure) / float(len(measure))\n",
    "\n",
    "ax.hist(measure, weights=weights, color='darkred')\n",
    "ax.set_xticks([2, 3, 4, 5]);\n",
    "\n",
    "ax.set_xlabel('Number of different topics');\n",
    "ax.set_ylabel('Percentage of Authors');\n",
    "\n",
    "plt.savefig(\"../../assets/images/percentage_of_authors_different_topic.pdf\", bbox_inches=\"tight\")"
   ]
  },
  {
   "cell_type": "code",
   "execution_count": 63,
   "metadata": {},
   "outputs": [],
   "source": [
    "total = len(counts[counts['Dominant_Topic'] == 2].values)"
   ]
  },
  {
   "cell_type": "code",
   "execution_count": 64,
   "metadata": {},
   "outputs": [],
   "source": [
    "replace = {'0.0': 'A',\n",
    "           '1.0': 'B',\n",
    "           '2.0': 'C',\n",
    "           '3.0': 'D',\n",
    "           '4.0': 'E',\n",
    "          }"
   ]
  },
  {
   "cell_type": "code",
   "execution_count": 65,
   "metadata": {},
   "outputs": [],
   "source": [
    "labels = ['A', 'B', 'C', 'D', 'E']"
   ]
  },
  {
   "cell_type": "code",
   "execution_count": 66,
   "metadata": {},
   "outputs": [],
   "source": [
    "from_ = []\n",
    "to_ = []\n",
    "values = []\n",
    "for number in range(2, 6):\n",
    "    total = len(counts[counts['Dominant_Topic'] == number].values)\n",
    "    topics = []\n",
    "    for name in counts[counts['Dominant_Topic'] == number].index:\n",
    "        groups = data_with_topics[data_with_topics['author_standarized'] == name]['Dominant_Topic'].unique()\n",
    "        topics.append(groups)\n",
    "    topics = [tuple(topic) for topic in topics]\n",
    "    counter = collections.Counter(tuple(sorted(tup)) for tup in topics)\n",
    "\n",
    "    for key in counter.keys():\n",
    "        from_.append(str([labels[int(i)] for i in key]))\n",
    "        \n",
    "        values.append(round(counter[key] / total, 2))"
   ]
  },
  {
   "cell_type": "code",
   "execution_count": 67,
   "metadata": {},
   "outputs": [],
   "source": [
    "# write_to_file(metric=pd.DataFrame({'From': from_,\n",
    "#               'Probabilities': values}).replace(replace).to_latex(), filename=\"topic_probabilities.tex\")\n",
    "              "
   ]
  },
  {
   "cell_type": "code",
   "execution_count": 68,
   "metadata": {},
   "outputs": [],
   "source": [
    "authors_that_write_in_many_topics = counts[counts['Dominant_Topic'] > 1].index"
   ]
  },
  {
   "cell_type": "code",
   "execution_count": 69,
   "metadata": {},
   "outputs": [
    {
     "ename": "NameError",
     "evalue": "name 'graphs' is not defined",
     "output_type": "error",
     "traceback": [
      "\u001b[0;31m---------------------------------------------------------------------------\u001b[0m",
      "\u001b[0;31mNameError\u001b[0m                                 Traceback (most recent call last)",
      "\u001b[0;32m<ipython-input-69-d918fa31983c>\u001b[0m in \u001b[0;36m<module>\u001b[0;34m\u001b[0m\n\u001b[1;32m      1\u001b[0m \u001b[0;32mfor\u001b[0m \u001b[0mi\u001b[0m \u001b[0;32min\u001b[0m \u001b[0mrange\u001b[0m\u001b[0;34m(\u001b[0m\u001b[0;36m2\u001b[0m\u001b[0;34m,\u001b[0m \u001b[0;36m5\u001b[0m\u001b[0;34m)\u001b[0m\u001b[0;34m:\u001b[0m\u001b[0;34m\u001b[0m\u001b[0;34m\u001b[0m\u001b[0m\n\u001b[0;32m----> 2\u001b[0;31m     \u001b[0misolated\u001b[0m \u001b[0;34m=\u001b[0m \u001b[0mlist\u001b[0m\u001b[0;34m(\u001b[0m\u001b[0mnx\u001b[0m\u001b[0;34m.\u001b[0m\u001b[0misolates\u001b[0m\u001b[0;34m(\u001b[0m\u001b[0mgraphs\u001b[0m\u001b[0;34m[\u001b[0m\u001b[0mi\u001b[0m\u001b[0;34m]\u001b[0m\u001b[0;34m)\u001b[0m\u001b[0;34m)\u001b[0m\u001b[0;34m\u001b[0m\u001b[0;34m\u001b[0m\u001b[0m\n\u001b[0m\u001b[1;32m      3\u001b[0m     \u001b[0mprint\u001b[0m\u001b[0;34m(\u001b[0m\u001b[0msum\u001b[0m\u001b[0;34m(\u001b[0m\u001b[0;34m[\u001b[0m\u001b[0mauthor\u001b[0m \u001b[0;32min\u001b[0m \u001b[0mauthors_that_write_in_many_topics\u001b[0m \u001b[0;32mfor\u001b[0m \u001b[0mauthor\u001b[0m \u001b[0;32min\u001b[0m \u001b[0misolated\u001b[0m\u001b[0;34m]\u001b[0m\u001b[0;34m)\u001b[0m \u001b[0;34m/\u001b[0m \u001b[0mlen\u001b[0m\u001b[0;34m(\u001b[0m\u001b[0misolated\u001b[0m\u001b[0;34m)\u001b[0m\u001b[0;34m)\u001b[0m\u001b[0;34m\u001b[0m\u001b[0;34m\u001b[0m\u001b[0m\n",
      "\u001b[0;31mNameError\u001b[0m: name 'graphs' is not defined"
     ]
    }
   ],
   "source": [
    "for i in range(2, 5):\n",
    "    isolated = list(nx.isolates(graphs[i]))\n",
    "    print(sum([author in authors_that_write_in_many_topics for author in isolated]) / len(isolated))"
   ]
  },
  {
   "cell_type": "code",
   "execution_count": null,
   "metadata": {},
   "outputs": [],
   "source": [
    "[graphs[3].edges(author) for author in authors_that_write_in_many_topics]"
   ]
  },
  {
   "cell_type": "code",
   "execution_count": null,
   "metadata": {},
   "outputs": [],
   "source": [
    "isolated"
   ]
  },
  {
   "cell_type": "markdown",
   "metadata": {},
   "source": [
    "**Graphs**"
   ]
  },
  {
   "cell_type": "code",
   "execution_count": 83,
   "metadata": {},
   "outputs": [],
   "source": [
    "graphs = []\n",
    "number_of_topics = 5\n",
    "for number in range(number_of_topics):\n",
    "    graphs.append(nx.read_gml(f'../data/networks/topic_{int(number)}_pd_.gml'))"
   ]
  },
  {
   "cell_type": "code",
   "execution_count": 84,
   "metadata": {},
   "outputs": [],
   "source": [
    "number_edges = [nx.number_of_edges(G) for G in graphs]\n",
    "number_nodes = [nx.number_of_nodes(G) for G in graphs]"
   ]
  },
  {
   "cell_type": "code",
   "execution_count": 85,
   "metadata": {},
   "outputs": [],
   "source": [
    "metrics = [collaborative_metrics_of_graph(G)[0] for G in graphs]"
   ]
  },
  {
   "cell_type": "code",
   "execution_count": 86,
   "metadata": {},
   "outputs": [],
   "source": [
    "degree_dstrs = [collaborative_metrics_of_graph(G)[1] for G in graphs]"
   ]
  },
  {
   "cell_type": "code",
   "execution_count": 87,
   "metadata": {},
   "outputs": [],
   "source": [
    "columns_order = [\n",
    "    \"# Nodes\",\n",
    "    \"# Edges\",\n",
    "    \"# Isolated nodes\",\n",
    "    \"% Isolated nodes\",\n",
    "    \"# Connected components\",\n",
    "    \"Size of largest component\",\n",
    "    \"Av. degree\",\n",
    "    \"# Communities\",\n",
    "    \"Modularity\",\n",
    "    \"Clustering coeff\",\n",
    "]"
   ]
  },
  {
   "cell_type": "code",
   "execution_count": 88,
   "metadata": {},
   "outputs": [],
   "source": [
    "topics = [\"Topic A\", \"Topic B\", \"Topic C\", \"Topic D\", \"Topic E\"]"
   ]
  },
  {
   "cell_type": "code",
   "execution_count": 89,
   "metadata": {},
   "outputs": [],
   "source": [
    "metrics_table = pd.DataFrame.from_dict(metrics).round(3)\n",
    "metrics_table.index = topics"
   ]
  },
  {
   "cell_type": "code",
   "execution_count": 90,
   "metadata": {},
   "outputs": [
    {
     "data": {
      "text/html": [
       "<div>\n",
       "<style scoped>\n",
       "    .dataframe tbody tr th:only-of-type {\n",
       "        vertical-align: middle;\n",
       "    }\n",
       "\n",
       "    .dataframe tbody tr th {\n",
       "        vertical-align: top;\n",
       "    }\n",
       "\n",
       "    .dataframe thead th {\n",
       "        text-align: right;\n",
       "    }\n",
       "</style>\n",
       "<table border=\"1\" class=\"dataframe\">\n",
       "  <thead>\n",
       "    <tr style=\"text-align: right;\">\n",
       "      <th></th>\n",
       "      <th># Nodes</th>\n",
       "      <th># Edges</th>\n",
       "      <th># Isolated nodes</th>\n",
       "      <th>% Isolated nodes</th>\n",
       "      <th># Connected components</th>\n",
       "      <th>Size of largest component</th>\n",
       "      <th>Av. degree</th>\n",
       "      <th>Clustering coeff</th>\n",
       "      <th># Communities</th>\n",
       "      <th>Modularity</th>\n",
       "    </tr>\n",
       "  </thead>\n",
       "  <tbody>\n",
       "    <tr>\n",
       "      <td>Topic A</td>\n",
       "      <td>1124</td>\n",
       "      <td>2137</td>\n",
       "      <td>15</td>\n",
       "      <td>1.3</td>\n",
       "      <td>264</td>\n",
       "      <td>56</td>\n",
       "      <td>3.802</td>\n",
       "      <td>0.759</td>\n",
       "      <td>265</td>\n",
       "      <td>0.983</td>\n",
       "    </tr>\n",
       "    <tr>\n",
       "      <td>Topic B</td>\n",
       "      <td>695</td>\n",
       "      <td>1382</td>\n",
       "      <td>13</td>\n",
       "      <td>1.9</td>\n",
       "      <td>157</td>\n",
       "      <td>80</td>\n",
       "      <td>3.977</td>\n",
       "      <td>0.773</td>\n",
       "      <td>158</td>\n",
       "      <td>0.950</td>\n",
       "    </tr>\n",
       "    <tr>\n",
       "      <td>Topic C</td>\n",
       "      <td>900</td>\n",
       "      <td>1141</td>\n",
       "      <td>41</td>\n",
       "      <td>4.6</td>\n",
       "      <td>281</td>\n",
       "      <td>29</td>\n",
       "      <td>2.536</td>\n",
       "      <td>0.636</td>\n",
       "      <td>281</td>\n",
       "      <td>0.981</td>\n",
       "    </tr>\n",
       "    <tr>\n",
       "      <td>Topic D</td>\n",
       "      <td>880</td>\n",
       "      <td>1509</td>\n",
       "      <td>17</td>\n",
       "      <td>1.9</td>\n",
       "      <td>174</td>\n",
       "      <td>312</td>\n",
       "      <td>3.430</td>\n",
       "      <td>0.701</td>\n",
       "      <td>183</td>\n",
       "      <td>0.920</td>\n",
       "    </tr>\n",
       "    <tr>\n",
       "      <td>Topic E</td>\n",
       "      <td>1045</td>\n",
       "      <td>1964</td>\n",
       "      <td>59</td>\n",
       "      <td>5.6</td>\n",
       "      <td>354</td>\n",
       "      <td>31</td>\n",
       "      <td>3.759</td>\n",
       "      <td>0.664</td>\n",
       "      <td>354</td>\n",
       "      <td>0.926</td>\n",
       "    </tr>\n",
       "  </tbody>\n",
       "</table>\n",
       "</div>"
      ],
      "text/plain": [
       "         # Nodes  # Edges  # Isolated nodes  % Isolated nodes  \\\n",
       "Topic A     1124     2137                15               1.3   \n",
       "Topic B      695     1382                13               1.9   \n",
       "Topic C      900     1141                41               4.6   \n",
       "Topic D      880     1509                17               1.9   \n",
       "Topic E     1045     1964                59               5.6   \n",
       "\n",
       "         # Connected components  Size of largest component  Av. degree  \\\n",
       "Topic A                     264                         56       3.802   \n",
       "Topic B                     157                         80       3.977   \n",
       "Topic C                     281                         29       2.536   \n",
       "Topic D                     174                        312       3.430   \n",
       "Topic E                     354                         31       3.759   \n",
       "\n",
       "         Clustering coeff  # Communities  Modularity  \n",
       "Topic A             0.759            265       0.983  \n",
       "Topic B             0.773            158       0.950  \n",
       "Topic C             0.636            281       0.981  \n",
       "Topic D             0.701            183       0.920  \n",
       "Topic E             0.664            354       0.926  "
      ]
     },
     "execution_count": 90,
     "metadata": {},
     "output_type": "execute_result"
    }
   ],
   "source": [
    "metrics_table"
   ]
  },
  {
   "cell_type": "code",
   "execution_count": 91,
   "metadata": {},
   "outputs": [],
   "source": [
    "metrics_table = metrics_table[columns_order]"
   ]
  },
  {
   "cell_type": "code",
   "execution_count": 92,
   "metadata": {},
   "outputs": [],
   "source": [
    "# write_to_file(metric=metrics_table.to_latex(), filename=\"topic_network_comparison.tex\")"
   ]
  },
  {
   "cell_type": "code",
   "execution_count": 93,
   "metadata": {},
   "outputs": [],
   "source": [
    "betweeness = [\n",
    "    sorted(nx.betweenness_centrality(G).items(), key=lambda x: x[1], reverse=True)\n",
    "    for G in graphs\n",
    "]\n",
    "\n"
   ]
  },
  {
   "cell_type": "code",
   "execution_count": 94,
   "metadata": {},
   "outputs": [],
   "source": [
    "closeness = [\n",
    "    sorted(nx.closeness_centrality(G).items(), key=lambda x: x[1], reverse=True)\n",
    "    for G in graphs\n",
    "]\n"
   ]
  },
  {
   "cell_type": "code",
   "execution_count": 95,
   "metadata": {},
   "outputs": [],
   "source": [
    "tables = []\n",
    "for measure in betweeness:\n",
    "    table = pd.DataFrame(measure[:10], columns=[\"Name\", \"Betweeness\"])\n",
    "    table.Name = [fix_names_for_table(name) for name in table.Name]\n",
    "    table.index += 1\n",
    "    tables.append(table) "
   ]
  },
  {
   "cell_type": "code",
   "execution_count": 96,
   "metadata": {},
   "outputs": [
    {
     "data": {
      "text/html": [
       "<div>\n",
       "<style scoped>\n",
       "    .dataframe tbody tr th:only-of-type {\n",
       "        vertical-align: middle;\n",
       "    }\n",
       "\n",
       "    .dataframe tbody tr th {\n",
       "        vertical-align: top;\n",
       "    }\n",
       "\n",
       "    .dataframe thead th {\n",
       "        text-align: right;\n",
       "    }\n",
       "</style>\n",
       "<table border=\"1\" class=\"dataframe\">\n",
       "  <thead>\n",
       "    <tr style=\"text-align: right;\">\n",
       "      <th></th>\n",
       "      <th>Name</th>\n",
       "      <th>Betweeness</th>\n",
       "      <th>Name</th>\n",
       "      <th>Betweeness</th>\n",
       "      <th>Name</th>\n",
       "      <th>Betweeness</th>\n",
       "      <th>Name</th>\n",
       "      <th>Betweeness</th>\n",
       "      <th>Name</th>\n",
       "      <th>Betweeness</th>\n",
       "    </tr>\n",
       "  </thead>\n",
       "  <tbody>\n",
       "    <tr>\n",
       "      <td>1</td>\n",
       "      <td>David Rand</td>\n",
       "      <td>0.001570</td>\n",
       "      <td>Long Wang</td>\n",
       "      <td>0.006306</td>\n",
       "      <td>Daniel Ashlock</td>\n",
       "      <td>0.000655</td>\n",
       "      <td>Matjaz Perc</td>\n",
       "      <td>0.063534</td>\n",
       "      <td>Zengru Di</td>\n",
       "      <td>0.000096</td>\n",
       "    </tr>\n",
       "    <tr>\n",
       "      <td>2</td>\n",
       "      <td>Valerio Capraro</td>\n",
       "      <td>0.001252</td>\n",
       "      <td>Luo-Luo Jiang</td>\n",
       "      <td>0.004566</td>\n",
       "      <td>Matjaz Perc</td>\n",
       "      <td>0.000453</td>\n",
       "      <td>Luo-Luo Jiang</td>\n",
       "      <td>0.036631</td>\n",
       "      <td>Jian Yang</td>\n",
       "      <td>0.000033</td>\n",
       "    </tr>\n",
       "    <tr>\n",
       "      <td>3</td>\n",
       "      <td>Angel Sanchez</td>\n",
       "      <td>0.000555</td>\n",
       "      <td>Martin Nowak</td>\n",
       "      <td>0.004203</td>\n",
       "      <td>Karl Tuyls</td>\n",
       "      <td>0.000436</td>\n",
       "      <td>Yamir Moreno</td>\n",
       "      <td>0.031429</td>\n",
       "      <td>Yevgeniy Vorobeychik</td>\n",
       "      <td>0.000026</td>\n",
       "    </tr>\n",
       "    <tr>\n",
       "      <td>4</td>\n",
       "      <td>Feng Fu</td>\n",
       "      <td>0.000533</td>\n",
       "      <td>Matjaz Perc</td>\n",
       "      <td>0.003476</td>\n",
       "      <td>Philip Hingston</td>\n",
       "      <td>0.000327</td>\n",
       "      <td>Christoph Hauert</td>\n",
       "      <td>0.027449</td>\n",
       "      <td>Otavio Teixeira</td>\n",
       "      <td>0.000022</td>\n",
       "    </tr>\n",
       "    <tr>\n",
       "      <td>5</td>\n",
       "      <td>Martin Nowak</td>\n",
       "      <td>0.000484</td>\n",
       "      <td>Attila Szolnoki</td>\n",
       "      <td>0.002707</td>\n",
       "      <td>Eun-Youn Kim</td>\n",
       "      <td>0.000286</td>\n",
       "      <td>Long Wang</td>\n",
       "      <td>0.024083</td>\n",
       "      <td>Roberto Oliveira</td>\n",
       "      <td>0.000022</td>\n",
       "    </tr>\n",
       "    <tr>\n",
       "      <td>6</td>\n",
       "      <td>Nicholas Christakis</td>\n",
       "      <td>0.000350</td>\n",
       "      <td>Christian Hilbe</td>\n",
       "      <td>0.002362</td>\n",
       "      <td>Wendy Ashlock</td>\n",
       "      <td>0.000260</td>\n",
       "      <td>Zhen Wang</td>\n",
       "      <td>0.023949</td>\n",
       "      <td>M. Nowak</td>\n",
       "      <td>0.000020</td>\n",
       "    </tr>\n",
       "    <tr>\n",
       "      <td>7</td>\n",
       "      <td>Pablo Branas-Garza</td>\n",
       "      <td>0.000340</td>\n",
       "      <td>Yamir Moreno</td>\n",
       "      <td>0.002362</td>\n",
       "      <td>Attila Szolnoki</td>\n",
       "      <td>0.000225</td>\n",
       "      <td>Han-Xin Yang</td>\n",
       "      <td>0.022656</td>\n",
       "      <td>M. Harper</td>\n",
       "      <td>0.000011</td>\n",
       "    </tr>\n",
       "    <tr>\n",
       "      <td>8</td>\n",
       "      <td>Toshio Yamagishi</td>\n",
       "      <td>0.000305</td>\n",
       "      <td>Xiaojie Chen</td>\n",
       "      <td>0.002170</td>\n",
       "      <td>Seung Baek</td>\n",
       "      <td>0.000216</td>\n",
       "      <td>Martin Nowak</td>\n",
       "      <td>0.019746</td>\n",
       "      <td>Xiao Han</td>\n",
       "      <td>0.000011</td>\n",
       "    </tr>\n",
       "    <tr>\n",
       "      <td>9</td>\n",
       "      <td>James Fowler</td>\n",
       "      <td>0.000300</td>\n",
       "      <td>Arne Traulsen</td>\n",
       "      <td>0.001950</td>\n",
       "      <td>Martin Nowak</td>\n",
       "      <td>0.000211</td>\n",
       "      <td>Angel Sanchez</td>\n",
       "      <td>0.016911</td>\n",
       "      <td>Zhesi Shen</td>\n",
       "      <td>0.000011</td>\n",
       "    </tr>\n",
       "    <tr>\n",
       "      <td>10</td>\n",
       "      <td>Long Wang</td>\n",
       "      <td>0.000248</td>\n",
       "      <td>Zhen Wang</td>\n",
       "      <td>0.001821</td>\n",
       "      <td>Thore Graepel</td>\n",
       "      <td>0.000193</td>\n",
       "      <td>Zhihai Rong</td>\n",
       "      <td>0.015619</td>\n",
       "      <td>Wen-Xu Wang</td>\n",
       "      <td>0.000011</td>\n",
       "    </tr>\n",
       "  </tbody>\n",
       "</table>\n",
       "</div>"
      ],
      "text/plain": [
       "                   Name  Betweeness             Name  Betweeness  \\\n",
       "1            David Rand    0.001570        Long Wang    0.006306   \n",
       "2       Valerio Capraro    0.001252    Luo-Luo Jiang    0.004566   \n",
       "3         Angel Sanchez    0.000555     Martin Nowak    0.004203   \n",
       "4               Feng Fu    0.000533      Matjaz Perc    0.003476   \n",
       "5          Martin Nowak    0.000484  Attila Szolnoki    0.002707   \n",
       "6   Nicholas Christakis    0.000350  Christian Hilbe    0.002362   \n",
       "7    Pablo Branas-Garza    0.000340     Yamir Moreno    0.002362   \n",
       "8      Toshio Yamagishi    0.000305     Xiaojie Chen    0.002170   \n",
       "9          James Fowler    0.000300    Arne Traulsen    0.001950   \n",
       "10            Long Wang    0.000248        Zhen Wang    0.001821   \n",
       "\n",
       "               Name  Betweeness              Name  Betweeness  \\\n",
       "1    Daniel Ashlock    0.000655       Matjaz Perc    0.063534   \n",
       "2       Matjaz Perc    0.000453     Luo-Luo Jiang    0.036631   \n",
       "3        Karl Tuyls    0.000436      Yamir Moreno    0.031429   \n",
       "4   Philip Hingston    0.000327  Christoph Hauert    0.027449   \n",
       "5      Eun-Youn Kim    0.000286         Long Wang    0.024083   \n",
       "6     Wendy Ashlock    0.000260         Zhen Wang    0.023949   \n",
       "7   Attila Szolnoki    0.000225      Han-Xin Yang    0.022656   \n",
       "8        Seung Baek    0.000216      Martin Nowak    0.019746   \n",
       "9      Martin Nowak    0.000211     Angel Sanchez    0.016911   \n",
       "10    Thore Graepel    0.000193       Zhihai Rong    0.015619   \n",
       "\n",
       "                    Name  Betweeness  \n",
       "1              Zengru Di    0.000096  \n",
       "2              Jian Yang    0.000033  \n",
       "3   Yevgeniy Vorobeychik    0.000026  \n",
       "4        Otavio Teixeira    0.000022  \n",
       "5       Roberto Oliveira    0.000022  \n",
       "6               M. Nowak    0.000020  \n",
       "7              M. Harper    0.000011  \n",
       "8               Xiao Han    0.000011  \n",
       "9             Zhesi Shen    0.000011  \n",
       "10           Wen-Xu Wang    0.000011  "
      ]
     },
     "execution_count": 96,
     "metadata": {},
     "output_type": "execute_result"
    }
   ],
   "source": [
    "pd.concat(tables, axis=1)"
   ]
  },
  {
   "cell_type": "code",
   "execution_count": 97,
   "metadata": {},
   "outputs": [],
   "source": [
    "# write_to_file(\n",
    "#     metric=pd.concat(tables, axis=1).round(3).to_latex(), filename=\"betweeness_topics_graphs.tex\"\n",
    "# )"
   ]
  },
  {
   "cell_type": "code",
   "execution_count": 98,
   "metadata": {},
   "outputs": [],
   "source": [
    "tables = []\n",
    "for measure in closeness:\n",
    "    table = pd.DataFrame(measure[:10], columns=[\"Name\", \"Closeness\"])\n",
    "    table.Name = [fix_names_for_table(name) for name in table.Name]\n",
    "    table.index += 1\n",
    "    tables.append(table) "
   ]
  },
  {
   "cell_type": "code",
   "execution_count": 99,
   "metadata": {},
   "outputs": [],
   "source": [
    "# write_to_file(\n",
    "#     metric=pd.concat(tables, axis=1).round(3).to_latex(), filename=\"closeness_topics_graphs.tex\"\n",
    "# )"
   ]
  },
  {
   "cell_type": "code",
   "execution_count": 100,
   "metadata": {},
   "outputs": [],
   "source": [
    "distributions_betweeness = [[point[1] for point in coeff] for coeff in betweeness]"
   ]
  },
  {
   "cell_type": "code",
   "execution_count": 119,
   "metadata": {},
   "outputs": [
    {
     "data": {
      "image/png": "[encoded data removed]",
      "text/plain": [
       "<Figure size 1080x252 with 5 Axes>"
      ]
     },
     "metadata": {
      "needs_background": "light"
     },
     "output_type": "display_data"
    }
   ],
   "source": [
    "fig, axes = plt.subplots(ncols=5, figsize=(15, 3.5))\n",
    "\n",
    "for i, measure in enumerate(distributions_betweeness):\n",
    "\n",
    "    weights = np.ones_like(measure) / float(len(measure))\n",
    "\n",
    "    axes[i].hist(measure, weights=weights, color=colors[0])\n",
    "    median = np.median(measure)\n",
    "    axes[i].axvline(median,\n",
    "                    color=\"darkred\",\n",
    "                    linestyle=\":\",\n",
    "                    linewidth=3,\n",
    "                    label=f\"median={round(median, 2)}\")\n",
    "    axes[i].set_title(topics[i], fontweight='bold')\n",
    "    \n",
    "    for tick in axes[i].get_xticklabels():\n",
    "        tick.set_rotation(45)\n",
    "\n",
    "plt.savefig(\"../../assets/images/topics_betweeness_distributions.pdf\", bbox_inches=\"tight\")"
   ]
  },
  {
   "cell_type": "code",
   "execution_count": 116,
   "metadata": {},
   "outputs": [],
   "source": [
    "# fig, axes = plt.subplots(figsize=(10, 5))\n",
    "# plt.violinplot(distributions_betweeness)\n",
    "# boxes = plt.boxplot(distributions_betweeness, showfliers=False)\n",
    "\n",
    "# for bp in boxes['medians']:\n",
    "#     bp.set_color('red')\n",
    "#     bp.set_linewidth(2)\n",
    "#     bp.set_linestyle('-.')\n",
    "# for bp in boxes['caps']:\n",
    "#     bp.set_color('black')\n",
    "#     bp.set_linewidth(2)\n",
    "# for bp in boxes['whiskers']:\n",
    "#     bp.set_color('black')\n",
    "#     bp.set_linewidth(2)\n",
    "# for bp in boxes['boxes']:\n",
    "#     bp.set_color('black')\n",
    "#     bp.set_linewidth(2)\n",
    "\n",
    "# # axes.set_ylim([0, 0.02]);\n",
    "# axes.set_ylabel('Betweeness Centrality')\n",
    "# axes.set_xticks(range(1, 6))\n",
    "# axes.set_xticklabels(topics);\n",
    "\n",
    "# plt.savefig(\"../../assets/images/topics_betweeness_distributions.pdf\", bbox_inches=\"tight\")"
   ]
  },
  {
   "cell_type": "code",
   "execution_count": 117,
   "metadata": {},
   "outputs": [],
   "source": [
    "distributions_close = [[point[1] for point in coeff] for coeff in closeness]\n"
   ]
  },
  {
   "cell_type": "code",
   "execution_count": 120,
   "metadata": {},
   "outputs": [
    {
     "data": {
      "image/png": "[encoded data removed]",
      "text/plain": [
       "<Figure size 1080x252 with 5 Axes>"
      ]
     },
     "metadata": {
      "needs_background": "light"
     },
     "output_type": "display_data"
    }
   ],
   "source": [
    "fig, axes = plt.subplots(ncols=5, figsize=(15, 3.5))\n",
    "\n",
    "for i, measure in enumerate(distributions_close):\n",
    "\n",
    "    weights = np.ones_like(measure) / float(len(measure))\n",
    "\n",
    "    axes[i].hist(measure, weights=weights, color=colors[0])\n",
    "    median = np.median(measure)\n",
    "    axes[i].axvline(median,\n",
    "                    color=\"darkred\",\n",
    "                    linestyle=\":\",\n",
    "                    linewidth=3,\n",
    "                    label=f\"median={round(median, 2)}\")\n",
    "    axes[i].set_title(topics[i], fontweight='bold')\n",
    "    \n",
    "    for tick in axes[i].get_xticklabels():\n",
    "        tick.set_rotation(45)\n",
    "\n",
    "plt.savefig(\"../../assets/images/topics_closeness_distributions.pdf\", bbox_inches=\"tight\")"
   ]
  },
  {
   "cell_type": "code",
   "execution_count": 121,
   "metadata": {},
   "outputs": [],
   "source": [
    "# fig, axes = plt.subplots(figsize=(10, 5))\n",
    "# plt.violinplot(distributions_close)\n",
    "# boxes = plt.boxplot(distributions_close, showfliers=False)\n",
    "\n",
    "# for bp in boxes['medians']:\n",
    "#     bp.set_color('red')\n",
    "#     bp.set_linewidth(2)\n",
    "#     bp.set_linestyle('-.')\n",
    "# for bp in boxes['caps']:\n",
    "#     bp.set_color('black')\n",
    "#     bp.set_linewidth(2)\n",
    "# for bp in boxes['whiskers']:\n",
    "#     bp.set_color('black')\n",
    "#     bp.set_linewidth(2)\n",
    "# for bp in boxes['boxes']:\n",
    "#     bp.set_color('black')\n",
    "#     bp.set_linewidth(2)\n",
    "\n",
    "# # axes.set_ylim([0, 0.01]);\n",
    "# axes.set_ylabel('Closeness Centrality')\n",
    "# axes.set_xticks(range(1, 6))\n",
    "# axes.set_xticklabels(topics);\n",
    "\n",
    "# plt.savefig(\"../../assets/images/topics_closeness_distributions.pdf\", bbox_inches=\"tight\")"
   ]
  },
  {
   "cell_type": "code",
   "execution_count": null,
   "metadata": {},
   "outputs": [],
   "source": []
  }
 ],
 "metadata": {
  "anaconda-cloud": {},
  "kernelspec": {
   "display_name": "literature",
   "language": "python",
   "name": "literature"
  },
  "language_info": {
   "codemirror_mode": {
    "name": "ipython",
    "version": 3
   },
   "file_extension": ".py",
   "mimetype": "text/x-python",
   "name": "python",
   "nbconvert_exporter": "python",
   "pygments_lexer": "ipython3",
   "version": "3.6.7"
  }
 },
 "nbformat": 4,
 "nbformat_minor": 1
}
