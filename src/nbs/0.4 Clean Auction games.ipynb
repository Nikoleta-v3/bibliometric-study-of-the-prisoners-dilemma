{
 "cells": [
  {
   "cell_type": "markdown",
   "metadata": {},
   "source": [
    "Clean Auction games\n",
    "--------------------"
   ]
  },
  {
   "cell_type": "code",
   "execution_count": 3,
   "metadata": {
    "collapsed": true
   },
   "outputs": [],
   "source": [
    "import glob\n",
    "import pandas as pd\n",
    "\n",
    "from tqdm import tqdm"
   ]
  },
  {
   "cell_type": "code",
   "execution_count": 4,
   "metadata": {
    "collapsed": true
   },
   "outputs": [],
   "source": [
    "import numpy as np"
   ]
  },
  {
   "cell_type": "code",
   "execution_count": 5,
   "metadata": {
    "collapsed": true
   },
   "outputs": [],
   "source": [
    "dfs = []\n",
    "for filename in glob.glob('/home/nightwing/rsc/Literature-Article/src/data/auction/*.json'):\n",
    "    dfs.append(pd.read_json(filename))"
   ]
  },
  {
   "cell_type": "code",
   "execution_count": 6,
   "metadata": {},
   "outputs": [
    {
     "data": {
      "text/html": [
       "<div>\n",
       "<table border=\"1\" class=\"dataframe\">\n",
       "  <thead>\n",
       "    <tr style=\"text-align: right;\">\n",
       "      <th></th>\n",
       "      <th>abstract</th>\n",
       "      <th>author</th>\n",
       "      <th>date</th>\n",
       "      <th>journal</th>\n",
       "      <th>key</th>\n",
       "      <th>key_word</th>\n",
       "      <th>pages</th>\n",
       "      <th>provenance</th>\n",
       "      <th>score</th>\n",
       "      <th>title</th>\n",
       "      <th>unique_key</th>\n",
       "    </tr>\n",
       "  </thead>\n",
       "  <tbody>\n",
       "    <tr>\n",
       "      <th>15999</th>\n",
       "      <td>We study the problem of characterizing reven...</td>\n",
       "      <td>Vineet Abhishek</td>\n",
       "      <td>2010</td>\n",
       "      <td>arXiv</td>\n",
       "      <td>Abhishek2010</td>\n",
       "      <td>NaN</td>\n",
       "      <td>NaN</td>\n",
       "      <td>arXiv</td>\n",
       "      <td>NaN</td>\n",
       "      <td>Revenue Optimal Auction for Single-Minded Buyers</td>\n",
       "      <td>d95c404a35ae66006fbb3ae89c5dbe71</td>\n",
       "    </tr>\n",
       "    <tr>\n",
       "      <th>16000</th>\n",
       "      <td>We study the problem of characterizing reven...</td>\n",
       "      <td>Bruce Hajek</td>\n",
       "      <td>2010</td>\n",
       "      <td>arXiv</td>\n",
       "      <td>Abhishek2010</td>\n",
       "      <td>NaN</td>\n",
       "      <td>NaN</td>\n",
       "      <td>arXiv</td>\n",
       "      <td>NaN</td>\n",
       "      <td>Revenue Optimal Auction for Single-Minded Buyers</td>\n",
       "      <td>d95c404a35ae66006fbb3ae89c5dbe71</td>\n",
       "    </tr>\n",
       "    <tr>\n",
       "      <th>16001</th>\n",
       "      <td>We study efficiency loss in Bayesian revenue...</td>\n",
       "      <td>Vineet Abhishek</td>\n",
       "      <td>2010</td>\n",
       "      <td>arXiv</td>\n",
       "      <td>Abhishek2010</td>\n",
       "      <td>NaN</td>\n",
       "      <td>NaN</td>\n",
       "      <td>arXiv</td>\n",
       "      <td>NaN</td>\n",
       "      <td>Efficiency Loss in Revenue Optimal Auctions</td>\n",
       "      <td>6bc0926da61cb7246c9964d32aeeb892</td>\n",
       "    </tr>\n",
       "    <tr>\n",
       "      <th>16002</th>\n",
       "      <td>We study efficiency loss in Bayesian revenue...</td>\n",
       "      <td>Bruce Hajek</td>\n",
       "      <td>2010</td>\n",
       "      <td>arXiv</td>\n",
       "      <td>Abhishek2010</td>\n",
       "      <td>NaN</td>\n",
       "      <td>NaN</td>\n",
       "      <td>arXiv</td>\n",
       "      <td>NaN</td>\n",
       "      <td>Efficiency Loss in Revenue Optimal Auctions</td>\n",
       "      <td>6bc0926da61cb7246c9964d32aeeb892</td>\n",
       "    </tr>\n",
       "    <tr>\n",
       "      <th>16003</th>\n",
       "      <td>The Generalized Second Price auction is the ...</td>\n",
       "      <td>Brendan Lucier</td>\n",
       "      <td>2010</td>\n",
       "      <td>arXiv</td>\n",
       "      <td>Lucier2010</td>\n",
       "      <td>NaN</td>\n",
       "      <td>NaN</td>\n",
       "      <td>arXiv</td>\n",
       "      <td>NaN</td>\n",
       "      <td>Improved Social Welfare Bounds for GSP at Equi...</td>\n",
       "      <td>9d5226b9c0cb03597ca7881d44193871</td>\n",
       "    </tr>\n",
       "  </tbody>\n",
       "</table>\n",
       "</div>"
      ],
      "text/plain": [
       "                                                abstract           author  \\\n",
       "15999    We study the problem of characterizing reven...  Vineet Abhishek   \n",
       "16000    We study the problem of characterizing reven...      Bruce Hajek   \n",
       "16001    We study efficiency loss in Bayesian revenue...  Vineet Abhishek   \n",
       "16002    We study efficiency loss in Bayesian revenue...      Bruce Hajek   \n",
       "16003    The Generalized Second Price auction is the ...   Brendan Lucier   \n",
       "\n",
       "       date journal           key key_word pages provenance  score  \\\n",
       "15999  2010   arXiv  Abhishek2010      NaN   NaN      arXiv    NaN   \n",
       "16000  2010   arXiv  Abhishek2010      NaN   NaN      arXiv    NaN   \n",
       "16001  2010   arXiv  Abhishek2010      NaN   NaN      arXiv    NaN   \n",
       "16002  2010   arXiv  Abhishek2010      NaN   NaN      arXiv    NaN   \n",
       "16003  2010   arXiv    Lucier2010      NaN   NaN      arXiv    NaN   \n",
       "\n",
       "                                                   title  \\\n",
       "15999   Revenue Optimal Auction for Single-Minded Buyers   \n",
       "16000   Revenue Optimal Auction for Single-Minded Buyers   \n",
       "16001        Efficiency Loss in Revenue Optimal Auctions   \n",
       "16002        Efficiency Loss in Revenue Optimal Auctions   \n",
       "16003  Improved Social Welfare Bounds for GSP at Equi...   \n",
       "\n",
       "                             unique_key  \n",
       "15999  d95c404a35ae66006fbb3ae89c5dbe71  \n",
       "16000  d95c404a35ae66006fbb3ae89c5dbe71  \n",
       "16001  6bc0926da61cb7246c9964d32aeeb892  \n",
       "16002  6bc0926da61cb7246c9964d32aeeb892  \n",
       "16003  9d5226b9c0cb03597ca7881d44193871  "
      ]
     },
     "execution_count": 6,
     "metadata": {},
     "output_type": "execute_result"
    }
   ],
   "source": [
    "auction_df = pd.concat(dfs, ignore_index=True)\n",
    "auction_df.tail(5)"
   ]
  },
  {
   "cell_type": "code",
   "execution_count": 7,
   "metadata": {
    "collapsed": true
   },
   "outputs": [],
   "source": [
    "auction_df = auction_df[~auction_df['title'].isnull()]"
   ]
  },
  {
   "cell_type": "code",
   "execution_count": 8,
   "metadata": {},
   "outputs": [
    {
     "data": {
      "text/plain": [
       "2227"
      ]
     },
     "execution_count": 8,
     "metadata": {},
     "output_type": "execute_result"
    }
   ],
   "source": [
    "size = len(auction_df['title'].unique())\n",
    "size"
   ]
  },
  {
   "cell_type": "markdown",
   "metadata": {},
   "source": [
    "Cleaning the data set.\n",
    "---------------------"
   ]
  },
  {
   "cell_type": "markdown",
   "metadata": {},
   "source": [
    "**1. Removing articles.**\n",
    "Check whether the key `auction` is within title or absract. If not remove from data set."
   ]
  },
  {
   "cell_type": "code",
   "execution_count": 13,
   "metadata": {
    "collapsed": true
   },
   "outputs": [],
   "source": [
    "key = 'auction'"
   ]
  },
  {
   "cell_type": "code",
   "execution_count": 14,
   "metadata": {
    "collapsed": true
   },
   "outputs": [],
   "source": [
    "auction_df['title'] = auction_df['title'].str.lower()"
   ]
  },
  {
   "cell_type": "code",
   "execution_count": 15,
   "metadata": {
    "collapsed": true
   },
   "outputs": [],
   "source": [
    "not_in_title = set()\n",
    "for i, row in auction_df.iterrows():\n",
    "    if key not in row['title']:\n",
    "        not_in_title.add(i)"
   ]
  },
  {
   "cell_type": "code",
   "execution_count": 16,
   "metadata": {
    "collapsed": true
   },
   "outputs": [],
   "source": [
    "not_in_abstract = set()\n",
    "for i, row in auction_df.iterrows():\n",
    "    if row['abstract']:\n",
    "        if key not in row['abstract']:\n",
    "            not_in_abstract.add(i)"
   ]
  },
  {
   "cell_type": "code",
   "execution_count": 17,
   "metadata": {
    "collapsed": true
   },
   "outputs": [],
   "source": [
    "drop = list(not_in_abstract.intersection(not_in_title))"
   ]
  },
  {
   "cell_type": "code",
   "execution_count": 18,
   "metadata": {
    "collapsed": true
   },
   "outputs": [],
   "source": [
    "auction_df = auction_df[~auction_df.index.isin(drop)]"
   ]
  },
  {
   "cell_type": "code",
   "execution_count": 22,
   "metadata": {},
   "outputs": [
    {
     "data": {
      "text/plain": [
       "2103"
      ]
     },
     "execution_count": 22,
     "metadata": {},
     "output_type": "execute_result"
    }
   ],
   "source": [
    "size = len(auction_df['title'].unique())\n",
    "size"
   ]
  },
  {
   "cell_type": "code",
   "execution_count": 26,
   "metadata": {
    "collapsed": true
   },
   "outputs": [],
   "source": [
    "auction_df = auction_df.replace(2018, 2017)"
   ]
  },
  {
   "cell_type": "markdown",
   "metadata": {},
   "source": [
    "**Authors.** Cleaning authors.\n",
    "\n",
    "The Levenshtein distance is used as a mesaure of similarity. A lot of manual work was put into this."
   ]
  },
  {
   "cell_type": "code",
   "execution_count": 23,
   "metadata": {
    "collapsed": true
   },
   "outputs": [],
   "source": [
    "from fuzzywuzzy import fuzz"
   ]
  },
  {
   "cell_type": "code",
   "execution_count": 24,
   "metadata": {
    "collapsed": true
   },
   "outputs": [],
   "source": [
    "auction_df['author'] = auction_df['author'].str.lower()"
   ]
  },
  {
   "cell_type": "code",
   "execution_count": 25,
   "metadata": {},
   "outputs": [
    {
     "data": {
      "text/plain": [
       "4168"
      ]
     },
     "execution_count": 25,
     "metadata": {},
     "output_type": "execute_result"
    }
   ],
   "source": [
    "len(auction_df['author'].unique())"
   ]
  },
  {
   "cell_type": "code",
   "execution_count": 26,
   "metadata": {},
   "outputs": [
    {
     "data": {
      "text/html": [
       "<div>\n",
       "<table border=\"1\" class=\"dataframe\">\n",
       "  <thead>\n",
       "    <tr style=\"text-align: right;\">\n",
       "      <th></th>\n",
       "      <th>date</th>\n",
       "      <th>score</th>\n",
       "    </tr>\n",
       "  </thead>\n",
       "  <tbody>\n",
       "    <tr>\n",
       "      <th>count</th>\n",
       "      <td>15811.000000</td>\n",
       "      <td>70.000000</td>\n",
       "    </tr>\n",
       "    <tr>\n",
       "      <th>mean</th>\n",
       "      <td>2010.080197</td>\n",
       "      <td>13.769912</td>\n",
       "    </tr>\n",
       "    <tr>\n",
       "      <th>std</th>\n",
       "      <td>5.066317</td>\n",
       "      <td>3.835304</td>\n",
       "    </tr>\n",
       "    <tr>\n",
       "      <th>min</th>\n",
       "      <td>1974.000000</td>\n",
       "      <td>9.449580</td>\n",
       "    </tr>\n",
       "    <tr>\n",
       "      <th>25%</th>\n",
       "      <td>2007.000000</td>\n",
       "      <td>9.706198</td>\n",
       "    </tr>\n",
       "    <tr>\n",
       "      <th>50%</th>\n",
       "      <td>2011.000000</td>\n",
       "      <td>13.591616</td>\n",
       "    </tr>\n",
       "    <tr>\n",
       "      <th>75%</th>\n",
       "      <td>2014.000000</td>\n",
       "      <td>14.874890</td>\n",
       "    </tr>\n",
       "    <tr>\n",
       "      <th>max</th>\n",
       "      <td>2018.000000</td>\n",
       "      <td>21.685135</td>\n",
       "    </tr>\n",
       "  </tbody>\n",
       "</table>\n",
       "</div>"
      ],
      "text/plain": [
       "               date      score\n",
       "count  15811.000000  70.000000\n",
       "mean    2010.080197  13.769912\n",
       "std        5.066317   3.835304\n",
       "min     1974.000000   9.449580\n",
       "25%     2007.000000   9.706198\n",
       "50%     2011.000000  13.591616\n",
       "75%     2014.000000  14.874890\n",
       "max     2018.000000  21.685135"
      ]
     },
     "execution_count": 26,
     "metadata": {},
     "output_type": "execute_result"
    }
   ],
   "source": [
    "auction_df.describe()"
   ]
  },
  {
   "cell_type": "code",
   "execution_count": 29,
   "metadata": {},
   "outputs": [
    {
     "name": "stderr",
     "output_type": "stream",
     "text": [
      "4168it [08:53,  7.81it/s]\n"
     ]
    }
   ],
   "source": [
    "pairs = []\n",
    "for count, i in tqdm(enumerate(auction_df.author.unique())):\n",
    "    for j in auction_df.author.unique():\n",
    "        ratio = fuzz.token_set_ratio(i,j)\n",
    "        if ratio >=85 and ratio != 100:\n",
    "            pairs.append((i, j))"
   ]
  },
  {
   "cell_type": "code",
   "execution_count": 30,
   "metadata": {},
   "outputs": [
    {
     "data": {
      "text/plain": [
       "984"
      ]
     },
     "execution_count": 30,
     "metadata": {},
     "output_type": "execute_result"
    }
   ],
   "source": [
    "len(pairs)"
   ]
  },
  {
   "cell_type": "code",
   "execution_count": 31,
   "metadata": {},
   "outputs": [
    {
     "data": {
      "text/html": [
       "<div>\n",
       "<table border=\"1\" class=\"dataframe\">\n",
       "  <thead>\n",
       "    <tr style=\"text-align: right;\">\n",
       "      <th></th>\n",
       "      <th>first_suggestion</th>\n",
       "      <th>second_suggestion</th>\n",
       "    </tr>\n",
       "  </thead>\n",
       "  <tbody>\n",
       "    <tr>\n",
       "      <th>0</th>\n",
       "      <td>zheng  tao</td>\n",
       "      <td>tao zhang</td>\n",
       "    </tr>\n",
       "    <tr>\n",
       "      <th>1</th>\n",
       "      <td>jakobsen  thomas</td>\n",
       "      <td>r. thomas</td>\n",
       "    </tr>\n",
       "    <tr>\n",
       "      <th>2</th>\n",
       "      <td>eva tardos</td>\n",
       "      <td>éva tardos</td>\n",
       "    </tr>\n",
       "    <tr>\n",
       "      <th>3</th>\n",
       "      <td>ning chen</td>\n",
       "      <td>jing chen</td>\n",
       "    </tr>\n",
       "    <tr>\n",
       "      <th>4</th>\n",
       "      <td>ning chen</td>\n",
       "      <td>chen  jing</td>\n",
       "    </tr>\n",
       "    <tr>\n",
       "      <th>5</th>\n",
       "      <td>moshe babaioff</td>\n",
       "      <td>m. babaioff</td>\n",
       "    </tr>\n",
       "    <tr>\n",
       "      <th>6</th>\n",
       "      <td>liad blumrosen</td>\n",
       "      <td>l. blumrosen</td>\n",
       "    </tr>\n",
       "    <tr>\n",
       "      <th>7</th>\n",
       "      <td>zhong chen</td>\n",
       "      <td>hongli chen</td>\n",
       "    </tr>\n",
       "    <tr>\n",
       "      <th>8</th>\n",
       "      <td>nicole immorlica</td>\n",
       "      <td>nicole immolica</td>\n",
       "    </tr>\n",
       "    <tr>\n",
       "      <th>9</th>\n",
       "      <td>wang  qing</td>\n",
       "      <td>ping wang</td>\n",
       "    </tr>\n",
       "  </tbody>\n",
       "</table>\n",
       "</div>"
      ],
      "text/plain": [
       "   first_suggestion second_suggestion\n",
       "0        zheng  tao         tao zhang\n",
       "1  jakobsen  thomas         r. thomas\n",
       "2        eva tardos        éva tardos\n",
       "3         ning chen         jing chen\n",
       "4         ning chen        chen  jing\n",
       "5    moshe babaioff       m. babaioff\n",
       "6    liad blumrosen      l. blumrosen\n",
       "7        zhong chen       hongli chen\n",
       "8  nicole immorlica   nicole immolica\n",
       "9        wang  qing         ping wang"
      ]
     },
     "execution_count": 31,
     "metadata": {},
     "output_type": "execute_result"
    }
   ],
   "source": [
    "df = pd.DataFrame(pairs, columns=['first_suggestion', 'second_suggestion'])\n",
    "df.head(10)"
   ]
  },
  {
   "cell_type": "code",
   "execution_count": 32,
   "metadata": {
    "collapsed": true
   },
   "outputs": [],
   "source": [
    "df.to_csv('/home/nightwing/rsc/Literature-Article/src/data/auction/pairs.csv')"
   ]
  },
  {
   "cell_type": "code",
   "execution_count": 33,
   "metadata": {
    "collapsed": true
   },
   "outputs": [],
   "source": [
    "replacements_df = pd.read_csv('/home/nightwing/rsc/Literature-Article/src/data/auction/replacements.csv')"
   ]
  },
  {
   "cell_type": "code",
   "execution_count": 34,
   "metadata": {},
   "outputs": [
    {
     "data": {
      "text/html": [
       "<div>\n",
       "<table border=\"1\" class=\"dataframe\">\n",
       "  <thead>\n",
       "    <tr style=\"text-align: right;\">\n",
       "      <th></th>\n",
       "      <th>Unnamed: 0</th>\n",
       "      <th>first_suggestion</th>\n",
       "      <th>second_suggestion</th>\n",
       "      <th>check</th>\n",
       "    </tr>\n",
       "  </thead>\n",
       "  <tbody>\n",
       "    <tr>\n",
       "      <th>0</th>\n",
       "      <td>0</td>\n",
       "      <td>zheng  tao</td>\n",
       "      <td>tao zhang</td>\n",
       "      <td>False</td>\n",
       "    </tr>\n",
       "    <tr>\n",
       "      <th>1</th>\n",
       "      <td>1</td>\n",
       "      <td>jakobsen  thomas</td>\n",
       "      <td>r. thomas</td>\n",
       "      <td>False</td>\n",
       "    </tr>\n",
       "    <tr>\n",
       "      <th>2</th>\n",
       "      <td>2</td>\n",
       "      <td>eva tardos</td>\n",
       "      <td>éva tardos</td>\n",
       "      <td>True</td>\n",
       "    </tr>\n",
       "    <tr>\n",
       "      <th>3</th>\n",
       "      <td>3</td>\n",
       "      <td>ning chen</td>\n",
       "      <td>jing chen</td>\n",
       "      <td>False</td>\n",
       "    </tr>\n",
       "    <tr>\n",
       "      <th>4</th>\n",
       "      <td>4</td>\n",
       "      <td>ning chen</td>\n",
       "      <td>chen  jing</td>\n",
       "      <td>False</td>\n",
       "    </tr>\n",
       "  </tbody>\n",
       "</table>\n",
       "</div>"
      ],
      "text/plain": [
       "   Unnamed: 0  first_suggestion second_suggestion  check\n",
       "0           0        zheng  tao         tao zhang  False\n",
       "1           1  jakobsen  thomas         r. thomas  False\n",
       "2           2        eva tardos        éva tardos   True\n",
       "3           3         ning chen         jing chen  False\n",
       "4           4         ning chen        chen  jing  False"
      ]
     },
     "execution_count": 34,
     "metadata": {},
     "output_type": "execute_result"
    }
   ],
   "source": [
    "replacements_df.head()"
   ]
  },
  {
   "cell_type": "code",
   "execution_count": 37,
   "metadata": {
    "collapsed": true
   },
   "outputs": [],
   "source": [
    "for i, replacement_row in replacements_df.iterrows():\n",
    "    if replacement_row['check']:\n",
    "        auction_df = auction_df.replace(replacement_row['second_suggestion'], \n",
    "                                        replacement_row['first_suggestion'])"
   ]
  },
  {
   "cell_type": "code",
   "execution_count": 38,
   "metadata": {
    "collapsed": true
   },
   "outputs": [],
   "source": [
    "auction_df.to_csv('/home/nightwing/rsc/Literature-Article/src/data/auction_df.csv')"
   ]
  }
 ],
 "metadata": {
  "anaconda-cloud": {},
  "kernelspec": {
   "display_name": "Python [conda env:literature]",
   "language": "python",
   "name": "conda-env-literature-py"
  },
  "language_info": {
   "codemirror_mode": {
    "name": "ipython",
    "version": 3
   },
   "file_extension": ".py",
   "mimetype": "text/x-python",
   "name": "python",
   "nbconvert_exporter": "python",
   "pygments_lexer": "ipython3",
   "version": "3.6.0"
  }
 },
 "nbformat": 4,
 "nbformat_minor": 1
}
