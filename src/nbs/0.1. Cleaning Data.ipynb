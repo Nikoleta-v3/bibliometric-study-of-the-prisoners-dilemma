{
 "cells": [
  {
   "cell_type": "markdown",
   "metadata": {
    "collapsed": true
   },
   "source": [
    "# Cleaning Data"
   ]
  },
  {
   "cell_type": "markdown",
   "metadata": {},
   "source": [
    "This notebook is used in order to clean the metadata retrieved with the software Arcas."
   ]
  },
  {
   "cell_type": "code",
   "execution_count": 1,
   "metadata": {
    "collapsed": true
   },
   "outputs": [],
   "source": [
    "import glob\n",
    "import pandas as pd"
   ]
  },
  {
   "cell_type": "code",
   "execution_count": 2,
   "metadata": {
    "collapsed": true
   },
   "outputs": [],
   "source": [
    "# raw articles retrieved with Arcas\n",
    "dfs = []\n",
    "for filename in glob.glob('../data/articles/*.json'):\n",
    "    dfs.append(pd.read_json(filename))"
   ]
  },
  {
   "cell_type": "code",
   "execution_count": 3,
   "metadata": {
    "collapsed": true
   },
   "outputs": [],
   "source": [
    "df = pd.concat(dfs, ignore_index=True)"
   ]
  },
  {
   "cell_type": "code",
   "execution_count": 5,
   "metadata": {
    "collapsed": true
   },
   "outputs": [],
   "source": [
    "# these have been manually looked upon and cleaned"
   ]
  },
  {
   "cell_type": "code",
   "execution_count": 6,
   "metadata": {
    "collapsed": true
   },
   "outputs": [],
   "source": [
    "df.to_json('../data/data.json')"
   ]
  },
  {
   "cell_type": "markdown",
   "metadata": {},
   "source": [
    "Cleaning authors' names \n",
    "----------------------------\n",
    "\n",
    "The issue with names is that there are various ways ones name can be written. This issue could have not been avoided during the data collection because journals and the authors themsleves have different ways of writing one's name.\n",
    "\n",
    "> *ex. Nikoleta Evdokia Glynatsi, Nikoleta E Glynatsi, N E Glynatsi, N Glynatsi.*"
   ]
  },
  {
   "cell_type": "markdown",
   "metadata": {},
   "source": [
    "Not many efficient ways for addressing the problem have been found. After a search on various ways of string comparison the Levenshtein distance has been chosen as a measure. The Levenshtein distance is a string metric for measuring the difference between two sequences. [wikipedia link](https://en.wikipedia.org/wiki/Levenshtein_distance).\n",
    "\n",
    "To compute the difference in python the open source library [fuzzywuzzy](https://github.com/seatgeek/fuzzywuzzy) will be used. "
   ]
  },
  {
   "cell_type": "code",
   "execution_count": 7,
   "metadata": {
    "collapsed": true
   },
   "outputs": [],
   "source": [
    "df = pd.read_json('../data/data_nov_2017.json')"
   ]
  },
  {
   "cell_type": "code",
   "execution_count": 4,
   "metadata": {
    "collapsed": true
   },
   "outputs": [],
   "source": [
    "# Initial all letter in the string author are lowercased.\n",
    "df.author = df.author.str.lower()"
   ]
  },
  {
   "cell_type": "code",
   "execution_count": 5,
   "metadata": {
    "collapsed": true
   },
   "outputs": [],
   "source": [
    "from fuzzywuzzy import fuzz"
   ]
  },
  {
   "cell_type": "markdown",
   "metadata": {},
   "source": [
    "We can output the names that are very similar but the last check has to be manually."
   ]
  },
  {
   "cell_type": "code",
   "execution_count": 8,
   "metadata": {
    "collapsed": true
   },
   "outputs": [],
   "source": [
    "temp = df[1000:2000]"
   ]
  },
  {
   "cell_type": "code",
   "execution_count": 9,
   "metadata": {},
   "outputs": [
    {
     "name": "stdout",
     "output_type": "stream",
     "text": [
      "jorge pena jorge peña\n",
      "li chen lin chen\n",
      "gyorgy szabo györgy szabó\n",
      "györgy szabó gyorgy szabo\n",
      "matjaz perc matjaž perc\n",
      "christopher griffin christopher lee\n",
      "j. a. cuesta josé a. cuesta\n",
      "zhen wang yang  zhen\n",
      "künneth  christopher christopher lee\n",
      " stephen e. stephen g. z. smith\n",
      "lin chen li chen\n",
      "stephen g. z. smith  stephen e.\n",
      "christopher lee christopher griffin\n",
      "christopher lee künneth  christopher\n",
      "y. -h. wang z. y. wang\n",
      "y. -h. wang p. y. wang\n",
      "josé a. cuesta j. a. cuesta\n",
      "matjaž perc matjaz perc\n",
      "z. y. wang y. -h. wang\n",
      "z. y. wang p. y. wang\n",
      "p. y. wang y. -h. wang\n",
      "p. y. wang z. y. wang\n",
      "yang  zhen zhen wang\n",
      "jorge peña jorge pena\n"
     ]
    }
   ],
   "source": [
    "for i in temp.author.unique():\n",
    "    for j in temp.author.unique():\n",
    "        ratio = fuzz.token_set_ratio(i,j)\n",
    "        if ratio >=85 and ratio != 100:\n",
    "            print(i, j)"
   ]
  },
  {
   "cell_type": "code",
   "execution_count": 13,
   "metadata": {},
   "outputs": [
    {
     "data": {
      "text/plain": [
       "array([ 'Spectrum sharing in iterated Prisoner’s Dilemma game based on evolutionary strategies for Cognitive Radios'], dtype=object)"
      ]
     },
     "execution_count": 13,
     "metadata": {},
     "output_type": "execute_result"
    }
   ],
   "source": [
    "df[df['author'] == 'yang  zhen']['title'].unique()"
   ]
  },
  {
   "cell_type": "markdown",
   "metadata": {
    "collapsed": true
   },
   "source": [
    "Duplicate articles\n",
    "------------------"
   ]
  },
  {
   "cell_type": "code",
   "execution_count": 10,
   "metadata": {},
   "outputs": [
    {
     "data": {
      "text/html": [
       "<div>\n",
       "<table border=\"1\" class=\"dataframe\">\n",
       "  <thead>\n",
       "    <tr style=\"text-align: right;\">\n",
       "      <th></th>\n",
       "      <th>unique_key</th>\n",
       "      <th>0</th>\n",
       "    </tr>\n",
       "    <tr>\n",
       "      <th>title</th>\n",
       "      <th></th>\n",
       "      <th></th>\n",
       "    </tr>\n",
       "  </thead>\n",
       "  <tbody>\n",
       "    <tr>\n",
       "      <th>Beyond pairwise strategy updating in the prisoner's dilemma game</th>\n",
       "      <td>2</td>\n",
       "      <td>2</td>\n",
       "    </tr>\n",
       "    <tr>\n",
       "      <th>Cooperation, Norms, and Revolutions: A Unified Game-Theoretical Approach</th>\n",
       "      <td>2</td>\n",
       "      <td>2</td>\n",
       "    </tr>\n",
       "    <tr>\n",
       "      <th>Human behavior in Prisoner's Dilemma experiments suppresses network reciprocity</th>\n",
       "      <td>2</td>\n",
       "      <td>2</td>\n",
       "    </tr>\n",
       "    <tr>\n",
       "      <th>Playing a quantum game on polarization vortices</th>\n",
       "      <td>2</td>\n",
       "      <td>2</td>\n",
       "    </tr>\n",
       "    <tr>\n",
       "      <th>The Art of War: Beyond Memory-one Strategies in Population Games</th>\n",
       "      <td>2</td>\n",
       "      <td>2</td>\n",
       "    </tr>\n",
       "    <tr>\n",
       "      <th>The Prisoner’s Dilemma</th>\n",
       "      <td>2</td>\n",
       "      <td>2</td>\n",
       "    </tr>\n",
       "  </tbody>\n",
       "</table>\n",
       "</div>"
      ],
      "text/plain": [
       "                                                    unique_key  0\n",
       "title                                                            \n",
       "Beyond pairwise strategy updating in the prison...           2  2\n",
       "Cooperation, Norms, and Revolutions: A Unified ...           2  2\n",
       "Human behavior in Prisoner's Dilemma experiment...           2  2\n",
       "Playing a quantum game on polarization vortices              2  2\n",
       "The Art of War: Beyond Memory-one Strategies in...           2  2\n",
       "The Prisoner’s Dilemma                                       2  2"
      ]
     },
     "execution_count": 10,
     "metadata": {},
     "output_type": "execute_result"
    }
   ],
   "source": [
    "table = df.groupby(['title', 'unique_key']).size().reset_index().groupby('title').count()\n",
    "duplicates = table[table['unique_key']==2]\n",
    "duplicates"
   ]
  },
  {
   "cell_type": "code",
   "execution_count": 11,
   "metadata": {},
   "outputs": [
    {
     "data": {
      "text/plain": [
       "6"
      ]
     },
     "execution_count": 11,
     "metadata": {},
     "output_type": "execute_result"
    }
   ],
   "source": [
    "len(duplicates)"
   ]
  },
  {
   "cell_type": "code",
   "execution_count": 13,
   "metadata": {},
   "outputs": [
    {
     "data": {
      "text/html": [
       "<div>\n",
       "<table border=\"1\" class=\"dataframe\">\n",
       "  <thead>\n",
       "    <tr style=\"text-align: right;\">\n",
       "      <th></th>\n",
       "      <th>abstract</th>\n",
       "      <th>author</th>\n",
       "      <th>date</th>\n",
       "      <th>journal</th>\n",
       "      <th>key</th>\n",
       "      <th>key_word</th>\n",
       "      <th>labels</th>\n",
       "      <th>list_strategies</th>\n",
       "      <th>pages</th>\n",
       "      <th>provenance</th>\n",
       "      <th>read</th>\n",
       "      <th>score</th>\n",
       "      <th>title</th>\n",
       "      <th>unique_key</th>\n",
       "    </tr>\n",
       "  </thead>\n",
       "  <tbody>\n",
       "    <tr>\n",
       "      <th>10248</th>\n",
       "      <td>Cooperation is of utmost importance to society...</td>\n",
       "      <td>anders johansson</td>\n",
       "      <td>2010</td>\n",
       "      <td>Helbing, D and Johansson, A (2010) Cooperation...</td>\n",
       "      <td>Helbing2010</td>\n",
       "      <td>None</td>\n",
       "      <td>None</td>\n",
       "      <td>None</td>\n",
       "      <td>None</td>\n",
       "      <td>arXiv</td>\n",
       "      <td>None</td>\n",
       "      <td>None</td>\n",
       "      <td>Cooperation, Norms, and Revolutions: A Unified...</td>\n",
       "      <td>f7ef3626edc9fb376e5703f804b31d9f</td>\n",
       "    </tr>\n",
       "    <tr>\n",
       "      <th>10249</th>\n",
       "      <td>Cooperation is of utmost importance to society...</td>\n",
       "      <td>dirk helbing</td>\n",
       "      <td>2010</td>\n",
       "      <td>Helbing, D and Johansson, A (2010) Cooperation...</td>\n",
       "      <td>Helbing2010</td>\n",
       "      <td>None</td>\n",
       "      <td>None</td>\n",
       "      <td>None</td>\n",
       "      <td>None</td>\n",
       "      <td>arXiv</td>\n",
       "      <td>None</td>\n",
       "      <td>None</td>\n",
       "      <td>Cooperation, Norms, and Revolutions: A Unified...</td>\n",
       "      <td>f7ef3626edc9fb376e5703f804b31d9f</td>\n",
       "    </tr>\n",
       "    <tr>\n",
       "      <th>1087</th>\n",
       "      <td>The model of the subject with reflexion allows...</td>\n",
       "      <td>lefebvre a. vladimir</td>\n",
       "      <td>2001</td>\n",
       "      <td>Algebra of Conscience</td>\n",
       "      <td>Lefebvre2001</td>\n",
       "      <td>None</td>\n",
       "      <td>None</td>\n",
       "      <td>None</td>\n",
       "      <td>None</td>\n",
       "      <td>Springer</td>\n",
       "      <td>None</td>\n",
       "      <td>None</td>\n",
       "      <td>The Prisoner’s Dilemma</td>\n",
       "      <td>1bbb5d8a9929baf02be426da7daf5b29</td>\n",
       "    </tr>\n",
       "    <tr>\n",
       "      <th>2130</th>\n",
       "      <td>The quantum mechanical approach to the well kn...</td>\n",
       "      <td>a. g. m. schmidt</td>\n",
       "      <td>2013</td>\n",
       "      <td>arXiv</td>\n",
       "      <td>Pinheiro2013</td>\n",
       "      <td>None</td>\n",
       "      <td>None</td>\n",
       "      <td>None</td>\n",
       "      <td>None</td>\n",
       "      <td>arXiv</td>\n",
       "      <td>None</td>\n",
       "      <td>None</td>\n",
       "      <td>Playing a quantum game on polarization vortices</td>\n",
       "      <td>37ab4593323d0cf0901a71416ff5876c</td>\n",
       "    </tr>\n",
       "    <tr>\n",
       "      <th>2131</th>\n",
       "      <td>The quantum mechanical approach to the well kn...</td>\n",
       "      <td>a. r. c. pinheiro</td>\n",
       "      <td>2013</td>\n",
       "      <td>arXiv</td>\n",
       "      <td>Pinheiro2013</td>\n",
       "      <td>None</td>\n",
       "      <td>None</td>\n",
       "      <td>None</td>\n",
       "      <td>None</td>\n",
       "      <td>arXiv</td>\n",
       "      <td>None</td>\n",
       "      <td>None</td>\n",
       "      <td>Playing a quantum game on polarization vortices</td>\n",
       "      <td>37ab4593323d0cf0901a71416ff5876c</td>\n",
       "    </tr>\n",
       "  </tbody>\n",
       "</table>\n",
       "</div>"
      ],
      "text/plain": [
       "                                                abstract  \\\n",
       "10248  Cooperation is of utmost importance to society...   \n",
       "10249  Cooperation is of utmost importance to society...   \n",
       "1087   The model of the subject with reflexion allows...   \n",
       "2130   The quantum mechanical approach to the well kn...   \n",
       "2131   The quantum mechanical approach to the well kn...   \n",
       "\n",
       "                     author  date  \\\n",
       "10248      anders johansson  2010   \n",
       "10249          dirk helbing  2010   \n",
       "1087   lefebvre a. vladimir  2001   \n",
       "2130       a. g. m. schmidt  2013   \n",
       "2131      a. r. c. pinheiro  2013   \n",
       "\n",
       "                                                 journal           key  \\\n",
       "10248  Helbing, D and Johansson, A (2010) Cooperation...   Helbing2010   \n",
       "10249  Helbing, D and Johansson, A (2010) Cooperation...   Helbing2010   \n",
       "1087                               Algebra of Conscience  Lefebvre2001   \n",
       "2130                                               arXiv  Pinheiro2013   \n",
       "2131                                               arXiv  Pinheiro2013   \n",
       "\n",
       "      key_word labels list_strategies pages provenance  read score  \\\n",
       "10248     None   None            None  None      arXiv  None  None   \n",
       "10249     None   None            None  None      arXiv  None  None   \n",
       "1087      None   None            None  None   Springer  None  None   \n",
       "2130      None   None            None  None      arXiv  None  None   \n",
       "2131      None   None            None  None      arXiv  None  None   \n",
       "\n",
       "                                                   title  \\\n",
       "10248  Cooperation, Norms, and Revolutions: A Unified...   \n",
       "10249  Cooperation, Norms, and Revolutions: A Unified...   \n",
       "1087                              The Prisoner’s Dilemma   \n",
       "2130     Playing a quantum game on polarization vortices   \n",
       "2131     Playing a quantum game on polarization vortices   \n",
       "\n",
       "                             unique_key  \n",
       "10248  f7ef3626edc9fb376e5703f804b31d9f  \n",
       "10249  f7ef3626edc9fb376e5703f804b31d9f  \n",
       "1087   1bbb5d8a9929baf02be426da7daf5b29  \n",
       "2130   37ab4593323d0cf0901a71416ff5876c  \n",
       "2131   37ab4593323d0cf0901a71416ff5876c  "
      ]
     },
     "execution_count": 13,
     "metadata": {},
     "output_type": "execute_result"
    }
   ],
   "source": [
    "df[df['title'].isin(duplicates.index)].head()"
   ]
  },
  {
   "cell_type": "markdown",
   "metadata": {},
   "source": [
    "**Provenance of duplicates.**"
   ]
  },
  {
   "cell_type": "code",
   "execution_count": 37,
   "metadata": {},
   "outputs": [
    {
     "name": "stdout",
     "output_type": "stream",
     "text": [
      "Beyond pairwise strategy updating in the prisoner's dilemma game ['Nature' 'arXiv']\n",
      "Cooperation, Norms, and Revolutions: A Unified Game-Theoretical Approach ['arXiv' 'PLOS']\n",
      "Human behavior in Prisoner's Dilemma experiments suppresses network reciprocity ['Nature' 'arXiv']\n",
      "Playing a quantum game on polarization vortices ['arXiv' 'IEEE']\n",
      "The Art of War: Beyond Memory-one Strategies in Population Games ['PLOS' 'arXiv']\n",
      "The Prisoner’s Dilemma ['Springer']\n"
     ]
    }
   ],
   "source": [
    "for tlt in duplicates.index:\n",
    "    print(tlt, df[df['title'] == tlt]['provenance'].unique())"
   ]
  },
  {
   "cell_type": "markdown",
   "metadata": {},
   "source": [
    "**Drop duplicates.**"
   ]
  },
  {
   "cell_type": "code",
   "execution_count": 38,
   "metadata": {},
   "outputs": [
    {
     "data": {
      "text/plain": [
       "array(['f7ef3626edc9fb376e5703f804b31d9f',\n",
       "       '37ab4593323d0cf0901a71416ff5876c',\n",
       "       '7e64918889fd1a9be63d428604057056',\n",
       "       '9f7bb1dc93e57eb0a938eacdba9b6231',\n",
       "       'e39363f9882c617dbf6f0cc1e1a448dc'], dtype=object)"
      ]
     },
     "execution_count": 38,
     "metadata": {},
     "output_type": "execute_result"
    }
   ],
   "source": [
    "articles_to_drop = df[(df['title'].isin(duplicates.index)) & (df['provenance']=='arXiv')]['unique_key'].unique()\n",
    "articles_to_drop"
   ]
  },
  {
   "cell_type": "code",
   "execution_count": 39,
   "metadata": {
    "collapsed": true
   },
   "outputs": [],
   "source": [
    "df = df[~df['unique_key'].isin(articles_to_drop)]"
   ]
  },
  {
   "cell_type": "code",
   "execution_count": 40,
   "metadata": {
    "collapsed": true
   },
   "outputs": [],
   "source": [
    "df = df[~df['unique_key'].isin(['d25332adc4378bb2320319c6007decf3', 'e45e8a6e0e7738f987f86e45f71db931'])]"
   ]
  },
  {
   "cell_type": "code",
   "execution_count": 41,
   "metadata": {},
   "outputs": [
    {
     "data": {
      "text/plain": [
       "(1142, 1143)"
      ]
     },
     "execution_count": 41,
     "metadata": {},
     "output_type": "execute_result"
    }
   ],
   "source": [
    "len(df['title'].unique()), len(df['unique_key'].unique())"
   ]
  },
  {
   "cell_type": "markdown",
   "metadata": {},
   "source": [
    "**Export clean json.**"
   ]
  },
  {
   "cell_type": "code",
   "execution_count": 42,
   "metadata": {
    "collapsed": true
   },
   "outputs": [],
   "source": [
    "df.to_json('../data/data_nov_2017_clean.json')"
   ]
  }
 ],
 "metadata": {
  "anaconda-cloud": {},
  "kernelspec": {
   "display_name": "Python [conda env:literature]",
   "language": "python",
   "name": "conda-env-literature-py"
  },
  "language_info": {
   "codemirror_mode": {
    "name": "ipython",
    "version": 3
   },
   "file_extension": ".py",
   "mimetype": "text/x-python",
   "name": "python",
   "nbconvert_exporter": "python",
   "pygments_lexer": "ipython3",
   "version": "3.6.0"
  }
 },
 "nbformat": 4,
 "nbformat_minor": 2
}
