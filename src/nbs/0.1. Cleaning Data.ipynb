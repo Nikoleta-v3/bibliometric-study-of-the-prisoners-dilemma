{
 "cells": [
  {
   "cell_type": "markdown",
   "metadata": {
    "collapsed": true
   },
   "source": [
    "# Cleaning Data"
   ]
  },
  {
   "cell_type": "markdown",
   "metadata": {},
   "source": [
    "This notebook is used in order to clean the metadata retrieved with the software Arcas."
   ]
  },
  {
   "cell_type": "code",
   "execution_count": 1,
   "metadata": {
    "collapsed": true
   },
   "outputs": [],
   "source": [
    "import glob\n",
    "import pandas as pd"
   ]
  },
  {
   "cell_type": "code",
   "execution_count": 2,
   "metadata": {
    "collapsed": true
   },
   "outputs": [],
   "source": [
    "import json\n",
    "import arcas"
   ]
  },
  {
   "cell_type": "code",
   "execution_count": 3,
   "metadata": {
    "collapsed": true
   },
   "outputs": [],
   "source": [
    "def normalise_names(s):\n",
    "\n",
    "    # split the string into a list  \n",
    "    l = s.split() \n",
    "    new = \"\" \n",
    "  \n",
    "    # traverse in the list  \n",
    "    for i in range(len(l)-1): \n",
    "        s = l[i] \n",
    "          \n",
    "        # adds the capital first character  \n",
    "        new += (s[0].upper()+'.') \n",
    "          \n",
    "    # l[-1] gives last item of list l. We \n",
    "    # use title to print first character in \n",
    "    # capital. \n",
    "    new += l[-1].title() \n",
    "      \n",
    "    return new "
   ]
  },
  {
   "cell_type": "code",
   "execution_count": 4,
   "metadata": {},
   "outputs": [],
   "source": [
    "raw_articles = []\n",
    "for filename in glob.glob('../raw_data/*_Springer_*.json'):\n",
    "    with open(filename) as json_data:\n",
    "        d = json.load(json_data)\n",
    "        raw_articles.append(d)"
   ]
  },
  {
   "cell_type": "code",
   "execution_count": 5,
   "metadata": {},
   "outputs": [],
   "source": [
    "flat_list = [item for sublist in raw_articles for item in sublist]"
   ]
  },
  {
   "cell_type": "code",
   "execution_count": 6,
   "metadata": {},
   "outputs": [],
   "source": [
    "api =  arcas.Springer()\n",
    "articles = []\n",
    "for art in flat_list:\n",
    "    articles.append(api.to_dataframe(art))"
   ]
  },
  {
   "cell_type": "code",
   "execution_count": 7,
   "metadata": {},
   "outputs": [],
   "source": [
    "dataframe = pd.concat(articles, ignore_index=True)"
   ]
  },
  {
   "cell_type": "code",
   "execution_count": 8,
   "metadata": {},
   "outputs": [],
   "source": [
    "dataframe = dataframe[~(dataframe['author']=='No authors found for this document.')]"
   ]
  },
  {
   "cell_type": "code",
   "execution_count": 9,
   "metadata": {},
   "outputs": [],
   "source": [
    "# dataframe = dataframe[~(dataframe['author']==None)]"
   ]
  },
  {
   "cell_type": "code",
   "execution_count": 15,
   "metadata": {},
   "outputs": [],
   "source": [
    "names = dataframe.author"
   ]
  },
  {
   "cell_type": "code",
   "execution_count": 16,
   "metadata": {},
   "outputs": [],
   "source": [
    "edited = []\n",
    "for name in names:\n",
    "    first, last = name.split(' ', 1)\n",
    "    edited.append(first + ' ' + last)"
   ]
  },
  {
   "cell_type": "code",
   "execution_count": 17,
   "metadata": {
    "collapsed": true
   },
   "outputs": [],
   "source": [
    "edited_names = [normalise_names(name) for name in edited]"
   ]
  },
  {
   "cell_type": "code",
   "execution_count": 18,
   "metadata": {},
   "outputs": [],
   "source": [
    "dataframe.author = edited_names"
   ]
  },
  {
   "cell_type": "code",
   "execution_count": 19,
   "metadata": {},
   "outputs": [
    {
     "data": {
      "text/html": [
       "<div>\n",
       "<style scoped>\n",
       "    .dataframe tbody tr th:only-of-type {\n",
       "        vertical-align: middle;\n",
       "    }\n",
       "\n",
       "    .dataframe tbody tr th {\n",
       "        vertical-align: top;\n",
       "    }\n",
       "\n",
       "    .dataframe thead th {\n",
       "        text-align: right;\n",
       "    }\n",
       "</style>\n",
       "<table border=\"1\" class=\"dataframe\">\n",
       "  <thead>\n",
       "    <tr style=\"text-align: right;\">\n",
       "      <th></th>\n",
       "      <th>url</th>\n",
       "      <th>key</th>\n",
       "      <th>unique_key</th>\n",
       "      <th>title</th>\n",
       "      <th>author</th>\n",
       "      <th>abstract</th>\n",
       "      <th>doi</th>\n",
       "      <th>date</th>\n",
       "      <th>journal</th>\n",
       "      <th>provenance</th>\n",
       "      <th>category</th>\n",
       "      <th>score</th>\n",
       "      <th>open_access</th>\n",
       "    </tr>\n",
       "  </thead>\n",
       "  <tbody>\n",
       "    <tr>\n",
       "      <th>0</th>\n",
       "      <td>http://dx.doi.org/10.1007/978-3-319-94511-8_6</td>\n",
       "      <td>Michele2019</td>\n",
       "      <td>b25dc6c833044fc195ffb5ced9674508</td>\n",
       "      <td>Using Photovoice with Ex-prisoners: An Exemplar</td>\n",
       "      <td>J.Michele</td>\n",
       "      <td>This chapter is drawn from the author’s Photov...</td>\n",
       "      <td>10.1007/978-3-319-94511-8_6</td>\n",
       "      <td>2019</td>\n",
       "      <td>Photovoice Handbook for Social Workers</td>\n",
       "      <td>Springer</td>\n",
       "      <td>Not available</td>\n",
       "      <td>Not available</td>\n",
       "      <td>False</td>\n",
       "    </tr>\n",
       "    <tr>\n",
       "      <th>1</th>\n",
       "      <td>http://dx.doi.org/10.1038/s41598-018-34116-0</td>\n",
       "      <td>Yu’e2018</td>\n",
       "      <td>0ed2b091cdccbc34e928f3f1d6c7209b</td>\n",
       "      <td>Environment-based preference selection promote...</td>\n",
       "      <td>W.Yu’E</td>\n",
       "      <td>The impact of environment on individuals is pa...</td>\n",
       "      <td>10.1038/s41598-018-34116-0</td>\n",
       "      <td>2018</td>\n",
       "      <td>Scientific Reports</td>\n",
       "      <td>Springer</td>\n",
       "      <td>Not available</td>\n",
       "      <td>Not available</td>\n",
       "      <td>True</td>\n",
       "    </tr>\n",
       "    <tr>\n",
       "      <th>2</th>\n",
       "      <td>http://dx.doi.org/10.1038/s41598-018-34116-0</td>\n",
       "      <td>Yu’e2018</td>\n",
       "      <td>0ed2b091cdccbc34e928f3f1d6c7209b</td>\n",
       "      <td>Environment-based preference selection promote...</td>\n",
       "      <td>Z.Shuhua</td>\n",
       "      <td>The impact of environment on individuals is pa...</td>\n",
       "      <td>10.1038/s41598-018-34116-0</td>\n",
       "      <td>2018</td>\n",
       "      <td>Scientific Reports</td>\n",
       "      <td>Springer</td>\n",
       "      <td>Not available</td>\n",
       "      <td>Not available</td>\n",
       "      <td>True</td>\n",
       "    </tr>\n",
       "    <tr>\n",
       "      <th>3</th>\n",
       "      <td>http://dx.doi.org/10.1038/s41598-018-34116-0</td>\n",
       "      <td>Yu’e2018</td>\n",
       "      <td>0ed2b091cdccbc34e928f3f1d6c7209b</td>\n",
       "      <td>Environment-based preference selection promote...</td>\n",
       "      <td>Z.Zhipeng</td>\n",
       "      <td>The impact of environment on individuals is pa...</td>\n",
       "      <td>10.1038/s41598-018-34116-0</td>\n",
       "      <td>2018</td>\n",
       "      <td>Scientific Reports</td>\n",
       "      <td>Springer</td>\n",
       "      <td>Not available</td>\n",
       "      <td>Not available</td>\n",
       "      <td>True</td>\n",
       "    </tr>\n",
       "    <tr>\n",
       "      <th>4</th>\n",
       "      <td>http://dx.doi.org/10.1007/s11277-018-5328-y</td>\n",
       "      <td>Jiayu2018</td>\n",
       "      <td>880f765582be433336c8dcc5b2f069a5</td>\n",
       "      <td>Trust Degree can Preserve Community Structure ...</td>\n",
       "      <td>Z.Jiayu</td>\n",
       "      <td>Community structure is one of the most ubiquit...</td>\n",
       "      <td>10.1007/s11277-018-5328-y</td>\n",
       "      <td>2018</td>\n",
       "      <td>Wireless Personal Communications</td>\n",
       "      <td>Springer</td>\n",
       "      <td>Not available</td>\n",
       "      <td>Not available</td>\n",
       "      <td>False</td>\n",
       "    </tr>\n",
       "  </tbody>\n",
       "</table>\n",
       "</div>"
      ],
      "text/plain": [
       "                                             url          key  \\\n",
       "0  http://dx.doi.org/10.1007/978-3-319-94511-8_6  Michele2019   \n",
       "1   http://dx.doi.org/10.1038/s41598-018-34116-0     Yu’e2018   \n",
       "2   http://dx.doi.org/10.1038/s41598-018-34116-0     Yu’e2018   \n",
       "3   http://dx.doi.org/10.1038/s41598-018-34116-0     Yu’e2018   \n",
       "4    http://dx.doi.org/10.1007/s11277-018-5328-y    Jiayu2018   \n",
       "\n",
       "                         unique_key  \\\n",
       "0  b25dc6c833044fc195ffb5ced9674508   \n",
       "1  0ed2b091cdccbc34e928f3f1d6c7209b   \n",
       "2  0ed2b091cdccbc34e928f3f1d6c7209b   \n",
       "3  0ed2b091cdccbc34e928f3f1d6c7209b   \n",
       "4  880f765582be433336c8dcc5b2f069a5   \n",
       "\n",
       "                                               title     author  \\\n",
       "0    Using Photovoice with Ex-prisoners: An Exemplar  J.Michele   \n",
       "1  Environment-based preference selection promote...     W.Yu’E   \n",
       "2  Environment-based preference selection promote...   Z.Shuhua   \n",
       "3  Environment-based preference selection promote...  Z.Zhipeng   \n",
       "4  Trust Degree can Preserve Community Structure ...    Z.Jiayu   \n",
       "\n",
       "                                            abstract  \\\n",
       "0  This chapter is drawn from the author’s Photov...   \n",
       "1  The impact of environment on individuals is pa...   \n",
       "2  The impact of environment on individuals is pa...   \n",
       "3  The impact of environment on individuals is pa...   \n",
       "4  Community structure is one of the most ubiquit...   \n",
       "\n",
       "                           doi  date                                 journal  \\\n",
       "0  10.1007/978-3-319-94511-8_6  2019  Photovoice Handbook for Social Workers   \n",
       "1   10.1038/s41598-018-34116-0  2018                      Scientific Reports   \n",
       "2   10.1038/s41598-018-34116-0  2018                      Scientific Reports   \n",
       "3   10.1038/s41598-018-34116-0  2018                      Scientific Reports   \n",
       "4    10.1007/s11277-018-5328-y  2018        Wireless Personal Communications   \n",
       "\n",
       "  provenance       category          score  open_access  \n",
       "0   Springer  Not available  Not available        False  \n",
       "1   Springer  Not available  Not available         True  \n",
       "2   Springer  Not available  Not available         True  \n",
       "3   Springer  Not available  Not available         True  \n",
       "4   Springer  Not available  Not available        False  "
      ]
     },
     "execution_count": 19,
     "metadata": {},
     "output_type": "execute_result"
    }
   ],
   "source": [
    "dataframe.head()"
   ]
  },
  {
   "cell_type": "code",
   "execution_count": 20,
   "metadata": {},
   "outputs": [],
   "source": [
    "api.export(dataframe, '../Springer.json')"
   ]
  },
  {
   "cell_type": "code",
   "execution_count": 21,
   "metadata": {
    "collapsed": true
   },
   "outputs": [],
   "source": [
    "data = []\n",
    "for filename in glob.glob('../*.json'):\n",
    "    data.append(pd.read_json(filename))"
   ]
  },
  {
   "cell_type": "code",
   "execution_count": 23,
   "metadata": {},
   "outputs": [],
   "source": [
    "df = pd.concat(data, ignore_index=True, sort=False)"
   ]
  },
  {
   "cell_type": "code",
   "execution_count": 25,
   "metadata": {},
   "outputs": [
    {
     "data": {
      "text/plain": [
       "array(['Springer', 'IEEE', 'PLOS', 'Nature', 'arXiv'], dtype=object)"
      ]
     },
     "execution_count": 25,
     "metadata": {},
     "output_type": "execute_result"
    }
   ],
   "source": [
    "df.provenance.unique()"
   ]
  },
  {
   "cell_type": "code",
   "execution_count": 26,
   "metadata": {},
   "outputs": [
    {
     "data": {
      "text/plain": [
       "442"
      ]
     },
     "execution_count": 26,
     "metadata": {},
     "output_type": "execute_result"
    }
   ],
   "source": [
    "len(df.title.unique())"
   ]
  },
  {
   "cell_type": "code",
   "execution_count": 28,
   "metadata": {},
   "outputs": [
    {
     "data": {
      "text/plain": [
       "448"
      ]
     },
     "execution_count": 28,
     "metadata": {},
     "output_type": "execute_result"
    }
   ],
   "source": [
    "len(df.unique_key.unique())"
   ]
  },
  {
   "cell_type": "code",
   "execution_count": 30,
   "metadata": {},
   "outputs": [],
   "source": [
    "d = pd.read_json('../Nature.json')"
   ]
  },
  {
   "cell_type": "code",
   "execution_count": 31,
   "metadata": {},
   "outputs": [
    {
     "data": {
      "text/plain": [
       "13"
      ]
     },
     "execution_count": 31,
     "metadata": {},
     "output_type": "execute_result"
    }
   ],
   "source": [
    "len(d.title.unique())"
   ]
  },
  {
   "cell_type": "markdown",
   "metadata": {},
   "source": [
    "Cleaning authors' names \n",
    "----------------------------\n",
    "\n",
    "The issue with names is that there are various ways ones name can be written. This issue could have not been avoided during the data collection because journals and the authors themsleves have different ways of writing one's name.\n",
    "\n",
    "> *ex. Nikoleta Evdokia Glynatsi, Nikoleta E Glynatsi, N E Glynatsi, N Glynatsi.*"
   ]
  },
  {
   "cell_type": "markdown",
   "metadata": {},
   "source": [
    "Not many efficient ways for addressing the problem have been found. After a search on various ways of string comparison the Levenshtein distance has been chosen as a measure. The Levenshtein distance is a string metric for measuring the difference between two sequences. [wikipedia link](https://en.wikipedia.org/wiki/Levenshtein_distance).\n",
    "\n",
    "To compute the difference in python the open source library [fuzzywuzzy](https://github.com/seatgeek/fuzzywuzzy) will be used. "
   ]
  },
  {
   "cell_type": "code",
   "execution_count": 6,
   "metadata": {
    "collapsed": true
   },
   "outputs": [],
   "source": [
    "df = pd.read_json('../data/data_nov_2017.json')"
   ]
  },
  {
   "cell_type": "code",
   "execution_count": 7,
   "metadata": {
    "collapsed": true
   },
   "outputs": [],
   "source": [
    "# Initial all letter in the string author are lowercased.\n",
    "df.author = df.author.str.lower()"
   ]
  },
  {
   "cell_type": "code",
   "execution_count": 8,
   "metadata": {
    "collapsed": true
   },
   "outputs": [],
   "source": [
    "from fuzzywuzzy import fuzz"
   ]
  },
  {
   "cell_type": "markdown",
   "metadata": {},
   "source": [
    "We can output the names that are very similar but the last check has to be manually."
   ]
  },
  {
   "cell_type": "code",
   "execution_count": 13,
   "metadata": {
    "collapsed": true
   },
   "outputs": [],
   "source": [
    "temp = df"
   ]
  },
  {
   "cell_type": "code",
   "execution_count": 14,
   "metadata": {
    "scrolled": true
   },
   "outputs": [
    {
     "name": "stdout",
     "output_type": "stream",
     "text": [
      "yilei wang wang  yiling\n",
      "yilei wang lei wang\n",
      "zhe liu liu zheng\n",
      "cong li rong li\n",
      "long wang jinlong wang\n",
      "he tao shen tao\n",
      "lin wang lin yang\n",
      "lin wang xin wang\n",
      "lin wang lei wang\n",
      "lin wang wang  l.\n",
      "xiaofan wang xiaoyang wang\n",
      "xiaofan wang xiaofeng wang\n",
      "li yang lin yang\n",
      "li yang hang li\n",
      "li yang yi  yang\n",
      "li yang yang yi\n",
      "lei xue lei xu\n",
      "chen shen chen  zhen\n",
      "chen shen zhen chen\n",
      "jianwei huang jianwei wang\n",
      "mei sun min sun\n",
      "mei sun sun  min\n",
      "stefan schauer schuster  stefan\n",
      "lin yang lin wang\n",
      "lin yang li yang\n",
      "richard y. chen y. -z. chen\n",
      "shiwei zhang wei zhang\n",
      "hui li hui lin\n",
      "hui lin hui li\n",
      "xiuzhen cheng xiuzhen feng\n",
      "chen  michael z. q. y. -z. chen\n",
      "anatol rapoport m. rapoport\n",
      "francisco c. santos m. santos\n",
      "jinlong wang long wang\n",
      "jinlong wang zhang jinlong\n",
      "jinlong wang wang  long\n",
      "zhen wang yang  zhen\n",
      "jianwei wang jianwei huang\n",
      "hang li li yang\n",
      "y. -z. chen richard y. chen\n",
      "y. -z. chen chen  michael z. q.\n",
      "yan zhang yang zhang\n",
      "yan zhang yanfu zhang\n",
      "victor m. eguluz victor m. eguiluz\n",
      "qiang li xiang li\n",
      "ling jing jing li\n",
      "christopher griffin christopher lee\n",
      "daniel ashlock daniel allcock\n",
      "d. s. wilson d. a. wilson\n",
      "juan wang jun wang\n",
      "wang  yiling yilei wang\n",
      "wang  yiling wang  yuling\n",
      "xiaoyang wang xiaofan wang\n",
      "xiaoyang wang xiaofeng wang\n",
      "yi  yang li yang\n",
      "chen  zhen chen shen\n",
      "lin  chuang j. chuang\n",
      "chun-xia yang chun-lei yang\n",
      "xiuzhen feng xiuzhen cheng\n",
      "yijian liu liu  jian\n",
      "xin wang lin wang\n",
      "prashant m. gade p. m. gade\n",
      "liu  jian yijian liu\n",
      "liu  jian jia liu\n",
      "jun wang juan wang\n",
      "n. lanchier nicolas lanchier\n",
      "d. mattia donatella mattia\n",
      "f. babiloni fabio babiloni\n",
      "f. cincotti febo cincotti\n",
      "f. de vico fallani fabrizio de vico fallani\n",
      "l. astolfi laura astolfi\n",
      "r. sinatra roberta sinatra\n",
      "v. latora vito latora\n",
      "v. nicosia vincenzo nicosia\n",
      "zhang jie jie zheng\n",
      "lin chao chao liu\n",
      "lei xu lei xue\n",
      "sha zhou shi zhou\n",
      "xian song qian song\n",
      "xin jin xing jin\n",
      "yang zhang yan zhang\n",
      "yang zhang ying zhang\n",
      "yang zhang yanfu zhang\n",
      "m. santos francisco c. santos\n",
      "m. santos edval j. p. santos\n",
      "m. santos iván j. santos-soto\n",
      "m. santos santos  francisco c.\n",
      "m. santos ricardo oliveira dos santos soares\n",
      "t. b. pedro pedro dal bó\n",
      "wei zhang shiwei zhang\n",
      "wei zhang mei zhang\n",
      "wei zhang zhang  mei\n",
      "janusz szwabiński szwabiński  j.\n",
      "s. meloni sandro meloni\n",
      "cheng guo chen guo\n",
      "jia liu liu  jian\n",
      "xing jin xin jin\n",
      "xing jin qing jin\n",
      "nicolas lanchier n. lanchier\n",
      "wang  yuling wang  yiling\n",
      "lin zhang lifeng zhang\n",
      "lin zhang min zhang\n",
      "david hayes david hales\n",
      "szabó  g. g. szabo\n",
      "singh vijendra vijender singh\n",
      "sandro meloni s. meloni\n",
      "robert hoffmann r. hoffmann\n",
      "huaqing zhang qing-pu zhang\n",
      "huaqing zhang huaging zhang\n",
      "m. g. marciani mg. marciani\n",
      "edval j. p. santos m. santos\n",
      "p. j. darwen darwen  paul j.\n",
      "wangheng liu liu  wangpeng\n",
      "liu  wangpeng wangheng liu\n",
      "ying zhang yang zhang\n",
      "xin yu-hong hongxia yu\n",
      "chun-lei yang chun-xia yang\n",
      "li sun yuli sun\n",
      "harvey s. jamesjr. harvey s. james\n",
      "sheng-jun wang sheng-wen wang\n",
      "g. szabo szabó  g.\n",
      "lifeng zhang lin zhang\n",
      "lifeng zhang feng zhang\n",
      "min sun mei sun\n",
      "iván j. santos-soto m. santos\n",
      "r. hoffmann robert hoffmann\n",
      "christopher duffy christopher lee\n",
      "mei zhang wei zhang\n",
      "mei zhang min zhang\n",
      "christopher lee christopher griffin\n",
      "christopher lee christopher duffy\n",
      "christopher lee christopher voll\n",
      "christopher lee christopher wilke\n",
      "christopher lee christopher kuusela\n",
      "uzay çetin uzay cetin\n",
      "d. a. wilson d. s. wilson\n",
      "qing jin xing jin\n",
      "chuang lin j. chuang\n",
      "zhen chen chen shen\n",
      "m. gaudesi marco gaudesi\n",
      "lei wang yilei wang\n",
      "lei wang lin wang\n",
      "lei wang wang  l.\n",
      "qing-pu zhang huaqing zhang\n",
      "qing-pu zhang gui-qing zhang\n",
      "shi zhou sha zhou\n",
      "p. m. gade prashant m. gade\n",
      "santos  francisco c. m. santos\n",
      "xiang li qiang li\n",
      "xiang li xing li\n",
      "schuster  stefan stefan schauer\n",
      "chao liu lin chao\n",
      "mg. marciani m. g. marciani\n",
      "wang  l. lin wang\n",
      "wang  l. lei wang\n",
      "da-fang zheng dafang zhang\n",
      "m. n. szilagyi szilagyi  miklos n.\n",
      "rong li cong li\n",
      "xiaofeng wang xiaofan wang\n",
      "xiaofeng wang xiaoyang wang\n",
      "pedro dal bó t. b. pedro\n",
      "chen guo cheng guo\n",
      "gui-qing zhang qing-pu zhang\n",
      "ricardo oliveira dos santos soares m. santos\n",
      "huaging zhang huaqing zhang\n",
      "yang yi li yang\n",
      "sun  min mei sun\n",
      "qian song xian song\n",
      "christopher voll christopher lee\n",
      "yanfu zhang yan zhang\n",
      "yanfu zhang yang zhang\n",
      "victor m. eguiluz victor m. eguluz\n",
      "uzay cetin uzay çetin\n",
      "daniel allcock daniel ashlock\n",
      "m. rapoport anatol rapoport\n",
      "h. shishido t. shishido\n",
      "t. shishido h. shishido\n",
      "xing li xiang li\n",
      "xing li ping li\n",
      "xing li jing li\n",
      "vijender singh singh vijendra\n",
      "darwen  paul j. p. j. darwen\n",
      "ping li xing li\n",
      "ping li jing li\n",
      "min zhang lin zhang\n",
      "min zhang mei zhang\n",
      "min zhang zhang  mei\n",
      "hongxia yu xin yu-hong\n",
      "szwabiński  j. janusz szwabiński\n",
      "yang  zhen zhen wang\n",
      "liu zheng zhe liu\n",
      "david hales david hayes\n",
      "zhang jinlong jinlong wang\n",
      "sheng-wen wang sheng-jun wang\n",
      "christopher wilke christopher lee\n",
      "donatella mattia d. mattia\n",
      "fabio babiloni f. babiloni\n",
      "fabrizio de vico fallani f. de vico fallani\n",
      "febo cincotti f. cincotti\n",
      "laura astolfi l. astolfi\n",
      "roberta sinatra r. sinatra\n",
      "vincenzo nicosia v. nicosia\n",
      "vito latora v. latora\n",
      "shen tao he tao\n",
      "zhang  mei wei zhang\n",
      "zhang  mei min zhang\n",
      "christopher kuusela christopher lee\n",
      "jing li ling jing\n",
      "jing li xing li\n",
      "jing li ping li\n",
      "yuli sun li sun\n",
      "s. felix wu felix f. wu\n",
      "szilagyi  miklos n. m. n. szilagyi\n",
      "jie zheng zhang jie\n",
      "felix f. wu s. felix wu\n",
      "dafang zhang da-fang zheng\n",
      "j. chuang lin  chuang\n",
      "j. chuang chuang lin\n",
      "feng zhang lifeng zhang\n",
      "harvey s. james harvey s. jamesjr.\n",
      "wang  long jinlong wang\n",
      "marco gaudesi m. gaudesi\n"
     ]
    }
   ],
   "source": [
    "for i in temp.author.unique():\n",
    "    for j in temp.author.unique():\n",
    "        ratio = fuzz.token_set_ratio(i,j)\n",
    "        if ratio >=85 and ratio != 100:\n",
    "            print(i, j)"
   ]
  },
  {
   "cell_type": "code",
   "execution_count": 13,
   "metadata": {},
   "outputs": [
    {
     "data": {
      "text/plain": [
       "array([ 'Spectrum sharing in iterated Prisoner’s Dilemma game based on evolutionary strategies for Cognitive Radios'], dtype=object)"
      ]
     },
     "execution_count": 13,
     "metadata": {},
     "output_type": "execute_result"
    }
   ],
   "source": [
    "df[df['author'] == 'yang  zhen']['title'].unique()"
   ]
  },
  {
   "cell_type": "markdown",
   "metadata": {
    "collapsed": true
   },
   "source": [
    "Duplicate articles\n",
    "------------------"
   ]
  },
  {
   "cell_type": "code",
   "execution_count": 10,
   "metadata": {},
   "outputs": [
    {
     "data": {
      "text/html": [
       "<div>\n",
       "<table border=\"1\" class=\"dataframe\">\n",
       "  <thead>\n",
       "    <tr style=\"text-align: right;\">\n",
       "      <th></th>\n",
       "      <th>unique_key</th>\n",
       "      <th>0</th>\n",
       "    </tr>\n",
       "    <tr>\n",
       "      <th>title</th>\n",
       "      <th></th>\n",
       "      <th></th>\n",
       "    </tr>\n",
       "  </thead>\n",
       "  <tbody>\n",
       "    <tr>\n",
       "      <th>Beyond pairwise strategy updating in the prisoner's dilemma game</th>\n",
       "      <td>2</td>\n",
       "      <td>2</td>\n",
       "    </tr>\n",
       "    <tr>\n",
       "      <th>Cooperation, Norms, and Revolutions: A Unified Game-Theoretical Approach</th>\n",
       "      <td>2</td>\n",
       "      <td>2</td>\n",
       "    </tr>\n",
       "    <tr>\n",
       "      <th>Human behavior in Prisoner's Dilemma experiments suppresses network reciprocity</th>\n",
       "      <td>2</td>\n",
       "      <td>2</td>\n",
       "    </tr>\n",
       "    <tr>\n",
       "      <th>Playing a quantum game on polarization vortices</th>\n",
       "      <td>2</td>\n",
       "      <td>2</td>\n",
       "    </tr>\n",
       "    <tr>\n",
       "      <th>The Art of War: Beyond Memory-one Strategies in Population Games</th>\n",
       "      <td>2</td>\n",
       "      <td>2</td>\n",
       "    </tr>\n",
       "    <tr>\n",
       "      <th>The Prisoner’s Dilemma</th>\n",
       "      <td>2</td>\n",
       "      <td>2</td>\n",
       "    </tr>\n",
       "  </tbody>\n",
       "</table>\n",
       "</div>"
      ],
      "text/plain": [
       "                                                    unique_key  0\n",
       "title                                                            \n",
       "Beyond pairwise strategy updating in the prison...           2  2\n",
       "Cooperation, Norms, and Revolutions: A Unified ...           2  2\n",
       "Human behavior in Prisoner's Dilemma experiment...           2  2\n",
       "Playing a quantum game on polarization vortices              2  2\n",
       "The Art of War: Beyond Memory-one Strategies in...           2  2\n",
       "The Prisoner’s Dilemma                                       2  2"
      ]
     },
     "execution_count": 10,
     "metadata": {},
     "output_type": "execute_result"
    }
   ],
   "source": [
    "table = df.groupby(['title', 'unique_key']).size().reset_index().groupby('title').count()\n",
    "duplicates = table[table['unique_key']==2]\n",
    "duplicates"
   ]
  },
  {
   "cell_type": "code",
   "execution_count": 11,
   "metadata": {},
   "outputs": [
    {
     "data": {
      "text/plain": [
       "6"
      ]
     },
     "execution_count": 11,
     "metadata": {},
     "output_type": "execute_result"
    }
   ],
   "source": [
    "len(duplicates)"
   ]
  },
  {
   "cell_type": "code",
   "execution_count": 13,
   "metadata": {},
   "outputs": [
    {
     "data": {
      "text/html": [
       "<div>\n",
       "<table border=\"1\" class=\"dataframe\">\n",
       "  <thead>\n",
       "    <tr style=\"text-align: right;\">\n",
       "      <th></th>\n",
       "      <th>abstract</th>\n",
       "      <th>author</th>\n",
       "      <th>date</th>\n",
       "      <th>journal</th>\n",
       "      <th>key</th>\n",
       "      <th>key_word</th>\n",
       "      <th>labels</th>\n",
       "      <th>list_strategies</th>\n",
       "      <th>pages</th>\n",
       "      <th>provenance</th>\n",
       "      <th>read</th>\n",
       "      <th>score</th>\n",
       "      <th>title</th>\n",
       "      <th>unique_key</th>\n",
       "    </tr>\n",
       "  </thead>\n",
       "  <tbody>\n",
       "    <tr>\n",
       "      <th>10248</th>\n",
       "      <td>Cooperation is of utmost importance to society...</td>\n",
       "      <td>anders johansson</td>\n",
       "      <td>2010</td>\n",
       "      <td>Helbing, D and Johansson, A (2010) Cooperation...</td>\n",
       "      <td>Helbing2010</td>\n",
       "      <td>None</td>\n",
       "      <td>None</td>\n",
       "      <td>None</td>\n",
       "      <td>None</td>\n",
       "      <td>arXiv</td>\n",
       "      <td>None</td>\n",
       "      <td>None</td>\n",
       "      <td>Cooperation, Norms, and Revolutions: A Unified...</td>\n",
       "      <td>f7ef3626edc9fb376e5703f804b31d9f</td>\n",
       "    </tr>\n",
       "    <tr>\n",
       "      <th>10249</th>\n",
       "      <td>Cooperation is of utmost importance to society...</td>\n",
       "      <td>dirk helbing</td>\n",
       "      <td>2010</td>\n",
       "      <td>Helbing, D and Johansson, A (2010) Cooperation...</td>\n",
       "      <td>Helbing2010</td>\n",
       "      <td>None</td>\n",
       "      <td>None</td>\n",
       "      <td>None</td>\n",
       "      <td>None</td>\n",
       "      <td>arXiv</td>\n",
       "      <td>None</td>\n",
       "      <td>None</td>\n",
       "      <td>Cooperation, Norms, and Revolutions: A Unified...</td>\n",
       "      <td>f7ef3626edc9fb376e5703f804b31d9f</td>\n",
       "    </tr>\n",
       "    <tr>\n",
       "      <th>1087</th>\n",
       "      <td>The model of the subject with reflexion allows...</td>\n",
       "      <td>lefebvre a. vladimir</td>\n",
       "      <td>2001</td>\n",
       "      <td>Algebra of Conscience</td>\n",
       "      <td>Lefebvre2001</td>\n",
       "      <td>None</td>\n",
       "      <td>None</td>\n",
       "      <td>None</td>\n",
       "      <td>None</td>\n",
       "      <td>Springer</td>\n",
       "      <td>None</td>\n",
       "      <td>None</td>\n",
       "      <td>The Prisoner’s Dilemma</td>\n",
       "      <td>1bbb5d8a9929baf02be426da7daf5b29</td>\n",
       "    </tr>\n",
       "    <tr>\n",
       "      <th>2130</th>\n",
       "      <td>The quantum mechanical approach to the well kn...</td>\n",
       "      <td>a. g. m. schmidt</td>\n",
       "      <td>2013</td>\n",
       "      <td>arXiv</td>\n",
       "      <td>Pinheiro2013</td>\n",
       "      <td>None</td>\n",
       "      <td>None</td>\n",
       "      <td>None</td>\n",
       "      <td>None</td>\n",
       "      <td>arXiv</td>\n",
       "      <td>None</td>\n",
       "      <td>None</td>\n",
       "      <td>Playing a quantum game on polarization vortices</td>\n",
       "      <td>37ab4593323d0cf0901a71416ff5876c</td>\n",
       "    </tr>\n",
       "    <tr>\n",
       "      <th>2131</th>\n",
       "      <td>The quantum mechanical approach to the well kn...</td>\n",
       "      <td>a. r. c. pinheiro</td>\n",
       "      <td>2013</td>\n",
       "      <td>arXiv</td>\n",
       "      <td>Pinheiro2013</td>\n",
       "      <td>None</td>\n",
       "      <td>None</td>\n",
       "      <td>None</td>\n",
       "      <td>None</td>\n",
       "      <td>arXiv</td>\n",
       "      <td>None</td>\n",
       "      <td>None</td>\n",
       "      <td>Playing a quantum game on polarization vortices</td>\n",
       "      <td>37ab4593323d0cf0901a71416ff5876c</td>\n",
       "    </tr>\n",
       "  </tbody>\n",
       "</table>\n",
       "</div>"
      ],
      "text/plain": [
       "                                                abstract  \\\n",
       "10248  Cooperation is of utmost importance to society...   \n",
       "10249  Cooperation is of utmost importance to society...   \n",
       "1087   The model of the subject with reflexion allows...   \n",
       "2130   The quantum mechanical approach to the well kn...   \n",
       "2131   The quantum mechanical approach to the well kn...   \n",
       "\n",
       "                     author  date  \\\n",
       "10248      anders johansson  2010   \n",
       "10249          dirk helbing  2010   \n",
       "1087   lefebvre a. vladimir  2001   \n",
       "2130       a. g. m. schmidt  2013   \n",
       "2131      a. r. c. pinheiro  2013   \n",
       "\n",
       "                                                 journal           key  \\\n",
       "10248  Helbing, D and Johansson, A (2010) Cooperation...   Helbing2010   \n",
       "10249  Helbing, D and Johansson, A (2010) Cooperation...   Helbing2010   \n",
       "1087                               Algebra of Conscience  Lefebvre2001   \n",
       "2130                                               arXiv  Pinheiro2013   \n",
       "2131                                               arXiv  Pinheiro2013   \n",
       "\n",
       "      key_word labels list_strategies pages provenance  read score  \\\n",
       "10248     None   None            None  None      arXiv  None  None   \n",
       "10249     None   None            None  None      arXiv  None  None   \n",
       "1087      None   None            None  None   Springer  None  None   \n",
       "2130      None   None            None  None      arXiv  None  None   \n",
       "2131      None   None            None  None      arXiv  None  None   \n",
       "\n",
       "                                                   title  \\\n",
       "10248  Cooperation, Norms, and Revolutions: A Unified...   \n",
       "10249  Cooperation, Norms, and Revolutions: A Unified...   \n",
       "1087                              The Prisoner’s Dilemma   \n",
       "2130     Playing a quantum game on polarization vortices   \n",
       "2131     Playing a quantum game on polarization vortices   \n",
       "\n",
       "                             unique_key  \n",
       "10248  f7ef3626edc9fb376e5703f804b31d9f  \n",
       "10249  f7ef3626edc9fb376e5703f804b31d9f  \n",
       "1087   1bbb5d8a9929baf02be426da7daf5b29  \n",
       "2130   37ab4593323d0cf0901a71416ff5876c  \n",
       "2131   37ab4593323d0cf0901a71416ff5876c  "
      ]
     },
     "execution_count": 13,
     "metadata": {},
     "output_type": "execute_result"
    }
   ],
   "source": [
    "df[df['title'].isin(duplicates.index)].head()"
   ]
  },
  {
   "cell_type": "markdown",
   "metadata": {},
   "source": [
    "**Provenance of duplicates.**"
   ]
  },
  {
   "cell_type": "code",
   "execution_count": 37,
   "metadata": {},
   "outputs": [
    {
     "name": "stdout",
     "output_type": "stream",
     "text": [
      "Beyond pairwise strategy updating in the prisoner's dilemma game ['Nature' 'arXiv']\n",
      "Cooperation, Norms, and Revolutions: A Unified Game-Theoretical Approach ['arXiv' 'PLOS']\n",
      "Human behavior in Prisoner's Dilemma experiments suppresses network reciprocity ['Nature' 'arXiv']\n",
      "Playing a quantum game on polarization vortices ['arXiv' 'IEEE']\n",
      "The Art of War: Beyond Memory-one Strategies in Population Games ['PLOS' 'arXiv']\n",
      "The Prisoner’s Dilemma ['Springer']\n"
     ]
    }
   ],
   "source": [
    "for tlt in duplicates.index:\n",
    "    print(tlt, df[df['title'] == tlt]['provenance'].unique())"
   ]
  },
  {
   "cell_type": "markdown",
   "metadata": {},
   "source": [
    "**Drop duplicates.**"
   ]
  },
  {
   "cell_type": "code",
   "execution_count": 38,
   "metadata": {},
   "outputs": [
    {
     "data": {
      "text/plain": [
       "array(['f7ef3626edc9fb376e5703f804b31d9f',\n",
       "       '37ab4593323d0cf0901a71416ff5876c',\n",
       "       '7e64918889fd1a9be63d428604057056',\n",
       "       '9f7bb1dc93e57eb0a938eacdba9b6231',\n",
       "       'e39363f9882c617dbf6f0cc1e1a448dc'], dtype=object)"
      ]
     },
     "execution_count": 38,
     "metadata": {},
     "output_type": "execute_result"
    }
   ],
   "source": [
    "articles_to_drop = df[(df['title'].isin(duplicates.index)) & (df['provenance']=='arXiv')]['unique_key'].unique()\n",
    "articles_to_drop"
   ]
  },
  {
   "cell_type": "code",
   "execution_count": 39,
   "metadata": {
    "collapsed": true
   },
   "outputs": [],
   "source": [
    "df = df[~df['unique_key'].isin(articles_to_drop)]"
   ]
  },
  {
   "cell_type": "code",
   "execution_count": 40,
   "metadata": {
    "collapsed": true
   },
   "outputs": [],
   "source": [
    "df = df[~df['unique_key'].isin(['d25332adc4378bb2320319c6007decf3', 'e45e8a6e0e7738f987f86e45f71db931'])]"
   ]
  },
  {
   "cell_type": "code",
   "execution_count": 41,
   "metadata": {},
   "outputs": [
    {
     "data": {
      "text/plain": [
       "(1142, 1143)"
      ]
     },
     "execution_count": 41,
     "metadata": {},
     "output_type": "execute_result"
    }
   ],
   "source": [
    "len(df['title'].unique()), len(df['unique_key'].unique())"
   ]
  },
  {
   "cell_type": "markdown",
   "metadata": {},
   "source": [
    "**Export clean json.**"
   ]
  },
  {
   "cell_type": "code",
   "execution_count": 42,
   "metadata": {
    "collapsed": true
   },
   "outputs": [],
   "source": [
    "df.to_json('../data/data_nov_2017_clean.json')"
   ]
  }
 ],
 "metadata": {
  "anaconda-cloud": {},
  "kernelspec": {
   "display_name": "literature",
   "language": "python",
   "name": "literature"
  },
  "language_info": {
   "codemirror_mode": {
    "name": "ipython",
    "version": 3
   },
   "file_extension": ".py",
   "mimetype": "text/x-python",
   "name": "python",
   "nbconvert_exporter": "python",
   "pygments_lexer": "ipython3",
   "version": "3.7.0"
  }
 },
 "nbformat": 4,
 "nbformat_minor": 2
}
