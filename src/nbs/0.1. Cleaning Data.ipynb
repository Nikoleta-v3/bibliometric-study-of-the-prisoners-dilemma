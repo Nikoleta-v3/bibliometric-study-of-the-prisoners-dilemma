{
 "cells": [
  {
   "cell_type": "markdown",
   "metadata": {
    "collapsed": true
   },
   "source": [
    "# Cleaning Data"
   ]
  },
  {
   "cell_type": "markdown",
   "metadata": {},
   "source": [
    "This notebook is used in order to clean the metadata retrieved with the software Arcas."
   ]
  },
  {
   "cell_type": "code",
   "execution_count": 58,
   "metadata": {},
   "outputs": [],
   "source": [
    "import glob\n",
    "import pandas as pd"
   ]
  },
  {
   "cell_type": "code",
   "execution_count": 28,
   "metadata": {},
   "outputs": [],
   "source": [
    "files = ['../data/Arxiv.json', '../data/Ieee.json', '../data/Plos.json', '../data/Nature.json', \n",
    "         '../data/Springer.json', '../data/bibliography.json']"
   ]
  },
  {
   "cell_type": "code",
   "execution_count": 29,
   "metadata": {},
   "outputs": [],
   "source": [
    "dfs = []\n",
    "for filename in files:\n",
    "    dfs.append(pd.read_json(filename))"
   ]
  },
  {
   "cell_type": "code",
   "execution_count": 30,
   "metadata": {},
   "outputs": [],
   "source": [
    "df = pd.concat(dfs, ignore_index=True, sort=False)"
   ]
  },
  {
   "cell_type": "code",
   "execution_count": 31,
   "metadata": {},
   "outputs": [
    {
     "data": {
      "text/plain": [
       "array(['arXiv', 'IEEE', 'PLOS', 'Nature', 'Springer', 'Manual'],\n",
       "      dtype=object)"
      ]
     },
     "execution_count": 31,
     "metadata": {},
     "output_type": "execute_result"
    }
   ],
   "source": [
    "df.provenance.unique()"
   ]
  },
  {
   "cell_type": "code",
   "execution_count": 32,
   "metadata": {},
   "outputs": [
    {
     "data": {
      "text/plain": [
       "3653"
      ]
     },
     "execution_count": 32,
     "metadata": {},
     "output_type": "execute_result"
    }
   ],
   "source": [
    "len(df.title.unique())"
   ]
  },
  {
   "cell_type": "code",
   "execution_count": 33,
   "metadata": {},
   "outputs": [
    {
     "data": {
      "text/plain": [
       "3704"
      ]
     },
     "execution_count": 33,
     "metadata": {},
     "output_type": "execute_result"
    }
   ],
   "source": [
    "len(df.unique_key.unique())"
   ]
  },
  {
   "cell_type": "code",
   "execution_count": 34,
   "metadata": {},
   "outputs": [
    {
     "data": {
      "text/plain": [
       "provenance\n",
       "IEEE         319\n",
       "Manual        90\n",
       "Nature       666\n",
       "PLOS         416\n",
       "Springer     334\n",
       "arXiv       1879\n",
       "dtype: int64"
      ]
     },
     "execution_count": 34,
     "metadata": {},
     "output_type": "execute_result"
    }
   ],
   "source": [
    "provenance_size = df.groupby(['unique_key', 'provenance']).size().reset_index().groupby('provenance').size()\n",
    "provenance_size"
   ]
  },
  {
   "cell_type": "code",
   "execution_count": 35,
   "metadata": {},
   "outputs": [],
   "source": [
    "df = df[~(df['date'] < 1950)]"
   ]
  },
  {
   "cell_type": "code",
   "execution_count": 36,
   "metadata": {},
   "outputs": [],
   "source": [
    "df.to_json('../data/pd_November_2018.json')"
   ]
  },
  {
   "cell_type": "markdown",
   "metadata": {},
   "source": [
    "Cleaning authors' names \n",
    "----------------------------\n",
    "\n",
    "The issue with names is that there are various ways ones name can be written. This issue could have not been avoided during the data collection because journals and the authors themsleves have different ways of writing one's name.\n",
    "\n",
    "> *ex. Nikoleta Evdokia Glynatsi, Nikoleta E Glynatsi, N E Glynatsi, N Glynatsi.*"
   ]
  },
  {
   "cell_type": "markdown",
   "metadata": {},
   "source": [
    "Not many efficient ways for addressing the problem have been found. After a search on various ways of string comparison the Levenshtein distance has been chosen as a measure. The Levenshtein distance is a string metric for measuring the difference between two sequences. [wikipedia link](https://en.wikipedia.org/wiki/Levenshtein_distance).\n",
    "\n",
    "To compute the difference in python the open source library [fuzzywuzzy](https://github.com/seatgeek/fuzzywuzzy) will be used. "
   ]
  },
  {
   "cell_type": "code",
   "execution_count": 37,
   "metadata": {},
   "outputs": [],
   "source": [
    "df = pd.read_json('../data/pd_November_2018.json')"
   ]
  },
  {
   "cell_type": "code",
   "execution_count": 38,
   "metadata": {},
   "outputs": [],
   "source": [
    "# Initial all letter in the string author are lowercased.\n",
    "df.author = df.author.str.lower()"
   ]
  },
  {
   "cell_type": "code",
   "execution_count": 39,
   "metadata": {},
   "outputs": [],
   "source": [
    "#from fuzzywuzzy import fuzz\n",
    "import itertools"
   ]
  },
  {
   "cell_type": "code",
   "execution_count": 40,
   "metadata": {},
   "outputs": [],
   "source": [
    "import tqdm"
   ]
  },
  {
   "cell_type": "markdown",
   "metadata": {},
   "source": [
    "We can output the names that are very similar but the last check has to be manually."
   ]
  },
  {
   "cell_type": "code",
   "execution_count": 41,
   "metadata": {},
   "outputs": [],
   "source": [
    "temp = df"
   ]
  },
  {
   "cell_type": "code",
   "execution_count": 42,
   "metadata": {},
   "outputs": [],
   "source": [
    "pairs = itertools.combinations(temp.author.unique(), 2)"
   ]
  },
  {
   "cell_type": "code",
   "execution_count": 44,
   "metadata": {
    "scrolled": true
   },
   "outputs": [],
   "source": [
    "to_check = []\n",
    "for i, j in tqdm.tqdm(pairs):\n",
    "    ratio = fuzz.token_set_ratio(i,j)\n",
    "    if ratio >=90 and ratio != 100:\n",
    "        to_check.append((i, j))"
   ]
  },
  {
   "cell_type": "code",
   "execution_count": 64,
   "metadata": {},
   "outputs": [
    {
     "data": {
      "text/plain": [
       "[('s.cho', 's.chow'),\n",
       " ('d.cole', 'd.coyle'),\n",
       " ('p.grossman', 'g.grossman'),\n",
       " ('p.grossman', 'r.grossman'),\n",
       " ('j.campbell', 'o.campbell'),\n",
       " ('j.campbell', 't.campbell'),\n",
       " ('y.yamaguchi', 'm.yamaguchi'),\n",
       " ('k.kanazawa', 's.kanazawa'),\n",
       " ('x.han', 'x.shan'),\n",
       " ('d.zhao', 'd.hao'),\n",
       " ('t.mori', 't.omori'),\n",
       " ('e.anderson', 'j.anderson'),\n",
       " ('e.anderson', 'p.anderson'),\n",
       " ('e.anderson', 'a.anderson'),\n",
       " ('e.anderson', 'd.anderson'),\n",
       " ('m.seredynski', 'f.seredynski'),\n",
       " ('y.nakashima', 't.nakashima'),\n",
       " ('y.nakashima', 'y.nagashima'),\n",
       " ('y.nakashima', 'y.kashima'),\n",
       " ('y.nakashima', 'h.nakashima'),\n",
       " ('j.williams', 'm.williams'),\n",
       " ('j.williams', 't.williams'),\n",
       " ('j.williams', 'v.williams'),\n",
       " ('r.sorensen', 'h.sorensen'),\n",
       " ('r.sorensen', 't.sorensen'),\n",
       " ('s.schuster', 'm.schuster'),\n",
       " ('s.salmi', 's.almi'),\n",
       " ('c.backer', 'c.baker'),\n",
       " ('k.rudnicki', 'r.rudnicki'),\n",
       " ('t.zhou', 't.zhu'),\n",
       " ('h.sorensen', 't.sorensen'),\n",
       " ('c.huia', 'c.hui'),\n",
       " ('j.mendez-naya', 'l.mendez-naya'),\n",
       " ('a.kuhn', 'a.kun'),\n",
       " ('c.chan', 'c.chang'),\n",
       " ('s.jeong', 's.jong'),\n",
       " ('s.son', 's.song'),\n",
       " ('b.nakayama', 'k.nakayama'),\n",
       " ('b.nakayama', 'y.nakayama'),\n",
       " ('w.zhou', 'w.zhu'),\n",
       " ('t.peterson', 'e.peterson'),\n",
       " ('t.nakashima', 'h.nakashima'),\n",
       " ('s.wang', 's.hwang'),\n",
       " ('j.zhagn', 'j.zhan'),\n",
       " ('j.schaffer', 'j.schaeffer'),\n",
       " ('j.zhou', 'j.zhu'),\n",
       " ('j.han', 'j.zhan'),\n",
       " ('c.huang', 'c.hung'),\n",
       " ('o.teixeira', 'a.teixeira'),\n",
       " ('o.teixeira', 'j.teixeira'),\n",
       " ('a.teixeira', 'j.teixeira'),\n",
       " ('r.oliveira', 'a.oliveira'),\n",
       " ('r.oliveira', 'b.oliveira'),\n",
       " ('x.chen', 'x.cheng'),\n",
       " ('j.zhang', 'j.zhan'),\n",
       " ('y.zhu', 'y.zhou'),\n",
       " ('y.chen', 'y.cheng'),\n",
       " ('y.zhao', 'y.hao'),\n",
       " ('l.jing', 'l.jiang'),\n",
       " ('j.hao', 'j.shao'),\n",
       " ('w.wang', 'w.hwang'),\n",
       " ('n.chakraborty', 's.chakraborty'),\n",
       " ('n.chakraborty', 'a.chakraborty'),\n",
       " ('l.zou', 'l.zhou'),\n",
       " ('y.nakamura', 'm.nakamura'),\n",
       " ('y.nakamura', 'g.nakamura'),\n",
       " ('j.fletcher', 'l.fletcher'),\n",
       " ('y.zhou', 'y.zou'),\n",
       " ('w.chen', 'w.cheng'),\n",
       " ('t.chu', 't.chou'),\n",
       " ('k.cheng', 'k.chen'),\n",
       " ('i.zuckerman', 'm.zuckerman'),\n",
       " ('j.pan', 'j.pang'),\n",
       " ('k.uno', 'k.ueno'),\n",
       " ('t.han', 't.phan'),\n",
       " ('i.takahashi', 'h.takahashi'),\n",
       " ('i.takahashi', 'n.takahashi'),\n",
       " ('i.takahashi', 't.takahashi'),\n",
       " ('i.takahashi', 'k.takahashi'),\n",
       " ('g.hernandez', 'j.hernandez-orallo'),\n",
       " ('g.hernandez', 'f.hernandez-quiroz'),\n",
       " ('t.shishido', 'h.shishido'),\n",
       " ('g.grossman', 'r.grossman'),\n",
       " ('j.schluter', 'a.schluter'),\n",
       " ('j.meyer', 'j.meer'),\n",
       " ('k.yokoyama', 'a.yokoyama'),\n",
       " ('y.yamamoto', 'h.yamamoto'),\n",
       " ('y.yamamoto', 'k.yamamoto'),\n",
       " ('w.hutchison', 'd.hutchison'),\n",
       " ('p.mitchell', 'i.mitchell'),\n",
       " ('c.rodriguez-ruiz', 'j.rodriguez'),\n",
       " ('c.rodriguez-ruiz', 'i.rodriguez'),\n",
       " ('m.nakamura', 'g.nakamura'),\n",
       " ('i.fernandez-rosales', 'j.fernandez'),\n",
       " ('i.fernandez-rosales', 'a.fernandez'),\n",
       " ('i.fernandez-rosales', 'l.fernandez'),\n",
       " ('x.zeng', 'x.zheng'),\n",
       " ('l.fang', 'l.fan'),\n",
       " ('c.chu', 'c.chou'),\n",
       " ('o.campbell', 't.campbell'),\n",
       " ('j.roughgarden', 't.roughgarden'),\n",
       " ('x.zhou', 'x.zhu'),\n",
       " ('h.takahashi', 'n.takahashi'),\n",
       " ('h.takahashi', 't.takahashi'),\n",
       " ('h.takahashi', 'k.takahashi'),\n",
       " ('k.nakayama', 'y.nakayama'),\n",
       " ('w.zhang', 'w.zhan'),\n",
       " ('k.eriksson', 'a.eriksson'),\n",
       " ('m.matsumoto', 'k.matsumoto'),\n",
       " ('m.matsumoto', 'y.matsumoto'),\n",
       " ('m.matsumoto', 'j.matsumoto'),\n",
       " ('k.matsumoto', 'y.matsumoto'),\n",
       " ('k.matsumoto', 'j.matsumoto'),\n",
       " ('k.hayakawa', 's.hayakawa'),\n",
       " ('j.shin', 'j.shi'),\n",
       " ('a.robert', 'a.roberts'),\n",
       " ('s.chen', 's.cheng'),\n",
       " ('j.tan', 'j.tian'),\n",
       " ('v.eguiluz', 'v.eguluz'),\n",
       " ('a.gros', 'a.gross'),\n",
       " ('j.lin', 'j.ling'),\n",
       " ('j.lin', 'j.lien'),\n",
       " ('j.ferreira', 'a.ferreira'),\n",
       " ('j.ferreira', 'f.ferreira'),\n",
       " ('j.ferreira', 'n.ferreira'),\n",
       " ('l.cao', 'l.chao'),\n",
       " ('k.choo', 'k.cho'),\n",
       " ('c.chen', 'c.chena'),\n",
       " ('j.dijkstra', 'm.dijkstra'),\n",
       " ('j.anderson', 'j.andersen'),\n",
       " ('j.anderson', 'p.anderson'),\n",
       " ('j.anderson', 'a.anderson'),\n",
       " ('j.anderson', 'd.anderson'),\n",
       " ('r.schmid-hempel', 'p.schmid-hempel'),\n",
       " ('k.schaefer', 'g.schaefer'),\n",
       " ('k.schaefer', 'b.schaefer'),\n",
       " ('j.manson', 'j.mason'),\n",
       " ('t.phillips', 'g.phillips'),\n",
       " ('t.phillips', 'l.phillips'),\n",
       " ('t.phillips', 'm.phillips'),\n",
       " ('t.phillips', 'h.phillips'),\n",
       " ('n.takahashi', 't.takahashi'),\n",
       " ('n.takahashi', 'k.takahashi'),\n",
       " ('c.wang', 'c.wan'),\n",
       " ('z.wang', 'z.wan'),\n",
       " ('t.hasegawa', 'e.hasegawa'),\n",
       " ('t.hasegawa', 'm.hasegawa'),\n",
       " ('f.schneider', 'r.schneider'),\n",
       " ('q.zhuang', 'q.zhang'),\n",
       " ('s.gutierrez', 'm.gutierrez-roig'),\n",
       " ('c.lawrence', 'a.lawrence'),\n",
       " ('j.mcnamara', 'b.mcnamara'),\n",
       " ('j.mcnamara', 'd.mcnamara'),\n",
       " ('h.han', 'h.chan'),\n",
       " ('h.han', 'h.than'),\n",
       " ('m.johnson', 'm.johanson'),\n",
       " ('e.herrmann', 'h.herrmann'),\n",
       " ('m.kawaguchi', 'k.kawaguchi'),\n",
       " ('j.martinez', 'i.martinez-martinez'),\n",
       " ('j.martinez', 'm.martinez'),\n",
       " ('j.martinez', 'a.martinez'),\n",
       " ('j.martinez', 's.martinez'),\n",
       " ('y.shao', 'y.hao'),\n",
       " ('l.dugatkin', 'a.dugatkin'),\n",
       " ('s.bhattacharyya', 'r.bhattacharya'),\n",
       " ('s.bhattacharyya', 's.bhattacharya'),\n",
       " ('a.oliveira', 'b.oliveira'),\n",
       " ('e.hasegawa', 'm.hasegawa'),\n",
       " ('l.cai', 'l.chai'),\n",
       " ('p.domenech', 'g.domenech'),\n",
       " ('h.yamamoto', 'k.yamamoto'),\n",
       " ('j.schaeffer', 'm.schaeffer'),\n",
       " ('j.chook', 'j.cook'),\n",
       " ('b.davis', 'b.davies'),\n",
       " ('c.rodriguez-sickert', 'j.rodriguez'),\n",
       " ('c.rodriguez-sickert', 'i.rodriguez'),\n",
       " ('j.chen', 'j.cohen'),\n",
       " ('i.rodriguez-lara', 'j.rodriguez'),\n",
       " ('c.thompson', 'r.thompson'),\n",
       " ('c.thompson', 'm.thompson'),\n",
       " ('p.morrison', 'k.morrison'),\n",
       " ('p.morrison', 'r.morrison'),\n",
       " ('s.timme', 's.timm'),\n",
       " ('r.aharonov', 'y.aharonov'),\n",
       " ('l.zhu', 'l.zhou'),\n",
       " ('a.wolf', 'a.wolfe'),\n",
       " ('g.phillips', 'l.phillips'),\n",
       " ('g.phillips', 'm.phillips'),\n",
       " ('g.phillips', 'h.phillips'),\n",
       " ('r.may', 'r.mayr'),\n",
       " ('p.bennet', 'p.bennett'),\n",
       " ('g.yang', 'g.yan'),\n",
       " ('s.pande', 's.pandey'),\n",
       " ('y.matsumoto', 'j.matsumoto'),\n",
       " ('t.pfeiffer', 'h.pfeiffer'),\n",
       " ('j.meer', 'j.meier'),\n",
       " ('d.chow', 'd.cho'),\n",
       " ('d.han', 'd.phan'),\n",
       " ('i.martinez-martinez', 'm.martinez'),\n",
       " ('i.martinez-martinez', 'a.martinez'),\n",
       " ('i.martinez-martinez', 's.martinez'),\n",
       " ('l.phillips', 'm.phillips'),\n",
       " ('l.phillips', 'h.phillips'),\n",
       " ('m.phillips', 'h.phillips'),\n",
       " ('m.meinshausen', 'n.meinshausen'),\n",
       " ('s.zhou', 's.zhu'),\n",
       " ('h.zhou', 'h.zhu'),\n",
       " ('t.takahashi', 'k.takahashi'),\n",
       " ('m.martinez', 'a.martinez'),\n",
       " ('m.martinez', 's.martinez'),\n",
       " ('d.andersson', 'd.anderson'),\n",
       " ('k.morrison', 'r.morrison'),\n",
       " ('m.williams', 't.williams'),\n",
       " ('m.williams', 'v.williams'),\n",
       " ('l.cheng', 'l.chen'),\n",
       " ('v.kostakos', 'p.kostakos'),\n",
       " ('j.rodriguez', 'i.rodriguez'),\n",
       " ('j.rodriguez', 'm.rodriguez-mayorga'),\n",
       " ('h.karlgren', 'j.karlgren'),\n",
       " ('r.majumdar', 'k.majumdar'),\n",
       " ('j.andersen', 'p.andersen'),\n",
       " ('m.henning', 'm.hennings'),\n",
       " ('a.martinez', 's.martinez'),\n",
       " ('r.bhattacharya', 's.bhattacharya'),\n",
       " ('l.sheng', 'l.shen'),\n",
       " ('e.ferragut', 'j.ferragut'),\n",
       " ('e.ferragut', 'n.ferragut'),\n",
       " ('j.ferragut', 'n.ferragut'),\n",
       " ('t.galla', 't.gall'),\n",
       " ('y.son', 'y.sohn'),\n",
       " ('c.schafer', 'c.schaffner'),\n",
       " ('k.roy-maity', 'k.ray-maity'),\n",
       " ('c.hamilton', 'j.hamilton'),\n",
       " ('j.fernandez', 'a.fernandez'),\n",
       " ('j.fernandez', 'l.fernandez'),\n",
       " ('g.schafer', 'g.schaefer'),\n",
       " ('j.park', 'j.pak'),\n",
       " ('g.schaefer', 'b.schaefer'),\n",
       " ('r.horodecki', 'm.horodecki'),\n",
       " ('r.horodecki', 'p.horodecki'),\n",
       " ('m.horodecki', 'p.horodecki'),\n",
       " ('c.henderson', 't.henderson'),\n",
       " ('n.jennings', 'd.jennings'),\n",
       " ('m.lassig', 'm.laessig'),\n",
       " ('s.saha', 's.sahai'),\n",
       " ('i.rodriguez', 'm.rodriguez-mayorga'),\n",
       " ('d.kravchenko', 'd.kravcenko'),\n",
       " ('s.chakraborty', 'a.chakraborty'),\n",
       " ('c.sugimoto', 'm.sugimoto'),\n",
       " ('a.fernandez', 'j.moyano-fernandez'),\n",
       " ('a.fernandez', 'l.fernandez'),\n",
       " ('r.thompson', 'm.thompson'),\n",
       " ('p.anderson', 'p.andersen'),\n",
       " ('p.anderson', 'a.anderson'),\n",
       " ('p.anderson', 'd.anderson'),\n",
       " ('a.anderson', 'd.anderson'),\n",
       " ('j.moyano-fernandez', 'l.fernandez'),\n",
       " ('s.gottloeber', 's.gottlober'),\n",
       " ('x.xia', 'x.xiao'),\n",
       " ('v.belavkin', 'r.belavkin'),\n",
       " ('j.bolt', 'j.bolte'),\n",
       " ('s.benjamin', 'c.benjamin'),\n",
       " ('t.williams', 'v.williams'),\n",
       " ('a.castaneda', 'h.castaneda'),\n",
       " ('a.ferreira', 'f.ferreira'),\n",
       " ('a.ferreira', 'n.ferreira'),\n",
       " ('a.frenkel', 'a.fraenkel'),\n",
       " ('p.theodosopoulos', 't.theodosopoulos'),\n",
       " ('r.rabinovich', 'a.rabinovich'),\n",
       " ('f.ferreira', 'n.ferreira'),\n",
       " ('j.richert', 'j.reichert'),\n",
       " ('b.mcnamara', 'd.mcnamara')]"
      ]
     },
     "execution_count": 64,
     "metadata": {},
     "output_type": "execute_result"
    }
   ],
   "source": [
    "to_check"
   ]
  },
  {
   "cell_type": "code",
   "execution_count": 11,
   "metadata": {},
   "outputs": [
    {
     "data": {
      "text/plain": [
       "array(['Rationale, design and critical end points for the Riluzole in Acute Spinal Cord Injury Study (RISCIS): a randomized, double-blinded, placebo-controlled parallel multi-center trial'],\n",
       "      dtype=object)"
      ]
     },
     "execution_count": 11,
     "metadata": {},
     "output_type": "execute_result"
    }
   ],
   "source": [
    "df[df['author'] == 'r.grossman']['title'].unique()"
   ]
  },
  {
   "cell_type": "code",
   "execution_count": 8,
   "metadata": {},
   "outputs": [
    {
     "data": {
      "text/plain": [
       "array(['Summer books'], dtype=object)"
      ]
     },
     "execution_count": 8,
     "metadata": {},
     "output_type": "execute_result"
    }
   ],
   "source": [
    "df[df['author'] == 'd.coyle']['title'].unique()"
   ]
  },
  {
   "cell_type": "markdown",
   "metadata": {
    "collapsed": true
   },
   "source": [
    "Duplicate articles\n",
    "------------------"
   ]
  },
  {
   "cell_type": "code",
   "execution_count": 45,
   "metadata": {},
   "outputs": [
    {
     "data": {
      "text/html": [
       "<div>\n",
       "<style scoped>\n",
       "    .dataframe tbody tr th:only-of-type {\n",
       "        vertical-align: middle;\n",
       "    }\n",
       "\n",
       "    .dataframe tbody tr th {\n",
       "        vertical-align: top;\n",
       "    }\n",
       "\n",
       "    .dataframe thead th {\n",
       "        text-align: right;\n",
       "    }\n",
       "</style>\n",
       "<table border=\"1\" class=\"dataframe\">\n",
       "  <thead>\n",
       "    <tr style=\"text-align: right;\">\n",
       "      <th></th>\n",
       "      <th>unique_key</th>\n",
       "      <th>0</th>\n",
       "    </tr>\n",
       "    <tr>\n",
       "      <th>title</th>\n",
       "      <th></th>\n",
       "      <th></th>\n",
       "    </tr>\n",
       "  </thead>\n",
       "  <tbody>\n",
       "    <tr>\n",
       "      <th>Analyzing coevolutionary games with dynamic fitness landscapes</th>\n",
       "      <td>2</td>\n",
       "      <td>2</td>\n",
       "    </tr>\n",
       "    <tr>\n",
       "      <th>Bad Boy of Physics</th>\n",
       "      <td>2</td>\n",
       "      <td>2</td>\n",
       "    </tr>\n",
       "    <tr>\n",
       "      <th>Beyond pairwise strategy updating in the prisoner's dilemma game</th>\n",
       "      <td>2</td>\n",
       "      <td>2</td>\n",
       "    </tr>\n",
       "    <tr>\n",
       "      <th>Books</th>\n",
       "      <td>21</td>\n",
       "      <td>21</td>\n",
       "    </tr>\n",
       "    <tr>\n",
       "      <th>Comparing reactive and memory-one strategies of direct reciprocity</th>\n",
       "      <td>2</td>\n",
       "      <td>2</td>\n",
       "    </tr>\n",
       "    <tr>\n",
       "      <th>Computer Recreations</th>\n",
       "      <td>2</td>\n",
       "      <td>2</td>\n",
       "    </tr>\n",
       "    <tr>\n",
       "      <th>Cooperation, Norms, and Revolutions: A Unified Game-Theoretical Approach</th>\n",
       "      <td>2</td>\n",
       "      <td>2</td>\n",
       "    </tr>\n",
       "    <tr>\n",
       "      <th>Do good actions inspire good actions in others?</th>\n",
       "      <td>2</td>\n",
       "      <td>2</td>\n",
       "    </tr>\n",
       "    <tr>\n",
       "      <th>Evolution of cooperation driven by zealots</th>\n",
       "      <td>2</td>\n",
       "      <td>2</td>\n",
       "    </tr>\n",
       "    <tr>\n",
       "      <th>Excessive abundance of common resources deters social responsibility</th>\n",
       "      <td>2</td>\n",
       "      <td>2</td>\n",
       "    </tr>\n",
       "    <tr>\n",
       "      <th>Leaders should not be conformists in evolutionary social dilemmas</th>\n",
       "      <td>2</td>\n",
       "      <td>2</td>\n",
       "    </tr>\n",
       "    <tr>\n",
       "      <th>Mathematical &lt;span&gt;Games&lt;/span&gt;</th>\n",
       "      <td>8</td>\n",
       "      <td>8</td>\n",
       "    </tr>\n",
       "    <tr>\n",
       "      <th>On uniquely implementing cooperation in the prisoners' dilemma</th>\n",
       "      <td>2</td>\n",
       "      <td>2</td>\n",
       "    </tr>\n",
       "    <tr>\n",
       "      <th>Optimal Strategies of the Iterated Prisoner's Dilemma Problem for Multiple Conflicting Objectives</th>\n",
       "      <td>2</td>\n",
       "      <td>2</td>\n",
       "    </tr>\n",
       "    <tr>\n",
       "      <th>Prisoner’s Dilemma</th>\n",
       "      <td>6</td>\n",
       "      <td>6</td>\n",
       "    </tr>\n",
       "    <tr>\n",
       "      <th>Spreading of cooperative behaviour across interdependent groups</th>\n",
       "      <td>2</td>\n",
       "      <td>2</td>\n",
       "    </tr>\n",
       "    <tr>\n",
       "      <th>Stability of cooperation under image scoring in group interactions</th>\n",
       "      <td>2</td>\n",
       "      <td>2</td>\n",
       "    </tr>\n",
       "    <tr>\n",
       "      <th>Testing the prisoners’ dilemma of counterterrorism: an aggregate analysis of counterterrorist efforts from 2001 to 2010</th>\n",
       "      <td>2</td>\n",
       "      <td>2</td>\n",
       "    </tr>\n",
       "    <tr>\n",
       "      <th>The Determinacy of Context-Free Games</th>\n",
       "      <td>2</td>\n",
       "      <td>2</td>\n",
       "    </tr>\n",
       "    <tr>\n",
       "      <th>The Prisoner’s Dilemma</th>\n",
       "      <td>2</td>\n",
       "      <td>2</td>\n",
       "    </tr>\n",
       "    <tr>\n",
       "      <th>Violent Pride</th>\n",
       "      <td>2</td>\n",
       "      <td>2</td>\n",
       "    </tr>\n",
       "    <tr>\n",
       "      <th>Wisdom of groups promotes cooperation in evolutionary social dilemmas</th>\n",
       "      <td>2</td>\n",
       "      <td>2</td>\n",
       "    </tr>\n",
       "  </tbody>\n",
       "</table>\n",
       "</div>"
      ],
      "text/plain": [
       "                                                    unique_key   0\n",
       "title                                                             \n",
       "Analyzing coevolutionary games with dynamic fit...           2   2\n",
       "Bad Boy of Physics                                           2   2\n",
       "Beyond pairwise strategy updating in the prison...           2   2\n",
       "Books                                                       21  21\n",
       "Comparing reactive and memory-one strategies of...           2   2\n",
       "Computer Recreations                                         2   2\n",
       "Cooperation, Norms, and Revolutions: A Unified ...           2   2\n",
       "Do good actions inspire good actions in others?              2   2\n",
       "Evolution of cooperation driven by zealots                   2   2\n",
       "Excessive abundance of common resources deters ...           2   2\n",
       "Leaders should not be conformists in evolutiona...           2   2\n",
       "Mathematical <span>Games</span>                              8   8\n",
       "On uniquely implementing cooperation in the pri...           2   2\n",
       "Optimal Strategies of the Iterated Prisoner's D...           2   2\n",
       "Prisoner’s Dilemma                                           6   6\n",
       "Spreading of cooperative behaviour across inter...           2   2\n",
       "Stability of cooperation under image scoring in...           2   2\n",
       "Testing the prisoners’ dilemma of counterterror...           2   2\n",
       "The Determinacy of Context-Free Games                        2   2\n",
       "The Prisoner’s Dilemma                                       2   2\n",
       "Violent Pride                                                2   2\n",
       "Wisdom of groups promotes cooperation in evolut...           2   2"
      ]
     },
     "execution_count": 45,
     "metadata": {},
     "output_type": "execute_result"
    }
   ],
   "source": [
    "table = df.groupby(['title', 'unique_key']).size().reset_index().groupby('title').count()\n",
    "duplicates = table[table['unique_key']>1]\n",
    "duplicates"
   ]
  },
  {
   "cell_type": "code",
   "execution_count": 46,
   "metadata": {},
   "outputs": [],
   "source": [
    "duplicates_title = df[df['title'].isin(duplicates.index)]['title'].unique()"
   ]
  },
  {
   "cell_type": "code",
   "execution_count": 47,
   "metadata": {},
   "outputs": [],
   "source": [
    "duplicates_in_arxiv = df[(df['title'].isin(duplicates.index)) & (df['provenance'] == 'arXiv')]['title'].unique()"
   ]
  },
  {
   "cell_type": "code",
   "execution_count": 48,
   "metadata": {},
   "outputs": [],
   "source": [
    "diff = list(set(duplicates_title) - set(duplicates_in_arxiv))"
   ]
  },
  {
   "cell_type": "code",
   "execution_count": 49,
   "metadata": {},
   "outputs": [],
   "source": [
    "df_without_arxiv = df[~(df['provenance']=='arXiv')]"
   ]
  },
  {
   "cell_type": "code",
   "execution_count": 50,
   "metadata": {},
   "outputs": [],
   "source": [
    "df_without_arxiv = df_without_arxiv.drop_duplicates(subset='title')"
   ]
  },
  {
   "cell_type": "code",
   "execution_count": 51,
   "metadata": {},
   "outputs": [],
   "source": [
    "df_without_arxiv.to_json('../data/pd_November_2018_without_arxiv.json')"
   ]
  },
  {
   "cell_type": "markdown",
   "metadata": {},
   "source": [
    "**Drop duplicates.**"
   ]
  },
  {
   "cell_type": "code",
   "execution_count": 52,
   "metadata": {},
   "outputs": [],
   "source": [
    "articles_to_drop = df[(df['title'].isin(duplicates.index)) & (df['provenance']=='arXiv')]['unique_key'].unique()"
   ]
  },
  {
   "cell_type": "code",
   "execution_count": 53,
   "metadata": {},
   "outputs": [],
   "source": [
    "df = df[~df['unique_key'].isin(articles_to_drop)]"
   ]
  },
  {
   "cell_type": "code",
   "execution_count": 54,
   "metadata": {},
   "outputs": [],
   "source": [
    "df = df.drop_duplicates(subset='title')"
   ]
  },
  {
   "cell_type": "code",
   "execution_count": 56,
   "metadata": {},
   "outputs": [
    {
     "data": {
      "text/plain": [
       "(3637, 3637)"
      ]
     },
     "execution_count": 56,
     "metadata": {},
     "output_type": "execute_result"
    }
   ],
   "source": [
    "len(df['title'].unique()), len(df['unique_key'].unique())"
   ]
  },
  {
   "cell_type": "markdown",
   "metadata": {},
   "source": [
    "**Export clean json.**"
   ]
  },
  {
   "cell_type": "code",
   "execution_count": 57,
   "metadata": {},
   "outputs": [],
   "source": [
    "df.to_json('../data/pd_November_2018_clean.json')"
   ]
  },
  {
   "cell_type": "code",
   "execution_count": null,
   "metadata": {},
   "outputs": [],
   "source": []
  }
 ],
 "metadata": {
  "anaconda-cloud": {},
  "kernelspec": {
   "display_name": "literature",
   "language": "python",
   "name": "literature"
  },
  "language_info": {
   "codemirror_mode": {
    "name": "ipython",
    "version": 3
   },
   "file_extension": ".py",
   "mimetype": "text/x-python",
   "name": "python",
   "nbconvert_exporter": "python",
   "pygments_lexer": "ipython3",
   "version": "3.5.5"
  }
 },
 "nbformat": 4,
 "nbformat_minor": 2
}
