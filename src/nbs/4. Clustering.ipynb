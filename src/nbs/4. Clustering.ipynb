{
 "cells": [
  {
   "cell_type": "markdown",
   "metadata": {},
   "source": [
    "\n",
    "\n",
    "\n",
    "Document Clustering\n",
    "-------------------"
   ]
  },
  {
   "cell_type": "markdown",
   "metadata": {},
   "source": [
    "This is ipython notebook which covers an introduction to document clustering using python. Through the analysis \n",
    "we will present a review on document clustering. \n",
    "\n",
    "The data set used for the analysis is a data set which contains a list of scientific documents that have been\n",
    "scraped used the python package Arcas (https://github.com/Nikoleta-v3/Arcas).\n",
    "\n",
    "\n",
    "The main libraries which we are going to use are going to be spacy, nltk, sklearn and pandas. \n",
    "\n",
    "\n",
    "**References**: \n",
    "   * Blog posts:\n",
    "        - https://nicschrading.com/project/Intro-to-NLP-with-spaCy/\n",
    "        - http://brandonrose.org/clustering#K-means-clustering\n",
    "   * Articles:\n",
    "        - http://scialert.net/fulltext/?doi=itj.2010.993.1002&org=11\n",
    "        - http://web.mit.edu/seyda/www/Papers/PKDD06_SparseCitationGraph.pdf\n",
    "        "
   ]
  },
  {
   "cell_type": "markdown",
   "metadata": {},
   "source": [
    "Articles data set\n",
    "-----------------\n",
    "The data set contains articles relevant to Game Theory and more specifically to the Prisoner's Dilemma since 1966 to now.\n",
    "\n",
    "A script for scapring the articles using Arcas can be found here: https://github.com/Nikoleta-v3/Axelbib/blob/scraping/scraping/scraping.py.\n",
    "and also an initial analysis of the data set can be found here: https://github.com/Nikoleta-v3/Axelbib/blob/scraping/scraping/Analysis%20of%20Results/Initial%20Analysis.ipynb."
   ]
  },
  {
   "cell_type": "code",
   "execution_count": 1,
   "metadata": {
    "collapsed": true
   },
   "outputs": [],
   "source": [
    "import pandas as pd"
   ]
  },
  {
   "cell_type": "code",
   "execution_count": 2,
   "metadata": {},
   "outputs": [],
   "source": [
    "df = pd.read_json('/home/nightwing/rsc/Literature-Article/scraping/nbs/data.json')"
   ]
  },
  {
   "cell_type": "markdown",
   "metadata": {},
   "source": [
    "The are a total of 1100 unique articles and by outputting a few rows we can see the format of the data set.\n",
    "\n",
    "\n",
    "We are about to run various clustering algorithms to the data set. Due the nature of the work we will carry\n",
    "some of the variables contained in the db are not of any use to us.\n",
    "Thus the following columns will be droped:\n",
    "* labels\n",
    "* list_strategies\n",
    "* pages\n",
    "* provenance\n",
    "* read\n",
    "* score\n",
    "* key"
   ]
  },
  {
   "cell_type": "code",
   "execution_count": 3,
   "metadata": {},
   "outputs": [
    {
     "data": {
      "text/plain": [
       "1104"
      ]
     },
     "execution_count": 3,
     "metadata": {},
     "output_type": "execute_result"
    }
   ],
   "source": [
    "len(df.unique_key.unique())"
   ]
  },
  {
   "cell_type": "code",
   "execution_count": 4,
   "metadata": {},
   "outputs": [
    {
     "data": {
      "text/html": [
       "<div>\n",
       "<table border=\"1\" class=\"dataframe\">\n",
       "  <thead>\n",
       "    <tr style=\"text-align: right;\">\n",
       "      <th></th>\n",
       "      <th>abstract</th>\n",
       "      <th>author</th>\n",
       "      <th>date</th>\n",
       "      <th>journal</th>\n",
       "      <th>key</th>\n",
       "      <th>key_word</th>\n",
       "      <th>labels</th>\n",
       "      <th>list_strategies</th>\n",
       "      <th>pages</th>\n",
       "      <th>provenance</th>\n",
       "      <th>read</th>\n",
       "      <th>score</th>\n",
       "      <th>title</th>\n",
       "      <th>unique_key</th>\n",
       "    </tr>\n",
       "  </thead>\n",
       "  <tbody>\n",
       "    <tr>\n",
       "      <th>0</th>\n",
       "      <td>We use replicator dynamics to study an iterate...</td>\n",
       "      <td>Myungkyoon Roh</td>\n",
       "      <td>2014</td>\n",
       "      <td>The Korean Physical Society February 2014, Vol...</td>\n",
       "      <td>Kim2014</td>\n",
       "      <td>None</td>\n",
       "      <td>None</td>\n",
       "      <td>None</td>\n",
       "      <td>None</td>\n",
       "      <td>arXiv</td>\n",
       "      <td>None</td>\n",
       "      <td>None</td>\n",
       "      <td>Network Structures between Strategies in Itera...</td>\n",
       "      <td>00660e6b2eedbebaf611cafc864ed1e4</td>\n",
       "    </tr>\n",
       "    <tr>\n",
       "      <th>1</th>\n",
       "      <td>We use replicator dynamics to study an iterate...</td>\n",
       "      <td>Seung-Woo Son</td>\n",
       "      <td>2014</td>\n",
       "      <td>The Korean Physical Society February 2014, Vol...</td>\n",
       "      <td>Kim2014</td>\n",
       "      <td>None</td>\n",
       "      <td>None</td>\n",
       "      <td>None</td>\n",
       "      <td>None</td>\n",
       "      <td>arXiv</td>\n",
       "      <td>None</td>\n",
       "      <td>None</td>\n",
       "      <td>Network Structures between Strategies in Itera...</td>\n",
       "      <td>00660e6b2eedbebaf611cafc864ed1e4</td>\n",
       "    </tr>\n",
       "  </tbody>\n",
       "</table>\n",
       "</div>"
      ],
      "text/plain": [
       "                                            abstract          author  date  \\\n",
       "0  We use replicator dynamics to study an iterate...  Myungkyoon Roh  2014   \n",
       "1  We use replicator dynamics to study an iterate...   Seung-Woo Son  2014   \n",
       "\n",
       "                                             journal      key key_word labels  \\\n",
       "0  The Korean Physical Society February 2014, Vol...  Kim2014     None   None   \n",
       "1  The Korean Physical Society February 2014, Vol...  Kim2014     None   None   \n",
       "\n",
       "  list_strategies pages provenance  read score  \\\n",
       "0            None  None      arXiv  None  None   \n",
       "1            None  None      arXiv  None  None   \n",
       "\n",
       "                                               title  \\\n",
       "0  Network Structures between Strategies in Itera...   \n",
       "1  Network Structures between Strategies in Itera...   \n",
       "\n",
       "                         unique_key  \n",
       "0  00660e6b2eedbebaf611cafc864ed1e4  \n",
       "1  00660e6b2eedbebaf611cafc864ed1e4  "
      ]
     },
     "execution_count": 4,
     "metadata": {},
     "output_type": "execute_result"
    }
   ],
   "source": [
    "df.head(2)"
   ]
  },
  {
   "cell_type": "code",
   "execution_count": 5,
   "metadata": {},
   "outputs": [],
   "source": [
    "df = df.drop(['labels', 'list_strategies', 'provenance', 'read', 'pages', 'score', 'key'], 1)"
   ]
  },
  {
   "cell_type": "markdown",
   "metadata": {},
   "source": [
    "Vector space models\n",
    "-------------------\n",
    "\n",
    "The representation of a set of documents as vectors in a common vector space is known as the vector space model. In the vector space model, documents are represented as vectors of features representing the terms that occur within the collection.\n",
    "\n",
    "\n",
    "A vector for a document $D_{i}$ is represented as: $ D_{i} = (w_{1,i}, w_{2,i}, ..., w_{N,i}) $\n",
    "\n",
    "where, $D_{i}$ denotes a particular document (or feature vector), the individual scalar components $w_{j,i}$ of a document $D_{i}$ are called features and $N$ is the dimensionality of the document space. That is a document vector contains a weight feature for each of the $N_{d}$ terms that occur in the collection as whole; $w_{1,i}$ thus refers to the weight that term 1 has in document $i$."
   ]
  },
  {
   "cell_type": "markdown",
   "metadata": {},
   "source": [
    "To collect the feautures of our documents the following functions have been implemented. \n",
    "Initially we create a list with all the stopwords in the English language. Stopwords are not going\n",
    "to be of any use in the analysis because they do not show anything about the context. Also some\n",
    "symbols and characters are also listed.\n",
    "\n",
    "**Note:** For the stopwords we use both sets from sklearn and nltk."
   ]
  },
  {
   "cell_type": "code",
   "execution_count": 6,
   "metadata": {},
   "outputs": [],
   "source": [
    "import tools"
   ]
  },
  {
   "cell_type": "markdown",
   "metadata": {},
   "source": [
    "Functions\n",
    "---------\n",
    "Here are a list of functions to make things easier. For example `clean text()` will be used\n",
    "to remove any symbols, spaces and HTML symbols from the text.\n",
    "\n",
    "In order to perform our analysis the feauters have to be collected. For that we are following th following procuder. \n",
    "- take text\n",
    "- break it into tokens\n",
    "- get lemmas\n",
    "- remove any uncesserary.\n",
    "\n",
    "all the aforementioned are done under `tokenize_text()` function. \n",
    "\n",
    "Lastly, the function `all_tokens()` is used to get ahold of a 'vocabulary' of the feautures.\n",
    "\n",
    "**Note:** we are using the lemmas because articles tend to use the same word but in different form for grammatical reasons."
   ]
  },
  {
   "cell_type": "code",
   "execution_count": 7,
   "metadata": {
    "collapsed": true
   },
   "outputs": [],
   "source": [
    "from sklearn.feature_extraction.text import TfidfVectorizer\n",
    "import numpy"
   ]
  },
  {
   "cell_type": "code",
   "execution_count": 8,
   "metadata": {},
   "outputs": [
    {
     "data": {
      "text/plain": [
       "1104"
      ]
     },
     "execution_count": 8,
     "metadata": {},
     "output_type": "execute_result"
    }
   ],
   "source": [
    "len(df.groupby('unique_key'))"
   ]
  },
  {
   "cell_type": "markdown",
   "metadata": {},
   "source": [
    "**Here we specify the features**"
   ]
  },
  {
   "cell_type": "code",
   "execution_count": 9,
   "metadata": {},
   "outputs": [
    {
     "data": {
      "text/html": [
       "<div>\n",
       "<table border=\"1\" class=\"dataframe\">\n",
       "  <thead>\n",
       "    <tr style=\"text-align: right;\">\n",
       "      <th></th>\n",
       "      <th>abstract</th>\n",
       "      <th>author</th>\n",
       "      <th>date</th>\n",
       "      <th>journal</th>\n",
       "      <th>key_word</th>\n",
       "      <th>title</th>\n",
       "      <th>unique_key</th>\n",
       "    </tr>\n",
       "  </thead>\n",
       "  <tbody>\n",
       "    <tr>\n",
       "      <th>0</th>\n",
       "      <td>We use replicator dynamics to study an iterate...</td>\n",
       "      <td>Myungkyoon Roh</td>\n",
       "      <td>2014</td>\n",
       "      <td>The Korean Physical Society February 2014, Vol...</td>\n",
       "      <td>None</td>\n",
       "      <td>Network Structures between Strategies in Itera...</td>\n",
       "      <td>00660e6b2eedbebaf611cafc864ed1e4</td>\n",
       "    </tr>\n",
       "    <tr>\n",
       "      <th>1</th>\n",
       "      <td>We use replicator dynamics to study an iterate...</td>\n",
       "      <td>Seung-Woo Son</td>\n",
       "      <td>2014</td>\n",
       "      <td>The Korean Physical Society February 2014, Vol...</td>\n",
       "      <td>None</td>\n",
       "      <td>Network Structures between Strategies in Itera...</td>\n",
       "      <td>00660e6b2eedbebaf611cafc864ed1e4</td>\n",
       "    </tr>\n",
       "    <tr>\n",
       "      <th>10</th>\n",
       "      <td>Humans and other animals can adapt their socia...</td>\n",
       "      <td>Mitsuhiro Nakamura</td>\n",
       "      <td>2010</td>\n",
       "      <td>Journal of Theoretical Biology, 278, 55-62 (2011)</td>\n",
       "      <td>None</td>\n",
       "      <td>Numerical analysis of a reinforcement learning...</td>\n",
       "      <td>00e2e2026b199eebc643ef34a3227619</td>\n",
       "    </tr>\n",
       "  </tbody>\n",
       "</table>\n",
       "</div>"
      ],
      "text/plain": [
       "                                             abstract              author  \\\n",
       "0   We use replicator dynamics to study an iterate...      Myungkyoon Roh   \n",
       "1   We use replicator dynamics to study an iterate...       Seung-Woo Son   \n",
       "10  Humans and other animals can adapt their socia...  Mitsuhiro Nakamura   \n",
       "\n",
       "    date                                            journal key_word  \\\n",
       "0   2014  The Korean Physical Society February 2014, Vol...     None   \n",
       "1   2014  The Korean Physical Society February 2014, Vol...     None   \n",
       "10  2010  Journal of Theoretical Biology, 278, 55-62 (2011)     None   \n",
       "\n",
       "                                                title  \\\n",
       "0   Network Structures between Strategies in Itera...   \n",
       "1   Network Structures between Strategies in Itera...   \n",
       "10  Numerical analysis of a reinforcement learning...   \n",
       "\n",
       "                          unique_key  \n",
       "0   00660e6b2eedbebaf611cafc864ed1e4  \n",
       "1   00660e6b2eedbebaf611cafc864ed1e4  \n",
       "10  00e2e2026b199eebc643ef34a3227619  "
      ]
     },
     "execution_count": 9,
     "metadata": {},
     "output_type": "execute_result"
    }
   ],
   "source": [
    "df.head(3)"
   ]
  },
  {
   "cell_type": "code",
   "execution_count": 10,
   "metadata": {},
   "outputs": [],
   "source": [
    "keywords = df.groupby('unique_key')['key_word'].apply(lambda x: ','.join(x)).reset_index()['key_word']\n",
    "authors = df.groupby('unique_key')['author'].apply(lambda x: ','.join(x)).reset_index()['author']"
   ]
  },
  {
   "cell_type": "code",
   "execution_count": 11,
   "metadata": {},
   "outputs": [
    {
     "data": {
      "text/plain": [
       "1104"
      ]
     },
     "execution_count": 11,
     "metadata": {},
     "output_type": "execute_result"
    }
   ],
   "source": [
    "df = df.drop_duplicates('unique_key')\n",
    "len(df)"
   ]
  },
  {
   "cell_type": "code",
   "execution_count": 12,
   "metadata": {},
   "outputs": [],
   "source": [
    "df['key_word'] = list(keywords)\n",
    "df['author']  = list(authors)"
   ]
  },
  {
   "cell_type": "code",
   "execution_count": 13,
   "metadata": {},
   "outputs": [
    {
     "data": {
      "text/html": [
       "<div>\n",
       "<table border=\"1\" class=\"dataframe\">\n",
       "  <thead>\n",
       "    <tr style=\"text-align: right;\">\n",
       "      <th></th>\n",
       "      <th>abstract</th>\n",
       "      <th>author</th>\n",
       "      <th>date</th>\n",
       "      <th>journal</th>\n",
       "      <th>key_word</th>\n",
       "      <th>title</th>\n",
       "      <th>unique_key</th>\n",
       "    </tr>\n",
       "  </thead>\n",
       "  <tbody>\n",
       "    <tr>\n",
       "      <th>9969</th>\n",
       "      <td>In spatial evolutionary games the fitness of e...</td>\n",
       "      <td>Ishida  Yoshiteru,Katsumata  Yuji</td>\n",
       "      <td>2011</td>\n",
       "      <td>J. Theor. Biol. 277 (2011) 19-26</td>\n",
       "      <td>None,None</td>\n",
       "      <td>Coveting thy neighbors fitness as a means to r...</td>\n",
       "      <td>e9d869f7667ad308488dde57eea8fff5</td>\n",
       "    </tr>\n",
       "    <tr>\n",
       "      <th>9974</th>\n",
       "      <td>We consider a peer-to-peer network where nodes...</td>\n",
       "      <td>Weijun Wang,Weijun Wang,Weijun Wang,Weijun Wan...</td>\n",
       "      <td>2011</td>\n",
       "      <td>2011 Proceedings IEEE INFOCOM</td>\n",
       "      <td>Adaptation model,Computational modeling,Thin f...</td>\n",
       "      <td>Utility optimization for dynamic peer-to-peer ...</td>\n",
       "      <td>e9fd782d6374c8976092d101594d4bef</td>\n",
       "    </tr>\n",
       "    <tr>\n",
       "      <th>9994</th>\n",
       "      <td>A new dynamic model for the repeated prisoner'...</td>\n",
       "      <td>Jian Shi,Jian Shi,Shao-Meng Qin,Shao-Meng Qin,...</td>\n",
       "      <td>1986</td>\n",
       "      <td>International Journal of Game Theory</td>\n",
       "      <td>None,None,None,None,None,None,None,None</td>\n",
       "      <td>A dynamic analysis of the repeated prisoner's ...</td>\n",
       "      <td>ea70c6309c7e45c6acdefe9d7fcc98a4</td>\n",
       "    </tr>\n",
       "  </tbody>\n",
       "</table>\n",
       "</div>"
      ],
      "text/plain": [
       "                                               abstract  \\\n",
       "9969  In spatial evolutionary games the fitness of e...   \n",
       "9974  We consider a peer-to-peer network where nodes...   \n",
       "9994  A new dynamic model for the repeated prisoner'...   \n",
       "\n",
       "                                                 author  date  \\\n",
       "9969                  Ishida  Yoshiteru,Katsumata  Yuji  2011   \n",
       "9974  Weijun Wang,Weijun Wang,Weijun Wang,Weijun Wan...  2011   \n",
       "9994  Jian Shi,Jian Shi,Shao-Meng Qin,Shao-Meng Qin,...  1986   \n",
       "\n",
       "                                   journal  \\\n",
       "9969      J. Theor. Biol. 277 (2011) 19-26   \n",
       "9974         2011 Proceedings IEEE INFOCOM   \n",
       "9994  International Journal of Game Theory   \n",
       "\n",
       "                                               key_word  \\\n",
       "9969                                          None,None   \n",
       "9974  Adaptation model,Computational modeling,Thin f...   \n",
       "9994            None,None,None,None,None,None,None,None   \n",
       "\n",
       "                                                  title  \\\n",
       "9969  Coveting thy neighbors fitness as a means to r...   \n",
       "9974  Utility optimization for dynamic peer-to-peer ...   \n",
       "9994  A dynamic analysis of the repeated prisoner's ...   \n",
       "\n",
       "                            unique_key  \n",
       "9969  e9d869f7667ad308488dde57eea8fff5  \n",
       "9974  e9fd782d6374c8976092d101594d4bef  \n",
       "9994  ea70c6309c7e45c6acdefe9d7fcc98a4  "
      ]
     },
     "execution_count": 13,
     "metadata": {},
     "output_type": "execute_result"
    }
   ],
   "source": [
    "df.tail(3)"
   ]
  },
  {
   "cell_type": "code",
   "execution_count": 12,
   "metadata": {},
   "outputs": [],
   "source": [
    "df['features'] = df['abstract'] + df['title'] + df['date'].apply(str) + df['key_word']"
   ]
  },
  {
   "cell_type": "code",
   "execution_count": 16,
   "metadata": {},
   "outputs": [
    {
     "data": {
      "text/plain": [
       "0        We use replicator dynamics to study an iterate...\n",
       "10       Humans and other animals can adapt their socia...\n",
       "100      We study the Prisoner's Dilemma in competitive...\n",
       "1000     The iterated prisoner's dilemma is a famous mo...\n",
       "10000    Multiple Agent Genetic Networks (MAGnet) are s...\n",
       "10006    This paper studies how some factors deviate hu...\n",
       "10042    Repeated interaction between individuals is th...\n",
       "10044    Cooperation among nodes is essential for the r...\n",
       "10072    We consider two-player non zero-sum infinite d...\n",
       "10075    We study a population of individuals playing t...\n",
       "10078    Zero Determinant (ZD) strategies are a new cla...\n",
       "10080    Recent empirical research has shown that links...\n",
       "10082    The publish-or-perish paradigm is a prevailing...\n",
       "10085    Promoting cooperation is an intellectual chall...\n",
       "10090    Recently, behaviors that seem to function as p...\n",
       "10092    Many multiagent Q-learning algorithms have bee...\n",
       "101      We study the evolution of cooperation in the s...\n",
       "10102    The Prisoners' Dilemma is perhaps the most fam...\n",
       "10103    The Iterated Prisoner's Dilemma is a simultane...\n",
       "10139    One of the basic problems of theoretical polit...\n",
       "10140    The Iterated Prisoner’s Dilemma (IPD) has been...\n",
       "10143    This paper shows how the Prisoner's Dilemma ca...\n",
       "10144    We consider an evolutionary Prisoner’s Dilemma...\n",
       "10148    This chapter, dedicated to the memory of Mino ...\n",
       "10150    Cooperation plays a key role in the evolution ...\n",
       "10154    The notion that fairness can be determined by ...\n",
       "10155    The effects of payoffs and noise on the mainte...\n",
       "10158    Cooperative behavior, where one individual inc...\n",
       "10162    We investigate the win-lose relations between ...\n",
       "10166    In this paper we discuss distributed spectrum ...\n",
       "                               ...                        \n",
       "9785     The simple 'prisoner's dilemma' is a game with...\n",
       "9787        NoneWays out of the Prisoner's Dilemma1977None\n",
       "9788     During the last few years, much research has b...\n",
       "9792     Competition among cooperators, defectors, and ...\n",
       "9794     We study the influence of stochastic effects d...\n",
       "9796     Against the contention of David Lewis Philosop...\n",
       "9797     The prisoners' dilemma game stands as a semina...\n",
       "9798     The iterated prisoner's dilemma (IPD) game has...\n",
       "9828     We report constructing quantum games directly ...\n",
       "9830     We propose a new class of games, called Multi-...\n",
       "9833     We study co-evolutionary Prisoner's Dilemma ga...\n",
       "9836     We model an -player repeated prisoner's dilemm...\n",
       "9838     We study a population of individuals playing t...\n",
       "9840     This work deals with Q-learning in a multiagen...\n",
       "9851     We developed self learning for simulation stud...\n",
       "9903     The self-organization in cooperative regimes i...\n",
       "9904     Evolution of cooperative strategies was examin...\n",
       "9924     By means of extensive computer simulations, th...\n",
       "9928     We studied synchronization between prisoner's ...\n",
       "9932     This paper presents research comparing the eff...\n",
       "9936     This paper extends our probabilistic framework...\n",
       "9939     In the realm of iterated prisoners’ dilemma eq...\n",
       "9941     We consider a group of agents on a graph who r...\n",
       "9943     A wide variety of interactions on the Internet...\n",
       "9965     A generalized model of games is proposed, in w...\n",
       "9966     Unveiling the origin and forms of cooperation ...\n",
       "9968     NonePrisoners' dilemmas and reciprocal altruis...\n",
       "9969     In spatial evolutionary games the fitness of e...\n",
       "9974     We consider a peer-to-peer network where nodes...\n",
       "9994     A new dynamic model for the repeated prisoner'...\n",
       "Name: features, dtype: object"
      ]
     },
     "execution_count": 16,
     "metadata": {},
     "output_type": "execute_result"
    }
   ],
   "source": [
    "df.features"
   ]
  },
  {
   "cell_type": "code",
   "execution_count": 17,
   "metadata": {
    "collapsed": true
   },
   "outputs": [],
   "source": [
    "test = [k for k in df.features]"
   ]
  },
  {
   "cell_type": "markdown",
   "metadata": {},
   "source": [
    "Term weighting\n",
    "--------------\n",
    "\n",
    "The term weights are set as the simple frequency counts of the terms in the documents. This method is used to assign terms weights in the document. The term frequency is simplest form the raw frequency of a term within a document. This reflects the intuition that terms occur frequently within a document may reflect its meaning more strongly than terms that occur less frequently and should thus have higher weights.\n",
    "\n",
    "The second factor is used to give a higher weight to words that only occur in a few documents. Terms that are limited to a few documents are useful for discriminating those documents from the rest of the collection, while terms that occur frequently across the entire collection aren’t helpful. "
   ]
  },
  {
   "cell_type": "code",
   "execution_count": 18,
   "metadata": {},
   "outputs": [
    {
     "name": "stdout",
     "output_type": "stream",
     "text": [
      "CPU times: user 15.9 s, sys: 24 ms, total: 15.9 s\n",
      "Wall time: 16 s\n",
      "(1104, 295)\n"
     ]
    }
   ],
   "source": [
    "# create a tf-idf matrix\n",
    "tfidf_vectorizer = TfidfVectorizer(max_df=0.8, max_features=200000, \n",
    "                                   min_df=0.01, \n",
    "                                   tokenizer=tools.tokenize_text, ngram_range=(2,3))\n",
    "\n",
    "%time tfidf_matrix = tfidf_vectorizer.fit_transform(test)\n",
    "\n",
    "print(tfidf_matrix.shape)"
   ]
  },
  {
   "cell_type": "code",
   "execution_count": 22,
   "metadata": {},
   "outputs": [],
   "source": [
    "terms = tfidf_vectorizer.get_feature_names()"
   ]
  },
  {
   "cell_type": "markdown",
   "metadata": {},
   "source": [
    "k-mean clustering\n",
    "-----------------\n"
   ]
  },
  {
   "cell_type": "code",
   "execution_count": 20,
   "metadata": {
    "collapsed": true
   },
   "outputs": [],
   "source": [
    "from sklearn.cluster import KMeans\n",
    "from sklearn.metrics import silhouette_samples, silhouette_score\n",
    "\n",
    "import matplotlib.pyplot as plt\n",
    "\n",
    "plt.style.use('ggplot')\n",
    "%matplotlib inline"
   ]
  },
  {
   "cell_type": "markdown",
   "metadata": {},
   "source": [
    "A few extra links on K-means: http://scikit-learn.org/stable/auto_examples/text/document_clustering.html#sphx-glr-auto-examples-text-document-clustering-py"
   ]
  },
  {
   "cell_type": "code",
   "execution_count": 79,
   "metadata": {
    "collapsed": true
   },
   "outputs": [],
   "source": [
    "# BIS measure look\n",
    "# CART clustering algorithm"
   ]
  },
  {
   "cell_type": "code",
   "execution_count": 80,
   "metadata": {
    "collapsed": true
   },
   "outputs": [],
   "source": [
    "num_clusters = 1\n",
    "\n",
    "clusterer = KMeans(n_clusters=num_clusters, max_iter=500)\n",
    "cluster_labels = clusterer.fit_predict(tfidf_matrix)"
   ]
  },
  {
   "cell_type": "markdown",
   "metadata": {},
   "source": [
    "Silhouette analysis can be used to study the separation distance between the resulting clusters. This measure has a range of [-1, 1].http://scikit-learn.org/stable/auto_examples/cluster/plot_kmeans_silhouette_analysis.html"
   ]
  },
  {
   "cell_type": "code",
   "execution_count": 42,
   "metadata": {},
   "outputs": [
    {
     "data": {
      "text/plain": [
       "0.068324542882419834"
      ]
     },
     "execution_count": 42,
     "metadata": {},
     "output_type": "execute_result"
    }
   ],
   "source": [
    "silhouette_avg = silhouette_score(tfidf_matrix, cluster_labels)\n",
    "silhouette_avg"
   ]
  },
  {
   "cell_type": "code",
   "execution_count": 82,
   "metadata": {},
   "outputs": [],
   "source": [
    "n_clusters =[]\n",
    "silhouette_scores = []\n",
    "for num_clusters in range(2, 100):\n",
    "    clusterer = KMeans(n_clusters=num_clusters, max_iter=500)\n",
    "    cluster_labels = clusterer.fit_predict(tfidf_matrix)\n",
    "    silhouette_avg = silhouette_score(tfidf_matrix, cluster_labels)\n",
    "    \n",
    "    n_clusters.append(num_clusters)\n",
    "    silhouette_scores.append(silhouette_avg)\n",
    "    #print(\"For n_clusters =\", num_clusters,\"The average silhouette_score is :\", silhouette_avg)"
   ]
  },
  {
   "cell_type": "code",
   "execution_count": 83,
   "metadata": {},
   "outputs": [
    {
     "data": {
      "text/plain": [
       "[<matplotlib.lines.Line2D at 0x7faf3e753208>]"
      ]
     },
     "execution_count": 83,
     "metadata": {},
     "output_type": "execute_result"
    },
    {
     "data": {
      "image/png": "[encoded data removed]",
      "text/plain": [
       "<matplotlib.figure.Figure at 0x7faf45e39550>"
      ]
     },
     "metadata": {},
     "output_type": "display_data"
    }
   ],
   "source": [
    "plt.plot(n_clusters, silhouette_scores)"
   ]
  },
  {
   "cell_type": "code",
   "execution_count": 37,
   "metadata": {},
   "outputs": [
    {
     "data": {
      "text/plain": [
       "[['prisoner dilemma',\n",
       "  'dilemma game',\n",
       "  'prisoner dilemma game',\n",
       "  'iterated prisoner',\n",
       "  'game theory',\n",
       "  'iterated prisoner dilemma',\n",
       "  'tit tat',\n",
       "  'evolution cooperation',\n",
       "  'nash equilibrium',\n",
       "  'cooperative behavior',\n",
       "  'evolutionary game',\n",
       "  'spatial prisoner',\n",
       "  'repeat prisoner',\n",
       "  'spatial prisoner dilemma',\n",
       "  'quantum game',\n",
       "  'cooperation prisoner',\n",
       "  'emergence cooperation',\n",
       "  'repeat prisoner dilemma',\n",
       "  'bruhat tit',\n",
       "  'scale free',\n",
       "  'mutual cooperation',\n",
       "  'paper present',\n",
       "  'cooperation prisoner dilemma',\n",
       "  'dilemma pd',\n",
       "  'tat strategy',\n",
       "  'long term',\n",
       "  'prisoners’ dilemma',\n",
       "  'social network',\n",
       "  'tit tat strategy',\n",
       "  'prisoner dilemma pd',\n",
       "  'social dilemma',\n",
       "  'evolutionary dynamic',\n",
       "  'cooperator defector',\n",
       "  'game player',\n",
       "  'play prisoner',\n",
       "  'ipd game',\n",
       "  'play prisoner dilemma',\n",
       "  'pd game',\n",
       "  'evolutionary prisoner',\n",
       "  'decision make',\n",
       "  'game theoretic',\n",
       "  'dilemma ipd',\n",
       "  'evolutionary game theory',\n",
       "  'evolutionary prisoner dilemma',\n",
       "  'prisoner dilemma ipd',\n",
       "  'payoff matrix',\n",
       "  'agent play',\n",
       "  'promote cooperation',\n",
       "  'game play',\n",
       "  'free network',\n",
       "  'level cooperation',\n",
       "  'scale free network',\n",
       "  'game prisoner',\n",
       "  'simulation result',\n",
       "  'repeat game',\n",
       "  'study evolution',\n",
       "  'game model',\n",
       "  'play game',\n",
       "  'real world',\n",
       "  'finite state',\n",
       "  'temptation defect',\n",
       "  'game prisoner dilemma',\n",
       "  'public good',\n",
       "  'game study',\n",
       "  'square lattice',\n",
       "  'multi agent',\n",
       "  'genetic algorithm',\n",
       "  'strategy iterated',\n",
       "  'neural network',\n",
       "  'evolution cooperative',\n",
       "  'strategy player',\n",
       "  'player game',\n",
       "  'experimental result',\n",
       "  'cooperation spatial',\n",
       "  'cellular automaton',\n",
       "  'memory strategy',\n",
       "  'et al',\n",
       "  'result indicate',\n",
       "  'social interaction',\n",
       "  'strategy iterated prisoner',\n",
       "  'phase transition',\n",
       "  'non cooperative',\n",
       "  'game use',\n",
       "  'cooperate defect',\n",
       "  'use game',\n",
       "  'agent base',\n",
       "  'strategy game',\n",
       "  'strategy use',\n",
       "  'paper study',\n",
       "  'evolutionarily stable',\n",
       "  'game theoretical',\n",
       "  'previous study',\n",
       "  'result suggest',\n",
       "  'cooperation level',\n",
       "  'strategy adoption',\n",
       "  'population size',\n",
       "  'decision making',\n",
       "  'stable strategy',\n",
       "  'cooperation defection',\n",
       "  'small world',\n",
       "  'game strategy',\n",
       "  'cooperation spatial prisoner',\n",
       "  'zero determinant',\n",
       "  'cooperative behaviour',\n",
       "  'paper propose',\n",
       "  'propose new',\n",
       "  'network structure',\n",
       "  'n player',\n",
       "  'natural selection',\n",
       "  'model use',\n",
       "  'mean field',\n",
       "  'replicator dynamic',\n",
       "  'iterate prisoner',\n",
       "  'long run',\n",
       "  'different strategy',\n",
       "  'study evolutionary',\n",
       "  'computer simulation',\n",
       "  'play iterated prisoner',\n",
       "  'play iterated',\n",
       "  'n person',\n",
       "  'finite memory',\n",
       "  'tat tft',\n",
       "  'tit tat tft',\n",
       "  'study use',\n",
       "  'short term',\n",
       "  'evolutionary algorithm',\n",
       "  'study evolution cooperation',\n",
       "  'strategy prisoner',\n",
       "  'iterate prisoner dilemma',\n",
       "  'person prisoner',\n",
       "  'agent use',\n",
       "  'cooperative strategy',\n",
       "  'evolutionary process',\n",
       "  'high level',\n",
       "  'paper investigate',\n",
       "  'player prisoner',\n",
       "  'snowdrift game',\n",
       "  'cooperation emerge',\n",
       "  'monte carlo',\n",
       "  'human society',\n",
       "  'reinforcement learn',\n",
       "  'quantum prisoner',\n",
       "  'cooperation evolve',\n",
       "  'use prisoner',\n",
       "  'present new',\n",
       "  'base game',\n",
       "  'complex network',\n",
       "  'state machine',\n",
       "  'finite state machine',\n",
       "  'determinant strategy',\n",
       "  'strategy set',\n",
       "  'spatial structure',\n",
       "  'outcome game',\n",
       "  'widely use',\n",
       "  'strategy strategy',\n",
       "  'evolution cooperative behavior',\n",
       "  'replicator equation',\n",
       "  'model base',\n",
       "  'player choose',\n",
       "  'stag hunt',\n",
       "  'dilemma agent',\n",
       "  'use study',\n",
       "  'strategy update',\n",
       "  'high payoff',\n",
       "  'individual play',\n",
       "  'player cooperate',\n",
       "  'average payoff',\n",
       "  'wide range',\n",
       "  'strategy base',\n",
       "  'optimal strategy',\n",
       "  'cooperation rate',\n",
       "  'person prisoner dilemma',\n",
       "  'zero sum',\n",
       "  'network reciprocity',\n",
       "  'degree distribution',\n",
       "  'choose strategy',\n",
       "  'strategy prisoner dilemma',\n",
       "  'good game',\n",
       "  'player play',\n",
       "  'monte carlo simulation',\n",
       "  'carlo simulation',\n",
       "  'evolution strategy',\n",
       "  'dilemma experiment',\n",
       "  'dilemma player',\n",
       "  'prisoner dilemma player',\n",
       "  'network topology',\n",
       "  'use prisoner dilemma',\n",
       "  'cooperative game',\n",
       "  'cooperation social',\n",
       "  'social science',\n",
       "  'interaction individual',\n",
       "  'game base',\n",
       "  'enhance cooperation',\n",
       "  'paper examine',\n",
       "  'payoff difference',\n",
       "  'numerical simulation',\n",
       "  'dilemma model',\n",
       "  'player use',\n",
       "  'win stay',\n",
       "  'mixed strategy',\n",
       "  'public good game',\n",
       "  'payoff player',\n",
       "  'game agent',\n",
       "  'study game',\n",
       "  'strategy play',\n",
       "  'small number',\n",
       "  'player strategy',\n",
       "  'paper discuss',\n",
       "  'network result',\n",
       "  'dilemma game player',\n",
       "  'cooperation iterated prisoner',\n",
       "  'cooperation iterated',\n",
       "  'stay lose',\n",
       "  'different type',\n",
       "  'strategy network',\n",
       "  'maintenance cooperation',\n",
       "  'self organize',\n",
       "  'sum game',\n",
       "  'interaction network',\n",
       "  'prisoner dilemma2009none',\n",
       "  'prisoner dilemma model',\n",
       "  'player locate',\n",
       "  'strategy win',\n",
       "  'phase diagram',\n",
       "  'zero determinant strategy',\n",
       "  'battle sex',\n",
       "  'model study',\n",
       "  'cooperation study',\n",
       "  'model evolution',\n",
       "  'classical game',\n",
       "  'shot prisoner',\n",
       "  'structure population',\n",
       "  'win stay lose',\n",
       "  'paper use',\n",
       "  'previous work',\n",
       "  'dominant strategy',\n",
       "  'direct reciprocity',\n",
       "  'mix population',\n",
       "  'payoff function',\n",
       "  'payoff value',\n",
       "  'update rule',\n",
       "  'paper introduce',\n",
       "  'dilemma game model',\n",
       "  'dilemma pd game',\n",
       "  'game game',\n",
       "  'self interested',\n",
       "  'present result',\n",
       "  'selfish individual',\n",
       "  'promotion cooperation',\n",
       "  'non zero',\n",
       "  'study cooperation',\n",
       "  'study investigate',\n",
       "  'shot prisoner dilemma',\n",
       "  'player allow',\n",
       "  'change strategy',\n",
       "  'investigate effect',\n",
       "  'spatial game',\n",
       "  'result obtain',\n",
       "  'stationary state',\n",
       "  'use model',\n",
       "  'strategy cooperation',\n",
       "  'prisoner dilemma use',\n",
       "  'dilemma use',\n",
       "  'dilemma ipd game',\n",
       "  'pure strategy',\n",
       "  'near neighbor',\n",
       "  'cooperation evolutionary',\n",
       "  'promote evolution',\n",
       "  'dilemma snowdrift',\n",
       "  'game analyze',\n",
       "  'agent play prisoner',\n",
       "  'benefit cost',\n",
       "  'adopt strategy',\n",
       "  'update strategy',\n",
       "  'stay lose shift',\n",
       "  'lose shift',\n",
       "  'cooperative cluster',\n",
       "  'base simulation',\n",
       "  'prisoner dilemma snowdrift',\n",
       "  'agent different',\n",
       "  'number player',\n",
       "  'strategy evolutionary',\n",
       "  'strategy different',\n",
       "  'world network',\n",
       "  'support cooperation',\n",
       "  'strategy agent',\n",
       "  'strategy good',\n",
       "  'evolution cooperation spatial',\n",
       "  'high level cooperation',\n",
       "  'small world network',\n",
       "  'game consider',\n",
       "  'new strategy',\n",
       "  'dimensional lattice',\n",
       "  'randomly choose',\n",
       "  'frequently use']]"
      ]
     },
     "execution_count": 37,
     "metadata": {},
     "output_type": "execute_result"
    }
   ],
   "source": [
    "km = KMeans(n_clusters=1, max_iter=500)\n",
    "km.fit(tfidf_matrix)\n",
    "    \n",
    "\n",
    "order_centroids = km.cluster_centers_.argsort()[:, ::-1]\n",
    "A = [[terms[ind] for ind in order_centroids[i, :]] for i in range(1)]\n",
    "A"
   ]
  },
  {
   "cell_type": "markdown",
   "metadata": {},
   "source": [
    "Removing keywords\n",
    "-----------------"
   ]
  },
  {
   "cell_type": "code",
   "execution_count": 86,
   "metadata": {
    "collapsed": true
   },
   "outputs": [],
   "source": [
    "def tokenize_text(raw_text):\n",
    "    raw_text = tools.clean_text(raw_text)\n",
    "    # spacy function to get tokens\n",
    "    tokens = tools.parser(raw_text)\n",
    "\n",
    "    # lemmatize\n",
    "    lemmas = []\n",
    "    for tok in tokens:\n",
    "        # if tok.like_num == False:\n",
    "        lemmas.append(\n",
    "            tok.lemma_.lower().strip() if tok.lemma_ != \"-PRON-\" else tok.lower_)\n",
    "    tokens = lemmas\n",
    "\n",
    "    # remove stopwords & symbols\n",
    "    tokens = [tok for tok in tokens if tok not in tools.STOPLIST]\n",
    "    tokens = [tok for tok in tokens if tok not in tools.SYMBOLS]\n",
    "    tokens = [tok for tok in tokens if tok not in tools.SPECIAL_CHAR]\n",
    "\n",
    "    tokens = [tok for tok in tokens if tok not in tools.NON_TERMS]\n",
    "\n",
    "    # remove spaces if they exist\n",
    "    while \"\" in tokens:\n",
    "        tokens.remove(\"\")\n",
    "    while \" \" in tokens:\n",
    "        tokens.remove(\" \")\n",
    "    while \"\\n\" in tokens:\n",
    "        tokens.remove(\"\\n\")\n",
    "    while \"\\n\\n\" in tokens:\n",
    "        tokens.remove(\"\\n\\n\")\n",
    "\n",
    "    return tokens\n"
   ]
  },
  {
   "cell_type": "code",
   "execution_count": 87,
   "metadata": {},
   "outputs": [
    {
     "name": "stdout",
     "output_type": "stream",
     "text": [
      "CPU times: user 13.5 s, sys: 12 ms, total: 13.5 s\n",
      "Wall time: 13.5 s\n"
     ]
    }
   ],
   "source": [
    "tfidf_vectorizer = TfidfVectorizer(max_df=0.8, max_features=200000, \n",
    "                                   min_df=0.01, \n",
    "                                   tokenizer=tokenize_text,\n",
    "                                   ngram_range=(2,3))\n",
    "%time tfidf_matrix = tfidf_vectorizer.fit_transform(df.features)"
   ]
  },
  {
   "cell_type": "code",
   "execution_count": 88,
   "metadata": {},
   "outputs": [],
   "source": [
    "n_clusters =[]\n",
    "silhouette_scores = []\n",
    "for num_clusters in range(2, 100):\n",
    "    clusterer = KMeans(n_clusters=num_clusters, max_iter=500)\n",
    "    cluster_labels = clusterer.fit_predict(tfidf_matrix)\n",
    "    silhouette_avg = silhouette_score(tfidf_matrix, cluster_labels)\n",
    "    \n",
    "    n_clusters.append(num_clusters)\n",
    "    silhouette_scores.append(silhouette_avg)"
   ]
  },
  {
   "cell_type": "code",
   "execution_count": 89,
   "metadata": {},
   "outputs": [
    {
     "data": {
      "text/plain": [
       "[<matplotlib.lines.Line2D at 0x7faf453b8320>]"
      ]
     },
     "execution_count": 89,
     "metadata": {},
     "output_type": "execute_result"
    },
    {
     "data": {
      "image/png": "[encoded data removed]",
      "text/plain": [
       "<matplotlib.figure.Figure at 0x7faf461cf470>"
      ]
     },
     "metadata": {},
     "output_type": "display_data"
    }
   ],
   "source": [
    "plt.plot(n_clusters, silhouette_scores)"
   ]
  },
  {
   "cell_type": "code",
   "execution_count": 44,
   "metadata": {},
   "outputs": [
    {
     "name": "stdout",
     "output_type": "stream",
     "text": [
      "CPU times: user 832 ms, sys: 8 ms, total: 840 ms\n",
      "Wall time: 842 ms\n"
     ]
    },
    {
     "data": {
      "text/plain": [
       "[['evolutionarily stable',\n",
       "  'probability distribution',\n",
       "  'agent base',\n",
       "  'monte carlo simulation',\n",
       "  'high level cooperation'],\n",
       " ['game theoretical',\n",
       "  'game theoretic',\n",
       "  'emergence cooperation',\n",
       "  'dilemma ipd game',\n",
       "  'multi agent'],\n",
       " ['decision making game',\n",
       "  'carlo simulation',\n",
       "  'dilemma model',\n",
       "  'optimal strategy',\n",
       "  'cooperation spatial'],\n",
       " ['biological modeling',\n",
       "  'different strategy',\n",
       "  'model game',\n",
       "  'high level',\n",
       "  'benefit cost'],\n",
       " ['network reciprocity',\n",
       "  'educational institution',\n",
       "  'network result',\n",
       "  'choose strategy',\n",
       "  'different type'],\n",
       " ['game game',\n",
       "  'cooperation evolve',\n",
       "  'game nash equilibrium',\n",
       "  'mean field',\n",
       "  'agent play prisoner'],\n",
       " ['game nash',\n",
       "  'game agent',\n",
       "  'agent play',\n",
       "  'evolutionarily stable',\n",
       "  'base simulation'],\n",
       " ['fingerprint recognition',\n",
       "  'dimensional lattice',\n",
       "  'play prisoner dilemma',\n",
       "  'daniel ashlock daniel',\n",
       "  'phase diagram'],\n",
       " ['prisoner dilemma game',\n",
       "  'prisoner dilemma ipd',\n",
       "  'previous study',\n",
       "  'new strategy',\n",
       "  'paper investigate'],\n",
       " ['ashlock daniel',\n",
       "  'cooperation study',\n",
       "  'ashlock daniel ashlock',\n",
       "  'cooperative behavior',\n",
       "  'dilemma ipd game'],\n",
       " ['payoff player',\n",
       "  'institution game',\n",
       "  'long wang',\n",
       "  'evolution cooperative behavior',\n",
       "  'evolutionary prisoner dilemma'],\n",
       " ['game consider',\n",
       "  'evolutionary process',\n",
       "  'cooperative cluster',\n",
       "  'cooperation social',\n",
       "  'classical game'],\n",
       " ['iterate prisoner',\n",
       "  'iterated prisoner',\n",
       "  'iterate prisoner dilemma',\n",
       "  'complex network',\n",
       "  'game nash equilibrium'],\n",
       " ['dilemma ipd game',\n",
       "  'complex network',\n",
       "  'evolutionary algorithm',\n",
       "  'game nash equilibrium',\n",
       "  'classical game'],\n",
       " ['game theory game',\n",
       "  'n person',\n",
       "  'maintenance cooperation',\n",
       "  'finite state',\n",
       "  'machine game'],\n",
       " ['evolutionary algorithm',\n",
       "  'payoff matrix',\n",
       "  'emergence cooperation',\n",
       "  'dilemma snowdrift',\n",
       "  'evolutionary computation'],\n",
       " ['model study',\n",
       "  'battle sex',\n",
       "  'finite state',\n",
       "  'game nash equilibrium',\n",
       "  'game theory graph'],\n",
       " ['cooperation prisoner',\n",
       "  'dilemma game',\n",
       "  'dilemma experiment',\n",
       "  'evolution biology),game',\n",
       "  'educational institution game'],\n",
       " ['iterative method',\n",
       "  'daniel ashlock',\n",
       "  'cooperation prisoner',\n",
       "  'game prisoner',\n",
       "  'film transistor'],\n",
       " ['previous work',\n",
       "  'prisoner dilemma model',\n",
       "  'prisoner dilemma game',\n",
       "  'agent play prisoner',\n",
       "  'computational modeling'],\n",
       " ['cooperation prisoner dilemma',\n",
       "  'computation game',\n",
       "  'payoff function',\n",
       "  'dilemma experiment',\n",
       "  'cooperation defection'],\n",
       " ['non zero',\n",
       "  'number player',\n",
       "  'promotion cooperation',\n",
       "  'optimal strategy',\n",
       "  'computation game'],\n",
       " ['player choose',\n",
       "  'evolutionary game',\n",
       "  'dilemma ipd',\n",
       "  'play game',\n",
       "  'player use'],\n",
       " ['mix population',\n",
       "  'cooperation iterated prisoner',\n",
       "  'enhance cooperation',\n",
       "  'different type',\n",
       "  'nash equilibrium'],\n",
       " ['public good game',\n",
       "  'game theory genetic',\n",
       "  'determinant strategy',\n",
       "  'game nash equilibrium',\n",
       "  'dilemma ipd game'],\n",
       " ['different type',\n",
       "  'player prisoner',\n",
       "  'player play',\n",
       "  'optimal strategy',\n",
       "  'peer peer computing'],\n",
       " ['ad hoc',\n",
       "  'emergence cooperation',\n",
       "  'complex network',\n",
       "  'n player',\n",
       "  'dilemma snowdrift'],\n",
       " ['cooperation iterated prisoner',\n",
       "  'dilemma agent',\n",
       "  'different type',\n",
       "  'paper introduce',\n",
       "  'prisoner dilemma'],\n",
       " ['game nash equilibrium',\n",
       "  'cooperative cluster',\n",
       "  'evolutionary computation',\n",
       "  'decision making',\n",
       "  'memory strategy'],\n",
       " ['interaction network',\n",
       "  'pd game',\n",
       "  'agent play',\n",
       "  'network topology',\n",
       "  'daniel ashlock daniel'],\n",
       " ['direct reciprocity',\n",
       "  'game theoretic',\n",
       "  'dominant strategy',\n",
       "  'paper propose',\n",
       "  'agent play'],\n",
       " ['enhance cooperation',\n",
       "  'et al',\n",
       "  'evolutionary computation game',\n",
       "  'maintenance cooperation',\n",
       "  'cooperation defection'],\n",
       " ['emergence cooperation',\n",
       "  'numerical simulation',\n",
       "  'network game',\n",
       "  'dilemma snowdrift',\n",
       "  'evolutionary computation'],\n",
       " ['cooperative behaviour',\n",
       "  'cooperative cluster',\n",
       "  'game agent',\n",
       "  'near neighbor',\n",
       "  'agent use'],\n",
       " ['game model',\n",
       "  'dilemma player',\n",
       "  'game use',\n",
       "  'base simulation',\n",
       "  'cooperation prisoner dilemma'],\n",
       " ['human society',\n",
       "  'model game',\n",
       "  'model evolution',\n",
       "  'cooperation prisoner',\n",
       "  'model use'],\n",
       " ['dominant strategy',\n",
       "  'paper propose',\n",
       "  'direct reciprocity',\n",
       "  'dilemma ipd',\n",
       "  'population size'],\n",
       " ['nash equilibrium',\n",
       "  'play prisoner dilemma',\n",
       "  'game prisoner dilemma',\n",
       "  'population size',\n",
       "  'prisoners’ dilemma'],\n",
       " ['prisoner dilemma game',\n",
       "  'iterate prisoner dilemma',\n",
       "  'dilemma game player',\n",
       "  'cooperation emerge',\n",
       "  'peer computing'],\n",
       " ['high level cooperation',\n",
       "  'making game theory',\n",
       "  'mathematical model',\n",
       "  'player choose',\n",
       "  'natural selection']]"
      ]
     },
     "execution_count": 44,
     "metadata": {},
     "output_type": "execute_result"
    }
   ],
   "source": [
    "km = KMeans(n_clusters=40, max_iter=500)\n",
    "%time km.fit(tfidf_matrix)\n",
    "clusters = km.labels_.tolist()\n",
    "    \n",
    "\n",
    "order_centroids = km.cluster_centers_.argsort()[:, ::-1]\n",
    "B = [[terms[ind] for ind in order_centroids[i, :5]] for i in range(40)]\n",
    "B"
   ]
  },
  {
   "cell_type": "markdown",
   "metadata": {},
   "source": [
    "Putting together the TF-IDF matrix\n",
    "----------------------------------"
   ]
  },
  {
   "cell_type": "code",
   "execution_count": 59,
   "metadata": {
    "collapsed": true
   },
   "outputs": [],
   "source": [
    "import scipy.sparse as sp"
   ]
  },
  {
   "cell_type": "code",
   "execution_count": 55,
   "metadata": {
    "collapsed": true
   },
   "outputs": [],
   "source": [
    "df = pd.read_json('/home/nightwing/rsc/Axelbib/scraping/Analysis of Results/data.json')\n",
    "\n",
    "df = df.drop(['labels', 'list_strategies', 'provenance', 'read', 'pages', 'score', 'key'], 1)\n",
    "\n",
    "keywords = df.groupby('unique_key')['key_word'].apply(lambda x: ','.join(x)).reset_index()['key_word']\n",
    "authors = df.groupby('unique_key')['author'].apply(lambda x: ','.join(x)).reset_index()['author']\n",
    "\n",
    "df = df.drop_duplicates('unique_key')\n",
    "\n",
    "df['key_word'] = list(keywords)\n",
    "df['author']  = list(authors)"
   ]
  },
  {
   "cell_type": "code",
   "execution_count": 56,
   "metadata": {},
   "outputs": [
    {
     "data": {
      "text/html": [
       "<div>\n",
       "<table border=\"1\" class=\"dataframe\">\n",
       "  <thead>\n",
       "    <tr style=\"text-align: right;\">\n",
       "      <th></th>\n",
       "      <th>abstract</th>\n",
       "      <th>author</th>\n",
       "      <th>date</th>\n",
       "      <th>journal</th>\n",
       "      <th>key_word</th>\n",
       "      <th>title</th>\n",
       "      <th>unique_key</th>\n",
       "    </tr>\n",
       "  </thead>\n",
       "  <tbody>\n",
       "    <tr>\n",
       "      <th>0</th>\n",
       "      <td>We use replicator dynamics to study an iterate...</td>\n",
       "      <td>Myungkyoon Roh,Seung-Woo Son,Young Jin Kim</td>\n",
       "      <td>2014</td>\n",
       "      <td>The Korean Physical Society February 2014, Vol...</td>\n",
       "      <td>None,None,None</td>\n",
       "      <td>Network Structures between Strategies in Itera...</td>\n",
       "      <td>00660e6b2eedbebaf611cafc864ed1e4</td>\n",
       "    </tr>\n",
       "    <tr>\n",
       "      <th>10</th>\n",
       "      <td>Humans and other animals can adapt their socia...</td>\n",
       "      <td>Eriko Fukuda,Jun Tanimoto,Keizo Shigaki,Zhen Wang</td>\n",
       "      <td>2010</td>\n",
       "      <td>Journal of Theoretical Biology, 278, 55-62 (2011)</td>\n",
       "      <td>None,None,None,None</td>\n",
       "      <td>Numerical analysis of a reinforcement learning...</td>\n",
       "      <td>00e2e2026b199eebc643ef34a3227619</td>\n",
       "    </tr>\n",
       "    <tr>\n",
       "      <th>100</th>\n",
       "      <td>We study the Prisoner's Dilemma in competitive...</td>\n",
       "      <td>Jeffrey R. Stevens,Jenny Volstorf,Jörg Rieskamp</td>\n",
       "      <td>2014</td>\n",
       "      <td>2014 Tenth International Conference on Signal-...</td>\n",
       "      <td>None,None,None</td>\n",
       "      <td>Emergence of Cooperation in Competitive Enviro...</td>\n",
       "      <td>033c659f83d66dad535b79eced8d069e</td>\n",
       "    </tr>\n",
       "  </tbody>\n",
       "</table>\n",
       "</div>"
      ],
      "text/plain": [
       "                                              abstract  \\\n",
       "0    We use replicator dynamics to study an iterate...   \n",
       "10   Humans and other animals can adapt their socia...   \n",
       "100  We study the Prisoner's Dilemma in competitive...   \n",
       "\n",
       "                                                author  date  \\\n",
       "0           Myungkyoon Roh,Seung-Woo Son,Young Jin Kim  2014   \n",
       "10   Eriko Fukuda,Jun Tanimoto,Keizo Shigaki,Zhen Wang  2010   \n",
       "100    Jeffrey R. Stevens,Jenny Volstorf,Jörg Rieskamp  2014   \n",
       "\n",
       "                                               journal             key_word  \\\n",
       "0    The Korean Physical Society February 2014, Vol...       None,None,None   \n",
       "10   Journal of Theoretical Biology, 278, 55-62 (2011)  None,None,None,None   \n",
       "100  2014 Tenth International Conference on Signal-...       None,None,None   \n",
       "\n",
       "                                                 title  \\\n",
       "0    Network Structures between Strategies in Itera...   \n",
       "10   Numerical analysis of a reinforcement learning...   \n",
       "100  Emergence of Cooperation in Competitive Enviro...   \n",
       "\n",
       "                           unique_key  \n",
       "0    00660e6b2eedbebaf611cafc864ed1e4  \n",
       "10   00e2e2026b199eebc643ef34a3227619  \n",
       "100  033c659f83d66dad535b79eced8d069e  "
      ]
     },
     "execution_count": 56,
     "metadata": {},
     "output_type": "execute_result"
    }
   ],
   "source": [
    "df.head(3)"
   ]
  },
  {
   "cell_type": "code",
   "execution_count": 57,
   "metadata": {},
   "outputs": [
    {
     "data": {
      "text/plain": [
       "1104"
      ]
     },
     "execution_count": 57,
     "metadata": {},
     "output_type": "execute_result"
    }
   ],
   "source": [
    "len(df)"
   ]
  },
  {
   "cell_type": "code",
   "execution_count": 314,
   "metadata": {
    "collapsed": true
   },
   "outputs": [],
   "source": [
    "# lets create a matrix for title and a matrix for abstract + author and keyword"
   ]
  },
  {
   "cell_type": "code",
   "execution_count": 50,
   "metadata": {
    "collapsed": true
   },
   "outputs": [],
   "source": [
    "tfidf_vectorizer = TfidfVectorizer(max_df=0.8, max_features=200000, \n",
    "                                   min_df=0.01, \n",
    "                                   tokenizer=tools.tokenize_text, ngram_range=(2,3))"
   ]
  },
  {
   "cell_type": "code",
   "execution_count": 58,
   "metadata": {},
   "outputs": [],
   "source": [
    "title_matrix = tfidf_vectorizer.fit_transform(df.title)\n",
    "abs_matrix = tfidf_vectorizer.fit_transform(df.abstract)\n",
    "key_matrix = tfidf_vectorizer.fit_transform(df.key_word)"
   ]
  },
  {
   "cell_type": "code",
   "execution_count": 61,
   "metadata": {},
   "outputs": [
    {
     "data": {
      "text/plain": [
       "(1104, 349)"
      ]
     },
     "execution_count": 61,
     "metadata": {},
     "output_type": "execute_result"
    }
   ],
   "source": [
    "tf_matrix = sp.hstack((abs_matrix, title_matrix, key_matrix), format='csr')\n",
    "tf_matrix.shape"
   ]
  },
  {
   "cell_type": "code",
   "execution_count": 62,
   "metadata": {
    "collapsed": true
   },
   "outputs": [],
   "source": [
    "n_clusters =[]\n",
    "silhouette_scores = []\n",
    "for num_clusters in range(2, 100):\n",
    "    clusterer = KMeans(n_clusters=num_clusters, max_iter=500)\n",
    "    cluster_labels = clusterer.fit_predict(tf_matrix)\n",
    "    silhouette_avg = silhouette_score(tf_matrix, cluster_labels)\n",
    "    \n",
    "    n_clusters.append(num_clusters)\n",
    "    silhouette_scores.append(silhouette_avg)"
   ]
  },
  {
   "cell_type": "code",
   "execution_count": 63,
   "metadata": {},
   "outputs": [
    {
     "data": {
      "text/plain": [
       "[<matplotlib.lines.Line2D at 0x7faf4553a400>]"
      ]
     },
     "execution_count": 63,
     "metadata": {},
     "output_type": "execute_result"
    },
    {
     "data": {
      "image/png": "[encoded data removed]",
      "text/plain": [
       "<matplotlib.figure.Figure at 0x7faf3a07b1d0>"
      ]
     },
     "metadata": {},
     "output_type": "display_data"
    }
   ],
   "source": [
    "plt.plot(n_clusters, silhouette_scores)"
   ]
  },
  {
   "cell_type": "code",
   "execution_count": 74,
   "metadata": {},
   "outputs": [
    {
     "name": "stdout",
     "output_type": "stream",
     "text": [
      "CPU times: user 744 ms, sys: 0 ns, total: 744 ms\n",
      "Wall time: 806 ms\n"
     ]
    },
    {
     "data": {
      "text/plain": [
       "[['ashlock daniel',\n",
       "  'cooperation study',\n",
       "  'ashlock daniel ashlock',\n",
       "  'cooperative behavior',\n",
       "  'dilemma ipd game'],\n",
       " ['prisoner dilemma game',\n",
       "  'prisoner dilemma ipd',\n",
       "  'previous study',\n",
       "  'new strategy',\n",
       "  'game theory game'],\n",
       " ['decision making game',\n",
       "  'high level cooperation',\n",
       "  'biological modeling',\n",
       "  'game consider',\n",
       "  'dilemma model'],\n",
       " ['cooperation prisoner',\n",
       "  'dilemma game',\n",
       "  'dilemma experiment',\n",
       "  'computer simulation',\n",
       "  'evolution biology),game'],\n",
       " ['emergence cooperation',\n",
       "  'complex network',\n",
       "  'dilemma ipd game',\n",
       "  'evolutionary algorithm',\n",
       "  'dilemma snowdrift']]"
      ]
     },
     "execution_count": 74,
     "metadata": {},
     "output_type": "execute_result"
    }
   ],
   "source": [
    "km = KMeans(n_clusters=20, max_iter=500)\n",
    "%time km.fit(tfidf_matrix)\n",
    "clusters = km.labels_.tolist()\n",
    "    \n",
    "\n",
    "order_centroids = km.cluster_centers_.argsort()[:, ::-1]\n",
    "C = [[terms[ind] for ind in order_centroids[i, :5]] for i in range(5)]\n",
    "C"
   ]
  },
  {
   "cell_type": "markdown",
   "metadata": {},
   "source": [
    "Repeate for removing key words\n",
    "------------------------------"
   ]
  },
  {
   "cell_type": "code",
   "execution_count": 69,
   "metadata": {
    "collapsed": true
   },
   "outputs": [],
   "source": [
    "tfidf_vectorizer = TfidfVectorizer(max_df=0.8, max_features=200000, \n",
    "                                   min_df=0.01, \n",
    "                                   tokenizer=tokenize_text, ngram_range=(2,3))"
   ]
  },
  {
   "cell_type": "code",
   "execution_count": 70,
   "metadata": {
    "collapsed": true
   },
   "outputs": [],
   "source": [
    "title_matrix = tfidf_vectorizer.fit_transform(df.title)\n",
    "abs_matrix = tfidf_vectorizer.fit_transform(df.abstract)\n",
    "key_matrix = tfidf_vectorizer.fit_transform(df.key_word)"
   ]
  },
  {
   "cell_type": "code",
   "execution_count": 71,
   "metadata": {
    "collapsed": true
   },
   "outputs": [],
   "source": [
    "tf_matrix = sp.hstack((abs_matrix, title_matrix, key_matrix), format='csr')"
   ]
  },
  {
   "cell_type": "code",
   "execution_count": 72,
   "metadata": {
    "collapsed": true
   },
   "outputs": [],
   "source": [
    "n_clusters =[]\n",
    "silhouette_scores = []\n",
    "for num_clusters in range(2, 100):\n",
    "    clusterer = KMeans(n_clusters=num_clusters, max_iter=500)\n",
    "    cluster_labels = clusterer.fit_predict(tf_matrix)\n",
    "    silhouette_avg = silhouette_score(tf_matrix, cluster_labels)\n",
    "    \n",
    "    n_clusters.append(num_clusters)\n",
    "    silhouette_scores.append(silhouette_avg)"
   ]
  },
  {
   "cell_type": "code",
   "execution_count": 73,
   "metadata": {},
   "outputs": [
    {
     "data": {
      "text/plain": [
       "[<matplotlib.lines.Line2D at 0x7faf45ea9048>]"
      ]
     },
     "execution_count": 73,
     "metadata": {},
     "output_type": "execute_result"
    },
    {
     "data": {
      "image/png": "[encoded data removed]",
      "text/plain": [
       "<matplotlib.figure.Figure at 0x7faf4540c5c0>"
      ]
     },
     "metadata": {},
     "output_type": "display_data"
    }
   ],
   "source": [
    "plt.plot(n_clusters, silhouette_scores)"
   ]
  },
  {
   "cell_type": "code",
   "execution_count": null,
   "metadata": {
    "collapsed": true
   },
   "outputs": [],
   "source": []
  }
 ],
 "metadata": {
  "anaconda-cloud": {},
  "kernelspec": {
   "display_name": "Python [conda env:literature]",
   "language": "python",
   "name": "conda-env-literature-py"
  },
  "language_info": {
   "codemirror_mode": {
    "name": "ipython",
    "version": 3
   },
   "file_extension": ".py",
   "mimetype": "text/x-python",
   "name": "python",
   "nbconvert_exporter": "python",
   "pygments_lexer": "ipython3",
   "version": "3.6.0"
  }
 },
 "nbformat": 4,
 "nbformat_minor": 1
}
