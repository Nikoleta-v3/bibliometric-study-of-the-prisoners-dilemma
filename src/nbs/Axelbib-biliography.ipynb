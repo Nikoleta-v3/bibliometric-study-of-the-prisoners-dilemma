{
 "cells": [
  {
   "cell_type": "code",
   "execution_count": 194,
   "metadata": {
    "collapsed": true
   },
   "outputs": [],
   "source": [
    "file = '/home/nightwing/rsc/Literature-Article/bibliography.bib'"
   ]
  },
  {
   "cell_type": "code",
   "execution_count": 195,
   "metadata": {
    "collapsed": true
   },
   "outputs": [],
   "source": [
    "with (open(file, 'r')) as textfile:\n",
    "    bibliography = textfile.read()"
   ]
  },
  {
   "cell_type": "code",
   "execution_count": 196,
   "metadata": {},
   "outputs": [
    {
     "data": {
      "text/plain": [
       "''"
      ]
     },
     "execution_count": 196,
     "metadata": {},
     "output_type": "execute_result"
    }
   ],
   "source": [
    "articles = bibliography.split('@')\n",
    "articles.pop(0)"
   ]
  },
  {
   "cell_type": "code",
   "execution_count": 230,
   "metadata": {
    "collapsed": true
   },
   "outputs": [],
   "source": [
    "articles = [art.lower() for art in articles]"
   ]
  },
  {
   "cell_type": "code",
   "execution_count": 260,
   "metadata": {
    "collapsed": true
   },
   "outputs": [],
   "source": [
    "def remove_symbols_from_entry(entry):\n",
    "    entry = entry.replace(\"{\", \"\")\n",
    "    entry = entry.replace(\",\", \"\")\n",
    "    entry = entry.replace(\"}\", \"\")\n",
    "    entry = entry.replace('\"', \"\")\n",
    "\n",
    "    return entry"
   ]
  },
  {
   "cell_type": "code",
   "execution_count": 261,
   "metadata": {
    "collapsed": true
   },
   "outputs": [],
   "source": [
    "def get_title(raw_article):\n",
    "    details = raw_article.split('\\n')\n",
    "    \n",
    "    _, raw_title = [row for row in details if 'title' in row][0].split('=')\n",
    "    title = remove_symbols_from_entry(raw_title)\n",
    "    \n",
    "    return title"
   ]
  },
  {
   "cell_type": "code",
   "execution_count": 262,
   "metadata": {
    "collapsed": true
   },
   "outputs": [],
   "source": [
    "def get_year(raw_article):\n",
    "    \n",
    "    title = get_title(raw_article)\n",
    "    details = raw_article.split('\\n')\n",
    "    try:\n",
    "        _, raw_year = [row for row in details if 'year =' in row][0].split('=')\n",
    "    except IndexError:\n",
    "        raw_year = '0'\n",
    "    year = int(remove_symbols_from_entry(raw_year))\n",
    "        \n",
    "    return title, year  "
   ]
  },
  {
   "cell_type": "code",
   "execution_count": 263,
   "metadata": {},
   "outputs": [],
   "source": [
    "dates = []\n",
    "for art in articles:\n",
    "    dates.append(get_year(art))"
   ]
  },
  {
   "cell_type": "code",
   "execution_count": 264,
   "metadata": {},
   "outputs": [
    {
     "data": {
      "text/plain": [
       "[(' some experimental games', 1958),\n",
       " (' theory of games and economic behavior', 1944),\n",
       " (' the mathematics of tucker: a sampler', 1983),\n",
       " (\"prisoner's dilemma: a study in conflict and cooperation by anatol rapoport and albert m. chammah with the collaboration of carol j. orwant\",\n",
       "  0),\n",
       " (' launching “the evolution of cooperation”', 2012),\n",
       " (\" effective choice in the prisoner's dilemma\", 1980),\n",
       " (\" more effective choice in the prisoner's dilemma\", 1980),\n",
       " (' the further evolution of cooperation', 1988),\n",
       " (' the evolution of cooperation', 1984),\n",
       " (' the optimal level of generosity in a selfish uncertain environment', 1985),\n",
       " (\" is tit-for-tat the answer? on the conclusions drawn from axelrod's tournaments\",\n",
       "  2015),\n",
       " (\" when in doubt... cooperation in a noisy prisoner's dilemma\", 1991),\n",
       " (' the evolution of forgiveness', 1992),\n",
       " (' tit for tat in heterogeneous populations', 1992),\n",
       " (\" the evolution of stochastic strategies in the prisoner's dilemma\", 1990),\n",
       " (\" game-dynamical aspects of the prisoner's dilemma\", 1989),\n",
       " (\" payment schedule sequence of choice and cooperation in the prisoner's dilemma game\",\n",
       "  1966),\n",
       " (\" experimenter bias in the prisoner's dilemma game\", 1968),\n",
       " (' sex role cooperation and competition in a two-person non-zero sum game',\n",
       "  1961),\n",
       " (\" sex role identification and behavior in a reiterated prisoner's dilemma game\",\n",
       "  1971),\n",
       " (\" cooperation in the prisoner's dilemma as a function of interpersonal distance\",\n",
       "  1972),\n",
       " (\" a strategy of win-stay lose-shift that outperforms tit-for-tat in the prisoner's dilemma game\",\n",
       "  1993),\n",
       " (\" finite automata play the repeated prisoner's dilemma\", 1986),\n",
       " (\" the coevolution of automata in the repeated prisoner's dilemma\", 1996),\n",
       " (' tit for tat in sticklebacks and the evolution of cooperation', 1987),\n",
       " (' reciprocal food sharing in the vampire bat', 1984),\n",
       " (\" no pure strategy is evolutionarily stable in the repeated prisoner's dilemma game\",\n",
       "  1987),\n",
       " (' more evolution of cooperation', 1987),\n",
       " (\" mistakes allow evolutionary stability in the repeated prisoner's dilemma game\",\n",
       "  0),\n",
       " (' evolutionary games and spatial chaos', 1992),\n",
       " (' axelrod: <release title>', 0),\n",
       " (' toward adaptive cooperative behavior', 0),\n",
       " (\" how to cope with noise in the iterated prisoner's dilemma\", 1995),\n",
       " (\" our meeting with gradual: a good strategy for the iterated prisoner's dilemma\",\n",
       "  1997),\n",
       " (' reinforcement learning produces dominant strategies for the iterated', 0),\n",
       " (\" complexity cost and two types of noise in the repeated prisoner's dilemma\",\n",
       "  1998),\n",
       " (\" on some winning strategies for the iterated prisoner's dilemma or\", 0),\n",
       " (' adaptive dynamics of extortion and compliance', 2013),\n",
       " (' efficiency in evolutionary games: darwin nash and secret handshake', 1989),\n",
       " (\" engineering design of strategies for winning iterated prisoner ' s\", 2011),\n",
       " (' how to design a strategy to win an ipd tournament', 2007),\n",
       " (' changes in prisoner’s dilemma strategies over evolutionary time with different population sizes',\n",
       "  2006),\n",
       " (\" the evolution of strategies in the iterated prisoner's dilemma\", 1987),\n",
       " (\" evolving continuous behaviors in the iterated prisoner's dilemma\", 1996),\n",
       " (' evolutionary dynamics of spatial games', 1994),\n",
       " (' the art of war: beyond memory-one strategies in population games', 2015),\n",
       " (' complexity of cooperation web site', 0),\n",
       " (' lifl (1998) prison', 0),\n",
       " (\" the iterated prisoner's dilemma game\", 0),\n",
       " (' the evolution of trust', 0),\n",
       " (\" an open reproducible framework for the study of the iterated prisoner's\",\n",
       "  0),\n",
       " (\" prisoner's dilemma in an rna virus\", 1999),\n",
       " (\" 'tit-for-tat' in cell biology\", 2011),\n",
       " (' you mob my owl i’ll mob yours: birds play tit-for-tat game', 2012),\n",
       " (\" iterated prisoner's dilemma contains strategies that dominate any evolutionary opponent\",\n",
       "  2012),\n",
       " (' extortion and cooperation in the prisoner’s dilemma', 2012),\n",
       " (' exploiting evolutionary modeling to prevail in iterated prisoner’s dilemma tournaments',\n",
       "  2016),\n",
       " (\" particle swarm optimization approaches to coevolve strategies for the iterated prisoner's dilemma\",\n",
       "  2005),\n",
       " (' 2005 ieee congress on evolutionary computation ', 2005),\n",
       " (\" fingerprinting: visualization and automatic analysis of prisoner's dilemma strategies \",\n",
       "  2008),\n",
       " (' proceedings of the 2010 ieee conference on computational intelligence and games ',\n",
       "  2010),\n",
       " (\" fingerprint analysis of the noisy prisoner's dilemma using a finite-state representation \",\n",
       "  2009),\n",
       " (\" understanding representational sensitivity in the iterated prisoner's dilemma with fingerprints \",\n",
       "  2006),\n",
       " (\" prisoner's dilemma in an rna virus\", 1999),\n",
       " (\" human behavior in prisoner's dilemma experiments suppresses network reciprocity\",\n",
       "  0),\n",
       " (\" heuristics guide the implementation of social preferences in one-shot prisoner's dilemma experiments\",\n",
       "  2014),\n",
       " (' strategies in the stochastic iterated prisoner’s dilemma', 2014),\n",
       " (' repeated games finite automata and complexity', 1990),\n",
       " (' the importance of mechanisms for the evolution of cooperation', 2015),\n",
       " (\" start effect and response bias in the prisoner's dilemma game\", 1968)]"
      ]
     },
     "execution_count": 264,
     "metadata": {},
     "output_type": "execute_result"
    }
   ],
   "source": [
    "dates"
   ]
  },
  {
   "cell_type": "code",
   "execution_count": 209,
   "metadata": {},
   "outputs": [],
   "source": [
    "dates =  [d for d in dates if d is not None]"
   ]
  },
  {
   "cell_type": "code",
   "execution_count": 217,
   "metadata": {},
   "outputs": [
    {
     "data": {
      "text/plain": [
       "[('theory of games and economic behavior', 1944),\n",
       " ('some experimental games', 1958),\n",
       " ('sex role, cooperation and competition in a two-person, non-zero sum game',\n",
       "  1961),\n",
       " (\"payment schedule, sequence of choice, and cooperation in the prisoner's dilemma game\",\n",
       "  1966),\n",
       " (\"experimenter bias in the prisoner's dilemma game\", 1968),\n",
       " (' \"start effect and response bias in the prisoner\\'s dilemma game\",', 1968),\n",
       " (\"sex role identification and behavior in a reiterated prisoner's dilemma game\",\n",
       "  1971),\n",
       " (\"cooperation in the prisoner's dilemma as a function of interpersonal distance\",\n",
       "  1972),\n",
       " (\"effective choice in the prisoner's dilemma\", 1980),\n",
       " (\"more effective choice in the prisoner's dilemma\", 1980),\n",
       " ('the mathematics of tucker: a sampler', 1983),\n",
       " ('the evolution of cooperation', 1984),\n",
       " ('reciprocal food sharing in the vampire bat', 1984),\n",
       " ('the optimal level of generosity in a selfish, uncertain environment', 1985),\n",
       " (\"finite automata play the repeated prisoner's dilemma\", 1986),\n",
       " ('tit for tat in sticklebacks and the evolution of cooperation', 1987),\n",
       " (\"no pure strategy is evolutionarily stable in the repeated prisoner's dilemma game\",\n",
       "  1987),\n",
       " ('more evolution of cooperation', 1987),\n",
       " (\"the evolution of strategies in the iterated prisoner's dilemma\", 1987),\n",
       " ('the further evolution of cooperation', 1988),\n",
       " (\"game-dynamical aspects of the prisoner's dilemma\", 1989),\n",
       " ('efficiency in evolutionary games: darwin, nash and secret handshake', 1989),\n",
       " (\"the evolution of stochastic strategies in the prisoner's dilemma\", 1990),\n",
       " ('repeated games, finite automata, and complexity', 1990),\n",
       " (\"when in doubt... cooperation in a noisy prisoner's dilemma\", 1991),\n",
       " ('the evolution of forgiveness', 1992),\n",
       " ('tit for tat in heterogeneous populations', 1992),\n",
       " ('evolutionary games and spatial chaos', 1992),\n",
       " (\"a strategy of win-stay, lose-shift that outperforms tit-for-tat in the prisoner's dilemma game\",\n",
       "  1993),\n",
       " ('evolutionary dynamics of spatial games', 1994),\n",
       " (\"how to cope with noise in the iterated prisoner's dilemma\", 1995),\n",
       " (\"the coevolution of automata in the repeated prisoner's dilemma\", 1996),\n",
       " (\"evolving continuous behaviors in the iterated prisoner's dilemma\", 1996),\n",
       " (\"our meeting with gradual: a good strategy for the iterated prisoner's dilemma\",\n",
       "  1997),\n",
       " (\"complexity cost and two types of noise in the repeated prisoner's dilemma\",\n",
       "  1998),\n",
       " (\"prisoner's dilemma in an rna virus\", 1999),\n",
       " (\"prisoner's dilemma in an rna virus\", 1999),\n",
       " (\"particle swarm optimization approaches to coevolve strategies for the iterated prisoner's dilemma\",\n",
       "  2005),\n",
       " ('2005 ieee congress on evolutionary computation', 2005),\n",
       " ('changes in prisoner’s dilemma strategies over evolutionary time with different population sizes',\n",
       "  2006),\n",
       " (\"understanding representational sensitivity in the iterated prisoner's dilemma with fingerprints\",\n",
       "  2006),\n",
       " ('how to design a strategy to win an ipd tournament', 2007),\n",
       " (\"fingerprinting: visualization and automatic analysis of prisoner's dilemma strategies\",\n",
       "  2008),\n",
       " (\"fingerprint analysis of the noisy prisoner's dilemma using a finite-state representation\",\n",
       "  2009),\n",
       " ('proceedings of the 2010 ieee conference on computational intelligence and games',\n",
       "  2010),\n",
       " (\"engineering design of strategies for winning iterated prisoner ' s\", 2011),\n",
       " (\"'tit-for-tat' in cell biology\", 2011),\n",
       " ('launching “the evolution of cooperation”', 2012),\n",
       " ('you mob my owl, i’ll mob yours: birds play tit-for-tat game', 2012),\n",
       " (\"iterated prisoner's dilemma contains strategies that dominate any evolutionary opponent\",\n",
       "  2012),\n",
       " ('extortion and cooperation in the prisoner’s dilemma', 2012),\n",
       " ('adaptive dynamics of extortion and compliance', 2013),\n",
       " (\"heuristics guide the implementation of social preferences in one-shot prisoner's dilemma experiments\",\n",
       "  2014),\n",
       " ('strategies in the stochastic iterated prisoner’s dilemma', 2014),\n",
       " (\"is tit-for-tat the answer? on the conclusions drawn from axelrod's tournaments\",\n",
       "  2015),\n",
       " ('the art of war: beyond memory-one strategies in population games', 2015),\n",
       " ('the importance of mechanisms for the evolution of cooperation', 2015),\n",
       " ('exploiting evolutionary modeling to prevail in iterated prisoner’s dilemma tournaments',\n",
       "  2016)]"
      ]
     },
     "execution_count": 217,
     "metadata": {},
     "output_type": "execute_result"
    }
   ],
   "source": [
    "sorted_by_second = sorted(dates, key=lambda tup: tup[1])\n",
    "sorted_by_second"
   ]
  },
  {
   "cell_type": "code",
   "execution_count": 188,
   "metadata": {
    "collapsed": true
   },
   "outputs": [],
   "source": [
    "def check_if_article_in_axelbib(titles, axelbib_titles):\n",
    "    v = []\n",
    "    for article in titles:\n",
    "        crossover = int(len(article) / 2)\n",
    "        part_one = article[:crossover]\n",
    "        part_two = article[crossover:]\n",
    "\n",
    "        check_part_one = sum([part_one in t for t in axelbib_titles])\n",
    "        check_part_two = sum([part_two in t for t in axelbib_titles])\n",
    "        \n",
    "        v.append(bool(check_part_one + check_part_two))\n",
    "\n",
    "    return v"
   ]
  },
  {
   "cell_type": "code",
   "execution_count": 189,
   "metadata": {
    "collapsed": true
   },
   "outputs": [],
   "source": [
    "titles = []\n",
    "for raw_article in articles:\n",
    "    titles.append(get_title(raw_article=raw_article))"
   ]
  },
  {
   "cell_type": "code",
   "execution_count": 190,
   "metadata": {
    "collapsed": true
   },
   "outputs": [],
   "source": [
    "import pandas as pd"
   ]
  },
  {
   "cell_type": "code",
   "execution_count": 8,
   "metadata": {
    "collapsed": true
   },
   "outputs": [],
   "source": [
    "df = pd.read_json('../data/data_nov_2017.json')"
   ]
  },
  {
   "cell_type": "code",
   "execution_count": 9,
   "metadata": {
    "collapsed": true
   },
   "outputs": [],
   "source": [
    "dt = pd.DataFrame(titles)"
   ]
  },
  {
   "cell_type": "code",
   "execution_count": 10,
   "metadata": {
    "collapsed": true
   },
   "outputs": [],
   "source": [
    "axelbib_titles = df[df['read'] == True]['title'].unique()"
   ]
  },
  {
   "cell_type": "code",
   "execution_count": 11,
   "metadata": {
    "collapsed": true
   },
   "outputs": [],
   "source": [
    "common_articles = check_if_article_in_axelbib(titles=titles, axelbib_titles=axelbib_titles)"
   ]
  },
  {
   "cell_type": "code",
   "execution_count": 12,
   "metadata": {},
   "outputs": [
    {
     "data": {
      "text/html": [
       "<div>\n",
       "<table border=\"1\" class=\"dataframe\">\n",
       "  <thead>\n",
       "    <tr style=\"text-align: right;\">\n",
       "      <th></th>\n",
       "      <th>0</th>\n",
       "    </tr>\n",
       "  </thead>\n",
       "  <tbody>\n",
       "    <tr>\n",
       "      <th>0</th>\n",
       "      <td>Some Experimental Games</td>\n",
       "    </tr>\n",
       "    <tr>\n",
       "      <th>2</th>\n",
       "      <td>The Mathematics of Tucker: A Sampler</td>\n",
       "    </tr>\n",
       "    <tr>\n",
       "      <th>4</th>\n",
       "      <td>Launching “The Evolution of Cooperation”</td>\n",
       "    </tr>\n",
       "    <tr>\n",
       "      <th>5</th>\n",
       "      <td>Effective Choice in the Prisoner's Dilemma</td>\n",
       "    </tr>\n",
       "    <tr>\n",
       "      <th>6</th>\n",
       "      <td>More Effective Choice in the Prisoner's Dilemma</td>\n",
       "    </tr>\n",
       "    <tr>\n",
       "      <th>7</th>\n",
       "      <td>The Further Evolution of Cooperation</td>\n",
       "    </tr>\n",
       "    <tr>\n",
       "      <th>8</th>\n",
       "      <td>The Evolution of Cooperation</td>\n",
       "    </tr>\n",
       "    <tr>\n",
       "      <th>9</th>\n",
       "      <td>The Optimal Level of Generosity in a Selfish, ...</td>\n",
       "    </tr>\n",
       "    <tr>\n",
       "      <th>10</th>\n",
       "      <td>Is Tit-for-Tat the Answer? On the Conclusions ...</td>\n",
       "    </tr>\n",
       "    <tr>\n",
       "      <th>11</th>\n",
       "      <td>When in Doubt... Cooperation in a Noisy Prison...</td>\n",
       "    </tr>\n",
       "    <tr>\n",
       "      <th>16</th>\n",
       "      <td>Payment schedule, sequence of choice, and coop...</td>\n",
       "    </tr>\n",
       "    <tr>\n",
       "      <th>17</th>\n",
       "      <td>Experimenter bias in the prisoner's dilemma game</td>\n",
       "    </tr>\n",
       "    <tr>\n",
       "      <th>18</th>\n",
       "      <td>Sex role, cooperation and competition in a two...</td>\n",
       "    </tr>\n",
       "    <tr>\n",
       "      <th>19</th>\n",
       "      <td>Sex role identification and behavior in a reit...</td>\n",
       "    </tr>\n",
       "    <tr>\n",
       "      <th>21</th>\n",
       "      <td>A strategy of win-stay, lose-shift that outper...</td>\n",
       "    </tr>\n",
       "    <tr>\n",
       "      <th>22</th>\n",
       "      <td>Finite automata play the repeated prisoner's d...</td>\n",
       "    </tr>\n",
       "    <tr>\n",
       "      <th>23</th>\n",
       "      <td>The coevolution of automata in the repeated Pr...</td>\n",
       "    </tr>\n",
       "    <tr>\n",
       "      <th>24</th>\n",
       "      <td>TIT FOR TAT in sticklebacks and the evolution ...</td>\n",
       "    </tr>\n",
       "    <tr>\n",
       "      <th>25</th>\n",
       "      <td>Reciprocal food sharing in the vampire bat</td>\n",
       "    </tr>\n",
       "    <tr>\n",
       "      <th>27</th>\n",
       "      <td>More evolution of cooperation</td>\n",
       "    </tr>\n",
       "    <tr>\n",
       "      <th>31</th>\n",
       "      <td>Toward adaptive cooperative behavior</td>\n",
       "    </tr>\n",
       "    <tr>\n",
       "      <th>32</th>\n",
       "      <td>How to Cope with Noise in the Iterated Prisone...</td>\n",
       "    </tr>\n",
       "    <tr>\n",
       "      <th>33</th>\n",
       "      <td>Our Meeting With Gradual: A Good Strategy For ...</td>\n",
       "    </tr>\n",
       "    <tr>\n",
       "      <th>35</th>\n",
       "      <td>Complexity Cost and Two Types of Noise in the ...</td>\n",
       "    </tr>\n",
       "    <tr>\n",
       "      <th>36</th>\n",
       "      <td>On some winning strategies for the Iterated Pr...</td>\n",
       "    </tr>\n",
       "    <tr>\n",
       "      <th>37</th>\n",
       "      <td>Adaptive Dynamics of Extortion and Compliance</td>\n",
       "    </tr>\n",
       "    <tr>\n",
       "      <th>39</th>\n",
       "      <td>Engineering Design of Strategies for Winning I...</td>\n",
       "    </tr>\n",
       "    <tr>\n",
       "      <th>42</th>\n",
       "      <td>The Evolution of Strategies in the Iterated Pr...</td>\n",
       "    </tr>\n",
       "    <tr>\n",
       "      <th>43</th>\n",
       "      <td>Evolving continuous behaviors in the Iterated ...</td>\n",
       "    </tr>\n",
       "    <tr>\n",
       "      <th>45</th>\n",
       "      <td>The Art of War: Beyond Memory-one Strategies i...</td>\n",
       "    </tr>\n",
       "    <tr>\n",
       "      <th>48</th>\n",
       "      <td>The Iterated Prisoner's Dilemma Game</td>\n",
       "    </tr>\n",
       "    <tr>\n",
       "      <th>49</th>\n",
       "      <td>The Evolution of Trust</td>\n",
       "    </tr>\n",
       "    <tr>\n",
       "      <th>51</th>\n",
       "      <td>Prisoner's dilemma in an RNA virus</td>\n",
       "    </tr>\n",
       "    <tr>\n",
       "      <th>52</th>\n",
       "      <td>'Tit-for-tat' in cell biology</td>\n",
       "    </tr>\n",
       "    <tr>\n",
       "      <th>53</th>\n",
       "      <td>You mob my owl, I’ll mob yours: birds play tit...</td>\n",
       "    </tr>\n",
       "    <tr>\n",
       "      <th>54</th>\n",
       "      <td>Iterated Prisoner's Dilemma contains strategie...</td>\n",
       "    </tr>\n",
       "    <tr>\n",
       "      <th>55</th>\n",
       "      <td>Extortion and cooperation in the Prisoner’s Di...</td>\n",
       "    </tr>\n",
       "    <tr>\n",
       "      <th>57</th>\n",
       "      <td>Particle swarm optimization approaches to coev...</td>\n",
       "    </tr>\n",
       "    <tr>\n",
       "      <th>63</th>\n",
       "      <td>Prisoner's dilemma in an RNA virus</td>\n",
       "    </tr>\n",
       "    <tr>\n",
       "      <th>64</th>\n",
       "      <td>Human behavior in Prisoner's Dilemma experimen...</td>\n",
       "    </tr>\n",
       "  </tbody>\n",
       "</table>\n",
       "</div>"
      ],
      "text/plain": [
       "                                                    0\n",
       "0                             Some Experimental Games\n",
       "2                The Mathematics of Tucker: A Sampler\n",
       "4            Launching “The Evolution of Cooperation”\n",
       "5          Effective Choice in the Prisoner's Dilemma\n",
       "6     More Effective Choice in the Prisoner's Dilemma\n",
       "7                The Further Evolution of Cooperation\n",
       "8                        The Evolution of Cooperation\n",
       "9   The Optimal Level of Generosity in a Selfish, ...\n",
       "10  Is Tit-for-Tat the Answer? On the Conclusions ...\n",
       "11  When in Doubt... Cooperation in a Noisy Prison...\n",
       "16  Payment schedule, sequence of choice, and coop...\n",
       "17   Experimenter bias in the prisoner's dilemma game\n",
       "18  Sex role, cooperation and competition in a two...\n",
       "19  Sex role identification and behavior in a reit...\n",
       "21  A strategy of win-stay, lose-shift that outper...\n",
       "22  Finite automata play the repeated prisoner's d...\n",
       "23  The coevolution of automata in the repeated Pr...\n",
       "24  TIT FOR TAT in sticklebacks and the evolution ...\n",
       "25         Reciprocal food sharing in the vampire bat\n",
       "27                      More evolution of cooperation\n",
       "31               Toward adaptive cooperative behavior\n",
       "32  How to Cope with Noise in the Iterated Prisone...\n",
       "33  Our Meeting With Gradual: A Good Strategy For ...\n",
       "35  Complexity Cost and Two Types of Noise in the ...\n",
       "36  On some winning strategies for the Iterated Pr...\n",
       "37      Adaptive Dynamics of Extortion and Compliance\n",
       "39  Engineering Design of Strategies for Winning I...\n",
       "42  The Evolution of Strategies in the Iterated Pr...\n",
       "43  Evolving continuous behaviors in the Iterated ...\n",
       "45  The Art of War: Beyond Memory-one Strategies i...\n",
       "48               The Iterated Prisoner's Dilemma Game\n",
       "49                             The Evolution of Trust\n",
       "51                 Prisoner's dilemma in an RNA virus\n",
       "52                      'Tit-for-tat' in cell biology\n",
       "53  You mob my owl, I’ll mob yours: birds play tit...\n",
       "54  Iterated Prisoner's Dilemma contains strategie...\n",
       "55  Extortion and cooperation in the Prisoner’s Di...\n",
       "57  Particle swarm optimization approaches to coev...\n",
       "63                 Prisoner's dilemma in an RNA virus\n",
       "64  Human behavior in Prisoner's Dilemma experimen..."
      ]
     },
     "execution_count": 12,
     "metadata": {},
     "output_type": "execute_result"
    }
   ],
   "source": [
    "dt[common_articles]"
   ]
  },
  {
   "cell_type": "code",
   "execution_count": 13,
   "metadata": {
    "collapsed": true
   },
   "outputs": [],
   "source": [
    "not_common = [not a for a in common_articles]"
   ]
  },
  {
   "cell_type": "code",
   "execution_count": 20,
   "metadata": {},
   "outputs": [
    {
     "data": {
      "text/plain": [
       "19"
      ]
     },
     "execution_count": 20,
     "metadata": {},
     "output_type": "execute_result"
    }
   ],
   "source": [
    "len(dt[not_common][10:])"
   ]
  },
  {
   "cell_type": "code",
   "execution_count": null,
   "metadata": {
    "collapsed": true
   },
   "outputs": [],
   "source": []
  }
 ],
 "metadata": {
  "anaconda-cloud": {},
  "kernelspec": {
   "display_name": "Python [conda env:literature]",
   "language": "python",
   "name": "conda-env-literature-py"
  },
  "language_info": {
   "codemirror_mode": {
    "name": "ipython",
    "version": 3
   },
   "file_extension": ".py",
   "mimetype": "text/x-python",
   "name": "python",
   "nbconvert_exporter": "python",
   "pygments_lexer": "ipython3",
   "version": "3.6.0"
  }
 },
 "nbformat": 4,
 "nbformat_minor": 2
}
