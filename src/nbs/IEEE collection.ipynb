{
 "cells": [
  {
   "cell_type": "code",
   "execution_count": 2,
   "metadata": {},
   "outputs": [],
   "source": [
    "import json\n",
    "\n",
    "import pandas as pd\n",
    "from tqdm import tqdm\n",
    "\n",
    "import arcas\n",
    "import requests"
   ]
  },
  {
   "cell_type": "code",
   "execution_count": 3,
   "metadata": {},
   "outputs": [],
   "source": [
    "def get_raw_articles_on_search(api, arguments, start):\n",
    "    parameters = api.parameters_fix(**arguments, start=start)\n",
    "    url = api.create_url_search(parameters)\n",
    "\n",
    "    request = api.make_request(url)\n",
    "    root = api.get_root(request)\n",
    "    raw_articles = api.parse(root)\n",
    "\n",
    "    return raw_articles"
   ]
  },
  {
   "cell_type": "code",
   "execution_count": 3,
   "metadata": {},
   "outputs": [],
   "source": [
    "words = [\n",
    "    \"first price auctions\",\n",
    "    \"second price auctions\"\n",
    "    ]"
   ]
  },
  {
   "cell_type": "code",
   "execution_count": 4,
   "metadata": {},
   "outputs": [],
   "source": [
    "fields = [\"title\",\n",
    "          \"abstract\"]"
   ]
  },
  {
   "cell_type": "markdown",
   "metadata": {},
   "source": [
    "**Check PLOS**"
   ]
  },
  {
   "cell_type": "code",
   "execution_count": 5,
   "metadata": {},
   "outputs": [],
   "source": [
    "api = arcas.Plos()"
   ]
  },
  {
   "cell_type": "code",
   "execution_count": 14,
   "metadata": {},
   "outputs": [],
   "source": [
    "arguments = {'abstract': words[0], \"records\": 300}"
   ]
  },
  {
   "cell_type": "code",
   "execution_count": 19,
   "metadata": {},
   "outputs": [],
   "source": [
    "start = 0\n",
    "for key in words:\n",
    "    for field in fields:\n",
    "        arguments = {field: key, \"records\": 100}\n",
    "        raw_articles = get_raw_articles_on_search(\n",
    "                        api=api, arguments=arguments, start=start\n",
    "                    )\n",
    "        if raw_articles:\n",
    "            articles = []\n",
    "            for art in raw_articles:\n",
    "                articles.append(api.to_dataframe(art))\n",
    "            df = pd.concat(articles, ignore_index=True)\n",
    "            filename = \"../../raw_data/auctions/result_{}_{}_{}_{}.json\".format(\n",
    "                    field, api.__class__.__name__, start, key\n",
    "                )\n",
    "            df.to_json(filename)"
   ]
  },
  {
   "cell_type": "code",
   "execution_count": 15,
   "metadata": {},
   "outputs": [],
   "source": [
    "raw_articles = get_raw_articles_on_search(\n",
    "                api=api, arguments=arguments, start=0\n",
    "            )"
   ]
  },
  {
   "cell_type": "code",
   "execution_count": 16,
   "metadata": {},
   "outputs": [],
   "source": [
    "parameters = api.parameters_fix(**arguments, start=0)\n",
    "url = api.create_url_search(parameters)"
   ]
  },
  {
   "cell_type": "code",
   "execution_count": 17,
   "metadata": {},
   "outputs": [
    {
     "data": {
      "text/plain": [
       "'http://api.plos.org/search?q=abstract:\"first price auctions\"&rows=300&start=0'"
      ]
     },
     "execution_count": 17,
     "metadata": {},
     "output_type": "execute_result"
    }
   ],
   "source": [
    "url"
   ]
  },
  {
   "cell_type": "markdown",
   "metadata": {},
   "source": [
    "**IEEE**"
   ]
  },
  {
   "cell_type": "code",
   "execution_count": 5,
   "metadata": {},
   "outputs": [],
   "source": [
    "words = [\"price of sinking\", \"price of stability\"]\n",
    "fields = [\"title\",\n",
    "          \"abstract\"]"
   ]
  },
  {
   "cell_type": "code",
   "execution_count": 6,
   "metadata": {},
   "outputs": [],
   "source": [
    "api = arcas.Ieee()"
   ]
  },
  {
   "cell_type": "code",
   "execution_count": 7,
   "metadata": {},
   "outputs": [
    {
     "name": "stderr",
     "output_type": "stream",
     "text": [
      "//anaconda3/envs/literature/lib/python3.6/site-packages/urllib3/connectionpool.py:1004: InsecureRequestWarning: Unverified HTTPS request is being made. Adding certificate verification is strongly advised. See: https://urllib3.readthedocs.io/en/latest/advanced-usage.html#ssl-warnings\n",
      "  InsecureRequestWarning,\n",
      "//anaconda3/envs/literature/lib/python3.6/site-packages/urllib3/connectionpool.py:1004: InsecureRequestWarning: Unverified HTTPS request is being made. Adding certificate verification is strongly advised. See: https://urllib3.readthedocs.io/en/latest/advanced-usage.html#ssl-warnings\n",
      "  InsecureRequestWarning,\n",
      "//anaconda3/envs/literature/lib/python3.6/site-packages/urllib3/connectionpool.py:1004: InsecureRequestWarning: Unverified HTTPS request is being made. Adding certificate verification is strongly advised. See: https://urllib3.readthedocs.io/en/latest/advanced-usage.html#ssl-warnings\n",
      "  InsecureRequestWarning,\n",
      "//anaconda3/envs/literature/lib/python3.6/site-packages/urllib3/connectionpool.py:1004: InsecureRequestWarning: Unverified HTTPS request is being made. Adding certificate verification is strongly advised. See: https://urllib3.readthedocs.io/en/latest/advanced-usage.html#ssl-warnings\n",
      "  InsecureRequestWarning,\n"
     ]
    }
   ],
   "source": [
    "start = 0\n",
    "for key in words:\n",
    "    for field in fields:\n",
    "        arguments = {field: key, \"records\": 300}\n",
    "        raw_articles = get_raw_articles_on_search(\n",
    "                        api=api, arguments=arguments, start=start\n",
    "                    )\n",
    "        articles = []\n",
    "        for art in raw_articles:\n",
    "            articles.append(api.to_dataframe(art))\n",
    "        df = pd.concat(articles, ignore_index=True)\n",
    "        filename = \"../../raw_data/price/result_{}_{}_{}_{}.json\".format(\n",
    "                field, api.__class__.__name__, start, key\n",
    "            )\n",
    "        df.to_json(filename)"
   ]
  },
  {
   "cell_type": "code",
   "execution_count": null,
   "metadata": {},
   "outputs": [],
   "source": []
  }
 ],
 "metadata": {
  "kernelspec": {
   "display_name": "literature",
   "language": "python",
   "name": "literature"
  },
  "language_info": {
   "codemirror_mode": {
    "name": "ipython",
    "version": 3
   },
   "file_extension": ".py",
   "mimetype": "text/x-python",
   "name": "python",
   "nbconvert_exporter": "python",
   "pygments_lexer": "ipython3",
   "version": "3.6.7"
  }
 },
 "nbformat": 4,
 "nbformat_minor": 2
}
