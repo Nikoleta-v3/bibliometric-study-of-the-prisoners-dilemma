{
 "cells": [
  {
   "cell_type": "markdown",
   "metadata": {},
   "source": [
    "# Comparing Distributions"
   ]
  },
  {
   "cell_type": "code",
   "execution_count": 1,
   "metadata": {},
   "outputs": [],
   "source": [
    "import collections\n",
    "import pandas as pd\n",
    "import networkx as nx\n",
    "import itertools\n",
    "import numpy as np"
   ]
  },
  {
   "cell_type": "code",
   "execution_count": 2,
   "metadata": {},
   "outputs": [],
   "source": [
    "assert nx.__version__, '2.0'"
   ]
  },
  {
   "cell_type": "code",
   "execution_count": 3,
   "metadata": {},
   "outputs": [],
   "source": [
    "from scipy import stats"
   ]
  },
  {
   "cell_type": "code",
   "execution_count": 4,
   "metadata": {},
   "outputs": [],
   "source": [
    "import matplotlib\n",
    "import matplotlib.pyplot as plt\n",
    "import matplotlib.patches as mpatches\n",
    "import matplotlib.lines as lines\n",
    "\n",
    "%matplotlib inline"
   ]
  },
  {
   "cell_type": "code",
   "execution_count": 5,
   "metadata": {},
   "outputs": [],
   "source": [
    "font = {'weight': 'bold',\n",
    "        'size'   : 10}\n",
    "matplotlib.rc('font', **font)"
   ]
  },
  {
   "cell_type": "code",
   "execution_count": 8,
   "metadata": {},
   "outputs": [],
   "source": [
    "G = nx.read_gml('../data/pd_graph.gml')\n",
    "Z = nx.read_gml('../data/anarchy_graph.gml')\n",
    "H = nx.read_gml('../data/auction_graph.gml')"
   ]
  },
  {
   "cell_type": "code",
   "execution_count": 9,
   "metadata": {},
   "outputs": [],
   "source": [
    "def test_normality(distribution):\n",
    "    alpha = 0.05\n",
    "    z, p = stats.mstats.normaltest(distribution)\n",
    "\n",
    "    if p < alpha:  # null hypothesis: x comes from a normal distribution\n",
    "        print(\"The null hypothesis can be rejected. It is not normally distributed.\")\n",
    "    else:\n",
    "        print(\"The null hypothesis cannot be rejected. It is normally distributed.\")"
   ]
  },
  {
   "cell_type": "code",
   "execution_count": 10,
   "metadata": {},
   "outputs": [],
   "source": [
    "def test_kruskal(distributions):\n",
    "    alpha = 0.05\n",
    "    _, p = stats.kruskal(distributions[0],distributions[1], distributions[2])\n",
    "    \n",
    "    if p < alpha:  # null hypothesis: x comes from a normal distribution\n",
    "        print(p, \"The null hypothesis can be rejected.\")\n",
    "    else:\n",
    "        print(p, \"The null hypothesis cannot be rejected.\")"
   ]
  },
  {
   "cell_type": "code",
   "execution_count": 11,
   "metadata": {},
   "outputs": [],
   "source": [
    "def test_mannwhitneyu(distributions, alternative):\n",
    "    alpha = 0.05\n",
    "    _, p = stats.mannwhitneyu(distributions[0],distributions[1], alternative=alternative)\n",
    "    \n",
    "    if p < alpha:  # null hypothesis: x comes from a normal distribution\n",
    "        print(p, \"The null hypothesis can be rejected.\")\n",
    "    else:\n",
    "        print(p, \"The null hypothesis cannot be rejected.\")"
   ]
  },
  {
   "cell_type": "markdown",
   "metadata": {},
   "source": [
    "Degree distributions\n",
    "---------------------"
   ]
  },
  {
   "cell_type": "code",
   "execution_count": 12,
   "metadata": {},
   "outputs": [],
   "source": [
    "pd_distribution = sorted([d for n, d in G.degree()], reverse=True)\n",
    "anarchy_distribution = sorted([d for n, d in Z.degree()], reverse=True)\n",
    "auction_distribution = sorted([d for n, d in H.degree()], reverse=True)"
   ]
  },
  {
   "cell_type": "code",
   "execution_count": 13,
   "metadata": {},
   "outputs": [
    {
     "name": "stderr",
     "output_type": "stream",
     "text": [
      "/home/nightwing/anaconda3/envs/literature/lib/python3.5/site-packages/matplotlib/axes/_axes.py:6462: UserWarning: The 'normed' kwarg is deprecated, and has been replaced by the 'density' kwarg.\n",
      "  warnings.warn(\"The 'normed' kwarg is deprecated, and has been \"\n"
     ]
    },
    {
     "data": {
      "image/png": "[encoded data removed]",
      "text/plain": [
       "<Figure size 1080x288 with 3 Axes>"
      ]
     },
     "metadata": {},
     "output_type": "display_data"
    }
   ],
   "source": [
    "fig, axes = plt.subplots(nrows=1, ncols=3, figsize=(15, 4))\n",
    "axes[0].hist(pd_distribution,  color='darkorange', normed=True);\n",
    "axes[0].set_title(\"Prisoner's dilemma network\", fontweight='bold')\n",
    "\n",
    "axes[1].hist(anarchy_distribution,  color='darkred', normed=True);\n",
    "axes[1].set_title(\"Price of anarchy network\", fontweight='bold')\n",
    "\n",
    "axes[2].hist(auction_distribution, color='darkgreen', normed=True);\n",
    "axes[2].set_title(\"Auction games network\", fontweight='bold')\n",
    "\n",
    "fig.text(0.5, 0.04, 'Degrees', ha='center')\n",
    "fig.text(0.08, 0.5, 'Normalised Frequency', va='center', rotation='vertical');\n",
    "\n",
    "#plt.savefig('/home/nightwing/rsc/Literature-Article/assets/images/degrees_histrograms.pdf', format='pdf', bbox_inches='tight')"
   ]
  },
  {
   "cell_type": "code",
   "execution_count": 18,
   "metadata": {},
   "outputs": [
    {
     "name": "stdout",
     "output_type": "stream",
     "text": [
      "The null hypothesis can be rejected. It is not normally distributed.\n"
     ]
    }
   ],
   "source": [
    "test_normality(pd_distribution)"
   ]
  },
  {
   "cell_type": "code",
   "execution_count": 19,
   "metadata": {},
   "outputs": [
    {
     "name": "stdout",
     "output_type": "stream",
     "text": [
      "The null hypothesis can be rejected. It is not normally distributed.\n"
     ]
    }
   ],
   "source": [
    "test_normality(auction_distribution)"
   ]
  },
  {
   "cell_type": "code",
   "execution_count": 20,
   "metadata": {},
   "outputs": [
    {
     "name": "stdout",
     "output_type": "stream",
     "text": [
      "The null hypothesis can be rejected. It is not normally distributed.\n"
     ]
    }
   ],
   "source": [
    "test_normality(anarchy_distribution)"
   ]
  },
  {
   "cell_type": "code",
   "execution_count": 21,
   "metadata": {},
   "outputs": [
    {
     "name": "stdout",
     "output_type": "stream",
     "text": [
      "2.9989635626923616e-25 The null hypothesis can be rejected.\n"
     ]
    }
   ],
   "source": [
    "test_kruskal([pd_distribution, anarchy_distribution, auction_distribution])"
   ]
  },
  {
   "cell_type": "markdown",
   "metadata": {},
   "source": [
    "Betweenness centrality comparison\n",
    "---------------------------------"
   ]
  },
  {
   "cell_type": "code",
   "execution_count": 7,
   "metadata": {},
   "outputs": [],
   "source": [
    "import seaborn as sns"
   ]
  },
  {
   "cell_type": "code",
   "execution_count": 8,
   "metadata": {
    "collapsed": true
   },
   "outputs": [],
   "source": [
    "with open('pd_bc_dist.tex', 'r') as textfile:\n",
    "    pd_bc = textfile.read()"
   ]
  },
  {
   "cell_type": "code",
   "execution_count": 9,
   "metadata": {
    "collapsed": true
   },
   "outputs": [],
   "source": [
    "with open('pa_bc_dist.tex', 'r') as textfile:\n",
    "    pa_bc = textfile.read()"
   ]
  },
  {
   "cell_type": "code",
   "execution_count": 10,
   "metadata": {
    "collapsed": true
   },
   "outputs": [],
   "source": [
    "with open('ag_bc_dist.tex', 'r') as textfile:\n",
    "    ag_bc = textfile.read()"
   ]
  },
  {
   "cell_type": "code",
   "execution_count": 11,
   "metadata": {
    "collapsed": true
   },
   "outputs": [],
   "source": [
    "pd_bc = [float(i) for i in pd_bc.replace('[', '').replace(']', '').split(',')]\n",
    "pa_bc = [float(i) for i in pa_bc.replace('[', '').replace(']', '').split(',')]\n",
    "ag_bc = [float(i) for i in ag_bc.replace('[', '').replace(']', '').split(',')]"
   ]
  },
  {
   "cell_type": "code",
   "execution_count": 12,
   "metadata": {},
   "outputs": [
    {
     "data": {
      "text/plain": [
       "0.0"
      ]
     },
     "execution_count": 12,
     "metadata": {},
     "output_type": "execute_result"
    }
   ],
   "source": [
    "np.median(ag_bc)"
   ]
  },
  {
   "cell_type": "code",
   "execution_count": 115,
   "metadata": {
    "collapsed": true
   },
   "outputs": [],
   "source": [
    "pal = ['darkorange', 'darked', 'darkgreen']"
   ]
  },
  {
   "cell_type": "code",
   "execution_count": 51,
   "metadata": {
    "collapsed": true
   },
   "outputs": [],
   "source": [
    "def set_axis_style(ax, labels):\n",
    "    ax.xaxis.set_ticks_position('bottom')\n",
    "    ax.set_xticks(np.arange(1, len(labels) + 1))\n",
    "    ax.set_xticklabels(labels)\n",
    "    ax.set_xlim(0.25, len(labels) + 0.75)"
   ]
  },
  {
   "cell_type": "code",
   "execution_count": 56,
   "metadata": {},
   "outputs": [
    {
     "data": {
      "image/png": "[encoded data removed]",
      "text/plain": [
       "<matplotlib.figure.Figure at 0x7f1bb6900278>"
      ]
     },
     "metadata": {},
     "output_type": "display_data"
    }
   ],
   "source": [
    "fig, axes = plt.subplots(figsize=(10, 5))\n",
    "parts = plt.violinplot([pd_bc, ag_bc, pa_bc], widths=0.5, showmedians=False, showextrema=False);\n",
    "\n",
    "fig.text(0.5, 0, 'Betweenness', ha='center')\n",
    "fig.text(0.03, 0.5, 'Frequency', va='center', rotation='vertical');\n",
    "\n",
    "for pc in parts['bodies']:\n",
    "    pc.set_facecolor('#D43F3A')\n",
    "    pc.set_edgecolor('black')\n",
    "    pc.set_alpha(1)\n",
    "    \n",
    "labels = ['$G_1$', '$G_2$', '$G_3$']\n",
    "#for ax in axes:\n",
    "set_axis_style(axes, labels)\n",
    "\n",
    "plt.savefig('/home/nightwing/rsc/Literature-Article/assets/images/Betweenness_histrograms.pdf', format='pdf', bbox_inches='tight')"
   ]
  },
  {
   "cell_type": "code",
   "execution_count": 57,
   "metadata": {},
   "outputs": [
    {
     "data": {
      "image/png": "[encoded data removed]",
      "text/plain": [
       "<matplotlib.figure.Figure at 0x7f1bb9cc32b0>"
      ]
     },
     "metadata": {},
     "output_type": "display_data"
    }
   ],
   "source": [
    "fig, axes = plt.subplots(figsize=(10, 5))\n",
    "parts = plt.violinplot([pd_cc, ag_cc, pa_cc], widths=0.5, showmedians=True, showextrema=False);\n",
    "\n",
    "fig.text(0.5, 0, 'Closeness', ha='center')\n",
    "fig.text(0.03, 0.5, 'Frequency', va='center', rotation='vertical');\n",
    "\n",
    "# for pc in parts['bodies']:\n",
    "#     pc.set_facecolor('#D43F3A')\n",
    "#     pc.set_edgecolor('black')\n",
    "#     pc.set_alpha(1)\n",
    "labels = ['$G_1$', '$G_2$', '$G_3$']\n",
    "#for ax in axes:\n",
    "set_axis_style(axes, labels)\n",
    "\n",
    "plt.savefig('/home/nightwing/rsc/Literature-Article/assets/images/Closeness_histrograms.pdf', format='pdf', bbox_inches='tight')"
   ]
  },
  {
   "cell_type": "code",
   "execution_count": 68,
   "metadata": {},
   "outputs": [
    {
     "data": {
      "image/png": "[encoded data removed]",
      "text/plain": [
       "<matplotlib.figure.Figure at 0x7fb83921bcf8>"
      ]
     },
     "metadata": {},
     "output_type": "display_data"
    }
   ],
   "source": [
    "fig, axes = plt.subplots(nrows=1, ncols=3, figsize=(15, 4))\n",
    "\n",
    "axes[0].hist(pd_bc,  color='darkorange'); \n",
    "axes[0].set_title(\"Prisoner's dilemma network\", fontweight='bold')\n",
    "\n",
    "axes[1].hist(pa_bc,  color='darkred');\n",
    "axes[1].set_title(\"Price of anarchy network\", fontweight='bold')\n",
    "\n",
    "axes[2].hist(ag_bc, color='darkgreen');\n",
    "axes[2].set_title(\"Auction games network\", fontweight='bold')\n",
    "\n",
    "fig.text(0.5, -0.1, 'Betweenness', ha='center')\n",
    "fig.text(0.08, 0.5, 'Frequency', va='center', rotation='vertical');\n",
    "\n",
    "axes[0].axvline(np.median(pd_bc), color='sienna', linestyle=':', linewidth=3, label='median')\n",
    "axes[1].axvline(np.median(pa_bc), color='sienna', linestyle=':', linewidth=3, label='median')\n",
    "axes[2].axvline(np.median(ag_bc), color='sienna', linestyle=':', linewidth=3, label='median')\n",
    "\n",
    "for i in range(3):\n",
    "    plt.setp(axes[i].xaxis.get_majorticklabels(), rotation=90)\n",
    "    axes[i].legend()\n",
    "    \n",
    "plt.savefig('/home/nightwing/rsc/Literature-Article/assets/images/Betweenness_histrograms.pdf', format='pdf', bbox_inches='tight')"
   ]
  },
  {
   "cell_type": "code",
   "execution_count": 69,
   "metadata": {},
   "outputs": [
    {
     "name": "stdout",
     "output_type": "stream",
     "text": [
      "1.2759882833e-07 The null hypothesis can be rejected.\n"
     ]
    }
   ],
   "source": [
    "test_kruskal([pd_bc, pa_bc, ag_bc])"
   ]
  },
  {
   "cell_type": "code",
   "execution_count": 22,
   "metadata": {},
   "outputs": [
    {
     "name": "stdout",
     "output_type": "stream",
     "text": [
      "0.0439269349349 The null hypothesis can be rejected.\n"
     ]
    }
   ],
   "source": [
    "test_mannwhitneyu([pd_bc, pa_bc], 'less')"
   ]
  },
  {
   "cell_type": "code",
   "execution_count": 23,
   "metadata": {},
   "outputs": [
    {
     "name": "stdout",
     "output_type": "stream",
     "text": [
      "1.3701599679e-08 The null hypothesis can be rejected.\n"
     ]
    }
   ],
   "source": [
    "test_mannwhitneyu([pd_bc, ag_bc], 'less')"
   ]
  },
  {
   "cell_type": "markdown",
   "metadata": {},
   "source": [
    "Closeness centrality comparison\n",
    "---------------------------------"
   ]
  },
  {
   "cell_type": "code",
   "execution_count": 22,
   "metadata": {
    "collapsed": true
   },
   "outputs": [],
   "source": [
    "with open('pd_cc_dist.tex', 'r') as textfile:\n",
    "    pd_cc = textfile.read()"
   ]
  },
  {
   "cell_type": "code",
   "execution_count": 23,
   "metadata": {
    "collapsed": true
   },
   "outputs": [],
   "source": [
    "with open('pa_cc_dist.tex', 'r') as textfile:\n",
    "    pa_cc = textfile.read()"
   ]
  },
  {
   "cell_type": "code",
   "execution_count": 24,
   "metadata": {
    "collapsed": true
   },
   "outputs": [],
   "source": [
    "with open('ag_cc_dist.tex', 'r') as textfile:\n",
    "    ag_cc = textfile.read()"
   ]
  },
  {
   "cell_type": "code",
   "execution_count": 25,
   "metadata": {
    "collapsed": true
   },
   "outputs": [],
   "source": [
    "pd_cc = [float(i) for i in pd_cc.replace('[', '').replace(']', '').split(',')]\n",
    "pa_cc = [float(i) for i in pa_cc.replace('[', '').replace(']', '').split(',')]\n",
    "ag_cc = [float(i) for i in ag_cc.replace('[', '').replace(']', '').split(',')]"
   ]
  },
  {
   "cell_type": "code",
   "execution_count": 47,
   "metadata": {},
   "outputs": [
    {
     "data": {
      "image/png": "[encoded data removed]",
      "text/plain": [
       "<matplotlib.figure.Figure at 0x7fb83c53fc50>"
      ]
     },
     "metadata": {},
     "output_type": "display_data"
    }
   ],
   "source": [
    "fig, axes = plt.subplots(nrows=1, ncols=3, figsize=(15, 4))\n",
    "\n",
    "axes[0].hist(pd_cc,  color='darkorange');\n",
    "axes[0].axvline(np.median(pd_cc), color='sienna', linestyle=':', linewidth=3, label='median')\n",
    "axes[0].set_title(\"Prisoner's dilemma network\", fontweight='bold')\n",
    "\n",
    "axes[1].hist(pa_cc,  color='darkred');\n",
    "axes[1].axvline(np.median(pa_cc), color='sienna', linestyle=':', linewidth=3, label='median')\n",
    "axes[1].set_title(\"Price of anarchy network\", fontweight='bold')\n",
    "\n",
    "axes[2].hist(ag_cc, color='darkgreen');\n",
    "axes[2].axvline(np.median(ag_cc), color='sienna', linestyle=':', linewidth=3, label='median')\n",
    "axes[2].set_title(\"Auction games network\", fontweight='bold')\n",
    "\n",
    "fig.text(0.5, -0.1, 'Closeness', ha='center')\n",
    "fig.text(0.08, 0.5, 'Frequency', va='center', rotation='vertical');\n",
    "\n",
    "for i in range(3):\n",
    "    plt.setp(axes[i].xaxis.get_majorticklabels(), rotation=90)\n",
    "    axes[i].legend()\n",
    "\n",
    "\n",
    "plt.savefig('/home/nightwing/rsc/Literature-Article/assets/images/Closeness_histrograms.pdf', format='pdf', bbox_inches='tight')"
   ]
  },
  {
   "cell_type": "code",
   "execution_count": 31,
   "metadata": {},
   "outputs": [
    {
     "name": "stdout",
     "output_type": "stream",
     "text": [
      "7.30418703556e-87 The null hypothesis can be rejected.\n"
     ]
    }
   ],
   "source": [
    "test_kruskal([pd_cc, pa_cc, ag_cc])"
   ]
  },
  {
   "cell_type": "code",
   "execution_count": 45,
   "metadata": {},
   "outputs": [
    {
     "data": {
      "text/plain": [
       "0.0"
      ]
     },
     "execution_count": 45,
     "metadata": {},
     "output_type": "execute_result"
    }
   ],
   "source": [
    "round(7.30418703556e-87, 10)"
   ]
  },
  {
   "cell_type": "code",
   "execution_count": 29,
   "metadata": {},
   "outputs": [
    {
     "name": "stdout",
     "output_type": "stream",
     "text": [
      "0.0 The null hypothesis can be rejected.\n"
     ]
    }
   ],
   "source": [
    "test_mannwhitneyu([pd_bc, pa_cc], 'less')"
   ]
  },
  {
   "cell_type": "code",
   "execution_count": 30,
   "metadata": {},
   "outputs": [
    {
     "name": "stdout",
     "output_type": "stream",
     "text": [
      "4.10048718811e-08 The null hypothesis can be rejected.\n"
     ]
    }
   ],
   "source": [
    "test_mannwhitneyu([pd_cc, ag_cc], 'greater')"
   ]
  }
 ],
 "metadata": {
  "anaconda-cloud": {},
  "kernelspec": {
   "display_name": "literature",
   "language": "python",
   "name": "literature"
  },
  "language_info": {
   "codemirror_mode": {
    "name": "ipython",
    "version": 3
   },
   "file_extension": ".py",
   "mimetype": "text/x-python",
   "name": "python",
   "nbconvert_exporter": "python",
   "pygments_lexer": "ipython3",
   "version": "3.5.5"
  }
 },
 "nbformat": 4,
 "nbformat_minor": 2
}
