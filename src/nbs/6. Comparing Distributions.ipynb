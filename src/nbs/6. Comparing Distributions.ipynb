{
 "cells": [
  {
   "cell_type": "markdown",
   "metadata": {},
   "source": [
    "# Comparing Distributions"
   ]
  },
  {
   "cell_type": "code",
   "execution_count": 1,
   "metadata": {
    "collapsed": true
   },
   "outputs": [],
   "source": [
    "import collections\n",
    "import pandas as pd\n",
    "import networkx as nx\n",
    "import itertools\n",
    "import numpy as np"
   ]
  },
  {
   "cell_type": "code",
   "execution_count": 2,
   "metadata": {},
   "outputs": [],
   "source": [
    "assert nx.__version__, '2.0'"
   ]
  },
  {
   "cell_type": "code",
   "execution_count": 3,
   "metadata": {
    "collapsed": true
   },
   "outputs": [],
   "source": [
    "from scipy import stats"
   ]
  },
  {
   "cell_type": "code",
   "execution_count": 4,
   "metadata": {
    "collapsed": true
   },
   "outputs": [],
   "source": [
    "import matplotlib\n",
    "import matplotlib.pyplot as plt\n",
    "import matplotlib.patches as mpatches\n",
    "import matplotlib.lines as lines\n",
    "\n",
    "%matplotlib inline"
   ]
  },
  {
   "cell_type": "code",
   "execution_count": 5,
   "metadata": {
    "collapsed": true
   },
   "outputs": [],
   "source": [
    "font = {'weight': 'bold',\n",
    "        'size'   : 10}\n",
    "matplotlib.rc('font', **font)"
   ]
  },
  {
   "cell_type": "code",
   "execution_count": 6,
   "metadata": {
    "collapsed": true
   },
   "outputs": [],
   "source": [
    "G = nx.read_gml('../data/prisoners_network.gml')\n",
    "Z = nx.read_gml('../data/price_of_anarchy_network.gml')\n",
    "H = nx.read_gml('../data/auction_network.gml')"
   ]
  },
  {
   "cell_type": "code",
   "execution_count": 7,
   "metadata": {
    "collapsed": true
   },
   "outputs": [],
   "source": [
    "def test_normality(distribution):\n",
    "    alpha = 0.05\n",
    "    z, p = stats.mstats.normaltest(distribution)\n",
    "\n",
    "    if p < alpha:  # null hypothesis: x comes from a normal distribution\n",
    "        print(\"The null hypothesis can be rejected. It is not normally distributed.\")\n",
    "    else:\n",
    "        print(\"The null hypothesis cannot be rejected. It is normally distributed.\")"
   ]
  },
  {
   "cell_type": "code",
   "execution_count": 8,
   "metadata": {
    "collapsed": true
   },
   "outputs": [],
   "source": [
    "def test_kruskal(distributions):\n",
    "    alpha = 0.05\n",
    "    _, p = stats.kruskal(distributions[0],distributions[1], distributions[2])\n",
    "    \n",
    "    if p < alpha:  # null hypothesis: x comes from a normal distribution\n",
    "        print(p, \"The null hypothesis can be rejected.\")\n",
    "    else:\n",
    "        print(p, \"The null hypothesis cannot be rejected.\")"
   ]
  },
  {
   "cell_type": "code",
   "execution_count": 9,
   "metadata": {
    "collapsed": true
   },
   "outputs": [],
   "source": [
    "def test_mannwhitneyu(distributions, alternative):\n",
    "    alpha = 0.05\n",
    "    _, p = stats.mannwhitneyu(distributions[0],distributions[1], alternative=alternative)\n",
    "    \n",
    "    if p < alpha:  # null hypothesis: x comes from a normal distribution\n",
    "        print(p, \"The null hypothesis can be rejected.\")\n",
    "    else:\n",
    "        print(p, \"The null hypothesis cannot be rejected.\")"
   ]
  },
  {
   "cell_type": "markdown",
   "metadata": {},
   "source": [
    "Degree distributions\n",
    "---------------------"
   ]
  },
  {
   "cell_type": "code",
   "execution_count": 10,
   "metadata": {
    "collapsed": true
   },
   "outputs": [],
   "source": [
    "pd_distribution = sorted([d for n, d in G.degree()], reverse=True)\n",
    "anarchy_distribution = sorted([d for n, d in Z.degree()], reverse=True)\n",
    "auction_distribution = sorted([d for n, d in H.degree()], reverse=True)"
   ]
  },
  {
   "cell_type": "code",
   "execution_count": 11,
   "metadata": {},
   "outputs": [
    {
     "data": {
      "image/png": "[encoded data removed]",
      "text/plain": [
       "<matplotlib.figure.Figure at 0x7f6700196b38>"
      ]
     },
     "metadata": {},
     "output_type": "display_data"
    }
   ],
   "source": [
    "fig, axes = plt.subplots(nrows=1, ncols=3, figsize=(15, 4))\n",
    "axes[0].hist(pd_distribution,  color='darkorange', normed=True);\n",
    "axes[0].set_title(\"Prisoner's dilemma network\", fontweight='bold')\n",
    "\n",
    "axes[1].hist(anarchy_distribution,  color='darkred', normed=True);\n",
    "axes[1].set_title(\"Price of anarchy network\", fontweight='bold')\n",
    "\n",
    "axes[2].hist(auction_distribution, color='darkgreen', normed=True);\n",
    "axes[2].set_title(\"Auction games network\", fontweight='bold')\n",
    "\n",
    "fig.text(0.5, 0.04, 'Degrees', ha='center')\n",
    "fig.text(0.08, 0.5, 'Normalised Frequency', va='center', rotation='vertical');\n",
    "\n",
    "plt.savefig('/home/nightwing/rsc/Literature-Article/assets/images/degrees_histrograms.pdf', format='pdf', bbox_inches='tight')"
   ]
  },
  {
   "cell_type": "code",
   "execution_count": 12,
   "metadata": {},
   "outputs": [
    {
     "name": "stdout",
     "output_type": "stream",
     "text": [
      "The null hypothesis can be rejected. It is not normally distributed.\n"
     ]
    }
   ],
   "source": [
    "test_normality(pd_distribution)"
   ]
  },
  {
   "cell_type": "code",
   "execution_count": 13,
   "metadata": {},
   "outputs": [
    {
     "name": "stdout",
     "output_type": "stream",
     "text": [
      "The null hypothesis can be rejected. It is not normally distributed.\n"
     ]
    }
   ],
   "source": [
    "test_normality(auction_distribution)"
   ]
  },
  {
   "cell_type": "code",
   "execution_count": 14,
   "metadata": {},
   "outputs": [
    {
     "name": "stdout",
     "output_type": "stream",
     "text": [
      "The null hypothesis can be rejected. It is not normally distributed.\n"
     ]
    }
   ],
   "source": [
    "test_normality(anarchy_distribution)"
   ]
  },
  {
   "cell_type": "code",
   "execution_count": 15,
   "metadata": {},
   "outputs": [
    {
     "name": "stdout",
     "output_type": "stream",
     "text": [
      "0.456147643725 The null hypothesis cannot be rejected.\n"
     ]
    }
   ],
   "source": [
    "test_kruskal([pd_distribution, anarchy_distribution, auction_distribution])"
   ]
  },
  {
   "cell_type": "markdown",
   "metadata": {},
   "source": [
    "Betweenness centrality comparison\n",
    "---------------------------------"
   ]
  },
  {
   "cell_type": "code",
   "execution_count": 16,
   "metadata": {},
   "outputs": [],
   "source": [
    "with open('pd_bc_dist.tex', 'r') as textfile:\n",
    "    pd_bc = textfile.read()"
   ]
  },
  {
   "cell_type": "code",
   "execution_count": 17,
   "metadata": {
    "collapsed": true
   },
   "outputs": [],
   "source": [
    "with open('pa_bc_dist.tex', 'r') as textfile:\n",
    "    pa_bc = textfile.read()"
   ]
  },
  {
   "cell_type": "code",
   "execution_count": 18,
   "metadata": {
    "collapsed": true
   },
   "outputs": [],
   "source": [
    "with open('ag_bc_dist.tex', 'r') as textfile:\n",
    "    ag_bc = textfile.read()"
   ]
  },
  {
   "cell_type": "code",
   "execution_count": 19,
   "metadata": {
    "collapsed": true
   },
   "outputs": [],
   "source": [
    "pd_bc = [float(i) for i in pd_bc.replace('[', '').replace(']', '').split(',')]\n",
    "pa_bc = [float(i) for i in pa_bc.replace('[', '').replace(']', '').split(',')]\n",
    "ag_bc = [float(i) for i in ag_bc.replace('[', '').replace(']', '').split(',')]"
   ]
  },
  {
   "cell_type": "code",
   "execution_count": 20,
   "metadata": {},
   "outputs": [
    {
     "data": {
      "image/png": "[encoded data removed]",
      "text/plain": [
       "<matplotlib.figure.Figure at 0x7f66c9f37f60>"
      ]
     },
     "metadata": {},
     "output_type": "display_data"
    }
   ],
   "source": [
    "fig, axes = plt.subplots(nrows=1, ncols=3, figsize=(15, 4))\n",
    "\n",
    "axes[0].hist(pd_bc,  color='darkorange', normed=True);\n",
    "axes[0].set_title(\"Prisoner's dilemma network\", fontweight='bold')\n",
    "\n",
    "axes[1].hist(pa_bc,  color='darkred', normed=True);\n",
    "axes[1].set_title(\"Price of anarchy network\", fontweight='bold')\n",
    "\n",
    "axes[2].hist(ag_bc, color='darkgreen', normed=True);\n",
    "axes[2].set_title(\"Auction games network\", fontweight='bold')\n",
    "\n",
    "fig.text(0.5, 0, 'Betweenness', ha='center')\n",
    "fig.text(0.08, 0.5, 'Frequency', va='center', rotation='vertical');"
   ]
  },
  {
   "cell_type": "code",
   "execution_count": 21,
   "metadata": {},
   "outputs": [
    {
     "name": "stdout",
     "output_type": "stream",
     "text": [
      "1.2759882833e-07 The null hypothesis can be rejected.\n"
     ]
    }
   ],
   "source": [
    "test_kruskal([pd_bc, pa_bc, ag_bc])"
   ]
  },
  {
   "cell_type": "code",
   "execution_count": 22,
   "metadata": {},
   "outputs": [
    {
     "name": "stdout",
     "output_type": "stream",
     "text": [
      "0.0439269349349 The null hypothesis can be rejected.\n"
     ]
    }
   ],
   "source": [
    "test_mannwhitneyu([pd_bc, pa_bc], 'less')"
   ]
  },
  {
   "cell_type": "code",
   "execution_count": 23,
   "metadata": {},
   "outputs": [
    {
     "name": "stdout",
     "output_type": "stream",
     "text": [
      "1.3701599679e-08 The null hypothesis can be rejected.\n"
     ]
    }
   ],
   "source": [
    "test_mannwhitneyu([pd_bc, ag_bc], 'less')"
   ]
  },
  {
   "cell_type": "markdown",
   "metadata": {},
   "source": [
    "Closeness centrality comparison\n",
    "---------------------------------"
   ]
  },
  {
   "cell_type": "code",
   "execution_count": 24,
   "metadata": {
    "collapsed": true
   },
   "outputs": [],
   "source": [
    "with open('pd_cc_dist.tex', 'r') as textfile:\n",
    "    pd_cc = textfile.read()"
   ]
  },
  {
   "cell_type": "code",
   "execution_count": 25,
   "metadata": {
    "collapsed": true
   },
   "outputs": [],
   "source": [
    "with open('pa_cc_dist.tex', 'r') as textfile:\n",
    "    pa_cc = textfile.read()"
   ]
  },
  {
   "cell_type": "code",
   "execution_count": 26,
   "metadata": {
    "collapsed": true
   },
   "outputs": [],
   "source": [
    "with open('ag_cc_dist.tex', 'r') as textfile:\n",
    "    ag_cc = textfile.read()"
   ]
  },
  {
   "cell_type": "code",
   "execution_count": 27,
   "metadata": {
    "collapsed": true
   },
   "outputs": [],
   "source": [
    "pd_cc = [float(i) for i in pd_cc.replace('[', '').replace(']', '').split(',')]\n",
    "pa_cc = [float(i) for i in pa_cc.replace('[', '').replace(']', '').split(',')]\n",
    "ag_cc = [float(i) for i in ag_cc.replace('[', '').replace(']', '').split(',')]"
   ]
  },
  {
   "cell_type": "code",
   "execution_count": 28,
   "metadata": {},
   "outputs": [
    {
     "data": {
      "image/png": "[encoded data removed]",
      "text/plain": [
       "<matplotlib.figure.Figure at 0x7f66ca015550>"
      ]
     },
     "metadata": {},
     "output_type": "display_data"
    }
   ],
   "source": [
    "fig, axes = plt.subplots(nrows=1, ncols=3, figsize=(15, 4))\n",
    "\n",
    "axes[0].hist(pd_cc,  color='darkorange', normed=True);\n",
    "axes[0].set_title(\"Prisoner's dilemma network\", fontweight='bold')\n",
    "\n",
    "axes[1].hist(pa_cc,  color='darkred', normed=True);\n",
    "axes[1].set_title(\"Price of anarchy network\", fontweight='bold')\n",
    "\n",
    "axes[2].hist(ag_cc, color='darkgreen', normed=True);\n",
    "axes[2].set_title(\"Auction games network\", fontweight='bold')\n",
    "\n",
    "fig.text(0.5, 0, 'Closeness', ha='center')\n",
    "fig.text(0.08, 0.5, 'Frequency', va='center', rotation='vertical');"
   ]
  },
  {
   "cell_type": "code",
   "execution_count": 31,
   "metadata": {},
   "outputs": [
    {
     "name": "stdout",
     "output_type": "stream",
     "text": [
      "7.30418703556e-87 The null hypothesis can be rejected.\n"
     ]
    }
   ],
   "source": [
    "test_kruskal([pd_cc, pa_cc, ag_cc])"
   ]
  },
  {
   "cell_type": "code",
   "execution_count": 29,
   "metadata": {},
   "outputs": [
    {
     "name": "stdout",
     "output_type": "stream",
     "text": [
      "0.0 The null hypothesis can be rejected.\n"
     ]
    }
   ],
   "source": [
    "test_mannwhitneyu([pd_bc, pa_cc], 'less')"
   ]
  },
  {
   "cell_type": "code",
   "execution_count": 30,
   "metadata": {},
   "outputs": [
    {
     "name": "stdout",
     "output_type": "stream",
     "text": [
      "4.10048718811e-08 The null hypothesis can be rejected.\n"
     ]
    }
   ],
   "source": [
    "test_mannwhitneyu([pd_cc, ag_cc], 'greater')"
   ]
  }
 ],
 "metadata": {
  "anaconda-cloud": {},
  "kernelspec": {
   "display_name": "Python [conda env:network-analysis]",
   "language": "python",
   "name": "conda-env-network-analysis-py"
  },
  "language_info": {
   "codemirror_mode": {
    "name": "ipython",
    "version": 3
   },
   "file_extension": ".py",
   "mimetype": "text/x-python",
   "name": "python",
   "nbconvert_exporter": "python",
   "pygments_lexer": "ipython3",
   "version": "3.6.2"
  }
 },
 "nbformat": 4,
 "nbformat_minor": 2
}
