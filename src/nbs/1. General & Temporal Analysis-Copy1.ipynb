{
 "cells": [
  {
   "cell_type": "code",
   "execution_count": 1,
   "metadata": {},
   "outputs": [],
   "source": [
    "import pandas as pd\n",
    "import numpy as np"
   ]
  },
  {
   "cell_type": "code",
   "execution_count": 2,
   "metadata": {},
   "outputs": [],
   "source": [
    "from importlib.machinery import SourceFileLoader\n",
    "\n",
    "tools = SourceFileLoader(\"tools\", \"../tools.py\").load_module()\n",
    "\n",
    "from tools import write_to_file"
   ]
  },
  {
   "cell_type": "code",
   "execution_count": 3,
   "metadata": {},
   "outputs": [],
   "source": [
    "import matplotlib\n",
    "import matplotlib.pyplot as plt\n",
    "\n",
    "import matplotlib as mpl\n",
    "mpl.rcParams['legend.numpoints'] = 1\n",
    "\n",
    "%matplotlib inline"
   ]
  },
  {
   "cell_type": "code",
   "execution_count": 4,
   "metadata": {},
   "outputs": [],
   "source": [
    "font = {\"size\": 10, \"weight\": \"bold\"}\n",
    "matplotlib.rc(\"font\", **font)"
   ]
  },
  {
   "cell_type": "markdown",
   "metadata": {},
   "source": [
    "General & Temporial Analysis\n",
    "==================="
   ]
  },
  {
   "cell_type": "code",
   "execution_count": 12,
   "metadata": {},
   "outputs": [],
   "source": [
    "df = pd.read_csv(\"../data/prisoners_dilemma_articles_meta_data_clean.csv\")\n",
    "auction_df = pd.read_csv(\"../data/auction_theory_articles_meta_data.csv\")\n",
    "anarchy_df = pd.read_csv(\"../data/price_of_anarchy_articles_meta_data.csv\")"
   ]
  },
  {
   "cell_type": "code",
   "execution_count": 13,
   "metadata": {},
   "outputs": [],
   "source": [
    "df = df.replace(\"None\", np.nan)\n",
    "auction_df = auction_df.replace(\"None\", np.nan)\n",
    "anarchy_df = anarchy_df.replace(\"None\", np.nan)"
   ]
  },
  {
   "cell_type": "code",
   "execution_count": 14,
   "metadata": {},
   "outputs": [],
   "source": [
    "labels = ['prisoners_dilemma', 'auction_games', 'price_of_anarchy']"
   ]
  },
  {
   "cell_type": "code",
   "execution_count": 15,
   "metadata": {},
   "outputs": [],
   "source": [
    "dfs = [df, auction_df, anarchy_df]"
   ]
  },
  {
   "cell_type": "markdown",
   "metadata": {},
   "source": [
    "**Total number of articles.**"
   ]
  },
  {
   "cell_type": "code",
   "execution_count": 16,
   "metadata": {},
   "outputs": [],
   "source": [
    "total_articles = [len(data[\"title\"].unique()) for data in dfs]\n"
   ]
  },
  {
   "cell_type": "code",
   "execution_count": 17,
   "metadata": {},
   "outputs": [
    {
     "data": {
      "text/plain": [
       "[2422, 3444, 748]"
      ]
     },
     "execution_count": 17,
     "metadata": {},
     "output_type": "execute_result"
    }
   ],
   "source": [
    "total_articles"
   ]
  },
  {
   "cell_type": "markdown",
   "metadata": {},
   "source": [
    "**Unique titles**"
   ]
  },
  {
   "cell_type": "code",
   "execution_count": 8,
   "metadata": {},
   "outputs": [
    {
     "data": {
      "text/plain": [
       "(3077, 3155)"
      ]
     },
     "execution_count": 8,
     "metadata": {},
     "output_type": "execute_result"
    }
   ],
   "source": [
    "len(df[\"title\"].unique()), len(df[\"unique_key\"].unique())\n"
   ]
  },
  {
   "cell_type": "markdown",
   "metadata": {},
   "source": [
    "**Numbers of author and year range.**"
   ]
  },
  {
   "cell_type": "code",
   "execution_count": 17,
   "metadata": {},
   "outputs": [],
   "source": [
    "number_of_authors = [len(data[\"author\"].unique()) for data in dfs]\n"
   ]
  },
  {
   "cell_type": "code",
   "execution_count": 23,
   "metadata": {},
   "outputs": [],
   "source": [
    "for data, name in zip(\n",
    "    [total_articles, number_of_authors], [\"total_articles.txt\", \"number_of_authors.txt\"]\n",
    "):\n",
    "    for i in range(3):\n",
    "        write_to_file(metric=data[i], filename=labels[i] + \"_\" + name)\n"
   ]
  },
  {
   "cell_type": "markdown",
   "metadata": {},
   "source": [
    "Provenance\n",
    "----------\n",
    "\n",
    "The total number of articles is given above. Here we can illustrate the provenance of these articles.\n",
    "Thus we can see from which journal they have been collected and how many articles have been added by us. The table below shows the number of articles for each provenance."
   ]
  },
  {
   "cell_type": "code",
   "execution_count": 22,
   "metadata": {},
   "outputs": [],
   "source": [
    "provenance_sizes = [(\n",
    "    data.groupby([\"unique_key\", \"provenance\"])\n",
    "    .size()\n",
    "    .reset_index()\n",
    "    .groupby(\"provenance\")\n",
    "    .size()\n",
    ") for data in dfs]"
   ]
  },
  {
   "cell_type": "code",
   "execution_count": 26,
   "metadata": {},
   "outputs": [],
   "source": [
    "write_to_file(metric=provenance_sizes[0][\"Manual\"], filename=labels[0] + \"_\" + \"prov_manual.txt\")\n",
    "write_to_file(metric=provenance_sizes[2][\"Manual\"], filename=labels[2] + \"_\" + \"prov_manual.txt\")"
   ]
  },
  {
   "cell_type": "code",
   "execution_count": 27,
   "metadata": {},
   "outputs": [],
   "source": [
    "percentages = [provenance_size.apply(lambda x: round(x / total_article * 100, 2))\n",
    "               for provenance_size, total_article in zip(provenance_sizes, total_articles)]\n"
   ]
  },
  {
   "cell_type": "code",
   "execution_count": 36,
   "metadata": {},
   "outputs": [],
   "source": [
    "provenance_tables = []\n",
    "for i in range(3):\n",
    "    provenance_table = pd.concat([provenance_sizes[i], percentages[i]], axis=1)\n",
    "    provenance_table.columns = [\"# of Articles\", \"Percentage\"]\n",
    "    provenance_tables.append(provenance_table)"
   ]
  },
  {
   "cell_type": "code",
   "execution_count": 39,
   "metadata": {},
   "outputs": [
    {
     "data": {
      "text/html": [
       "<div>\n",
       "<style scoped>\n",
       "    .dataframe tbody tr th:only-of-type {\n",
       "        vertical-align: middle;\n",
       "    }\n",
       "\n",
       "    .dataframe tbody tr th {\n",
       "        vertical-align: top;\n",
       "    }\n",
       "\n",
       "    .dataframe thead th {\n",
       "        text-align: right;\n",
       "    }\n",
       "</style>\n",
       "<table border=\"1\" class=\"dataframe\">\n",
       "  <thead>\n",
       "    <tr style=\"text-align: right;\">\n",
       "      <th></th>\n",
       "      <th># of Articles</th>\n",
       "      <th>Percentage</th>\n",
       "      <th># of Articles</th>\n",
       "      <th>Percentage</th>\n",
       "      <th># of Articles</th>\n",
       "      <th>Percentage</th>\n",
       "    </tr>\n",
       "  </thead>\n",
       "  <tbody>\n",
       "    <tr>\n",
       "      <th>IEEE</th>\n",
       "      <td>295</td>\n",
       "      <td>9.59</td>\n",
       "      <td>257.0</td>\n",
       "      <td>7.46</td>\n",
       "      <td>229</td>\n",
       "      <td>30.61</td>\n",
       "    </tr>\n",
       "    <tr>\n",
       "      <th>Manual</th>\n",
       "      <td>77</td>\n",
       "      <td>2.50</td>\n",
       "      <td>NaN</td>\n",
       "      <td>NaN</td>\n",
       "      <td>1</td>\n",
       "      <td>0.13</td>\n",
       "    </tr>\n",
       "    <tr>\n",
       "      <th>Nature</th>\n",
       "      <td>673</td>\n",
       "      <td>21.87</td>\n",
       "      <td>203.0</td>\n",
       "      <td>5.89</td>\n",
       "      <td>185</td>\n",
       "      <td>24.73</td>\n",
       "    </tr>\n",
       "    <tr>\n",
       "      <th>PLOS</th>\n",
       "      <td>482</td>\n",
       "      <td>15.66</td>\n",
       "      <td>NaN</td>\n",
       "      <td>NaN</td>\n",
       "      <td>13</td>\n",
       "      <td>1.74</td>\n",
       "    </tr>\n",
       "    <tr>\n",
       "      <th>Springer</th>\n",
       "      <td>572</td>\n",
       "      <td>18.59</td>\n",
       "      <td>1296.0</td>\n",
       "      <td>37.63</td>\n",
       "      <td>284</td>\n",
       "      <td>37.97</td>\n",
       "    </tr>\n",
       "    <tr>\n",
       "      <th>arXiv</th>\n",
       "      <td>1056</td>\n",
       "      <td>34.32</td>\n",
       "      <td>1769.0</td>\n",
       "      <td>51.36</td>\n",
       "      <td>66</td>\n",
       "      <td>8.82</td>\n",
       "    </tr>\n",
       "  </tbody>\n",
       "</table>\n",
       "</div>"
      ],
      "text/plain": [
       "          # of Articles  Percentage  # of Articles  Percentage  # of Articles  \\\n",
       "IEEE                295        9.59          257.0        7.46            229   \n",
       "Manual               77        2.50            NaN         NaN              1   \n",
       "Nature              673       21.87          203.0        5.89            185   \n",
       "PLOS                482       15.66            NaN         NaN             13   \n",
       "Springer            572       18.59         1296.0       37.63            284   \n",
       "arXiv              1056       34.32         1769.0       51.36             66   \n",
       "\n",
       "          Percentage  \n",
       "IEEE           30.61  \n",
       "Manual          0.13  \n",
       "Nature         24.73  \n",
       "PLOS            1.74  \n",
       "Springer       37.97  \n",
       "arXiv           8.82  "
      ]
     },
     "execution_count": 39,
     "metadata": {},
     "output_type": "execute_result"
    }
   ],
   "source": [
    "provenance_table = pd.concat(provenance_tables, axis=1, sort=False)\n",
    "provenance_table"
   ]
  },
  {
   "cell_type": "code",
   "execution_count": 40,
   "metadata": {},
   "outputs": [
    {
     "data": {
      "text/plain": [
       "'\\\\begin{tabular}{lrrrrrr}\\n\\\\toprule\\n{} &  \\\\# of Articles &  Percentage &  \\\\# of Articles &  Percentage &  \\\\# of Articles &  Percentage \\\\\\\\\\n\\\\midrule\\nIEEE     &            295 &        9.59 &          257.0 &        7.46 &            229 &       30.61 \\\\\\\\\\nManual   &             77 &        2.50 &            NaN &         NaN &              1 &        0.13 \\\\\\\\\\nNature   &            673 &       21.87 &          203.0 &        5.89 &            185 &       24.73 \\\\\\\\\\nPLOS     &            482 &       15.66 &            NaN &         NaN &             13 &        1.74 \\\\\\\\\\nSpringer &            572 &       18.59 &         1296.0 &       37.63 &            284 &       37.97 \\\\\\\\\\narXiv    &           1056 &       34.32 &         1769.0 &       51.36 &             66 &        8.82 \\\\\\\\\\n\\\\bottomrule\\n\\\\end{tabular}\\n'"
      ]
     },
     "execution_count": 40,
     "metadata": {},
     "output_type": "execute_result"
    }
   ],
   "source": [
    "provenance_table.to_latex()"
   ]
  },
  {
   "cell_type": "code",
   "execution_count": 21,
   "metadata": {},
   "outputs": [],
   "source": [
    "write_to_file(metric=provenance_table.to_latex().replace(' \\\\\\\\\\n', '\\%\\\\\\\\\\n').replace(' \\%\\\\\\\\\\n', ' \\\\\\\\\\n')\n",
    "              , filename=\"provenance_table.tex\")\n"
   ]
  },
  {
   "cell_type": "markdown",
   "metadata": {
    "collapsed": true
   },
   "source": [
    "Temporal Analysis\n",
    "-----------------"
   ]
  },
  {
   "cell_type": "code",
   "execution_count": 41,
   "metadata": {},
   "outputs": [],
   "source": [
    "colors = [\"midnightblue\", \"darkred\", \"darkgreen\"]\n"
   ]
  },
  {
   "cell_type": "code",
   "execution_count": 42,
   "metadata": {},
   "outputs": [],
   "source": [
    "yearly_provenances = [(\n",
    "    data.groupby([\"unique_key\", \"provenance\", \"date\"])\n",
    "    .size()\n",
    "    .reset_index()\n",
    "    .groupby([\"provenance\", \"date\"])\n",
    "    .size()\n",
    ") for data in dfs]\n"
   ]
  },
  {
   "cell_type": "code",
   "execution_count": 43,
   "metadata": {},
   "outputs": [],
   "source": [
    "yearly_dfs = [(\n",
    "    data.groupby([\"unique_key\", \"date\"]).size().reset_index().groupby(\"date\").size()\n",
    ") for data in dfs]\n"
   ]
  },
  {
   "cell_type": "code",
   "execution_count": 45,
   "metadata": {},
   "outputs": [
    {
     "data": {
      "image/png": "[encoded data removed]",
      "text/plain": [
       "<Figure size 432x288 with 1 Axes>"
      ]
     },
     "metadata": {
      "needs_background": "light"
     },
     "output_type": "display_data"
    },
    {
     "data": {
      "image/png": "[encoded data removed]",
      "text/plain": [
       "<Figure size 432x288 with 1 Axes>"
      ]
     },
     "metadata": {
      "needs_background": "light"
     },
     "output_type": "display_data"
    },
    {
     "data": {
      "image/png": "[encoded data removed]",
      "text/plain": [
       "<Figure size 432x288 with 1 Axes>"
      ]
     },
     "metadata": {
      "needs_background": "light"
     },
     "output_type": "display_data"
    }
   ],
   "source": [
    "i = 0\n",
    "for data, label in zip(dfs, [\"Prisoner's_Dilemma\",\n",
    "                             \"Auction_Games\",\n",
    "                             \"Price_of_Anarchy\"]):\n",
    "    total = len(data[\"unique_key\"].unique())\n",
    "\n",
    "    yearly = (\n",
    "        data.groupby([\"unique_key\", \"date\"]).size().reset_index().groupby(\"date\").size()\n",
    "    )\n",
    "\n",
    "    fig = plt.figure()\n",
    "\n",
    "    plt.plot(yearly.index, yearly.values, \"--o\",\n",
    "             color=colors[i], zorder=1, linewidth=1)\n",
    "    plt.xticks(np.arange(min(yearly.index), 2018, step=4), rotation=90)\n",
    "\n",
    "    plt.ylabel(\"number of articles\")\n",
    "    plt.title(\"Articles per Year (N = {}) {}\".format(total, label))\n",
    "    plt.savefig(\"../../assets/images/{}.pdf\".format(label),\n",
    "                bbox_inches=\"tight\")\n",
    "    i += 1"
   ]
  },
  {
   "cell_type": "markdown",
   "metadata": {},
   "source": [
    "**Fitting and forecasting**"
   ]
  },
  {
   "cell_type": "code",
   "execution_count": 1,
   "metadata": {},
   "outputs": [],
   "source": [
    "from scipy import optimize\n",
    "\n",
    "\n",
    "def func(x, a, b, c):\n",
    "    return a * np.exp(-b * np.array(x)) + c"
   ]
  },
  {
   "cell_type": "code",
   "execution_count": 2,
   "metadata": {},
   "outputs": [
    {
     "ename": "NameError",
     "evalue": "name 'yearly_dfs' is not defined",
     "output_type": "error",
     "traceback": [
      "\u001b[0;31m---------------------------------------------------------------------------\u001b[0m",
      "\u001b[0;31mNameError\u001b[0m                                 Traceback (most recent call last)",
      "\u001b[0;32m<ipython-input-2-a2b1f0fbf90c>\u001b[0m in \u001b[0;36m<module>\u001b[0;34m\u001b[0m\n\u001b[0;32m----> 1\u001b[0;31m \u001b[0my\u001b[0m \u001b[0;34m=\u001b[0m \u001b[0myearly_dfs\u001b[0m\u001b[0;34m[\u001b[0m\u001b[0;36m0\u001b[0m\u001b[0;34m]\u001b[0m\u001b[0;34m[\u001b[0m\u001b[0;36m1980\u001b[0m\u001b[0;34m:\u001b[0m\u001b[0;36m2016\u001b[0m\u001b[0;34m]\u001b[0m\u001b[0;34m.\u001b[0m\u001b[0mvalues\u001b[0m\u001b[0;34m\u001b[0m\u001b[0;34m\u001b[0m\u001b[0m\n\u001b[0m\u001b[1;32m      2\u001b[0m \u001b[0mx\u001b[0m \u001b[0;34m=\u001b[0m \u001b[0;34m[\u001b[0m\u001b[0mi\u001b[0m \u001b[0;32mfor\u001b[0m \u001b[0mi\u001b[0m\u001b[0;34m,\u001b[0m\u001b[0m_\u001b[0m \u001b[0;32min\u001b[0m \u001b[0menumerate\u001b[0m\u001b[0;34m(\u001b[0m\u001b[0my\u001b[0m\u001b[0;34m)\u001b[0m\u001b[0;34m]\u001b[0m\u001b[0;34m\u001b[0m\u001b[0;34m\u001b[0m\u001b[0m\n\u001b[1;32m      3\u001b[0m \u001b[0;34m\u001b[0m\u001b[0m\n\u001b[1;32m      4\u001b[0m \u001b[0mparams\u001b[0m\u001b[0;34m,\u001b[0m \u001b[0mparams_covariance\u001b[0m \u001b[0;34m=\u001b[0m \u001b[0moptimize\u001b[0m\u001b[0;34m.\u001b[0m\u001b[0mcurve_fit\u001b[0m\u001b[0;34m(\u001b[0m\u001b[0mfunc\u001b[0m\u001b[0;34m,\u001b[0m \u001b[0mx\u001b[0m\u001b[0;34m,\u001b[0m \u001b[0my\u001b[0m\u001b[0;34m,\u001b[0m \u001b[0mp0\u001b[0m\u001b[0;34m=\u001b[0m\u001b[0;34m[\u001b[0m\u001b[0;36m0\u001b[0m\u001b[0;34m,\u001b[0m \u001b[0;36m0\u001b[0m\u001b[0;34m,\u001b[0m \u001b[0;36m0\u001b[0m\u001b[0;34m]\u001b[0m\u001b[0;34m)\u001b[0m\u001b[0;34m\u001b[0m\u001b[0;34m\u001b[0m\u001b[0m\n",
      "\u001b[0;31mNameError\u001b[0m: name 'yearly_dfs' is not defined"
     ]
    }
   ],
   "source": [
    "y = yearly_dfs[0][1980:2016].values\n",
    "x = [i for i,_ in enumerate(y)]\n",
    "\n",
    "params, params_covariance = optimize.curve_fit(func, x, y, p0=[0, 0, 0])"
   ]
  },
  {
   "cell_type": "code",
   "execution_count": 3,
   "metadata": {},
   "outputs": [
    {
     "ename": "NameError",
     "evalue": "name 'plt' is not defined",
     "output_type": "error",
     "traceback": [
      "\u001b[0;31m---------------------------------------------------------------------------\u001b[0m",
      "\u001b[0;31mNameError\u001b[0m                                 Traceback (most recent call last)",
      "\u001b[0;32m<ipython-input-3-2d9444c7a92a>\u001b[0m in \u001b[0;36m<module>\u001b[0;34m\u001b[0m\n\u001b[0;32m----> 1\u001b[0;31m \u001b[0mplt\u001b[0m\u001b[0;34m.\u001b[0m\u001b[0mfigure\u001b[0m\u001b[0;34m(\u001b[0m\u001b[0mfigsize\u001b[0m\u001b[0;34m=\u001b[0m\u001b[0;34m(\u001b[0m\u001b[0;36m7\u001b[0m\u001b[0;34m,\u001b[0m \u001b[0;36m5\u001b[0m\u001b[0;34m)\u001b[0m\u001b[0;34m)\u001b[0m\u001b[0;34m\u001b[0m\u001b[0;34m\u001b[0m\u001b[0m\n\u001b[0m\u001b[1;32m      2\u001b[0m plt.scatter(\n\u001b[1;32m      3\u001b[0m     \u001b[0myearly_dfs\u001b[0m\u001b[0;34m[\u001b[0m\u001b[0;36m0\u001b[0m\u001b[0;34m]\u001b[0m\u001b[0;34m[\u001b[0m\u001b[0;36m1980\u001b[0m\u001b[0;34m:\u001b[0m\u001b[0;36m2016\u001b[0m\u001b[0;34m]\u001b[0m\u001b[0;34m.\u001b[0m\u001b[0mindex\u001b[0m\u001b[0;34m,\u001b[0m\u001b[0;34m\u001b[0m\u001b[0;34m\u001b[0m\u001b[0m\n\u001b[1;32m      4\u001b[0m     \u001b[0my\u001b[0m\u001b[0;34m,\u001b[0m\u001b[0;34m\u001b[0m\u001b[0;34m\u001b[0m\u001b[0m\n\u001b[1;32m      5\u001b[0m     \u001b[0mcolor\u001b[0m\u001b[0;34m=\u001b[0m\u001b[0mcolors\u001b[0m\u001b[0;34m[\u001b[0m\u001b[0;36m0\u001b[0m\u001b[0;34m]\u001b[0m\u001b[0;34m,\u001b[0m\u001b[0;34m\u001b[0m\u001b[0;34m\u001b[0m\u001b[0m\n",
      "\u001b[0;31mNameError\u001b[0m: name 'plt' is not defined"
     ]
    }
   ],
   "source": [
    "plt.figure(figsize=(7, 5))\n",
    "plt.scatter(\n",
    "    yearly_dfs[0][1980:2016].index,\n",
    "    y,\n",
    "    color=colors[0],\n",
    "    zorder=1,\n",
    "    linewidth=1,\n",
    "    label=\"Included in model\",\n",
    ")\n",
    "plt.plot(\n",
    "    yearly_dfs[0][1980:2016].index,\n",
    "    func(x, params[0], params[1], params[2]),\n",
    "    label=r\"fit: $ %5.3f e^{%5.3f x} +%5.3f$\" % tuple(params),\n",
    "    color=\"red\",\n",
    "    zorder=2,\n",
    "    linewidth=3,\n",
    ")\n",
    "plt.scatter(\n",
    "    yearly_dfs[0][2017:2018].index,\n",
    "    yearly_dfs[0][2017:2018].values,\n",
    "    color=colors[0],\n",
    "    zorder=1,\n",
    "    linewidth=1,\n",
    "    marker=\"*\",\n",
    "    label=\"Not included\",\n",
    ")\n",
    "plt.xticks(rotation=90)\n",
    "plt.legend(loc=\"best\")\n",
    "\n",
    "plt.ylabel(\"number of articles\")\n",
    "plt.savefig(\"../../assets/images/fitting.pdf\", bbox_inches=\"tight\")\n"
   ]
  },
  {
   "cell_type": "code",
   "execution_count": 82,
   "metadata": {},
   "outputs": [],
   "source": [
    "y = yearly_dfs[1].values\n",
    "x = [i for i,_ in enumerate(y)]\n",
    "\n",
    "params, params_covariance = optimize.curve_fit(func, x, y, p0=[0, 0, 0])"
   ]
  },
  {
   "cell_type": "code",
   "execution_count": 84,
   "metadata": {},
   "outputs": [
    {
     "data": {
      "image/png": "[encoded data removed]",
      "text/plain": [
       "<Figure size 504x360 with 1 Axes>"
      ]
     },
     "metadata": {
      "needs_background": "light"
     },
     "output_type": "display_data"
    }
   ],
   "source": [
    "plt.figure(figsize=(7, 5))\n",
    "plt.scatter(\n",
    "    yearly_dfs[1].index,\n",
    "    y,\n",
    "    color=colors[1],\n",
    "    zorder=1,\n",
    "    linewidth=1,\n",
    "    label=\"Included in model\",\n",
    ")\n",
    "plt.plot(\n",
    "    yearly_dfs[1].index,\n",
    "    func(x, params[0], params[1], params[2]),\n",
    "    label=r\"fit: $ %5.3f e^{%5.3f x} +%5.3f$\" % tuple(params),\n",
    "    color=\"red\",\n",
    "    zorder=2,\n",
    "    linewidth=3,\n",
    ")\n",
    "plt.xticks(rotation=90)\n",
    "plt.legend(loc=\"best\")\n",
    "\n",
    "plt.ylabel(\"number of articles\")\n",
    "plt.savefig(\"../../assets/images/fitting_auction.pdf\", bbox_inches=\"tight\")"
   ]
  },
  {
   "cell_type": "code",
   "execution_count": 114,
   "metadata": {},
   "outputs": [],
   "source": [
    "def func_lin(x, a, b):\n",
    "    return a * np.array(x) + b"
   ]
  },
  {
   "cell_type": "code",
   "execution_count": 115,
   "metadata": {},
   "outputs": [],
   "source": [
    "y = yearly_dfs[2].values\n",
    "x = [i for i,_ in enumerate(y)]\n",
    "\n",
    "params, params_covariance = optimize.curve_fit(func_lin, x, y, p0=[0, 0], maxfev=1000)"
   ]
  },
  {
   "cell_type": "code",
   "execution_count": 125,
   "metadata": {},
   "outputs": [
    {
     "data": {
      "image/png": "[encoded data removed]",
      "text/plain": [
       "<Figure size 504x360 with 1 Axes>"
      ]
     },
     "metadata": {
      "needs_background": "light"
     },
     "output_type": "display_data"
    }
   ],
   "source": [
    "plt.figure(figsize=(7, 5))\n",
    "plt.scatter(\n",
    "    yearly_dfs[2].index,\n",
    "    y,\n",
    "    color=colors[2],\n",
    "    zorder=1,\n",
    "    linewidth=1,\n",
    "    label=\"Included in model\",\n",
    ")\n",
    "plt.plot(\n",
    "    yearly_dfs[2].index,\n",
    "    func_lin(x, params[0], params[1],),\n",
    "    label=r\"fit: $ %5.3f * x %5.3f$\" % tuple(params),\n",
    "    color=\"red\",\n",
    "    zorder=2,\n",
    "    linewidth=3,\n",
    ")\n",
    "plt.xticks(rotation=90)\n",
    "plt.legend(loc=\"best\")\n",
    "\n",
    "plt.ylabel(\"number of articles\")\n",
    "plt.savefig(\"../../assets/images/fitting_price.pdf\", bbox_inches=\"tight\")"
   ]
  },
  {
   "cell_type": "code",
   "execution_count": 59,
   "metadata": {},
   "outputs": [],
   "source": [
    "xn = range(37, 42)\n"
   ]
  },
  {
   "cell_type": "code",
   "execution_count": 60,
   "metadata": {},
   "outputs": [],
   "source": [
    "forecasting = [round(func(x_v, *params)) for x_v in xn]\n"
   ]
  },
  {
   "cell_type": "code",
   "execution_count": 61,
   "metadata": {},
   "outputs": [
    {
     "data": {
      "image/png": "[encoded data removed]",
      "text/plain": [
       "<Figure size 504x360 with 1 Axes>"
      ]
     },
     "metadata": {},
     "output_type": "display_data"
    }
   ],
   "source": [
    "plt.figure(figsize=(7, 5))\n",
    "plt.scatter(\n",
    "    yearly_df[1980:2016].index,\n",
    "    y,\n",
    "    color=colors[0],\n",
    "    zorder=1,\n",
    "    linewidth=1,\n",
    "    label=\"Included in model\",\n",
    ")\n",
    "plt.plot(\n",
    "    yearly_df[1980:2016].index,\n",
    "    func(x, params[0], params[1], params[2]),\n",
    "    label=r\"fit: $ %5.3f e^{%5.3f x} +%5.3f$\" % tuple(params),\n",
    "    color=\"red\",\n",
    "    zorder=2,\n",
    "    linewidth=3,\n",
    ")\n",
    "plt.plot(\n",
    "    range(2017, 2022),\n",
    "    forecasting,\n",
    "    label=\"forecasting\",\n",
    "    color=\"green\",\n",
    "    zorder=2,\n",
    "    linewidth=3,\n",
    "    alpha=0.7,\n",
    "    linestyle=\"--\",\n",
    ")\n",
    "plt.scatter(\n",
    "    yearly_df[2017:2018].index,\n",
    "    yearly_df[2017:2018].values,\n",
    "    color=colors[0],\n",
    "    zorder=1,\n",
    "    linewidth=1,\n",
    "    marker=\"*\",\n",
    "    label=\"Not included\",\n",
    ")\n",
    "\n",
    "plt.xticks(rotation=90)\n",
    "\n",
    "plt.legend(loc=\"best\")\n",
    "\n",
    "plt.ylabel(\"number of articles\")\n",
    "plt.savefig(\"../../assets/images/forecasting.pdf\", bbox_inches=\"tight\")\n"
   ]
  },
  {
   "cell_type": "code",
   "execution_count": 62,
   "metadata": {},
   "outputs": [],
   "source": [
    "index = range(2017, 2022)\n",
    "forecasting_table = pd.DataFrame(forecasting, columns=[\"Forecast\"], index=index)\n"
   ]
  },
  {
   "cell_type": "code",
   "execution_count": 63,
   "metadata": {},
   "outputs": [],
   "source": [
    "file = open(\"../../assets/predictions.tex\", \"w\")\n",
    "file.write(\"{}\".format(forecasting_table.to_latex()))\n",
    "file.close()\n"
   ]
  },
  {
   "cell_type": "markdown",
   "metadata": {
    "collapsed": true
   },
   "source": [
    "Av. publication\n",
    "------\n",
    "\n",
    "The rate is calculated as the ratio of number of total articles and the number of years of publication.\n",
    "Thus:\n",
    "    $$ \\text{rate}= \\frac{\\text{number of articles}}{\\text{years of publication}}$$"
   ]
  },
  {
   "cell_type": "code",
   "execution_count": 128,
   "metadata": {},
   "outputs": [
    {
     "data": {
      "text/plain": [
       "49.21875"
      ]
     },
     "execution_count": 128,
     "metadata": {},
     "output_type": "execute_result"
    }
   ],
   "source": [
    "(yearly_dfs[0].values.sum() / yearly_dfs[0].count())\n"
   ]
  },
  {
   "cell_type": "code",
   "execution_count": 144,
   "metadata": {},
   "outputs": [],
   "source": [
    "rates_tables = []\n",
    "for i in range(3):\n",
    "    rates = [np.round(yearly_dfs[i].values.sum() / yearly_dfs[i].count())]\n",
    "    if i == 1:\n",
    "        apis = [\"IEEE\", \"Nature\", \"Springer\", \"arXiv\"]\n",
    "    else:\n",
    "        apis = [\"IEEE\", \"Nature\", \"PLOS\", \"Springer\", \"arXiv\"]\n",
    "    for api in apis:\n",
    "        rates.append(np.round(yearly_provenances[i][api].values.sum() / yearly_dfs[i].count()))\n",
    "    \n",
    "    rates_table = pd.DataFrame(\n",
    "    rates,\n",
    "    [\"Overall\"] + apis,\n",
    "    columns={labels[i].replace('_', ' ').capitalize()},\n",
    ")\n",
    "    rates_tables.append(rates_table)"
   ]
  },
  {
   "cell_type": "code",
   "execution_count": 145,
   "metadata": {},
   "outputs": [
    {
     "data": {
      "text/html": [
       "<div>\n",
       "<style scoped>\n",
       "    .dataframe tbody tr th:only-of-type {\n",
       "        vertical-align: middle;\n",
       "    }\n",
       "\n",
       "    .dataframe tbody tr th {\n",
       "        vertical-align: top;\n",
       "    }\n",
       "\n",
       "    .dataframe thead th {\n",
       "        text-align: right;\n",
       "    }\n",
       "</style>\n",
       "<table border=\"1\" class=\"dataframe\">\n",
       "  <thead>\n",
       "    <tr style=\"text-align: right;\">\n",
       "      <th></th>\n",
       "      <th>Prisoners dilemma</th>\n",
       "      <th>Auction games</th>\n",
       "      <th>Price of anarchy</th>\n",
       "    </tr>\n",
       "  </thead>\n",
       "  <tbody>\n",
       "    <tr>\n",
       "      <th>Overall</th>\n",
       "      <td>49.0</td>\n",
       "      <td>93.0</td>\n",
       "      <td>39.0</td>\n",
       "    </tr>\n",
       "    <tr>\n",
       "      <th>IEEE</th>\n",
       "      <td>5.0</td>\n",
       "      <td>7.0</td>\n",
       "      <td>11.0</td>\n",
       "    </tr>\n",
       "    <tr>\n",
       "      <th>Nature</th>\n",
       "      <td>11.0</td>\n",
       "      <td>5.0</td>\n",
       "      <td>9.0</td>\n",
       "    </tr>\n",
       "    <tr>\n",
       "      <th>PLOS</th>\n",
       "      <td>8.0</td>\n",
       "      <td>NaN</td>\n",
       "      <td>1.0</td>\n",
       "    </tr>\n",
       "    <tr>\n",
       "      <th>Springer</th>\n",
       "      <td>9.0</td>\n",
       "      <td>34.0</td>\n",
       "      <td>14.0</td>\n",
       "    </tr>\n",
       "    <tr>\n",
       "      <th>arXiv</th>\n",
       "      <td>16.0</td>\n",
       "      <td>47.0</td>\n",
       "      <td>3.0</td>\n",
       "    </tr>\n",
       "  </tbody>\n",
       "</table>\n",
       "</div>"
      ],
      "text/plain": [
       "          Prisoners dilemma  Auction games  Price of anarchy\n",
       "Overall                49.0           93.0              39.0\n",
       "IEEE                    5.0            7.0              11.0\n",
       "Nature                 11.0            5.0               9.0\n",
       "PLOS                    8.0            NaN               1.0\n",
       "Springer                9.0           34.0              14.0\n",
       "arXiv                  16.0           47.0               3.0"
      ]
     },
     "execution_count": 145,
     "metadata": {},
     "output_type": "execute_result"
    }
   ],
   "source": [
    "pd.concat(rates_tables, axis=1, sort=False)"
   ]
  }
 ],
 "metadata": {
  "anaconda-cloud": {},
  "kernelspec": {
   "display_name": "Python 3",
   "language": "python",
   "name": "python3"
  },
  "language_info": {
   "codemirror_mode": {
    "name": "ipython",
    "version": 3
   },
   "file_extension": ".py",
   "mimetype": "text/x-python",
   "name": "python",
   "nbconvert_exporter": "python",
   "pygments_lexer": "ipython3",
   "version": "3.7.3"
  }
 },
 "nbformat": 4,
 "nbformat_minor": 1
}
