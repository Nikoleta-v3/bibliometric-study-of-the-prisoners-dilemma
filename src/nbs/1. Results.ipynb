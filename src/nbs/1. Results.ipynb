{
 "cells": [
  {
   "cell_type": "code",
   "execution_count": 70,
   "metadata": {},
   "outputs": [],
   "source": [
    "import pandas as pd\n",
    "import numpy as np"
   ]
  },
  {
   "cell_type": "code",
   "execution_count": 2,
   "metadata": {},
   "outputs": [],
   "source": [
    "from importlib.machinery import SourceFileLoader\n",
    "\n",
    "tools = SourceFileLoader(\"tools\", \"../tools.py\").load_module()\n",
    "\n",
    "from tools import write_to_file"
   ]
  },
  {
   "cell_type": "code",
   "execution_count": 3,
   "metadata": {},
   "outputs": [],
   "source": [
    "import matplotlib\n",
    "import matplotlib.pyplot as plt\n",
    "\n",
    "import matplotlib as mpl\n",
    "mpl.rcParams['legend.numpoints'] = 1\n",
    "\n",
    "%matplotlib inline"
   ]
  },
  {
   "cell_type": "code",
   "execution_count": 4,
   "metadata": {},
   "outputs": [],
   "source": [
    "font = {\"size\": 10, \"weight\": \"bold\"}\n",
    "matplotlib.rc(\"font\", **font)"
   ]
  },
  {
   "cell_type": "markdown",
   "metadata": {},
   "source": [
    "General & Temporial Analysis\n",
    "==================="
   ]
  },
  {
   "cell_type": "code",
   "execution_count": 5,
   "metadata": {},
   "outputs": [],
   "source": [
    "df = pd.read_csv(\"../data/prisoners_dilemma_articles_meta_data_clean.csv\")"
   ]
  },
  {
   "cell_type": "code",
   "execution_count": 6,
   "metadata": {},
   "outputs": [],
   "source": [
    "df = df.replace(\"None\", np.nan)"
   ]
  },
  {
   "cell_type": "code",
   "execution_count": 7,
   "metadata": {},
   "outputs": [],
   "source": [
    "label = 'prisoners_dilemma'"
   ]
  },
  {
   "cell_type": "markdown",
   "metadata": {},
   "source": [
    "**Total number of articles.**"
   ]
  },
  {
   "cell_type": "code",
   "execution_count": 8,
   "metadata": {},
   "outputs": [],
   "source": [
    "total_articles = len(df[\"title\"].unique())\n"
   ]
  },
  {
   "cell_type": "markdown",
   "metadata": {},
   "source": [
    "**Unique titles**"
   ]
  },
  {
   "cell_type": "code",
   "execution_count": 9,
   "metadata": {},
   "outputs": [
    {
     "data": {
      "text/plain": [
       "(2422, 2470)"
      ]
     },
     "execution_count": 9,
     "metadata": {},
     "output_type": "execute_result"
    }
   ],
   "source": [
    "len(df[\"title\"].unique()), len(df[\"unique_key\"].unique())\n"
   ]
  },
  {
   "cell_type": "markdown",
   "metadata": {},
   "source": [
    "**Numbers of author and year range.**"
   ]
  },
  {
   "cell_type": "code",
   "execution_count": 11,
   "metadata": {},
   "outputs": [
    {
     "data": {
      "text/plain": [
       "4226"
      ]
     },
     "execution_count": 11,
     "metadata": {},
     "output_type": "execute_result"
    }
   ],
   "source": [
    "number_of_authors = len(df[\"author\"].unique())\n",
    "number_of_authors"
   ]
  },
  {
   "cell_type": "code",
   "execution_count": 12,
   "metadata": {},
   "outputs": [],
   "source": [
    "for data, name in zip(\n",
    "    [total_articles, number_of_authors],\n",
    "    [\"total_articles.txt\", \"number_of_authors.txt\"]\n",
    "):\n",
    "    write_to_file(metric=data, filename=name)\n"
   ]
  },
  {
   "cell_type": "markdown",
   "metadata": {},
   "source": [
    "Provenance\n",
    "----------\n",
    "\n",
    "The total number of articles is given above. Here we can illustrate the provenance of these articles.\n",
    "Thus we can see from which journal they have been collected and how many articles have been added by us. The table below shows the number of articles for each provenance."
   ]
  },
  {
   "cell_type": "code",
   "execution_count": 10,
   "metadata": {},
   "outputs": [],
   "source": [
    "provenance_size = (\n",
    "    df.groupby([\"unique_key\", \"provenance\"])\n",
    "    .size()\n",
    "    .reset_index()\n",
    "    .groupby(\"provenance\")\n",
    "    .size()\n",
    ")"
   ]
  },
  {
   "cell_type": "code",
   "execution_count": 11,
   "metadata": {},
   "outputs": [
    {
     "data": {
      "text/plain": [
       "provenance\n",
       "IEEE        294\n",
       "Manual       76\n",
       "Nature      436\n",
       "PLOS        477\n",
       "Springer    533\n",
       "arXiv       654\n",
       "dtype: int64"
      ]
     },
     "execution_count": 11,
     "metadata": {},
     "output_type": "execute_result"
    }
   ],
   "source": [
    "provenance_size"
   ]
  },
  {
   "cell_type": "code",
   "execution_count": 12,
   "metadata": {},
   "outputs": [],
   "source": [
    "write_to_file(metric=provenance_size[\"Manual\"], filename=\"prov_manual.txt\")"
   ]
  },
  {
   "cell_type": "code",
   "execution_count": 13,
   "metadata": {},
   "outputs": [],
   "source": [
    "percentages = provenance_size.apply(lambda x: round(x / total_articles * 100, 2))\n"
   ]
  },
  {
   "cell_type": "code",
   "execution_count": 14,
   "metadata": {},
   "outputs": [],
   "source": [
    "provenance_tables = []\n",
    "\n",
    "provenance_table = pd.concat([provenance_size, percentages], axis=1)\n",
    "provenance_table.columns = [\"Number of Articles\", \"Percentage\"]\n",
    "provenance_tables.append(provenance_table)"
   ]
  },
  {
   "cell_type": "code",
   "execution_count": 15,
   "metadata": {
    "scrolled": true
   },
   "outputs": [
    {
     "data": {
      "text/html": [
       "<div>\n",
       "<style scoped>\n",
       "    .dataframe tbody tr th:only-of-type {\n",
       "        vertical-align: middle;\n",
       "    }\n",
       "\n",
       "    .dataframe tbody tr th {\n",
       "        vertical-align: top;\n",
       "    }\n",
       "\n",
       "    .dataframe thead th {\n",
       "        text-align: right;\n",
       "    }\n",
       "</style>\n",
       "<table border=\"1\" class=\"dataframe\">\n",
       "  <thead>\n",
       "    <tr style=\"text-align: right;\">\n",
       "      <th></th>\n",
       "      <th>Number of Articles</th>\n",
       "      <th>Percentage</th>\n",
       "    </tr>\n",
       "    <tr>\n",
       "      <th>provenance</th>\n",
       "      <th></th>\n",
       "      <th></th>\n",
       "    </tr>\n",
       "  </thead>\n",
       "  <tbody>\n",
       "    <tr>\n",
       "      <th>IEEE</th>\n",
       "      <td>294</td>\n",
       "      <td>12.14</td>\n",
       "    </tr>\n",
       "    <tr>\n",
       "      <th>Manual</th>\n",
       "      <td>76</td>\n",
       "      <td>3.14</td>\n",
       "    </tr>\n",
       "    <tr>\n",
       "      <th>Nature</th>\n",
       "      <td>436</td>\n",
       "      <td>18.00</td>\n",
       "    </tr>\n",
       "    <tr>\n",
       "      <th>PLOS</th>\n",
       "      <td>477</td>\n",
       "      <td>19.69</td>\n",
       "    </tr>\n",
       "    <tr>\n",
       "      <th>Springer</th>\n",
       "      <td>533</td>\n",
       "      <td>22.01</td>\n",
       "    </tr>\n",
       "    <tr>\n",
       "      <th>arXiv</th>\n",
       "      <td>654</td>\n",
       "      <td>27.00</td>\n",
       "    </tr>\n",
       "  </tbody>\n",
       "</table>\n",
       "</div>"
      ],
      "text/plain": [
       "            Number of Articles  Percentage\n",
       "provenance                                \n",
       "IEEE                       294       12.14\n",
       "Manual                      76        3.14\n",
       "Nature                     436       18.00\n",
       "PLOS                       477       19.69\n",
       "Springer                   533       22.01\n",
       "arXiv                      654       27.00"
      ]
     },
     "execution_count": 15,
     "metadata": {},
     "output_type": "execute_result"
    }
   ],
   "source": [
    "provenance_table"
   ]
  },
  {
   "cell_type": "code",
   "execution_count": 16,
   "metadata": {},
   "outputs": [],
   "source": [
    "# write_to_file(metric=provenance_table.to_latex().replace(' \\\\\\\\\\n', '\\%\\\\\\\\\\n').replace(' \\%\\\\\\\\\\n', ' \\\\\\\\\\n')\n",
    "#               , filename=\"provenance_table.tex\")\n"
   ]
  },
  {
   "cell_type": "markdown",
   "metadata": {
    "collapsed": true
   },
   "source": [
    "Temporal Analysis\n",
    "-----------------"
   ]
  },
  {
   "cell_type": "code",
   "execution_count": 17,
   "metadata": {},
   "outputs": [],
   "source": [
    "color = 'midnightblue'"
   ]
  },
  {
   "cell_type": "code",
   "execution_count": 19,
   "metadata": {},
   "outputs": [
    {
     "data": {
      "image/png": "[encoded data removed]",
      "text/plain": [
       "<Figure size 504x360 with 1 Axes>"
      ]
     },
     "metadata": {
      "needs_background": "light"
     },
     "output_type": "display_data"
    }
   ],
   "source": [
    "total = len(df[\"unique_key\"].unique())\n",
    "\n",
    "yearly = (\n",
    "    df.groupby([\"unique_key\", \"date\"]).size().reset_index().groupby(\"date\").size()\n",
    ")\n",
    "\n",
    "fig, axes = plt.subplots(figsize=(7, 5))\n",
    "\n",
    "plt.plot(yearly.index, yearly.values, \"--o\", zorder=1, linewidth=1, color='black')\n",
    "plt.xticks(np.arange(min(yearly.index), 2018, step=4), rotation=90)\n",
    "\n",
    "plt.ylabel(\"number of articles per year\")\n",
    "\n",
    "axes.set_yscale('log')\n",
    "\n",
    "plt.savefig(\"../../assets/images/timeline.pdf\",\n",
    "                bbox_inches=\"tight\")"
   ]
  },
  {
   "cell_type": "code",
   "execution_count": 20,
   "metadata": {},
   "outputs": [],
   "source": [
    "yearly_provenances = (\n",
    "    df.groupby([\"unique_key\", \"provenance\", \"date\"])\n",
    "    .size()\n",
    "    .reset_index()\n",
    "    .groupby([\"provenance\", \"date\"])\n",
    "    .size()\n",
    ")\n"
   ]
  },
  {
   "cell_type": "code",
   "execution_count": 21,
   "metadata": {},
   "outputs": [],
   "source": [
    "yearly_df = (\n",
    "    df.groupby([\"unique_key\", \"date\"]).size().reset_index().groupby(\"date\").size()\n",
    ")\n"
   ]
  },
  {
   "cell_type": "markdown",
   "metadata": {},
   "source": [
    "**Fitting and forecasting**"
   ]
  },
  {
   "cell_type": "code",
   "execution_count": 22,
   "metadata": {},
   "outputs": [
    {
     "name": "stderr",
     "output_type": "stream",
     "text": [
      "UsageError: %colors: you must specify a color scheme. See '%colors?'\n"
     ]
    }
   ],
   "source": [
    "colors"
   ]
  },
  {
   "cell_type": "code",
   "execution_count": 23,
   "metadata": {},
   "outputs": [],
   "source": [
    "from scipy import optimize\n",
    "\n",
    "\n",
    "def func(x, a, b, c):\n",
    "    return a * np.exp(-b * np.array(x)) + c"
   ]
  },
  {
   "cell_type": "code",
   "execution_count": 24,
   "metadata": {},
   "outputs": [],
   "source": [
    "y = yearly_df[:2016].values\n",
    "x = [i for i,_ in enumerate(y)]\n",
    "\n",
    "params, params_covariance = optimize.curve_fit(func, x, y, p0=[0, 0, 0])"
   ]
  },
  {
   "cell_type": "code",
   "execution_count": 31,
   "metadata": {},
   "outputs": [
    {
     "data": {
      "image/png": "[encoded data removed]",
      "text/plain": [
       "<Figure size 504x360 with 1 Axes>"
      ]
     },
     "metadata": {
      "needs_background": "light"
     },
     "output_type": "display_data"
    }
   ],
   "source": [
    "fig, axes = plt.subplots(figsize=(7, 5))\n",
    "\n",
    "plt.scatter(\n",
    "    yearly_df[:2016].index,\n",
    "    y,\n",
    "    zorder=1,\n",
    "    linewidth=1,\n",
    "    label=\"Included in model\",\n",
    "    color='black'\n",
    ")\n",
    "plt.plot(\n",
    "    yearly_df[:2016].index,\n",
    "    func(x, params[0], params[1], params[2]),\n",
    "    label=r\"fit: $ %5.3f e^{%5.3f x} +%5.3f$\" % tuple(params),\n",
    "    color=\"red\",\n",
    "    zorder=2,\n",
    "    linewidth=3,\n",
    ")\n",
    "plt.scatter(\n",
    "    yearly_df[2017:2018].index,\n",
    "    yearly_df[2017:2018].values,\n",
    "    zorder=1,\n",
    "    linewidth=1,\n",
    "    marker=\"*\",\n",
    "    label=\"Not included\",\n",
    "    color='darkorange'\n",
    ")\n",
    "plt.xticks(rotation=90)\n",
    "plt.legend(loc=\"best\")\n",
    "\n",
    "plt.ylabel(\"number of articles per year\")\n",
    "axes.set_yscale('log')\n",
    "plt.savefig(\"../../assets/images/fitting.pdf\", bbox_inches=\"tight\")\n"
   ]
  },
  {
   "cell_type": "code",
   "execution_count": 26,
   "metadata": {},
   "outputs": [
    {
     "data": {
      "text/plain": [
       "55"
      ]
     },
     "execution_count": 26,
     "metadata": {},
     "output_type": "execute_result"
    }
   ],
   "source": [
    "len(yearly_df[:2016].index,)"
   ]
  },
  {
   "cell_type": "code",
   "execution_count": 27,
   "metadata": {},
   "outputs": [],
   "source": [
    "xn = range(55, 60)\n"
   ]
  },
  {
   "cell_type": "code",
   "execution_count": 28,
   "metadata": {},
   "outputs": [],
   "source": [
    "forecasting = [round(func(x_v, *params)) for x_v in xn]\n"
   ]
  },
  {
   "cell_type": "code",
   "execution_count": 30,
   "metadata": {},
   "outputs": [
    {
     "data": {
      "image/png": "[encoded data removed]",
      "text/plain": [
       "<Figure size 504x360 with 1 Axes>"
      ]
     },
     "metadata": {
      "needs_background": "light"
     },
     "output_type": "display_data"
    }
   ],
   "source": [
    "fig, axes = plt.subplots(figsize=(7, 5))\n",
    "plt.scatter(\n",
    "    yearly_df[:2016].index,\n",
    "    y,\n",
    "    zorder=1,\n",
    "    linewidth=1,\n",
    "    label=\"Included in model\",\n",
    "    color='black'\n",
    ")\n",
    "plt.plot(\n",
    "    yearly_df[:2016].index,\n",
    "    func(x, params[0], params[1], params[2]),\n",
    "    label=r\"fit: $ %5.3f e^{%5.3f x} +%5.3f$\" % tuple(params),\n",
    "    color=\"red\",\n",
    "    zorder=2,\n",
    "    linewidth=3,\n",
    ")\n",
    "plt.plot(\n",
    "    range(2017, 2022),\n",
    "    forecasting,\n",
    "    label=\"forecasting\",\n",
    "    color=\"green\",\n",
    "    zorder=2,\n",
    "    linewidth=3,\n",
    "    alpha=0.7,\n",
    "    linestyle=\"--\",\n",
    ")\n",
    "plt.scatter(\n",
    "    yearly_df[2017:2018].index,\n",
    "    yearly_df[2017:2018].values,\n",
    "    zorder=1,\n",
    "    linewidth=1,\n",
    "    marker=\"*\",\n",
    "    label=\"Not included\",\n",
    "    color='darkorange'\n",
    ")\n",
    "\n",
    "plt.xticks(rotation=90)\n",
    "\n",
    "plt.legend(loc=\"best\")\n",
    "\n",
    "plt.ylabel(\"number of articles per year\")\n",
    "axes.set_yscale('log')\n",
    "plt.savefig(\"../../assets/images/forecasting.pdf\", bbox_inches=\"tight\")\n"
   ]
  },
  {
   "cell_type": "markdown",
   "metadata": {},
   "source": [
    "**First publications per Journal**"
   ]
  },
  {
   "cell_type": "code",
   "execution_count": 37,
   "metadata": {},
   "outputs": [],
   "source": [
    "min_years_table = {}\n",
    "for provenance in df['provenance'].unique():\n",
    "    year = min(df[df['provenance'] == provenance].date)\n",
    "    min_years_table[provenance] = year"
   ]
  },
  {
   "cell_type": "code",
   "execution_count": 38,
   "metadata": {},
   "outputs": [],
   "source": [
    "min_years = pd.DataFrame.from_dict(min_years_table, orient='index', columns=['Year of fist publication'])"
   ]
  },
  {
   "cell_type": "code",
   "execution_count": 71,
   "metadata": {},
   "outputs": [],
   "source": [
    "max_years_table = {}\n",
    "for provenance in df['provenance'].unique():\n",
    "    year = max(df[df['provenance'] == provenance].date)\n",
    "    max_years_table[provenance] = year"
   ]
  },
  {
   "cell_type": "code",
   "execution_count": 72,
   "metadata": {},
   "outputs": [
    {
     "data": {
      "text/plain": [
       "{'Springer': 2018.0,\n",
       " 'Nature': 2018.0,\n",
       " 'PLOS': 2018.0,\n",
       " 'IEEE': 2018.0,\n",
       " 'arXiv': 2018.0,\n",
       " 'Manual': 2018.0}"
      ]
     },
     "execution_count": 72,
     "metadata": {},
     "output_type": "execute_result"
    }
   ],
   "source": [
    "max_years_table"
   ]
  },
  {
   "cell_type": "markdown",
   "metadata": {
    "collapsed": true
   },
   "source": [
    "Av. publication\n",
    "------\n",
    "\n",
    "The rate is calculated as the ratio of number of total articles and the number of years of publication.\n",
    "Thus:\n",
    "    $$ \\text{rate}= \\frac{\\text{number of articles}}{\\text{years of publication}}$$"
   ]
  },
  {
   "cell_type": "code",
   "execution_count": 39,
   "metadata": {},
   "outputs": [
    {
     "data": {
      "text/plain": [
       "43.31578947368421"
      ]
     },
     "execution_count": 39,
     "metadata": {},
     "output_type": "execute_result"
    }
   ],
   "source": [
    "(yearly_df.values.sum() / yearly_df.count())\n"
   ]
  },
  {
   "cell_type": "code",
   "execution_count": 40,
   "metadata": {},
   "outputs": [],
   "source": [
    "rates = [np.round(yearly_df.values.sum() / yearly_df.count())]\n",
    "apis = [\"IEEE\", \"Nature\", \"PLOS\", \"Springer\", \"arXiv\", \"Manual\"]\n",
    "for api in apis:\n",
    "    rates.append(np.round(yearly_provenances[api].values.sum() / yearly_df.count()))\n",
    "\n",
    "rates_table = pd.DataFrame(\n",
    "rates,\n",
    "[\"Overall\"] + apis,\n",
    "columns={'Average number of publications'},\n",
    ")\n"
   ]
  },
  {
   "cell_type": "code",
   "execution_count": 41,
   "metadata": {},
   "outputs": [
    {
     "name": "stderr",
     "output_type": "stream",
     "text": [
      "//anaconda3/lib/python3.7/site-packages/ipykernel_launcher.py:1: FutureWarning: Sorting because non-concatenation axis is not aligned. A future version\n",
      "of pandas will change to not sort by default.\n",
      "\n",
      "To accept the future behavior, pass 'sort=False'.\n",
      "\n",
      "To retain the current behavior and silence the warning, pass 'sort=True'.\n",
      "\n",
      "  \"\"\"Entry point for launching an IPython kernel.\n"
     ]
    }
   ],
   "source": [
    "preliminary_table = pd.concat([provenance_table, min_years, rates_table], axis=1)"
   ]
  },
  {
   "cell_type": "code",
   "execution_count": 85,
   "metadata": {},
   "outputs": [],
   "source": [
    "write_to_file(metric=preliminary_table.to_latex().replace(' \\\\\\\\\\n', '\\%\\\\\\\\\\n').replace(' \\%\\\\\\\\\\n', ' \\\\\\\\\\n')\n",
    "              , filename=\"preliminary_table.tex\")\n",
    "\n"
   ]
  },
  {
   "cell_type": "code",
   "execution_count": 34,
   "metadata": {},
   "outputs": [
    {
     "data": {
      "text/html": [
       "<div>\n",
       "<style scoped>\n",
       "    .dataframe tbody tr th:only-of-type {\n",
       "        vertical-align: middle;\n",
       "    }\n",
       "\n",
       "    .dataframe tbody tr th {\n",
       "        vertical-align: top;\n",
       "    }\n",
       "\n",
       "    .dataframe thead th {\n",
       "        text-align: right;\n",
       "    }\n",
       "</style>\n",
       "<table border=\"1\" class=\"dataframe\">\n",
       "  <thead>\n",
       "    <tr style=\"text-align: right;\">\n",
       "      <th></th>\n",
       "      <th>$\\mu_p$</th>\n",
       "    </tr>\n",
       "  </thead>\n",
       "  <tbody>\n",
       "    <tr>\n",
       "      <th>Overall</th>\n",
       "      <td>43.0</td>\n",
       "    </tr>\n",
       "    <tr>\n",
       "      <th>IEEE</th>\n",
       "      <td>5.0</td>\n",
       "    </tr>\n",
       "    <tr>\n",
       "      <th>Nature</th>\n",
       "      <td>8.0</td>\n",
       "    </tr>\n",
       "    <tr>\n",
       "      <th>PLOS</th>\n",
       "      <td>8.0</td>\n",
       "    </tr>\n",
       "    <tr>\n",
       "      <th>Springer</th>\n",
       "      <td>9.0</td>\n",
       "    </tr>\n",
       "    <tr>\n",
       "      <th>arXiv</th>\n",
       "      <td>11.0</td>\n",
       "    </tr>\n",
       "  </tbody>\n",
       "</table>\n",
       "</div>"
      ],
      "text/plain": [
       "          $\\mu_p$\n",
       "Overall      43.0\n",
       "IEEE          5.0\n",
       "Nature        8.0\n",
       "PLOS          8.0\n",
       "Springer      9.0\n",
       "arXiv        11.0"
      ]
     },
     "execution_count": 34,
     "metadata": {},
     "output_type": "execute_result"
    }
   ],
   "source": [
    "rates_table"
   ]
  },
  {
   "cell_type": "code",
   "execution_count": 34,
   "metadata": {},
   "outputs": [],
   "source": [
    "write_to_file(metric=rates_table.to_latex()\n",
    "              , filename=\"rates_table.tex\")\n"
   ]
  },
  {
   "cell_type": "markdown",
   "metadata": {},
   "source": [
    "**Collaboration Index**"
   ]
  },
  {
   "cell_type": "code",
   "execution_count": 63,
   "metadata": {},
   "outputs": [],
   "source": [
    "number_of_authors_per_paper = df[['unique_key', 'author']].drop_duplicates().groupby(['unique_key']).count()\n",
    "number_of_authors_per_paper.reset_index(level=0, inplace=True)"
   ]
  },
  {
   "cell_type": "code",
   "execution_count": 64,
   "metadata": {},
   "outputs": [],
   "source": [
    "number_of_authors_per_paper = number_of_authors_per_paper.merge(df[['unique_key', 'date']].drop_duplicates(),\n",
    "                                                                on='unique_key')"
   ]
  },
  {
   "cell_type": "code",
   "execution_count": 69,
   "metadata": {},
   "outputs": [
    {
     "data": {
      "text/plain": [
       "545"
      ]
     },
     "execution_count": 69,
     "metadata": {},
     "output_type": "execute_result"
    }
   ],
   "source": [
    "len(number_of_authors_per_paper[number_of_authors_per_paper['author'] == 1])"
   ]
  },
  {
   "cell_type": "code",
   "execution_count": 68,
   "metadata": {},
   "outputs": [
    {
     "data": {
      "text/plain": [
       "0.2250206440957886"
      ]
     },
     "execution_count": 68,
     "metadata": {},
     "output_type": "execute_result"
    }
   ],
   "source": [
    "len(number_of_authors_per_paper[number_of_authors_per_paper['author'] == 1]) / total_articles"
   ]
  },
  {
   "cell_type": "code",
   "execution_count": 61,
   "metadata": {},
   "outputs": [],
   "source": [
    "number_of_authors_per_paper = number_of_authors_per_paper[number_of_authors_per_paper['author'] > 1]"
   ]
  },
  {
   "cell_type": "code",
   "execution_count": 45,
   "metadata": {},
   "outputs": [
    {
     "data": {
      "text/plain": [
       "3.208831168831169"
      ]
     },
     "execution_count": 45,
     "metadata": {},
     "output_type": "execute_result"
    }
   ],
   "source": [
    "np.mean(number_of_authors_per_paper['author'])"
   ]
  },
  {
   "cell_type": "code",
   "execution_count": 46,
   "metadata": {},
   "outputs": [
    {
     "data": {
      "image/png": "[encoded data removed]",
      "text/plain": [
       "<Figure size 432x288 with 1 Axes>"
      ]
     },
     "metadata": {
      "needs_background": "light"
     },
     "output_type": "display_data"
    }
   ],
   "source": [
    "plt.plot(number_of_authors_per_paper.groupby('date').mean(),\n",
    "         '-o', color='black');\n",
    "plt.xlabel('year')\n",
    "plt.ylabel('Collaboration Index');\n",
    "\n",
    "plt.savefig(\"../../assets/images/collaborative_index.pdf\",\n",
    "            bbox_inches=\"tight\")\n"
   ]
  },
  {
   "cell_type": "code",
   "execution_count": 47,
   "metadata": {},
   "outputs": [],
   "source": [
    "papers_per_author = df[['author', 'unique_key']].drop_duplicates().groupby('author').count()"
   ]
  },
  {
   "cell_type": "code",
   "execution_count": 48,
   "metadata": {},
   "outputs": [
    {
     "data": {
      "image/png": "[encoded data removed]",
      "text/plain": [
       "<Figure size 432x288 with 1 Axes>"
      ]
     },
     "metadata": {
      "needs_background": "light"
     },
     "output_type": "display_data"
    }
   ],
   "source": [
    "plt.hist(papers_per_author .values);"
   ]
  },
  {
   "cell_type": "code",
   "execution_count": 49,
   "metadata": {},
   "outputs": [
    {
     "data": {
      "text/plain": [
       "array([83])"
      ]
     },
     "execution_count": 49,
     "metadata": {},
     "output_type": "execute_result"
    }
   ],
   "source": [
    "max(papers_per_author .values)"
   ]
  },
  {
   "cell_type": "code",
   "execution_count": 50,
   "metadata": {},
   "outputs": [
    {
     "data": {
      "text/html": [
       "<div>\n",
       "<style scoped>\n",
       "    .dataframe tbody tr th:only-of-type {\n",
       "        vertical-align: middle;\n",
       "    }\n",
       "\n",
       "    .dataframe tbody tr th {\n",
       "        vertical-align: top;\n",
       "    }\n",
       "\n",
       "    .dataframe thead th {\n",
       "        text-align: right;\n",
       "    }\n",
       "</style>\n",
       "<table border=\"1\" class=\"dataframe\">\n",
       "  <thead>\n",
       "    <tr style=\"text-align: right;\">\n",
       "      <th></th>\n",
       "      <th>unique_key</th>\n",
       "    </tr>\n",
       "    <tr>\n",
       "      <th>author</th>\n",
       "      <th></th>\n",
       "    </tr>\n",
       "  </thead>\n",
       "  <tbody>\n",
       "    <tr>\n",
       "      <th>Matjaz Perc</th>\n",
       "      <td>83</td>\n",
       "    </tr>\n",
       "  </tbody>\n",
       "</table>\n",
       "</div>"
      ],
      "text/plain": [
       "             unique_key\n",
       "author                 \n",
       "Matjaz Perc          83"
      ]
     },
     "execution_count": 50,
     "metadata": {},
     "output_type": "execute_result"
    }
   ],
   "source": [
    "papers_per_author[papers_per_author.values == 83]"
   ]
  },
  {
   "cell_type": "code",
   "execution_count": 51,
   "metadata": {},
   "outputs": [],
   "source": [
    "values = df[['author', 'unique_key']].drop_duplicates().groupby('author').count().values"
   ]
  },
  {
   "cell_type": "code",
   "execution_count": 56,
   "metadata": {},
   "outputs": [
    {
     "data": {
      "image/png": "[encoded data removed]",
      "text/plain": [
       "<Figure size 432x288 with 1 Axes>"
      ]
     },
     "metadata": {
      "needs_background": "light"
     },
     "output_type": "display_data"
    }
   ],
   "source": [
    "fig, ax = plt.subplots()\n",
    "\n",
    "ax.hist(np.sort(values.flatten()), log=True,\n",
    "        color='darkgrey');\n",
    "\n",
    "ax.set_xlabel('number of publications');\n",
    "\n",
    "plt.xticks(np.arange(min(values), max(values), 5.0));\n",
    "\n",
    "plt.savefig(\"../../assets/images/papers_per_author.pdf\",\n",
    "            bbox_inches=\"tight\")"
   ]
  }
 ],
 "metadata": {
  "anaconda-cloud": {},
  "kernelspec": {
   "display_name": "Python 3",
   "language": "python",
   "name": "python3"
  },
  "language_info": {
   "codemirror_mode": {
    "name": "ipython",
    "version": 3
   },
   "file_extension": ".py",
   "mimetype": "text/x-python",
   "name": "python",
   "nbconvert_exporter": "python",
   "pygments_lexer": "ipython3",
   "version": "3.7.3"
  }
 },
 "nbformat": 4,
 "nbformat_minor": 1
}
