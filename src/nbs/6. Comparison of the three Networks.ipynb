{
 "cells": [
  {
   "cell_type": "code",
   "execution_count": null,
   "metadata": {
    "collapsed": true
   },
   "outputs": [],
   "source": [
    "import collections\n",
    "import pandas as pd\n",
    "import networkx as nx\n",
    "import itertools\n",
    "import numpy as np"
   ]
  },
  {
   "cell_type": "code",
   "execution_count": null,
   "metadata": {
    "collapsed": true
   },
   "outputs": [],
   "source": [
    "import matplotlib\n",
    "import matplotlib.pyplot as plt\n",
    "import matplotlib.patches as mpatches\n",
    "import matplotlib.lines as lines\n",
    "\n",
    "%matplotlib inline"
   ]
  },
  {
   "cell_type": "code",
   "execution_count": null,
   "metadata": {
    "collapsed": true
   },
   "outputs": [],
   "source": [
    "font = {'weight': 'bold',\n",
    "        'size'   : 10}\n",
    "matplotlib.rc('font', **font)"
   ]
  },
  {
   "cell_type": "code",
   "execution_count": null,
   "metadata": {
    "collapsed": true
   },
   "outputs": [],
   "source": [
    "pd_df = pd.read_json('../data/data_nov_2017_clean.json')\n",
    "anarchy = pd.read_csv('../data/anarchy_df.csv')\n",
    "auction = pd.read_csv('../data/auction_df.csv')"
   ]
  },
  {
   "cell_type": "code",
   "execution_count": null,
   "metadata": {
    "collapsed": true
   },
   "outputs": [],
   "source": [
    "def lower_authors_names(df):\n",
    "    df.author = df.author.str.lower()"
   ]
  },
  {
   "cell_type": "code",
   "execution_count": null,
   "metadata": {
    "collapsed": true
   },
   "outputs": [],
   "source": [
    "lower_authors_names(pd_df)"
   ]
  },
  {
   "cell_type": "code",
   "execution_count": null,
   "metadata": {
    "collapsed": true
   },
   "outputs": [],
   "source": [
    "lower_authors_names(anarchy)"
   ]
  },
  {
   "cell_type": "code",
   "execution_count": null,
   "metadata": {
    "collapsed": true
   },
   "outputs": [],
   "source": [
    "lower_authors_names(auction)"
   ]
  },
  {
   "cell_type": "markdown",
   "metadata": {},
   "source": [
    "Average degree over time\n",
    "-------------------------"
   ]
  },
  {
   "cell_type": "code",
   "execution_count": null,
   "metadata": {
    "collapsed": true
   },
   "outputs": [],
   "source": [
    "def get_average_degree_over_time(df):\n",
    "    years = []\n",
    "    av_degree = []\n",
    "    median_degree = []\n",
    "    for y in df['date'].sort_values().unique():\n",
    "        years.append(y)\n",
    "        temp = df[df['date'].isin(years)]\n",
    "    \n",
    "        pairs = []\n",
    "        for _, d in temp.groupby('unique_key'):\n",
    "            pairs += tuple(sorted(list(itertools.combinations(d['author'].unique(), 2))))\n",
    "            co_authors = collections.Counter(pairs)\n",
    "            \n",
    "        authors_num_papers = temp.groupby(['author', 'unique_key']).size().reset_index().groupby('author').count()\n",
    "        authors_num_papers = authors_num_papers.drop(0, axis=1)\n",
    "        \n",
    "        G = nx.Graph()\n",
    "        for name, w in zip(temp.author, authors_num_papers['unique_key'].values):\n",
    "            G.add_node(name, weight=w) \n",
    "        for pair in co_authors.items():\n",
    "            G.add_edge(*pair[0], weight=pair[1])        \n",
    "        \n",
    "        order, size = G.order(), G.size() \n",
    "        av_degree.append(float( 2 * size / order))\n",
    "        median_degree.append(np.median([d for n, d in G.degree()]))\n",
    "    return years, av_degree, median_degree"
   ]
  },
  {
   "cell_type": "code",
   "execution_count": null,
   "metadata": {},
   "outputs": [],
   "source": [
    "xs_pd, ys, md_pd = get_average_degree_over_time(pd_df)\n",
    "xs_an, zs, md_an = get_average_degree_over_time(anarchy)\n",
    "xd_au, ks, md_au = get_average_degree_over_time(auction)"
   ]
  },
  {
   "cell_type": "code",
   "execution_count": null,
   "metadata": {},
   "outputs": [],
   "source": [
    "fig, axes = plt.subplots(nrows=1, ncols=3, figsize=(20, 4))\n",
    "axes[0].plot(xs_pd, ys, color='darkorange', linewidth=2.5) \n",
    "axes[0].set_title(\"Prisoner's dilemma network\", fontweight='bold')\n",
    "axes[0].set_xlim()\n",
    "\n",
    "axes[1].plot(xs_an, zs,  color='darkred', linewidth=2.5)\n",
    "axes[1].set_title(\"Price of anarchy network\", fontweight='bold')\n",
    "\n",
    "axes[2].plot(xd_au, ks, color='darkgreen', linewidth=2.5)\n",
    "axes[2].set_title(\"Auction games network\", fontweight='bold')\n",
    "\n",
    "fig.text(0.5, 0.02, 'Years', ha='center')\n",
    "fig.text(0.08, 0.5, 'Average degree', va='center', rotation='vertical');\n",
    "\n",
    "plt.savefig('/home/nightwing/rsc/Literature-Article/assets/images/average_degrees_lineplots.pdf', format='pdf', bbox_inches='tight')"
   ]
  },
  {
   "cell_type": "code",
   "execution_count": null,
   "metadata": {},
   "outputs": [],
   "source": [
    "fig, axes = plt.subplots(nrows=1, ncols=3, figsize=(20, 4))\n",
    "axes[0].plot(xs_pd, md_pd, color='darkorange', linewidth=2.5) \n",
    "axes[0].set_title(\"Prisoner's dilemma network\", fontweight='bold')\n",
    "axes[0].set_xlim()\n",
    "\n",
    "axes[1].plot(xs_an, md_an,  color='darkred', linewidth=2.5)\n",
    "axes[1].set_title(\"Price of anarchy network\", fontweight='bold')\n",
    "\n",
    "axes[2].plot(xd_au, md_au, color='darkgreen', linewidth=2.5)\n",
    "axes[2].set_title(\"Auction games network\", fontweight='bold')\n",
    "\n",
    "fig.text(0.5, 0.02, 'Years', ha='center')\n",
    "fig.text(0.08, 0.5, 'Median degree', va='center', rotation='vertical');\n",
    "\n",
    "plt.savefig('/home/nightwing/rsc/Literature-Article/assets/images/median_degrees_lineplots.pdf', format='pdf', bbox_inches='tight')"
   ]
  },
  {
   "cell_type": "markdown",
   "metadata": {},
   "source": [
    "Degree distributions\n",
    "---------------------"
   ]
  },
  {
   "cell_type": "code",
   "execution_count": null,
   "metadata": {},
   "outputs": [],
   "source": [
    "G = nx.read_gml('../data/prisoners_network.gml')\n",
    "Z = nx.read_gml('../data/price_of_anarchy_network.gml')\n",
    "H = nx.read_gml('../data/auction_network.gml')"
   ]
  },
  {
   "cell_type": "code",
   "execution_count": null,
   "metadata": {
    "collapsed": true
   },
   "outputs": [],
   "source": [
    "pd_distribution = sorted([d for n, d in G.degree()], reverse=True)\n",
    "anarchy_distribution = sorted([d for n, d in Z.degree()], reverse=True)\n",
    "auction_distribution = sorted([d for n, d in H.degree()], reverse=True)"
   ]
  },
  {
   "cell_type": "code",
   "execution_count": null,
   "metadata": {},
   "outputs": [],
   "source": [
    "fig, axes = plt.subplots(nrows=1, ncols=3, figsize=(15, 4))\n",
    "axes[0].hist(pd_distribution,  color='darkorange', normed=True);\n",
    "axes[0].set_title(\"Prisoner's dilemma network\", fontweight='bold')\n",
    "\n",
    "axes[1].hist(anarchy_distribution,  color='darkred', normed=True);\n",
    "axes[1].set_title(\"Price of anarchy network\", fontweight='bold')\n",
    "\n",
    "axes[2].hist(auction_distribution, color='darkgreen', normed=True);\n",
    "axes[2].set_title(\"Auction games network\", fontweight='bold')\n",
    "\n",
    "fig.text(0.5, 0.04, 'Degrees', ha='center')\n",
    "fig.text(0.08, 0.5, 'Normalised Frequency', va='center', rotation='vertical');\n",
    "\n",
    "#plt.savefig('/home/nightwing/rsc/Literature-Article/assets/images/degrees_histrograms.pdf', format='pdf', bbox_inches='tight')"
   ]
  },
  {
   "cell_type": "code",
   "execution_count": null,
   "metadata": {
    "collapsed": true
   },
   "outputs": [],
   "source": [
    "from scipy import stats"
   ]
  },
  {
   "cell_type": "code",
   "execution_count": null,
   "metadata": {},
   "outputs": [],
   "source": [
    "stats.mstats.normaltest(pd_distribution)"
   ]
  },
  {
   "cell_type": "code",
   "execution_count": null,
   "metadata": {
    "collapsed": true
   },
   "outputs": [],
   "source": [
    "def test_normality(distribution):\n",
    "    alpha = 0.05\n",
    "    z, p = stats.mstats.normaltest(distribution)\n",
    "\n",
    "    if p < alpha:  # null hypothesis: x comes from a normal distribution\n",
    "        print(\"The null hypothesis can be rejected. It is not normally distributed.\")\n",
    "    else:\n",
    "        print(\"The null hypothesis cannot be rejected. It is normally distributed.\")"
   ]
  },
  {
   "cell_type": "code",
   "execution_count": null,
   "metadata": {
    "collapsed": true
   },
   "outputs": [],
   "source": [
    "def test_medians(distributions):\n",
    "    alpha = 0.05\n",
    "    _, p = stats.kruskal(distributions[0],distributions[1], distributions[2])\n",
    "    \n",
    "    if p < alpha:  # null hypothesis: x comes from a normal distribution\n",
    "        print(p, \"The null hypothesis can be rejected.\")\n",
    "    else:\n",
    "        print(p, \"The null hypothesis cannot be rejected.\")"
   ]
  },
  {
   "cell_type": "code",
   "execution_count": null,
   "metadata": {
    "collapsed": true
   },
   "outputs": [],
   "source": [
    "def test_mannwhitneyu(distributions, alternative):\n",
    "    alpha = 0.05\n",
    "    _, p = stats.mannwhitneyu(distributions[0],distributions[1], alternative=alternative)\n",
    "    \n",
    "    if p < alpha:  # null hypothesis: x comes from a normal distribution\n",
    "        print(p, \"The null hypothesis can be rejected.\")\n",
    "    else:\n",
    "        print(p, \"The null hypothesis cannot be rejected.\")"
   ]
  },
  {
   "cell_type": "code",
   "execution_count": null,
   "metadata": {},
   "outputs": [],
   "source": [
    "test_mannwhitneyu([bc_distributions[0], bc_distributions[1]], 'less')"
   ]
  },
  {
   "cell_type": "code",
   "execution_count": null,
   "metadata": {},
   "outputs": [],
   "source": [
    "test_mannwhitneyu([bc_distributions[0], bc_distributions[2]], 'less')"
   ]
  },
  {
   "cell_type": "code",
   "execution_count": null,
   "metadata": {},
   "outputs": [],
   "source": [
    "test_normality(auction_distribution)"
   ]
  },
  {
   "cell_type": "code",
   "execution_count": null,
   "metadata": {},
   "outputs": [],
   "source": [
    "stats.kruskal(pd_distribution, anarchy_distribution, auction_distribution)"
   ]
  },
  {
   "cell_type": "markdown",
   "metadata": {},
   "source": [
    "Betweenness centrality comparison\n",
    "---------------------------------"
   ]
  },
  {
   "cell_type": "code",
   "execution_count": null,
   "metadata": {},
   "outputs": [],
   "source": [
    "bc_distributions = [list(nx.betweenness_centrality(graph, normalized=True).values()) for graph in [G, Z, H]]"
   ]
  },
  {
   "cell_type": "code",
   "execution_count": null,
   "metadata": {
    "collapsed": true
   },
   "outputs": [],
   "source": [
    "bd_distr"
   ]
  },
  {
   "cell_type": "code",
   "execution_count": null,
   "metadata": {
    "collapsed": true
   },
   "outputs": [],
   "source": [
    "def get_histrograms_for_centrality(distributions, xtitle, filename=None):\n",
    "    fig, axes = plt.subplots(nrows=1, ncols=3, figsize=(25, 5))\n",
    "    axes[0].hist(distributions[0],  color='darkorange', normed=True);\n",
    "    axes[0].set_title(\"Prisoner's dilemma network\", fontweight='bold')\n",
    "\n",
    "    axes[1].hist(distributions[1],  color='darkred', normed=True);\n",
    "    axes[1].set_title(\"Price of anarchy network\", fontweight='bold')\n",
    "\n",
    "    axes[2].hist(distributions[2], color='darkgreen', normed=True);\n",
    "    axes[2].set_title(\"Auction games network\", fontweight='bold')\n",
    "\n",
    "    fig.text(0.5, 0.0, '{}'.format(xtitle), ha='center', fontsize=15)\n",
    "    fig.text(0.08, 0.5, 'Normalised Frequency', va='center', rotation='vertical');\n",
    "    \n",
    "    if filename is not None:\n",
    "        plt.savefig('/home/nightwing/rsc/Literature-Article/assets/images/{}.pdf'.format(filename),\n",
    "                    format='pdf', bbox_inches='tight')"
   ]
  },
  {
   "cell_type": "code",
   "execution_count": null,
   "metadata": {},
   "outputs": [],
   "source": [
    "get_histrograms_for_centrality(bc_distributions, xtitle='Betweenness centrality')"
   ]
  },
  {
   "cell_type": "code",
   "execution_count": null,
   "metadata": {
    "collapsed": true
   },
   "outputs": [],
   "source": []
  },
  {
   "cell_type": "code",
   "execution_count": null,
   "metadata": {},
   "outputs": [],
   "source": [
    "cl_distributions = [list(nx.closeness_centrality(graph).values()) for graph in [G, Z, H]]"
   ]
  },
  {
   "cell_type": "code",
   "execution_count": null,
   "metadata": {},
   "outputs": [],
   "source": [
    "get_histrograms_for_centrality(cl_distributions, xtitle='Closeness centrality')"
   ]
  },
  {
   "cell_type": "code",
   "execution_count": null,
   "metadata": {},
   "outputs": [],
   "source": [
    "for distr in [*cl_distributions, *bc_distributions]:\n",
    "    test_normality(distr)"
   ]
  },
  {
   "cell_type": "code",
   "execution_count": null,
   "metadata": {},
   "outputs": [],
   "source": [
    "for distr in [cl_distributions, bc_distributions]:\n",
    "    test_medians(distr)"
   ]
  },
  {
   "cell_type": "code",
   "execution_count": null,
   "metadata": {
    "collapsed": true
   },
   "outputs": [],
   "source": []
  },
  {
   "cell_type": "code",
   "execution_count": null,
   "metadata": {
    "collapsed": true
   },
   "outputs": [],
   "source": [
    "def get_median_centrality(df):\n",
    "    years = []\n",
    "    median_b_c = []\n",
    "    median_c_c = []\n",
    "    median_p_c = []\n",
    "    for y in df['date'].sort_values().unique():\n",
    "        years.append(y)\n",
    "        temp = df[df['date'].isin(years)]\n",
    "    \n",
    "        pairs = []\n",
    "        for _, d in temp.groupby('unique_key'):\n",
    "            pairs += tuple(sorted(list(itertools.combinations(d['author'].unique(), 2))))\n",
    "            co_authors = collections.Counter(pairs)\n",
    "            \n",
    "        authors_num_papers = temp.groupby(['author', 'unique_key']).size().reset_index().groupby('author').count()\n",
    "        authors_num_papers = authors_num_papers.drop(0, axis=1)\n",
    "        \n",
    "        G = nx.Graph()\n",
    "        for name, w in zip(temp.author, authors_num_papers['unique_key'].values):\n",
    "            G.add_node(name, weight=w) \n",
    "        for pair in co_authors.items():\n",
    "            G.add_edge(*pair[0], weight=pair[1])   \n",
    "        \n",
    "        median_b_c.append(np.median(list(nx.betweenness_centrality(G, weight='weight').values())))\n",
    "        median_c_c.append(np.median(list(nx.closeness_centrality(G).values())))\n",
    "        median_p_c.append(np.median(list(nx.pagerank_numpy(G, weight='weight').values())))\n",
    "    return years, [median_b_c, median_c_c, median_p_c]"
   ]
  },
  {
   "cell_type": "code",
   "execution_count": null,
   "metadata": {
    "collapsed": true
   },
   "outputs": [],
   "source": [
    "xs, ys = get_median_centrality(pd_df)"
   ]
  }
 ],
 "metadata": {
  "anaconda-cloud": {},
  "kernelspec": {
   "display_name": "Python [conda env:literature]",
   "language": "python",
   "name": "conda-env-literature-py"
  },
  "language_info": {
   "codemirror_mode": {
    "name": "ipython",
    "version": 3
   },
   "file_extension": ".py",
   "mimetype": "text/x-python",
   "name": "python",
   "nbconvert_exporter": "python",
   "pygments_lexer": "ipython3",
   "version": "3.6.0"
  }
 },
 "nbformat": 4,
 "nbformat_minor": 2
}
