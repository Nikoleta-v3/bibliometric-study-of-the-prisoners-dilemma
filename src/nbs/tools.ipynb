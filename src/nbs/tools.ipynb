{
 "cells": [
  {
   "cell_type": "code",
   "execution_count": 1,
   "metadata": {
    "collapsed": true
   },
   "outputs": [],
   "source": [
    "import pandas as pd\n",
    "import re\n",
    "import collections\n"
   ]
  },
  {
   "cell_type": "code",
   "execution_count": 5,
   "metadata": {
    "collapsed": true
   },
   "outputs": [],
   "source": [
    "# read in data\n",
    "df = pd.read_json('data.json')"
   ]
  },
  {
   "cell_type": "markdown",
   "metadata": {},
   "source": [
    "# Names of Authors"
   ]
  },
  {
   "cell_type": "code",
   "execution_count": 3,
   "metadata": {
    "collapsed": true
   },
   "outputs": [],
   "source": [
    "def compare(s, t):\n",
    "    return sorted(s) == sorted(t)"
   ]
  },
  {
   "cell_type": "code",
   "execution_count": 14,
   "metadata": {},
   "outputs": [
    {
     "name": "stdout",
     "output_type": "stream",
     "text": [
      "['Marco', 'Alberto', 'Javarone'] ['Marco', 'A', 'Javarone']\n",
      "['Francisco', 'C.', 'Santos'] ['Francisco', 'C', 'Santos']\n",
      "['Martin', 'G.', 'Zimmermann'] ['Martín', 'G.', 'Zimmermann']\n",
      "['Maxi', 'San', 'Miguel'] ['San', 'Miguel', 'M.']\n",
      "['Victor', 'M.', 'Eguluz'] ['Victor', 'M.', 'Eguiluz']\n",
      "['José', 'A.', 'Cuesta'] ['Jose', 'A.', 'Cuesta']\n",
      "['L.', 'R.', 'Fletcher'] ['R.', 'L.', 'Frost']\n",
      "['D.', 'B.', 'Fogel'] ['David', 'B.', 'Fogel']\n",
      "['Lee', 'Alan', 'Dugatkin'] ['Lee', 'A.', 'Dugatkin']\n",
      "['Dugatkin', 'L.', 'A.'] ['Lee', 'A.', 'Dugatkin']\n",
      "['Mark', 'D.', 'White'] ['Mark', 'D', 'White']\n",
      "['Tedeschi', 'James', 'T'] ['Tedeschi', 'James', 'T.']\n",
      "['Tedeschi', 'James', 'T'] ['James', 'T.', 'Tedeschi']\n",
      "['M.', 'Ali', 'Saif'] ['M', 'Ali', 'Saif']\n",
      "['Prashant', 'M.', 'Gade'] ['P.', 'M.', 'Gade']\n",
      "['Tedeschi', 'James', 'T.'] ['Tedeschi', 'James', 'T']\n",
      "['L.', 'M.', 'Floria'] ['Floría', 'L.', 'M.']\n",
      "['L.', 'M.', 'Floria'] ['L.', 'M.', 'Floría']\n",
      "['F.', 'De', 'Vico', 'Fallani'] ['Fabrizio', 'De', 'Vico', 'Fallani']\n",
      "['Jose', 'A.', 'Cuesta'] ['José', 'A.', 'Cuesta']\n",
      "['Floría', 'L.', 'M.'] ['L.', 'M.', 'Floria']\n",
      "['P.', 'J.', 'Darwen'] ['Darwen', 'Paul', 'J.']\n",
      "['M.', 'K.', 'Khan'] ['M.', 'Khalid', 'Khan']\n",
      "['James', 'T.', 'Tedeschi'] ['Tedeschi', 'James', 'T']\n",
      "['L.', 'A.', 'Dugatkin'] ['Lee', 'A.', 'Dugatkin']\n",
      "['Harvey', 'S.', 'JamesJr.'] ['Harvey', 'S.', 'James']\n",
      "['David', 'B.', 'Fogel'] ['D.', 'B.', 'Fogel']\n",
      "['Rubén', 'J.', 'Requejo'] ['Rubén', 'J.', 'Requejo-Martínez']\n",
      "['R.', 'L.', 'Frost'] ['L.', 'R.', 'Fletcher']\n",
      "['L.', 'M.', 'Floría'] ['L.', 'M.', 'Floria']\n",
      "['M', 'Ali', 'Saif'] ['M.', 'Ali', 'Saif']\n",
      "['P.', 'M.', 'Gade'] ['Prashant', 'M.', 'Gade']\n",
      "['Pacheco', 'Jorge', 'M.'] ['Jorge', 'M', 'Pacheco']\n",
      "['Santos', 'Francisco', 'C.'] ['Francisco', 'C', 'Santos']\n",
      "['M.', 'N.', 'Szilagyi'] ['Szilagyi', 'Miklos', 'N.']\n",
      "['Lee', 'A.', 'Dugatkin'] ['Lee', 'Alan', 'Dugatkin']\n",
      "['Lee', 'A.', 'Dugatkin'] ['Dugatkin', 'L.', 'A.']\n",
      "['Lee', 'A.', 'Dugatkin'] ['L.', 'A.', 'Dugatkin']\n",
      "['Jorge', 'M.', 'Pacheco'] ['Jorge', 'M', 'Pacheco']\n",
      "['Atzeni', 'Antonio', 'E'] ['Atzeni', 'Antonio', 'Emanuele']\n",
      "['Atzeni', 'Antonio', 'E'] ['Antonio', 'Emanuele', 'Atzeni']\n",
      "['Marco', 'A', 'Javarone'] ['Marco', 'Alberto', 'Javarone']\n",
      "['E.', 'R.', 'Abraham'] ['Edward', 'R.', 'Abraham']\n",
      "['M.', 'R.', 'Frean'] ['Marcus', 'R.', 'Frean']\n",
      "['Victor', 'M.', 'Eguiluz'] ['Victor', 'M.', 'Eguluz']\n",
      "['San', 'Miguel', 'M.'] ['Maxi', 'San', 'Miguel']\n",
      "['Darwen', 'Paul', 'J.'] ['P.', 'J.', 'Darwen']\n",
      "['Fabrizio', 'De', 'Vico', 'Fallani'] ['F.', 'De', 'Vico', 'Fallani']\n",
      "['Atzeni', 'Antonio', 'Emanuele'] ['Atzeni', 'Antonio', 'E']\n",
      "['M.', 'Khalid', 'Khan'] ['M.', 'K.', 'Khan']\n",
      "['Francisco', 'C', 'Santos'] ['Francisco', 'C.', 'Santos']\n",
      "['Francisco', 'C', 'Santos'] ['Santos', 'Francisco', 'C.']\n",
      "['Jorge', 'M', 'Pacheco'] ['Pacheco', 'Jorge', 'M.']\n",
      "['Jorge', 'M', 'Pacheco'] ['Jorge', 'M.', 'Pacheco']\n",
      "['Antonio', 'Emanuele', 'Atzeni'] ['Atzeni', 'Antonio', 'E']\n",
      "['Szilagyi', 'Miklos', 'N.'] ['M.', 'N.', 'Szilagyi']\n",
      "['Edward', 'R.', 'Abraham'] ['E.', 'R.', 'Abraham']\n",
      "['Marcus', 'R.', 'Frean'] ['M.', 'R.', 'Frean']\n",
      "['Mark', 'D', 'White'] ['Mark', 'D.', 'White']\n",
      "['Martín', 'G.', 'Zimmermann'] ['Martin', 'G.', 'Zimmermann']\n",
      "['Harvey', 'S.', 'James'] ['Harvey', 'S.', 'JamesJr.']\n",
      "['Máté', 'S.', 'Szalay'] ['Mate', 'S.', 'Szalay']\n",
      "['Rubén', 'J.', 'Requejo-Martínez'] ['Rubén', 'J.', 'Requejo']\n",
      "['Mate', 'S.', 'Szalay'] ['Máté', 'S.', 'Szalay']\n"
     ]
    }
   ],
   "source": [
    "# a function to fix the names. When are two names the same? \n",
    "for i in df.author.unique():\n",
    "    for j in df.author.unique():\n",
    "        author1 = i.split()\n",
    "        author2 = j.split()\n",
    "        if compare(author1, author2):\n",
    "            j = i\n",
    "        else:    \n",
    "            author1 = i.split()\n",
    "            author2 = j.split()\n",
    "            au1_init = [i[0] for i in author1]\n",
    "            au2_init = [i[0] for i in author2]\n",
    "            if len(set(author1).intersection(set(author2)))/ len(author1) >= 0.6 and compare(au1_init, au2_init) :\n",
    "                print(author1, author2)"
   ]
  },
  {
   "cell_type": "markdown",
   "metadata": {},
   "source": [
    "# Titles"
   ]
  },
  {
   "cell_type": "code",
   "execution_count": 8,
   "metadata": {
    "collapsed": true
   },
   "outputs": [],
   "source": [
    "group = df.groupby('title')['unique_key'].unique()\n",
    "common_titles = group[group.apply(lambda x: len(x)>1)].index"
   ]
  },
  {
   "cell_type": "code",
   "execution_count": 15,
   "metadata": {},
   "outputs": [
    {
     "data": {
      "text/plain": [
       "Index(['A Strategy with Novel Evolutionary Features for the Iterated Prisoner's Dilemma',\n",
       "       'Adaptive opponent modelling for the iterated prisoner's dilemma',\n",
       "       'Applying fingerprint multilateration to population dynamics in Prisoner's Dilemma simulations',\n",
       "       'Beyond pairwise strategy updating in the prisoner's dilemma game',\n",
       "       'Cooperation in Prisoner's Dilemma on Graphs',\n",
       "       'Cooperation in the Iterated Prisoner's Dilemma Is Learned by Operant Conditioning Mechanisms',\n",
       "       'Cooperation, Norms, and Revolutions: A Unified Game-Theoretical Approach',\n",
       "       'Evolution of Strategies With Different Representation Schemes in a Spatial Iterated Prisoner's Dilemma Game',\n",
       "       'Examination of graphs in Multiple Agent Genetic Networks for Iterated Prisoner's Dilemma',\n",
       "       'Human behavior in Prisoner's Dilemma experiments suppresses network reciprocity',\n",
       "       'Incorporating the Prisoners' Dilemma in Peer-Assessment: An Experimental Study',\n",
       "       'Inter-partner Credible Threat in International Joint Ventures: An Infinitely Repeated Prisoner's Dilemma Model',\n",
       "       'Iterated continuous prisoner's dilemma game and its usefulness in analyzing multi-agent systems',\n",
       "       'Kantian Ethics and the Prisoners' Dilemma',\n",
       "       'Latinos and US Citizenship Today: The “Prisoner's Dilemma” Revisited…',\n",
       "       'Multiagent Reinforcement Learning: Spiking and Nonspiking Agents in the Iterated Prisoner's Dilemma',\n",
       "       'Neural networks and Markov models for the iterated prisoner's dilemma',\n",
       "       'On uniquely implementing cooperation in the prisoners' dilemma',\n",
       "       'Opponent modeling with incremental active learning: A case study of Iterative Prisoner's Dilemma',\n",
       "       'Optimal Strategies of the Iterated Prisoner's Dilemma Problem for Multiple Conflicting Objectives',\n",
       "       'Playing a quantum game on polarization vortices',\n",
       "       'Prisoner's Dilemma in Graphs with Heterogeneous Agents',\n",
       "       'Prisoner’s Dilemma',\n",
       "       'Reinforcement Learning for the N-Persons Iterated Prisoners' Dilemma',\n",
       "       'Spatial Patterns of Prisoner’s Dilemma Game in Metapopulations',\n",
       "       'Survey Article: Cooperate or Defect? Russian and American Students in a Prisoner's Dilemma',\n",
       "       'The Art of War: Beyond Memory-one Strategies in Population Games',\n",
       "       'The Effect of Memory Size on the Evolutionary Stability of Strategies in Iterated Prisoner's Dilemma',\n",
       "       'The Prisoner’s Dilemma',\n",
       "       'The imitating strategy rule about prisoner's dilemma game on lattice',\n",
       "       'The structure of a 3-state finite transducer representation for Prisoner's Dilemma',\n",
       "       'Training Function Stacks to play the Iterated Prisoner's Dilemma',\n",
       "       'Utility Based Q-learning to Maintain Cooperation in Prisoner's Dilemma Games'],\n",
       "      dtype='object', name='title')"
      ]
     },
     "execution_count": 15,
     "metadata": {},
     "output_type": "execute_result"
    }
   ],
   "source": [
    "common_titles"
   ]
  },
  {
   "cell_type": "code",
   "execution_count": 9,
   "metadata": {},
   "outputs": [
    {
     "name": "stdout",
     "output_type": "stream",
     "text": [
      "['IEEE']\n",
      "['IEEE']\n",
      "['IEEE']\n",
      "['Nature' 'arXiv']\n",
      "['IEEE']\n",
      "['IEEE']\n",
      "['PLOS' 'arXiv']\n",
      "['IEEE']\n",
      "['IEEE']\n",
      "['Nature' 'arXiv']\n",
      "['IEEE']\n",
      "['Nature' 'Springer']\n",
      "['IEEE']\n",
      "['Springer' 'Nature']\n",
      "['Nature' 'Springer']\n",
      "['IEEE']\n",
      "['IEEE']\n",
      "['Springer']\n",
      "['IEEE']\n",
      "['IEEE']\n",
      "['arXiv' 'IEEE']\n",
      "['IEEE']\n",
      "['Springer']\n",
      "['IEEE']\n",
      "['Springer']\n",
      "['Springer' 'Nature']\n",
      "['PLOS' 'arXiv']\n",
      "['IEEE']\n",
      "['Springer']\n",
      "['IEEE']\n",
      "['IEEE']\n",
      "['IEEE']\n",
      "['IEEE']\n"
     ]
    }
   ],
   "source": [
    "for title in common_titles:\n",
    "    print(df[df.title == title].provenance.unique())"
   ]
  },
  {
   "cell_type": "code",
   "execution_count": null,
   "metadata": {
    "collapsed": true
   },
   "outputs": [],
   "source": []
  }
 ],
 "metadata": {
  "anaconda-cloud": {},
  "kernelspec": {
   "display_name": "Python [default]",
   "language": "python",
   "name": "python3"
  },
  "language_info": {
   "codemirror_mode": {
    "name": "ipython",
    "version": 3
   },
   "file_extension": ".py",
   "mimetype": "text/x-python",
   "name": "python",
   "nbconvert_exporter": "python",
   "pygments_lexer": "ipython3",
   "version": "3.5.2"
  }
 },
 "nbformat": 4,
 "nbformat_minor": 2
}
