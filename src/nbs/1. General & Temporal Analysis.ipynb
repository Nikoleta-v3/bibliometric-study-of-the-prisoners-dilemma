{
 "cells": [
  {
   "cell_type": "code",
   "execution_count": 4,
   "metadata": {},
   "outputs": [],
   "source": [
    "import pandas as pd\n",
    "import numpy as np"
   ]
  },
  {
   "cell_type": "code",
   "execution_count": 5,
   "metadata": {},
   "outputs": [],
   "source": [
    "from importlib.machinery import SourceFileLoader\n",
    "\n",
    "tools = SourceFileLoader(\"tools\", \"../tools.py\").load_module()\n",
    "\n",
    "from tools import write_to_file"
   ]
  },
  {
   "cell_type": "code",
   "execution_count": 6,
   "metadata": {},
   "outputs": [],
   "source": [
    "import matplotlib\n",
    "import matplotlib.pyplot as plt\n",
    "\n",
    "import matplotlib as mpl\n",
    "mpl.rcParams['legend.numpoints'] = 1\n",
    "\n",
    "%matplotlib inline"
   ]
  },
  {
   "cell_type": "code",
   "execution_count": 7,
   "metadata": {},
   "outputs": [],
   "source": [
    "font = {\"size\": 10, \"weight\": \"bold\"}\n",
    "matplotlib.rc(\"font\", **font)"
   ]
  },
  {
   "cell_type": "markdown",
   "metadata": {},
   "source": [
    "General & Temporial Analysis\n",
    "==================="
   ]
  },
  {
   "cell_type": "code",
   "execution_count": 8,
   "metadata": {},
   "outputs": [],
   "source": [
    "df = pd.read_csv(\"../data/prisoners_dilemma_articles_meta_data.csv\")"
   ]
  },
  {
   "cell_type": "code",
   "execution_count": 9,
   "metadata": {},
   "outputs": [],
   "source": [
    "df = df.replace(\"None\", np.nan)"
   ]
  },
  {
   "cell_type": "markdown",
   "metadata": {},
   "source": [
    "**Total number of articles.**"
   ]
  },
  {
   "cell_type": "code",
   "execution_count": 10,
   "metadata": {},
   "outputs": [],
   "source": [
    "total_articles = len(df[\"title\"].unique())\n"
   ]
  },
  {
   "cell_type": "markdown",
   "metadata": {},
   "source": [
    "**Unique titles**"
   ]
  },
  {
   "cell_type": "code",
   "execution_count": 11,
   "metadata": {},
   "outputs": [
    {
     "data": {
      "text/plain": [
       "(3077, 3155)"
      ]
     },
     "execution_count": 11,
     "metadata": {},
     "output_type": "execute_result"
    }
   ],
   "source": [
    "len(df[\"title\"].unique()), len(df[\"unique_key\"].unique())\n"
   ]
  },
  {
   "cell_type": "markdown",
   "metadata": {},
   "source": [
    "**Numbers of author and year range.**"
   ]
  },
  {
   "cell_type": "code",
   "execution_count": 12,
   "metadata": {},
   "outputs": [],
   "source": [
    "number_of_authors = len(df[\"author\"].unique())\n"
   ]
  },
  {
   "cell_type": "code",
   "execution_count": 13,
   "metadata": {},
   "outputs": [],
   "source": [
    "for data, name in zip(\n",
    "    [total_articles, number_of_authors], [\"total_articles.txt\", \"number_of_authors.txt\"]\n",
    "):\n",
    "    write_to_file(metric=data, filename=name)\n"
   ]
  },
  {
   "cell_type": "markdown",
   "metadata": {},
   "source": [
    "Provenance\n",
    "----------\n",
    "\n",
    "The total number of articles is given above. Here we can illustrate the provenance of these articles.\n",
    "Thus we can see from which journal they have been collected and how many articles have been added by us. The table below shows the number of articles for each provenance."
   ]
  },
  {
   "cell_type": "code",
   "execution_count": 14,
   "metadata": {},
   "outputs": [],
   "source": [
    "provenance_size = (\n",
    "    df.groupby([\"unique_key\", \"provenance\"])\n",
    "    .size()\n",
    "    .reset_index()\n",
    "    .groupby(\"provenance\")\n",
    "    .size()\n",
    ")\n"
   ]
  },
  {
   "cell_type": "code",
   "execution_count": 15,
   "metadata": {},
   "outputs": [],
   "source": [
    "write_to_file(metric=provenance_size[\"Manual\"], filename=\"prov_manual.txt\")\n"
   ]
  },
  {
   "cell_type": "code",
   "execution_count": 16,
   "metadata": {},
   "outputs": [],
   "source": [
    "percentage = provenance_size.apply(lambda x: round(x / total_articles * 100, 2))\n"
   ]
  },
  {
   "cell_type": "code",
   "execution_count": 17,
   "metadata": {},
   "outputs": [],
   "source": [
    "provenance_table = pd.concat([provenance_size, percentage], axis=1)"
   ]
  },
  {
   "cell_type": "code",
   "execution_count": 18,
   "metadata": {},
   "outputs": [],
   "source": [
    "provenance_table = pd.concat([provenance_size, percentage], axis=1)\n",
    "provenance_table.columns = [\"# of Articles\", \"Percentage\"]\n",
    "provenance_table = provenance_table.sort_values(by=\"# of Articles\")\n"
   ]
  },
  {
   "cell_type": "code",
   "execution_count": 19,
   "metadata": {},
   "outputs": [
    {
     "data": {
      "text/html": [
       "<div>\n",
       "<style scoped>\n",
       "    .dataframe tbody tr th:only-of-type {\n",
       "        vertical-align: middle;\n",
       "    }\n",
       "\n",
       "    .dataframe tbody tr th {\n",
       "        vertical-align: top;\n",
       "    }\n",
       "\n",
       "    .dataframe thead th {\n",
       "        text-align: right;\n",
       "    }\n",
       "</style>\n",
       "<table border=\"1\" class=\"dataframe\">\n",
       "  <thead>\n",
       "    <tr style=\"text-align: right;\">\n",
       "      <th></th>\n",
       "      <th># of Articles</th>\n",
       "      <th>Percentage</th>\n",
       "    </tr>\n",
       "    <tr>\n",
       "      <th>provenance</th>\n",
       "      <th></th>\n",
       "      <th></th>\n",
       "    </tr>\n",
       "  </thead>\n",
       "  <tbody>\n",
       "    <tr>\n",
       "      <th>Manual</th>\n",
       "      <td>77</td>\n",
       "      <td>2.50</td>\n",
       "    </tr>\n",
       "    <tr>\n",
       "      <th>IEEE</th>\n",
       "      <td>295</td>\n",
       "      <td>9.59</td>\n",
       "    </tr>\n",
       "    <tr>\n",
       "      <th>PLOS</th>\n",
       "      <td>482</td>\n",
       "      <td>15.66</td>\n",
       "    </tr>\n",
       "    <tr>\n",
       "      <th>Springer</th>\n",
       "      <td>572</td>\n",
       "      <td>18.59</td>\n",
       "    </tr>\n",
       "    <tr>\n",
       "      <th>Nature</th>\n",
       "      <td>673</td>\n",
       "      <td>21.87</td>\n",
       "    </tr>\n",
       "    <tr>\n",
       "      <th>arXiv</th>\n",
       "      <td>1056</td>\n",
       "      <td>34.32</td>\n",
       "    </tr>\n",
       "  </tbody>\n",
       "</table>\n",
       "</div>"
      ],
      "text/plain": [
       "            # of Articles  Percentage\n",
       "provenance                           \n",
       "Manual                 77        2.50\n",
       "IEEE                  295        9.59\n",
       "PLOS                  482       15.66\n",
       "Springer              572       18.59\n",
       "Nature                673       21.87\n",
       "arXiv                1056       34.32"
      ]
     },
     "execution_count": 19,
     "metadata": {},
     "output_type": "execute_result"
    }
   ],
   "source": [
    "provenance_table\n"
   ]
  },
  {
   "cell_type": "code",
   "execution_count": 20,
   "metadata": {},
   "outputs": [
    {
     "data": {
      "text/plain": [
       "'\\\\begin{tabular}{lrr}\\n\\\\toprule\\n{} &  \\\\# of Articles &  Percentage \\\\\\\\\\nprovenance &                &             \\\\\\\\\\n\\\\midrule\\nManual     &             77 &        2.50 \\\\\\\\\\nIEEE       &            295 &        9.59 \\\\\\\\\\nPLOS       &            482 &       15.66 \\\\\\\\\\nSpringer   &            572 &       18.59 \\\\\\\\\\nNature     &            673 &       21.87 \\\\\\\\\\narXiv      &           1056 &       34.32 \\\\\\\\\\n\\\\bottomrule\\n\\\\end{tabular}\\n'"
      ]
     },
     "execution_count": 20,
     "metadata": {},
     "output_type": "execute_result"
    }
   ],
   "source": [
    "provenance_table.to_latex()"
   ]
  },
  {
   "cell_type": "code",
   "execution_count": 21,
   "metadata": {},
   "outputs": [],
   "source": [
    "write_to_file(metric=provenance_table.to_latex().replace(' \\\\\\\\\\n', '\\%\\\\\\\\\\n').replace(' \\%\\\\\\\\\\n', ' \\\\\\\\\\n')\n",
    "              , filename=\"provenance_table.tex\")\n"
   ]
  },
  {
   "cell_type": "markdown",
   "metadata": {
    "collapsed": true
   },
   "source": [
    "Temporal Analysis\n",
    "-----------------"
   ]
  },
  {
   "cell_type": "code",
   "execution_count": 52,
   "metadata": {},
   "outputs": [],
   "source": [
    "colors = [\"midnightblue\", \"darkred\", \"darkgreen\"]\n"
   ]
  },
  {
   "cell_type": "code",
   "execution_count": 53,
   "metadata": {},
   "outputs": [],
   "source": [
    "yearly_provenance = (\n",
    "    df.groupby([\"unique_key\", \"provenance\", \"date\"])\n",
    "    .size()\n",
    "    .reset_index()\n",
    "    .groupby([\"provenance\", \"date\"])\n",
    "    .size()\n",
    ")\n"
   ]
  },
  {
   "cell_type": "code",
   "execution_count": 54,
   "metadata": {},
   "outputs": [],
   "source": [
    "yearly_df = (\n",
    "    df.groupby([\"unique_key\", \"date\"]).size().reset_index().groupby(\"date\").size()\n",
    ")\n"
   ]
  },
  {
   "cell_type": "code",
   "execution_count": 55,
   "metadata": {},
   "outputs": [
    {
     "data": {
      "text/plain": [
       "Text(0.5, 1.0, \"Articles per Year (N = 3077) Prisoner's Dilemma\")"
      ]
     },
     "execution_count": 55,
     "metadata": {},
     "output_type": "execute_result"
    },
    {
     "data": {
      "image/png": "[encoded data removed]",
      "text/plain": [
       "<Figure size 504x360 with 1 Axes>"
      ]
     },
     "metadata": {},
     "output_type": "display_data"
    }
   ],
   "source": [
    "fig = plt.figure(figsize=(7, 5))\n",
    "\n",
    "plt.plot(yearly_df, \"--o\", color=colors[0], zorder=1, linewidth=1)\n",
    "plt.xticks(np.arange(1950, 2018, step=6), rotation=90)\n",
    "\n",
    "plt.ylabel(\"number of articles\")\n",
    "plt.savefig(\"../../assets/images/timeline.pdf\", bbox_inches=\"tight\")\n",
    "plt.title(\"Articles per Year (N = {}) Prisoner's Dilemma\".format(total_articles))\n"
   ]
  },
  {
   "cell_type": "markdown",
   "metadata": {},
   "source": [
    "**Fitting and forecasting**"
   ]
  },
  {
   "cell_type": "code",
   "execution_count": 56,
   "metadata": {},
   "outputs": [],
   "source": [
    "x = range(37)\n",
    "y = yearly_df[1980:2016].values\n"
   ]
  },
  {
   "cell_type": "code",
   "execution_count": 57,
   "metadata": {},
   "outputs": [],
   "source": [
    "from scipy import optimize\n",
    "\n",
    "\n",
    "def func(x, a, b, c):\n",
    "    return a * np.exp(-b * x) + c\n",
    "\n",
    "\n",
    "params, params_covariance = optimize.curve_fit(func, x, y, p0=[0, 0, 0])\n"
   ]
  },
  {
   "cell_type": "code",
   "execution_count": 58,
   "metadata": {},
   "outputs": [
    {
     "data": {
      "image/png": "[encoded data removed]",
      "text/plain": [
       "<Figure size 504x360 with 1 Axes>"
      ]
     },
     "metadata": {},
     "output_type": "display_data"
    }
   ],
   "source": [
    "plt.figure(figsize=(7, 5))\n",
    "plt.scatter(\n",
    "    yearly_df[1980:2016].index,\n",
    "    y,\n",
    "    color=colors[0],\n",
    "    zorder=1,\n",
    "    linewidth=1,\n",
    "    label=\"Included in model\",\n",
    ")\n",
    "plt.plot(\n",
    "    yearly_df[1980:2016].index,\n",
    "    func(x, params[0], params[1], params[2]),\n",
    "    label=r\"fit: $ %5.3f e^{%5.3f x} +%5.3f$\" % tuple(params),\n",
    "    color=\"red\",\n",
    "    zorder=2,\n",
    "    linewidth=3,\n",
    ")\n",
    "plt.scatter(\n",
    "    yearly_df[2017:2018].index,\n",
    "    yearly_df[2017:2018].values,\n",
    "    color=colors[0],\n",
    "    zorder=1,\n",
    "    linewidth=1,\n",
    "    marker=\"*\",\n",
    "    label=\"Not included\",\n",
    ")\n",
    "plt.xticks(rotation=90)\n",
    "plt.legend(loc=\"best\")\n",
    "\n",
    "plt.ylabel(\"number of articles\")\n",
    "plt.savefig(\"../../assets/images/fitting.pdf\", bbox_inches=\"tight\")\n"
   ]
  },
  {
   "cell_type": "code",
   "execution_count": 59,
   "metadata": {},
   "outputs": [],
   "source": [
    "xn = range(37, 42)\n"
   ]
  },
  {
   "cell_type": "code",
   "execution_count": 60,
   "metadata": {},
   "outputs": [],
   "source": [
    "forecasting = [round(func(x_v, *params)) for x_v in xn]\n"
   ]
  },
  {
   "cell_type": "code",
   "execution_count": 61,
   "metadata": {},
   "outputs": [
    {
     "data": {
      "image/png": "[encoded data removed]",
      "text/plain": [
       "<Figure size 504x360 with 1 Axes>"
      ]
     },
     "metadata": {},
     "output_type": "display_data"
    }
   ],
   "source": [
    "plt.figure(figsize=(7, 5))\n",
    "plt.scatter(\n",
    "    yearly_df[1980:2016].index,\n",
    "    y,\n",
    "    color=colors[0],\n",
    "    zorder=1,\n",
    "    linewidth=1,\n",
    "    label=\"Included in model\",\n",
    ")\n",
    "plt.plot(\n",
    "    yearly_df[1980:2016].index,\n",
    "    func(x, params[0], params[1], params[2]),\n",
    "    label=r\"fit: $ %5.3f e^{%5.3f x} +%5.3f$\" % tuple(params),\n",
    "    color=\"red\",\n",
    "    zorder=2,\n",
    "    linewidth=3,\n",
    ")\n",
    "plt.plot(\n",
    "    range(2017, 2022),\n",
    "    forecasting,\n",
    "    label=\"forecasting\",\n",
    "    color=\"green\",\n",
    "    zorder=2,\n",
    "    linewidth=3,\n",
    "    alpha=0.7,\n",
    "    linestyle=\"--\",\n",
    ")\n",
    "plt.scatter(\n",
    "    yearly_df[2017:2018].index,\n",
    "    yearly_df[2017:2018].values,\n",
    "    color=colors[0],\n",
    "    zorder=1,\n",
    "    linewidth=1,\n",
    "    marker=\"*\",\n",
    "    label=\"Not included\",\n",
    ")\n",
    "\n",
    "plt.xticks(rotation=90)\n",
    "\n",
    "plt.legend(loc=\"best\")\n",
    "\n",
    "plt.ylabel(\"number of articles\")\n",
    "plt.savefig(\"../../assets/images/forecasting.pdf\", bbox_inches=\"tight\")\n"
   ]
  },
  {
   "cell_type": "code",
   "execution_count": 62,
   "metadata": {},
   "outputs": [],
   "source": [
    "index = range(2017, 2022)\n",
    "forecasting_table = pd.DataFrame(forecasting, columns=[\"Forecast\"], index=index)\n"
   ]
  },
  {
   "cell_type": "code",
   "execution_count": 63,
   "metadata": {},
   "outputs": [],
   "source": [
    "file = open(\"../../assets/predictions.tex\", \"w\")\n",
    "file.write(\"{}\".format(forecasting_table.to_latex()))\n",
    "file.close()\n"
   ]
  },
  {
   "cell_type": "markdown",
   "metadata": {
    "collapsed": true
   },
   "source": [
    "Av. publication\n",
    "------\n",
    "\n",
    "The rate is calculated as the ratio of number of total articles and the number of years of publication.\n",
    "Thus:\n",
    "    $$ \\text{rate}= \\frac{\\text{number of articles}}{\\text{years of publication}}$$"
   ]
  },
  {
   "cell_type": "code",
   "execution_count": 64,
   "metadata": {},
   "outputs": [
    {
     "data": {
      "text/plain": [
       "49.21875"
      ]
     },
     "execution_count": 64,
     "metadata": {},
     "output_type": "execute_result"
    }
   ],
   "source": [
    "(yearly_df.values.sum() / yearly_df.count())\n"
   ]
  },
  {
   "cell_type": "code",
   "execution_count": 65,
   "metadata": {},
   "outputs": [],
   "source": [
    "rates = [np.round(yearly_df.values.sum() / yearly_df.count())]\n",
    "for api in [\"IEEE\", \"Nature\", \"PLOS\", \"Springer\", \"arXiv\"]:\n",
    "    rates.append(np.round(yearly_provenance[api].values.sum() / yearly_df.count()))\n"
   ]
  },
  {
   "cell_type": "code",
   "execution_count": 66,
   "metadata": {},
   "outputs": [],
   "source": [
    "rates_table = pd.DataFrame(\n",
    "    rates,\n",
    "    [\"Overall\", \"IEEE\", \"Nature\", \"PLOS\", \"Springer\", \"arXiv\"],\n",
    "    columns={\"Average Yearly publication\"},\n",
    ")\n"
   ]
  },
  {
   "cell_type": "code",
   "execution_count": 67,
   "metadata": {},
   "outputs": [
    {
     "data": {
      "text/html": [
       "<div>\n",
       "<style scoped>\n",
       "    .dataframe tbody tr th:only-of-type {\n",
       "        vertical-align: middle;\n",
       "    }\n",
       "\n",
       "    .dataframe tbody tr th {\n",
       "        vertical-align: top;\n",
       "    }\n",
       "\n",
       "    .dataframe thead th {\n",
       "        text-align: right;\n",
       "    }\n",
       "</style>\n",
       "<table border=\"1\" class=\"dataframe\">\n",
       "  <thead>\n",
       "    <tr style=\"text-align: right;\">\n",
       "      <th></th>\n",
       "      <th>Average Yearly publication</th>\n",
       "    </tr>\n",
       "  </thead>\n",
       "  <tbody>\n",
       "    <tr>\n",
       "      <th>IEEE</th>\n",
       "      <td>5.0</td>\n",
       "    </tr>\n",
       "    <tr>\n",
       "      <th>PLOS</th>\n",
       "      <td>8.0</td>\n",
       "    </tr>\n",
       "    <tr>\n",
       "      <th>Springer</th>\n",
       "      <td>9.0</td>\n",
       "    </tr>\n",
       "    <tr>\n",
       "      <th>Nature</th>\n",
       "      <td>11.0</td>\n",
       "    </tr>\n",
       "    <tr>\n",
       "      <th>arXiv</th>\n",
       "      <td>16.0</td>\n",
       "    </tr>\n",
       "    <tr>\n",
       "      <th>Overall</th>\n",
       "      <td>49.0</td>\n",
       "    </tr>\n",
       "  </tbody>\n",
       "</table>\n",
       "</div>"
      ],
      "text/plain": [
       "          Average Yearly publication\n",
       "IEEE                             5.0\n",
       "PLOS                             8.0\n",
       "Springer                         9.0\n",
       "Nature                          11.0\n",
       "arXiv                           16.0\n",
       "Overall                         49.0"
      ]
     },
     "execution_count": 67,
     "metadata": {},
     "output_type": "execute_result"
    }
   ],
   "source": [
    "rates_table = rates_table.sort_values(by=\"Average Yearly publication\")\n",
    "rates_table\n"
   ]
  },
  {
   "cell_type": "code",
   "execution_count": 68,
   "metadata": {},
   "outputs": [],
   "source": [
    "write_to_file(metric=rates_table.to_latex(), filename=\"rates_table.tex\")\n"
   ]
  },
  {
   "cell_type": "markdown",
   "metadata": {},
   "source": [
    "Comparison Table\n",
    "----------------"
   ]
  },
  {
   "cell_type": "code",
   "execution_count": 69,
   "metadata": {},
   "outputs": [],
   "source": [
    "auction_df = pd.read_csv(\"../data/auction_theory_articles_meta_data.csv\")\n",
    "anarchy_df = pd.read_csv(\"../data/price_of_anarchy_articles_meta_data.csv\")\n"
   ]
  },
  {
   "cell_type": "code",
   "execution_count": 70,
   "metadata": {},
   "outputs": [],
   "source": [
    "general_data = []\n",
    "for data in [df, auction_df, anarchy_df]:\n",
    "    total_size = len(data[\"title\"].unique())\n",
    "    num_authors = len(data[\"author\"].unique())\n",
    "\n",
    "    provenance = (\n",
    "        data.groupby([\"unique_key\", \"provenance\"])\n",
    "        .size()\n",
    "        .reset_index()\n",
    "        .groupby(\"provenance\")\n",
    "        .size()\n",
    "    )\n",
    "    provenance_percent = provenance.apply(lambda x: round(x / total_size * 100, 2))\n",
    "\n",
    "    yearly = (\n",
    "        data.groupby([\"unique_key\", \"date\"]).size().reset_index().groupby(\"date\").size()\n",
    "    )\n",
    "    av_publications = np.round(yearly.values.sum() / yearly.count())\n",
    "\n",
    "    general_data.append(\n",
    "        (\n",
    "            total_size,\n",
    "            num_authors,\n",
    "            provenance_percent.index,\n",
    "            provenance_percent.values,\n",
    "            av_publications,\n",
    "        )\n",
    "    )\n"
   ]
  },
  {
   "cell_type": "code",
   "execution_count": 71,
   "metadata": {},
   "outputs": [],
   "source": [
    "provenance_for_table = [\n",
    "    {key: value for key, value in zip(general_data[i][2], general_data[i][3])}\n",
    "    for i in range(3)\n",
    "]\n"
   ]
  },
  {
   "cell_type": "code",
   "execution_count": 72,
   "metadata": {},
   "outputs": [
    {
     "data": {
      "text/plain": [
       "[{'IEEE': 9.59,\n",
       "  'Manual': 2.5,\n",
       "  'Nature': 21.87,\n",
       "  'PLOS': 15.66,\n",
       "  'Springer': 18.59,\n",
       "  'arXiv': 34.32},\n",
       " {'IEEE': 7.46, 'Nature': 5.89, 'Springer': 37.63, 'arXiv': 51.36},\n",
       " {'IEEE': 30.61,\n",
       "  'Manual': 0.13,\n",
       "  'Nature': 24.73,\n",
       "  'PLOS': 1.74,\n",
       "  'Springer': 37.97,\n",
       "  'arXiv': 8.82}]"
      ]
     },
     "execution_count": 72,
     "metadata": {},
     "output_type": "execute_result"
    }
   ],
   "source": [
    "provenance_for_table\n"
   ]
  },
  {
   "cell_type": "code",
   "execution_count": 73,
   "metadata": {},
   "outputs": [],
   "source": [
    "frame = {\n",
    "    \"Num. Articles\": [general_data[i][0] for i in range(3)],\n",
    "    \"Num. Authors\": [general_data[i][1] for i in range(3)],\n",
    "    r\"Nature (%)\": [topic[\"Nature\"] for topic in provenance_for_table],\n",
    "    r\"IEEE (%)\": [topic[\"IEEE\"] for topic in provenance_for_table],\n",
    "    r\"Springer (%)\": [topic[\"Springer\"] for topic in provenance_for_table],\n",
    "    r\"arXiv (%)\": [topic[\"arXiv\"] for topic in provenance_for_table],\n",
    "    r\"PLOS (%)\": [\n",
    "        provenance_for_table[0][\"PLOS\"],\n",
    "        \"-\",\n",
    "        provenance_for_table[2][\"PLOS\"],\n",
    "    ],\n",
    "    r\"Manual (%)\": [\n",
    "        provenance_for_table[0][\"Manual\"],\n",
    "        \"-\",\n",
    "        provenance_for_table[-1][\"Manual\"],\n",
    "    ],\n",
    "    \"Av. Yearly Publication\": [general_data[i][-1] for i in range(3)],\n",
    "}\n"
   ]
  },
  {
   "cell_type": "code",
   "execution_count": 74,
   "metadata": {},
   "outputs": [],
   "source": [
    "table = pd.DataFrame.from_dict(frame)\n",
    "table.index = [\"Prisoner's Dilemma\", \"Auction Games\", \"Price of Anarchy\"]\n"
   ]
  },
  {
   "cell_type": "code",
   "execution_count": 75,
   "metadata": {},
   "outputs": [],
   "source": [
    "columnsTitles = [\n",
    "    \"Num. Articles\",\n",
    "    \"Num. Authors\",\n",
    "    r\"Manual (%)\",\n",
    "    r\"PLOS (%)\",\n",
    "    r\"Nature (%)\",\n",
    "    r\"Springer (%)\",\n",
    "    r\"IEEE (%)\",\n",
    "    r\"arXiv (%)\",\n",
    "    \"Av. Yearly Publication\",\n",
    "]\n",
    "\n",
    "table = table.reindex(columns=columnsTitles)\n"
   ]
  },
  {
   "cell_type": "code",
   "execution_count": 76,
   "metadata": {},
   "outputs": [
    {
     "data": {
      "text/html": [
       "<div>\n",
       "<style scoped>\n",
       "    .dataframe tbody tr th:only-of-type {\n",
       "        vertical-align: middle;\n",
       "    }\n",
       "\n",
       "    .dataframe tbody tr th {\n",
       "        vertical-align: top;\n",
       "    }\n",
       "\n",
       "    .dataframe thead th {\n",
       "        text-align: right;\n",
       "    }\n",
       "</style>\n",
       "<table border=\"1\" class=\"dataframe\">\n",
       "  <thead>\n",
       "    <tr style=\"text-align: right;\">\n",
       "      <th></th>\n",
       "      <th>Num. Articles</th>\n",
       "      <th>Num. Authors</th>\n",
       "      <th>Manual (%)</th>\n",
       "      <th>PLOS (%)</th>\n",
       "      <th>Nature (%)</th>\n",
       "      <th>Springer (%)</th>\n",
       "      <th>IEEE (%)</th>\n",
       "      <th>arXiv (%)</th>\n",
       "      <th>Av. Yearly Publication</th>\n",
       "    </tr>\n",
       "  </thead>\n",
       "  <tbody>\n",
       "    <tr>\n",
       "      <th>Prisoner's Dilemma</th>\n",
       "      <td>3077</td>\n",
       "      <td>5772</td>\n",
       "      <td>2.5</td>\n",
       "      <td>15.66</td>\n",
       "      <td>21.87</td>\n",
       "      <td>18.59</td>\n",
       "      <td>9.59</td>\n",
       "      <td>34.32</td>\n",
       "      <td>49.0</td>\n",
       "    </tr>\n",
       "    <tr>\n",
       "      <th>Auction Games</th>\n",
       "      <td>3444</td>\n",
       "      <td>5362</td>\n",
       "      <td>-</td>\n",
       "      <td>-</td>\n",
       "      <td>5.89</td>\n",
       "      <td>37.63</td>\n",
       "      <td>7.46</td>\n",
       "      <td>51.36</td>\n",
       "      <td>93.0</td>\n",
       "    </tr>\n",
       "    <tr>\n",
       "      <th>Price of Anarchy</th>\n",
       "      <td>748</td>\n",
       "      <td>1316</td>\n",
       "      <td>0.13</td>\n",
       "      <td>1.74</td>\n",
       "      <td>24.73</td>\n",
       "      <td>37.97</td>\n",
       "      <td>30.61</td>\n",
       "      <td>8.82</td>\n",
       "      <td>39.0</td>\n",
       "    </tr>\n",
       "  </tbody>\n",
       "</table>\n",
       "</div>"
      ],
      "text/plain": [
       "                    Num. Articles  Num. Authors Manual (%) PLOS (%)  \\\n",
       "Prisoner's Dilemma           3077          5772        2.5    15.66   \n",
       "Auction Games                3444          5362          -        -   \n",
       "Price of Anarchy              748          1316       0.13     1.74   \n",
       "\n",
       "                    Nature (%)  Springer (%)  IEEE (%)  arXiv (%)  \\\n",
       "Prisoner's Dilemma       21.87         18.59      9.59      34.32   \n",
       "Auction Games             5.89         37.63      7.46      51.36   \n",
       "Price of Anarchy         24.73         37.97     30.61       8.82   \n",
       "\n",
       "                    Av. Yearly Publication  \n",
       "Prisoner's Dilemma                    49.0  \n",
       "Auction Games                         93.0  \n",
       "Price of Anarchy                      39.0  "
      ]
     },
     "execution_count": 76,
     "metadata": {},
     "output_type": "execute_result"
    }
   ],
   "source": [
    "table\n"
   ]
  },
  {
   "cell_type": "code",
   "execution_count": 77,
   "metadata": {},
   "outputs": [],
   "source": [
    "write_to_file(metric=table.to_latex(), filename=\"prelimanary_comparison.tex\")\n"
   ]
  },
  {
   "cell_type": "code",
   "execution_count": 78,
   "metadata": {},
   "outputs": [
    {
     "data": {
      "image/png": "[encoded data removed]",
      "text/plain": [
       "<Figure size 432x288 with 1 Axes>"
      ]
     },
     "metadata": {},
     "output_type": "display_data"
    },
    {
     "data": {
      "image/png": "[encoded data removed]",
      "text/plain": [
       "<Figure size 432x288 with 1 Axes>"
      ]
     },
     "metadata": {},
     "output_type": "display_data"
    }
   ],
   "source": [
    "i = 1\n",
    "for data, label in zip([anarchy_df, auction_df], [\"Price_of_Anarchy\", \"Auction_Games\"]):\n",
    "    total = len(data[\"unique_key\"].unique())\n",
    "\n",
    "    yearly = (\n",
    "        data.groupby([\"unique_key\", \"date\"]).size().reset_index().groupby(\"date\").size()\n",
    "    )\n",
    "\n",
    "    fig = plt.figure()\n",
    "\n",
    "    plt.plot(yearly.index, yearly.values, \"--o\", color=colors[i], zorder=1, linewidth=1)\n",
    "    plt.xticks(np.arange(min(yearly.index), 2018, step=4), rotation=90)\n",
    "\n",
    "    plt.ylabel(\"number of articles\")\n",
    "    plt.title(\"Articles per Year (N = {}) {}\".format(total, label))\n",
    "    plt.savefig(\"../../assets/images/{}.pdf\".format(label), bbox_inches=\"tight\")\n",
    "    i += 1\n"
   ]
  }
 ],
 "metadata": {
  "anaconda-cloud": {},
  "kernelspec": {
   "display_name": "Python 3",
   "language": "python",
   "name": "python3"
  },
  "language_info": {
   "codemirror_mode": {
    "name": "ipython",
    "version": 3
   },
   "file_extension": ".py",
   "mimetype": "text/x-python",
   "name": "python",
   "nbconvert_exporter": "python",
   "pygments_lexer": "ipython3",
   "version": "3.6.8"
  }
 },
 "nbformat": 4,
 "nbformat_minor": 1
}
