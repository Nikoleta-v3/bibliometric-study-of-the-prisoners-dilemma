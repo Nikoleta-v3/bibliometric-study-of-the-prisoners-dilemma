{
 "cells": [
  {
   "cell_type": "markdown",
   "metadata": {},
   "source": [
    "General & Temporial Analysis\n",
    "===================\n",
    "\n",
    "This is a series of notebooks used on my research of the literature review on the iterated prisoner's dilemma.\n",
    "\n",
    "This section follows a circumstantial review of the prisoner's dilemma timeline\n",
    "conducted by the authors. The section focuses on the analysis of the \n",
    "prisoner's dilemma timeline using a large dataset of prisoner's dilemma articles'\n",
    "metadata.\n",
    "\n",
    "Using various machine learning techniques the number and topics that have been\n",
    "researched over the years within the field are discussed. Moreover, we \n",
    "explore the connections of the authors that have work on the game using\n",
    "network theory."
   ]
  },
  {
   "cell_type": "code",
   "execution_count": 7,
   "metadata": {},
   "outputs": [],
   "source": [
    "import pandas as pd\n",
    "import numpy as np"
   ]
  },
  {
   "cell_type": "code",
   "execution_count": 8,
   "metadata": {},
   "outputs": [],
   "source": [
    "df = pd.read_json('../data/pd_November_2018_clean.json')"
   ]
  },
  {
   "cell_type": "markdown",
   "metadata": {},
   "source": [
    "**Total number of articles.**"
   ]
  },
  {
   "cell_type": "code",
   "execution_count": 9,
   "metadata": {},
   "outputs": [
    {
     "data": {
      "text/plain": [
       "3052"
      ]
     },
     "execution_count": 9,
     "metadata": {},
     "output_type": "execute_result"
    }
   ],
   "source": [
    "total_articles = len(df['unique_key'].unique())\n",
    "total_articles"
   ]
  },
  {
   "cell_type": "code",
   "execution_count": 10,
   "metadata": {},
   "outputs": [],
   "source": [
    "file = open(\"../../assets/total_articles.txt\", 'w')\n",
    "file.write('{}'.format(total_articles))\n",
    "file.close()"
   ]
  },
  {
   "cell_type": "code",
   "execution_count": 11,
   "metadata": {},
   "outputs": [],
   "source": [
    "df = df.replace('None', np.nan)"
   ]
  },
  {
   "cell_type": "markdown",
   "metadata": {},
   "source": [
    "**Unique titles**"
   ]
  },
  {
   "cell_type": "code",
   "execution_count": 12,
   "metadata": {},
   "outputs": [
    {
     "data": {
      "text/plain": [
       "(2975, 3052)"
      ]
     },
     "execution_count": 12,
     "metadata": {},
     "output_type": "execute_result"
    }
   ],
   "source": [
    "len(df['title'].unique()), len(df['unique_key'].unique())"
   ]
  },
  {
   "cell_type": "markdown",
   "metadata": {},
   "source": [
    "**Numbers of author and year range.**"
   ]
  },
  {
   "cell_type": "code",
   "execution_count": 13,
   "metadata": {},
   "outputs": [
    {
     "data": {
      "text/plain": [
       "4918"
      ]
     },
     "execution_count": 13,
     "metadata": {},
     "output_type": "execute_result"
    }
   ],
   "source": [
    "number_of_authors = len(df['author'].unique())\n",
    "number_of_authors"
   ]
  },
  {
   "cell_type": "code",
   "execution_count": 14,
   "metadata": {},
   "outputs": [],
   "source": [
    "file = open(\"../../assets/number_of_authors.txt\", 'w')\n",
    "file.write('{}'.format(number_of_authors))\n",
    "file.close()"
   ]
  },
  {
   "cell_type": "markdown",
   "metadata": {},
   "source": [
    "Provenance\n",
    "----------\n",
    "\n",
    "The total number of articles is given above. Here we can illustrate the provenance of these articles.\n",
    "Thus we can see from which journal they have been collected and how many articles have been added by us. The table below shows the number of articles for each provenance."
   ]
  },
  {
   "cell_type": "code",
   "execution_count": 53,
   "metadata": {},
   "outputs": [],
   "source": [
    "provenance_size = df.groupby(['unique_key', 'provenance']).size().reset_index().groupby('provenance').size()"
   ]
  },
  {
   "cell_type": "code",
   "execution_count": 54,
   "metadata": {},
   "outputs": [],
   "source": [
    "file = open(\"../../assets/prov_manual.txt\", 'w')\n",
    "file.write('{}'.format(provenance_size ['Manual']))\n",
    "file.close()"
   ]
  },
  {
   "cell_type": "code",
   "execution_count": 58,
   "metadata": {},
   "outputs": [
    {
     "data": {
      "text/plain": [
       "provenance\n",
       "IEEE         295\n",
       "Manual        89\n",
       "Nature       673\n",
       "PLOS         482\n",
       "Springer     458\n",
       "arXiv       1055\n",
       "dtype: int64"
      ]
     },
     "execution_count": 58,
     "metadata": {},
     "output_type": "execute_result"
    }
   ],
   "source": [
    "provenance_size"
   ]
  },
  {
   "cell_type": "code",
   "execution_count": 59,
   "metadata": {},
   "outputs": [
    {
     "data": {
      "text/plain": [
       "provenance\n",
       "IEEE         9.67\n",
       "Manual       2.92\n",
       "Nature      22.05\n",
       "PLOS        15.79\n",
       "Springer    15.01\n",
       "arXiv       34.57\n",
       "dtype: float64"
      ]
     },
     "execution_count": 59,
     "metadata": {},
     "output_type": "execute_result"
    }
   ],
   "source": [
    "percentage = provenance_size.apply(lambda x: round(x / total_articles * 100, 2))\n",
    "percentage"
   ]
  },
  {
   "cell_type": "code",
   "execution_count": 69,
   "metadata": {},
   "outputs": [],
   "source": [
    "provenance_table = pd.concat([provenance_size, percentage], axis=1)\n",
    "provenance_table.columns = ['# of Articles', 'Percentage']"
   ]
  },
  {
   "cell_type": "code",
   "execution_count": 71,
   "metadata": {},
   "outputs": [
    {
     "data": {
      "text/html": [
       "<div>\n",
       "<style scoped>\n",
       "    .dataframe tbody tr th:only-of-type {\n",
       "        vertical-align: middle;\n",
       "    }\n",
       "\n",
       "    .dataframe tbody tr th {\n",
       "        vertical-align: top;\n",
       "    }\n",
       "\n",
       "    .dataframe thead th {\n",
       "        text-align: right;\n",
       "    }\n",
       "</style>\n",
       "<table border=\"1\" class=\"dataframe\">\n",
       "  <thead>\n",
       "    <tr style=\"text-align: right;\">\n",
       "      <th></th>\n",
       "      <th># of Articles</th>\n",
       "      <th>Percentage</th>\n",
       "    </tr>\n",
       "    <tr>\n",
       "      <th>provenance</th>\n",
       "      <th></th>\n",
       "      <th></th>\n",
       "    </tr>\n",
       "  </thead>\n",
       "  <tbody>\n",
       "    <tr>\n",
       "      <th>Manual</th>\n",
       "      <td>89</td>\n",
       "      <td>2.92</td>\n",
       "    </tr>\n",
       "    <tr>\n",
       "      <th>IEEE</th>\n",
       "      <td>295</td>\n",
       "      <td>9.67</td>\n",
       "    </tr>\n",
       "    <tr>\n",
       "      <th>Springer</th>\n",
       "      <td>458</td>\n",
       "      <td>15.01</td>\n",
       "    </tr>\n",
       "    <tr>\n",
       "      <th>PLOS</th>\n",
       "      <td>482</td>\n",
       "      <td>15.79</td>\n",
       "    </tr>\n",
       "    <tr>\n",
       "      <th>Nature</th>\n",
       "      <td>673</td>\n",
       "      <td>22.05</td>\n",
       "    </tr>\n",
       "    <tr>\n",
       "      <th>arXiv</th>\n",
       "      <td>1055</td>\n",
       "      <td>34.57</td>\n",
       "    </tr>\n",
       "  </tbody>\n",
       "</table>\n",
       "</div>"
      ],
      "text/plain": [
       "            # of Articles  Percentage\n",
       "provenance                           \n",
       "Manual                 89        2.92\n",
       "IEEE                  295        9.67\n",
       "Springer              458       15.01\n",
       "PLOS                  482       15.79\n",
       "Nature                673       22.05\n",
       "arXiv                1055       34.57"
      ]
     },
     "execution_count": 71,
     "metadata": {},
     "output_type": "execute_result"
    }
   ],
   "source": [
    "provenance_table = provenance_table.sort_values(by='# of Articles')\n",
    "provenance_table"
   ]
  },
  {
   "cell_type": "code",
   "execution_count": 72,
   "metadata": {},
   "outputs": [],
   "source": [
    "file = open(\"../../assets/provenance_table.tex\", 'w')\n",
    "file.write('{}'.format(provenance_table.to_latex()))\n",
    "file.close()"
   ]
  },
  {
   "cell_type": "markdown",
   "metadata": {
    "collapsed": true
   },
   "source": [
    "Temporal Analysis\n",
    "-----------------"
   ]
  },
  {
   "cell_type": "markdown",
   "metadata": {},
   "source": [
    "In the general analysis section we looked at the number of articles collected from each journal and wheather they have been added manually.\n",
    "\n",
    "In Figure Provenance the number of articles collected per year and per API are illustrated. Springer seems to have a continuous contribution on the data set from 1996 up to 2016. The total number of articles collected from Springer per year do not exceed 30. On the other hand, IEEE and arXiv, where both have a significant contribution to the data set, seem to have articles on the IPD only after the 2000s. Finally, both Nature and PLOS with a small significant contribution appear after the 2010s."
   ]
  },
  {
   "cell_type": "code",
   "execution_count": 73,
   "metadata": {},
   "outputs": [],
   "source": [
    "#df = pd.read_json('../data/data_dec_2017_clean.json')"
   ]
  },
  {
   "cell_type": "code",
   "execution_count": 22,
   "metadata": {},
   "outputs": [],
   "source": [
    "import matplotlib\n",
    "import matplotlib.pyplot as plt\n",
    "\n",
    "import matplotlib as mpl\n",
    "mpl.rcParams['legend.numpoints'] = 1\n",
    "\n",
    "%matplotlib inline"
   ]
  },
  {
   "cell_type": "code",
   "execution_count": 23,
   "metadata": {},
   "outputs": [],
   "source": [
    "font = {'size'   : 10,\n",
    "        'weight': 'bold'}\n",
    "matplotlib.rc('font', **font)"
   ]
  },
  {
   "cell_type": "code",
   "execution_count": 24,
   "metadata": {},
   "outputs": [],
   "source": [
    "yearly_provenance = df.groupby(['unique_key','provenance', 'date']).size().reset_index().groupby(['provenance', 'date']).size()"
   ]
  },
  {
   "cell_type": "code",
   "execution_count": 25,
   "metadata": {},
   "outputs": [],
   "source": [
    "yearly_df = df.groupby(['unique_key', 'date']).size().reset_index().groupby('date').size()"
   ]
  },
  {
   "cell_type": "code",
   "execution_count": 26,
   "metadata": {},
   "outputs": [],
   "source": [
    "colors = list(matplotlib.cm.plasma(np.linspace(0, 1, 6)))\n",
    "linestyles = [':', '--', '-', '--', '-', '--']"
   ]
  },
  {
   "cell_type": "code",
   "execution_count": 27,
   "metadata": {},
   "outputs": [
    {
     "data": {
      "image/png": "[encoded data removed]",
      "text/plain": [
       "<matplotlib.figure.Figure at 0x7f5e81ccb198>"
      ]
     },
     "metadata": {},
     "output_type": "display_data"
    }
   ],
   "source": [
    "fig = plt.figure()\n",
    "\n",
    "plt.plot(yearly_df, color=colors[4], zorder=1, linewidth=3);\n",
    "plt.xticks(np.arange(1950, 2018, step=6), rotation=90);\n",
    "\n",
    "plt.ylabel('number of articles');\n",
    "plt.savefig(\"../../assets/images/timeline.pdf\", bbox_inches='tight')\n",
    "plt.title(\"Articles per Year (N = {}) Prisoner's Dilemma\".format(total_articles));"
   ]
  },
  {
   "cell_type": "code",
   "execution_count": 28,
   "metadata": {},
   "outputs": [],
   "source": [
    "x = range(37)\n",
    "y = yearly_df[1980:2016].values"
   ]
  },
  {
   "cell_type": "code",
   "execution_count": 29,
   "metadata": {},
   "outputs": [],
   "source": [
    "from scipy import optimize\n",
    "\n",
    "def func(x, a, b, c):\n",
    "    return a * np.exp(-b * x) + c\n",
    "\n",
    "params, params_covariance = optimize.curve_fit(func, x, y, p0=[0, 0, 0])"
   ]
  },
  {
   "cell_type": "code",
   "execution_count": 30,
   "metadata": {},
   "outputs": [
    {
     "data": {
      "image/png": "[encoded data removed]",
      "text/plain": [
       "<matplotlib.figure.Figure at 0x7f5e81de4f60>"
      ]
     },
     "metadata": {},
     "output_type": "display_data"
    }
   ],
   "source": [
    "plt.figure(figsize=(6, 4))\n",
    "plt.scatter(yearly_df[1980:2016].index, y, color=colors[4], zorder=1, linewidth=1, label='Included in model')\n",
    "plt.plot(yearly_df[1980:2016].index, func(x, params[0], params[1], params[2]),\n",
    "         label=r'fit: $ %5.3f e^{%5.3f x} +%5.3f$' % tuple(params), color=colors[3], zorder=2, linewidth=3)\n",
    "plt.scatter(yearly_df[2017:2018].index, yearly_df[2017:2018].values, color=colors[4], zorder=1,\n",
    "            linewidth=1, marker='*', label='Not included')\n",
    "plt.xticks(rotation=90);\n",
    "plt.legend(loc='best')\n",
    "\n",
    "plt.ylabel('number of articles');\n",
    "plt.savefig(\"../../assets/images/fitting.pdf\", bbox_inches='tight')"
   ]
  },
  {
   "cell_type": "code",
   "execution_count": 31,
   "metadata": {},
   "outputs": [],
   "source": [
    "xn = range(37, 42)"
   ]
  },
  {
   "cell_type": "code",
   "execution_count": 32,
   "metadata": {},
   "outputs": [],
   "source": [
    "forecasting = [round(func(x_v, *params)) for x_v in xn]"
   ]
  },
  {
   "cell_type": "code",
   "execution_count": 33,
   "metadata": {},
   "outputs": [
    {
     "data": {
      "image/png": "[encoded data removed]",
      "text/plain": [
       "<matplotlib.figure.Figure at 0x7f5e81dd3cc0>"
      ]
     },
     "metadata": {},
     "output_type": "display_data"
    }
   ],
   "source": [
    "plt.figure(figsize=(6, 4))\n",
    "plt.scatter(yearly_df[1980:2016].index, y, color=colors[4], zorder=1, linewidth=1, label='Included in model')\n",
    "plt.plot(yearly_df[1980:2016].index, func(x, params[0], params[1], params[2]),\n",
    "         label=r'fit: $ %5.3f e^{%5.3f x} +%5.3f$' % tuple(params), color=colors[3], zorder=2, linewidth=3)\n",
    "plt.plot(range(2017, 2022), forecasting, label= 'forecasting', color=colors[1], zorder=2,\n",
    "         linewidth=3, alpha=0.7, linestyle='--')\n",
    "plt.scatter(yearly_df[2017:2018].index, yearly_df[2017:2018].values, color=colors[4], zorder=1,\n",
    "            linewidth=1, marker='*', label='Not included')\n",
    "\n",
    "plt.xticks(rotation=90);\n",
    "\n",
    "plt.legend(loc='best')\n",
    "\n",
    "plt.ylabel('number of articles');\n",
    "plt.savefig(\"../../assets/images/forecasting.pdf\", bbox_inches='tight')"
   ]
  },
  {
   "cell_type": "code",
   "execution_count": 34,
   "metadata": {},
   "outputs": [],
   "source": [
    "index = range(2017, 2022)\n",
    "forecasting_table = pd.DataFrame(forecasting, columns=['Forecast'], index=index)"
   ]
  },
  {
   "cell_type": "code",
   "execution_count": 35,
   "metadata": {},
   "outputs": [],
   "source": [
    "file = open(\"../../assets/predictions.tex\", 'w')\n",
    "file.write('{}'.format(forecasting_table.to_latex()))\n",
    "file.close()"
   ]
  },
  {
   "cell_type": "markdown",
   "metadata": {
    "collapsed": true
   },
   "source": [
    "Av. publication\n",
    "------\n",
    "\n",
    "The rate is calculated as the ratio of number of total articles and the number of years of publication.\n",
    "Thus:\n",
    "    $$ \\text{rate}= \\frac{\\text{number of articles}}{\\text{years of publication}}$$"
   ]
  },
  {
   "cell_type": "code",
   "execution_count": 36,
   "metadata": {},
   "outputs": [
    {
     "data": {
      "text/plain": [
       "46.166666666666664"
      ]
     },
     "execution_count": 36,
     "metadata": {},
     "output_type": "execute_result"
    }
   ],
   "source": [
    "(yearly_df.values.sum() / yearly_df.count())"
   ]
  },
  {
   "cell_type": "code",
   "execution_count": 37,
   "metadata": {},
   "outputs": [],
   "source": [
    "rates = [np.round(yearly_df.values.sum() / yearly_df.count())]\n",
    "for api in ['IEEE', 'Nature', 'PLOS', 'Springer', 'arXiv']:\n",
    "    rates.append(np.round(yearly_provenance[api].values.sum() / yearly_df.count()))"
   ]
  },
  {
   "cell_type": "code",
   "execution_count": 38,
   "metadata": {},
   "outputs": [],
   "source": [
    "rates_table = pd.DataFrame(rates, ['Overall', 'IEEE', 'Nature', 'PLOS', 'Springer', 'arXiv'], \n",
    "                           columns={'Av. publication'})"
   ]
  },
  {
   "cell_type": "code",
   "execution_count": 39,
   "metadata": {},
   "outputs": [],
   "source": [
    "rates_table = rates_table.sort_values(by='Av. publication')"
   ]
  },
  {
   "cell_type": "code",
   "execution_count": 40,
   "metadata": {},
   "outputs": [],
   "source": [
    "file = open(\"../../assets/rates_table.tex\", 'w')\n",
    "file.write('{}'.format(rates_table.to_latex()))\n",
    "file.close()"
   ]
  },
  {
   "cell_type": "markdown",
   "metadata": {},
   "source": [
    "Comparison Table\n",
    "----------------"
   ]
  },
  {
   "cell_type": "code",
   "execution_count": 41,
   "metadata": {},
   "outputs": [],
   "source": [
    "anarchy_df = pd.read_json('../data/anarchy_November_2018_clean.json')"
   ]
  },
  {
   "cell_type": "code",
   "execution_count": 42,
   "metadata": {},
   "outputs": [],
   "source": [
    "auction_df = pd.read_json('../data/auction_November_2018_clean.json')"
   ]
  },
  {
   "cell_type": "code",
   "execution_count": 43,
   "metadata": {},
   "outputs": [],
   "source": [
    "general_data = []\n",
    "for data in [df, anarchy_df, auction_df]:\n",
    "    total_size = len(data['title'].unique())\n",
    "    authors = len(data['author'].unique())\n",
    "    provenance = data.groupby(['unique_key', 'provenance']).size().reset_index().groupby('provenance').size()\n",
    "    provenance = provenance.apply(lambda x: round(x / total_size * 100, 2))\n",
    "    \n",
    "    yearly = data.groupby(['unique_key', 'date']).size().reset_index().groupby('date').size()\n",
    "    rate = np.round(yearly.values.sum() / yearly.count())\n",
    "    \n",
    "    general_data.append((total_size, authors, provenance.index, provenance.values, rate))"
   ]
  },
  {
   "cell_type": "code",
   "execution_count": 101,
   "metadata": {},
   "outputs": [],
   "source": [
    "provenance_for_table = [{key: value for key, value in  zip(general_data[i][2], general_data[i][3])}\n",
    "                         for i in range(3)]"
   ]
  },
  {
   "cell_type": "code",
   "execution_count": 114,
   "metadata": {},
   "outputs": [],
   "source": [
    "frame = {'Num. Articles': [general_data[i][0] for i in range(3)],\n",
    "         'Num. Authors': [general_data[i][1] for i in range(3)],\n",
    "         r'Nature (\\%)': [topic['Nature'] for topic in provenance_for_table],\n",
    "         r'IEEE (\\%)': [topic['IEEE'] for topic in provenance_for_table],\n",
    "         r'Springer (\\%)': [topic['Springer'] for topic in provenance_for_table],\n",
    "         r'arXiv (\\%)': [topic['arXiv'] for topic in provenance_for_table],\n",
    "         r'PLOS (\\%)': [provenance_for_table[0]['PLOS'], provenance_for_table[1]['PLOS'], '-'],\n",
    "         r'Manual (\\%)': [provenance_for_table[0]['Manual'], '-', '-'],\n",
    "         'Av. Publication': [general_data[i][0] for i in range(3)]}"
   ]
  },
  {
   "cell_type": "code",
   "execution_count": 110,
   "metadata": {},
   "outputs": [],
   "source": [
    "table = pd.DataFrame.from_dict(frame, orient='index')\n",
    "table.columns= [\"Prisoner's Dilemma\", \"Price of Anarchy\", \"Auction Games\"]"
   ]
  },
  {
   "cell_type": "code",
   "execution_count": 112,
   "metadata": {},
   "outputs": [],
   "source": [
    "file = open(\"../../assets/prelimanary_comparison.tex\", 'w')\n",
    "file.write('{}'.format(table.to_latex()))\n",
    "file.close()"
   ]
  },
  {
   "cell_type": "code",
   "execution_count": 40,
   "metadata": {},
   "outputs": [
    {
     "data": {
      "image/png": "[encoded data removed]",
      "text/plain": [
       "<matplotlib.figure.Figure at 0x7f012faa49e8>"
      ]
     },
     "metadata": {},
     "output_type": "display_data"
    },
    {
     "data": {
      "image/png": "[encoded data removed]",
      "text/plain": [
       "<matplotlib.figure.Figure at 0x7f012faf39e8>"
      ]
     },
     "metadata": {},
     "output_type": "display_data"
    }
   ],
   "source": [
    "for data, label in zip([anarchy_df, auction_df], ['Price of Anarchy', 'Auction Games']):\n",
    "    total = len(data['unique_key'].unique())\n",
    "    \n",
    "    yearly = data.groupby(['unique_key', 'date']).size().reset_index().groupby('date').size()\n",
    "\n",
    "    fig = plt.figure()\n",
    "\n",
    "    plt.plot(yearly.index, yearly.values, color=colors[4], zorder=1, linewidth=3);\n",
    "    # plt.xticks(np.arange(1950, 2018, step=6), rotation=90);\n",
    "\n",
    "    plt.ylabel('number of articles')\n",
    "    plt.title(\"Articles per Year (N = {}) {}\".format(total, label))\n",
    "    plt.savefig(\"../../assets/images/{}.pdf\".format(label), bbox_inches='tight')\n",
    "    "
   ]
  },
  {
   "cell_type": "code",
   "execution_count": 41,
   "metadata": {},
   "outputs": [
    {
     "data": {
      "text/plain": [
       "(1963.0, 1974.0)"
      ]
     },
     "execution_count": 41,
     "metadata": {},
     "output_type": "execute_result"
    }
   ],
   "source": [
    "min(anarchy_df.date.unique()), min(auction_df.date.unique())"
   ]
  },
  {
   "cell_type": "code",
   "execution_count": 42,
   "metadata": {},
   "outputs": [
    {
     "data": {
      "image/png": "[encoded data removed]",
      "text/plain": [
       "<matplotlib.figure.Figure at 0x7f012fb44550>"
      ]
     },
     "metadata": {},
     "output_type": "display_data"
    },
    {
     "data": {
      "image/png": "[encoded data removed]",
      "text/plain": [
       "<matplotlib.figure.Figure at 0x7f012faa2898>"
      ]
     },
     "metadata": {},
     "output_type": "display_data"
    }
   ],
   "source": [
    "for data in [anarchy_df, auction_df]:\n",
    "    yearly = data.groupby(['unique_key', 'date']).size().reset_index().groupby('date').size()\n",
    "\n",
    "    fig = plt.figure()\n",
    "\n",
    "    plt.scatter(yearly[1980:].index, yearly[1980:].values, color=colors[4], zorder=1, linewidth=3);\n",
    "    # plt.xticks(np.arange(1950, 2018, step=6), rotation=90);\n",
    "\n",
    "    plt.ylabel('number of articles');"
   ]
  },
  {
   "cell_type": "code",
   "execution_count": 44,
   "metadata": {},
   "outputs": [],
   "source": [
    "# for data in [anarchy_df, auction_df]:\n",
    "#     yearly = data.groupby(['unique_key', 'date']).size().reset_index().groupby('date').size()\n",
    "    \n",
    "#     y = yearly.values[:2016]\n",
    "#     x = range(len(yearly[:2016].index))\n",
    "    \n",
    "#     params, params_covariance = optimize.curve_fit(func, x, y, p0=[0, 0, 0.1])\n",
    "    \n",
    "#     plt.figure(figsize=(6, 4))\n",
    "    \n",
    "#     plt.scatter(yearly[:2016].index, y, color=colors[4], zorder=1, linewidth=1, label='Included in model')\n",
    "#     plt.plot(yearly[:2016].index, func(x, params[0], params[1], params[2]),\n",
    "#              label=r'fit: $ %5.3f e^{%5.3f x} +%5.3f$' % tuple(params), color=colors[3], zorder=2, linewidth=3)\n",
    "#     plt.scatter(yearly[2017:2018].index, yearly[2017:2018].values, color=colors[4], zorder=1,\n",
    "#                 linewidth=1, marker='*', label='Not included')\n",
    "#     plt.xticks(rotation=90);\n",
    "#     plt.legend(loc='best')\n",
    "\n",
    "#     plt.ylabel('number of articles');"
   ]
  },
  {
   "cell_type": "code",
   "execution_count": null,
   "metadata": {},
   "outputs": [],
   "source": []
  }
 ],
 "metadata": {
  "anaconda-cloud": {},
  "kernelspec": {
   "display_name": "Python 3",
   "language": "python",
   "name": "python3"
  },
  "language_info": {
   "codemirror_mode": {
    "name": "ipython",
    "version": 3
   },
   "file_extension": ".py",
   "mimetype": "text/x-python",
   "name": "python",
   "nbconvert_exporter": "python",
   "pygments_lexer": "ipython3",
   "version": "3.6.4"
  }
 },
 "nbformat": 4,
 "nbformat_minor": 1
}
