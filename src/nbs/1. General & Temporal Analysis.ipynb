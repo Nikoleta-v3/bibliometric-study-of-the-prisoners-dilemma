{
 "cells": [
  {
   "cell_type": "markdown",
   "metadata": {},
   "source": [
    "General & Temporial Analysis\n",
    "===================\n",
    "\n",
    "This is a series of notebooks used on my research of the literature review on the iterated prisoner's dilemma.\n",
    "\n",
    "This section follows a circumstantial review of the prisoner's dilemma timeline\n",
    "conducted by the authors. The section focuses on the analysis of the \n",
    "prisoner's dilemma timeline using a large dataset of prisoner's dilemma articles'\n",
    "metadata.\n",
    "\n",
    "Using various machine learning techniques the number and topics that have been\n",
    "researched over the years within the field are discussed. Moreover, we \n",
    "explore the connections of the authors that have work on the game using\n",
    "network theory.\n",
    "\n",
    "\n",
    "Data collection\n",
    "-----------------\n",
    "\n",
    "Academic articles are accessible through scholarly databases and collections of\n",
    "journals. Several databases and collections today offer access through an open \n",
    "Api. An Api is an application protocol interface that allows users to talk\n",
    "directly the database, skipping the user interface side of a journal.\n",
    "Interacting with the Api has two phases:\n",
    "\n",
    "\n",
    "- requesting;\n",
    "- receiving;\n",
    "\n",
    "\n",
    "The requesting phase includes composing a url with the requesting message.\n",
    "The head of the url includes the address of the Api and the tail the search \n",
    "argument, such as the word 'prisoner' to exists within the title. The address \n",
    "of the Api and the search arguments themselves differ from journal to journal, \n",
    "thus different journals can generate complete different requesting urls. \n",
    "\n",
    "The second phase of the receiving includes receiving a number of raw metadata of\n",
    "articles that satisfied the request. The answer is commonly received in an xml\n",
    "format but similarly the number of features and the syntax of the xml file \n",
    "differs from journal to journal.\n",
    "\n",
    "Data collection is a crucial proceeder. We wanted to include a large number of\n",
    "articles from various journal for the analysis to be objective. Moreover, we \n",
    "wanted the data to be collected within a short period of time. For these reasons\n",
    "an open source library was developed for the purpose of this work. The library\n",
    "is called Arcas and though the package it self will not be analysed here the \n",
    "source code can be found here, https://github.com/Nikoleta-v3/Arcas. \n",
    "\n",
    "Arcas serves as a translator between us and various Apis. More specifically it\n",
    "works in coordinate with five different journal. For Arcas to collect data a series\n",
    "of keywords had to be specified. Each keyword individually is checked weather\n",
    "it exists within the title or the abstract of an article. Only if this check is\n",
    "satisfied an article is collected."
   ]
  },
  {
   "cell_type": "code",
   "execution_count": 1,
   "metadata": {
    "collapsed": true
   },
   "outputs": [],
   "source": [
    "import pandas as pd\n",
    "import numpy as np"
   ]
  },
  {
   "cell_type": "markdown",
   "metadata": {},
   "source": [
    "The open source python library [pandas](http://pandas.pydata.org/) will be used through out this article for the analysis."
   ]
  },
  {
   "cell_type": "code",
   "execution_count": 2,
   "metadata": {
    "collapsed": true
   },
   "outputs": [],
   "source": [
    "df = pd.read_json('../data/data_nov_2017.json')"
   ]
  },
  {
   "cell_type": "code",
   "execution_count": 17,
   "metadata": {},
   "outputs": [
    {
     "name": "stdout",
     "output_type": "stream",
     "text": [
      "<class 'pandas.core.frame.DataFrame'>\n",
      "Int64Index: 10987 entries, 0 to 9999\n",
      "Data columns (total 14 columns):\n",
      "abstract           10987 non-null object\n",
      "author             10987 non-null object\n",
      "date               10987 non-null int64\n",
      "journal            10987 non-null object\n",
      "key                10987 non-null object\n",
      "key_word           10987 non-null object\n",
      "labels             10987 non-null object\n",
      "list_strategies    10987 non-null object\n",
      "pages              10987 non-null object\n",
      "provenance         10987 non-null object\n",
      "read               10987 non-null object\n",
      "score              10987 non-null object\n",
      "title              10987 non-null object\n",
      "unique_key         10987 non-null object\n",
      "dtypes: int64(1), object(13)\n",
      "memory usage: 1.3+ MB\n"
     ]
    }
   ],
   "source": [
    "df.info()"
   ]
  },
  {
   "cell_type": "markdown",
   "metadata": {},
   "source": [
    "Pandas info function shows us the information of the data set itself. \n",
    "\n",
    "We can see that the sata set contains the following columns:\n",
    "- Abstract. The abstract of the article.\n",
    "- Author. A single entity of an author from the list of authors of the respective article.\n",
    "- Date. Date of publication.\n",
    "- Journal. Journal of publication. \n",
    "- Key. A generated key containing an authors name and publication year (ex. Glynatsi2017).                \n",
    "- Key_word. A signle entity of a keyword assigned to the article by the given journal.\n",
    "- Labels. A single entity of labels assigned to the article manual by us.                 \n",
    "- Pages. Pages of publication.              \n",
    "- Provenance. Scholarly database for where the article was collected.                 \n",
    "- Score. Score given to article by the given journal.              \n",
    "- Title. Title of article.              \n",
    "- Unique key.  A unique key generated using the [hashlib python library](https://docs.python.org/2/library/hashlib.html). The hashable string is created by: [author name, title, year,abstract]\n",
    "\n",
    "\n",
    "The data set also contains the columns `list of strategies` and `read` but they are droped for this analysis."
   ]
  },
  {
   "cell_type": "code",
   "execution_count": 38,
   "metadata": {
    "collapsed": true
   },
   "outputs": [],
   "source": [
    "df = df.drop(['read', 'list_strategies'], 1)"
   ]
  },
  {
   "cell_type": "code",
   "execution_count": 39,
   "metadata": {},
   "outputs": [
    {
     "data": {
      "text/html": [
       "<div>\n",
       "<table border=\"1\" class=\"dataframe\">\n",
       "  <thead>\n",
       "    <tr style=\"text-align: right;\">\n",
       "      <th></th>\n",
       "      <th>date</th>\n",
       "    </tr>\n",
       "  </thead>\n",
       "  <tbody>\n",
       "    <tr>\n",
       "      <th>count</th>\n",
       "      <td>10943.00000</td>\n",
       "    </tr>\n",
       "    <tr>\n",
       "      <th>mean</th>\n",
       "      <td>2009.69798</td>\n",
       "    </tr>\n",
       "    <tr>\n",
       "      <th>std</th>\n",
       "      <td>5.96320</td>\n",
       "    </tr>\n",
       "    <tr>\n",
       "      <th>min</th>\n",
       "      <td>1944.00000</td>\n",
       "    </tr>\n",
       "    <tr>\n",
       "      <th>25%</th>\n",
       "      <td>2007.00000</td>\n",
       "    </tr>\n",
       "    <tr>\n",
       "      <th>50%</th>\n",
       "      <td>2010.00000</td>\n",
       "    </tr>\n",
       "    <tr>\n",
       "      <th>75%</th>\n",
       "      <td>2013.00000</td>\n",
       "    </tr>\n",
       "    <tr>\n",
       "      <th>max</th>\n",
       "      <td>2017.00000</td>\n",
       "    </tr>\n",
       "  </tbody>\n",
       "</table>\n",
       "</div>"
      ],
      "text/plain": [
       "              date\n",
       "count  10943.00000\n",
       "mean    2009.69798\n",
       "std        5.96320\n",
       "min     1944.00000\n",
       "25%     2007.00000\n",
       "50%     2010.00000\n",
       "75%     2013.00000\n",
       "max     2017.00000"
      ]
     },
     "execution_count": 39,
     "metadata": {},
     "output_type": "execute_result"
    }
   ],
   "source": [
    "df.describe()"
   ]
  },
  {
   "cell_type": "markdown",
   "metadata": {},
   "source": [
    "Using the describe function of pandas we can see that there are in total 10990 rows of data\n",
    "in our data set. Only date is displayed because is the only integer value in the data set. \n",
    "The min year is 1944 and the max 2017. "
   ]
  },
  {
   "cell_type": "markdown",
   "metadata": {},
   "source": [
    "**Total number of articles.**"
   ]
  },
  {
   "cell_type": "code",
   "execution_count": 40,
   "metadata": {},
   "outputs": [
    {
     "data": {
      "text/plain": [
       "1143"
      ]
     },
     "execution_count": 40,
     "metadata": {},
     "output_type": "execute_result"
    }
   ],
   "source": [
    "total_articles = len(df['unique_key'].unique())\n",
    "total_articles"
   ]
  },
  {
   "cell_type": "code",
   "execution_count": 41,
   "metadata": {
    "collapsed": true
   },
   "outputs": [],
   "source": [
    "file = open(\"/home/nightwing/rsc/Literature-Article/assets/total_articles.txt\", 'w')\n",
    "file.write('{}'.format(total_articles))\n",
    "file.close()"
   ]
  },
  {
   "cell_type": "markdown",
   "metadata": {},
   "source": [
    "There are in total 1152 articles within the data set."
   ]
  },
  {
   "cell_type": "code",
   "execution_count": 42,
   "metadata": {
    "collapsed": true
   },
   "outputs": [],
   "source": [
    "df = df.replace('None', np.nan)"
   ]
  },
  {
   "cell_type": "markdown",
   "metadata": {},
   "source": [
    "**Unique titles**"
   ]
  },
  {
   "cell_type": "code",
   "execution_count": 23,
   "metadata": {},
   "outputs": [
    {
     "data": {
      "text/plain": [
       "(1144, 1150)"
      ]
     },
     "execution_count": 23,
     "metadata": {},
     "output_type": "execute_result"
    }
   ],
   "source": [
    "len(df['title'].unique()), len(df['unique_key'].unique())"
   ]
  },
  {
   "cell_type": "code",
   "execution_count": 24,
   "metadata": {
    "collapsed": true
   },
   "outputs": [],
   "source": [
    "unique_titles = len(df['title'].unique())"
   ]
  },
  {
   "cell_type": "code",
   "execution_count": 25,
   "metadata": {
    "collapsed": true
   },
   "outputs": [],
   "source": [
    "file = open(\"/home/nightwing/rsc/Literature-Article/assets/unique_titles.txt\", 'w')\n",
    "file.write('{}'.format(unique_titles + 1))\n",
    "file.close()"
   ]
  },
  {
   "cell_type": "code",
   "execution_count": 26,
   "metadata": {},
   "outputs": [
    {
     "data": {
      "text/plain": [
       "5"
      ]
     },
     "execution_count": 26,
     "metadata": {},
     "output_type": "execute_result"
    }
   ],
   "source": [
    "number_of_duplicates = total_articles - (unique_titles + 1)\n",
    "number_of_duplicates"
   ]
  },
  {
   "cell_type": "code",
   "execution_count": 27,
   "metadata": {
    "collapsed": true
   },
   "outputs": [],
   "source": [
    "file = open(\"/home/nightwing/rsc/Literature-Article/assets/number_of_duplicates.txt\", 'w')\n",
    "file.write('{}'.format(number_of_duplicates))\n",
    "file.close()"
   ]
  },
  {
   "cell_type": "markdown",
   "metadata": {},
   "source": [
    "**Numbers of author and year range.**"
   ]
  },
  {
   "cell_type": "code",
   "execution_count": 34,
   "metadata": {},
   "outputs": [
    {
     "data": {
      "text/plain": [
       "2101"
      ]
     },
     "execution_count": 34,
     "metadata": {},
     "output_type": "execute_result"
    }
   ],
   "source": [
    "number_of_authors = len(df['author'].unique())\n",
    "number_of_authors"
   ]
  },
  {
   "cell_type": "code",
   "execution_count": 35,
   "metadata": {
    "collapsed": true
   },
   "outputs": [],
   "source": [
    "file = open(\"/home/nightwing/rsc/Literature-Article/assets/number_of_authors.txt\", 'w')\n",
    "file.write('{}'.format(number_of_authors))\n",
    "file.close()"
   ]
  },
  {
   "cell_type": "markdown",
   "metadata": {},
   "source": [
    "Provenance\n",
    "----------\n",
    "\n",
    "The total number of articles is given above. Here we can illustrate the provenance of these articles.\n",
    "Thus we can see from which journal they have been collected and how many articles have been added by us. The table below shows the number of articles for each provenance."
   ]
  },
  {
   "cell_type": "code",
   "execution_count": 43,
   "metadata": {
    "collapsed": true
   },
   "outputs": [],
   "source": [
    "provenance_size = df.groupby(['unique_key', 'provenance']).size().reset_index().groupby('provenance').size()"
   ]
  },
  {
   "cell_type": "code",
   "execution_count": 44,
   "metadata": {
    "collapsed": true
   },
   "outputs": [],
   "source": [
    "file = open(\"/home/nightwing/rsc/Literature-Article/assets/prov_maual.txt\", 'w')\n",
    "file.write('{}'.format(provenance_size ['Manual']))\n",
    "file.close()"
   ]
  },
  {
   "cell_type": "code",
   "execution_count": 45,
   "metadata": {
    "collapsed": true
   },
   "outputs": [],
   "source": [
    "provenance_table = pd.DataFrame(provenance_size, columns=['Number of articles'])"
   ]
  },
  {
   "cell_type": "code",
   "execution_count": 46,
   "metadata": {
    "collapsed": true
   },
   "outputs": [],
   "source": [
    "provenance_table.index.names = ['Provenance']"
   ]
  },
  {
   "cell_type": "code",
   "execution_count": 47,
   "metadata": {},
   "outputs": [
    {
     "data": {
      "text/html": [
       "<div>\n",
       "<table border=\"1\" class=\"dataframe\">\n",
       "  <thead>\n",
       "    <tr style=\"text-align: right;\">\n",
       "      <th></th>\n",
       "      <th>Number of articles</th>\n",
       "    </tr>\n",
       "    <tr>\n",
       "      <th>Provenance</th>\n",
       "      <th></th>\n",
       "    </tr>\n",
       "  </thead>\n",
       "  <tbody>\n",
       "    <tr>\n",
       "      <th>IEEE</th>\n",
       "      <td>241</td>\n",
       "    </tr>\n",
       "    <tr>\n",
       "      <th>Manual</th>\n",
       "      <td>41</td>\n",
       "    </tr>\n",
       "    <tr>\n",
       "      <th>Nature</th>\n",
       "      <td>23</td>\n",
       "    </tr>\n",
       "    <tr>\n",
       "      <th>PLOS</th>\n",
       "      <td>63</td>\n",
       "    </tr>\n",
       "    <tr>\n",
       "      <th>Springer</th>\n",
       "      <td>310</td>\n",
       "    </tr>\n",
       "    <tr>\n",
       "      <th>arXiv</th>\n",
       "      <td>465</td>\n",
       "    </tr>\n",
       "  </tbody>\n",
       "</table>\n",
       "</div>"
      ],
      "text/plain": [
       "            Number of articles\n",
       "Provenance                    \n",
       "IEEE                       241\n",
       "Manual                      41\n",
       "Nature                      23\n",
       "PLOS                        63\n",
       "Springer                   310\n",
       "arXiv                      465"
      ]
     },
     "execution_count": 47,
     "metadata": {},
     "output_type": "execute_result"
    }
   ],
   "source": [
    "provenance_table"
   ]
  },
  {
   "cell_type": "code",
   "execution_count": 48,
   "metadata": {
    "collapsed": true
   },
   "outputs": [],
   "source": [
    "file = open(\"/home/nightwing/rsc/Literature-Article/assets/provenance_table.tex\", 'w')\n",
    "file.write('{}'.format(provenance_table.to_latex()))\n",
    "file.close()"
   ]
  },
  {
   "cell_type": "markdown",
   "metadata": {},
   "source": [
    "As mentioned before not all results from each API have the same format and same information. For example keywords our only given by IEEE and nature. Furthermore not all journals had full information for specific articles. \n",
    "\n",
    "Here we will look at the percentage of coverage of each column"
   ]
  },
  {
   "cell_type": "code",
   "execution_count": 22,
   "metadata": {},
   "outputs": [
    {
     "name": "stdout",
     "output_type": "stream",
     "text": [
      "abstract : 97.39\n",
      "author : 100.0\n",
      "date : 100.0\n",
      "journal : 99.48\n",
      "key : 100.0\n",
      "key_word : 21.65\n",
      "labels : 11.57\n",
      "pages : 24.52\n",
      "provenance : 100.0\n",
      "score : 6.35\n",
      "title : 100.0\n",
      "unique_key : 100.0\n"
     ]
    }
   ],
   "source": [
    "temp = df.drop_duplicates('unique_key')\n",
    "for col in df.columns:\n",
    "    \n",
    "    perc = len(temp[col].dropna()) / len(temp) \n",
    "    perc *= 100\n",
    "    print(col, \":\", round(perc, 2))"
   ]
  },
  {
   "cell_type": "markdown",
   "metadata": {
    "collapsed": true
   },
   "source": [
    "Temporal Analysis\n",
    "-----------------"
   ]
  },
  {
   "cell_type": "markdown",
   "metadata": {},
   "source": [
    "In the general analysis section we looked at the number of articles collected from each journal and wheather they have been added manually.\n",
    "\n",
    "In Figure Provenance the number of articles collected per year and per API are illustrated. Springer seems to have a continuous contribution on the data set from 1996 up to 2016. The total number of articles collected from Springer per year do not exceed 30. On the other hand, IEEE and arXiv, where both have a significant contribution to the data set, seem to have articles on the IPD only after the 2000s. Finally, both Nature and PLOS with a small significant contribution appear after the 2010s."
   ]
  },
  {
   "cell_type": "code",
   "execution_count": 2,
   "metadata": {
    "collapsed": true
   },
   "outputs": [],
   "source": [
    "df = pd.read_json('../data/data_dec_2017_clean.json')"
   ]
  },
  {
   "cell_type": "code",
   "execution_count": 6,
   "metadata": {
    "collapsed": true
   },
   "outputs": [],
   "source": [
    "import matplotlib\n",
    "import matplotlib.pyplot as plt\n",
    "\n",
    "import matplotlib as mpl\n",
    "mpl.rcParams['legend.numpoints'] = 1\n",
    "\n",
    "%matplotlib inline"
   ]
  },
  {
   "cell_type": "code",
   "execution_count": 4,
   "metadata": {
    "collapsed": true
   },
   "outputs": [],
   "source": [
    "font = {'size'   : 10,\n",
    "        'weight': 'bold'}\n",
    "matplotlib.rc('font', **font)"
   ]
  },
  {
   "cell_type": "code",
   "execution_count": 7,
   "metadata": {
    "collapsed": true
   },
   "outputs": [],
   "source": [
    "yearly_provenance = df.groupby(['unique_key','provenance', 'date']).size().reset_index().groupby(['provenance', 'date']).size()"
   ]
  },
  {
   "cell_type": "code",
   "execution_count": 8,
   "metadata": {
    "collapsed": true
   },
   "outputs": [],
   "source": [
    "yearly_df = df.groupby(['unique_key', 'date']).size().reset_index().groupby('date').size()"
   ]
  },
  {
   "cell_type": "code",
   "execution_count": 9,
   "metadata": {
    "collapsed": true
   },
   "outputs": [],
   "source": [
    "colors = list(matplotlib.cm.plasma(np.linspace(0, 1, 6)))\n",
    "linestyles = [':', '--', '-', '--', '-', '--']"
   ]
  },
  {
   "cell_type": "code",
   "execution_count": 29,
   "metadata": {},
   "outputs": [
    {
     "data": {
      "image/png": "[encoded data removed]",
      "text/plain": [
       "<matplotlib.figure.Figure at 0x7fc2ec525f28>"
      ]
     },
     "metadata": {},
     "output_type": "display_data"
    }
   ],
   "source": [
    "fig = plt.figure(figsize=(15, 7))\n",
    "\n",
    "plt.title('Provenance of ${}$ articles.'.format(total_articles), fontsize=30)\n",
    "plt.ylabel('Number of records', fontsize=20); plt.ylim([0, 65]); plt.yticks(fontsize=20)\n",
    "plt.xticks(fontsize=20); plt.xlim(1966,2016)\n",
    "    \n",
    "plt.plot(yearly_provenance['IEEE'], linestyle=linestyles[0], \n",
    "         label=\"IEEE\", linewidth=3, c=colors[0])\n",
    "plt.plot(yearly_provenance['Nature'], linestyle=linestyles[1],\n",
    "         label=\"Nature\", linewidth=3, c=colors[1])\n",
    "plt.plot(yearly_provenance['Springer'],\n",
    "         label=\"Springer\", linewidth=3, linestyle=linestyles[2], c=colors[2])\n",
    "plt.plot(yearly_provenance['arXiv'], linestyle=linestyles[4],\n",
    "         label=\"arXiv\", linewidth=3, c=colors[3])\n",
    "plt.plot(yearly_provenance['PLOS'], linestyle=linestyles[5],\n",
    "         label=\"PLOS\", linewidth=3, c=colors[4])\n",
    "\n",
    "plt.legend(loc=2, borderaxespad=1, fontsize=20)\n",
    "plt.savefig(\"/home/nightwing/rsc/Literature-Article/assets/images/provenance.pdf\", bbox_inches='tight')"
   ]
  },
  {
   "cell_type": "code",
   "execution_count": 56,
   "metadata": {
    "collapsed": true
   },
   "outputs": [],
   "source": [
    "label = []\n",
    "for y in range(min(yearly_df.index), max(yearly_df.index + 1)):\n",
    "    if y%10 == 0:\n",
    "        label.append(y)\n",
    "    else:\n",
    "        label.append(None)"
   ]
  },
  {
   "cell_type": "code",
   "execution_count": 65,
   "metadata": {},
   "outputs": [
    {
     "data": {
      "image/png": "[encoded data removed]",
      "text/plain": [
       "<matplotlib.figure.Figure at 0x7f5dd54b92e8>"
      ]
     },
     "metadata": {},
     "output_type": "display_data"
    }
   ],
   "source": [
    "fig, ax = plt.subplots(figsize=(10, 5))\n",
    "\n",
    "plt.title('Articles per Year ($N={}$)'.format(total_articles), fontweight='bold');plt.ylabel('Number of records', fontweight='bold')\n",
    "ax.plot(yearly_df, color='slategray', zorder=1, linewidth=2.5)\n",
    "plt.xticks(fontsize=10); plt.yticks(fontsize=8)\n",
    "\n",
    "colors = iter(matplotlib.cm.viridis(np.linspace(0, 1, 15)))\n",
    "milestones = [1950, 1961, 1981, 1984, 1987, 1995, 2012, 2015]\n",
    "labels = ['Origin', \"Early years\", \"Axelrod's tournaments\", \n",
    "          \"Response to the computer tournaments\", \"Evolutionary dynamics\", \n",
    "          \"Modern approaches\", \"Zero determinant\", \"Contemporary period\"]\n",
    "height = [yearly_df[yearly_df.index == y].values for y in milestones]\n",
    "\n",
    "height = [yearly_df[yearly_df.index == y].values for y in milestones]\n",
    "\n",
    "for i, m in enumerate(milestones):\n",
    "    h = yearly_df[yearly_df.index == m].values\n",
    "#     c = next(colors)\n",
    "    ax.scatter(m, (h + 2), marker=\"${}$\".format(i), s=100, zorder=2, label=labels[i]);\n",
    "    #ax.annotate(i, color=c, xy=(m, h), fontsize=100, fontweight='bold', zorder=2)\n",
    "\n",
    "x = yearly_df.index\n",
    "y = yearly_df.values\n",
    "\n",
    "ax.set_yticks(np.arange(min(y) - 1, max(y)+1, 20.0))\n",
    "ax.set_xticks(np.arange(min(x), max(x)+1, 2.0))\n",
    "ax.set_ylim(ymin=-2)\n",
    "ax.set_xlim(xmin=1949, xmax=2017)\n",
    "plt.xticks(rotation=90)\n",
    "\n",
    "plt.tight_layout()\n",
    "plt.legend(bbox_to_anchor=(1.01, 1), loc=2, borderaxespad=0., scatterpoints=1);\n",
    "plt.savefig(\"/home/nightwing/rsc/Literature-Article/assets/images/timeline.pdf\",\n",
    "           format='pdf', bbox_inches='tight')"
   ]
  },
  {
   "cell_type": "markdown",
   "metadata": {
    "collapsed": true
   },
   "source": [
    "**First article of a journal.**"
   ]
  },
  {
   "cell_type": "code",
   "execution_count": 24,
   "metadata": {},
   "outputs": [
    {
     "data": {
      "text/html": [
       "<div>\n",
       "<table border=\"1\" class=\"dataframe\">\n",
       "  <thead>\n",
       "    <tr style=\"text-align: right;\">\n",
       "      <th></th>\n",
       "      <th>abstract</th>\n",
       "      <th>author</th>\n",
       "      <th>date</th>\n",
       "      <th>journal</th>\n",
       "      <th>key</th>\n",
       "      <th>key_word</th>\n",
       "      <th>labels</th>\n",
       "      <th>list_strategies</th>\n",
       "      <th>pages</th>\n",
       "      <th>provenance</th>\n",
       "      <th>read</th>\n",
       "      <th>score</th>\n",
       "      <th>title</th>\n",
       "      <th>unique_key</th>\n",
       "    </tr>\n",
       "  </thead>\n",
       "  <tbody>\n",
       "    <tr>\n",
       "      <th>10972</th>\n",
       "      <td>None</td>\n",
       "      <td>martin a. nowak</td>\n",
       "      <td>1992</td>\n",
       "      <td>Nature</td>\n",
       "      <td>Nowak1992</td>\n",
       "      <td>None</td>\n",
       "      <td>noise</td>\n",
       "      <td>None</td>\n",
       "      <td>250-253</td>\n",
       "      <td>Nature</td>\n",
       "      <td>True</td>\n",
       "      <td>None</td>\n",
       "      <td>Tit for tat in heterogeneous populations</td>\n",
       "      <td>key03</td>\n",
       "    </tr>\n",
       "    <tr>\n",
       "      <th>10973</th>\n",
       "      <td>None</td>\n",
       "      <td>martin a. nowak</td>\n",
       "      <td>1992</td>\n",
       "      <td>Nature</td>\n",
       "      <td>Nowak1992</td>\n",
       "      <td>None</td>\n",
       "      <td>strategic rules</td>\n",
       "      <td>None</td>\n",
       "      <td>250-253</td>\n",
       "      <td>Nature</td>\n",
       "      <td>True</td>\n",
       "      <td>None</td>\n",
       "      <td>Tit for tat in heterogeneous populations</td>\n",
       "      <td>key03</td>\n",
       "    </tr>\n",
       "    <tr>\n",
       "      <th>995</th>\n",
       "      <td>&lt;p&gt;Two players engaged in the Prisoner's Dilem...</td>\n",
       "      <td>martin a. nowak</td>\n",
       "      <td>1993</td>\n",
       "      <td>Nature Publishing Group</td>\n",
       "      <td>Nowak1993</td>\n",
       "      <td>None</td>\n",
       "      <td>strategic rules</td>\n",
       "      <td>None</td>\n",
       "      <td>None</td>\n",
       "      <td>Nature</td>\n",
       "      <td>True</td>\n",
       "      <td>None</td>\n",
       "      <td>A strategy of win-stay, lose-shift that outper...</td>\n",
       "      <td>1a17155cd3f29b9efa8a1750eee4c654</td>\n",
       "    </tr>\n",
       "  </tbody>\n",
       "</table>\n",
       "</div>"
      ],
      "text/plain": [
       "                                                abstract           author  \\\n",
       "10972                                               None  martin a. nowak   \n",
       "10973                                               None  martin a. nowak   \n",
       "995    <p>Two players engaged in the Prisoner's Dilem...  martin a. nowak   \n",
       "\n",
       "       date                  journal        key key_word           labels  \\\n",
       "10972  1992                   Nature  Nowak1992     None            noise   \n",
       "10973  1992                   Nature  Nowak1992     None  strategic rules   \n",
       "995    1993  Nature Publishing Group  Nowak1993     None  strategic rules   \n",
       "\n",
       "      list_strategies    pages provenance  read score  \\\n",
       "10972            None  250-253     Nature  True  None   \n",
       "10973            None  250-253     Nature  True  None   \n",
       "995              None     None     Nature  True  None   \n",
       "\n",
       "                                                   title  \\\n",
       "10972           Tit for tat in heterogeneous populations   \n",
       "10973           Tit for tat in heterogeneous populations   \n",
       "995    A strategy of win-stay, lose-shift that outper...   \n",
       "\n",
       "                             unique_key  \n",
       "10972                             key03  \n",
       "10973                             key03  \n",
       "995    1a17155cd3f29b9efa8a1750eee4c654  "
      ]
     },
     "execution_count": 24,
     "metadata": {},
     "output_type": "execute_result"
    }
   ],
   "source": [
    "df[(df['provenance'] == 'Nature') & (df['author'] == 'martin a. nowak')].sort_values('date')"
   ]
  },
  {
   "cell_type": "code",
   "execution_count": 25,
   "metadata": {
    "collapsed": true
   },
   "outputs": [],
   "source": [
    "journals = ['IEEE', 'Nature', 'PLOS', 'arXiv', 'Springer']"
   ]
  },
  {
   "cell_type": "code",
   "execution_count": 27,
   "metadata": {},
   "outputs": [
    {
     "data": {
      "image/png": "[encoded data removed]",
      "text/plain": [
       "<matplotlib.figure.Figure at 0x7fb7b0c03828>"
      ]
     },
     "metadata": {},
     "output_type": "display_data"
    }
   ],
   "source": [
    "for j in [journals[0]]:\n",
    "    plt.scatter(yearly_provenance[j].index, yearly_provenance[j].values)"
   ]
  },
  {
   "cell_type": "code",
   "execution_count": null,
   "metadata": {
    "collapsed": true
   },
   "outputs": [],
   "source": []
  }
 ],
 "metadata": {
  "anaconda-cloud": {},
  "kernelspec": {
   "display_name": "Python [default]",
   "language": "python",
   "name": "python3"
  },
  "language_info": {
   "codemirror_mode": {
    "name": "ipython",
    "version": 3
   },
   "file_extension": ".py",
   "mimetype": "text/x-python",
   "name": "python",
   "nbconvert_exporter": "python",
   "pygments_lexer": "ipython3",
   "version": "3.5.2"
  }
 },
 "nbformat": 4,
 "nbformat_minor": 1
}
