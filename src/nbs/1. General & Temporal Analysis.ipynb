{
 "cells": [
  {
   "cell_type": "code",
   "execution_count": 1,
   "metadata": {},
   "outputs": [],
   "source": [
    "import pandas as pd\n",
    "import numpy as np"
   ]
  },
  {
   "cell_type": "code",
   "execution_count": 2,
   "metadata": {},
   "outputs": [],
   "source": [
    "import imp\n",
    "tools = imp.load_source('tools', '../tools.py')\n",
    "\n",
    "from tools import write_to_file"
   ]
  },
  {
   "cell_type": "code",
   "execution_count": 3,
   "metadata": {},
   "outputs": [],
   "source": [
    "import matplotlib\n",
    "import matplotlib.pyplot as plt\n",
    "\n",
    "import matplotlib as mpl\n",
    "mpl.rcParams['legend.numpoints'] = 1\n",
    "\n",
    "%matplotlib inline"
   ]
  },
  {
   "cell_type": "code",
   "execution_count": 4,
   "metadata": {},
   "outputs": [],
   "source": [
    "font = {'size'   : 10,\n",
    "        'weight': 'bold'}\n",
    "matplotlib.rc('font', **font)"
   ]
  },
  {
   "cell_type": "markdown",
   "metadata": {},
   "source": [
    "General & Temporial Analysis\n",
    "==================="
   ]
  },
  {
   "cell_type": "code",
   "execution_count": 5,
   "metadata": {},
   "outputs": [],
   "source": [
    "df = pd.read_json('../data/pd_November_2018_clean.json')"
   ]
  },
  {
   "cell_type": "code",
   "execution_count": 6,
   "metadata": {},
   "outputs": [],
   "source": [
    "df = df.replace('None', np.nan)"
   ]
  },
  {
   "cell_type": "markdown",
   "metadata": {},
   "source": [
    "**Total number of articles.**"
   ]
  },
  {
   "cell_type": "code",
   "execution_count": 45,
   "metadata": {},
   "outputs": [],
   "source": [
    "total_articles = len(df['title'].unique())"
   ]
  },
  {
   "cell_type": "markdown",
   "metadata": {},
   "source": [
    "**Unique titles**"
   ]
  },
  {
   "cell_type": "code",
   "execution_count": 46,
   "metadata": {},
   "outputs": [
    {
     "data": {
      "text/plain": [
       "(3089, 3167)"
      ]
     },
     "execution_count": 46,
     "metadata": {},
     "output_type": "execute_result"
    }
   ],
   "source": [
    "len(df['title'].unique()), len(df['unique_key'].unique())"
   ]
  },
  {
   "cell_type": "markdown",
   "metadata": {},
   "source": [
    "**Numbers of author and year range.**"
   ]
  },
  {
   "cell_type": "code",
   "execution_count": 47,
   "metadata": {},
   "outputs": [],
   "source": [
    "number_of_authors = len(df['author'].unique())"
   ]
  },
  {
   "cell_type": "code",
   "execution_count": 48,
   "metadata": {},
   "outputs": [],
   "source": [
    "for data, name in zip([total_articles, number_of_authors], ['total_articles.txt', 'number_of_authors.txt']):\n",
    "    write_to_file(metric=data, filename=name)"
   ]
  },
  {
   "cell_type": "markdown",
   "metadata": {},
   "source": [
    "Provenance\n",
    "----------\n",
    "\n",
    "The total number of articles is given above. Here we can illustrate the provenance of these articles.\n",
    "Thus we can see from which journal they have been collected and how many articles have been added by us. The table below shows the number of articles for each provenance."
   ]
  },
  {
   "cell_type": "code",
   "execution_count": 11,
   "metadata": {},
   "outputs": [],
   "source": [
    "provenance_size = df.groupby(['unique_key', 'provenance']).size().reset_index().groupby('provenance').size()"
   ]
  },
  {
   "cell_type": "code",
   "execution_count": 12,
   "metadata": {},
   "outputs": [],
   "source": [
    "write_to_file(metric=provenance_size ['Manual'], filename=\"prov_manual.txt\", )"
   ]
  },
  {
   "cell_type": "code",
   "execution_count": 13,
   "metadata": {},
   "outputs": [],
   "source": [
    "percentage = provenance_size.apply(lambda x: round(x / total_articles * 100, 2))"
   ]
  },
  {
   "cell_type": "code",
   "execution_count": 14,
   "metadata": {},
   "outputs": [],
   "source": [
    "provenance_table = pd.concat([provenance_size, percentage], axis=1)\n",
    "provenance_table.columns = ['# of Articles', 'Percentage']\n",
    "provenance_table = provenance_table.sort_values(by='# of Articles')"
   ]
  },
  {
   "cell_type": "code",
   "execution_count": 15,
   "metadata": {},
   "outputs": [
    {
     "data": {
      "text/html": [
       "<div>\n",
       "<style scoped>\n",
       "    .dataframe tbody tr th:only-of-type {\n",
       "        vertical-align: middle;\n",
       "    }\n",
       "\n",
       "    .dataframe tbody tr th {\n",
       "        vertical-align: top;\n",
       "    }\n",
       "\n",
       "    .dataframe thead th {\n",
       "        text-align: right;\n",
       "    }\n",
       "</style>\n",
       "<table border=\"1\" class=\"dataframe\">\n",
       "  <thead>\n",
       "    <tr style=\"text-align: right;\">\n",
       "      <th></th>\n",
       "      <th># of Articles</th>\n",
       "      <th>Percentage</th>\n",
       "    </tr>\n",
       "    <tr>\n",
       "      <th>provenance</th>\n",
       "      <th></th>\n",
       "      <th></th>\n",
       "    </tr>\n",
       "  </thead>\n",
       "  <tbody>\n",
       "    <tr>\n",
       "      <th>Manual</th>\n",
       "      <td>89</td>\n",
       "      <td>2.81</td>\n",
       "    </tr>\n",
       "    <tr>\n",
       "      <th>IEEE</th>\n",
       "      <td>295</td>\n",
       "      <td>9.31</td>\n",
       "    </tr>\n",
       "    <tr>\n",
       "      <th>PLOS</th>\n",
       "      <td>482</td>\n",
       "      <td>15.22</td>\n",
       "    </tr>\n",
       "    <tr>\n",
       "      <th>Springer</th>\n",
       "      <td>572</td>\n",
       "      <td>18.06</td>\n",
       "    </tr>\n",
       "    <tr>\n",
       "      <th>Nature</th>\n",
       "      <td>673</td>\n",
       "      <td>21.25</td>\n",
       "    </tr>\n",
       "    <tr>\n",
       "      <th>arXiv</th>\n",
       "      <td>1056</td>\n",
       "      <td>33.34</td>\n",
       "    </tr>\n",
       "  </tbody>\n",
       "</table>\n",
       "</div>"
      ],
      "text/plain": [
       "            # of Articles  Percentage\n",
       "provenance                           \n",
       "Manual                 89        2.81\n",
       "IEEE                  295        9.31\n",
       "PLOS                  482       15.22\n",
       "Springer              572       18.06\n",
       "Nature                673       21.25\n",
       "arXiv                1056       33.34"
      ]
     },
     "execution_count": 15,
     "metadata": {},
     "output_type": "execute_result"
    }
   ],
   "source": [
    "provenance_table"
   ]
  },
  {
   "cell_type": "code",
   "execution_count": 16,
   "metadata": {},
   "outputs": [],
   "source": [
    "write_to_file(metric=provenance_table.to_latex(), filename=\"provenance_table.tex\")"
   ]
  },
  {
   "cell_type": "markdown",
   "metadata": {
    "collapsed": true
   },
   "source": [
    "Temporal Analysis\n",
    "-----------------"
   ]
  },
  {
   "cell_type": "code",
   "execution_count": 17,
   "metadata": {},
   "outputs": [],
   "source": [
    "yearly_provenance = df.groupby(['unique_key','provenance', 'date']).size().reset_index().groupby(['provenance', 'date']).size()"
   ]
  },
  {
   "cell_type": "code",
   "execution_count": 18,
   "metadata": {},
   "outputs": [],
   "source": [
    "yearly_df = df.groupby(['unique_key', 'date']).size().reset_index().groupby('date').size()"
   ]
  },
  {
   "cell_type": "code",
   "execution_count": 19,
   "metadata": {},
   "outputs": [],
   "source": [
    "colors = list(matplotlib.cm.plasma(np.linspace(0, 1, 6)))\n",
    "linestyles = [':', '--', '-', '--', '-', '--']"
   ]
  },
  {
   "cell_type": "code",
   "execution_count": 20,
   "metadata": {},
   "outputs": [
    {
     "data": {
      "image/png": "[encoded data removed]",
      "text/plain": [
       "<matplotlib.figure.Figure at 0x7f12b77039e8>"
      ]
     },
     "metadata": {},
     "output_type": "display_data"
    }
   ],
   "source": [
    "fig = plt.figure(figsize=(7, 5))\n",
    "\n",
    "plt.plot(yearly_df, '--o', color='black', zorder=1, linewidth=1);\n",
    "plt.xticks(np.arange(1950, 2018, step=6), rotation=90);\n",
    "\n",
    "plt.ylabel('number of articles');\n",
    "plt.savefig(\"../../assets/images/timeline.pdf\", bbox_inches='tight')\n",
    "plt.title(\"Articles per Year (N = {}) Prisoner's Dilemma\".format(total_articles));"
   ]
  },
  {
   "cell_type": "markdown",
   "metadata": {},
   "source": [
    "**Fitting and forecasting**"
   ]
  },
  {
   "cell_type": "code",
   "execution_count": 21,
   "metadata": {},
   "outputs": [],
   "source": [
    "x = range(37)\n",
    "y = yearly_df[1980:2016].values"
   ]
  },
  {
   "cell_type": "code",
   "execution_count": 22,
   "metadata": {},
   "outputs": [],
   "source": [
    "from scipy import optimize\n",
    "\n",
    "def func(x, a, b, c):\n",
    "    return a * np.exp(-b * x) + c\n",
    "\n",
    "params, params_covariance = optimize.curve_fit(func, x, y, p0=[0, 0, 0])"
   ]
  },
  {
   "cell_type": "code",
   "execution_count": 23,
   "metadata": {},
   "outputs": [
    {
     "data": {
      "image/png": "[encoded data removed]",
      "text/plain": [
       "<matplotlib.figure.Figure at 0x7f12b626f438>"
      ]
     },
     "metadata": {},
     "output_type": "display_data"
    }
   ],
   "source": [
    "plt.figure(figsize=(7, 5))\n",
    "plt.scatter(yearly_df[1980:2016].index, y, color='black', zorder=1, linewidth=1, label='Included in model')\n",
    "plt.plot(yearly_df[1980:2016].index, func(x, params[0], params[1], params[2]),\n",
    "         label=r'fit: $ %5.3f e^{%5.3f x} +%5.3f$' % tuple(params), color='red', zorder=2, linewidth=3)\n",
    "plt.scatter(yearly_df[2017:2018].index, yearly_df[2017:2018].values, color='black', zorder=1,\n",
    "            linewidth=1, marker='*', label='Not included')\n",
    "plt.xticks(rotation=90);\n",
    "plt.legend(loc='best')\n",
    "\n",
    "plt.ylabel('number of articles');\n",
    "plt.savefig(\"../../assets/images/fitting.pdf\", bbox_inches='tight')"
   ]
  },
  {
   "cell_type": "code",
   "execution_count": 24,
   "metadata": {},
   "outputs": [],
   "source": [
    "xn = range(37, 42)"
   ]
  },
  {
   "cell_type": "code",
   "execution_count": 25,
   "metadata": {},
   "outputs": [],
   "source": [
    "forecasting = [round(func(x_v, *params)) for x_v in xn]"
   ]
  },
  {
   "cell_type": "code",
   "execution_count": 26,
   "metadata": {},
   "outputs": [
    {
     "data": {
      "image/png": "[encoded data removed]",
      "text/plain": [
       "<matplotlib.figure.Figure at 0x7f12b62c7fd0>"
      ]
     },
     "metadata": {},
     "output_type": "display_data"
    }
   ],
   "source": [
    "plt.figure(figsize=(7, 5))\n",
    "plt.scatter(yearly_df[1980:2016].index, y, color='black', zorder=1, linewidth=1, label='Included in model')\n",
    "plt.plot(yearly_df[1980:2016].index, func(x, params[0], params[1], params[2]),\n",
    "         label=r'fit: $ %5.3f e^{%5.3f x} +%5.3f$' % tuple(params), color='red', zorder=2, linewidth=3)\n",
    "plt.plot(range(2017, 2022), forecasting, label= 'forecasting', color='green', zorder=2,\n",
    "         linewidth=3, alpha=0.7, linestyle='--')\n",
    "plt.scatter(yearly_df[2017:2018].index, yearly_df[2017:2018].values, color='black', zorder=1,\n",
    "            linewidth=1, marker='*', label='Not included')\n",
    "\n",
    "plt.xticks(rotation=90);\n",
    "\n",
    "plt.legend(loc='best')\n",
    "\n",
    "plt.ylabel('number of articles');\n",
    "plt.savefig(\"../../assets/images/forecasting.pdf\", bbox_inches='tight')"
   ]
  },
  {
   "cell_type": "code",
   "execution_count": 27,
   "metadata": {},
   "outputs": [],
   "source": [
    "index = range(2017, 2022)\n",
    "forecasting_table = pd.DataFrame(forecasting, columns=['Forecast'], index=index)"
   ]
  },
  {
   "cell_type": "code",
   "execution_count": 28,
   "metadata": {},
   "outputs": [],
   "source": [
    "file = open(\"../../assets/predictions.tex\", 'w')\n",
    "file.write('{}'.format(forecasting_table.to_latex()))\n",
    "file.close()"
   ]
  },
  {
   "cell_type": "markdown",
   "metadata": {
    "collapsed": true
   },
   "source": [
    "Av. publication\n",
    "------\n",
    "\n",
    "The rate is calculated as the ratio of number of total articles and the number of years of publication.\n",
    "Thus:\n",
    "    $$ \\text{rate}= \\frac{\\text{number of articles}}{\\text{years of publication}}$$"
   ]
  },
  {
   "cell_type": "code",
   "execution_count": 29,
   "metadata": {},
   "outputs": [
    {
     "data": {
      "text/plain": [
       "49.40625"
      ]
     },
     "execution_count": 29,
     "metadata": {},
     "output_type": "execute_result"
    }
   ],
   "source": [
    "(yearly_df.values.sum() / yearly_df.count())"
   ]
  },
  {
   "cell_type": "code",
   "execution_count": 30,
   "metadata": {},
   "outputs": [],
   "source": [
    "rates = [np.round(yearly_df.values.sum() / yearly_df.count())]\n",
    "for api in ['IEEE', 'Nature', 'PLOS', 'Springer', 'arXiv']:\n",
    "    rates.append(np.round(yearly_provenance[api].values.sum() / yearly_df.count()))"
   ]
  },
  {
   "cell_type": "code",
   "execution_count": 31,
   "metadata": {},
   "outputs": [],
   "source": [
    "rates_table = pd.DataFrame(rates, ['Overall', 'IEEE', 'Nature', 'PLOS', 'Springer', 'arXiv'], \n",
    "                           columns={'Av. publication'})"
   ]
  },
  {
   "cell_type": "code",
   "execution_count": 32,
   "metadata": {},
   "outputs": [
    {
     "data": {
      "text/html": [
       "<div>\n",
       "<style scoped>\n",
       "    .dataframe tbody tr th:only-of-type {\n",
       "        vertical-align: middle;\n",
       "    }\n",
       "\n",
       "    .dataframe tbody tr th {\n",
       "        vertical-align: top;\n",
       "    }\n",
       "\n",
       "    .dataframe thead th {\n",
       "        text-align: right;\n",
       "    }\n",
       "</style>\n",
       "<table border=\"1\" class=\"dataframe\">\n",
       "  <thead>\n",
       "    <tr style=\"text-align: right;\">\n",
       "      <th></th>\n",
       "      <th>Av. publication</th>\n",
       "    </tr>\n",
       "  </thead>\n",
       "  <tbody>\n",
       "    <tr>\n",
       "      <th>IEEE</th>\n",
       "      <td>5.0</td>\n",
       "    </tr>\n",
       "    <tr>\n",
       "      <th>PLOS</th>\n",
       "      <td>8.0</td>\n",
       "    </tr>\n",
       "    <tr>\n",
       "      <th>Springer</th>\n",
       "      <td>9.0</td>\n",
       "    </tr>\n",
       "    <tr>\n",
       "      <th>Nature</th>\n",
       "      <td>11.0</td>\n",
       "    </tr>\n",
       "    <tr>\n",
       "      <th>arXiv</th>\n",
       "      <td>16.0</td>\n",
       "    </tr>\n",
       "    <tr>\n",
       "      <th>Overall</th>\n",
       "      <td>49.0</td>\n",
       "    </tr>\n",
       "  </tbody>\n",
       "</table>\n",
       "</div>"
      ],
      "text/plain": [
       "          Av. publication\n",
       "IEEE                  5.0\n",
       "PLOS                  8.0\n",
       "Springer              9.0\n",
       "Nature               11.0\n",
       "arXiv                16.0\n",
       "Overall              49.0"
      ]
     },
     "execution_count": 32,
     "metadata": {},
     "output_type": "execute_result"
    }
   ],
   "source": [
    "rates_table = rates_table.sort_values(by='Av. publication')\n",
    "rates_table"
   ]
  },
  {
   "cell_type": "code",
   "execution_count": 33,
   "metadata": {},
   "outputs": [],
   "source": [
    "write_to_file(metric=rates_table.to_latex(), filename=\"rates_table.tex\")"
   ]
  },
  {
   "cell_type": "markdown",
   "metadata": {},
   "source": [
    "Comparison Table\n",
    "----------------"
   ]
  },
  {
   "cell_type": "code",
   "execution_count": 34,
   "metadata": {},
   "outputs": [],
   "source": [
    "auction_df = pd.read_json('../data/auction_November_2018_clean.json')\n",
    "anarchy_df = pd.read_json('../data/anarchy_November_2018_clean.json')"
   ]
  },
  {
   "cell_type": "code",
   "execution_count": 35,
   "metadata": {},
   "outputs": [],
   "source": [
    "general_data = []\n",
    "for data in [df, auction_df, anarchy_df]:\n",
    "    total_size = len(data['title'].unique())\n",
    "    num_authors = len(data['author'].unique())\n",
    "    \n",
    "    provenance = data.groupby(['unique_key', 'provenance']).size().reset_index().groupby('provenance').size()\n",
    "    provenance_percent = provenance.apply(lambda x: round(x / total_size * 100, 2))\n",
    "    \n",
    "    yearly = data.groupby(['unique_key', 'date']).size().reset_index().groupby('date').size()\n",
    "    av_publications = np.round(yearly.values.sum() / yearly.count())\n",
    "    \n",
    "\n",
    "    general_data.append((total_size, num_authors, provenance_percent.index,\n",
    "                         provenance_percent.values, av_publications))"
   ]
  },
  {
   "cell_type": "code",
   "execution_count": 36,
   "metadata": {},
   "outputs": [],
   "source": [
    "provenance_for_table = [{key: value for key, value in  zip(general_data[i][2], general_data[i][3])}\n",
    "                         for i in range(3)]"
   ]
  },
  {
   "cell_type": "code",
   "execution_count": 37,
   "metadata": {},
   "outputs": [
    {
     "data": {
      "text/plain": [
       "[{'IEEE': 9.55,\n",
       "  'Manual': 2.88,\n",
       "  'Nature': 21.79,\n",
       "  'PLOS': 15.6,\n",
       "  'Springer': 18.52,\n",
       "  'arXiv': 34.19},\n",
       " {'IEEE': 7.46, 'Nature': 5.89, 'Springer': 37.63, 'arXiv': 51.36},\n",
       " {'IEEE': 30.7,\n",
       "  'Nature': 24.66,\n",
       "  'PLOS': 1.74,\n",
       "  'Springer': 38.07,\n",
       "  'arXiv': 8.85}]"
      ]
     },
     "execution_count": 37,
     "metadata": {},
     "output_type": "execute_result"
    }
   ],
   "source": [
    "provenance_for_table"
   ]
  },
  {
   "cell_type": "code",
   "execution_count": 38,
   "metadata": {},
   "outputs": [],
   "source": [
    "frame = {'Num. Articles': [general_data[i][0] for i in range(3)],\n",
    "         'Num. Authors': [general_data[i][1] for i in range(3)],\n",
    "         r'Nature (%)': [topic['Nature'] for topic in provenance_for_table],\n",
    "         r'IEEE (%)': [topic['IEEE'] for topic in provenance_for_table],\n",
    "         r'Springer (%)': [topic['Springer'] for topic in provenance_for_table],\n",
    "         r'arXiv (%)': [topic['arXiv'] for topic in provenance_for_table],\n",
    "         r'PLOS (%)': [provenance_for_table[0]['PLOS'], '-', provenance_for_table[2]['PLOS']],\n",
    "         r'Manual (%)': [provenance_for_table[0]['Manual'], '-', '-'],\n",
    "         'Av. Publication': [general_data[i][-1] for i in range(3)]}"
   ]
  },
  {
   "cell_type": "code",
   "execution_count": 39,
   "metadata": {},
   "outputs": [],
   "source": [
    "table = pd.DataFrame.from_dict(frame)\n",
    "table.index= [\"Prisoner's Dilemma\",  \"Auction Games\", \"Price of Anarchy\"]"
   ]
  },
  {
   "cell_type": "code",
   "execution_count": 40,
   "metadata": {},
   "outputs": [],
   "source": [
    "columnsTitles = ['Num. Articles', 'Num. Authors', r'Manual (%)', r'PLOS (%)', r'Nature (%)', \n",
    "                 r'Springer (%)', r'IEEE (%)', r'arXiv (%)', 'Av. Publication']\n",
    "\n",
    "table = table.reindex(columns=columnsTitles)"
   ]
  },
  {
   "cell_type": "code",
   "execution_count": 41,
   "metadata": {},
   "outputs": [
    {
     "data": {
      "text/html": [
       "<div>\n",
       "<style scoped>\n",
       "    .dataframe tbody tr th:only-of-type {\n",
       "        vertical-align: middle;\n",
       "    }\n",
       "\n",
       "    .dataframe tbody tr th {\n",
       "        vertical-align: top;\n",
       "    }\n",
       "\n",
       "    .dataframe thead th {\n",
       "        text-align: right;\n",
       "    }\n",
       "</style>\n",
       "<table border=\"1\" class=\"dataframe\">\n",
       "  <thead>\n",
       "    <tr style=\"text-align: right;\">\n",
       "      <th></th>\n",
       "      <th>Num. Articles</th>\n",
       "      <th>Num. Authors</th>\n",
       "      <th>Manual (%)</th>\n",
       "      <th>PLOS (%)</th>\n",
       "      <th>Nature (%)</th>\n",
       "      <th>Springer (%)</th>\n",
       "      <th>IEEE (%)</th>\n",
       "      <th>arXiv (%)</th>\n",
       "      <th>Av. Publication</th>\n",
       "    </tr>\n",
       "  </thead>\n",
       "  <tbody>\n",
       "    <tr>\n",
       "      <th>Prisoner's Dilemma</th>\n",
       "      <td>3089</td>\n",
       "      <td>5092</td>\n",
       "      <td>2.88</td>\n",
       "      <td>15.6</td>\n",
       "      <td>21.79</td>\n",
       "      <td>18.52</td>\n",
       "      <td>9.55</td>\n",
       "      <td>34.19</td>\n",
       "      <td>49.0</td>\n",
       "    </tr>\n",
       "    <tr>\n",
       "      <th>Auction Games</th>\n",
       "      <td>3444</td>\n",
       "      <td>4770</td>\n",
       "      <td>-</td>\n",
       "      <td>-</td>\n",
       "      <td>5.89</td>\n",
       "      <td>37.63</td>\n",
       "      <td>7.46</td>\n",
       "      <td>51.36</td>\n",
       "      <td>93.0</td>\n",
       "    </tr>\n",
       "    <tr>\n",
       "      <th>Price of Anarchy</th>\n",
       "      <td>746</td>\n",
       "      <td>1227</td>\n",
       "      <td>-</td>\n",
       "      <td>1.74</td>\n",
       "      <td>24.66</td>\n",
       "      <td>38.07</td>\n",
       "      <td>30.70</td>\n",
       "      <td>8.85</td>\n",
       "      <td>41.0</td>\n",
       "    </tr>\n",
       "  </tbody>\n",
       "</table>\n",
       "</div>"
      ],
      "text/plain": [
       "                    Num. Articles  Num. Authors Manual (%) PLOS (%)  \\\n",
       "Prisoner's Dilemma           3089          5092       2.88     15.6   \n",
       "Auction Games                3444          4770          -        -   \n",
       "Price of Anarchy              746          1227          -     1.74   \n",
       "\n",
       "                    Nature (%)  Springer (%)  IEEE (%)  arXiv (%)  \\\n",
       "Prisoner's Dilemma       21.79         18.52      9.55      34.19   \n",
       "Auction Games             5.89         37.63      7.46      51.36   \n",
       "Price of Anarchy         24.66         38.07     30.70       8.85   \n",
       "\n",
       "                    Av. Publication  \n",
       "Prisoner's Dilemma             49.0  \n",
       "Auction Games                  93.0  \n",
       "Price of Anarchy               41.0  "
      ]
     },
     "execution_count": 41,
     "metadata": {},
     "output_type": "execute_result"
    }
   ],
   "source": [
    "table"
   ]
  },
  {
   "cell_type": "code",
   "execution_count": 42,
   "metadata": {},
   "outputs": [],
   "source": [
    "write_to_file(metric=table.to_latex(), filename=\"prelimanary_comparison.tex\")"
   ]
  },
  {
   "cell_type": "code",
   "execution_count": 43,
   "metadata": {},
   "outputs": [
    {
     "data": {
      "image/png": "[encoded data removed]",
      "text/plain": [
       "<matplotlib.figure.Figure at 0x7f8477848668>"
      ]
     },
     "metadata": {},
     "output_type": "display_data"
    },
    {
     "data": {
      "image/png": "[encoded data removed]",
      "text/plain": [
       "<matplotlib.figure.Figure at 0x7f84778c6668>"
      ]
     },
     "metadata": {},
     "output_type": "display_data"
    }
   ],
   "source": [
    "for data, label in zip([anarchy_df, auction_df], ['Price_of_Anarchy', 'Auction_Games']):\n",
    "    total = len(data['unique_key'].unique())\n",
    "    \n",
    "    yearly = data.groupby(['unique_key', 'date']).size().reset_index().groupby('date').size()\n",
    "\n",
    "    fig = plt.figure()\n",
    "\n",
    "    plt.plot(yearly.index, yearly.values, '--o', color='black', zorder=1, linewidth=1);\n",
    "    plt.xticks(np.arange(min(yearly.index), 2018, step=4), rotation=90);\n",
    "\n",
    "    plt.ylabel('number of articles')\n",
    "    plt.title(\"Articles per Year (N = {}) {}\".format(total, label))\n",
    "    plt.savefig(\"../../assets/images/{}.pdf\".format(label), bbox_inches='tight')\n",
    "    "
   ]
  },
  {
   "cell_type": "code",
   "execution_count": null,
   "metadata": {},
   "outputs": [],
   "source": []
  }
 ],
 "metadata": {
  "anaconda-cloud": {},
  "kernelspec": {
   "display_name": "Python 3",
   "language": "python",
   "name": "python3"
  },
  "language_info": {
   "codemirror_mode": {
    "name": "ipython",
    "version": 3
   },
   "file_extension": ".py",
   "mimetype": "text/x-python",
   "name": "python",
   "nbconvert_exporter": "python",
   "pygments_lexer": "ipython3",
   "version": "3.6.4"
  }
 },
 "nbformat": 4,
 "nbformat_minor": 1
}
