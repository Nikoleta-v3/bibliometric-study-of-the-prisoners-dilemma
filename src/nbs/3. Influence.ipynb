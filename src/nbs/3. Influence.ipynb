{
 "cells": [
  {
   "cell_type": "code",
   "execution_count": 1,
   "metadata": {},
   "outputs": [],
   "source": [
    "import networkx as nx\n",
    "import glob\n",
    "import pandas as pd\n"
   ]
  },
  {
   "cell_type": "code",
   "execution_count": 2,
   "metadata": {},
   "outputs": [],
   "source": [
    "import numpy as np\n"
   ]
  },
  {
   "cell_type": "code",
   "execution_count": 3,
   "metadata": {},
   "outputs": [],
   "source": [
    "import imp\n",
    "\n",
    "tools = imp.load_source(\"tools\", \"../tools.py\")\n",
    "\n",
    "from tools import write_to_file, test_kruskal, test_mannwhitneyu\n"
   ]
  },
  {
   "cell_type": "code",
   "execution_count": 4,
   "metadata": {},
   "outputs": [],
   "source": [
    "graphs = []\n",
    "for filename in [\"pd_graph.gml\", \"auction_graph.gml\", \"anarchy_graph.gml\"]:\n",
    "    graphs.append(nx.read_gml(\"../data/networks/{}\".format(filename)))\n"
   ]
  },
  {
   "cell_type": "code",
   "execution_count": 5,
   "metadata": {},
   "outputs": [],
   "source": [
    "import matplotlib.pyplot as plt\n",
    "import matplotlib\n",
    "\n",
    "%matplotlib inline"
   ]
  },
  {
   "cell_type": "code",
   "execution_count": 6,
   "metadata": {},
   "outputs": [],
   "source": [
    "font = {\"size\": 10, \"weight\": \"bold\"}\n",
    "matplotlib.rc(\"font\", **font)\n"
   ]
  },
  {
   "cell_type": "code",
   "execution_count": 7,
   "metadata": {},
   "outputs": [],
   "source": [
    "def get_interval_of_distribution(distribution, interval=0.95, reverse=False):\n",
    "\n",
    "    distribution = np.sort(distribution)\n",
    "    size = len(distribution)\n",
    "\n",
    "    bound = int((size - interval * size))\n",
    "\n",
    "    if reverse == True:\n",
    "        distribution[bound:]\n",
    "    return distribution[:-bound]\n"
   ]
  },
  {
   "cell_type": "code",
   "execution_count": 8,
   "metadata": {},
   "outputs": [],
   "source": [
    "def fix_names_for_table(name):\n",
    "    name = name.title()\n",
    "    return name\n"
   ]
  },
  {
   "cell_type": "code",
   "execution_count": 9,
   "metadata": {},
   "outputs": [],
   "source": [
    "import imp\n",
    "\n",
    "tools = imp.load_source(\"tools\", \"../tools.py\")\n",
    "\n",
    "from tools import write_to_file\n"
   ]
  },
  {
   "cell_type": "markdown",
   "metadata": {},
   "source": [
    "# Centrality Measures\n"
   ]
  },
  {
   "cell_type": "code",
   "execution_count": 10,
   "metadata": {},
   "outputs": [],
   "source": [
    "betweeness = [\n",
    "    sorted(nx.betweenness_centrality(G).items(), key=lambda x: x[1], reverse=True)\n",
    "    for G in graphs\n",
    "]\n"
   ]
  },
  {
   "cell_type": "code",
   "execution_count": 11,
   "metadata": {},
   "outputs": [],
   "source": [
    "closeness = [\n",
    "    sorted(nx.closeness_centrality(G).items(), key=lambda x: x[1], reverse=True)\n",
    "    for G in graphs\n",
    "]\n"
   ]
  },
  {
   "cell_type": "markdown",
   "metadata": {},
   "source": [
    "**PD central people**"
   ]
  },
  {
   "cell_type": "markdown",
   "metadata": {},
   "source": [
    "**BC**"
   ]
  },
  {
   "cell_type": "code",
   "execution_count": 12,
   "metadata": {},
   "outputs": [],
   "source": [
    "bc_centrality = pd.DataFrame(betweeness[0][:10], columns=[\"Name\", \"Betweeness\"])\n",
    "bc_centrality.Name = [fix_names_for_table(name) for name in bc_centrality.Name]\n",
    "bc_centrality.index += 1\n"
   ]
  },
  {
   "cell_type": "code",
   "execution_count": 13,
   "metadata": {},
   "outputs": [],
   "source": [
    "write_to_file(metric=bc_centrality.to_latex(), filename=\"central_authors.tex\")\n"
   ]
  },
  {
   "cell_type": "markdown",
   "metadata": {},
   "source": [
    "**CC**"
   ]
  },
  {
   "cell_type": "code",
   "execution_count": 14,
   "metadata": {},
   "outputs": [],
   "source": [
    "cc_centrality = pd.DataFrame(closeness[0][:10], columns=[\"Name\", \"Closeness\"])\n",
    "cc_centrality.Name = [fix_names_for_table(name) for name in cc_centrality.Name]\n",
    "cc_centrality.index += 1\n"
   ]
  },
  {
   "cell_type": "code",
   "execution_count": 15,
   "metadata": {},
   "outputs": [],
   "source": [
    "write_to_file(metric=cc_centrality.to_latex(), filename=\"central_authors_cc.tex\")\n"
   ]
  },
  {
   "cell_type": "markdown",
   "metadata": {},
   "source": [
    "**Perc**"
   ]
  },
  {
   "cell_type": "code",
   "execution_count": 16,
   "metadata": {},
   "outputs": [
    {
     "data": {
      "text/plain": [
       "58"
      ]
     },
     "execution_count": 16,
     "metadata": {},
     "output_type": "execute_result"
    }
   ],
   "source": [
    "len(list(nx.neighbors(graphs[0], \"matjaz perc\")))\n"
   ]
  },
  {
   "cell_type": "markdown",
   "metadata": {},
   "source": [
    "Distributions\n",
    "--------------"
   ]
  },
  {
   "cell_type": "code",
   "execution_count": 17,
   "metadata": {},
   "outputs": [],
   "source": [
    "colors = [\"midnightblue\", \"darkred\", \"darkgreen\"]\n",
    "labels = [r\"$G_1$\", r\"$G_2$\", r\"$G_3$\"]\n"
   ]
  },
  {
   "cell_type": "markdown",
   "metadata": {},
   "source": [
    "**Betweness**"
   ]
  },
  {
   "cell_type": "code",
   "execution_count": 18,
   "metadata": {},
   "outputs": [],
   "source": [
    "distributions_betweeness = [[point[1] for point in coeff] for coeff in betweeness]\n"
   ]
  },
  {
   "cell_type": "code",
   "execution_count": 19,
   "metadata": {},
   "outputs": [
    {
     "name": "stdout",
     "output_type": "stream",
     "text": [
      "0.0\n",
      "0.0\n",
      "0.0\n"
     ]
    },
    {
     "data": {
      "image/png": "[encoded data removed]",
      "text/plain": [
       "<matplotlib.figure.Figure at 0x1128d8710>"
      ]
     },
     "metadata": {},
     "output_type": "display_data"
    }
   ],
   "source": [
    "fig, axes = plt.subplots(nrows=1, ncols=3, figsize=(15, 4))\n",
    "for i, dstr in enumerate(distributions_betweeness):\n",
    "    axes[i].hist(dstr, color=colors[i], log=True)\n",
    "    print(np.median(dstr))\n",
    "    axes[i].axvline(\n",
    "        np.median(dstr), color=\"sienna\", linestyle=\":\", linewidth=3, label=\"median\"\n",
    "    )\n",
    "    axes[i].title.set_text(labels[i])\n",
    "\n",
    "    fig.text(0.5, 0.00, \"Betweeness Distributions\", ha=\"center\", fontsize=10)\n",
    "\n",
    "plt.savefig(\"../../assets/images/betweeness_distributions.pdf\")\n"
   ]
  },
  {
   "cell_type": "code",
   "execution_count": 20,
   "metadata": {},
   "outputs": [
    {
     "name": "stdout",
     "output_type": "stream",
     "text": [
      "                 0\n",
      "count  5394.000000\n",
      "mean      0.000019\n",
      "std       0.000207\n",
      "min       0.000000\n",
      "25%       0.000000\n",
      "50%       0.000000\n",
      "75%       0.000000\n",
      "max       0.008331\n",
      "                 0\n",
      "count  5165.000000\n",
      "mean      0.000086\n",
      "std       0.000693\n",
      "min       0.000000\n",
      "25%       0.000000\n",
      "50%       0.000000\n",
      "75%       0.000000\n",
      "max       0.019251\n",
      "                 0\n",
      "count  1155.000000\n",
      "mean      0.000151\n",
      "std       0.000931\n",
      "min       0.000000\n",
      "25%       0.000000\n",
      "50%       0.000000\n",
      "75%       0.000000\n",
      "max       0.011553\n"
     ]
    }
   ],
   "source": [
    "for dist in distributions_betweeness:\n",
    "    temp = pd.DataFrame(dist)\n",
    "    print(temp.describe())\n"
   ]
  },
  {
   "cell_type": "code",
   "execution_count": 21,
   "metadata": {},
   "outputs": [
    {
     "name": "stdout",
     "output_type": "stream",
     "text": [
      "1.10882382084e-19 The null hypothesis can be rejected.\n"
     ]
    },
    {
     "data": {
      "text/plain": [
       "1.1088238208370735e-19"
      ]
     },
     "execution_count": 21,
     "metadata": {},
     "output_type": "execute_result"
    }
   ],
   "source": [
    "test_kruskal(distributions_betweeness)\n"
   ]
  },
  {
   "cell_type": "markdown",
   "metadata": {},
   "source": [
    "**pair wise comparison**"
   ]
  },
  {
   "cell_type": "code",
   "execution_count": 22,
   "metadata": {},
   "outputs": [
    {
     "name": "stdout",
     "output_type": "stream",
     "text": [
      "9.89604994758e-19 The null hypothesis can be rejected.\n"
     ]
    },
    {
     "data": {
      "text/plain": [
       "9.8960499475769533e-19"
      ]
     },
     "execution_count": 22,
     "metadata": {},
     "output_type": "execute_result"
    }
   ],
   "source": [
    "test_kruskal([distributions_betweeness[0], distributions_betweeness[1]])\n"
   ]
  },
  {
   "cell_type": "code",
   "execution_count": 23,
   "metadata": {},
   "outputs": [
    {
     "name": "stdout",
     "output_type": "stream",
     "text": [
      "1.10167521358e-09 The null hypothesis can be rejected.\n"
     ]
    },
    {
     "data": {
      "text/plain": [
       "1.1016752135779381e-09"
      ]
     },
     "execution_count": 23,
     "metadata": {},
     "output_type": "execute_result"
    }
   ],
   "source": [
    "test_kruskal([distributions_betweeness[0], distributions_betweeness[2]])\n"
   ]
  },
  {
   "cell_type": "code",
   "execution_count": 24,
   "metadata": {},
   "outputs": [
    {
     "name": "stdout",
     "output_type": "stream",
     "text": [
      "0.603273013512 The null hypothesis cannot be rejected.\n"
     ]
    },
    {
     "data": {
      "text/plain": [
       "0.60327301351220108"
      ]
     },
     "execution_count": 24,
     "metadata": {},
     "output_type": "execute_result"
    }
   ],
   "source": [
    "test_kruskal([distributions_betweeness[1], distributions_betweeness[2]])\n"
   ]
  },
  {
   "cell_type": "code",
   "execution_count": 25,
   "metadata": {},
   "outputs": [
    {
     "name": "stdout",
     "output_type": "stream",
     "text": [
      "4.94826716226e-19 The null hypothesis can be rejected.\n"
     ]
    },
    {
     "data": {
      "text/plain": [
       "4.948267162262214e-19"
      ]
     },
     "execution_count": 25,
     "metadata": {},
     "output_type": "execute_result"
    }
   ],
   "source": [
    "test_mannwhitneyu(\n",
    "    [distributions_betweeness[0], distributions_betweeness[1]], alternative=\"less\"\n",
    ")\n"
   ]
  },
  {
   "cell_type": "code",
   "execution_count": 26,
   "metadata": {},
   "outputs": [
    {
     "name": "stdout",
     "output_type": "stream",
     "text": [
      "5.50891346987e-10 The null hypothesis can be rejected.\n"
     ]
    },
    {
     "data": {
      "text/plain": [
       "5.5089134698672234e-10"
      ]
     },
     "execution_count": 26,
     "metadata": {},
     "output_type": "execute_result"
    }
   ],
   "source": [
    "test_mannwhitneyu(\n",
    "    [distributions_betweeness[0], distributions_betweeness[2]], alternative=\"less\"\n",
    ")\n"
   ]
  },
  {
   "cell_type": "markdown",
   "metadata": {},
   "source": [
    "**Closeness**"
   ]
  },
  {
   "cell_type": "code",
   "execution_count": 27,
   "metadata": {},
   "outputs": [],
   "source": [
    "distributions_close = [[point[1] for point in coeff] for coeff in closeness]\n"
   ]
  },
  {
   "cell_type": "code",
   "execution_count": 28,
   "metadata": {},
   "outputs": [
    {
     "name": "stdout",
     "output_type": "stream",
     "text": [
      "0.000556276654923\n",
      "0.000580945003873\n",
      "0.00309482545184\n"
     ]
    },
    {
     "data": {
      "image/png": "[encoded data removed]",
      "text/plain": [
       "<matplotlib.figure.Figure at 0x11454b438>"
      ]
     },
     "metadata": {},
     "output_type": "display_data"
    }
   ],
   "source": [
    "fig, axes = plt.subplots(nrows=1, ncols=3, figsize=(15, 4))\n",
    "for i, dstr in enumerate(distributions_close):\n",
    "    axes[i].hist(dstr, color=colors[i], log=True)\n",
    "    print(np.median(dstr))\n",
    "    axes[i].axvline(\n",
    "        np.median(dstr), color=\"sienna\", linestyle=\":\", linewidth=3, label=\"median\"\n",
    "    )\n",
    "    axes[i].title.set_text(labels[i])\n",
    "\n",
    "    fig.text(0.5, 0.00, \"Closeness Distributions\", ha=\"center\", fontsize=10)\n",
    "\n",
    "plt.savefig(\"../../assets/images/closeness_distributions.pdf\")\n"
   ]
  },
  {
   "cell_type": "code",
   "execution_count": 29,
   "metadata": {},
   "outputs": [
    {
     "name": "stdout",
     "output_type": "stream",
     "text": [
      "                 0\n",
      "count  5394.000000\n",
      "mean      0.005013\n",
      "std       0.010367\n",
      "min       0.000000\n",
      "25%       0.000371\n",
      "50%       0.000556\n",
      "75%       0.001383\n",
      "max       0.048447\n",
      "                 0\n",
      "count  5165.000000\n",
      "mean      0.010085\n",
      "std       0.016039\n",
      "min       0.000000\n",
      "25%       0.000387\n",
      "50%       0.000581\n",
      "75%       0.024763\n",
      "max       0.058028\n",
      "                 0\n",
      "count  1155.000000\n",
      "mean      0.010136\n",
      "std       0.013644\n",
      "min       0.000000\n",
      "25%       0.001733\n",
      "50%       0.003095\n",
      "75%       0.012998\n",
      "max       0.054823\n"
     ]
    }
   ],
   "source": [
    "for dist in distributions_close:\n",
    "    temp = pd.DataFrame(dist)\n",
    "    print(temp.describe())\n"
   ]
  },
  {
   "cell_type": "code",
   "execution_count": 30,
   "metadata": {},
   "outputs": [
    {
     "name": "stdout",
     "output_type": "stream",
     "text": [
      "6.16028936454e-224 The null hypothesis can be rejected.\n"
     ]
    },
    {
     "data": {
      "text/plain": [
       "6.1602893645350358e-224"
      ]
     },
     "execution_count": 30,
     "metadata": {},
     "output_type": "execute_result"
    }
   ],
   "source": [
    "test_kruskal(distributions_close)\n"
   ]
  },
  {
   "cell_type": "markdown",
   "metadata": {},
   "source": [
    "**Pairwise comparisons**"
   ]
  },
  {
   "cell_type": "code",
   "execution_count": 31,
   "metadata": {},
   "outputs": [
    {
     "name": "stdout",
     "output_type": "stream",
     "text": [
      "3.29564197681e-31 The null hypothesis can be rejected.\n"
     ]
    },
    {
     "data": {
      "text/plain": [
       "3.295641976814261e-31"
      ]
     },
     "execution_count": 31,
     "metadata": {},
     "output_type": "execute_result"
    }
   ],
   "source": [
    "test_mannwhitneyu([distributions_close[0], distributions_close[1]], alternative=\"less\")\n"
   ]
  },
  {
   "cell_type": "code",
   "execution_count": 32,
   "metadata": {},
   "outputs": [
    {
     "name": "stdout",
     "output_type": "stream",
     "text": [
      "2.467599842e-250 The null hypothesis can be rejected.\n"
     ]
    },
    {
     "data": {
      "text/plain": [
       "2.4675998420039801e-250"
      ]
     },
     "execution_count": 32,
     "metadata": {},
     "output_type": "execute_result"
    }
   ],
   "source": [
    "test_mannwhitneyu([distributions_close[0], distributions_close[2]], alternative=\"less\")\n"
   ]
  },
  {
   "cell_type": "code",
   "execution_count": 33,
   "metadata": {},
   "outputs": [
    {
     "name": "stdout",
     "output_type": "stream",
     "text": [
      "3.72845480741e-114 The null hypothesis can be rejected.\n"
     ]
    },
    {
     "data": {
      "text/plain": [
       "3.7284548074114014e-114"
      ]
     },
     "execution_count": 33,
     "metadata": {},
     "output_type": "execute_result"
    }
   ],
   "source": [
    "test_mannwhitneyu(\n",
    "    [distributions_close[2], distributions_close[1]], alternative=\"greater\"\n",
    ")\n"
   ]
  },
  {
   "cell_type": "markdown",
   "metadata": {},
   "source": [
    "**Exploring the clusters**"
   ]
  },
  {
   "cell_type": "code",
   "execution_count": 34,
   "metadata": {},
   "outputs": [],
   "source": [
    "ipd = pd.read_json(\"../data/pd_November_2018_clean.json\")\n",
    "auction = pd.read_json(\"../data/auction_November_2018_clean.json\")\n",
    "anarchy = pd.read_json(\"../data/anarchy_November_2018_clean.json\")\n"
   ]
  },
  {
   "cell_type": "code",
   "execution_count": 35,
   "metadata": {},
   "outputs": [],
   "source": [
    "dataframes = [ipd, auction, anarchy]\n"
   ]
  },
  {
   "cell_type": "code",
   "execution_count": 36,
   "metadata": {},
   "outputs": [
    {
     "name": "stdout",
     "output_type": "stream",
     "text": [
      "[]\n",
      "[]\n",
      "['Springer' 'IEEE' 'arXiv' 'Nature']\n",
      "[ 2018.  2010.  2000.  2017.  2009.  2016.  2015.  2002.  2006.  2004.\n",
      "  2005.  2008.  2011.  2007.  2013.  2012.  2014.  2001.  2003.  1996.\n",
      "  1995.  1994.  1999.  1992.  1976.  1988.  1998.  1993.  1989.  1997.\n",
      "  1990.  1986.  1983.  1982.    nan]\n",
      "['Springer' 'IEEE' 'Nature' 'arXiv' 'Manual' 'PLOS']\n",
      "[ 2007.  2016.  2012.  2008.  2014.  2018.  2011.  2009.  2013.  2006.\n",
      "  2015.  2010.  2017.    nan  2003.  2005.  2002.  1999.  2004.]\n"
     ]
    }
   ],
   "source": [
    "for i, data in enumerate(dataframes):\n",
    "    central_names = [entry[0] for entry in closeness[i] if entry[1] > 0.00]\n",
    "    print(data[data[\"author\"].isin(central_names)][\"provenance\"].unique())\n",
    "    print(data[data[\"author\"].isin(central_names)][\"date\"].unique())\n"
   ]
  },
  {
   "cell_type": "code",
   "execution_count": 37,
   "metadata": {},
   "outputs": [
    {
     "data": {
      "text/plain": [
       "[789, 1348, 226]"
      ]
     },
     "execution_count": 37,
     "metadata": {},
     "output_type": "execute_result"
    }
   ],
   "source": [
    "percentages = []\n",
    "for i, data in enumerate(dataframes):\n",
    "    central_names = [entry[0] for entry in closeness[i] if entry[1] > 0.02]\n",
    "    percentages.append(len(central_names))\n",
    "percentages\n"
   ]
  },
  {
   "cell_type": "code",
   "execution_count": 38,
   "metadata": {},
   "outputs": [],
   "source": [
    "def set_axis_style(ax, labels):\n",
    "    ax.get_xaxis().set_tick_params(direction=\"out\")\n",
    "    ax.xaxis.set_ticks_position(\"bottom\")\n",
    "    ax.set_xticks(np.arange(1, len(labels) + 1))\n",
    "    ax.set_xticklabels(labels)\n",
    "    ax.set_xlim(0.25, len(labels) + 0.75)\n",
    "    ax.set_xlabel(\"Closseness centrality\")\n"
   ]
  },
  {
   "cell_type": "code",
   "execution_count": 39,
   "metadata": {},
   "outputs": [
    {
     "data": {
      "image/png": "[encoded data removed]",
      "text/plain": [
       "<matplotlib.figure.Figure at 0x1279a6eb8>"
      ]
     },
     "metadata": {},
     "output_type": "display_data"
    }
   ],
   "source": [
    "fig, axes = plt.subplots(figsize=(8, 5))\n",
    "parts = plt.violinplot(\n",
    "    distributions_close, widths=0.6, showmedians=False, showextrema=False\n",
    ")\n",
    "\n",
    "for i, pc in enumerate(parts[\"bodies\"]):\n",
    "    pc.set_facecolor(colors[i])\n",
    "    pc.set_edgecolor(\"black\")\n",
    "    pc.set_alpha(1)\n",
    "\n",
    "set_axis_style(axes, labels)\n",
    "\n",
    "plt.savefig(\"../../assets/images/closeness_violins.pdf\")\n"
   ]
  },
  {
   "cell_type": "markdown",
   "metadata": {},
   "source": [
    "**Clusters**"
   ]
  },
  {
   "cell_type": "code",
   "execution_count": 40,
   "metadata": {},
   "outputs": [],
   "source": [
    "center_clusters = [max(nx.connected_component_subgraphs(G), key=len) for G in graphs]\n"
   ]
  },
  {
   "cell_type": "code",
   "execution_count": 41,
   "metadata": {},
   "outputs": [],
   "source": [
    "betweeness_clusters = [\n",
    "    sorted(nx.betweenness_centrality(G).items(), key=lambda x: x[1], reverse=True)\n",
    "    for G in center_clusters\n",
    "]\n"
   ]
  },
  {
   "cell_type": "code",
   "execution_count": 42,
   "metadata": {},
   "outputs": [],
   "source": [
    "closeness_clusters = [\n",
    "    sorted(nx.closeness_centrality(G).items(), key=lambda x: x[1], reverse=True)\n",
    "    for G in center_clusters\n",
    "]\n"
   ]
  },
  {
   "cell_type": "code",
   "execution_count": 43,
   "metadata": {},
   "outputs": [],
   "source": [
    "distributions_closeness_cluster = [\n",
    "    [point[1] for point in coeff] for coeff in closeness_clusters\n",
    "]\n"
   ]
  },
  {
   "cell_type": "code",
   "execution_count": 44,
   "metadata": {},
   "outputs": [
    {
     "name": "stdout",
     "output_type": "stream",
     "text": [
      "0.19170984456\n",
      "0.139217611865\n",
      "0.1868133203\n"
     ]
    },
    {
     "data": {
      "image/png": "[encoded data removed]",
      "text/plain": [
       "<matplotlib.figure.Figure at 0x1279a7eb8>"
      ]
     },
     "metadata": {},
     "output_type": "display_data"
    }
   ],
   "source": [
    "fig, axes = plt.subplots(nrows=1, ncols=3, figsize=(15, 4))\n",
    "for i, dstr in enumerate(distributions_closeness_cluster):\n",
    "    axes[i].hist(dstr, color=colors[i], log=True)\n",
    "    print(np.median(dstr))\n",
    "    axes[i].axvline(\n",
    "        np.median(dstr), color=\"sienna\", linestyle=\":\", linewidth=3, label=\"median\"\n",
    "    )\n",
    "    axes[i].title.set_text(labels[i])\n",
    "\n",
    "    fig.text(0.5, 0.00, \"Closeness Distributions\", ha=\"center\", fontsize=10)\n",
    "\n",
    "plt.savefig(\"../../assets/images/closeness_distributions_clusters.pdf\")\n"
   ]
  },
  {
   "cell_type": "code",
   "execution_count": 45,
   "metadata": {},
   "outputs": [
    {
     "name": "stdout",
     "output_type": "stream",
     "text": [
      "                0\n",
      "count  815.000000\n",
      "mean     0.192305\n",
      "std      0.035247\n",
      "min      0.109247\n",
      "25%      0.163021\n",
      "50%      0.191710\n",
      "75%      0.214889\n",
      "max      0.320978\n",
      "                 0\n",
      "count  1348.000000\n",
      "mean      0.139324\n",
      "std       0.026557\n",
      "min       0.079226\n",
      "25%       0.120230\n",
      "50%       0.139218\n",
      "75%       0.160692\n",
      "max       0.222461\n",
      "                0\n",
      "count  222.000000\n",
      "mean     0.189437\n",
      "std      0.035204\n",
      "min      0.122642\n",
      "25%      0.160932\n",
      "50%      0.186813\n",
      "75%      0.215820\n",
      "max      0.286269\n"
     ]
    }
   ],
   "source": [
    "for dist in distributions_closeness_cluster:\n",
    "    temp = pd.DataFrame(dist)\n",
    "    print(temp.describe())\n"
   ]
  },
  {
   "cell_type": "code",
   "execution_count": 46,
   "metadata": {},
   "outputs": [
    {
     "name": "stdout",
     "output_type": "stream",
     "text": [
      "7.33629478586e-219 The null hypothesis can be rejected.\n"
     ]
    },
    {
     "data": {
      "text/plain": [
       "7.3362947858631229e-219"
      ]
     },
     "execution_count": 46,
     "metadata": {},
     "output_type": "execute_result"
    }
   ],
   "source": [
    "test_kruskal(distributions_closeness_cluster)\n"
   ]
  },
  {
   "cell_type": "code",
   "execution_count": 47,
   "metadata": {},
   "outputs": [
    {
     "name": "stdout",
     "output_type": "stream",
     "text": [
      "0.280877970073 The null hypothesis cannot be rejected.\n"
     ]
    },
    {
     "data": {
      "text/plain": [
       "0.28087797007273108"
      ]
     },
     "execution_count": 47,
     "metadata": {},
     "output_type": "execute_result"
    }
   ],
   "source": [
    "test_kruskal([distributions_closeness_cluster[0], distributions_closeness_cluster[2]])\n"
   ]
  },
  {
   "cell_type": "code",
   "execution_count": 48,
   "metadata": {},
   "outputs": [
    {
     "name": "stdout",
     "output_type": "stream",
     "text": [
      "8.26682782247e-194 The null hypothesis can be rejected.\n"
     ]
    },
    {
     "data": {
      "text/plain": [
       "8.2668278224659977e-194"
      ]
     },
     "execution_count": 48,
     "metadata": {},
     "output_type": "execute_result"
    }
   ],
   "source": [
    "test_kruskal([distributions_closeness_cluster[0], distributions_closeness_cluster[1]])\n"
   ]
  },
  {
   "cell_type": "code",
   "execution_count": 49,
   "metadata": {},
   "outputs": [
    {
     "name": "stdout",
     "output_type": "stream",
     "text": [
      "4.13778166208e-194 The null hypothesis can be rejected.\n"
     ]
    },
    {
     "data": {
      "text/plain": [
       "4.1377816620796683e-194"
      ]
     },
     "execution_count": 49,
     "metadata": {},
     "output_type": "execute_result"
    }
   ],
   "source": [
    "test_mannwhitneyu(\n",
    "    [distributions_closeness_cluster[0], distributions_closeness_cluster[1]],\n",
    "    alternative=\"greater\",\n",
    ")\n"
   ]
  },
  {
   "cell_type": "markdown",
   "metadata": {},
   "source": [
    "**distributions betweeness clusters**"
   ]
  },
  {
   "cell_type": "code",
   "execution_count": 50,
   "metadata": {},
   "outputs": [],
   "source": [
    "distributions_betweeness_clusters = [\n",
    "    [point[1] for point in coeff] for coeff in betweeness_clusters\n",
    "]\n"
   ]
  },
  {
   "cell_type": "code",
   "execution_count": 51,
   "metadata": {
    "scrolled": true
   },
   "outputs": [
    {
     "name": "stdout",
     "output_type": "stream",
     "text": [
      "0.0\n",
      "0.0\n",
      "0.0\n"
     ]
    },
    {
     "data": {
      "image/png": "[encoded data removed]",
      "text/plain": [
       "<matplotlib.figure.Figure at 0x115666ba8>"
      ]
     },
     "metadata": {},
     "output_type": "display_data"
    }
   ],
   "source": [
    "fig, axes = plt.subplots(nrows=1, ncols=3, figsize=(15, 4))\n",
    "for i, dstr in enumerate(distributions_betweeness_clusters):\n",
    "    axes[i].hist(dstr, color=colors[i], log=True)\n",
    "    print(np.median(dstr))\n",
    "    axes[i].axvline(\n",
    "        np.median(dstr), color=\"sienna\", linestyle=\":\", linewidth=3, label=\"median\"\n",
    "    )\n",
    "    axes[i].title.set_text(labels[i])\n",
    "\n",
    "    fig.text(0.5, 0.00, \"Betweeness Distributions\", ha=\"center\", fontsize=10)\n",
    "plt.savefig('../../assets/images/betweeness_distributions_clusters.pdf')\n"
   ]
  },
  {
   "cell_type": "code",
   "execution_count": 52,
   "metadata": {},
   "outputs": [
    {
     "name": "stdout",
     "output_type": "stream",
     "text": [
      "                0\n",
      "count  815.000000\n",
      "mean     0.005394\n",
      "std      0.022920\n",
      "min      0.000000\n",
      "25%      0.000000\n",
      "50%      0.000000\n",
      "75%      0.000685\n",
      "max      0.366050\n",
      "                 0\n",
      "count  1348.000000\n",
      "mean      0.004796\n",
      "std       0.019530\n",
      "min       0.000000\n",
      "25%       0.000000\n",
      "50%       0.000000\n",
      "75%       0.001485\n",
      "max       0.283100\n",
      "                0\n",
      "count  222.000000\n",
      "mean     0.020329\n",
      "std      0.055084\n",
      "min      0.000000\n",
      "25%      0.000000\n",
      "50%      0.000000\n",
      "75%      0.010851\n",
      "max      0.316164\n"
     ]
    }
   ],
   "source": [
    "for dist in distributions_betweeness_clusters:\n",
    "    temp = pd.DataFrame(dist)\n",
    "    print(temp.describe())\n"
   ]
  },
  {
   "cell_type": "code",
   "execution_count": 53,
   "metadata": {},
   "outputs": [
    {
     "name": "stdout",
     "output_type": "stream",
     "text": [
      "0.0607467116949 The null hypothesis cannot be rejected.\n"
     ]
    },
    {
     "data": {
      "text/plain": [
       "0.060746711694943022"
      ]
     },
     "execution_count": 53,
     "metadata": {},
     "output_type": "execute_result"
    }
   ],
   "source": [
    "test_kruskal(distributions_betweeness_clusters)\n"
   ]
  },
  {
   "cell_type": "code",
   "execution_count": 54,
   "metadata": {},
   "outputs": [
    {
     "name": "stdout",
     "output_type": "stream",
     "text": [
      "0.467899588614 The null hypothesis cannot be rejected.\n"
     ]
    },
    {
     "data": {
      "text/plain": [
       "0.46789958861385561"
      ]
     },
     "execution_count": 54,
     "metadata": {},
     "output_type": "execute_result"
    }
   ],
   "source": [
    "test_mannwhitneyu(\n",
    "    [distributions_betweeness_clusters[0], distributions_betweeness_clusters[1]]\n",
    ")\n"
   ]
  },
  {
   "cell_type": "code",
   "execution_count": 55,
   "metadata": {},
   "outputs": [
    {
     "name": "stdout",
     "output_type": "stream",
     "text": [
      "0.0199799902515 The null hypothesis can be rejected.\n"
     ]
    },
    {
     "data": {
      "text/plain": [
       "0.019979990251474594"
      ]
     },
     "execution_count": 55,
     "metadata": {},
     "output_type": "execute_result"
    }
   ],
   "source": [
    "test_mannwhitneyu(\n",
    "    [distributions_betweeness_clusters[1], distributions_betweeness_clusters[2]],\n",
    "    alternative=\"less\",\n",
    ")\n"
   ]
  },
  {
   "cell_type": "code",
   "execution_count": 56,
   "metadata": {},
   "outputs": [
    {
     "name": "stdout",
     "output_type": "stream",
     "text": [
      "0.0101379522724 The null hypothesis can be rejected.\n"
     ]
    },
    {
     "data": {
      "text/plain": [
       "0.010137952272397936"
      ]
     },
     "execution_count": 56,
     "metadata": {},
     "output_type": "execute_result"
    }
   ],
   "source": [
    "test_mannwhitneyu(\n",
    "    [distributions_betweeness_clusters[0], distributions_betweeness_clusters[2]],\n",
    "    alternative=\"less\",\n",
    ")\n"
   ]
  },
  {
   "cell_type": "code",
   "execution_count": null,
   "metadata": {},
   "outputs": [],
   "source": []
  }
 ],
 "metadata": {
  "kernelspec": {
   "display_name": "literature",
   "language": "python",
   "name": "literature"
  },
  "language_info": {
   "codemirror_mode": {
    "name": "ipython",
    "version": 3
   },
   "file_extension": ".py",
   "mimetype": "text/x-python",
   "name": "python",
   "nbconvert_exporter": "python",
   "pygments_lexer": "ipython3",
   "version": "3.6.0"
  }
 },
 "nbformat": 4,
 "nbformat_minor": 2
}
