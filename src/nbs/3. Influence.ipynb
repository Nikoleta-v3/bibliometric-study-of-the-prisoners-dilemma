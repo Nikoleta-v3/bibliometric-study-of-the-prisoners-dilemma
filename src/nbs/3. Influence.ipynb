{
 "cells": [
  {
   "cell_type": "code",
   "execution_count": 1,
   "metadata": {},
   "outputs": [],
   "source": [
    "import networkx as nx\n",
    "import glob\n",
    "import pandas as pd"
   ]
  },
  {
   "cell_type": "code",
   "execution_count": 2,
   "metadata": {},
   "outputs": [],
   "source": [
    "import numpy as np"
   ]
  },
  {
   "cell_type": "code",
   "execution_count": 3,
   "metadata": {},
   "outputs": [],
   "source": [
    "import imp\n",
    "tools = imp.load_source('tools', '../tools.py')\n",
    "\n",
    "from tools import  write_to_file, test_kruskal"
   ]
  },
  {
   "cell_type": "code",
   "execution_count": 4,
   "metadata": {},
   "outputs": [],
   "source": [
    "graphs = []\n",
    "for filename in ['pd_graph.gml', 'auction_graph.gml', 'anarchy_graph.gml']:\n",
    "    graphs.append(nx.read_gml('../data/networks/{}'.format(filename)))"
   ]
  },
  {
   "cell_type": "code",
   "execution_count": 5,
   "metadata": {},
   "outputs": [],
   "source": [
    "import matplotlib.pyplot as plt\n",
    "import matplotlib\n",
    "\n",
    "%matplotlib inline"
   ]
  },
  {
   "cell_type": "code",
   "execution_count": 6,
   "metadata": {},
   "outputs": [],
   "source": [
    "font = {'size'   : 10,\n",
    "        'weight': 'bold'}\n",
    "matplotlib.rc('font', **font)"
   ]
  },
  {
   "cell_type": "code",
   "execution_count": 7,
   "metadata": {},
   "outputs": [],
   "source": [
    "def get_interval_of_distribution(distribution, interval=.95, reverse=False):\n",
    "    \n",
    "    distribution = np.sort(distribution)\n",
    "    size = len(distribution)\n",
    "    \n",
    "    bound = int((size - interval * size))\n",
    "    \n",
    "    if reverse == True:\n",
    "        distribution[bound:] \n",
    "    return distribution[:-bound] "
   ]
  },
  {
   "cell_type": "code",
   "execution_count": 8,
   "metadata": {},
   "outputs": [],
   "source": [
    "def fix_names_for_table(name):\n",
    "    name = name.capitalize()\n",
    "    return name[:2] + ' ' + name[2:].capitalize()"
   ]
  },
  {
   "cell_type": "code",
   "execution_count": 9,
   "metadata": {},
   "outputs": [],
   "source": [
    "import imp\n",
    "tools = imp.load_source('tools', '../tools.py')\n",
    "\n",
    "from tools import  write_to_file"
   ]
  },
  {
   "cell_type": "markdown",
   "metadata": {},
   "source": [
    "# Centrality Measures"
   ]
  },
  {
   "cell_type": "code",
   "execution_count": 10,
   "metadata": {},
   "outputs": [],
   "source": [
    "betweeness = [sorted(nx.betweenness_centrality(G).items(), \n",
    "              key=lambda x:x[1], reverse=True) for G in graphs]"
   ]
  },
  {
   "cell_type": "code",
   "execution_count": 11,
   "metadata": {},
   "outputs": [],
   "source": [
    "closeness = [sorted(nx.closeness_centrality(G).items(), \n",
    "             key=lambda x:x[1], reverse=True) for G in graphs]"
   ]
  },
  {
   "cell_type": "markdown",
   "metadata": {},
   "source": [
    "**PD central people**"
   ]
  },
  {
   "cell_type": "code",
   "execution_count": 12,
   "metadata": {},
   "outputs": [],
   "source": [
    "bc_centrality = pd.DataFrame(betweeness[0][:10], columns=['Name', 'Betweeness'])\n",
    "bc_centrality.Name = [fix_names_for_table(name) for name in bc_centrality.Name]"
   ]
  },
  {
   "cell_type": "code",
   "execution_count": 13,
   "metadata": {},
   "outputs": [],
   "source": [
    "bc_centrality.index += 1 "
   ]
  },
  {
   "cell_type": "code",
   "execution_count": 14,
   "metadata": {},
   "outputs": [
    {
     "data": {
      "text/html": [
       "<div>\n",
       "<style scoped>\n",
       "    .dataframe tbody tr th:only-of-type {\n",
       "        vertical-align: middle;\n",
       "    }\n",
       "\n",
       "    .dataframe tbody tr th {\n",
       "        vertical-align: top;\n",
       "    }\n",
       "\n",
       "    .dataframe thead th {\n",
       "        text-align: right;\n",
       "    }\n",
       "</style>\n",
       "<table border=\"1\" class=\"dataframe\">\n",
       "  <thead>\n",
       "    <tr style=\"text-align: right;\">\n",
       "      <th></th>\n",
       "      <th>Name</th>\n",
       "      <th>Betweeness</th>\n",
       "    </tr>\n",
       "  </thead>\n",
       "  <tbody>\n",
       "    <tr>\n",
       "      <th>1</th>\n",
       "      <td>M. Perc</td>\n",
       "      <td>0.018903</td>\n",
       "    </tr>\n",
       "    <tr>\n",
       "      <th>2</th>\n",
       "      <td>Z. Wang</td>\n",
       "      <td>0.015962</td>\n",
       "    </tr>\n",
       "    <tr>\n",
       "      <th>3</th>\n",
       "      <td>L. Wang</td>\n",
       "      <td>0.014842</td>\n",
       "    </tr>\n",
       "    <tr>\n",
       "      <th>4</th>\n",
       "      <td>Y. Zhang</td>\n",
       "      <td>0.013178</td>\n",
       "    </tr>\n",
       "    <tr>\n",
       "      <th>5</th>\n",
       "      <td>M. Nowak</td>\n",
       "      <td>0.011588</td>\n",
       "    </tr>\n",
       "    <tr>\n",
       "      <th>6</th>\n",
       "      <td>H. Wang</td>\n",
       "      <td>0.008221</td>\n",
       "    </tr>\n",
       "    <tr>\n",
       "      <th>7</th>\n",
       "      <td>Y. Chen</td>\n",
       "      <td>0.008070</td>\n",
       "    </tr>\n",
       "    <tr>\n",
       "      <th>8</th>\n",
       "      <td>Y. Li</td>\n",
       "      <td>0.007993</td>\n",
       "    </tr>\n",
       "    <tr>\n",
       "      <th>9</th>\n",
       "      <td>Y. Moreno</td>\n",
       "      <td>0.007132</td>\n",
       "    </tr>\n",
       "    <tr>\n",
       "      <th>10</th>\n",
       "      <td>N. Masuda</td>\n",
       "      <td>0.006087</td>\n",
       "    </tr>\n",
       "  </tbody>\n",
       "</table>\n",
       "</div>"
      ],
      "text/plain": [
       "         Name  Betweeness\n",
       "1     M. Perc    0.018903\n",
       "2     Z. Wang    0.015962\n",
       "3     L. Wang    0.014842\n",
       "4    Y. Zhang    0.013178\n",
       "5    M. Nowak    0.011588\n",
       "6     H. Wang    0.008221\n",
       "7     Y. Chen    0.008070\n",
       "8       Y. Li    0.007993\n",
       "9   Y. Moreno    0.007132\n",
       "10  N. Masuda    0.006087"
      ]
     },
     "execution_count": 14,
     "metadata": {},
     "output_type": "execute_result"
    }
   ],
   "source": [
    "bc_centrality"
   ]
  },
  {
   "cell_type": "code",
   "execution_count": 15,
   "metadata": {},
   "outputs": [],
   "source": [
    "write_to_file(metric=bc_centrality.to_latex(), filename=\"central_authors.tex\")"
   ]
  },
  {
   "cell_type": "code",
   "execution_count": 16,
   "metadata": {},
   "outputs": [],
   "source": [
    "cc_centrality = pd.DataFrame(closeness[0][:10], columns=['Name', 'Closeness'])\n",
    "cc_centrality.Name = [fix_names_for_table(name) for name in cc_centrality.Name]"
   ]
  },
  {
   "cell_type": "code",
   "execution_count": 17,
   "metadata": {},
   "outputs": [],
   "source": [
    "cc_centrality.index += 1 "
   ]
  },
  {
   "cell_type": "code",
   "execution_count": 18,
   "metadata": {},
   "outputs": [],
   "source": [
    "write_to_file(metric=cc_centrality.to_latex(), filename=\"central_authors_cc.tex\")"
   ]
  },
  {
   "cell_type": "markdown",
   "metadata": {},
   "source": [
    "Distributions\n",
    "--------------"
   ]
  },
  {
   "cell_type": "code",
   "execution_count": 19,
   "metadata": {},
   "outputs": [],
   "source": [
    "colors = ['darkorange', 'darkred', 'darkgreen']\n",
    "labels = [r'$G_1$', r'$G_2$', r'$G_3$']"
   ]
  },
  {
   "cell_type": "markdown",
   "metadata": {},
   "source": [
    "**Betweness**"
   ]
  },
  {
   "cell_type": "code",
   "execution_count": 20,
   "metadata": {},
   "outputs": [],
   "source": [
    "distributions_betweeness = [[point[1] for point in coeff] for coeff in betweeness]"
   ]
  },
  {
   "cell_type": "code",
   "execution_count": 21,
   "metadata": {},
   "outputs": [
    {
     "data": {
      "image/png": "[encoded data removed]",
      "text/plain": [
       "<Figure size 1080x288 with 3 Axes>"
      ]
     },
     "metadata": {},
     "output_type": "display_data"
    }
   ],
   "source": [
    "fig, axes = plt.subplots(nrows=1, ncols=3, figsize=(15, 4))\n",
    "for i, dstr in enumerate(distributions_betweeness): \n",
    "    axes[i].hist(dstr,  color=colors[i]);\n",
    "    axes[i].axvline(np.median(dstr), color='sienna', linestyle=':', linewidth=3, label='median')\n",
    "    axes[i].title.set_text(labels[i])\n",
    "    \n",
    "    fig.text(0.5, 0.00, 'Betweeness Distributions', ha='center', fontsize=10)\n",
    "    \n",
    "plt.savefig('../../assets/images/betweeness_distributions.pdf')"
   ]
  },
  {
   "cell_type": "code",
   "execution_count": 22,
   "metadata": {},
   "outputs": [
    {
     "data": {
      "image/png": "[encoded data removed]",
      "text/plain": [
       "<Figure size 432x360 with 1 Axes>"
      ]
     },
     "metadata": {},
     "output_type": "display_data"
    }
   ],
   "source": [
    "fig, axes = plt.subplots(figsize=(6, 5))\n",
    "parts = plt.violinplot(distributions_betweeness, widths=.6, showmedians=False, showextrema=False);\n",
    "\n",
    "for pc in parts['bodies']:\n",
    "    pc.set_facecolor(colors[0])\n",
    "    pc.set_edgecolor('black')\n",
    "    pc.set_alpha(1)"
   ]
  },
  {
   "cell_type": "code",
   "execution_count": 23,
   "metadata": {},
   "outputs": [
    {
     "name": "stdout",
     "output_type": "stream",
     "text": [
      "1.5021810778164442e-16 The null hypothesis can be rejected.\n"
     ]
    }
   ],
   "source": [
    "test_kruskal(distributions_betweeness)"
   ]
  },
  {
   "cell_type": "code",
   "execution_count": 24,
   "metadata": {},
   "outputs": [],
   "source": [
    "nighty_five = [get_interval_of_distribution(dist, interval=.95) for dist in distributions_betweeness]"
   ]
  },
  {
   "cell_type": "code",
   "execution_count": 25,
   "metadata": {},
   "outputs": [
    {
     "name": "stdout",
     "output_type": "stream",
     "text": [
      "4.002808905102281e-21 The null hypothesis can be rejected.\n"
     ]
    }
   ],
   "source": [
    "test_kruskal(nighty_five)"
   ]
  },
  {
   "cell_type": "code",
   "execution_count": 26,
   "metadata": {},
   "outputs": [],
   "source": [
    "# and do a Kruskall Wallis test again."
   ]
  },
  {
   "cell_type": "code",
   "execution_count": 27,
   "metadata": {},
   "outputs": [
    {
     "data": {
      "image/png": "[encoded data removed]",
      "text/plain": [
       "<Figure size 432x360 with 1 Axes>"
      ]
     },
     "metadata": {},
     "output_type": "display_data"
    }
   ],
   "source": [
    "fig, axes = plt.subplots(figsize=(6, 5))\n",
    "parts = plt.violinplot(nighty_five, widths=.6, showmedians=False, showextrema=False);\n",
    "\n",
    "for pc in parts['bodies']:\n",
    "    pc.set_facecolor(colors[0])\n",
    "    pc.set_edgecolor('black')\n",
    "    pc.set_alpha(1)"
   ]
  },
  {
   "cell_type": "code",
   "execution_count": null,
   "metadata": {},
   "outputs": [],
   "source": []
  },
  {
   "cell_type": "markdown",
   "metadata": {},
   "source": [
    "**Closeness**"
   ]
  },
  {
   "cell_type": "code",
   "execution_count": 28,
   "metadata": {},
   "outputs": [],
   "source": [
    "distributions_close = [[point[1] for point in coeff] for coeff in closeness]"
   ]
  },
  {
   "cell_type": "code",
   "execution_count": 29,
   "metadata": {},
   "outputs": [
    {
     "data": {
      "image/png": "[encoded data removed]",
      "text/plain": [
       "<Figure size 1080x288 with 3 Axes>"
      ]
     },
     "metadata": {},
     "output_type": "display_data"
    }
   ],
   "source": [
    "fig, axes = plt.subplots(nrows=1, ncols=3, figsize=(15, 4))\n",
    "for i, dstr in enumerate(distributions_close): \n",
    "    axes[i].hist(dstr,  color=colors[i]);\n",
    "    axes[i].axvline(np.median(dstr), color='sienna', linestyle=':', linewidth=3, label='median')\n",
    "    axes[i].title.set_text(labels[i])\n",
    "    \n",
    "    fig.text(0.5, 0.00, 'Closeness Distributions', ha='center', fontsize=10)\n",
    "    \n",
    "plt.savefig('../../assets/images/closeness_distributions.pdf')"
   ]
  },
  {
   "cell_type": "code",
   "execution_count": 30,
   "metadata": {},
   "outputs": [],
   "source": [
    "ipd = pd.read_json('../data/pd_November_2018_clean.json')\n",
    "auction = pd.read_json('../data/auction_November_2018_clean.json')\n",
    "anarchy = pd.read_json('../data/anarchy_November_2018_clean.json')"
   ]
  },
  {
   "cell_type": "code",
   "execution_count": 31,
   "metadata": {},
   "outputs": [],
   "source": [
    "dataframes = [ipd, auction, anarchy]"
   ]
  },
  {
   "cell_type": "code",
   "execution_count": 32,
   "metadata": {},
   "outputs": [],
   "source": [
    "central_names = [entry[0] for entry in closeness[2] if (entry[1] > 0.00) and (entry[1] < 0.02)]"
   ]
  },
  {
   "cell_type": "code",
   "execution_count": 33,
   "metadata": {},
   "outputs": [
    {
     "data": {
      "text/plain": [
       "array(['PLOS', 'IEEE', 'Springer', 'arXiv', 'Nature'], dtype=object)"
      ]
     },
     "execution_count": 33,
     "metadata": {},
     "output_type": "execute_result"
    }
   ],
   "source": [
    "anarchy[anarchy['author'].isin(central_names)]['provenance'].unique()"
   ]
  },
  {
   "cell_type": "code",
   "execution_count": 34,
   "metadata": {},
   "outputs": [
    {
     "data": {
      "text/plain": [
       "<networkx.classes.graph.Graph at 0x7fc8c85e7fd0>"
      ]
     },
     "execution_count": 34,
     "metadata": {},
     "output_type": "execute_result"
    }
   ],
   "source": [
    "graphs[2]"
   ]
  },
  {
   "cell_type": "code",
   "execution_count": 35,
   "metadata": {},
   "outputs": [
    {
     "data": {
      "text/plain": [
       "15"
      ]
     },
     "execution_count": 35,
     "metadata": {},
     "output_type": "execute_result"
    }
   ],
   "source": [
    "len(list(graphs[2].neighbors(central_names[0])))"
   ]
  },
  {
   "cell_type": "code",
   "execution_count": 36,
   "metadata": {},
   "outputs": [
    {
     "data": {
      "text/plain": [
       "647"
      ]
     },
     "execution_count": 36,
     "metadata": {},
     "output_type": "execute_result"
    }
   ],
   "source": [
    "len(central_names)"
   ]
  },
  {
   "cell_type": "code",
   "execution_count": 37,
   "metadata": {},
   "outputs": [],
   "source": [
    "subgraphs_of_anarchy = nx.connected_component_subgraphs(graphs[2])"
   ]
  },
  {
   "cell_type": "code",
   "execution_count": 38,
   "metadata": {},
   "outputs": [],
   "source": [
    "check_complete = []\n",
    "for G in subgraphs_of_anarchy:\n",
    "    check_complete.append(nx.is_connected(G))"
   ]
  },
  {
   "cell_type": "code",
   "execution_count": 39,
   "metadata": {},
   "outputs": [
    {
     "data": {
      "text/plain": [
       "True"
      ]
     },
     "execution_count": 39,
     "metadata": {},
     "output_type": "execute_result"
    }
   ],
   "source": [
    "all(check_complete)"
   ]
  },
  {
   "cell_type": "code",
   "execution_count": 40,
   "metadata": {},
   "outputs": [
    {
     "ename": "NameError",
     "evalue": "name 'keep_graph' is not defined",
     "output_type": "error",
     "traceback": [
      "\u001b[0;31m---------------------------------------------------------------------------\u001b[0m",
      "\u001b[0;31mNameError\u001b[0m                                 Traceback (most recent call last)",
      "\u001b[0;32m<ipython-input-40-ae4e4f8c369e>\u001b[0m in \u001b[0;36m<module>\u001b[0;34m()\u001b[0m\n\u001b[0;32m----> 1\u001b[0;31m \u001b[0mnx\u001b[0m\u001b[0;34m.\u001b[0m\u001b[0mdraw\u001b[0m\u001b[0;34m(\u001b[0m\u001b[0mkeep_graph\u001b[0m\u001b[0;34m[\u001b[0m\u001b[0;36m0\u001b[0m\u001b[0;34m]\u001b[0m\u001b[0;34m,\u001b[0m \u001b[0mwith_labels\u001b[0m\u001b[0;34m=\u001b[0m\u001b[0;32mTrue\u001b[0m\u001b[0;34m)\u001b[0m\u001b[0;34m\u001b[0m\u001b[0m\n\u001b[0m",
      "\u001b[0;31mNameError\u001b[0m: name 'keep_graph' is not defined"
     ]
    }
   ],
   "source": [
    "nx.draw(keep_graph[0], with_labels=True)"
   ]
  },
  {
   "cell_type": "code",
   "execution_count": null,
   "metadata": {},
   "outputs": [],
   "source": [
    "nx.draw(keep_graph[0], with_labels=True)"
   ]
  },
  {
   "cell_type": "code",
   "execution_count": null,
   "metadata": {},
   "outputs": [],
   "source": []
  },
  {
   "cell_type": "code",
   "execution_count": null,
   "metadata": {},
   "outputs": [],
   "source": [
    "percentages = []\n",
    "for i, data in enumerate(dataframes):\n",
    "    central_names = [entry[0] for entry in closeness[i] if entry[1] > 0.02]\n",
    "    percentages.append(len(central_names))"
   ]
  },
  {
   "cell_type": "code",
   "execution_count": null,
   "metadata": {},
   "outputs": [],
   "source": []
  },
  {
   "cell_type": "code",
   "execution_count": null,
   "metadata": {},
   "outputs": [],
   "source": [
    "central_names = [entry[0] for entry in closeness[1] if entry[1] > 0.02]"
   ]
  },
  {
   "cell_type": "code",
   "execution_count": null,
   "metadata": {},
   "outputs": [],
   "source": [
    "auction[auction['author'].isin(central_names)]"
   ]
  },
  {
   "cell_type": "code",
   "execution_count": null,
   "metadata": {},
   "outputs": [],
   "source": []
  },
  {
   "cell_type": "code",
   "execution_count": null,
   "metadata": {},
   "outputs": [],
   "source": [
    "nighty_closeness = [get_interval_of_distribution(dist, interval=.90, reverse=True) for dist in distributions_close]"
   ]
  },
  {
   "cell_type": "code",
   "execution_count": null,
   "metadata": {},
   "outputs": [],
   "source": [
    "def set_axis_style(ax, labels):\n",
    "    ax.get_xaxis().set_tick_params(direction='out')\n",
    "    ax.xaxis.set_ticks_position('bottom')\n",
    "    ax.set_xticks(np.arange(1, len(labels) + 1))\n",
    "    ax.set_xticklabels(labels)\n",
    "    ax.set_xlim(0.25, len(labels) + 0.75)\n",
    "    ax.set_xlabel('Closseness centrality')"
   ]
  },
  {
   "cell_type": "code",
   "execution_count": null,
   "metadata": {},
   "outputs": [],
   "source": [
    "fig, axes = plt.subplots(figsize=(8, 5))\n",
    "parts = plt.violinplot(distributions_close, widths=.6, showmedians=False, showextrema=False);\n",
    "\n",
    "for i, pc in enumerate(parts['bodies']):\n",
    "    pc.set_facecolor(colors[i])\n",
    "    pc.set_edgecolor('black')\n",
    "    pc.set_alpha(1)\n",
    "    \n",
    "set_axis_style(axes, labels)\n",
    "\n",
    "plt.savefig('../../assets/images/closeness_violins.pdf')"
   ]
  },
  {
   "cell_type": "code",
   "execution_count": null,
   "metadata": {},
   "outputs": [],
   "source": [
    "test_kruskal(distributions_close)"
   ]
  },
  {
   "cell_type": "markdown",
   "metadata": {},
   "source": [
    "**Over time**"
   ]
  },
  {
   "cell_type": "code",
   "execution_count": null,
   "metadata": {},
   "outputs": [],
   "source": [
    "cum_graphs = []\n",
    "for filename in glob.glob('../data/networks/G_pd*.gml'):\n",
    "    cum_graphs.append(nx.read_gml(filename))"
   ]
  },
  {
   "cell_type": "code",
   "execution_count": null,
   "metadata": {},
   "outputs": [],
   "source": [
    "betweeness = [sorted(nx.betweenness_centrality(G).items(), \n",
    "              key=lambda x:x[1], reverse=True) for G in cum_graphs]"
   ]
  },
  {
   "cell_type": "code",
   "execution_count": null,
   "metadata": {},
   "outputs": [],
   "source": [
    "closeness = [sorted(nx.closeness_centrality(G).items(), \n",
    "             key=lambda x:x[1], reverse=True) for G in cum_graphs]"
   ]
  },
  {
   "cell_type": "code",
   "execution_count": null,
   "metadata": {},
   "outputs": [],
   "source": [
    "distributions_betweeness = [[point[1] for point in between] for between in betweeness]\n",
    "distributions_closeness = [[point[1] for point in between] for between in closeness]"
   ]
  },
  {
   "cell_type": "code",
   "execution_count": null,
   "metadata": {},
   "outputs": [],
   "source": [
    "fig, axes = plt.subplots(figsize=(20, 10))\n",
    "parts = plt.violinplot(distributions_betweeness, widths=.6, showmedians=False,\n",
    "                       showextrema=False);\n",
    "\n",
    "for pc in parts['bodies']:\n",
    "    pc.set_facecolor(colors[0])\n",
    "    pc.set_edgecolor('black')\n",
    "    pc.set_alpha(1)\n",
    "    \n",
    "axes.set_ylabel('Betweeness Centrality', fontsize=12)\n",
    "axes.set_xlabel('Periods', fontsize=12);"
   ]
  },
  {
   "cell_type": "code",
   "execution_count": null,
   "metadata": {},
   "outputs": [],
   "source": [
    "fig, axes = plt.subplots(figsize=(20, 10))\n",
    "parts = plt.violinplot(distributions_closeness, widths=.6, showmedians=False,\n",
    "                       showextrema=False);\n",
    "\n",
    "for pc in parts['bodies']:\n",
    "    pc.set_facecolor('#D43F3A')\n",
    "    pc.set_edgecolor('black')\n",
    "    pc.set_alpha(1)"
   ]
  },
  {
   "cell_type": "code",
   "execution_count": null,
   "metadata": {},
   "outputs": [],
   "source": []
  },
  {
   "cell_type": "code",
   "execution_count": null,
   "metadata": {},
   "outputs": [],
   "source": []
  }
 ],
 "metadata": {
  "kernelspec": {
   "display_name": "literature",
   "language": "python",
   "name": "literature"
  },
  "language_info": {
   "codemirror_mode": {
    "name": "ipython",
    "version": 3
   },
   "file_extension": ".py",
   "mimetype": "text/x-python",
   "name": "python",
   "nbconvert_exporter": "python",
   "pygments_lexer": "ipython3",
   "version": "3.5.5"
  }
 },
 "nbformat": 4,
 "nbformat_minor": 2
}
