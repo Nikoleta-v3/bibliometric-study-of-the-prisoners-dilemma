{
 "cells": [
  {
   "cell_type": "markdown",
   "metadata": {},
   "source": [
    "Construct Co Authorship Networks\n",
    "---------------------------"
   ]
  },
  {
   "cell_type": "code",
   "execution_count": 4,
   "metadata": {},
   "outputs": [],
   "source": [
    "import matplotlib\n",
    "import matplotlib.pyplot as plt\n",
    "import pandas as pd\n",
    "import networkx as nx\n",
    "import numpy as np"
   ]
  },
  {
   "cell_type": "code",
   "execution_count": 5,
   "metadata": {},
   "outputs": [],
   "source": [
    "import imp\n",
    "tools = imp.load_source('tools', '../tools.py')\n",
    "\n",
    "from tools import generate_graph"
   ]
  },
  {
   "cell_type": "code",
   "execution_count": 6,
   "metadata": {},
   "outputs": [],
   "source": [
    "%matplotlib inline"
   ]
  },
  {
   "cell_type": "code",
   "execution_count": 7,
   "metadata": {},
   "outputs": [],
   "source": [
    "import matplotlib.patches as mpatches\n",
    "import matplotlib.lines as lines\n",
    "\n",
    "legend_properties = {'weight':'bold'}"
   ]
  },
  {
   "cell_type": "markdown",
   "metadata": {},
   "source": [
    "Generating Graph\n",
    "------------------"
   ]
  },
  {
   "cell_type": "code",
   "execution_count": 8,
   "metadata": {},
   "outputs": [],
   "source": [
    "ipd     = pd.read_json('../data/pd_November_2018_clean.json')\n",
    "anarchy = pd.read_json('../data/anarchy_November_2018_clean.json')\n",
    "auction  = pd.read_json('../data/auction_November_2018_clean.json')"
   ]
  },
  {
   "cell_type": "code",
   "execution_count": 6,
   "metadata": {},
   "outputs": [],
   "source": [
    "G_1 = generate_graph(ipd)\n",
    "G_2 = generate_graph(anarchy)\n",
    "G_3 = generate_graph(auction)"
   ]
  },
  {
   "cell_type": "code",
   "execution_count": 7,
   "metadata": {},
   "outputs": [],
   "source": [
    "graphs = [G_1, G_2, G_3]"
   ]
  },
  {
   "cell_type": "code",
   "execution_count": 8,
   "metadata": {},
   "outputs": [],
   "source": [
    "for G, filename in zip(graphs, ['pd_graph', 'auction_graph', 'anarchy_graph']):\n",
    "    nx.write_gml(G, \"../data/{}.gml\".format(filename))"
   ]
  },
  {
   "cell_type": "markdown",
   "metadata": {},
   "source": [
    "Illustrating co-authors network\n",
    "------------------------"
   ]
  },
  {
   "cell_type": "markdown",
   "metadata": {},
   "source": [
    "**Use Gephi**"
   ]
  },
  {
   "cell_type": "markdown",
   "metadata": {},
   "source": [
    "Network Metrics\n",
    "-----------------------"
   ]
  },
  {
   "cell_type": "code",
   "execution_count": 11,
   "metadata": {},
   "outputs": [
    {
     "data": {
      "text/plain": [
       "[9680, 1920, 7753]"
      ]
     },
     "execution_count": 11,
     "metadata": {},
     "output_type": "execute_result"
    }
   ],
   "source": [
    "number_edges = [nx.number_of_edges(G) for G in graphs]"
   ]
  },
  {
   "cell_type": "code",
   "execution_count": 12,
   "metadata": {},
   "outputs": [],
   "source": [
    "file = open(\"../../assets/pd_edges.txt\", 'w')\n",
    "file.write('{}'.format(number_edges[0]))\n",
    "file.close()"
   ]
  },
  {
   "cell_type": "code",
   "execution_count": 14,
   "metadata": {},
   "outputs": [
    {
     "data": {
      "text/plain": [
       "[4569, 1084, 4576]"
      ]
     },
     "execution_count": 14,
     "metadata": {},
     "output_type": "execute_result"
    }
   ],
   "source": [
    "number_nodes = [nx.number_of_nodes(G) for G in graphs]\n",
    "number_nodes"
   ]
  },
  {
   "cell_type": "code",
   "execution_count": 14,
   "metadata": {},
   "outputs": [],
   "source": [
    "file = open(\"../../assets/pd_unique_authors.txt\", 'w')\n",
    "file.write('{}'.format(number_nodes[0]))\n",
    "file.close()"
   ]
  },
  {
   "cell_type": "markdown",
   "metadata": {},
   "source": [
    "Collaborative Behaviour\n",
    "-----------------------------"
   ]
  },
  {
   "cell_type": "code",
   "execution_count": 9,
   "metadata": {},
   "outputs": [],
   "source": [
    "isolated_authors = [len(list(nx.isolates(G))) for G in graphs]"
   ]
  },
  {
   "cell_type": "code",
   "execution_count": 10,
   "metadata": {},
   "outputs": [],
   "source": [
    "file = open(\"../../assets/isolated_authors.txt\", 'w')\n",
    "file.write('{}'.format(isolated_authors[0]))\n",
    "file.close()"
   ]
  },
  {
   "cell_type": "code",
   "execution_count": 15,
   "metadata": {},
   "outputs": [],
   "source": [
    "isolated_authors_percentage = [isolated / nodes for isolated, nodes in zip(isolated_authors, number_nodes)]"
   ]
  },
  {
   "cell_type": "code",
   "execution_count": 16,
   "metadata": {},
   "outputs": [],
   "source": [
    "file = open(\"../../assets/isolated_authors_percentage.txt\", 'w')\n",
    "file.write('{}'.format(isolated_authors_percentage[0]))\n",
    "file.close()"
   ]
  },
  {
   "cell_type": "code",
   "execution_count": 17,
   "metadata": {},
   "outputs": [],
   "source": [
    "number_connected_components = [nx.number_connected_components(G) for G in graphs]"
   ]
  },
  {
   "cell_type": "code",
   "execution_count": 18,
   "metadata": {},
   "outputs": [
    {
     "data": {
      "text/plain": [
       "[989, 198, 949]"
      ]
     },
     "execution_count": 18,
     "metadata": {},
     "output_type": "execute_result"
    }
   ],
   "source": [
    "number_connected_components"
   ]
  },
  {
   "cell_type": "code",
   "execution_count": 19,
   "metadata": {},
   "outputs": [],
   "source": [
    "file = open(\"../../assets/number_of_connected.txt\", 'w')\n",
    "file.write('{}'.format(number_connected_components[0]))\n",
    "file.close()"
   ]
  },
  {
   "cell_type": "code",
   "execution_count": 20,
   "metadata": {},
   "outputs": [],
   "source": [
    "subgraphs = [list(nx.connected_component_subgraphs(G)) for G in graphs]"
   ]
  },
  {
   "cell_type": "code",
   "execution_count": 21,
   "metadata": {},
   "outputs": [],
   "source": [
    "largest_cc = [len(max(nx.connected_components(G), key=len)) for G in graphs]"
   ]
  },
  {
   "cell_type": "code",
   "execution_count": 22,
   "metadata": {},
   "outputs": [],
   "source": [
    "file = open(\"../../assets/largest_cc.txt\", 'w')\n",
    "file.write('{}'.format(largest_cc[0]))\n",
    "file.close()"
   ]
  },
  {
   "cell_type": "code",
   "execution_count": 23,
   "metadata": {},
   "outputs": [],
   "source": [
    "clustering_coeff = [round(nx.average_clustering(G), 3) for G in graphs]"
   ]
  },
  {
   "cell_type": "code",
   "execution_count": 24,
   "metadata": {},
   "outputs": [],
   "source": [
    "file = open(\"../../assets/clustering_coeff.txt\", 'w')\n",
    "file.write('{}'.format(clustering_coeff[0]))\n",
    "file.close()"
   ]
  },
  {
   "cell_type": "code",
   "execution_count": 25,
   "metadata": {},
   "outputs": [],
   "source": [
    "#from networkx.algorithms.community import greedy_modularity_communities\n",
    "import community"
   ]
  },
  {
   "cell_type": "code",
   "execution_count": 26,
   "metadata": {},
   "outputs": [],
   "source": [
    "#modularity =  [greedy_modularity_communities(G) for G in graphs]"
   ]
  },
  {
   "cell_type": "code",
   "execution_count": 27,
   "metadata": {},
   "outputs": [],
   "source": [
    "communities = [community.best_partition(G) for G in graphs]"
   ]
  },
  {
   "cell_type": "code",
   "execution_count": 28,
   "metadata": {},
   "outputs": [],
   "source": [
    "# global_modularity = [community.modularity(communities, G) for G in graphs]"
   ]
  },
  {
   "cell_type": "code",
   "execution_count": 31,
   "metadata": {},
   "outputs": [],
   "source": [
    "# c = list(greedy_modularity_communities(graphs[0]))\n",
    "# sorted(c[0])"
   ]
  },
  {
   "cell_type": "code",
   "execution_count": 32,
   "metadata": {},
   "outputs": [],
   "source": [
    "degree_distributions = [sorted([d for n, d in G.degree()], reverse=True) for G in graphs]"
   ]
  },
  {
   "cell_type": "code",
   "execution_count": 33,
   "metadata": {},
   "outputs": [],
   "source": [
    "av_degree = [np.mean(degree) for degree in degree_distributions]"
   ]
  },
  {
   "cell_type": "code",
   "execution_count": 34,
   "metadata": {},
   "outputs": [],
   "source": [
    "file = open(\"../../assets/av_degree.txt\", 'w')\n",
    "file.write('{}'.format(av_degree[0]))\n",
    "file.close()"
   ]
  },
  {
   "cell_type": "code",
   "execution_count": 36,
   "metadata": {},
   "outputs": [
    {
     "data": {
      "image/png": "[encoded data removed]",
      "text/plain": [
       "<Figure size 432x288 with 1 Axes>"
      ]
     },
     "metadata": {},
     "output_type": "display_data"
    }
   ],
   "source": [
    "fig = plt.figure\n",
    "plt.hist(degree_distributions[0],  color='darkorange')\n",
    "plt.ylabel('Normalised Degree')\n",
    "plt.title(\"Degree Distribution Prisoner's Dilemma Co authorship Network\")\n",
    "plt.savefig('../../assets/images/pd_degree_distribution.pdf')"
   ]
  },
  {
   "cell_type": "code",
   "execution_count": 50,
   "metadata": {},
   "outputs": [],
   "source": [
    "frame = {'# Isolated': isolated_authors, '% Isolated': isolated_authors_percentage,\n",
    "         '# Connected Components': number_connected_components, 'Largest cc': largest_cc,\n",
    "         'Clustering': clustering_coeff, 'Av. Degree': av_degree}"
   ]
  },
  {
   "cell_type": "code",
   "execution_count": 60,
   "metadata": {},
   "outputs": [],
   "source": [
    "table = pd.DataFrame.from_dict(frame, orient='index').round(2)\n",
    "table.columns= [\"Prisoner's Dilemma\", \"Price of Anarchy\", \"Auction Games\"]"
   ]
  },
  {
   "cell_type": "code",
   "execution_count": 61,
   "metadata": {},
   "outputs": [],
   "source": [
    "file = open(\"../../assets/network_comparison.tex\", 'w')\n",
    "file.write('{}'.format(table.to_latex()))\n",
    "file.close()"
   ]
  },
  {
   "cell_type": "markdown",
   "metadata": {},
   "source": [
    "Temporal\n",
    "---------"
   ]
  },
  {
   "cell_type": "markdown",
   "metadata": {},
   "source": [
    "Av. degree over time  + largest component over time"
   ]
  },
  {
   "cell_type": "code",
   "execution_count": 2,
   "metadata": {},
   "outputs": [],
   "source": [
    "start = 1951\n",
    "periods = []\n",
    "while start < 2021:\n",
    "    start += 5\n",
    "    periods.append(start)"
   ]
  },
  {
   "cell_type": "code",
   "execution_count": 11,
   "metadata": {},
   "outputs": [],
   "source": [
    "cumilative = [ipd[ipd['date'] <= period] for period in periods]"
   ]
  },
  {
   "cell_type": "code",
   "execution_count": 12,
   "metadata": {},
   "outputs": [
    {
     "name": "stderr",
     "output_type": "stream",
     "text": [
      "/home/nightwing/anaconda3/envs/literature/lib/python3.5/site-packages/pandas/core/generic.py:4405: SettingWithCopyWarning: \n",
      "A value is trying to be set on a copy of a slice from a DataFrame.\n",
      "Try using .loc[row_indexer,col_indexer] = value instead\n",
      "\n",
      "See the caveats in the documentation: http://pandas.pydata.org/pandas-docs/stable/indexing.html#indexing-view-versus-copy\n",
      "  self[name] = value\n"
     ]
    }
   ],
   "source": [
    "cumilative_graphs = [generate_graph(c) for c in cumilative]"
   ]
  },
  {
   "cell_type": "code",
   "execution_count": 18,
   "metadata": {},
   "outputs": [],
   "source": [
    "degree_points = []\n",
    "largest_cc_points = []\n",
    "number_of_cc_points = []\n",
    "for G in cumilative_graphs:\n",
    "    degree = sorted([d for n, d in G.degree()], reverse=True)\n",
    "    largest_cc_points.append(len(max(nx.connected_components(G), key=len)))\n",
    "    degree_points.append(np.mean(degree))\n",
    "    number_of_cc_points.append(nx.number_connected_components(G))"
   ]
  },
  {
   "cell_type": "code",
   "execution_count": 20,
   "metadata": {},
   "outputs": [
    {
     "data": {
      "image/png": "[encoded data removed]",
      "text/plain": [
       "<Figure size 432x288 with 1 Axes>"
      ]
     },
     "metadata": {},
     "output_type": "display_data"
    }
   ],
   "source": [
    "fig = plt.figure()\n",
    "plt.plot(periods, largest_cc_points, '-o');\n",
    "plt.plot(periods, number_of_cc_points, '-o');"
   ]
  },
  {
   "cell_type": "code",
   "execution_count": 23,
   "metadata": {},
   "outputs": [
    {
     "data": {
      "image/png": "[encoded data removed]",
      "text/plain": [
       "<Figure size 432x288 with 1 Axes>"
      ]
     },
     "metadata": {},
     "output_type": "display_data"
    }
   ],
   "source": [
    "fig = plt.figure()\n",
    "plt.plot(periods, degree_points, '--bo');"
   ]
  },
  {
   "cell_type": "markdown",
   "metadata": {},
   "source": [
    "**Centrality**\n",
    "\n",
    "In graph theory and network analysis, indicators of centrality identify the most important vertices within a graph. \n",
    "*wikipedia link: https://en.wikipedia.org/wiki/Centrality*\n",
    "\n",
    "We could illustrate these names on the graph."
   ]
  },
  {
   "cell_type": "code",
   "execution_count": 106,
   "metadata": {},
   "outputs": [],
   "source": [
    "# betweeness = sorted(nx.betweenness_centrality(G, normalized=True).items(), \n",
    "#                     key=lambda x:x[1], reverse=True)"
   ]
  },
  {
   "cell_type": "code",
   "execution_count": null,
   "metadata": {},
   "outputs": [],
   "source": [
    "dist = [b[1] for b in betweeness]"
   ]
  },
  {
   "cell_type": "code",
   "execution_count": null,
   "metadata": {},
   "outputs": [],
   "source": [
    "file = open(\"pd_bc_dist.tex\",'w')\n",
    "file.write('{}'.format(dist))\n",
    "file.close()"
   ]
  },
  {
   "cell_type": "code",
   "execution_count": null,
   "metadata": {},
   "outputs": [],
   "source": [
    "betweeness = pd.DataFrame(betweeness[0:5], columns=['Author name', 'Betweeness'])\n",
    "betweeness['Author name'] = [name.title() for name in betweeness['Author name']]\n",
    "betweeness.index += 1"
   ]
  },
  {
   "cell_type": "code",
   "execution_count": null,
   "metadata": {},
   "outputs": [],
   "source": [
    "closeness_rank = sorted(nx.closeness_centrality(G, normalized=True).items(), \n",
    "                   key=lambda x:x[1], reverse=True)"
   ]
  },
  {
   "cell_type": "code",
   "execution_count": null,
   "metadata": {},
   "outputs": [],
   "source": [
    "dist = [b[1] for b in closeness_rank]"
   ]
  },
  {
   "cell_type": "code",
   "execution_count": null,
   "metadata": {},
   "outputs": [],
   "source": [
    "file = open(\"pd_cc_dist.tex\",'w')\n",
    "file.write('{}'.format(dist))\n",
    "file.close()"
   ]
  },
  {
   "cell_type": "code",
   "execution_count": null,
   "metadata": {},
   "outputs": [],
   "source": [
    "closeness_rank = pd.DataFrame(closeness_rank[0:5], columns=['Author name', 'Closeness'])\n",
    "closeness_rank['Author name'] = [name.title() for name in closeness_rank['Author name']]\n",
    "closeness_rank.index += 1"
   ]
  },
  {
   "cell_type": "code",
   "execution_count": null,
   "metadata": {},
   "outputs": [],
   "source": [
    "for centrality, label in zip([betweeness, closeness_rank],\n",
    "                             ['betweness', 'closeness']):\n",
    "    file = open(\"/home/nightwing/rsc/Literature-Article/assets/prisoners_centrality_{}.tex\".format(label),\n",
    "                'w')\n",
    "    file.write('{}'.format(pd.DataFrame(centrality).to_latex()))\n",
    "    file.close()"
   ]
  },
  {
   "cell_type": "code",
   "execution_count": null,
   "metadata": {},
   "outputs": [],
   "source": []
  }
 ],
 "metadata": {
  "anaconda-cloud": {},
  "kernelspec": {
   "display_name": "literature",
   "language": "python",
   "name": "literature"
  },
  "language_info": {
   "codemirror_mode": {
    "name": "ipython",
    "version": 3
   },
   "file_extension": ".py",
   "mimetype": "text/x-python",
   "name": "python",
   "nbconvert_exporter": "python",
   "pygments_lexer": "ipython3",
   "version": "3.5.5"
  }
 },
 "nbformat": 4,
 "nbformat_minor": 1
}
