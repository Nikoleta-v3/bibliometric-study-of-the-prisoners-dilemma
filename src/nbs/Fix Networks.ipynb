{
 "cells": [
  {
   "cell_type": "code",
   "execution_count": 2,
   "metadata": {},
   "outputs": [],
   "source": [
    "import pandas as pd\n",
    "import networkx as nx"
   ]
  },
  {
   "cell_type": "code",
   "execution_count": 3,
   "metadata": {},
   "outputs": [],
   "source": [
    "import itertools"
   ]
  },
  {
   "cell_type": "code",
   "execution_count": 4,
   "metadata": {},
   "outputs": [],
   "source": [
    "import tqdm"
   ]
  },
  {
   "cell_type": "code",
   "execution_count": 5,
   "metadata": {},
   "outputs": [],
   "source": [
    "from importlib.machinery import SourceFileLoader\n",
    "\n",
    "tools = SourceFileLoader(\"tools\", \"../tools.py\").load_module()"
   ]
  },
  {
   "cell_type": "code",
   "execution_count": 6,
   "metadata": {},
   "outputs": [],
   "source": [
    "df = pd.read_csv('../data/prisoners_dilemma_articles_meta_data_clean.csv')"
   ]
  },
  {
   "cell_type": "code",
   "execution_count": 7,
   "metadata": {},
   "outputs": [],
   "source": [
    "names = df['author']"
   ]
  },
  {
   "cell_type": "code",
   "execution_count": 8,
   "metadata": {},
   "outputs": [],
   "source": [
    "names = [tools.normalise_name(name) for name in names]"
   ]
  },
  {
   "cell_type": "code",
   "execution_count": 20,
   "metadata": {},
   "outputs": [],
   "source": [
    "df['author_standarized'] = names"
   ]
  },
  {
   "cell_type": "code",
   "execution_count": 21,
   "metadata": {},
   "outputs": [],
   "source": [
    "edges = []\n",
    "authors = []\n",
    "keys = df.unique_key\n",
    "for key in keys:\n",
    "    paper_authors = df[df['unique_key'] == key]['author_standarized'].values\n",
    "    authors.append(paper_authors)\n",
    "    edges += itertools.combinations(paper_authors, 2) \n",
    "G = nx.Graph()\n",
    "G.add_edges_from(edges)\n",
    "G.remove_edges_from(G.selfloop_edges())"
   ]
  },
  {
   "cell_type": "code",
   "execution_count": 10,
   "metadata": {},
   "outputs": [],
   "source": [
    "nx.write_gml(G, '../data/networks/pd_new_graph.gml')"
   ]
  },
  {
   "cell_type": "code",
   "execution_count": 22,
   "metadata": {},
   "outputs": [],
   "source": [
    "nx.write_gml(max(nx.connected_component_subgraphs(G), key=len), '../data/networks/pd_cluster_graph.gml')"
   ]
  },
  {
   "cell_type": "markdown",
   "metadata": {},
   "source": [
    "**Cumulitative**"
   ]
  },
  {
   "cell_type": "code",
   "execution_count": 12,
   "metadata": {},
   "outputs": [],
   "source": [
    "years = sorted(df.date.unique())"
   ]
  },
  {
   "cell_type": "code",
   "execution_count": 19,
   "metadata": {},
   "outputs": [
    {
     "data": {
      "text/plain": [
       "51"
      ]
     },
     "execution_count": 19,
     "metadata": {},
     "output_type": "execute_result"
    }
   ],
   "source": [
    "len(years[6:-1])"
   ]
  },
  {
   "cell_type": "code",
   "execution_count": 18,
   "metadata": {},
   "outputs": [
    {
     "name": "stdout",
     "output_type": "stream",
     "text": [
      "1951 - 1966\n",
      "1951 - 1967\n",
      "1951 - 1968\n",
      "1951 - 1969\n",
      "1951 - 1970\n",
      "1951 - 1971\n",
      "1951 - 1972\n",
      "1951 - 1973\n",
      "1951 - 1974\n",
      "1951 - 1976\n",
      "1951 - 1977\n",
      "1951 - 1978\n",
      "1951 - 1979\n",
      "1951 - 1980\n",
      "1951 - 1981\n",
      "1951 - 1983\n",
      "1951 - 1984\n",
      "1951 - 1985\n",
      "1951 - 1986\n",
      "1951 - 1987\n",
      "1951 - 1988\n",
      "1951 - 1989\n",
      "1951 - 1990\n",
      "1951 - 1991\n",
      "1951 - 1992\n",
      "1951 - 1993\n",
      "1951 - 1994\n",
      "1951 - 1995\n",
      "1951 - 1996\n",
      "1951 - 1997\n",
      "1951 - 1998\n",
      "1951 - 1999\n",
      "1951 - 2000\n",
      "1951 - 2001\n",
      "1951 - 2002\n",
      "1951 - 2003\n",
      "1951 - 2004\n",
      "1951 - 2005\n",
      "1951 - 2006\n",
      "1951 - 2007\n",
      "1951 - 2008\n",
      "1951 - 2009\n",
      "1951 - 2010\n",
      "1951 - 2011\n",
      "1951 - 2012\n",
      "1951 - 2013\n",
      "1951 - 2014\n",
      "1951 - 2015\n",
      "1951 - 2016\n",
      "1951 - 2017\n",
      "1951 - 2018\n"
     ]
    }
   ],
   "source": [
    "for year in years[6:-1]:\n",
    "    print(f'1951 - {int(year)}')"
   ]
  },
  {
   "cell_type": "code",
   "execution_count": 11,
   "metadata": {},
   "outputs": [
    {
     "name": "stderr",
     "output_type": "stream",
     "text": [
      "100%|██████████| 57/57 [14:05<00:00, 14.84s/it]\n"
     ]
    }
   ],
   "source": [
    "years = sorted(df.date.unique())\n",
    "\n",
    "for year in tqdm.tqdm(years[:-1]):\n",
    "    yearly_data = df[df['date'] <= year]\n",
    "    \n",
    "    edges = []\n",
    "    keys = yearly_data.unique_key\n",
    "    for key in keys:\n",
    "        authors = yearly_data[yearly_data['unique_key'] == key]['author_standarized'].values\n",
    "        edges += itertools.combinations(authors, 2) \n",
    "\n",
    "    G = nx.Graph()\n",
    "    G.add_edges_from(edges)\n",
    "    G.remove_edges_from(G.selfloop_edges())\n",
    "    \n",
    "    nx.write_gml(G, f'../data/networks/yearly/G_pd_{int(year)}.gml')"
   ]
  },
  {
   "cell_type": "markdown",
   "metadata": {},
   "source": [
    "**Topics**"
   ]
  },
  {
   "cell_type": "code",
   "execution_count": 12,
   "metadata": {},
   "outputs": [],
   "source": [
    "data_with_topics = pd.read_csv('../data/prisoners_dilemma_meta_data_with_topics.csv')"
   ]
  },
  {
   "cell_type": "code",
   "execution_count": 13,
   "metadata": {},
   "outputs": [],
   "source": [
    "names = data_with_topics['author']"
   ]
  },
  {
   "cell_type": "code",
   "execution_count": 14,
   "metadata": {},
   "outputs": [],
   "source": [
    "names = [tools.normalise_name(name) for name in names]"
   ]
  },
  {
   "cell_type": "code",
   "execution_count": 15,
   "metadata": {},
   "outputs": [],
   "source": [
    "data_with_topics['author_standarized'] = names"
   ]
  },
  {
   "cell_type": "code",
   "execution_count": 16,
   "metadata": {},
   "outputs": [],
   "source": [
    "num_of_topics = len(data_with_topics['Dominant_Topic'].unique())"
   ]
  },
  {
   "cell_type": "code",
   "execution_count": 17,
   "metadata": {},
   "outputs": [
    {
     "data": {
      "application/vnd.jupyter.widget-view+json": {
       "model_id": "0964be028d064d69a9af25b6df1f472f",
       "version_major": 2,
       "version_minor": 0
      },
      "text/plain": [
       "HBox(children=(IntProgress(value=0, max=5), HTML(value='')))"
      ]
     },
     "metadata": {},
     "output_type": "display_data"
    },
    {
     "name": "stdout",
     "output_type": "stream",
     "text": [
      "\n"
     ]
    }
   ],
   "source": [
    "for number in tqdm.tqdm_notebook(range(num_of_topics)):\n",
    "    topic_data = data_with_topics[data_with_topics['Dominant_Topic'] == number]\n",
    "    \n",
    "    edges = []\n",
    "    keys = topic_data.unique_key\n",
    "    for key in keys:\n",
    "        authors = topic_data[topic_data['unique_key'] == key]['author_standarized'].values\n",
    "        edges += itertools.combinations(authors, 2) \n",
    "\n",
    "    G = nx.Graph()\n",
    "    G.add_edges_from(edges)\n",
    "    G.remove_edges_from(G.selfloop_edges())\n",
    "    \n",
    "    nx.write_gml(G, f'../data/networks/topic_{int(number)}_pd_.gml')    "
   ]
  },
  {
   "cell_type": "code",
   "execution_count": null,
   "metadata": {},
   "outputs": [],
   "source": []
  }
 ],
 "metadata": {
  "kernelspec": {
   "display_name": "literature",
   "language": "python",
   "name": "literature"
  },
  "language_info": {
   "codemirror_mode": {
    "name": "ipython",
    "version": 3
   },
   "file_extension": ".py",
   "mimetype": "text/x-python",
   "name": "python",
   "nbconvert_exporter": "python",
   "pygments_lexer": "ipython3",
   "version": "3.6.7"
  }
 },
 "nbformat": 4,
 "nbformat_minor": 2
}
