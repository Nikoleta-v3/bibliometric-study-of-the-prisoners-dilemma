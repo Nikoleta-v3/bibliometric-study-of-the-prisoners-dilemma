{
 "cells": [
  {
   "cell_type": "code",
   "execution_count": 1,
   "metadata": {},
   "outputs": [],
   "source": [
    "import pandas as pd\n",
    "import networkx as nx"
   ]
  },
  {
   "cell_type": "code",
   "execution_count": 2,
   "metadata": {},
   "outputs": [],
   "source": [
    "import itertools"
   ]
  },
  {
   "cell_type": "code",
   "execution_count": 3,
   "metadata": {},
   "outputs": [],
   "source": [
    "import tqdm\n",
    "\n",
    "from collections import Counter"
   ]
  },
  {
   "cell_type": "code",
   "execution_count": 4,
   "metadata": {},
   "outputs": [],
   "source": [
    "from importlib.machinery import SourceFileLoader\n",
    "\n",
    "tools = SourceFileLoader(\"tools\", \"../tools.py\").load_module()"
   ]
  },
  {
   "cell_type": "code",
   "execution_count": 5,
   "metadata": {},
   "outputs": [],
   "source": [
    "df = pd.read_csv('../../data/prisoners_dilemma_articles_meta_data_clean.csv')"
   ]
  },
  {
   "cell_type": "code",
   "execution_count": 6,
   "metadata": {},
   "outputs": [],
   "source": [
    "names = df['author']"
   ]
  },
  {
   "cell_type": "code",
   "execution_count": 7,
   "metadata": {},
   "outputs": [],
   "source": [
    "names = [tools.normalise_name(name) for name in names]"
   ]
  },
  {
   "cell_type": "code",
   "execution_count": 8,
   "metadata": {},
   "outputs": [],
   "source": [
    "df['author_standarized'] = names"
   ]
  },
  {
   "cell_type": "code",
   "execution_count": 9,
   "metadata": {},
   "outputs": [],
   "source": [
    "groups = df.groupby('unique_key')"
   ]
  },
  {
   "cell_type": "code",
   "execution_count": 10,
   "metadata": {},
   "outputs": [],
   "source": [
    "edges = []\n",
    "authors = []\n",
    "for i, group in groups:\n",
    "    authors_in_paper = group['author_standarized'].drop_duplicates()\n",
    "    for author in authors_in_paper:\n",
    "        authors.append(author)\n",
    "    edges += itertools.combinations(authors_in_paper, 2) "
   ]
  },
  {
   "cell_type": "code",
   "execution_count": 11,
   "metadata": {},
   "outputs": [],
   "source": [
    "G = nx.Graph()\n",
    "G.add_nodes_from(authors)\n",
    "G.add_edges_from(edges)"
   ]
  },
  {
   "cell_type": "code",
   "execution_count": 12,
   "metadata": {},
   "outputs": [],
   "source": [
    "nx.write_gml(G, '../../data/networks/pd_new_graph.gml')\n",
    "nx.write_gml(max(nx.connected_component_subgraphs(G), key=len),\n",
    "             '../../data/networks/pd_cluster_graph.gml')"
   ]
  },
  {
   "cell_type": "code",
   "execution_count": 13,
   "metadata": {},
   "outputs": [],
   "source": [
    "counter = Counter(edges)"
   ]
  },
  {
   "cell_type": "code",
   "execution_count": 14,
   "metadata": {},
   "outputs": [],
   "source": [
    "edges_with_weights = []\n",
    "for edge in counter:\n",
    "    edges_with_weights.append((edge[0], edge[1], counter[edge]))"
   ]
  },
  {
   "cell_type": "code",
   "execution_count": 15,
   "metadata": {},
   "outputs": [],
   "source": [
    "G = nx.Graph()\n",
    "G.add_nodes_from(authors)\n",
    "G.add_weighted_edges_from(edges_with_weights)"
   ]
  },
  {
   "cell_type": "code",
   "execution_count": 16,
   "metadata": {},
   "outputs": [],
   "source": [
    "nx.write_gml(G, '../../data/networks/pd_new_graph_with_weights.gml')\n",
    "nx.write_gml(max(nx.connected_component_subgraphs(G), key=len),\n",
    "             '../../data/networks/pd_cluster_graph_with_weights.gml')"
   ]
  },
  {
   "cell_type": "markdown",
   "metadata": {},
   "source": [
    "**Cumulitative**"
   ]
  },
  {
   "cell_type": "code",
   "execution_count": 17,
   "metadata": {},
   "outputs": [],
   "source": [
    "years = sorted(df.date.unique())"
   ]
  },
  {
   "cell_type": "code",
   "execution_count": 18,
   "metadata": {},
   "outputs": [
    {
     "name": "stderr",
     "output_type": "stream",
     "text": [
      "100%|██████████| 57/57 [00:07<00:00,  7.21it/s] \n"
     ]
    }
   ],
   "source": [
    "years = sorted(df.date.unique())\n",
    "\n",
    "for year in tqdm.tqdm(years[:-1]):\n",
    "    yearly_data = df[df['date'] <= year]\n",
    "    \n",
    "    edges = []\n",
    "    authors = []\n",
    "    groups = yearly_data.groupby('unique_key')\n",
    "    \n",
    "    for i, group in groups:\n",
    "        authors_in_paper = group['author_standarized'].drop_duplicates()\n",
    "        for author in authors_in_paper:\n",
    "            authors.append(author)\n",
    "        edges += itertools.combinations(authors_in_paper, 2) \n",
    "\n",
    "    G = nx.Graph()\n",
    "    G.add_nodes_from(authors)\n",
    "    G.add_edges_from(edges)\n",
    "    \n",
    "    nx.write_gml(G, f'../../data/networks/yearly/G_pd_{int(year)}.gml')"
   ]
  },
  {
   "cell_type": "markdown",
   "metadata": {},
   "source": [
    "**Topics**"
   ]
  },
  {
   "cell_type": "code",
   "execution_count": 19,
   "metadata": {},
   "outputs": [],
   "source": [
    "data_with_topics = pd.read_csv('../../data/prisoners_dilemma_meta_data_with_topics.csv')"
   ]
  },
  {
   "cell_type": "code",
   "execution_count": 20,
   "metadata": {},
   "outputs": [],
   "source": [
    "names = data_with_topics['author']"
   ]
  },
  {
   "cell_type": "code",
   "execution_count": 21,
   "metadata": {},
   "outputs": [],
   "source": [
    "names = [tools.normalise_name(name) for name in names]"
   ]
  },
  {
   "cell_type": "code",
   "execution_count": 22,
   "metadata": {},
   "outputs": [],
   "source": [
    "data_with_topics['author_standarized'] = names"
   ]
  },
  {
   "cell_type": "code",
   "execution_count": 23,
   "metadata": {},
   "outputs": [],
   "source": [
    "num_of_topics = len(data_with_topics['Dominant_Topic'].unique())"
   ]
  },
  {
   "cell_type": "code",
   "execution_count": 24,
   "metadata": {},
   "outputs": [
    {
     "name": "stderr",
     "output_type": "stream",
     "text": [
      "/Users/glynatsi/opt/anaconda3/envs/literature/lib/python3.6/site-packages/ipykernel_launcher.py:1: TqdmDeprecationWarning: This function will be removed in tqdm==5.0.0\n",
      "Please use `tqdm.notebook.tqdm` instead of `tqdm.tqdm_notebook`\n",
      "  \"\"\"Entry point for launching an IPython kernel.\n"
     ]
    },
    {
     "data": {
      "application/vnd.jupyter.widget-view+json": {
       "model_id": "5dc7c7bcc1094c02ae6abff1d04523e5",
       "version_major": 2,
       "version_minor": 0
      },
      "text/plain": [
       "HBox(children=(HTML(value=''), FloatProgress(value=0.0, max=5.0), HTML(value='')))"
      ]
     },
     "metadata": {},
     "output_type": "display_data"
    },
    {
     "name": "stdout",
     "output_type": "stream",
     "text": [
      "\n"
     ]
    }
   ],
   "source": [
    "for number in tqdm.tqdm_notebook(range(num_of_topics)):\n",
    "    topic_data = data_with_topics[data_with_topics['Dominant_Topic'] == number]\n",
    "    \n",
    "    \n",
    "    edges = []\n",
    "    authors = []\n",
    "    groups = topic_data.groupby('unique_key')\n",
    "    \n",
    "    for i, group in groups:\n",
    "        authors_in_paper = group['author_standarized'].drop_duplicates()\n",
    "        for author in authors_in_paper:\n",
    "            authors.append(author)\n",
    "        edges += itertools.combinations(authors_in_paper, 2) \n",
    "\n",
    "    G = nx.Graph()\n",
    "    G.add_nodes_from(authors)\n",
    "    G.add_edges_from(edges)\n",
    "    \n",
    "    nx.write_gml(G, f'../../data/networks/topic_{int(number)}_pd_.gml')    "
   ]
  },
  {
   "cell_type": "markdown",
   "metadata": {},
   "source": [
    "# Auction and Price of anarchy networks"
   ]
  },
  {
   "cell_type": "code",
   "execution_count": 25,
   "metadata": {},
   "outputs": [],
   "source": [
    "auction = pd.read_csv('../../data/auction_theory_articles_meta_data.csv')\n",
    "anarchy = pd.read_csv('../../data/price_of_anarchy_articles_meta_data.csv')"
   ]
  },
  {
   "cell_type": "code",
   "execution_count": 26,
   "metadata": {},
   "outputs": [],
   "source": [
    "labels = ['auction', 'anarchy']"
   ]
  },
  {
   "cell_type": "code",
   "execution_count": 27,
   "metadata": {},
   "outputs": [
    {
     "name": "stderr",
     "output_type": "stream",
     "text": [
      "/Users/glynatsi/opt/anaconda3/envs/literature/lib/python3.6/site-packages/ipykernel_launcher.py:1: TqdmDeprecationWarning: This function will be removed in tqdm==5.0.0\n",
      "Please use `tqdm.notebook.tqdm` instead of `tqdm.tqdm_notebook`\n",
      "  \"\"\"Entry point for launching an IPython kernel.\n"
     ]
    },
    {
     "data": {
      "application/vnd.jupyter.widget-view+json": {
       "model_id": "9b352fb175f841248560efe92b11a42a",
       "version_major": 2,
       "version_minor": 0
      },
      "text/plain": [
       "HBox(children=(HTML(value=''), FloatProgress(value=1.0, bar_style='info', layout=Layout(width='20px'), max=1.0…"
      ]
     },
     "metadata": {},
     "output_type": "display_data"
    },
    {
     "name": "stdout",
     "output_type": "stream",
     "text": [
      "\n"
     ]
    }
   ],
   "source": [
    "for data, label in tqdm.tqdm_notebook(zip([auction, anarchy], labels)):\n",
    "    names = data['author']\n",
    "    names = [tools.normalise_name(name) for name in names]\n",
    "    \n",
    "    data['author_standarized'] = names\n",
    "    \n",
    "    groups = data.groupby('unique_key')\n",
    "    \n",
    "    edges = []\n",
    "    authors = []\n",
    "    for i, group in groups:\n",
    "        authors_in_paper = group['author_standarized'].drop_duplicates()\n",
    "        for author in authors_in_paper:\n",
    "            authors.append(author)\n",
    "        edges += itertools.combinations(authors_in_paper, 2) \n",
    "        \n",
    "    G = nx.Graph()\n",
    "    G.add_nodes_from(authors)\n",
    "    G.add_edges_from(edges)\n",
    "    \n",
    "    nx.write_gml(G, f'../../data/networks/{label}_graph.gml')\n",
    "    nx.write_gml(max(nx.connected_component_subgraphs(G), key=len),\n",
    "             f'../../data/networks/{label}_cluster_graph.gml')"
   ]
  },
  {
   "cell_type": "code",
   "execution_count": null,
   "metadata": {},
   "outputs": [],
   "source": []
  }
 ],
 "metadata": {
  "kernelspec": {
   "display_name": "literature",
   "language": "python",
   "name": "literature"
  },
  "language_info": {
   "codemirror_mode": {
    "name": "ipython",
    "version": 3
   },
   "file_extension": ".py",
   "mimetype": "text/x-python",
   "name": "python",
   "nbconvert_exporter": "python",
   "pygments_lexer": "ipython3",
   "version": "3.6.7"
  }
 },
 "nbformat": 4,
 "nbformat_minor": 2
}
