{
 "cells": [
  {
   "cell_type": "markdown",
   "metadata": {},
   "source": [
    "Analysing Axelbib Database (SQLite3) with Pandas\n",
    "========================================\n",
    "\n",
    "The main ideas behind this work was taken from Vik Paruchuri's blog: see here (https://www.dataquest.io/blog/python-pandas-databases/).\n",
    "This notebook covers the analysis of my database Axelbib. A database containing information on various research papers and journals done\n",
    "for the Prsoner's Dilemma. The database was constructed using Django frame work.\n",
    "\n",
    "This notebook has the following structure:\n",
    "    - read the tables from my db.sqlite3 \n",
    "    - initial analysis\n",
    "\n",
    "    \n",
    "**Tips from myself**\n",
    "- All the analysis done on Axelbib, even if it started in an individual notebook should end up in here with documentation.\n",
    "- In case the names of tables are forgotten, use the following command on the django shell (model_instance._meta.db_table)\n",
    "\n",
    "\n",
    "**Different ways of getting objects**\n",
    "\n",
    "Here are examples of different ways one can access the objects in the db. Because of the size of Axelbib they are not being used as they are insufficient.\n",
    "\n",
    "\n",
    "    >>> con = sqlite3.connect(\"db.sqlite3\") # making a connection with the db\n",
    "    >>> cur = con.cursor()                  # set cursor\n",
    "    >>> cur.execute(\"select * from library_article limit 1;\")\n",
    "    >>> results = cur.fetchall()\n",
    "    >>> titles = cur.execute(\"\"\" select title from library_article;\"\"\").fetchall()\n",
    "    >>> cur.close()\n",
    "    >>> con.close()"
   ]
  },
  {
   "cell_type": "markdown",
   "metadata": {},
   "source": [
    "Glossary\n",
    "--------\n",
    "\n",
    "Cursor: allow to execute SQL queries against a database"
   ]
  },
  {
   "cell_type": "code",
   "execution_count": 1,
   "metadata": {
    "collapsed": true
   },
   "outputs": [],
   "source": [
    "import pandas as pd\n",
    "import sqlite3"
   ]
  },
  {
   "cell_type": "markdown",
   "metadata": {},
   "source": [
    "Reading the db in pandas\n",
    "------------------------"
   ]
  },
  {
   "cell_type": "code",
   "execution_count": 2,
   "metadata": {
    "collapsed": false
   },
   "outputs": [],
   "source": [
    "conn = sqlite3.connect(\"db.sqlite3\")                             # making a connection with the db\n",
    "cur = conn.cursor()                                               # set cursor"
   ]
  },
  {
   "cell_type": "code",
   "execution_count": 3,
   "metadata": {
    "collapsed": false
   },
   "outputs": [
    {
     "data": {
      "text/plain": [
       "Index(['id', 'title', 'name'], dtype='object')"
      ]
     },
     "execution_count": 3,
     "metadata": {},
     "output_type": "execute_result"
    }
   ],
   "source": [
    "# authors\n",
    "authors = pd.read_sql_query(\"\"\"SELECT library_article.id, title, library_author.name FROM library_article\n",
    "                                LEFT OUTER JOIN library_article_author\n",
    "                                ON library_article.id = library_article_author.article_id \n",
    "                                LEFT OUTER JOIN library_author\n",
    "                                ON library_author.id= library_article_author.author_id\"\"\", conn)\n",
    "authors.columns"
   ]
  },
  {
   "cell_type": "code",
   "execution_count": 4,
   "metadata": {
    "collapsed": false
   },
   "outputs": [
    {
     "data": {
      "text/plain": [
       "Index(['id', 'title', 'label'], dtype='object')"
      ]
     },
     "execution_count": 4,
     "metadata": {},
     "output_type": "execute_result"
    }
   ],
   "source": [
    "# labels\n",
    "labels = pd.read_sql_query(\"\"\"SELECT library_article.id, title, library_label.label FROM library_article\n",
    "                                LEFT OUTER JOIN library_article_labels\n",
    "                                ON library_article.id = library_article_labels.article_id \n",
    "                                LEFT OUTER JOIN library_label\n",
    "                                ON library_label.id= library_article_labels.label_id\"\"\", conn)#\n",
    "labels.columns"
   ]
  },
  {
   "cell_type": "code",
   "execution_count": 5,
   "metadata": {
    "collapsed": false
   },
   "outputs": [
    {
     "data": {
      "text/plain": [
       "Index(['id', 'title', 'key', 'year'], dtype='object')"
      ]
     },
     "execution_count": 5,
     "metadata": {},
     "output_type": "execute_result"
    }
   ],
   "source": [
    "# the rest\n",
    "db = pd.read_sql_query(\"\"\" SELECT library_article.id, title, key, year from library_year\n",
    "                               JOIN library_article \n",
    "                               WHERE library_article.date_id = library_year.id\"\"\", conn)\n",
    "db.columns"
   ]
  },
  {
   "cell_type": "code",
   "execution_count": 46,
   "metadata": {
    "collapsed": false
   },
   "outputs": [
    {
     "data": {
      "text/html": [
       "<div>\n",
       "<table border=\"1\" class=\"dataframe\">\n",
       "  <thead>\n",
       "    <tr style=\"text-align: right;\">\n",
       "      <th></th>\n",
       "      <th>id</th>\n",
       "      <th>title</th>\n",
       "      <th>key</th>\n",
       "      <th>year</th>\n",
       "    </tr>\n",
       "  </thead>\n",
       "  <tbody>\n",
       "    <tr>\n",
       "      <th>0</th>\n",
       "      <td>1</td>\n",
       "      <td>Effective Choice in the Prisoner's Dilemma</td>\n",
       "      <td>Axelrod1980a</td>\n",
       "      <td>1980</td>\n",
       "    </tr>\n",
       "    <tr>\n",
       "      <th>1</th>\n",
       "      <td>2</td>\n",
       "      <td>Fingerprinting: Visualization and automatic an...</td>\n",
       "      <td>Ashlock2008</td>\n",
       "      <td>2008</td>\n",
       "    </tr>\n",
       "    <tr>\n",
       "      <th>2</th>\n",
       "      <td>3</td>\n",
       "      <td>More Effective Choice in the Prisoner's Dilemma</td>\n",
       "      <td>Axelrod1980b</td>\n",
       "      <td>1980</td>\n",
       "    </tr>\n",
       "  </tbody>\n",
       "</table>\n",
       "</div>"
      ],
      "text/plain": [
       "   id                                              title           key  year\n",
       "0   1         Effective Choice in the Prisoner's Dilemma  Axelrod1980a  1980\n",
       "1   2  Fingerprinting: Visualization and automatic an...   Ashlock2008  2008\n",
       "2   3    More Effective Choice in the Prisoner's Dilemma  Axelrod1980b  1980"
      ]
     },
     "execution_count": 46,
     "metadata": {},
     "output_type": "execute_result"
    }
   ],
   "source": [
    "db.head(3)"
   ]
  },
  {
   "cell_type": "code",
   "execution_count": 47,
   "metadata": {
    "collapsed": true
   },
   "outputs": [],
   "source": [
    "cur.close()\n",
    "conn.close()"
   ]
  }
 ],
 "metadata": {
  "anaconda-cloud": {},
  "kernelspec": {
   "display_name": "Python [default]",
   "language": "python",
   "name": "python3"
  },
  "language_info": {
   "codemirror_mode": {
    "name": "ipython",
    "version": 3
   },
   "file_extension": ".py",
   "mimetype": "text/x-python",
   "name": "python",
   "nbconvert_exporter": "python",
   "pygments_lexer": "ipython3",
   "version": "3.5.2"
  }
 },
 "nbformat": 4,
 "nbformat_minor": 0
}
