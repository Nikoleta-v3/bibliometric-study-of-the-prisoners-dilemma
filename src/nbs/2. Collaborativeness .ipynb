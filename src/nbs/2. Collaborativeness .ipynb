{
 "cells": [
  {
   "cell_type": "code",
   "execution_count": 1,
   "metadata": {},
   "outputs": [],
   "source": [
    "import matplotlib\n",
    "import matplotlib.pyplot as plt\n"
   ]
  },
  {
   "cell_type": "code",
   "execution_count": 2,
   "metadata": {},
   "outputs": [],
   "source": [
    "import networkx as nx\n",
    "import community\n",
    "import pandas as pd\n",
    "\n",
    "import numpy as np\n",
    "import json\n"
   ]
  },
  {
   "cell_type": "code",
   "execution_count": 3,
   "metadata": {},
   "outputs": [],
   "source": [
    "from networkx.algorithms.community import greedy_modularity_communities\n"
   ]
  },
  {
   "cell_type": "code",
   "execution_count": 4,
   "metadata": {},
   "outputs": [],
   "source": [
    "from importlib.machinery import SourceFileLoader\n",
    "\n",
    "tools = SourceFileLoader(\"tools\", \"../tools.py\").load_module()\n",
    "\n",
    "from tools import write_to_file, test_kruskal\n"
   ]
  },
  {
   "cell_type": "code",
   "execution_count": 5,
   "metadata": {},
   "outputs": [],
   "source": [
    "%matplotlib inline\n",
    "\n",
    "import matplotlib.patches as mpatches\n",
    "import matplotlib.lines as lines\n",
    "\n",
    "font = {'size'   : 10,\n",
    "        'weight': 'bold'}\n",
    "matplotlib.rc('font', **font)"
   ]
  },
  {
   "cell_type": "code",
   "execution_count": 6,
   "metadata": {},
   "outputs": [],
   "source": [
    "ipd = pd.read_csv(\"../data/prisoners_dilemma_articles_meta_data.csv\")\n",
    "anarchy = pd.read_csv(\"../data/price_of_anarchy_articles_meta_data.csv\")\n",
    "auction = pd.read_csv(\"../data/auction_theory_articles_meta_data.csv\")\n",
    "\n",
    "dataframes = [ipd, auction, anarchy]\n"
   ]
  },
  {
   "cell_type": "code",
   "execution_count": 7,
   "metadata": {},
   "outputs": [],
   "source": [
    "periods = []\n",
    "for data in dataframes:\n",
    "    period = np.sort(data[\"date\"].unique())\n",
    "    period = period[~np.isnan(period)]\n",
    "    periods.append(period[1:])\n"
   ]
  },
  {
   "cell_type": "markdown",
   "metadata": {},
   "source": [
    " Collaborativeness \n",
    "---------------------------"
   ]
  },
  {
   "cell_type": "code",
   "execution_count": 8,
   "metadata": {},
   "outputs": [],
   "source": [
    "graphs = []\n",
    "for filename in [\"pd_graph.gml\", \"auction_graph.gml\", \"anarchy_graph.gml\"]:\n",
    "    graphs.append(nx.read_gml(\"../data/networks/{}\".format(filename)))\n"
   ]
  },
  {
   "cell_type": "markdown",
   "metadata": {},
   "source": [
    "Illustrating co-authors network\n",
    "------------------------"
   ]
  },
  {
   "cell_type": "markdown",
   "metadata": {},
   "source": [
    "**Use Gephi**"
   ]
  },
  {
   "cell_type": "markdown",
   "metadata": {},
   "source": [
    "Network Metrics\n",
    "-----------------------"
   ]
  },
  {
   "cell_type": "code",
   "execution_count": 9,
   "metadata": {},
   "outputs": [],
   "source": [
    "number_edges = [nx.number_of_edges(G) for G in graphs]\n",
    "number_nodes = [nx.number_of_nodes(G) for G in graphs]\n"
   ]
  },
  {
   "cell_type": "code",
   "execution_count": 10,
   "metadata": {},
   "outputs": [],
   "source": [
    "for filename, metric in zip(\n",
    "    [\"pd_edges.txt\", \"pd_unique_authors.txt\"], [number_edges[0], number_nodes[0]]\n",
    "):\n",
    "    write_to_file(filename=filename, metric=metric)\n"
   ]
  },
  {
   "cell_type": "markdown",
   "metadata": {},
   "source": [
    "Collaborative Behaviour\n",
    "-----------------------------"
   ]
  },
  {
   "cell_type": "code",
   "execution_count": 11,
   "metadata": {},
   "outputs": [],
   "source": [
    "def collaborative_metrics_of_graph(graph):\n",
    "    \"\"\"\n",
    "    Returns the following metrics:\n",
    "    - number of nodes\n",
    "    - number of edges\n",
    "    - number of isolated authors\n",
    "    - percentage of isolated authors\n",
    "    - number of connected components\n",
    "    - size of the largest connected component\n",
    "    - average degree\n",
    "    - clustering coefficients\n",
    "    - modularity\n",
    "    \"\"\"\n",
    "    num_nodes = nx.number_of_nodes(graph)\n",
    "    num_edges = nx.number_of_edges(graph)\n",
    "    isolated_nodes = len(list(nx.isolates(graph)))\n",
    "    percentage_isolated_nodes = np.round(isolated_nodes / num_nodes, 3) * 100\n",
    "    number_connected_components = nx.number_connected_components(graph)\n",
    "    size_of_largest_cc = len(max(nx.connected_components(graph), key=len))\n",
    "\n",
    "    degree_distribution = sorted([d for n, d in graph.degree()], reverse=True)\n",
    "    av_degree = np.round(np.mean(degree_distribution), 3)\n",
    "\n",
    "    clustering_coeff = round(nx.average_clustering(graph), 3)\n",
    "\n",
    "    try:\n",
    "        number_of_communities = len(list(greedy_modularity_communities(graph)))\n",
    "    except ZeroDivisionError:\n",
    "        number_of_communities = \"-\"\n",
    "\n",
    "    communities = community.best_partition(graph)\n",
    "    try:\n",
    "        modularity = community.modularity(partition=communities, graph=graph)\n",
    "    except ValueError:\n",
    "        modularity = \"-\"\n",
    "\n",
    "    metrics = {\n",
    "        \"# Nodes\": num_nodes,\n",
    "        \"# Edges\": num_edges,\n",
    "        \"# Isolated nodes\": isolated_nodes,\n",
    "        \"% Isolated nodes\": round(percentage_isolated_nodes, 3),\n",
    "        \"# Connected components\": number_connected_components,\n",
    "        \"Size of largest component\": size_of_largest_cc,\n",
    "        \"Av. degree\": av_degree,\n",
    "        \"Clustering coeff\": clustering_coeff,\n",
    "        \"# Communities\": number_of_communities,\n",
    "        \"Modularity\": modularity,\n",
    "    }\n",
    "\n",
    "    return metrics, degree_distribution\n"
   ]
  },
  {
   "cell_type": "markdown",
   "metadata": {},
   "source": [
    "**Network Metrics**"
   ]
  },
  {
   "cell_type": "code",
   "execution_count": 12,
   "metadata": {},
   "outputs": [],
   "source": [
    "metrics = [collaborative_metrics_of_graph(G)[0] for G in graphs]\n"
   ]
  },
  {
   "cell_type": "code",
   "execution_count": 13,
   "metadata": {},
   "outputs": [
    {
     "data": {
      "text/plain": [
       "{'# Communities': 1369,\n",
       " '# Connected components': 1356,\n",
       " '# Edges': 10397,\n",
       " '# Isolated nodes': 176,\n",
       " '# Nodes': 5394,\n",
       " '% Isolated nodes': 3.3,\n",
       " 'Av. degree': 3.855,\n",
       " 'Clustering coeff': 0.708,\n",
       " 'Modularity': 0.9775377686660978,\n",
       " 'Size of largest component': 815}"
      ]
     },
     "execution_count": 13,
     "metadata": {},
     "output_type": "execute_result"
    }
   ],
   "source": [
    "metrics[0]\n"
   ]
  },
  {
   "cell_type": "code",
   "execution_count": 14,
   "metadata": {},
   "outputs": [],
   "source": [
    "degree_dstrs = [collaborative_metrics_of_graph(G)[1] for G in graphs]\n"
   ]
  },
  {
   "cell_type": "code",
   "execution_count": 15,
   "metadata": {},
   "outputs": [],
   "source": [
    "for key in metrics[0]:\n",
    "    filename = key.replace(\" \", \"_\").replace(\"#\", \"num\").replace(\"%\", \"perce\") + \".txt\"\n",
    "    write_to_file(filename, metrics[0][key])\n"
   ]
  },
  {
   "cell_type": "markdown",
   "metadata": {},
   "source": [
    "**Analysing clusters**"
   ]
  },
  {
   "cell_type": "code",
   "execution_count": 16,
   "metadata": {},
   "outputs": [],
   "source": [
    "center_clusters = [max(nx.connected_component_subgraphs(G), key=len) for G in graphs]\n"
   ]
  },
  {
   "cell_type": "code",
   "execution_count": 17,
   "metadata": {},
   "outputs": [],
   "source": [
    "center_clusters_metrics = [\n",
    "    collaborative_metrics_of_graph(G)[0] for G in center_clusters\n",
    "]\n"
   ]
  },
  {
   "cell_type": "markdown",
   "metadata": {},
   "source": [
    "**Tables**"
   ]
  },
  {
   "cell_type": "code",
   "execution_count": 18,
   "metadata": {},
   "outputs": [],
   "source": [
    "columns_order = [\n",
    "    \"# Nodes\",\n",
    "    \"# Edges\",\n",
    "    \"# Isolated nodes\",\n",
    "    \"% Isolated nodes\",\n",
    "    \"# Connected components\",\n",
    "    \"Size of largest component\",\n",
    "    \"Av. degree\",\n",
    "    \"# Communities\",\n",
    "    \"Modularity\",\n",
    "    \"Clustering coeff\",\n",
    "]\n"
   ]
  },
  {
   "cell_type": "code",
   "execution_count": 19,
   "metadata": {},
   "outputs": [],
   "source": [
    "metrics_table = pd.DataFrame.from_dict(metrics).round(3)\n",
    "metrics_table.index = [\"Prisoner's Dilemma\", \"Auction Games\", \"Price of Anarchy\"]\n"
   ]
  },
  {
   "cell_type": "code",
   "execution_count": 20,
   "metadata": {},
   "outputs": [],
   "source": [
    "metrics_table = metrics_table.reindex(columns_order, axis=1)\n"
   ]
  },
  {
   "cell_type": "code",
   "execution_count": 21,
   "metadata": {},
   "outputs": [
    {
     "data": {
      "text/html": [
       "<div>\n",
       "<style scoped>\n",
       "    .dataframe tbody tr th:only-of-type {\n",
       "        vertical-align: middle;\n",
       "    }\n",
       "\n",
       "    .dataframe tbody tr th {\n",
       "        vertical-align: top;\n",
       "    }\n",
       "\n",
       "    .dataframe thead th {\n",
       "        text-align: right;\n",
       "    }\n",
       "</style>\n",
       "<table border=\"1\" class=\"dataframe\">\n",
       "  <thead>\n",
       "    <tr style=\"text-align: right;\">\n",
       "      <th></th>\n",
       "      <th># Nodes</th>\n",
       "      <th># Edges</th>\n",
       "      <th># Isolated nodes</th>\n",
       "      <th>% Isolated nodes</th>\n",
       "      <th># Connected components</th>\n",
       "      <th>Size of largest component</th>\n",
       "      <th>Av. degree</th>\n",
       "      <th># Communities</th>\n",
       "      <th>Modularity</th>\n",
       "      <th>Clustering coeff</th>\n",
       "    </tr>\n",
       "  </thead>\n",
       "  <tbody>\n",
       "    <tr>\n",
       "      <th>Prisoner's Dilemma</th>\n",
       "      <td>5394</td>\n",
       "      <td>10397</td>\n",
       "      <td>176</td>\n",
       "      <td>3.3</td>\n",
       "      <td>1356</td>\n",
       "      <td>815</td>\n",
       "      <td>3.855</td>\n",
       "      <td>1369</td>\n",
       "      <td>0.978</td>\n",
       "      <td>0.708</td>\n",
       "    </tr>\n",
       "    <tr>\n",
       "      <th>Auction Games</th>\n",
       "      <td>5165</td>\n",
       "      <td>7861</td>\n",
       "      <td>256</td>\n",
       "      <td>5.0</td>\n",
       "      <td>1272</td>\n",
       "      <td>1348</td>\n",
       "      <td>3.044</td>\n",
       "      <td>1297</td>\n",
       "      <td>0.957</td>\n",
       "      <td>0.622</td>\n",
       "    </tr>\n",
       "    <tr>\n",
       "      <th>Price of Anarchy</th>\n",
       "      <td>1155</td>\n",
       "      <td>1953</td>\n",
       "      <td>4</td>\n",
       "      <td>0.3</td>\n",
       "      <td>245</td>\n",
       "      <td>222</td>\n",
       "      <td>3.382</td>\n",
       "      <td>253</td>\n",
       "      <td>0.964</td>\n",
       "      <td>0.712</td>\n",
       "    </tr>\n",
       "  </tbody>\n",
       "</table>\n",
       "</div>"
      ],
      "text/plain": [
       "                    # Nodes  # Edges  # Isolated nodes  % Isolated nodes  \\\n",
       "Prisoner's Dilemma     5394    10397               176               3.3   \n",
       "Auction Games          5165     7861               256               5.0   \n",
       "Price of Anarchy       1155     1953                 4               0.3   \n",
       "\n",
       "                    # Connected components  Size of largest component  \\\n",
       "Prisoner's Dilemma                    1356                        815   \n",
       "Auction Games                         1272                       1348   \n",
       "Price of Anarchy                       245                        222   \n",
       "\n",
       "                    Av. degree  # Communities  Modularity  Clustering coeff  \n",
       "Prisoner's Dilemma       3.855           1369       0.978             0.708  \n",
       "Auction Games            3.044           1297       0.957             0.622  \n",
       "Price of Anarchy         3.382            253       0.964             0.712  "
      ]
     },
     "execution_count": 21,
     "metadata": {},
     "output_type": "execute_result"
    }
   ],
   "source": [
    "metrics_table\n"
   ]
  },
  {
   "cell_type": "code",
   "execution_count": 22,
   "metadata": {},
   "outputs": [],
   "source": [
    "write_to_file(metric=metrics_table.to_latex(), filename=\"network_comparison.tex\")\n"
   ]
  },
  {
   "cell_type": "code",
   "execution_count": 23,
   "metadata": {},
   "outputs": [],
   "source": [
    "clusters_table = pd.DataFrame.from_dict(center_clusters_metrics).round(3)\n",
    "clusters_table.index = [\"Prisoner's Dilemma\", \"Auction Games\", \"Price of Anarchy\"]\n",
    "clusters_table.index = [\"Prisoner's Dilemma\", \"Auction Games\", \"Price of Anarchy\"]\n",
    "clusters_table = clusters_table.reindex(columns_order, axis=1)\n"
   ]
  },
  {
   "cell_type": "code",
   "execution_count": 24,
   "metadata": {},
   "outputs": [
    {
     "data": {
      "text/html": [
       "<div>\n",
       "<style scoped>\n",
       "    .dataframe tbody tr th:only-of-type {\n",
       "        vertical-align: middle;\n",
       "    }\n",
       "\n",
       "    .dataframe tbody tr th {\n",
       "        vertical-align: top;\n",
       "    }\n",
       "\n",
       "    .dataframe thead th {\n",
       "        text-align: right;\n",
       "    }\n",
       "</style>\n",
       "<table border=\"1\" class=\"dataframe\">\n",
       "  <thead>\n",
       "    <tr style=\"text-align: right;\">\n",
       "      <th></th>\n",
       "      <th># Nodes</th>\n",
       "      <th># Edges</th>\n",
       "      <th># Isolated nodes</th>\n",
       "      <th>% Isolated nodes</th>\n",
       "      <th># Connected components</th>\n",
       "      <th>Size of largest component</th>\n",
       "      <th>Av. degree</th>\n",
       "      <th># Communities</th>\n",
       "      <th>Modularity</th>\n",
       "      <th>Clustering coeff</th>\n",
       "    </tr>\n",
       "  </thead>\n",
       "  <tbody>\n",
       "    <tr>\n",
       "      <th>Prisoner's Dilemma</th>\n",
       "      <td>815</td>\n",
       "      <td>2300</td>\n",
       "      <td>0</td>\n",
       "      <td>0.0</td>\n",
       "      <td>1</td>\n",
       "      <td>815</td>\n",
       "      <td>5.644</td>\n",
       "      <td>28</td>\n",
       "      <td>0.856</td>\n",
       "      <td>0.775</td>\n",
       "    </tr>\n",
       "    <tr>\n",
       "      <th>Auction Games</th>\n",
       "      <td>1348</td>\n",
       "      <td>3158</td>\n",
       "      <td>0</td>\n",
       "      <td>0.0</td>\n",
       "      <td>1</td>\n",
       "      <td>1348</td>\n",
       "      <td>4.685</td>\n",
       "      <td>29</td>\n",
       "      <td>0.859</td>\n",
       "      <td>0.699</td>\n",
       "    </tr>\n",
       "    <tr>\n",
       "      <th>Price of Anarchy</th>\n",
       "      <td>222</td>\n",
       "      <td>521</td>\n",
       "      <td>0</td>\n",
       "      <td>0.0</td>\n",
       "      <td>1</td>\n",
       "      <td>222</td>\n",
       "      <td>4.694</td>\n",
       "      <td>12</td>\n",
       "      <td>0.824</td>\n",
       "      <td>0.711</td>\n",
       "    </tr>\n",
       "  </tbody>\n",
       "</table>\n",
       "</div>"
      ],
      "text/plain": [
       "                    # Nodes  # Edges  # Isolated nodes  % Isolated nodes  \\\n",
       "Prisoner's Dilemma      815     2300                 0               0.0   \n",
       "Auction Games          1348     3158                 0               0.0   \n",
       "Price of Anarchy        222      521                 0               0.0   \n",
       "\n",
       "                    # Connected components  Size of largest component  \\\n",
       "Prisoner's Dilemma                       1                        815   \n",
       "Auction Games                            1                       1348   \n",
       "Price of Anarchy                         1                        222   \n",
       "\n",
       "                    Av. degree  # Communities  Modularity  Clustering coeff  \n",
       "Prisoner's Dilemma       5.644             28       0.856             0.775  \n",
       "Auction Games            4.685             29       0.859             0.699  \n",
       "Price of Anarchy         4.694             12       0.824             0.711  "
      ]
     },
     "execution_count": 24,
     "metadata": {},
     "output_type": "execute_result"
    }
   ],
   "source": [
    "clusters_table\n"
   ]
  },
  {
   "cell_type": "code",
   "execution_count": 25,
   "metadata": {},
   "outputs": [],
   "source": [
    "write_to_file(metric=clusters_table.to_latex(), filename=\"clusters_comparison.tex\")\n"
   ]
  },
  {
   "cell_type": "markdown",
   "metadata": {},
   "source": [
    "**Degree Distribution**"
   ]
  },
  {
   "cell_type": "code",
   "execution_count": 26,
   "metadata": {},
   "outputs": [
    {
     "data": {
      "text/plain": [
       "58"
      ]
     },
     "execution_count": 26,
     "metadata": {},
     "output_type": "execute_result"
    }
   ],
   "source": [
    "max(degree_dstrs[0])\n"
   ]
  },
  {
   "cell_type": "code",
   "execution_count": 27,
   "metadata": {},
   "outputs": [],
   "source": [
    "colors = [\"darkorange\", \"darkred\", \"darkgreen\"]\n"
   ]
  },
  {
   "cell_type": "code",
   "execution_count": 28,
   "metadata": {},
   "outputs": [],
   "source": [
    "labels = [r\"$G_1$\", r\"$G_2$\", r\"$G_3$\"]\n"
   ]
  },
  {
   "cell_type": "code",
   "execution_count": 29,
   "metadata": {},
   "outputs": [
    {
     "name": "stdout",
     "output_type": "stream",
     "text": [
      "3.0\n",
      "----\n",
      "2.0\n",
      "----\n",
      "3.0\n",
      "----\n"
     ]
    },
    {
     "data": {
      "image/png": "[encoded data removed]",
      "text/plain": [
       "<Figure size 1080x360 with 3 Axes>"
      ]
     },
     "metadata": {},
     "output_type": "display_data"
    }
   ],
   "source": [
    "fig, axes = plt.subplots(nrows=1, ncols=3, figsize=(15, 5))\n",
    "for i, dstr in enumerate(degree_dstrs):\n",
    "    axes[i].hist(dstr, color=colors[i])\n",
    "    median = np.median(dstr)\n",
    "    print(median)\n",
    "    print(\"----\")\n",
    "    axes[i].axvline(median, color=\"sienna\", linestyle=\":\", linewidth=3, label=\"median\")\n",
    "    axes[i].title.set_text(labels[i])\n",
    "\n",
    "    fig.text(0.5, 0.04, \"Degree Distributions\", ha=\"center\", fontsize=10)\n",
    "\n",
    "plt.savefig(\"../../assets/images/networks_ditributions.pdf\")\n"
   ]
  },
  {
   "cell_type": "code",
   "execution_count": 30,
   "metadata": {},
   "outputs": [
    {
     "name": "stdout",
     "output_type": "stream",
     "text": [
      "                 0\n",
      "count  5394.000000\n",
      "mean      3.855024\n",
      "std       4.256835\n",
      "min       0.000000\n",
      "25%       2.000000\n",
      "50%       3.000000\n",
      "75%       5.000000\n",
      "max      58.000000\n",
      "                 0\n",
      "count  5165.000000\n",
      "mean      3.043950\n",
      "std       3.010729\n",
      "min       0.000000\n",
      "25%       1.000000\n",
      "50%       2.000000\n",
      "75%       4.000000\n",
      "max      41.000000\n",
      "                 0\n",
      "count  1155.000000\n",
      "mean      3.381818\n",
      "std       2.903207\n",
      "min       0.000000\n",
      "25%       2.000000\n",
      "50%       3.000000\n",
      "75%       4.000000\n",
      "max      25.000000\n"
     ]
    }
   ],
   "source": [
    "for dist in degree_dstrs:\n",
    "    temp = pd.DataFrame(dist)\n",
    "    print(temp.describe())\n"
   ]
  },
  {
   "cell_type": "code",
   "execution_count": 31,
   "metadata": {},
   "outputs": [
    {
     "name": "stdout",
     "output_type": "stream",
     "text": [
      "8.099763504767073e-28 The null hypothesis can be rejected.\n"
     ]
    },
    {
     "data": {
      "text/plain": [
       "8.099763504767073e-28"
      ]
     },
     "execution_count": 31,
     "metadata": {},
     "output_type": "execute_result"
    }
   ],
   "source": [
    "test_kruskal(degree_dstrs)\n"
   ]
  },
  {
   "cell_type": "code",
   "execution_count": 32,
   "metadata": {},
   "outputs": [
    {
     "name": "stdout",
     "output_type": "stream",
     "text": [
      "7.041736535898481e-28 The null hypothesis can be rejected.\n"
     ]
    },
    {
     "data": {
      "text/plain": [
       "7.041736535898481e-28"
      ]
     },
     "execution_count": 32,
     "metadata": {},
     "output_type": "execute_result"
    }
   ],
   "source": [
    "test_kruskal([degree_dstrs[0], degree_dstrs[1]])\n"
   ]
  },
  {
   "cell_type": "code",
   "execution_count": 33,
   "metadata": {},
   "outputs": [
    {
     "name": "stdout",
     "output_type": "stream",
     "text": [
      "0.08961070548111885 The null hypothesis cannot be rejected.\n"
     ]
    },
    {
     "data": {
      "text/plain": [
       "0.08961070548111885"
      ]
     },
     "execution_count": 33,
     "metadata": {},
     "output_type": "execute_result"
    }
   ],
   "source": [
    "test_kruskal([degree_dstrs[0], degree_dstrs[2]])\n"
   ]
  },
  {
   "cell_type": "markdown",
   "metadata": {},
   "source": [
    "Cumulative Graphs\n",
    "---------"
   ]
  },
  {
   "cell_type": "code",
   "execution_count": 34,
   "metadata": {},
   "outputs": [],
   "source": [
    "linestyle = [\":o\", \"-.\", \"--\"]\n"
   ]
  },
  {
   "cell_type": "code",
   "execution_count": 35,
   "metadata": {},
   "outputs": [],
   "source": [
    "import glob\n"
   ]
  },
  {
   "cell_type": "code",
   "execution_count": 36,
   "metadata": {},
   "outputs": [],
   "source": [
    "number_of_files = [\n",
    "    len(list(glob.glob(\"../data/networks/G_pd_*.gml\"))),\n",
    "    len(list(glob.glob(\"../data/networks/G_auction_*.gml\"))),\n",
    "    len(list(glob.glob(\"../data/networks/G_anarchy_*.gml\"))),\n",
    "]\n"
   ]
  },
  {
   "cell_type": "code",
   "execution_count": 37,
   "metadata": {},
   "outputs": [],
   "source": [
    "cumulative_graphs = []\n",
    "for num, file in zip(number_of_files, [\"G_pd\", \"G_auction\", \"G_anarchy\"]):\n",
    "    sub_graphs = []\n",
    "    for i in range(num):\n",
    "        sub_graphs.append(nx.read_gml(\"../data/networks/{}_{}.gml\".format(file, i)))\n",
    "    cumulative_graphs.append(sub_graphs)\n"
   ]
  },
  {
   "cell_type": "code",
   "execution_count": 38,
   "metadata": {},
   "outputs": [],
   "source": [
    "cumulative_clusters = [\n",
    "    [max(nx.connected_component_subgraphs(G), key=len) for G in sub_graphs]\n",
    "    for sub_graphs in cumulative_graphs\n",
    "]\n"
   ]
  },
  {
   "cell_type": "code",
   "execution_count": 39,
   "metadata": {},
   "outputs": [
    {
     "data": {
      "text/plain": [
       "(63, 63)"
      ]
     },
     "execution_count": 39,
     "metadata": {},
     "output_type": "execute_result"
    }
   ],
   "source": [
    "len(cumulative_graphs[0]), len(cumulative_clusters[0])\n"
   ]
  },
  {
   "cell_type": "code",
   "execution_count": 40,
   "metadata": {},
   "outputs": [],
   "source": [
    "cumulative_metrics = [\n",
    "    [collaborative_metrics_of_graph(G)[0] for G in sub_graphs]\n",
    "    for sub_graphs in cumulative_graphs\n",
    "]\n"
   ]
  },
  {
   "cell_type": "code",
   "execution_count": 41,
   "metadata": {},
   "outputs": [],
   "source": [
    "cumulative_cluster_metrics = [\n",
    "    [collaborative_metrics_of_graph(G)[0] for G in sub_graphs]\n",
    "    for sub_graphs in cumulative_clusters\n",
    "]\n"
   ]
  },
  {
   "cell_type": "code",
   "execution_count": 42,
   "metadata": {},
   "outputs": [],
   "source": [
    "total_nodes = [int(metric[\"# Nodes\"]) for metric in metrics]\n",
    "total_con = [int(metric[\"# Connected components\"]) for metric in metrics]\n",
    "largest_cc = [int(metric[\"Size of largest component\"]) for metric in metrics]\n",
    "for i in range(3):\n",
    "    for sub_graph in cumulative_metrics[i]:\n",
    "        sub_graph[\"% Nodes\"] = round(sub_graph[\"# Nodes\"] / total_nodes[i], 3)\n",
    "        sub_graph[\"% Connected components\"] = round(\n",
    "            sub_graph[\"# Connected components\"] / total_con[i], 3\n",
    "        )\n",
    "        sub_graph[\"% Size of largest\"] = round(\n",
    "            sub_graph[\"Size of largest component\"] / largest_cc[i], 3\n",
    "        )\n"
   ]
  },
  {
   "cell_type": "markdown",
   "metadata": {},
   "source": [
    "**Tables**"
   ]
  },
  {
   "cell_type": "code",
   "execution_count": 43,
   "metadata": {},
   "outputs": [],
   "source": [
    "with open(\"../../assets/periods_dictionary.json\") as json_file:\n",
    "    periods_dictionary = json.load(json_file)"
   ]
  },
  {
   "cell_type": "code",
   "execution_count": 44,
   "metadata": {},
   "outputs": [],
   "source": [
    "cumulative_table = pd.DataFrame.from_dict(cumulative_metrics[0]).round(3)\n",
    "cumulative_table.index = [\n",
    "    periods_dictionary[\"Period {}\".format(i)]\n",
    "    for i, _ in enumerate(cumulative_table.index)\n",
    "]\n",
    "cumulative_table = cumulative_table.reindex(columns_order, axis=1)\n"
   ]
  },
  {
   "cell_type": "code",
   "execution_count": 45,
   "metadata": {},
   "outputs": [
    {
     "data": {
      "text/html": [
       "<div>\n",
       "<style scoped>\n",
       "    .dataframe tbody tr th:only-of-type {\n",
       "        vertical-align: middle;\n",
       "    }\n",
       "\n",
       "    .dataframe tbody tr th {\n",
       "        vertical-align: top;\n",
       "    }\n",
       "\n",
       "    .dataframe thead th {\n",
       "        text-align: right;\n",
       "    }\n",
       "</style>\n",
       "<table border=\"1\" class=\"dataframe\">\n",
       "  <thead>\n",
       "    <tr style=\"text-align: right;\">\n",
       "      <th></th>\n",
       "      <th># Nodes</th>\n",
       "      <th># Edges</th>\n",
       "      <th># Isolated nodes</th>\n",
       "      <th>% Isolated nodes</th>\n",
       "      <th># Connected components</th>\n",
       "      <th>Size of largest component</th>\n",
       "      <th>Av. degree</th>\n",
       "      <th># Communities</th>\n",
       "      <th>Modularity</th>\n",
       "      <th>Clustering coeff</th>\n",
       "    </tr>\n",
       "  </thead>\n",
       "  <tbody>\n",
       "    <tr>\n",
       "      <th>1954 - 1950</th>\n",
       "      <td>3</td>\n",
       "      <td>0</td>\n",
       "      <td>3</td>\n",
       "      <td>100.0</td>\n",
       "      <td>3</td>\n",
       "      <td>1</td>\n",
       "      <td>0.000</td>\n",
       "      <td>-</td>\n",
       "      <td>-</td>\n",
       "      <td>0.000</td>\n",
       "    </tr>\n",
       "    <tr>\n",
       "      <th>1954 - 1955</th>\n",
       "      <td>2</td>\n",
       "      <td>0</td>\n",
       "      <td>2</td>\n",
       "      <td>100.0</td>\n",
       "      <td>2</td>\n",
       "      <td>1</td>\n",
       "      <td>0.000</td>\n",
       "      <td>-</td>\n",
       "      <td>-</td>\n",
       "      <td>0.000</td>\n",
       "    </tr>\n",
       "    <tr>\n",
       "      <th>1955 - 1956</th>\n",
       "      <td>3</td>\n",
       "      <td>0</td>\n",
       "      <td>3</td>\n",
       "      <td>100.0</td>\n",
       "      <td>3</td>\n",
       "      <td>1</td>\n",
       "      <td>0.000</td>\n",
       "      <td>-</td>\n",
       "      <td>-</td>\n",
       "      <td>0.000</td>\n",
       "    </tr>\n",
       "    <tr>\n",
       "      <th>1956 - 1957</th>\n",
       "      <td>4</td>\n",
       "      <td>0</td>\n",
       "      <td>4</td>\n",
       "      <td>100.0</td>\n",
       "      <td>4</td>\n",
       "      <td>1</td>\n",
       "      <td>0.000</td>\n",
       "      <td>-</td>\n",
       "      <td>-</td>\n",
       "      <td>0.000</td>\n",
       "    </tr>\n",
       "    <tr>\n",
       "      <th>1957 - 1958</th>\n",
       "      <td>6</td>\n",
       "      <td>0</td>\n",
       "      <td>6</td>\n",
       "      <td>100.0</td>\n",
       "      <td>6</td>\n",
       "      <td>1</td>\n",
       "      <td>0.000</td>\n",
       "      <td>-</td>\n",
       "      <td>-</td>\n",
       "      <td>0.000</td>\n",
       "    </tr>\n",
       "    <tr>\n",
       "      <th>1958 - 1959</th>\n",
       "      <td>7</td>\n",
       "      <td>0</td>\n",
       "      <td>7</td>\n",
       "      <td>100.0</td>\n",
       "      <td>7</td>\n",
       "      <td>1</td>\n",
       "      <td>0.000</td>\n",
       "      <td>-</td>\n",
       "      <td>-</td>\n",
       "      <td>0.000</td>\n",
       "    </tr>\n",
       "    <tr>\n",
       "      <th>1959 - 1961</th>\n",
       "      <td>7</td>\n",
       "      <td>0</td>\n",
       "      <td>7</td>\n",
       "      <td>100.0</td>\n",
       "      <td>7</td>\n",
       "      <td>1</td>\n",
       "      <td>0.000</td>\n",
       "      <td>-</td>\n",
       "      <td>-</td>\n",
       "      <td>0.000</td>\n",
       "    </tr>\n",
       "    <tr>\n",
       "      <th>1961 - 1962</th>\n",
       "      <td>8</td>\n",
       "      <td>0</td>\n",
       "      <td>8</td>\n",
       "      <td>100.0</td>\n",
       "      <td>8</td>\n",
       "      <td>1</td>\n",
       "      <td>0.000</td>\n",
       "      <td>-</td>\n",
       "      <td>-</td>\n",
       "      <td>0.000</td>\n",
       "    </tr>\n",
       "    <tr>\n",
       "      <th>1962 - 1964</th>\n",
       "      <td>9</td>\n",
       "      <td>0</td>\n",
       "      <td>9</td>\n",
       "      <td>100.0</td>\n",
       "      <td>9</td>\n",
       "      <td>1</td>\n",
       "      <td>0.000</td>\n",
       "      <td>-</td>\n",
       "      <td>-</td>\n",
       "      <td>0.000</td>\n",
       "    </tr>\n",
       "    <tr>\n",
       "      <th>1964 - 1965</th>\n",
       "      <td>10</td>\n",
       "      <td>0</td>\n",
       "      <td>10</td>\n",
       "      <td>100.0</td>\n",
       "      <td>10</td>\n",
       "      <td>1</td>\n",
       "      <td>0.000</td>\n",
       "      <td>-</td>\n",
       "      <td>-</td>\n",
       "      <td>0.000</td>\n",
       "    </tr>\n",
       "    <tr>\n",
       "      <th>1965 - 1966</th>\n",
       "      <td>17</td>\n",
       "      <td>3</td>\n",
       "      <td>11</td>\n",
       "      <td>64.7</td>\n",
       "      <td>14</td>\n",
       "      <td>2</td>\n",
       "      <td>0.353</td>\n",
       "      <td>14</td>\n",
       "      <td>0.666667</td>\n",
       "      <td>0.000</td>\n",
       "    </tr>\n",
       "    <tr>\n",
       "      <th>1966 - 1967</th>\n",
       "      <td>21</td>\n",
       "      <td>4</td>\n",
       "      <td>13</td>\n",
       "      <td>61.9</td>\n",
       "      <td>17</td>\n",
       "      <td>2</td>\n",
       "      <td>0.381</td>\n",
       "      <td>17</td>\n",
       "      <td>0.75</td>\n",
       "      <td>0.000</td>\n",
       "    </tr>\n",
       "    <tr>\n",
       "      <th>1967 - 1968</th>\n",
       "      <td>32</td>\n",
       "      <td>15</td>\n",
       "      <td>13</td>\n",
       "      <td>40.6</td>\n",
       "      <td>21</td>\n",
       "      <td>5</td>\n",
       "      <td>0.938</td>\n",
       "      <td>21</td>\n",
       "      <td>0.684444</td>\n",
       "      <td>0.135</td>\n",
       "    </tr>\n",
       "    <tr>\n",
       "      <th>1968 - 1969</th>\n",
       "      <td>36</td>\n",
       "      <td>17</td>\n",
       "      <td>16</td>\n",
       "      <td>44.4</td>\n",
       "      <td>24</td>\n",
       "      <td>6</td>\n",
       "      <td>0.944</td>\n",
       "      <td>24</td>\n",
       "      <td>0.629758</td>\n",
       "      <td>0.139</td>\n",
       "    </tr>\n",
       "    <tr>\n",
       "      <th>1969 - 1970</th>\n",
       "      <td>39</td>\n",
       "      <td>18</td>\n",
       "      <td>17</td>\n",
       "      <td>43.6</td>\n",
       "      <td>26</td>\n",
       "      <td>6</td>\n",
       "      <td>0.923</td>\n",
       "      <td>26</td>\n",
       "      <td>0.666667</td>\n",
       "      <td>0.128</td>\n",
       "    </tr>\n",
       "  </tbody>\n",
       "</table>\n",
       "</div>"
      ],
      "text/plain": [
       "             # Nodes  # Edges  # Isolated nodes  % Isolated nodes  \\\n",
       "1954 - 1950        3        0                 3             100.0   \n",
       "1954 - 1955        2        0                 2             100.0   \n",
       "1955 - 1956        3        0                 3             100.0   \n",
       "1956 - 1957        4        0                 4             100.0   \n",
       "1957 - 1958        6        0                 6             100.0   \n",
       "1958 - 1959        7        0                 7             100.0   \n",
       "1959 - 1961        7        0                 7             100.0   \n",
       "1961 - 1962        8        0                 8             100.0   \n",
       "1962 - 1964        9        0                 9             100.0   \n",
       "1964 - 1965       10        0                10             100.0   \n",
       "1965 - 1966       17        3                11              64.7   \n",
       "1966 - 1967       21        4                13              61.9   \n",
       "1967 - 1968       32       15                13              40.6   \n",
       "1968 - 1969       36       17                16              44.4   \n",
       "1969 - 1970       39       18                17              43.6   \n",
       "\n",
       "             # Connected components  Size of largest component  Av. degree  \\\n",
       "1954 - 1950                       3                          1       0.000   \n",
       "1954 - 1955                       2                          1       0.000   \n",
       "1955 - 1956                       3                          1       0.000   \n",
       "1956 - 1957                       4                          1       0.000   \n",
       "1957 - 1958                       6                          1       0.000   \n",
       "1958 - 1959                       7                          1       0.000   \n",
       "1959 - 1961                       7                          1       0.000   \n",
       "1961 - 1962                       8                          1       0.000   \n",
       "1962 - 1964                       9                          1       0.000   \n",
       "1964 - 1965                      10                          1       0.000   \n",
       "1965 - 1966                      14                          2       0.353   \n",
       "1966 - 1967                      17                          2       0.381   \n",
       "1967 - 1968                      21                          5       0.938   \n",
       "1968 - 1969                      24                          6       0.944   \n",
       "1969 - 1970                      26                          6       0.923   \n",
       "\n",
       "            # Communities Modularity  Clustering coeff  \n",
       "1954 - 1950             -          -             0.000  \n",
       "1954 - 1955             -          -             0.000  \n",
       "1955 - 1956             -          -             0.000  \n",
       "1956 - 1957             -          -             0.000  \n",
       "1957 - 1958             -          -             0.000  \n",
       "1958 - 1959             -          -             0.000  \n",
       "1959 - 1961             -          -             0.000  \n",
       "1961 - 1962             -          -             0.000  \n",
       "1962 - 1964             -          -             0.000  \n",
       "1964 - 1965             -          -             0.000  \n",
       "1965 - 1966            14   0.666667             0.000  \n",
       "1966 - 1967            17       0.75             0.000  \n",
       "1967 - 1968            21   0.684444             0.135  \n",
       "1968 - 1969            24   0.629758             0.139  \n",
       "1969 - 1970            26   0.666667             0.128  "
      ]
     },
     "execution_count": 45,
     "metadata": {},
     "output_type": "execute_result"
    }
   ],
   "source": [
    "cumulative_table.head(15)\n"
   ]
  },
  {
   "cell_type": "code",
   "execution_count": 46,
   "metadata": {},
   "outputs": [],
   "source": [
    "write_to_file(\n",
    "    metric=cumulative_table.to_latex(), filename=\"cumulative_graphs_table.tex\"\n",
    ")\n"
   ]
  },
  {
   "cell_type": "code",
   "execution_count": 47,
   "metadata": {},
   "outputs": [],
   "source": [
    "clusters_cum_table = pd.DataFrame.from_dict(cumulative_cluster_metrics[0]).round(3)\n",
    "clusters_cum_table.index = [\n",
    "    periods_dictionary[\"Period {}\".format(i)]\n",
    "    for i, _ in enumerate(clusters_cum_table.index)\n",
    "]\n",
    "clusters_cum_table = clusters_cum_table.reindex(columns_order, axis=1)\n"
   ]
  },
  {
   "cell_type": "code",
   "execution_count": 48,
   "metadata": {},
   "outputs": [],
   "source": [
    "write_to_file(\n",
    "    metric=clusters_cum_table.to_latex(), filename=\"cumulative_clusters_table.tex\"\n",
    ")\n"
   ]
  },
  {
   "cell_type": "markdown",
   "metadata": {},
   "source": [
    "**Metric Plots**"
   ]
  },
  {
   "cell_type": "code",
   "execution_count": 49,
   "metadata": {
    "scrolled": true
   },
   "outputs": [
    {
     "data": {
      "image/png": "[encoded data removed]",
      "text/plain": [
       "<Figure size 576x360 with 1 Axes>"
      ]
     },
     "metadata": {},
     "output_type": "display_data"
    }
   ],
   "source": [
    "fig = plt.figure(figsize=(8, 5))\n",
    "for i in range(3):\n",
    "    y = [entry[\"% Nodes\"] for entry in cumulative_metrics[i]]\n",
    "    plt.plot(periods[i], y, linestyle[i], linewidth=3, color=colors[i], label=labels[i])\n",
    "plt.xticks(rotation=90)\n",
    "plt.legend()\n",
    "\n",
    "plt.savefig(\"../../assets/images/percentage_networks_nodes.pdf\")\n"
   ]
  },
  {
   "cell_type": "code",
   "execution_count": 50,
   "metadata": {},
   "outputs": [
    {
     "data": {
      "image/png": "[encoded data removed]",
      "text/plain": [
       "<Figure size 576x360 with 1 Axes>"
      ]
     },
     "metadata": {},
     "output_type": "display_data"
    }
   ],
   "source": [
    "fig = plt.figure(figsize=(8, 5))\n",
    "for i in range(3):\n",
    "    y = [entry[\"Av. degree\"] for entry in cumulative_metrics[i]]\n",
    "    plt.plot(periods[i], y, linestyle[i], linewidth=3, color=colors[i], label=labels[i])\n",
    "\n",
    "plt.xticks(rotation=90)\n",
    "plt.legend()\n",
    "plt.savefig(\"../../assets/images/degrees_over_time.pdf\")\n"
   ]
  },
  {
   "cell_type": "code",
   "execution_count": 51,
   "metadata": {},
   "outputs": [
    {
     "data": {
      "image/png": "[encoded data removed]",
      "text/plain": [
       "<Figure size 720x432 with 1 Axes>"
      ]
     },
     "metadata": {},
     "output_type": "display_data"
    }
   ],
   "source": [
    "fig = plt.figure(figsize=(10, 6))\n",
    "for i in range(3):\n",
    "    y = [entry[\"Av. degree\"] for entry in cumulative_cluster_metrics[i]]\n",
    "    plt.plot(periods[i], y, linestyle[i], linewidth=3, color=colors[i], label=labels[i])\n",
    "plt.xticks(rotation=90)\n",
    "plt.legend()\n",
    "\n",
    "plt.savefig(\"../../assets/images/degrees_over_time_cluster.pdf\")\n"
   ]
  },
  {
   "cell_type": "code",
   "execution_count": 52,
   "metadata": {},
   "outputs": [
    {
     "data": {
      "image/png": "[encoded data removed]",
      "text/plain": [
       "<Figure size 576x360 with 1 Axes>"
      ]
     },
     "metadata": {},
     "output_type": "display_data"
    }
   ],
   "source": [
    "fig = plt.figure(figsize=(8, 5))\n",
    "for i in range(3):\n",
    "    y = [entry[\"% Connected components\"] for entry in cumulative_metrics[i]]\n",
    "    plt.plot(periods[i], y, linestyle[i], linewidth=3, color=colors[i], label=labels[i])\n",
    "\n",
    "plt.xticks(rotation=90)\n",
    "plt.legend()\n",
    "\n",
    "plt.savefig(\"../../assets/images/connected_components_over_time.pdf\")\n"
   ]
  },
  {
   "cell_type": "code",
   "execution_count": 53,
   "metadata": {},
   "outputs": [
    {
     "data": {
      "image/png": "[encoded data removed]",
      "text/plain": [
       "<Figure size 576x360 with 1 Axes>"
      ]
     },
     "metadata": {},
     "output_type": "display_data"
    }
   ],
   "source": [
    "fig = plt.figure(figsize=(8, 5))\n",
    "for i in range(3):\n",
    "    y = [entry[\"% Size of largest\"] for entry in cumulative_metrics[i]]\n",
    "    plt.plot(periods[i], y, linestyle[i], linewidth=3, color=colors[i], label=labels[i])\n",
    "\n",
    "plt.xticks(rotation=90)\n",
    "plt.legend()\n",
    "\n",
    "plt.savefig(\"../../assets/images/size_of_largest_cc_over_time.pdf\")\n"
   ]
  },
  {
   "cell_type": "code",
   "execution_count": 54,
   "metadata": {},
   "outputs": [
    {
     "data": {
      "image/png": "[encoded data removed]",
      "text/plain": [
       "<Figure size 576x360 with 1 Axes>"
      ]
     },
     "metadata": {},
     "output_type": "display_data"
    }
   ],
   "source": [
    "fig = plt.figure(figsize=(8, 5))\n",
    "for i in range(3):\n",
    "    y = [entry[\"Clustering coeff\"] for entry in cumulative_metrics[i]]\n",
    "    plt.plot(periods[i], y, linestyle[i], linewidth=3, color=colors[i], label=labels[i])\n",
    "\n",
    "plt.xticks(rotation=90)\n",
    "plt.legend()\n",
    "\n",
    "plt.savefig(\"../../assets/images/clustering_coeff_over_time.pdf\")\n"
   ]
  },
  {
   "cell_type": "code",
   "execution_count": 55,
   "metadata": {},
   "outputs": [
    {
     "data": {
      "image/png": "[encoded data removed]",
      "text/plain": [
       "<Figure size 720x432 with 1 Axes>"
      ]
     },
     "metadata": {},
     "output_type": "display_data"
    }
   ],
   "source": [
    "fig = plt.figure(figsize=(10, 6))\n",
    "for i in range(3):\n",
    "    y = [entry[\"Clustering coeff\"] for entry in cumulative_cluster_metrics[i]]\n",
    "    plt.plot(periods[i], y, linestyle[i], linewidth=3, color=colors[i], label=labels[i])\n",
    "plt.xticks(rotation=90)\n",
    "plt.legend()\n",
    "\n",
    "plt.savefig(\"../../assets/images/clustering_coeff_over_time_clusters.pdf\")\n"
   ]
  },
  {
   "cell_type": "code",
   "execution_count": 56,
   "metadata": {},
   "outputs": [
    {
     "data": {
      "image/png": "[encoded data removed]",
      "text/plain": [
       "<Figure size 576x360 with 1 Axes>"
      ]
     },
     "metadata": {},
     "output_type": "display_data"
    }
   ],
   "source": [
    "fig = plt.figure(figsize=(8, 5))\n",
    "for i in range(3):\n",
    "    y = [\n",
    "        entry[\"Modularity\"]\n",
    "        for entry in cumulative_metrics[i]\n",
    "        if type(entry[\"Modularity\"]) is not str\n",
    "    ]\n",
    "    x = [\n",
    "        period\n",
    "        for j, period in enumerate(periods[i])\n",
    "        if type(cumulative_metrics[i][j][\"Modularity\"]) is not str\n",
    "    ]\n",
    "    plt.plot(x, y, linestyle[i], linewidth=3, color=colors[i], label=labels[i])\n",
    "plt.xticks(rotation=90)\n",
    "plt.legend()\n",
    "plt.savefig(\"../../assets/images/modularity_over_time.pdf\")\n"
   ]
  },
  {
   "cell_type": "code",
   "execution_count": 57,
   "metadata": {},
   "outputs": [
    {
     "data": {
      "text/plain": [
       "<matplotlib.legend.Legend at 0x7f537c37fcc0>"
      ]
     },
     "execution_count": 57,
     "metadata": {},
     "output_type": "execute_result"
    },
    {
     "data": {
      "image/png": "[encoded data removed]",
      "text/plain": [
       "<Figure size 576x360 with 1 Axes>"
      ]
     },
     "metadata": {},
     "output_type": "display_data"
    }
   ],
   "source": [
    "fig = plt.figure(figsize=(8, 5))\n",
    "for i in range(3):\n",
    "    y = [\n",
    "        entry[\"# Communities\"]\n",
    "        for entry in cumulative_metrics[i]\n",
    "        if type(entry[\"# Communities\"]) is not str\n",
    "    ]\n",
    "    x = [\n",
    "        period\n",
    "        for j, period in enumerate(periods[i])\n",
    "        if type(cumulative_metrics[i][j][\"# Communities\"]) is not str\n",
    "    ]\n",
    "    plt.plot(x, y, linestyle[i], linewidth=3, color=colors[i], label=labels[i])\n",
    "\n",
    "plt.xticks(rotation=90)\n",
    "plt.legend()\n"
   ]
  },
  {
   "cell_type": "code",
   "execution_count": 58,
   "metadata": {},
   "outputs": [
    {
     "data": {
      "image/png": "[encoded data removed]",
      "text/plain": [
       "<Figure size 720x432 with 1 Axes>"
      ]
     },
     "metadata": {},
     "output_type": "display_data"
    }
   ],
   "source": [
    "fig = plt.figure(figsize=(10, 6))\n",
    "for i in range(3):\n",
    "    y = [\n",
    "        entry[\"Modularity\"]\n",
    "        for entry in cumulative_cluster_metrics[i]\n",
    "        if type(entry[\"Modularity\"]) is not str\n",
    "    ]\n",
    "    x = [\n",
    "        period\n",
    "        for j, period in enumerate(periods[i])\n",
    "        if type(cumulative_cluster_metrics[i][j][\"Modularity\"]) is not str\n",
    "    ]\n",
    "    plt.plot(x, y, linestyle[i], linewidth=3, color=colors[i], label=labels[i])\n",
    "plt.xticks(rotation=90)\n",
    "plt.legend()\n",
    "\n",
    "plt.savefig(\"../../assets/images/modularity_over_time_cluster.pdf\")\n"
   ]
  },
  {
   "cell_type": "code",
   "execution_count": 59,
   "metadata": {},
   "outputs": [],
   "source": [
    "# fig, axes = plt.subplots(nrows=3, ncols=2, figsize=(15, 12))\n",
    "# for j, mtrcs in enumerate(['% Nodes', 'Av. degree', '# Connected components',\n",
    "#                            'Size of largest component', 'Clustering coeff', 'Modularity']):\n",
    "\n",
    "#     if mtrcs is 'Modularity':\n",
    "#         for i in range(3):\n",
    "#             y = [entry['Modularity'] for entry in cumulative_metrics[i] if type(entry['Modularity']) is not str]\n",
    "#             x = [period for j, period in enumerate(periods[i]) if type(cumulative_metrics[i][j]['Modularity']) is not str]\n",
    "#             axes[j % 3][j % 2].plot(x, y, linestyle[i], linewidth=3, color=colors[i], label=labels[i])\n",
    "#     else:\n",
    "#         for i in range(3):\n",
    "#             y = [entry[mtrcs] for entry in cumulative_metrics[i]]\n",
    "#             axes[j % 3][j % 2].plot(periods[i], y, linestyle[i], linewidth=3, color=colors[i], label=labels[i])\n",
    "#     axes[j % 3][j % 2].legend();\n",
    "#     axes[j % 3][j % 2].set_title(mtrcs, fontweight=\"bold\")\n",
    "# fig.tight_layout()\n",
    "\n",
    "# plt.savefig('../../assets/images/cum_coll_metrics.pdf')\n"
   ]
  },
  {
   "cell_type": "code",
   "execution_count": null,
   "metadata": {},
   "outputs": [],
   "source": []
  }
 ],
 "metadata": {
  "anaconda-cloud": {},
  "kernelspec": {
   "display_name": "literature",
   "language": "python",
   "name": "literature"
  },
  "language_info": {
   "codemirror_mode": {
    "name": "ipython",
    "version": 3
   },
   "file_extension": ".py",
   "mimetype": "text/x-python",
   "name": "python",
   "nbconvert_exporter": "python",
   "pygments_lexer": "ipython3",
   "version": "3.5.5"
  }
 },
 "nbformat": 4,
 "nbformat_minor": 1
}
