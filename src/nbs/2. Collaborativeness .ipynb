{
 "cells": [
  {
   "cell_type": "code",
   "execution_count": 1,
   "metadata": {},
   "outputs": [],
   "source": [
    "import matplotlib\n",
    "import matplotlib.pyplot as plt"
   ]
  },
  {
   "cell_type": "code",
   "execution_count": 2,
   "metadata": {},
   "outputs": [],
   "source": [
    "import networkx as nx\n",
    "import community\n",
    "import pandas as pd\n",
    "\n",
    "import numpy as np"
   ]
  },
  {
   "cell_type": "code",
   "execution_count": 3,
   "metadata": {},
   "outputs": [],
   "source": [
    "import imp\n",
    "tools = imp.load_source('tools', '../tools.py')\n",
    "\n",
    "from tools import  write_to_file"
   ]
  },
  {
   "cell_type": "code",
   "execution_count": 4,
   "metadata": {},
   "outputs": [],
   "source": [
    "%matplotlib inline\n",
    "\n",
    "import matplotlib.patches as mpatches\n",
    "import matplotlib.lines as lines\n",
    "\n",
    "font = {'size'   : 10,\n",
    "        'weight': 'bold'}\n",
    "matplotlib.rc('font', **font)"
   ]
  },
  {
   "cell_type": "code",
   "execution_count": 5,
   "metadata": {},
   "outputs": [],
   "source": [
    "ipd      = pd.read_json('../data/pd_November_2018_clean.json')\n",
    "anarchy  = pd.read_json('../data/anarchy_November_2018_clean.json')\n",
    "auction  = pd.read_json('../data/auction_November_2018_clean.json')\n",
    "\n",
    "dataframes = [ipd, auction, anarchy]"
   ]
  },
  {
   "cell_type": "code",
   "execution_count": 6,
   "metadata": {},
   "outputs": [],
   "source": [
    "periods = []\n",
    "for data in dataframes:\n",
    "    period = np.sort(data['date'].unique())\n",
    "    period = period[~np.isnan(period)]\n",
    "    periods.append(period[1:])   "
   ]
  },
  {
   "cell_type": "markdown",
   "metadata": {},
   "source": [
    " Collaborativeness \n",
    "---------------------------"
   ]
  },
  {
   "cell_type": "code",
   "execution_count": 7,
   "metadata": {},
   "outputs": [],
   "source": [
    "graphs = []\n",
    "for filename in ['pd_graph.gml', 'auction_graph.gml', 'anarchy_graph.gml']:\n",
    "    graphs.append(nx.read_gml('../data/networks/{}'.format(filename)))"
   ]
  },
  {
   "cell_type": "markdown",
   "metadata": {},
   "source": [
    "Illustrating co-authors network\n",
    "------------------------"
   ]
  },
  {
   "cell_type": "markdown",
   "metadata": {},
   "source": [
    "**Use Gephi**"
   ]
  },
  {
   "cell_type": "markdown",
   "metadata": {},
   "source": [
    "Network Metrics\n",
    "-----------------------"
   ]
  },
  {
   "cell_type": "code",
   "execution_count": 8,
   "metadata": {},
   "outputs": [],
   "source": [
    "number_edges = [nx.number_of_edges(G) for G in graphs]\n",
    "number_nodes = [nx.number_of_nodes(G) for G in graphs]"
   ]
  },
  {
   "cell_type": "code",
   "execution_count": 9,
   "metadata": {},
   "outputs": [],
   "source": [
    "for filename, metric in zip(['pd_edges.txt', 'pd_unique_authors.txt'], [number_edges, number_nodes]):\n",
    "    write_to_file(filename=filename, metric=metric)"
   ]
  },
  {
   "cell_type": "markdown",
   "metadata": {},
   "source": [
    "Collaborative Behaviour\n",
    "-----------------------------"
   ]
  },
  {
   "cell_type": "markdown",
   "metadata": {},
   "source": [
    "**Network Metrics**"
   ]
  },
  {
   "cell_type": "code",
   "execution_count": 10,
   "metadata": {},
   "outputs": [
    {
     "data": {
      "text/plain": [
       "[157, 210, 4]"
      ]
     },
     "execution_count": 10,
     "metadata": {},
     "output_type": "execute_result"
    }
   ],
   "source": [
    "isolated_authors = [len(list(nx.isolates(G))) for G in graphs]\n",
    "isolated_authors"
   ]
  },
  {
   "cell_type": "code",
   "execution_count": 11,
   "metadata": {},
   "outputs": [],
   "source": [
    "isolated_authors_percentage = [np.round(isolated / nodes, 3) \n",
    "                               for isolated, nodes in zip(isolated_authors, number_nodes)]"
   ]
  },
  {
   "cell_type": "code",
   "execution_count": 12,
   "metadata": {},
   "outputs": [],
   "source": [
    "number_connected_components = [nx.number_connected_components(G) for G in graphs]"
   ]
  },
  {
   "cell_type": "code",
   "execution_count": 13,
   "metadata": {},
   "outputs": [],
   "source": [
    "subgraphs = [list(nx.connected_component_subgraphs(G)) for G in graphs]"
   ]
  },
  {
   "cell_type": "code",
   "execution_count": 14,
   "metadata": {},
   "outputs": [],
   "source": [
    "largest_cc = [len(max(nx.connected_components(G), key=len)) for G in graphs]"
   ]
  },
  {
   "cell_type": "code",
   "execution_count": 15,
   "metadata": {},
   "outputs": [],
   "source": [
    "clustering_coeff = [round(nx.average_clustering(G), 3) for G in graphs]"
   ]
  },
  {
   "cell_type": "code",
   "execution_count": 16,
   "metadata": {},
   "outputs": [],
   "source": [
    "degree_distributions = [sorted([d for n, d in G.degree()], reverse=True) for G in graphs]\n",
    "av_degree = [np.round(np.mean(degree), 3) for degree in degree_distributions]"
   ]
  },
  {
   "cell_type": "code",
   "execution_count": 17,
   "metadata": {},
   "outputs": [],
   "source": [
    "communities = [community.best_partition(G) for G in graphs]\n",
    "modularities = [community.modularity(partition=communities[i], graph=G) for i, G in enumerate(graphs)]"
   ]
  },
  {
   "cell_type": "code",
   "execution_count": 18,
   "metadata": {},
   "outputs": [],
   "source": [
    "filenames = ['isolated_authors.txt', 'isolated_authors_percentage.txt', 'number_of_connected.txt',\n",
    "             \"largest_cc.txt\", \"av_degree.txt\", \"clustering_coeff.txt\", \"modularity_pd.txt\"]"
   ]
  },
  {
   "cell_type": "code",
   "execution_count": 19,
   "metadata": {},
   "outputs": [],
   "source": [
    "for i, metric in enumerate([isolated_authors, isolated_authors_percentage, number_connected_components, largest_cc,\n",
    "                            av_degree, clustering_coeff, modularities]):\n",
    "    write_to_file(filenames[i], metric[0])"
   ]
  },
  {
   "cell_type": "markdown",
   "metadata": {},
   "source": [
    "**Degree Distribution**"
   ]
  },
  {
   "cell_type": "code",
   "execution_count": 20,
   "metadata": {},
   "outputs": [
    {
     "data": {
      "image/png": "[encoded data removed]",
      "text/plain": [
       "<Figure size 432x288 with 1 Axes>"
      ]
     },
     "metadata": {},
     "output_type": "display_data"
    }
   ],
   "source": [
    "fig = plt.figure()\n",
    "\n",
    "plt.hist(degree_distributions[0],  color='darkorange')\n",
    "plt.ylabel('Normalised Degree')\n",
    "plt.title(\"Degree Distribution Prisoner's Dilemma Co authorship Network\")\n",
    "\n",
    "plt.savefig('../../assets/images/pd_degree_distribution.pdf')"
   ]
  },
  {
   "cell_type": "code",
   "execution_count": 21,
   "metadata": {},
   "outputs": [],
   "source": [
    "colors = ['darkorange', 'darkred', 'darkgreen']"
   ]
  },
  {
   "cell_type": "code",
   "execution_count": 22,
   "metadata": {},
   "outputs": [],
   "source": [
    "labels = [r'$G_1$', r'$G_2$', r'$G_3$']"
   ]
  },
  {
   "cell_type": "code",
   "execution_count": 23,
   "metadata": {},
   "outputs": [
    {
     "data": {
      "text/plain": [
       "'$G_1$'"
      ]
     },
     "execution_count": 23,
     "metadata": {},
     "output_type": "execute_result"
    }
   ],
   "source": [
    "labels[0]"
   ]
  },
  {
   "cell_type": "code",
   "execution_count": 24,
   "metadata": {},
   "outputs": [
    {
     "data": {
      "image/png": "[encoded data removed]",
      "text/plain": [
       "<Figure size 1080x360 with 3 Axes>"
      ]
     },
     "metadata": {},
     "output_type": "display_data"
    }
   ],
   "source": [
    "fig, axes = plt.subplots(nrows=1, ncols=3, figsize=(15, 5))\n",
    "for i, dstr in enumerate(degree_distributions): \n",
    "    axes[i].hist(dstr, color=colors[i]);\n",
    "    axes[i].axvline(np.median(dstr), color='sienna', linestyle=':', linewidth=3, label='median')\n",
    "    axes[i].title.set_text(labels[i])\n",
    "    \n",
    "    fig.text(0.5, 0.04, 'Degree Distributions', ha='center', fontsize=10)\n",
    "    \n",
    "plt.savefig('../../assets/images/networks_ditributions.pdf')"
   ]
  },
  {
   "cell_type": "markdown",
   "metadata": {},
   "source": [
    "**Comparison between fields**"
   ]
  },
  {
   "cell_type": "code",
   "execution_count": 25,
   "metadata": {},
   "outputs": [],
   "source": [
    "frame = {'# Isolated': isolated_authors, '% Isolated': isolated_authors_percentage,\n",
    "         '# Connected Components': number_connected_components, 'Largest cc': largest_cc,\n",
    "         'Clustering': clustering_coeff, 'Av. Degree': av_degree, 'Modularity': modularities,\n",
    "         '# Edges': number_edges, '# Nodes': number_nodes}"
   ]
  },
  {
   "cell_type": "code",
   "execution_count": 26,
   "metadata": {},
   "outputs": [],
   "source": [
    "table = pd.DataFrame.from_dict(frame).round(3)\n",
    "table.index= [\"Prisoner's Dilemma\", \"Auction Games\", \"Price of Anarchy\"]"
   ]
  },
  {
   "cell_type": "code",
   "execution_count": 27,
   "metadata": {},
   "outputs": [
    {
     "data": {
      "text/html": [
       "<div>\n",
       "<style scoped>\n",
       "    .dataframe tbody tr th:only-of-type {\n",
       "        vertical-align: middle;\n",
       "    }\n",
       "\n",
       "    .dataframe tbody tr th {\n",
       "        vertical-align: top;\n",
       "    }\n",
       "\n",
       "    .dataframe thead th {\n",
       "        text-align: right;\n",
       "    }\n",
       "</style>\n",
       "<table border=\"1\" class=\"dataframe\">\n",
       "  <thead>\n",
       "    <tr style=\"text-align: right;\">\n",
       "      <th></th>\n",
       "      <th># Connected Components</th>\n",
       "      <th># Edges</th>\n",
       "      <th># Isolated</th>\n",
       "      <th># Nodes</th>\n",
       "      <th>% Isolated</th>\n",
       "      <th>Av. Degree</th>\n",
       "      <th>Clustering</th>\n",
       "      <th>Largest cc</th>\n",
       "      <th>Modularity</th>\n",
       "    </tr>\n",
       "  </thead>\n",
       "  <tbody>\n",
       "    <tr>\n",
       "      <th>Prisoner's Dilemma</th>\n",
       "      <td>1027</td>\n",
       "      <td>9883</td>\n",
       "      <td>157</td>\n",
       "      <td>4713</td>\n",
       "      <td>0.033</td>\n",
       "      <td>4.194</td>\n",
       "      <td>0.685</td>\n",
       "      <td>1457</td>\n",
       "      <td>0.931</td>\n",
       "    </tr>\n",
       "    <tr>\n",
       "      <th>Auction Games</th>\n",
       "      <td>949</td>\n",
       "      <td>7753</td>\n",
       "      <td>210</td>\n",
       "      <td>4576</td>\n",
       "      <td>0.046</td>\n",
       "      <td>3.389</td>\n",
       "      <td>0.595</td>\n",
       "      <td>2079</td>\n",
       "      <td>0.891</td>\n",
       "    </tr>\n",
       "    <tr>\n",
       "      <th>Price of Anarchy</th>\n",
       "      <td>194</td>\n",
       "      <td>1911</td>\n",
       "      <td>4</td>\n",
       "      <td>1074</td>\n",
       "      <td>0.004</td>\n",
       "      <td>3.559</td>\n",
       "      <td>0.703</td>\n",
       "      <td>421</td>\n",
       "      <td>0.948</td>\n",
       "    </tr>\n",
       "  </tbody>\n",
       "</table>\n",
       "</div>"
      ],
      "text/plain": [
       "                    # Connected Components  # Edges  # Isolated  # Nodes  \\\n",
       "Prisoner's Dilemma                    1027     9883         157     4713   \n",
       "Auction Games                          949     7753         210     4576   \n",
       "Price of Anarchy                       194     1911           4     1074   \n",
       "\n",
       "                    % Isolated  Av. Degree  Clustering  Largest cc  Modularity  \n",
       "Prisoner's Dilemma       0.033       4.194       0.685        1457       0.931  \n",
       "Auction Games            0.046       3.389       0.595        2079       0.891  \n",
       "Price of Anarchy         0.004       3.559       0.703         421       0.948  "
      ]
     },
     "execution_count": 27,
     "metadata": {},
     "output_type": "execute_result"
    }
   ],
   "source": [
    "table"
   ]
  },
  {
   "cell_type": "code",
   "execution_count": 28,
   "metadata": {},
   "outputs": [],
   "source": [
    "write_to_file(metric=table.to_latex(), filename=\"network_comparison.tex\")"
   ]
  },
  {
   "cell_type": "markdown",
   "metadata": {},
   "source": [
    "Cumulative Graphs\n",
    "---------"
   ]
  },
  {
   "cell_type": "code",
   "execution_count": 29,
   "metadata": {},
   "outputs": [],
   "source": [
    "import glob"
   ]
  },
  {
   "cell_type": "code",
   "execution_count": 30,
   "metadata": {},
   "outputs": [],
   "source": [
    "number_of_files = len(list(glob.glob('../data/networks/G_pd_*.gml')))"
   ]
  },
  {
   "cell_type": "code",
   "execution_count": 31,
   "metadata": {},
   "outputs": [],
   "source": [
    "cumulative_graphs = []\n",
    "for i in range(number_of_files):\n",
    "    cumulative_graphs.append(nx.read_gml('../data/networks/G_pd_{}.gml'.format(i)))"
   ]
  },
  {
   "cell_type": "code",
   "execution_count": 32,
   "metadata": {},
   "outputs": [],
   "source": [
    "degree_points, largest_cc_points, number_of_cc_points, number_of_nodes, percentage_number = [], [], [], [], []\n",
    "for G in cumulative_graphs:\n",
    "    degree = sorted([d for n, d in G.degree()], reverse=True)\n",
    "    largest_cc_points.append(len(max(nx.connected_components(G), key=len)))\n",
    "    degree_points.append(np.mean(degree))\n",
    "    number_of_cc_points.append(nx.number_connected_components(G))\n",
    "    number_of_nodes.append(G.number_of_nodes())\n",
    "    \n",
    "    percentage_number.append(np.round(G.number_of_nodes() / number_nodes[0], 2))"
   ]
  },
  {
   "cell_type": "code",
   "execution_count": 33,
   "metadata": {},
   "outputs": [
    {
     "data": {
      "image/png": "[encoded data removed]",
      "text/plain": [
       "<Figure size 576x360 with 1 Axes>"
      ]
     },
     "metadata": {},
     "output_type": "display_data"
    }
   ],
   "source": [
    "fig = plt.figure(figsize=(8, 5))\n",
    "plt.plot(periods[0], number_of_nodes, '-o', linewidth=1, label='# Nodes', color=colors[0],)\n",
    "plt.xticks(rotation=90);\n",
    "plt.legend();"
   ]
  },
  {
   "cell_type": "code",
   "execution_count": 34,
   "metadata": {},
   "outputs": [
    {
     "data": {
      "image/png": "[encoded data removed]",
      "text/plain": [
       "<Figure size 576x360 with 1 Axes>"
      ]
     },
     "metadata": {},
     "output_type": "display_data"
    }
   ],
   "source": [
    "fig = plt.figure(figsize=(8, 5))\n",
    "plt.plot(periods[0], percentage_number, '-o', linewidth=1, label='% Nodes', color=colors[0],)\n",
    "plt.xticks(rotation=90);\n",
    "plt.legend();\n",
    "\n",
    "plt.savefig('../../assets/images/nodes_percentage_over_time.pdf')"
   ]
  },
  {
   "cell_type": "code",
   "execution_count": 35,
   "metadata": {},
   "outputs": [],
   "source": [
    "other_topics_files = [len(list(glob.glob('../data/networks/G_auction_*.gml')))]\n",
    "other_topics_files.append(len(list(glob.glob('../data/networks/G_anarchy_*.gml'))))"
   ]
  },
  {
   "cell_type": "code",
   "execution_count": 36,
   "metadata": {},
   "outputs": [],
   "source": [
    "auction_graphs = [nx.read_gml('../data/networks/G_auction_{}.gml'.format(i)) for i in range(other_topics_files[0])]\n",
    "anarchy_graphs = [nx.read_gml('../data/networks/G_anarchy_{}.gml'.format(i)) for i in range(other_topics_files[1])]"
   ]
  },
  {
   "cell_type": "code",
   "execution_count": 37,
   "metadata": {},
   "outputs": [],
   "source": [
    "degree_points_auction, largest_cc_points_auction, number_of_cc_points_auction, number_of_nodes_auction = [], [], [], []\n",
    "percentage_number_auction = []\n",
    "for G in auction_graphs:\n",
    "    degree = sorted([d for n, d in G.degree()], reverse=True)\n",
    "    \n",
    "    largest_cc_points_auction.append(len(max(nx.connected_components(G), key=len)))\n",
    "    degree_points_auction.append(np.mean(degree))\n",
    "    number_of_cc_points_auction.append(nx.number_connected_components(G))\n",
    "    number_of_nodes_auction.append(G.number_of_nodes())\n",
    "    \n",
    "    percentage_number_auction.append(np.round(G.number_of_nodes() / number_nodes[1], 2))"
   ]
  },
  {
   "cell_type": "code",
   "execution_count": 38,
   "metadata": {},
   "outputs": [],
   "source": [
    "degree_points_anarchy, largest_cc_points_anarchy, number_of_cc_points_anarchy, number_of_nodes_anarchy = [], [], [], []\n",
    "percentage_number_anarchy = []\n",
    "for G in anarchy_graphs:\n",
    "    degree = sorted([d for n, d in G.degree()], reverse=True)\n",
    "    \n",
    "    largest_cc_points_anarchy.append(len(max(nx.connected_components(G), key=len)))\n",
    "    degree_points_anarchy.append(np.mean(degree))\n",
    "    number_of_cc_points_anarchy.append(nx.number_connected_components(G))\n",
    "    number_of_nodes_anarchy.append(G.number_of_nodes())\n",
    "    \n",
    "    percentage_number_anarchy.append(np.round(G.number_of_nodes() / number_nodes[2], 2))"
   ]
  },
  {
   "cell_type": "code",
   "execution_count": 39,
   "metadata": {},
   "outputs": [
    {
     "data": {
      "image/png": "[encoded data removed]",
      "text/plain": [
       "<Figure size 720x360 with 1 Axes>"
      ]
     },
     "metadata": {},
     "output_type": "display_data"
    }
   ],
   "source": [
    "fig = plt.figure(figsize=(10, 5))\n",
    "plt.plot(periods[0], number_of_nodes, '-o', linewidth=1, label='Number of nodes')\n",
    "plt.plot(periods[2], number_of_nodes_anarchy, '-o', linewidth=1, label='Number of nodes')\n",
    "plt.plot(periods[1], number_of_nodes_auction, '-o', linewidth=1, label='Number of nodes')\n",
    "\n",
    "plt.xticks(rotation=90);"
   ]
  },
  {
   "cell_type": "code",
   "execution_count": 40,
   "metadata": {},
   "outputs": [
    {
     "data": {
      "image/png": "[encoded data removed]",
      "text/plain": [
       "<Figure size 576x360 with 1 Axes>"
      ]
     },
     "metadata": {},
     "output_type": "display_data"
    }
   ],
   "source": [
    "fig = plt.figure(figsize=(8, 5))\n",
    "plt.plot(periods[0], percentage_number, '--', linewidth=3, label='$G_1$', color=colors[0])\n",
    "plt.plot(periods[1], percentage_number_auction, '-.', linewidth=3, label='$G_2$', color=colors[1])\n",
    "plt.plot(periods[2], percentage_number_anarchy, ':o', linewidth=3, label='$G_3$', color=colors[2])\n",
    "\n",
    "plt.xticks(rotation=90);\n",
    "plt.legend();\n",
    "\n",
    "plt.savefig('../../assets/images/percentage_networks_nodes.pdf')"
   ]
  },
  {
   "cell_type": "code",
   "execution_count": 41,
   "metadata": {},
   "outputs": [
    {
     "data": {
      "image/png": "[encoded data removed]",
      "text/plain": [
       "<Figure size 720x360 with 1 Axes>"
      ]
     },
     "metadata": {},
     "output_type": "display_data"
    }
   ],
   "source": [
    "fig = plt.figure(figsize=(10, 5))\n",
    "plt.plot(periods[0], largest_cc_points, '--o', linewidth=3, label='Largest component size');\n",
    "plt.plot(periods[0], number_of_cc_points, '-o', linewidth=3, label='Number of connected components');\n",
    "\n",
    "plt.xticks(rotation=90);\n",
    "plt.legend();"
   ]
  },
  {
   "cell_type": "code",
   "execution_count": 42,
   "metadata": {},
   "outputs": [
    {
     "data": {
      "image/png": "[encoded data removed]",
      "text/plain": [
       "<Figure size 576x360 with 1 Axes>"
      ]
     },
     "metadata": {},
     "output_type": "display_data"
    }
   ],
   "source": [
    "fig = plt.figure(figsize=(8, 5))\n",
    "plt.plot(periods[0], degree_points, '--', label='$G_1$', linewidth=3, color=colors[0]);\n",
    "plt.plot(periods[1], degree_points_auction, ':o', label='$G_2$', linewidth=3, color=colors[1]);\n",
    "plt.plot(periods[2], degree_points_anarchy, '-.', label='$G_3$', linewidth=3, color=colors[2]);\n",
    "\n",
    "plt.xticks(rotation=90);\n",
    "plt.legend();\n",
    "\n",
    "\n",
    "plt.savefig('../../assets/images/degrees_over_time.pdf')"
   ]
  },
  {
   "cell_type": "markdown",
   "metadata": {},
   "source": [
    "**Metrics over time**"
   ]
  },
  {
   "cell_type": "code",
   "execution_count": 43,
   "metadata": {},
   "outputs": [],
   "source": [
    "isolated_authors = [len(list(nx.isolates(G))) for G in cumulative_graphs]"
   ]
  },
  {
   "cell_type": "code",
   "execution_count": 44,
   "metadata": {},
   "outputs": [],
   "source": [
    "isolated_authors_percentage = [isolated / nodes for isolated, nodes in zip(isolated_authors, number_of_nodes)]"
   ]
  },
  {
   "cell_type": "code",
   "execution_count": 45,
   "metadata": {},
   "outputs": [],
   "source": [
    "number_connected_components = [nx.number_connected_components(G) for G in cumulative_graphs]"
   ]
  },
  {
   "cell_type": "code",
   "execution_count": 46,
   "metadata": {},
   "outputs": [],
   "source": [
    "largest_cc = [len(max(nx.connected_components(G), key=len)) for G in cumulative_graphs]"
   ]
  },
  {
   "cell_type": "code",
   "execution_count": 47,
   "metadata": {},
   "outputs": [],
   "source": [
    "clustering_coeff = [round(nx.average_clustering(G), 3) for G in cumulative_graphs]"
   ]
  },
  {
   "cell_type": "code",
   "execution_count": 48,
   "metadata": {},
   "outputs": [],
   "source": [
    "degree_distributions = [sorted([d for n, d in G.degree()], reverse=True) for G in cumulative_graphs]\n",
    "av_degree = [np.mean(degree) for degree in degree_distributions]"
   ]
  },
  {
   "cell_type": "code",
   "execution_count": 49,
   "metadata": {},
   "outputs": [],
   "source": [
    "communities = [community.best_partition(G) for G in cumulative_graphs]"
   ]
  },
  {
   "cell_type": "code",
   "execution_count": 50,
   "metadata": {},
   "outputs": [],
   "source": [
    "modularities = []\n",
    "for i, G in enumerate(cumulative_graphs):\n",
    "    try:\n",
    "        modularities.append(community.modularity(partition=communities[i],graph=G))\n",
    "    except ValueError:\n",
    "        modularities.append('-')"
   ]
  },
  {
   "cell_type": "code",
   "execution_count": 51,
   "metadata": {},
   "outputs": [],
   "source": [
    "frame = {'# Isolated': isolated_authors, '% Isolated': isolated_authors_percentage,\n",
    "         '# Connected Components': number_connected_components, 'Largest cc': largest_cc,\n",
    "         'Clustering': clustering_coeff, 'Av. Degree': av_degree, 'Modularity': modularities}"
   ]
  },
  {
   "cell_type": "code",
   "execution_count": 52,
   "metadata": {},
   "outputs": [],
   "source": [
    "table = pd.DataFrame.from_dict(frame).round(2)\n",
    "table.index = [\"Period {}\".format(i) for i,_ in enumerate(table.index)]"
   ]
  },
  {
   "cell_type": "code",
   "execution_count": 53,
   "metadata": {},
   "outputs": [
    {
     "data": {
      "text/html": [
       "<div>\n",
       "<style scoped>\n",
       "    .dataframe tbody tr th:only-of-type {\n",
       "        vertical-align: middle;\n",
       "    }\n",
       "\n",
       "    .dataframe tbody tr th {\n",
       "        vertical-align: top;\n",
       "    }\n",
       "\n",
       "    .dataframe thead th {\n",
       "        text-align: right;\n",
       "    }\n",
       "</style>\n",
       "<table border=\"1\" class=\"dataframe\">\n",
       "  <thead>\n",
       "    <tr style=\"text-align: right;\">\n",
       "      <th></th>\n",
       "      <th># Connected Components</th>\n",
       "      <th># Isolated</th>\n",
       "      <th>% Isolated</th>\n",
       "      <th>Av. Degree</th>\n",
       "      <th>Clustering</th>\n",
       "      <th>Largest cc</th>\n",
       "      <th>Modularity</th>\n",
       "    </tr>\n",
       "  </thead>\n",
       "  <tbody>\n",
       "    <tr>\n",
       "      <th>Period 0</th>\n",
       "      <td>3</td>\n",
       "      <td>3</td>\n",
       "      <td>1.0</td>\n",
       "      <td>0.0</td>\n",
       "      <td>0.0</td>\n",
       "      <td>1</td>\n",
       "      <td>-</td>\n",
       "    </tr>\n",
       "    <tr>\n",
       "      <th>Period 1</th>\n",
       "      <td>2</td>\n",
       "      <td>2</td>\n",
       "      <td>1.0</td>\n",
       "      <td>0.0</td>\n",
       "      <td>0.0</td>\n",
       "      <td>1</td>\n",
       "      <td>-</td>\n",
       "    </tr>\n",
       "    <tr>\n",
       "      <th>Period 2</th>\n",
       "      <td>3</td>\n",
       "      <td>3</td>\n",
       "      <td>1.0</td>\n",
       "      <td>0.0</td>\n",
       "      <td>0.0</td>\n",
       "      <td>1</td>\n",
       "      <td>-</td>\n",
       "    </tr>\n",
       "    <tr>\n",
       "      <th>Period 3</th>\n",
       "      <td>4</td>\n",
       "      <td>4</td>\n",
       "      <td>1.0</td>\n",
       "      <td>0.0</td>\n",
       "      <td>0.0</td>\n",
       "      <td>1</td>\n",
       "      <td>-</td>\n",
       "    </tr>\n",
       "    <tr>\n",
       "      <th>Period 4</th>\n",
       "      <td>6</td>\n",
       "      <td>6</td>\n",
       "      <td>1.0</td>\n",
       "      <td>0.0</td>\n",
       "      <td>0.0</td>\n",
       "      <td>1</td>\n",
       "      <td>-</td>\n",
       "    </tr>\n",
       "  </tbody>\n",
       "</table>\n",
       "</div>"
      ],
      "text/plain": [
       "          # Connected Components  # Isolated  % Isolated  Av. Degree  \\\n",
       "Period 0                       3           3         1.0         0.0   \n",
       "Period 1                       2           2         1.0         0.0   \n",
       "Period 2                       3           3         1.0         0.0   \n",
       "Period 3                       4           4         1.0         0.0   \n",
       "Period 4                       6           6         1.0         0.0   \n",
       "\n",
       "          Clustering  Largest cc Modularity  \n",
       "Period 0         0.0           1          -  \n",
       "Period 1         0.0           1          -  \n",
       "Period 2         0.0           1          -  \n",
       "Period 3         0.0           1          -  \n",
       "Period 4         0.0           1          -  "
      ]
     },
     "execution_count": 53,
     "metadata": {},
     "output_type": "execute_result"
    }
   ],
   "source": [
    "table.head()"
   ]
  },
  {
   "cell_type": "code",
   "execution_count": 54,
   "metadata": {},
   "outputs": [],
   "source": [
    "write_to_file(metric=table.to_latex(), filename=\"cumulative_graphs_table.tex\")"
   ]
  },
  {
   "cell_type": "code",
   "execution_count": null,
   "metadata": {},
   "outputs": [],
   "source": []
  }
 ],
 "metadata": {
  "anaconda-cloud": {},
  "kernelspec": {
   "display_name": "literature",
   "language": "python",
   "name": "literature"
  },
  "language_info": {
   "codemirror_mode": {
    "name": "ipython",
    "version": 3
   },
   "file_extension": ".py",
   "mimetype": "text/x-python",
   "name": "python",
   "nbconvert_exporter": "python",
   "pygments_lexer": "ipython3",
   "version": "3.5.5"
  }
 },
 "nbformat": 4,
 "nbformat_minor": 1
}
