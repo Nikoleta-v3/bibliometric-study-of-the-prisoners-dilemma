{
 "cells": [
  {
   "cell_type": "markdown",
   "metadata": {
    "collapsed": true
   },
   "source": [
    "# Cleaning Data"
   ]
  },
  {
   "cell_type": "markdown",
   "metadata": {},
   "source": [
    "This notebook is used in order to clean the metadata retrieved with the software Arcas."
   ]
  },
  {
   "cell_type": "code",
   "execution_count": 8,
   "metadata": {},
   "outputs": [],
   "source": [
    "import glob\n",
    "import pandas as pd"
   ]
  },
  {
   "cell_type": "code",
   "execution_count": 9,
   "metadata": {},
   "outputs": [],
   "source": [
    "dfs = []\n",
    "for filename in glob.glob('../data/auction_*.json'):\n",
    "    dfs.append(pd.read_json(filename))"
   ]
  },
  {
   "cell_type": "code",
   "execution_count": 10,
   "metadata": {},
   "outputs": [],
   "source": [
    "df = pd.concat(dfs, ignore_index=True, sort=False)"
   ]
  },
  {
   "cell_type": "code",
   "execution_count": 11,
   "metadata": {},
   "outputs": [
    {
     "data": {
      "text/plain": [
       "array(['Nature', 'Springer', 'IEEE', 'arXiv'], dtype=object)"
      ]
     },
     "execution_count": 11,
     "metadata": {},
     "output_type": "execute_result"
    }
   ],
   "source": [
    "df.provenance.unique()"
   ]
  },
  {
   "cell_type": "code",
   "execution_count": 12,
   "metadata": {},
   "outputs": [
    {
     "data": {
      "text/plain": [
       "1387"
      ]
     },
     "execution_count": 12,
     "metadata": {},
     "output_type": "execute_result"
    }
   ],
   "source": [
    "len(df.title.unique())"
   ]
  },
  {
   "cell_type": "code",
   "execution_count": 13,
   "metadata": {},
   "outputs": [
    {
     "data": {
      "text/plain": [
       "1440"
      ]
     },
     "execution_count": 13,
     "metadata": {},
     "output_type": "execute_result"
    }
   ],
   "source": [
    "len(df.unique_key.unique())"
   ]
  },
  {
   "cell_type": "code",
   "execution_count": null,
   "metadata": {},
   "outputs": [],
   "source": []
  },
  {
   "cell_type": "code",
   "execution_count": 7,
   "metadata": {},
   "outputs": [
    {
     "data": {
      "text/plain": [
       "provenance\n",
       "IEEE         10\n",
       "Nature      194\n",
       "Springer    945\n",
       "arXiv       291\n",
       "dtype: int64"
      ]
     },
     "execution_count": 7,
     "metadata": {},
     "output_type": "execute_result"
    }
   ],
   "source": [
    "provenance_size = df.groupby(['unique_key', 'provenance']).size().reset_index().groupby('provenance').size()\n",
    "provenance_size"
   ]
  },
  {
   "cell_type": "code",
   "execution_count": 9,
   "metadata": {},
   "outputs": [],
   "source": [
    "df.to_json('../data/auction_November_2018.json')"
   ]
  },
  {
   "cell_type": "markdown",
   "metadata": {},
   "source": [
    "Cleaning\n",
    "--------"
   ]
  },
  {
   "cell_type": "code",
   "execution_count": 10,
   "metadata": {},
   "outputs": [],
   "source": [
    "df = pd.read_json('../data/auction_November_2018.json')"
   ]
  },
  {
   "cell_type": "code",
   "execution_count": 11,
   "metadata": {},
   "outputs": [],
   "source": [
    "# Initial all letter in the string author are lowercased.\n",
    "df.author = df.author.str.lower()"
   ]
  },
  {
   "cell_type": "code",
   "execution_count": 12,
   "metadata": {},
   "outputs": [],
   "source": [
    "#from fuzzywuzzy import fuzz\n",
    "import itertools"
   ]
  },
  {
   "cell_type": "code",
   "execution_count": 13,
   "metadata": {},
   "outputs": [],
   "source": [
    "import tqdm"
   ]
  },
  {
   "cell_type": "markdown",
   "metadata": {},
   "source": [
    "We can output the names that are very similar but the last check has to be manually."
   ]
  },
  {
   "cell_type": "code",
   "execution_count": 14,
   "metadata": {},
   "outputs": [],
   "source": [
    "temp = df"
   ]
  },
  {
   "cell_type": "code",
   "execution_count": 15,
   "metadata": {},
   "outputs": [],
   "source": [
    "pairs = itertools.combinations(temp.author.unique(), 2)"
   ]
  },
  {
   "cell_type": "code",
   "execution_count": 63,
   "metadata": {
    "scrolled": true
   },
   "outputs": [
    {
     "name": "stderr",
     "output_type": "stream",
     "text": [
      "17081169it [17:47, 16004.50it/s]\n"
     ]
    }
   ],
   "source": [
    "to_check = []\n",
    "for i, j in tqdm.tqdm(pairs):\n",
    "    ratio = fuzz.token_set_ratio(i,j)\n",
    "    if ratio >=90 and ratio != 100:\n",
    "        to_check.append((i, j))"
   ]
  },
  {
   "cell_type": "code",
   "execution_count": 64,
   "metadata": {},
   "outputs": [
    {
     "data": {
      "text/plain": [
       "[('s.cho', 's.chow'),\n",
       " ('d.cole', 'd.coyle'),\n",
       " ('p.grossman', 'g.grossman'),\n",
       " ('p.grossman', 'r.grossman'),\n",
       " ('j.campbell', 'o.campbell'),\n",
       " ('j.campbell', 't.campbell'),\n",
       " ('y.yamaguchi', 'm.yamaguchi'),\n",
       " ('k.kanazawa', 's.kanazawa'),\n",
       " ('x.han', 'x.shan'),\n",
       " ('d.zhao', 'd.hao'),\n",
       " ('t.mori', 't.omori'),\n",
       " ('e.anderson', 'j.anderson'),\n",
       " ('e.anderson', 'p.anderson'),\n",
       " ('e.anderson', 'a.anderson'),\n",
       " ('e.anderson', 'd.anderson'),\n",
       " ('m.seredynski', 'f.seredynski'),\n",
       " ('y.nakashima', 't.nakashima'),\n",
       " ('y.nakashima', 'y.nagashima'),\n",
       " ('y.nakashima', 'y.kashima'),\n",
       " ('y.nakashima', 'h.nakashima'),\n",
       " ('j.williams', 'm.williams'),\n",
       " ('j.williams', 't.williams'),\n",
       " ('j.williams', 'v.williams'),\n",
       " ('r.sorensen', 'h.sorensen'),\n",
       " ('r.sorensen', 't.sorensen'),\n",
       " ('s.schuster', 'm.schuster'),\n",
       " ('s.salmi', 's.almi'),\n",
       " ('c.backer', 'c.baker'),\n",
       " ('k.rudnicki', 'r.rudnicki'),\n",
       " ('t.zhou', 't.zhu'),\n",
       " ('h.sorensen', 't.sorensen'),\n",
       " ('c.huia', 'c.hui'),\n",
       " ('j.mendez-naya', 'l.mendez-naya'),\n",
       " ('a.kuhn', 'a.kun'),\n",
       " ('c.chan', 'c.chang'),\n",
       " ('s.jeong', 's.jong'),\n",
       " ('s.son', 's.song'),\n",
       " ('b.nakayama', 'k.nakayama'),\n",
       " ('b.nakayama', 'y.nakayama'),\n",
       " ('w.zhou', 'w.zhu'),\n",
       " ('t.peterson', 'e.peterson'),\n",
       " ('t.nakashima', 'h.nakashima'),\n",
       " ('s.wang', 's.hwang'),\n",
       " ('j.zhagn', 'j.zhan'),\n",
       " ('j.schaffer', 'j.schaeffer'),\n",
       " ('j.zhou', 'j.zhu'),\n",
       " ('j.han', 'j.zhan'),\n",
       " ('c.huang', 'c.hung'),\n",
       " ('o.teixeira', 'a.teixeira'),\n",
       " ('o.teixeira', 'j.teixeira'),\n",
       " ('a.teixeira', 'j.teixeira'),\n",
       " ('r.oliveira', 'a.oliveira'),\n",
       " ('r.oliveira', 'b.oliveira'),\n",
       " ('x.chen', 'x.cheng'),\n",
       " ('j.zhang', 'j.zhan'),\n",
       " ('y.zhu', 'y.zhou'),\n",
       " ('y.chen', 'y.cheng'),\n",
       " ('y.zhao', 'y.hao'),\n",
       " ('l.jing', 'l.jiang'),\n",
       " ('j.hao', 'j.shao'),\n",
       " ('w.wang', 'w.hwang'),\n",
       " ('n.chakraborty', 's.chakraborty'),\n",
       " ('n.chakraborty', 'a.chakraborty'),\n",
       " ('l.zou', 'l.zhou'),\n",
       " ('y.nakamura', 'm.nakamura'),\n",
       " ('y.nakamura', 'g.nakamura'),\n",
       " ('j.fletcher', 'l.fletcher'),\n",
       " ('y.zhou', 'y.zou'),\n",
       " ('w.chen', 'w.cheng'),\n",
       " ('t.chu', 't.chou'),\n",
       " ('k.cheng', 'k.chen'),\n",
       " ('i.zuckerman', 'm.zuckerman'),\n",
       " ('j.pan', 'j.pang'),\n",
       " ('k.uno', 'k.ueno'),\n",
       " ('t.han', 't.phan'),\n",
       " ('i.takahashi', 'h.takahashi'),\n",
       " ('i.takahashi', 'n.takahashi'),\n",
       " ('i.takahashi', 't.takahashi'),\n",
       " ('i.takahashi', 'k.takahashi'),\n",
       " ('g.hernandez', 'j.hernandez-orallo'),\n",
       " ('g.hernandez', 'f.hernandez-quiroz'),\n",
       " ('t.shishido', 'h.shishido'),\n",
       " ('g.grossman', 'r.grossman'),\n",
       " ('j.schluter', 'a.schluter'),\n",
       " ('j.meyer', 'j.meer'),\n",
       " ('k.yokoyama', 'a.yokoyama'),\n",
       " ('y.yamamoto', 'h.yamamoto'),\n",
       " ('y.yamamoto', 'k.yamamoto'),\n",
       " ('w.hutchison', 'd.hutchison'),\n",
       " ('p.mitchell', 'i.mitchell'),\n",
       " ('c.rodriguez-ruiz', 'j.rodriguez'),\n",
       " ('c.rodriguez-ruiz', 'i.rodriguez'),\n",
       " ('m.nakamura', 'g.nakamura'),\n",
       " ('i.fernandez-rosales', 'j.fernandez'),\n",
       " ('i.fernandez-rosales', 'a.fernandez'),\n",
       " ('i.fernandez-rosales', 'l.fernandez'),\n",
       " ('x.zeng', 'x.zheng'),\n",
       " ('l.fang', 'l.fan'),\n",
       " ('c.chu', 'c.chou'),\n",
       " ('o.campbell', 't.campbell'),\n",
       " ('j.roughgarden', 't.roughgarden'),\n",
       " ('x.zhou', 'x.zhu'),\n",
       " ('h.takahashi', 'n.takahashi'),\n",
       " ('h.takahashi', 't.takahashi'),\n",
       " ('h.takahashi', 'k.takahashi'),\n",
       " ('k.nakayama', 'y.nakayama'),\n",
       " ('w.zhang', 'w.zhan'),\n",
       " ('k.eriksson', 'a.eriksson'),\n",
       " ('m.matsumoto', 'k.matsumoto'),\n",
       " ('m.matsumoto', 'y.matsumoto'),\n",
       " ('m.matsumoto', 'j.matsumoto'),\n",
       " ('k.matsumoto', 'y.matsumoto'),\n",
       " ('k.matsumoto', 'j.matsumoto'),\n",
       " ('k.hayakawa', 's.hayakawa'),\n",
       " ('j.shin', 'j.shi'),\n",
       " ('a.robert', 'a.roberts'),\n",
       " ('s.chen', 's.cheng'),\n",
       " ('j.tan', 'j.tian'),\n",
       " ('v.eguiluz', 'v.eguluz'),\n",
       " ('a.gros', 'a.gross'),\n",
       " ('j.lin', 'j.ling'),\n",
       " ('j.lin', 'j.lien'),\n",
       " ('j.ferreira', 'a.ferreira'),\n",
       " ('j.ferreira', 'f.ferreira'),\n",
       " ('j.ferreira', 'n.ferreira'),\n",
       " ('l.cao', 'l.chao'),\n",
       " ('k.choo', 'k.cho'),\n",
       " ('c.chen', 'c.chena'),\n",
       " ('j.dijkstra', 'm.dijkstra'),\n",
       " ('j.anderson', 'j.andersen'),\n",
       " ('j.anderson', 'p.anderson'),\n",
       " ('j.anderson', 'a.anderson'),\n",
       " ('j.anderson', 'd.anderson'),\n",
       " ('r.schmid-hempel', 'p.schmid-hempel'),\n",
       " ('k.schaefer', 'g.schaefer'),\n",
       " ('k.schaefer', 'b.schaefer'),\n",
       " ('j.manson', 'j.mason'),\n",
       " ('t.phillips', 'g.phillips'),\n",
       " ('t.phillips', 'l.phillips'),\n",
       " ('t.phillips', 'm.phillips'),\n",
       " ('t.phillips', 'h.phillips'),\n",
       " ('n.takahashi', 't.takahashi'),\n",
       " ('n.takahashi', 'k.takahashi'),\n",
       " ('c.wang', 'c.wan'),\n",
       " ('z.wang', 'z.wan'),\n",
       " ('t.hasegawa', 'e.hasegawa'),\n",
       " ('t.hasegawa', 'm.hasegawa'),\n",
       " ('f.schneider', 'r.schneider'),\n",
       " ('q.zhuang', 'q.zhang'),\n",
       " ('s.gutierrez', 'm.gutierrez-roig'),\n",
       " ('c.lawrence', 'a.lawrence'),\n",
       " ('j.mcnamara', 'b.mcnamara'),\n",
       " ('j.mcnamara', 'd.mcnamara'),\n",
       " ('h.han', 'h.chan'),\n",
       " ('h.han', 'h.than'),\n",
       " ('m.johnson', 'm.johanson'),\n",
       " ('e.herrmann', 'h.herrmann'),\n",
       " ('m.kawaguchi', 'k.kawaguchi'),\n",
       " ('j.martinez', 'i.martinez-martinez'),\n",
       " ('j.martinez', 'm.martinez'),\n",
       " ('j.martinez', 'a.martinez'),\n",
       " ('j.martinez', 's.martinez'),\n",
       " ('y.shao', 'y.hao'),\n",
       " ('l.dugatkin', 'a.dugatkin'),\n",
       " ('s.bhattacharyya', 'r.bhattacharya'),\n",
       " ('s.bhattacharyya', 's.bhattacharya'),\n",
       " ('a.oliveira', 'b.oliveira'),\n",
       " ('e.hasegawa', 'm.hasegawa'),\n",
       " ('l.cai', 'l.chai'),\n",
       " ('p.domenech', 'g.domenech'),\n",
       " ('h.yamamoto', 'k.yamamoto'),\n",
       " ('j.schaeffer', 'm.schaeffer'),\n",
       " ('j.chook', 'j.cook'),\n",
       " ('b.davis', 'b.davies'),\n",
       " ('c.rodriguez-sickert', 'j.rodriguez'),\n",
       " ('c.rodriguez-sickert', 'i.rodriguez'),\n",
       " ('j.chen', 'j.cohen'),\n",
       " ('i.rodriguez-lara', 'j.rodriguez'),\n",
       " ('c.thompson', 'r.thompson'),\n",
       " ('c.thompson', 'm.thompson'),\n",
       " ('p.morrison', 'k.morrison'),\n",
       " ('p.morrison', 'r.morrison'),\n",
       " ('s.timme', 's.timm'),\n",
       " ('r.aharonov', 'y.aharonov'),\n",
       " ('l.zhu', 'l.zhou'),\n",
       " ('a.wolf', 'a.wolfe'),\n",
       " ('g.phillips', 'l.phillips'),\n",
       " ('g.phillips', 'm.phillips'),\n",
       " ('g.phillips', 'h.phillips'),\n",
       " ('r.may', 'r.mayr'),\n",
       " ('p.bennet', 'p.bennett'),\n",
       " ('g.yang', 'g.yan'),\n",
       " ('s.pande', 's.pandey'),\n",
       " ('y.matsumoto', 'j.matsumoto'),\n",
       " ('t.pfeiffer', 'h.pfeiffer'),\n",
       " ('j.meer', 'j.meier'),\n",
       " ('d.chow', 'd.cho'),\n",
       " ('d.han', 'd.phan'),\n",
       " ('i.martinez-martinez', 'm.martinez'),\n",
       " ('i.martinez-martinez', 'a.martinez'),\n",
       " ('i.martinez-martinez', 's.martinez'),\n",
       " ('l.phillips', 'm.phillips'),\n",
       " ('l.phillips', 'h.phillips'),\n",
       " ('m.phillips', 'h.phillips'),\n",
       " ('m.meinshausen', 'n.meinshausen'),\n",
       " ('s.zhou', 's.zhu'),\n",
       " ('h.zhou', 'h.zhu'),\n",
       " ('t.takahashi', 'k.takahashi'),\n",
       " ('m.martinez', 'a.martinez'),\n",
       " ('m.martinez', 's.martinez'),\n",
       " ('d.andersson', 'd.anderson'),\n",
       " ('k.morrison', 'r.morrison'),\n",
       " ('m.williams', 't.williams'),\n",
       " ('m.williams', 'v.williams'),\n",
       " ('l.cheng', 'l.chen'),\n",
       " ('v.kostakos', 'p.kostakos'),\n",
       " ('j.rodriguez', 'i.rodriguez'),\n",
       " ('j.rodriguez', 'm.rodriguez-mayorga'),\n",
       " ('h.karlgren', 'j.karlgren'),\n",
       " ('r.majumdar', 'k.majumdar'),\n",
       " ('j.andersen', 'p.andersen'),\n",
       " ('m.henning', 'm.hennings'),\n",
       " ('a.martinez', 's.martinez'),\n",
       " ('r.bhattacharya', 's.bhattacharya'),\n",
       " ('l.sheng', 'l.shen'),\n",
       " ('e.ferragut', 'j.ferragut'),\n",
       " ('e.ferragut', 'n.ferragut'),\n",
       " ('j.ferragut', 'n.ferragut'),\n",
       " ('t.galla', 't.gall'),\n",
       " ('y.son', 'y.sohn'),\n",
       " ('c.schafer', 'c.schaffner'),\n",
       " ('k.roy-maity', 'k.ray-maity'),\n",
       " ('c.hamilton', 'j.hamilton'),\n",
       " ('j.fernandez', 'a.fernandez'),\n",
       " ('j.fernandez', 'l.fernandez'),\n",
       " ('g.schafer', 'g.schaefer'),\n",
       " ('j.park', 'j.pak'),\n",
       " ('g.schaefer', 'b.schaefer'),\n",
       " ('r.horodecki', 'm.horodecki'),\n",
       " ('r.horodecki', 'p.horodecki'),\n",
       " ('m.horodecki', 'p.horodecki'),\n",
       " ('c.henderson', 't.henderson'),\n",
       " ('n.jennings', 'd.jennings'),\n",
       " ('m.lassig', 'm.laessig'),\n",
       " ('s.saha', 's.sahai'),\n",
       " ('i.rodriguez', 'm.rodriguez-mayorga'),\n",
       " ('d.kravchenko', 'd.kravcenko'),\n",
       " ('s.chakraborty', 'a.chakraborty'),\n",
       " ('c.sugimoto', 'm.sugimoto'),\n",
       " ('a.fernandez', 'j.moyano-fernandez'),\n",
       " ('a.fernandez', 'l.fernandez'),\n",
       " ('r.thompson', 'm.thompson'),\n",
       " ('p.anderson', 'p.andersen'),\n",
       " ('p.anderson', 'a.anderson'),\n",
       " ('p.anderson', 'd.anderson'),\n",
       " ('a.anderson', 'd.anderson'),\n",
       " ('j.moyano-fernandez', 'l.fernandez'),\n",
       " ('s.gottloeber', 's.gottlober'),\n",
       " ('x.xia', 'x.xiao'),\n",
       " ('v.belavkin', 'r.belavkin'),\n",
       " ('j.bolt', 'j.bolte'),\n",
       " ('s.benjamin', 'c.benjamin'),\n",
       " ('t.williams', 'v.williams'),\n",
       " ('a.castaneda', 'h.castaneda'),\n",
       " ('a.ferreira', 'f.ferreira'),\n",
       " ('a.ferreira', 'n.ferreira'),\n",
       " ('a.frenkel', 'a.fraenkel'),\n",
       " ('p.theodosopoulos', 't.theodosopoulos'),\n",
       " ('r.rabinovich', 'a.rabinovich'),\n",
       " ('f.ferreira', 'n.ferreira'),\n",
       " ('j.richert', 'j.reichert'),\n",
       " ('b.mcnamara', 'd.mcnamara')]"
      ]
     },
     "execution_count": 64,
     "metadata": {},
     "output_type": "execute_result"
    }
   ],
   "source": [
    "to_check"
   ]
  },
  {
   "cell_type": "code",
   "execution_count": 11,
   "metadata": {},
   "outputs": [
    {
     "data": {
      "text/plain": [
       "array(['Rationale, design and critical end points for the Riluzole in Acute Spinal Cord Injury Study (RISCIS): a randomized, double-blinded, placebo-controlled parallel multi-center trial'],\n",
       "      dtype=object)"
      ]
     },
     "execution_count": 11,
     "metadata": {},
     "output_type": "execute_result"
    }
   ],
   "source": [
    "df[df['author'] == 'r.grossman']['title'].unique()"
   ]
  },
  {
   "cell_type": "code",
   "execution_count": 8,
   "metadata": {},
   "outputs": [
    {
     "data": {
      "text/plain": [
       "array(['Summer books'], dtype=object)"
      ]
     },
     "execution_count": 8,
     "metadata": {},
     "output_type": "execute_result"
    }
   ],
   "source": [
    "df[df['author'] == 'd.coyle']['title'].unique()"
   ]
  },
  {
   "cell_type": "markdown",
   "metadata": {
    "collapsed": true
   },
   "source": [
    "Duplicate articles\n",
    "------------------"
   ]
  },
  {
   "cell_type": "code",
   "execution_count": 16,
   "metadata": {},
   "outputs": [
    {
     "data": {
      "text/html": [
       "<div>\n",
       "<style scoped>\n",
       "    .dataframe tbody tr th:only-of-type {\n",
       "        vertical-align: middle;\n",
       "    }\n",
       "\n",
       "    .dataframe tbody tr th {\n",
       "        vertical-align: top;\n",
       "    }\n",
       "\n",
       "    .dataframe thead th {\n",
       "        text-align: right;\n",
       "    }\n",
       "</style>\n",
       "<table border=\"1\" class=\"dataframe\">\n",
       "  <thead>\n",
       "    <tr style=\"text-align: right;\">\n",
       "      <th></th>\n",
       "      <th>unique_key</th>\n",
       "      <th>0</th>\n",
       "    </tr>\n",
       "    <tr>\n",
       "      <th>title</th>\n",
       "      <th></th>\n",
       "      <th></th>\n",
       "    </tr>\n",
       "  </thead>\n",
       "  <tbody>\n",
       "    <tr>\n",
       "      <th>\\n</th>\n",
       "      <td>2</td>\n",
       "      <td>2</td>\n",
       "    </tr>\n",
       "    <tr>\n",
       "      <th>Ad Exchange: Envy-Free Auctions with Mediators</th>\n",
       "      <td>2</td>\n",
       "      <td>2</td>\n",
       "    </tr>\n",
       "    <tr>\n",
       "      <th>An Online Multi-unit Auction with Improved Competitive Ratio</th>\n",
       "      <td>2</td>\n",
       "      <td>2</td>\n",
       "    </tr>\n",
       "    <tr>\n",
       "      <th>Analyses of Cardinal Auctions</th>\n",
       "      <td>2</td>\n",
       "      <td>2</td>\n",
       "    </tr>\n",
       "    <tr>\n",
       "      <th>Auctions</th>\n",
       "      <td>11</td>\n",
       "      <td>11</td>\n",
       "    </tr>\n",
       "    <tr>\n",
       "      <th>Auctions (Applications)</th>\n",
       "      <td>3</td>\n",
       "      <td>3</td>\n",
       "    </tr>\n",
       "    <tr>\n",
       "      <th>Auctions (Empirics)</th>\n",
       "      <td>3</td>\n",
       "      <td>3</td>\n",
       "    </tr>\n",
       "    <tr>\n",
       "      <th>Auctions (Experiments)</th>\n",
       "      <td>3</td>\n",
       "      <td>3</td>\n",
       "    </tr>\n",
       "    <tr>\n",
       "      <th>Auctions (Theory)</th>\n",
       "      <td>3</td>\n",
       "      <td>3</td>\n",
       "    </tr>\n",
       "    <tr>\n",
       "      <th>Bayesian Auctions with Friends and Foes</th>\n",
       "      <td>2</td>\n",
       "      <td>2</td>\n",
       "    </tr>\n",
       "    <tr>\n",
       "      <th>Bidding up  buying out and cooling-off: an examination of auctions with withdrawal rights</th>\n",
       "      <td>2</td>\n",
       "      <td>2</td>\n",
       "    </tr>\n",
       "    <tr>\n",
       "      <th>Books</th>\n",
       "      <td>2</td>\n",
       "      <td>2</td>\n",
       "    </tr>\n",
       "    <tr>\n",
       "      <th>Competitive Auctions for Markets with Positive Externalities</th>\n",
       "      <td>2</td>\n",
       "      <td>2</td>\n",
       "    </tr>\n",
       "    <tr>\n",
       "      <th>Effectiveness of Preference Elicitation in Combinatorial Auctions</th>\n",
       "      <td>2</td>\n",
       "      <td>2</td>\n",
       "    </tr>\n",
       "    <tr>\n",
       "      <th>False-Name-Proof Auction</th>\n",
       "      <td>2</td>\n",
       "      <td>2</td>\n",
       "    </tr>\n",
       "    <tr>\n",
       "      <th>Fast Convergence in the Double Oral Auction</th>\n",
       "      <td>2</td>\n",
       "      <td>2</td>\n",
       "    </tr>\n",
       "    <tr>\n",
       "      <th>Inapproximability Results for Combinatorial Auctions with Submodular Utility Functions</th>\n",
       "      <td>2</td>\n",
       "      <td>2</td>\n",
       "    </tr>\n",
       "    <tr>\n",
       "      <th>Information Elicitation for Bayesian Auctions</th>\n",
       "      <td>2</td>\n",
       "      <td>2</td>\n",
       "    </tr>\n",
       "    <tr>\n",
       "      <th>Limits of Efficiency in Sequential Auctions</th>\n",
       "      <td>2</td>\n",
       "      <td>2</td>\n",
       "    </tr>\n",
       "    <tr>\n",
       "      <th>Multiple Unit Auctions with Budget Constraint</th>\n",
       "      <td>3</td>\n",
       "      <td>3</td>\n",
       "    </tr>\n",
       "    <tr>\n",
       "      <th>On Revenue Monotonicity in Combinatorial Auctions</th>\n",
       "      <td>2</td>\n",
       "      <td>2</td>\n",
       "    </tr>\n",
       "    <tr>\n",
       "      <th>On the Rationality of Escalation</th>\n",
       "      <td>2</td>\n",
       "      <td>2</td>\n",
       "    </tr>\n",
       "    <tr>\n",
       "      <th>On the Stability of Generalized Second Price Auctions with Budgets</th>\n",
       "      <td>3</td>\n",
       "      <td>3</td>\n",
       "    </tr>\n",
       "    <tr>\n",
       "      <th>Position Auction</th>\n",
       "      <td>2</td>\n",
       "      <td>2</td>\n",
       "    </tr>\n",
       "    <tr>\n",
       "      <th>Prediction and Welfare in Ad Auctions</th>\n",
       "      <td>2</td>\n",
       "      <td>2</td>\n",
       "    </tr>\n",
       "    <tr>\n",
       "      <th>Privacy Preserving Auction</th>\n",
       "      <td>2</td>\n",
       "      <td>2</td>\n",
       "    </tr>\n",
       "    <tr>\n",
       "      <th>Prophet Inequality and Online Auctions</th>\n",
       "      <td>2</td>\n",
       "      <td>2</td>\n",
       "    </tr>\n",
       "    <tr>\n",
       "      <th>Repeated Budgeted Second Price Ad Auction</th>\n",
       "      <td>2</td>\n",
       "      <td>2</td>\n",
       "    </tr>\n",
       "    <tr>\n",
       "      <th>Revenue Monotone Auctions</th>\n",
       "      <td>2</td>\n",
       "      <td>2</td>\n",
       "    </tr>\n",
       "    <tr>\n",
       "      <th>Secure Generalized Vickrey Auction Using Homomorphic Encryption</th>\n",
       "      <td>2</td>\n",
       "      <td>2</td>\n",
       "    </tr>\n",
       "    <tr>\n",
       "      <th>Sponsored Search Auctions with Markovian Users</th>\n",
       "      <td>2</td>\n",
       "      <td>2</td>\n",
       "    </tr>\n",
       "    <tr>\n",
       "      <th>The Combinatorial World (of Auctions) According to GARP</th>\n",
       "      <td>2</td>\n",
       "      <td>2</td>\n",
       "    </tr>\n",
       "    <tr>\n",
       "      <th>Tight Welfare Guarantees for Pure Nash Equilibria of the Uniform Price Auction</th>\n",
       "      <td>2</td>\n",
       "      <td>2</td>\n",
       "    </tr>\n",
       "    <tr>\n",
       "      <th>Uniform Price Auctions: Equilibria and Efficiency</th>\n",
       "      <td>2</td>\n",
       "      <td>2</td>\n",
       "    </tr>\n",
       "    <tr>\n",
       "      <th>Valuation Compressions in VCG-Based Combinatorial Auctions</th>\n",
       "      <td>2</td>\n",
       "      <td>2</td>\n",
       "    </tr>\n",
       "    <tr>\n",
       "      <th>Vickrey auctions with reserve pricing</th>\n",
       "      <td>2</td>\n",
       "      <td>2</td>\n",
       "    </tr>\n",
       "  </tbody>\n",
       "</table>\n",
       "</div>"
      ],
      "text/plain": [
       "                                                    unique_key   0\n",
       "title                                                             \n",
       "\\n                                                           2   2\n",
       "Ad Exchange: Envy-Free Auctions with Mediators               2   2\n",
       "An Online Multi-unit Auction with Improved Comp...           2   2\n",
       "Analyses of Cardinal Auctions                                2   2\n",
       "Auctions                                                    11  11\n",
       "Auctions (Applications)                                      3   3\n",
       "Auctions (Empirics)                                          3   3\n",
       "Auctions (Experiments)                                       3   3\n",
       "Auctions (Theory)                                            3   3\n",
       "Bayesian Auctions with Friends and Foes                      2   2\n",
       "Bidding up  buying out and cooling-off: an exam...           2   2\n",
       "Books                                                        2   2\n",
       "Competitive Auctions for Markets with Positive ...           2   2\n",
       "Effectiveness of Preference Elicitation in Comb...           2   2\n",
       "False-Name-Proof Auction                                     2   2\n",
       "Fast Convergence in the Double Oral Auction                  2   2\n",
       "Inapproximability Results for Combinatorial Auc...           2   2\n",
       "Information Elicitation for Bayesian Auctions                2   2\n",
       "Limits of Efficiency in Sequential Auctions                  2   2\n",
       "Multiple Unit Auctions with Budget Constraint                3   3\n",
       "On Revenue Monotonicity in Combinatorial Auctions            2   2\n",
       "On the Rationality of Escalation                             2   2\n",
       "On the Stability of Generalized Second Price Au...           3   3\n",
       "Position Auction                                             2   2\n",
       "Prediction and Welfare in Ad Auctions                        2   2\n",
       "Privacy Preserving Auction                                   2   2\n",
       "Prophet Inequality and Online Auctions                       2   2\n",
       "Repeated Budgeted Second Price Ad Auction                    2   2\n",
       "Revenue Monotone Auctions                                    2   2\n",
       "Secure Generalized Vickrey Auction Using Homomo...           2   2\n",
       "Sponsored Search Auctions with Markovian Users               2   2\n",
       "The Combinatorial World (of Auctions) According...           2   2\n",
       "Tight Welfare Guarantees for Pure Nash Equilibr...           2   2\n",
       "Uniform Price Auctions: Equilibria and Efficiency            2   2\n",
       "Valuation Compressions in VCG-Based Combinatori...           2   2\n",
       "Vickrey auctions with reserve pricing                        2   2"
      ]
     },
     "execution_count": 16,
     "metadata": {},
     "output_type": "execute_result"
    }
   ],
   "source": [
    "table = df.groupby(['title', 'unique_key']).size().reset_index().groupby('title').count()\n",
    "duplicates = table[table['unique_key']>1]\n",
    "duplicates"
   ]
  },
  {
   "cell_type": "code",
   "execution_count": 17,
   "metadata": {},
   "outputs": [],
   "source": [
    "duplicates_title = df[df['title'].isin(duplicates.index)]['title'].unique()"
   ]
  },
  {
   "cell_type": "code",
   "execution_count": 18,
   "metadata": {},
   "outputs": [],
   "source": [
    "duplicates_in_arxiv = df[(df['title'].isin(duplicates.index)) & (df['provenance'] == 'arXiv')]['title'].unique()"
   ]
  },
  {
   "cell_type": "code",
   "execution_count": 19,
   "metadata": {},
   "outputs": [],
   "source": [
    "diff = list(set(duplicates_title) - set(duplicates_in_arxiv))"
   ]
  },
  {
   "cell_type": "code",
   "execution_count": 20,
   "metadata": {},
   "outputs": [],
   "source": [
    "df_without_arxiv = df[~(df['provenance']=='arXiv')]"
   ]
  },
  {
   "cell_type": "code",
   "execution_count": 21,
   "metadata": {},
   "outputs": [],
   "source": [
    "df_without_arxiv = df_without_arxiv.drop_duplicates(subset='title')"
   ]
  },
  {
   "cell_type": "code",
   "execution_count": 22,
   "metadata": {},
   "outputs": [],
   "source": [
    "# df_without_arxiv.to_json('../data/pd_November_2018_without_arxiv.json')"
   ]
  },
  {
   "cell_type": "markdown",
   "metadata": {},
   "source": [
    "**Drop duplicates.**"
   ]
  },
  {
   "cell_type": "code",
   "execution_count": 23,
   "metadata": {},
   "outputs": [],
   "source": [
    "articles_to_drop = df[(df['title'].isin(duplicates.index)) & (df['provenance']=='arXiv')]['unique_key'].unique()"
   ]
  },
  {
   "cell_type": "code",
   "execution_count": 24,
   "metadata": {},
   "outputs": [],
   "source": [
    "df = df[~df['unique_key'].isin(articles_to_drop)]"
   ]
  },
  {
   "cell_type": "code",
   "execution_count": 25,
   "metadata": {},
   "outputs": [],
   "source": [
    "df = df.drop_duplicates(subset='title')"
   ]
  },
  {
   "cell_type": "code",
   "execution_count": 26,
   "metadata": {},
   "outputs": [
    {
     "data": {
      "text/plain": [
       "(1386, 1386)"
      ]
     },
     "execution_count": 26,
     "metadata": {},
     "output_type": "execute_result"
    }
   ],
   "source": [
    "len(df['title'].unique()), len(df['unique_key'].unique())"
   ]
  },
  {
   "cell_type": "markdown",
   "metadata": {},
   "source": [
    "**Export clean json.**"
   ]
  },
  {
   "cell_type": "code",
   "execution_count": 27,
   "metadata": {},
   "outputs": [],
   "source": [
    "df.to_json('../data/auction_November_2018_clean.json')"
   ]
  }
 ],
 "metadata": {
  "anaconda-cloud": {},
  "kernelspec": {
   "display_name": "literature",
   "language": "python",
   "name": "literature"
  },
  "language_info": {
   "codemirror_mode": {
    "name": "ipython",
    "version": 3
   },
   "file_extension": ".py",
   "mimetype": "text/x-python",
   "name": "python",
   "nbconvert_exporter": "python",
   "pygments_lexer": "ipython3",
   "version": "3.5.5"
  }
 },
 "nbformat": 4,
 "nbformat_minor": 2
}
