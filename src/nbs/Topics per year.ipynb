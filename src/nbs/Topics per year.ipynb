{
 "cells": [
  {
   "cell_type": "code",
   "execution_count": 2,
   "metadata": {},
   "outputs": [],
   "source": [
    "import pandas as pd"
   ]
  },
  {
   "cell_type": "code",
   "execution_count": 3,
   "metadata": {},
   "outputs": [],
   "source": [
    "import numpy as np"
   ]
  },
  {
   "cell_type": "code",
   "execution_count": 4,
   "metadata": {},
   "outputs": [],
   "source": [
    "from importlib.machinery import SourceFileLoader\n",
    "\n",
    "tools = SourceFileLoader(\"tools\", \"../tools.py\").load_module()\n",
    "\n",
    "from tools import write_to_file"
   ]
  },
  {
   "cell_type": "code",
   "execution_count": 5,
   "metadata": {},
   "outputs": [],
   "source": [
    "df = pd.read_csv('../data/prisoners_dilemma_articles_meta_data_clean.csv')"
   ]
  },
  {
   "cell_type": "code",
   "execution_count": 6,
   "metadata": {},
   "outputs": [],
   "source": [
    "years = sorted(df.date.unique())"
   ]
  },
  {
   "cell_type": "code",
   "execution_count": 7,
   "metadata": {},
   "outputs": [],
   "source": [
    "periods = np.linspace(min(years), max(years), 10)"
   ]
  },
  {
   "cell_type": "code",
   "execution_count": 8,
   "metadata": {},
   "outputs": [],
   "source": [
    "tables = []\n",
    "for year in periods[2:]:\n",
    "    topic_in_year = pd.read_csv(f'../data/topics_up_to_{year}.csv')\n",
    "    \n",
    "    number_of_topics = len(topic_in_year['Dominant_Topic'].unique())\n",
    "    \n",
    "    topic_counts = topic_in_year[['Dominant_Topic']]['Dominant_Topic'].value_counts()\n",
    "    \n",
    "    topic_contribution = round(topic_counts / topic_counts.sum(), 4)\n",
    "    \n",
    "    table = pd.DataFrame([topic_counts.index,\n",
    "                          topic_counts,\n",
    "                          topic_contribution,\n",
    "                          topic_in_year['Topic_Keywords'].unique()]).T\n",
    "    table.columns = ['Dominant_Topic', 'Num of Documents', 'Percentage of Documents', 'Topic_Keywords']\n",
    "    table['Period'] = f'1951-{int(year)}'\n",
    "    table['Dominant_Topic'] = range(number_of_topics)\n",
    "    \n",
    "    tables.append(table)"
   ]
  },
  {
   "cell_type": "code",
   "execution_count": 9,
   "metadata": {},
   "outputs": [],
   "source": [
    "table = pd.concat(tables).reset_index(drop=True)"
   ]
  },
  {
   "cell_type": "code",
   "execution_count": 11,
   "metadata": {},
   "outputs": [
    {
     "data": {
      "text/plain": [
       "array(['1951-1965', '1951-1973', '1951-1980', '1951-1988', '1951-1995',\n",
       "       '1951-2003', '1951-2010', '1951-2018'], dtype=object)"
      ]
     },
     "execution_count": 11,
     "metadata": {},
     "output_type": "execute_result"
    }
   ],
   "source": [
    "table['Period'].unique()"
   ]
  },
  {
   "cell_type": "code",
   "execution_count": null,
   "metadata": {},
   "outputs": [],
   "source": []
  },
  {
   "cell_type": "code",
   "execution_count": 174,
   "metadata": {},
   "outputs": [
    {
     "data": {
      "text/html": [
       "<div>\n",
       "<style scoped>\n",
       "    .dataframe tbody tr th:only-of-type {\n",
       "        vertical-align: middle;\n",
       "    }\n",
       "\n",
       "    .dataframe tbody tr th {\n",
       "        vertical-align: top;\n",
       "    }\n",
       "\n",
       "    .dataframe thead th {\n",
       "        text-align: right;\n",
       "    }\n",
       "</style>\n",
       "<table border=\"1\" class=\"dataframe\">\n",
       "  <thead>\n",
       "    <tr style=\"text-align: right;\">\n",
       "      <th></th>\n",
       "      <th>Topic_Keywords</th>\n",
       "      <th>Dominant_Topic</th>\n",
       "      <th>Num of Documents</th>\n",
       "      <th>Percentage of Documents</th>\n",
       "      <th>Period</th>\n",
       "    </tr>\n",
       "  </thead>\n",
       "  <tbody>\n",
       "    <tr>\n",
       "      <td>0</td>\n",
       "      <td>problem, technology, divert, euler, subsystem,...</td>\n",
       "      <td>0</td>\n",
       "      <td>3</td>\n",
       "      <td>0.375</td>\n",
       "      <td>1951-1965</td>\n",
       "    </tr>\n",
       "    <tr>\n",
       "      <td>1</td>\n",
       "      <td>interpret, requirement, programme, evolution, ...</td>\n",
       "      <td>1</td>\n",
       "      <td>2</td>\n",
       "      <td>0.25</td>\n",
       "      <td>1951-1965</td>\n",
       "    </tr>\n",
       "    <tr>\n",
       "      <td>2</td>\n",
       "      <td>equipment, agency, conjecture, development, un...</td>\n",
       "      <td>2</td>\n",
       "      <td>1</td>\n",
       "      <td>0.125</td>\n",
       "      <td>1951-1965</td>\n",
       "    </tr>\n",
       "    <tr>\n",
       "      <td>3</td>\n",
       "      <td>variation, celebrated, trend, untried, change,...</td>\n",
       "      <td>3</td>\n",
       "      <td>1</td>\n",
       "      <td>0.125</td>\n",
       "      <td>1951-1965</td>\n",
       "    </tr>\n",
       "    <tr>\n",
       "      <td>4</td>\n",
       "      <td>give, good, modern, trace, technique, ambiguit...</td>\n",
       "      <td>4</td>\n",
       "      <td>1</td>\n",
       "      <td>0.125</td>\n",
       "      <td>1951-1965</td>\n",
       "    </tr>\n",
       "    <tr>\n",
       "      <td>...</td>\n",
       "      <td>...</td>\n",
       "      <td>...</td>\n",
       "      <td>...</td>\n",
       "      <td>...</td>\n",
       "      <td>...</td>\n",
       "    </tr>\n",
       "    <tr>\n",
       "      <td>67</td>\n",
       "      <td>base, model, information, time, paper, propose...</td>\n",
       "      <td>2</td>\n",
       "      <td>418</td>\n",
       "      <td>0.1693</td>\n",
       "      <td>1951-2018</td>\n",
       "    </tr>\n",
       "    <tr>\n",
       "      <td>68</td>\n",
       "      <td>strategy, player, game, agent, play, payoff, s...</td>\n",
       "      <td>3</td>\n",
       "      <td>323</td>\n",
       "      <td>0.1308</td>\n",
       "      <td>1951-2018</td>\n",
       "    </tr>\n",
       "    <tr>\n",
       "      <td>69</td>\n",
       "      <td>cooperation, individual, group, cooperative, l...</td>\n",
       "      <td>4</td>\n",
       "      <td>308</td>\n",
       "      <td>0.1247</td>\n",
       "      <td>1951-2018</td>\n",
       "    </tr>\n",
       "    <tr>\n",
       "      <td>70</td>\n",
       "      <td>population, model, evolutionary, evolution, re...</td>\n",
       "      <td>5</td>\n",
       "      <td>279</td>\n",
       "      <td>0.113</td>\n",
       "      <td>1951-2018</td>\n",
       "    </tr>\n",
       "    <tr>\n",
       "      <td>71</td>\n",
       "      <td>network, cooperation, structure, interaction, ...</td>\n",
       "      <td>6</td>\n",
       "      <td>249</td>\n",
       "      <td>0.1009</td>\n",
       "      <td>1951-2018</td>\n",
       "    </tr>\n",
       "  </tbody>\n",
       "</table>\n",
       "<p>72 rows × 5 columns</p>\n",
       "</div>"
      ],
      "text/plain": [
       "                                       Topic_Keywords  Dominant_Topic Num of Documents Percentage of Documents     Period\n",
       "0   problem, technology, divert, euler, subsystem,...               0                3                   0.375  1951-1965\n",
       "1   interpret, requirement, programme, evolution, ...               1                2                    0.25  1951-1965\n",
       "2   equipment, agency, conjecture, development, un...               2                1                   0.125  1951-1965\n",
       "3   variation, celebrated, trend, untried, change,...               3                1                   0.125  1951-1965\n",
       "4   give, good, modern, trace, technique, ambiguit...               4                1                   0.125  1951-1965\n",
       "..                                                ...             ...              ...                     ...        ...\n",
       "67  base, model, information, time, paper, propose...               2              418                  0.1693  1951-2018\n",
       "68  strategy, player, game, agent, play, payoff, s...               3              323                  0.1308  1951-2018\n",
       "69  cooperation, individual, group, cooperative, l...               4              308                  0.1247  1951-2018\n",
       "70  population, model, evolutionary, evolution, re...               5              279                   0.113  1951-2018\n",
       "71  network, cooperation, structure, interaction, ...               6              249                  0.1009  1951-2018\n",
       "\n",
       "[72 rows x 5 columns]"
      ]
     },
     "execution_count": 174,
     "metadata": {},
     "output_type": "execute_result"
    }
   ],
   "source": [
    "table[['Topic_Keywords', 'Dominant_Topic', 'Num of Documents', 'Percentage of Documents', 'Period']]"
   ]
  },
  {
   "cell_type": "code",
   "execution_count": 175,
   "metadata": {},
   "outputs": [],
   "source": [
    "with pd.option_context(\"max_colwidth\", 1000):\n",
    "    write_to_file(metric=table[['Period', 'Dominant_Topic','Topic_Keywords', 'Num of Documents',\n",
    "                         'Percentage of Documents']].to_latex(index=False),\n",
    "                  filename=\"topics_per_year_table.tex\")"
   ]
  },
  {
   "cell_type": "code",
   "execution_count": null,
   "metadata": {},
   "outputs": [],
   "source": []
  }
 ],
 "metadata": {
  "kernelspec": {
   "display_name": "literature",
   "language": "python",
   "name": "literature"
  },
  "language_info": {
   "codemirror_mode": {
    "name": "ipython",
    "version": 3
   },
   "file_extension": ".py",
   "mimetype": "text/x-python",
   "name": "python",
   "nbconvert_exporter": "python",
   "pygments_lexer": "ipython3",
   "version": "3.6.7"
  }
 },
 "nbformat": 4,
 "nbformat_minor": 2
}
