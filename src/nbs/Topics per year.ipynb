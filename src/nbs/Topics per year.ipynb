{
 "cells": [
  {
   "cell_type": "code",
   "execution_count": 1,
   "metadata": {},
   "outputs": [],
   "source": [
    "import pandas as pd"
   ]
  },
  {
   "cell_type": "code",
   "execution_count": 2,
   "metadata": {},
   "outputs": [],
   "source": [
    "import numpy as np"
   ]
  },
  {
   "cell_type": "code",
   "execution_count": 36,
   "metadata": {},
   "outputs": [],
   "source": [
    "from importlib.machinery import SourceFileLoader\n",
    "\n",
    "tools = SourceFileLoader(\"tools\", \"../lda_tools.py\").load_module()\n",
    "\n",
    "from tools import write_to_file"
   ]
  },
  {
   "cell_type": "code",
   "execution_count": 4,
   "metadata": {},
   "outputs": [],
   "source": [
    "df = pd.read_csv('../data/prisoners_dilemma_articles_meta_data_clean.csv')"
   ]
  },
  {
   "cell_type": "code",
   "execution_count": 29,
   "metadata": {},
   "outputs": [],
   "source": [
    "data = df[['abstract', 'unique_key', 'title', 'date']]"
   ]
  },
  {
   "cell_type": "code",
   "execution_count": 31,
   "metadata": {},
   "outputs": [],
   "source": [
    "data = data.drop_duplicates()"
   ]
  },
  {
   "cell_type": "code",
   "execution_count": 32,
   "metadata": {},
   "outputs": [],
   "source": [
    "data = data.reset_index(drop=True)"
   ]
  },
  {
   "cell_type": "code",
   "execution_count": 33,
   "metadata": {},
   "outputs": [],
   "source": [
    "year = 2018"
   ]
  },
  {
   "cell_type": "code",
   "execution_count": 40,
   "metadata": {},
   "outputs": [],
   "source": [
    "from nltk.corpus import stopwords\n",
    "import gensim.corpora as corpora\n",
    "stop_words = stopwords.words('english')"
   ]
  },
  {
   "cell_type": "code",
   "execution_count": 41,
   "metadata": {},
   "outputs": [],
   "source": [
    "yearly_data = data[data['date'] <= int(year)]\n",
    "\n",
    "yearly_words = list(tools.sentences_to_words(yearly_data['abstract'].values))\n",
    "yearly_lemmatized_words = tools.clean_words(yearly_words, stop_words)\n",
    "\n",
    "dictionary = corpora.Dictionary(yearly_lemmatized_words)\n",
    "yearly_corpus = [dictionary.doc2bow(text) for text in yearly_lemmatized_words]"
   ]
  },
  {
   "cell_type": "code",
   "execution_count": 44,
   "metadata": {},
   "outputs": [],
   "source": [
    "mallet_path = '/Users/storm/rsc/mallet-2.0.8/bin/mallet'"
   ]
  },
  {
   "cell_type": "code",
   "execution_count": 45,
   "metadata": {},
   "outputs": [],
   "source": [
    "limit = 8\n",
    "start = 6\n",
    "step= 1"
   ]
  },
  {
   "cell_type": "code",
   "execution_count": 46,
   "metadata": {},
   "outputs": [],
   "source": [
    "model_list, coherence_values = tools.compute_coherence_values(limit=limit,\n",
    "                                                            mallet_path=mallet_path,\n",
    "                                                            dictionary=dictionary,\n",
    "                                                            corpus=yearly_corpus,\n",
    "                                                            texts=yearly_lemmatized_words,\n",
    "                                                            step=step, start=start)"
   ]
  },
  {
   "cell_type": "code",
   "execution_count": 53,
   "metadata": {},
   "outputs": [
    {
     "data": {
      "text/plain": [
       "2303"
      ]
     },
     "execution_count": 53,
     "metadata": {},
     "output_type": "execute_result"
    }
   ],
   "source": [
    "len(df['abstract'].unique())"
   ]
  },
  {
   "cell_type": "code",
   "execution_count": 62,
   "metadata": {},
   "outputs": [],
   "source": [
    "years = sorted(df.date.unique())"
   ]
  },
  {
   "cell_type": "code",
   "execution_count": 63,
   "metadata": {},
   "outputs": [],
   "source": [
    "periods = np.linspace(min(years), max(years), 10)"
   ]
  },
  {
   "cell_type": "code",
   "execution_count": 67,
   "metadata": {},
   "outputs": [],
   "source": [
    "tables = []\n",
    "for year in periods[2:]:\n",
    "    topic_in_year = pd.read_csv(f'../data/topics_up_to_{int(year)}.csv')\n",
    "    \n",
    "    number_of_topics = len(topic_in_year['Dominant_Topic'].unique())\n",
    "    \n",
    "    topic_counts = topic_in_year[['Dominant_Topic']]['Dominant_Topic'].value_counts()\n",
    "    \n",
    "    topic_contribution = round(topic_counts / topic_counts.sum(), 4)\n",
    "    \n",
    "    table = pd.DataFrame([topic_counts.index,\n",
    "                          topic_counts,\n",
    "                          topic_contribution,\n",
    "                          topic_in_year['Topic_Keywords'].unique()]).T\n",
    "    table.columns = ['Dominant_Topic', 'Num of Documents', 'Percentage of Documents', 'Topic_Keywords']\n",
    "    table['Period'] = f'1951-{int(year)}'\n",
    "    table['Dominant_Topic'] = range(number_of_topics)\n",
    "    \n",
    "    tables.append(table)"
   ]
  },
  {
   "cell_type": "code",
   "execution_count": 68,
   "metadata": {},
   "outputs": [],
   "source": [
    "table = pd.concat(tables).reset_index(drop=True)"
   ]
  },
  {
   "cell_type": "code",
   "execution_count": 69,
   "metadata": {},
   "outputs": [
    {
     "data": {
      "text/plain": [
       "array(['1951-1965', '1951-1973', '1951-1980', '1951-1988', '1951-1995',\n",
       "       '1951-2003', '1951-2010', '1951-2018'], dtype=object)"
      ]
     },
     "execution_count": 69,
     "metadata": {},
     "output_type": "execute_result"
    }
   ],
   "source": [
    "table['Period'].unique()"
   ]
  },
  {
   "cell_type": "code",
   "execution_count": 70,
   "metadata": {},
   "outputs": [
    {
     "data": {
      "text/html": [
       "<div>\n",
       "<style scoped>\n",
       "    .dataframe tbody tr th:only-of-type {\n",
       "        vertical-align: middle;\n",
       "    }\n",
       "\n",
       "    .dataframe tbody tr th {\n",
       "        vertical-align: top;\n",
       "    }\n",
       "\n",
       "    .dataframe thead th {\n",
       "        text-align: right;\n",
       "    }\n",
       "</style>\n",
       "<table border=\"1\" class=\"dataframe\">\n",
       "  <thead>\n",
       "    <tr style=\"text-align: right;\">\n",
       "      <th></th>\n",
       "      <th>Topic_Keywords</th>\n",
       "      <th>Dominant_Topic</th>\n",
       "      <th>Num of Documents</th>\n",
       "      <th>Percentage of Documents</th>\n",
       "      <th>Period</th>\n",
       "    </tr>\n",
       "  </thead>\n",
       "  <tbody>\n",
       "    <tr>\n",
       "      <td>0</td>\n",
       "      <td>problem, technology, divert, euler, subsystem,...</td>\n",
       "      <td>0</td>\n",
       "      <td>3</td>\n",
       "      <td>0.375</td>\n",
       "      <td>1951-1965</td>\n",
       "    </tr>\n",
       "    <tr>\n",
       "      <td>1</td>\n",
       "      <td>interpret, requirement, programme, evolution, ...</td>\n",
       "      <td>1</td>\n",
       "      <td>2</td>\n",
       "      <td>0.25</td>\n",
       "      <td>1951-1965</td>\n",
       "    </tr>\n",
       "    <tr>\n",
       "      <td>2</td>\n",
       "      <td>equipment, agency, conjecture, development, un...</td>\n",
       "      <td>2</td>\n",
       "      <td>1</td>\n",
       "      <td>0.125</td>\n",
       "      <td>1951-1965</td>\n",
       "    </tr>\n",
       "    <tr>\n",
       "      <td>3</td>\n",
       "      <td>variation, celebrated, trend, untried, change,...</td>\n",
       "      <td>3</td>\n",
       "      <td>1</td>\n",
       "      <td>0.125</td>\n",
       "      <td>1951-1965</td>\n",
       "    </tr>\n",
       "    <tr>\n",
       "      <td>4</td>\n",
       "      <td>give, good, modern, trace, technique, ambiguit...</td>\n",
       "      <td>4</td>\n",
       "      <td>1</td>\n",
       "      <td>0.125</td>\n",
       "      <td>1951-1965</td>\n",
       "    </tr>\n",
       "    <tr>\n",
       "      <td>...</td>\n",
       "      <td>...</td>\n",
       "      <td>...</td>\n",
       "      <td>...</td>\n",
       "      <td>...</td>\n",
       "      <td>...</td>\n",
       "    </tr>\n",
       "    <tr>\n",
       "      <td>66</td>\n",
       "      <td>behavior, social, human, decision, study, expe...</td>\n",
       "      <td>1</td>\n",
       "      <td>482</td>\n",
       "      <td>0.1951</td>\n",
       "      <td>1951-2018</td>\n",
       "    </tr>\n",
       "    <tr>\n",
       "      <td>67</td>\n",
       "      <td>individual, group, good, social, punishment, l...</td>\n",
       "      <td>2</td>\n",
       "      <td>428</td>\n",
       "      <td>0.1733</td>\n",
       "      <td>1951-2018</td>\n",
       "    </tr>\n",
       "    <tr>\n",
       "      <td>68</td>\n",
       "      <td>game, strategy, player, agent, play, dilemma, ...</td>\n",
       "      <td>3</td>\n",
       "      <td>380</td>\n",
       "      <td>0.1538</td>\n",
       "      <td>1951-2018</td>\n",
       "    </tr>\n",
       "    <tr>\n",
       "      <td>69</td>\n",
       "      <td>population, evolutionary, dynamic, model, sele...</td>\n",
       "      <td>4</td>\n",
       "      <td>351</td>\n",
       "      <td>0.1421</td>\n",
       "      <td>1951-2018</td>\n",
       "    </tr>\n",
       "    <tr>\n",
       "      <td>70</td>\n",
       "      <td>cooperation, network, interaction, structure, ...</td>\n",
       "      <td>5</td>\n",
       "      <td>273</td>\n",
       "      <td>0.1105</td>\n",
       "      <td>1951-2018</td>\n",
       "    </tr>\n",
       "  </tbody>\n",
       "</table>\n",
       "<p>71 rows × 5 columns</p>\n",
       "</div>"
      ],
      "text/plain": [
       "                                       Topic_Keywords  Dominant_Topic  \\\n",
       "0   problem, technology, divert, euler, subsystem,...               0   \n",
       "1   interpret, requirement, programme, evolution, ...               1   \n",
       "2   equipment, agency, conjecture, development, un...               2   \n",
       "3   variation, celebrated, trend, untried, change,...               3   \n",
       "4   give, good, modern, trace, technique, ambiguit...               4   \n",
       "..                                                ...             ...   \n",
       "66  behavior, social, human, decision, study, expe...               1   \n",
       "67  individual, group, good, social, punishment, l...               2   \n",
       "68  game, strategy, player, agent, play, dilemma, ...               3   \n",
       "69  population, evolutionary, dynamic, model, sele...               4   \n",
       "70  cooperation, network, interaction, structure, ...               5   \n",
       "\n",
       "   Num of Documents Percentage of Documents     Period  \n",
       "0                 3                   0.375  1951-1965  \n",
       "1                 2                    0.25  1951-1965  \n",
       "2                 1                   0.125  1951-1965  \n",
       "3                 1                   0.125  1951-1965  \n",
       "4                 1                   0.125  1951-1965  \n",
       "..              ...                     ...        ...  \n",
       "66              482                  0.1951  1951-2018  \n",
       "67              428                  0.1733  1951-2018  \n",
       "68              380                  0.1538  1951-2018  \n",
       "69              351                  0.1421  1951-2018  \n",
       "70              273                  0.1105  1951-2018  \n",
       "\n",
       "[71 rows x 5 columns]"
      ]
     },
     "execution_count": 70,
     "metadata": {},
     "output_type": "execute_result"
    }
   ],
   "source": [
    "table[['Topic_Keywords', 'Dominant_Topic', 'Num of Documents', 'Percentage of Documents', 'Period']]"
   ]
  },
  {
   "cell_type": "code",
   "execution_count": 71,
   "metadata": {},
   "outputs": [],
   "source": [
    "with pd.option_context(\"max_colwidth\", 1000):\n",
    "    write_to_file(metric=table[['Period', 'Dominant_Topic','Topic_Keywords', 'Num of Documents',\n",
    "                         'Percentage of Documents']].to_latex(index=False),\n",
    "                  filename=\"topics_per_year_table.tex\")"
   ]
  },
  {
   "cell_type": "code",
   "execution_count": null,
   "metadata": {},
   "outputs": [],
   "source": []
  }
 ],
 "metadata": {
  "kernelspec": {
   "display_name": "literature",
   "language": "python",
   "name": "literature"
  },
  "language_info": {
   "codemirror_mode": {
    "name": "ipython",
    "version": 3
   },
   "file_extension": ".py",
   "mimetype": "text/x-python",
   "name": "python",
   "nbconvert_exporter": "python",
   "pygments_lexer": "ipython3",
   "version": "3.6.7"
  }
 },
 "nbformat": 4,
 "nbformat_minor": 2
}
