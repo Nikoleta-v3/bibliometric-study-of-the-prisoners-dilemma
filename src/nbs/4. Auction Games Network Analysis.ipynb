{
 "cells": [
  {
   "cell_type": "markdown",
   "metadata": {},
   "source": [
    "Auction Games Network Analysis\n",
    "================================="
   ]
  },
  {
   "cell_type": "code",
   "execution_count": 1,
   "metadata": {
    "collapsed": true
   },
   "outputs": [],
   "source": [
    "import numpy as np\n",
    "import pandas as pd"
   ]
  },
  {
   "cell_type": "code",
   "execution_count": 2,
   "metadata": {
    "collapsed": true
   },
   "outputs": [],
   "source": [
    "import matplotlib\n",
    "import matplotlib.pyplot as plt\n",
    "\n",
    "%matplotlib inline"
   ]
  },
  {
   "cell_type": "code",
   "execution_count": 5,
   "metadata": {
    "collapsed": true
   },
   "outputs": [],
   "source": [
    "font = {'size'   : 10,\n",
    "        'weight': 'bold'}\n",
    "matplotlib.rc('font', **font)"
   ]
  },
  {
   "cell_type": "code",
   "execution_count": 3,
   "metadata": {
    "collapsed": true
   },
   "outputs": [],
   "source": [
    "auction_df = pd.read_csv('/home/nightwing/rsc/Literature-Article/src/data/auction_df.csv')"
   ]
  },
  {
   "cell_type": "code",
   "execution_count": 4,
   "metadata": {
    "collapsed": true
   },
   "outputs": [],
   "source": [
    "size = len(auction_df['title'].unique())"
   ]
  },
  {
   "cell_type": "code",
   "execution_count": 5,
   "metadata": {
    "collapsed": true
   },
   "outputs": [],
   "source": [
    "file = open(\"/home/nightwing/rsc/Literature-Article/assets/total_articles_auction.txt\", 'w')\n",
    "file.write('{}'.format(size))\n",
    "file.close()"
   ]
  },
  {
   "cell_type": "markdown",
   "metadata": {},
   "source": [
    "**Plot yearly articles.** Articles over the years."
   ]
  },
  {
   "cell_type": "code",
   "execution_count": 6,
   "metadata": {
    "collapsed": true
   },
   "outputs": [],
   "source": [
    "yearly_df = auction_df.groupby(['unique_key', 'date']).size().reset_index().groupby('date').size()"
   ]
  },
  {
   "cell_type": "code",
   "execution_count": 7,
   "metadata": {},
   "outputs": [
    {
     "data": {
      "image/png": "[encoded data removed]",
      "text/plain": [
       "<matplotlib.figure.Figure at 0x7f41f51d1390>"
      ]
     },
     "metadata": {},
     "output_type": "display_data"
    }
   ],
   "source": [
    "fig, ax = plt.subplots(figsize=(9, 5))\n",
    "\n",
    "plt.title('Articles per Year ($N={}$) Auction Games'.format(size), fontweight='bold');plt.ylabel('Number of records', fontweight='bold')\n",
    "ax.plot(yearly_df, color='slategray', zorder=1, linewidth=2.5)\n",
    "plt.xticks(fontsize=10); plt.yticks(fontsize=8)\n",
    "\n",
    "plt.plot(yearly_df, color='slategray', zorder=1, linewidth=2.5);\n",
    "\n",
    "x = yearly_df.index\n",
    "y = yearly_df.values\n",
    "\n",
    "ax.set_yticks(np.arange(min(y) - 1, max(y)+1, 20.0))\n",
    "ax.set_xticks(np.arange(min(x), max(x)+1, 2.0))\n",
    "ax.set_ylim(ymin=-2)\n",
    "plt.xticks(rotation=90);\n",
    "ax.set_xlim(xmin=1973, xmax=2017)\n",
    "plt.tight_layout()\n",
    "\n",
    "plt.savefig(\"/home/nightwing/rsc/Literature-Article/assets/images/auction_timeline.pdf\",\n",
    "           format='pdf', bbox_inches='tight')"
   ]
  },
  {
   "cell_type": "markdown",
   "metadata": {},
   "source": [
    "**Create the graph**"
   ]
  },
  {
   "cell_type": "code",
   "execution_count": 8,
   "metadata": {
    "collapsed": true
   },
   "outputs": [],
   "source": [
    "import networkx as nx\n",
    "import itertools\n",
    "\n",
    "import collections"
   ]
  },
  {
   "cell_type": "code",
   "execution_count": 10,
   "metadata": {},
   "outputs": [],
   "source": [
    "pairs = []\n",
    "for _, d in auction_df.groupby('unique_key'):\n",
    "    pairs += tuple(sorted(list(itertools.combinations(d['author'].unique(), 2))))\n",
    "    co_authors = collections.Counter(pairs)"
   ]
  },
  {
   "cell_type": "code",
   "execution_count": 11,
   "metadata": {
    "collapsed": true
   },
   "outputs": [],
   "source": [
    "authors_num_papers = auction_df.groupby(['author', 'unique_key']).size().reset_index().groupby('author').count()\n",
    "authors_num_papers = authors_num_papers.drop(0, axis=1)"
   ]
  },
  {
   "cell_type": "code",
   "execution_count": 12,
   "metadata": {
    "collapsed": true
   },
   "outputs": [],
   "source": [
    "G = nx.Graph()\n",
    "_ = [G.add_node(name, weight=w) for name, w in zip(auction_df.author, \n",
    "                                                   authors_num_papers['unique_key'].values)]\n",
    "_ = [G.add_edge(*pair[0], weight=pair[1]) for pair in co_authors.items()]"
   ]
  },
  {
   "cell_type": "code",
   "execution_count": 13,
   "metadata": {
    "collapsed": true
   },
   "outputs": [],
   "source": [
    "nx.write_gml(G, \"../data/auction_network.gml\")"
   ]
  },
  {
   "cell_type": "markdown",
   "metadata": {},
   "source": [
    "**Analyse the graph**"
   ]
  },
  {
   "cell_type": "markdown",
   "metadata": {},
   "source": [
    "**Order, size, density and average degree.**"
   ]
  },
  {
   "cell_type": "code",
   "execution_count": 14,
   "metadata": {
    "collapsed": true
   },
   "outputs": [],
   "source": [
    "order, size = G.order(), G.size()"
   ]
  },
  {
   "cell_type": "code",
   "execution_count": 15,
   "metadata": {
    "collapsed": true
   },
   "outputs": [],
   "source": [
    "for measure, label in zip([order, size, nx.density(G), float(2 * size / order)],\n",
    "                          ['vertices', 'edges', 'density', 'av_degree']):\n",
    "    file = open(\"/home/nightwing/rsc/Literature-Article/assets/auction_games_{}.tex\".format(label),\n",
    "                'w')\n",
    "    file.write('{}'.format(measure))\n",
    "    file.close()"
   ]
  },
  {
   "cell_type": "markdown",
   "metadata": {},
   "source": [
    "**Centrality.**"
   ]
  },
  {
   "cell_type": "code",
   "execution_count": 16,
   "metadata": {
    "collapsed": true
   },
   "outputs": [],
   "source": [
    "betweeness = sorted(nx.betweenness_centrality(G, weight='weight').items(), \n",
    "                    key=lambda x:x[1], reverse=True)[0:10]\n",
    "betweeness = pd.DataFrame(betweeness, columns=['Author name', 'Betweeness'])\n",
    "betweeness['Author name'] = [name.title() for name in betweeness['Author name']]"
   ]
  },
  {
   "cell_type": "code",
   "execution_count": 17,
   "metadata": {
    "collapsed": true
   },
   "outputs": [],
   "source": [
    "page_rank = sorted(nx.pagerank_numpy(G, weight='weight').items(), \n",
    "                   key=lambda x:x[1], reverse=True)[0:10]\n",
    "page_rank = pd.DataFrame(page_rank, columns=['Author name', 'Page rank'])\n",
    "page_rank['Author name'] = [name.title() for name in page_rank['Author name']]"
   ]
  },
  {
   "cell_type": "code",
   "execution_count": 18,
   "metadata": {
    "collapsed": true
   },
   "outputs": [],
   "source": [
    "closeness_rank = sorted(nx.closeness_centrality(G).items(), \n",
    "                   key=lambda x:x[1], reverse=True)[0:10]\n",
    "closeness_rank = pd.DataFrame(closeness_rank, columns=['Author name', 'Closeness'])\n",
    "closeness_rank['Author name'] = [name.title() for name in page_rank['Author name']]"
   ]
  },
  {
   "cell_type": "code",
   "execution_count": 19,
   "metadata": {
    "collapsed": true
   },
   "outputs": [],
   "source": [
    "for centrality, label in zip([betweeness, page_rank, closeness_rank],\n",
    "                             ['betweness', 'page_rank', 'closeness']):\n",
    "    file = open(\"/home/nightwing/rsc/Literature-Article/assets/auction_games_centrality_{}.tex\".format(label),\n",
    "                'w')\n",
    "    file.write('{}'.format(pd.DataFrame(centrality).to_latex()))\n",
    "    file.close()"
   ]
  }
 ],
 "metadata": {
  "anaconda-cloud": {},
  "kernelspec": {
   "display_name": "Python [conda env:literature]",
   "language": "python",
   "name": "conda-env-literature-py"
  },
  "language_info": {
   "codemirror_mode": {
    "name": "ipython",
    "version": 3
   },
   "file_extension": ".py",
   "mimetype": "text/x-python",
   "name": "python",
   "nbconvert_exporter": "python",
   "pygments_lexer": "ipython3",
   "version": "3.6.0"
  }
 },
 "nbformat": 4,
 "nbformat_minor": 2
}
