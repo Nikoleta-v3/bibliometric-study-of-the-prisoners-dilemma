{
 "cells": [
  {
   "cell_type": "markdown",
   "metadata": {},
   "source": [
    "**Packages**"
   ]
  },
  {
   "cell_type": "code",
   "execution_count": 1,
   "metadata": {},
   "outputs": [],
   "source": [
    "import re\n",
    "import numpy as np\n",
    "from pprint import pprint\n",
    "\n",
    "import spacy"
   ]
  },
  {
   "cell_type": "code",
   "execution_count": 2,
   "metadata": {},
   "outputs": [],
   "source": [
    "import gensim\n",
    "import gensim.corpora as corpora\n",
    "from gensim.utils import simple_preprocess\n",
    "from gensim.models import CoherenceModel"
   ]
  },
  {
   "cell_type": "code",
   "execution_count": 3,
   "metadata": {},
   "outputs": [],
   "source": [
    "import pyLDAvis\n",
    "import pyLDAvis.gensim \n",
    "import matplotlib.pyplot as plt\n",
    "%matplotlib inline"
   ]
  },
  {
   "cell_type": "code",
   "execution_count": 4,
   "metadata": {},
   "outputs": [],
   "source": [
    "import imp\n",
    "\n",
    "tools = imp.load_source('tools', '../lda_tools.py')"
   ]
  },
  {
   "cell_type": "markdown",
   "metadata": {},
   "source": [
    "**The data set**"
   ]
  },
  {
   "cell_type": "code",
   "execution_count": 5,
   "metadata": {},
   "outputs": [],
   "source": [
    "import pandas as pd"
   ]
  },
  {
   "cell_type": "code",
   "execution_count": 6,
   "metadata": {},
   "outputs": [],
   "source": [
    "df = pd.read_csv('../data/prisoners_dilemma_articles_meta_data_clean.csv')"
   ]
  },
  {
   "cell_type": "code",
   "execution_count": 7,
   "metadata": {},
   "outputs": [],
   "source": [
    "data = df[['abstract', 'unique_key', 'title', 'date']]"
   ]
  },
  {
   "cell_type": "code",
   "execution_count": 8,
   "metadata": {},
   "outputs": [],
   "source": [
    "data = data.drop_duplicates()"
   ]
  },
  {
   "cell_type": "code",
   "execution_count": 9,
   "metadata": {},
   "outputs": [],
   "source": [
    "data = data.reset_index(drop=True)"
   ]
  },
  {
   "cell_type": "code",
   "execution_count": 10,
   "metadata": {},
   "outputs": [
    {
     "data": {
      "text/html": [
       "<div>\n",
       "<style scoped>\n",
       "    .dataframe tbody tr th:only-of-type {\n",
       "        vertical-align: middle;\n",
       "    }\n",
       "\n",
       "    .dataframe tbody tr th {\n",
       "        vertical-align: top;\n",
       "    }\n",
       "\n",
       "    .dataframe thead th {\n",
       "        text-align: right;\n",
       "    }\n",
       "</style>\n",
       "<table border=\"1\" class=\"dataframe\">\n",
       "  <thead>\n",
       "    <tr style=\"text-align: right;\">\n",
       "      <th></th>\n",
       "      <th>abstract</th>\n",
       "      <th>unique_key</th>\n",
       "      <th>title</th>\n",
       "      <th>date</th>\n",
       "    </tr>\n",
       "  </thead>\n",
       "  <tbody>\n",
       "    <tr>\n",
       "      <td>0</td>\n",
       "      <td>Starting from the widely accepted Prisoners' D...</td>\n",
       "      <td>15e98165e6239d097ecc05955cc92aa8</td>\n",
       "      <td>Conditions for disarmament: A game theoretical...</td>\n",
       "      <td>1994.0</td>\n",
       "    </tr>\n",
       "    <tr>\n",
       "      <td>1</td>\n",
       "      <td>This paper clarifies some basic concepts or as...</td>\n",
       "      <td>e00c31a5f12dcf28f3c11eca5dc786ad</td>\n",
       "      <td>A note on the prisoner's dilemma</td>\n",
       "      <td>1994.0</td>\n",
       "    </tr>\n",
       "    <tr>\n",
       "      <td>2</td>\n",
       "      <td>It is argued that  without a controversial and...</td>\n",
       "      <td>f2c82cc1f1badea3a092cdffbe63adc5</td>\n",
       "      <td>The indefinitely iterated prisoner's dilemma: ...</td>\n",
       "      <td>1993.0</td>\n",
       "    </tr>\n",
       "    <tr>\n",
       "      <td>3</td>\n",
       "      <td>The prisoner’s dilemma game was played by Ss s...</td>\n",
       "      <td>d73da4e47380563abab996c0cf625b64</td>\n",
       "      <td>Cooperation in the prisoner’s dilemma as a fun...</td>\n",
       "      <td>1972.0</td>\n",
       "    </tr>\n",
       "    <tr>\n",
       "      <td>4</td>\n",
       "      <td>Agent-based models consist of purposeful agent...</td>\n",
       "      <td>96a525ec0a3901e7435e7939bad07ea0</td>\n",
       "      <td>Agent-Based Models</td>\n",
       "      <td>2018.0</td>\n",
       "    </tr>\n",
       "  </tbody>\n",
       "</table>\n",
       "</div>"
      ],
      "text/plain": [
       "                                            abstract  \\\n",
       "0  Starting from the widely accepted Prisoners' D...   \n",
       "1  This paper clarifies some basic concepts or as...   \n",
       "2  It is argued that  without a controversial and...   \n",
       "3  The prisoner’s dilemma game was played by Ss s...   \n",
       "4  Agent-based models consist of purposeful agent...   \n",
       "\n",
       "                         unique_key  \\\n",
       "0  15e98165e6239d097ecc05955cc92aa8   \n",
       "1  e00c31a5f12dcf28f3c11eca5dc786ad   \n",
       "2  f2c82cc1f1badea3a092cdffbe63adc5   \n",
       "3  d73da4e47380563abab996c0cf625b64   \n",
       "4  96a525ec0a3901e7435e7939bad07ea0   \n",
       "\n",
       "                                               title    date  \n",
       "0  Conditions for disarmament: A game theoretical...  1994.0  \n",
       "1                   A note on the prisoner's dilemma  1994.0  \n",
       "2  The indefinitely iterated prisoner's dilemma: ...  1993.0  \n",
       "3  Cooperation in the prisoner’s dilemma as a fun...  1972.0  \n",
       "4                                 Agent-Based Models  2018.0  "
      ]
     },
     "execution_count": 10,
     "metadata": {},
     "output_type": "execute_result"
    }
   ],
   "source": [
    "data.head()"
   ]
  },
  {
   "cell_type": "code",
   "execution_count": 11,
   "metadata": {},
   "outputs": [
    {
     "data": {
      "text/html": [
       "<div>\n",
       "<style scoped>\n",
       "    .dataframe tbody tr th:only-of-type {\n",
       "        vertical-align: middle;\n",
       "    }\n",
       "\n",
       "    .dataframe tbody tr th {\n",
       "        vertical-align: top;\n",
       "    }\n",
       "\n",
       "    .dataframe thead th {\n",
       "        text-align: right;\n",
       "    }\n",
       "</style>\n",
       "<table border=\"1\" class=\"dataframe\">\n",
       "  <thead>\n",
       "    <tr style=\"text-align: right;\">\n",
       "      <th></th>\n",
       "      <th>date</th>\n",
       "    </tr>\n",
       "  </thead>\n",
       "  <tbody>\n",
       "    <tr>\n",
       "      <td>count</td>\n",
       "      <td>2469.000000</td>\n",
       "    </tr>\n",
       "    <tr>\n",
       "      <td>mean</td>\n",
       "      <td>2009.747266</td>\n",
       "    </tr>\n",
       "    <tr>\n",
       "      <td>std</td>\n",
       "      <td>8.978867</td>\n",
       "    </tr>\n",
       "    <tr>\n",
       "      <td>min</td>\n",
       "      <td>1951.000000</td>\n",
       "    </tr>\n",
       "    <tr>\n",
       "      <td>25%</td>\n",
       "      <td>2007.000000</td>\n",
       "    </tr>\n",
       "    <tr>\n",
       "      <td>50%</td>\n",
       "      <td>2012.000000</td>\n",
       "    </tr>\n",
       "    <tr>\n",
       "      <td>75%</td>\n",
       "      <td>2015.000000</td>\n",
       "    </tr>\n",
       "    <tr>\n",
       "      <td>max</td>\n",
       "      <td>2018.000000</td>\n",
       "    </tr>\n",
       "  </tbody>\n",
       "</table>\n",
       "</div>"
      ],
      "text/plain": [
       "              date\n",
       "count  2469.000000\n",
       "mean   2009.747266\n",
       "std       8.978867\n",
       "min    1951.000000\n",
       "25%    2007.000000\n",
       "50%    2012.000000\n",
       "75%    2015.000000\n",
       "max    2018.000000"
      ]
     },
     "execution_count": 11,
     "metadata": {},
     "output_type": "execute_result"
    }
   ],
   "source": [
    "data.describe()"
   ]
  },
  {
   "cell_type": "markdown",
   "metadata": {},
   "source": [
    "**Sentences to words**"
   ]
  },
  {
   "cell_type": "code",
   "execution_count": 12,
   "metadata": {},
   "outputs": [],
   "source": [
    "words = list(tools.sentences_to_words(data['abstract'].values))"
   ]
  },
  {
   "cell_type": "markdown",
   "metadata": {},
   "source": [
    "**Cleaning data set**"
   ]
  },
  {
   "cell_type": "code",
   "execution_count": 13,
   "metadata": {},
   "outputs": [],
   "source": [
    "from nltk.corpus import stopwords"
   ]
  },
  {
   "cell_type": "code",
   "execution_count": 14,
   "metadata": {},
   "outputs": [],
   "source": [
    "stop_words = stopwords.words('english')"
   ]
  },
  {
   "cell_type": "code",
   "execution_count": 15,
   "metadata": {},
   "outputs": [],
   "source": [
    "# Build the bigram and trigram models\n",
    "bigram = gensim.models.Phrases(words, min_count=5, threshold=100)\n",
    "trigram = gensim.models.Phrases(bigram[words], threshold=100)  \n",
    "\n",
    "# Faster way to get a sentence clubbed as a trigram/bigram\n",
    "bigram_mod = gensim.models.phrases.Phraser(bigram)\n",
    "trigram_mod = gensim.models.phrases.Phraser(trigram)"
   ]
  },
  {
   "cell_type": "code",
   "execution_count": 15,
   "metadata": {},
   "outputs": [],
   "source": [
    "lemmatized_words = tools.clean_words(words, stop_words)"
   ]
  },
  {
   "cell_type": "code",
   "execution_count": 16,
   "metadata": {},
   "outputs": [
    {
     "data": {
      "text/plain": [
       "2470"
      ]
     },
     "execution_count": 16,
     "metadata": {},
     "output_type": "execute_result"
    }
   ],
   "source": [
    "len(lemmatized_words)"
   ]
  },
  {
   "cell_type": "code",
   "execution_count": 17,
   "metadata": {},
   "outputs": [
    {
     "data": {
      "text/plain": [
       "2470"
      ]
     },
     "execution_count": 17,
     "metadata": {},
     "output_type": "execute_result"
    }
   ],
   "source": [
    "len(words)"
   ]
  },
  {
   "cell_type": "markdown",
   "metadata": {},
   "source": [
    "**Create corpus**"
   ]
  },
  {
   "cell_type": "code",
   "execution_count": 18,
   "metadata": {},
   "outputs": [],
   "source": [
    "id2word = corpora.Dictionary(lemmatized_words)\n",
    "\n",
    "texts = lemmatized_words\n",
    "\n",
    "corpus = [id2word.doc2bow(text) for text in texts]"
   ]
  },
  {
   "cell_type": "markdown",
   "metadata": {},
   "source": [
    "**Create model and select number of topics**"
   ]
  },
  {
   "cell_type": "code",
   "execution_count": 19,
   "metadata": {},
   "outputs": [],
   "source": [
    "mallet_path = '/Users/storm/rsc/mallet-2.0.8/bin/mallet'"
   ]
  },
  {
   "cell_type": "code",
   "execution_count": 22,
   "metadata": {},
   "outputs": [],
   "source": [
    "limit = 15"
   ]
  },
  {
   "cell_type": "code",
   "execution_count": 23,
   "metadata": {},
   "outputs": [],
   "source": [
    "model_list, coherence_values = tools.compute_coherence_values(limit=limit,\n",
    "                                                              step=1,\n",
    "                                                              mallet_path=mallet_path,\n",
    "                                                              dictionary=id2word,\n",
    "                                                              corpus=corpus,\n",
    "                                                              texts=lemmatized_words)"
   ]
  },
  {
   "cell_type": "code",
   "execution_count": 24,
   "metadata": {},
   "outputs": [
    {
     "data": {
      "image/png": "[encoded data removed]",
      "text/plain": [
       "<Figure size 432x288 with 1 Axes>"
      ]
     },
     "metadata": {
      "needs_background": "light"
     },
     "output_type": "display_data"
    }
   ],
   "source": [
    "fig = plt.subplots()\n",
    "\n",
    "num_of_topics = range(2, limit, 1)\n",
    "plt.plot(num_of_topics, coherence_values, '-o')\n",
    "\n",
    "plt.xlabel(\"Num Topics\")\n",
    "plt.ylabel(\"Coherence score\");"
   ]
  },
  {
   "cell_type": "code",
   "execution_count": 25,
   "metadata": {},
   "outputs": [
    {
     "name": "stdout",
     "output_type": "stream",
     "text": [
      "Num Topics = 2  has Coherence Value of 0.3688\n",
      "Num Topics = 3  has Coherence Value of 0.3882\n",
      "Num Topics = 4  has Coherence Value of 0.4109\n",
      "Num Topics = 5  has Coherence Value of 0.4065\n",
      "Num Topics = 6  has Coherence Value of 0.418\n",
      "Num Topics = 7  has Coherence Value of 0.3991\n",
      "Num Topics = 8  has Coherence Value of 0.4098\n",
      "Num Topics = 9  has Coherence Value of 0.3983\n",
      "Num Topics = 10  has Coherence Value of 0.4077\n",
      "Num Topics = 11  has Coherence Value of 0.4168\n",
      "Num Topics = 12  has Coherence Value of 0.4176\n",
      "Num Topics = 13  has Coherence Value of 0.4107\n",
      "Num Topics = 14  has Coherence Value of 0.4034\n"
     ]
    }
   ],
   "source": [
    "for num, cv in zip(num_of_topics, coherence_values):\n",
    "    print(\"Num Topics =\", num, \" has Coherence Value of\", round(cv, 4))"
   ]
  },
  {
   "cell_type": "code",
   "execution_count": 26,
   "metadata": {},
   "outputs": [],
   "source": [
    "max_coherence_value = max(coherence_values)\n",
    "max_index = coherence_values.index(max_coherence_value)"
   ]
  },
  {
   "cell_type": "code",
   "execution_count": 27,
   "metadata": {},
   "outputs": [
    {
     "data": {
      "text/plain": [
       "6"
      ]
     },
     "execution_count": 27,
     "metadata": {},
     "output_type": "execute_result"
    }
   ],
   "source": [
    "num_of_topics[max_index]"
   ]
  },
  {
   "cell_type": "code",
   "execution_count": 28,
   "metadata": {},
   "outputs": [],
   "source": [
    "lda_model = gensim.models.ldamodel.LdaModel(corpus=corpus,\n",
    "                                           id2word=id2word,\n",
    "                                           num_topics=num_of_topics[max_index], \n",
    "                                           random_state=100,\n",
    "                                           update_every=1,\n",
    "                                           chunksize=100,\n",
    "                                           passes=10,\n",
    "                                           alpha='auto',\n",
    "                                           per_word_topics=True)"
   ]
  },
  {
   "cell_type": "code",
   "execution_count": 29,
   "metadata": {},
   "outputs": [
    {
     "name": "stderr",
     "output_type": "stream",
     "text": [
      "//anaconda3/envs/literature/lib/python3.6/site-packages/pyLDAvis/_prepare.py:257: FutureWarning: Sorting because non-concatenation axis is not aligned. A future version\n",
      "of pandas will change to not sort by default.\n",
      "\n",
      "To accept the future behavior, pass 'sort=False'.\n",
      "\n",
      "To retain the current behavior and silence the warning, pass 'sort=True'.\n",
      "\n",
      "  return pd.concat([default_term_info] + list(topic_dfs))\n"
     ]
    },
    {
     "data": {
      "text/html": [
       "\n",
       "<link rel=\"stylesheet\" type=\"text/css\" href=\"https://cdn.rawgit.com/bmabey/pyLDAvis/files/ldavis.v1.0.0.css\">\n",
       "\n",
       "\n",
       "<div id=\"ldavis_el5898949758284489032667427\"></div>\n",
       "<script type=\"text/javascript\">\n",
       "\n",
       "var ldavis_el5898949758284489032667427_data = {\"mdsDat\": {\"x\": [-0.21809876385208887, -0.17938357171367467, -0.04040577291084357, -0.08148454976140146, 0.27736102271210633, 0.24201163552590246], \"y\": [-0.10581744595190021, 0.09115112698705087, -0.2769939494626624, 0.2734699646495587, -0.0010886264074089834, 0.01927893018536235], \"topics\": [1, 2, 3, 4, 5, 6], \"cluster\": [1, 1, 1, 1, 1, 1], \"Freq\": [44.1327018737793, 23.967607498168945, 14.015332221984863, 9.868975639343262, 4.118206977844238, 3.8971774578094482]}, \"tinfo\": {\"Category\": [\"Default\", \"Default\", \"Default\", \"Default\", \"Default\", \"Default\", \"Default\", \"Default\", \"Default\", \"Default\", \"Default\", \"Default\", \"Default\", \"Default\", \"Default\", \"Default\", \"Default\", \"Default\", \"Default\", \"Default\", \"Default\", \"Default\", \"Default\", \"Default\", \"Default\", \"Default\", \"Default\", \"Default\", \"Default\", \"Default\", \"Topic1\", \"Topic1\", \"Topic1\", \"Topic1\", \"Topic1\", \"Topic1\", \"Topic1\", \"Topic1\", \"Topic1\", \"Topic1\", \"Topic1\", \"Topic1\", \"Topic1\", \"Topic1\", \"Topic1\", \"Topic1\", \"Topic1\", \"Topic1\", \"Topic1\", \"Topic1\", \"Topic1\", \"Topic1\", \"Topic1\", \"Topic1\", \"Topic1\", \"Topic1\", \"Topic1\", \"Topic1\", \"Topic1\", \"Topic1\", \"Topic1\", \"Topic1\", \"Topic1\", \"Topic1\", \"Topic1\", \"Topic1\", \"Topic1\", \"Topic1\", \"Topic1\", \"Topic1\", \"Topic1\", \"Topic1\", \"Topic1\", \"Topic1\", \"Topic1\", \"Topic1\", \"Topic1\", \"Topic1\", \"Topic1\", \"Topic1\", \"Topic1\", \"Topic1\", \"Topic1\", \"Topic1\", \"Topic1\", \"Topic1\", \"Topic1\", \"Topic1\", \"Topic1\", \"Topic2\", \"Topic2\", \"Topic2\", \"Topic2\", \"Topic2\", \"Topic2\", \"Topic2\", \"Topic2\", \"Topic2\", \"Topic2\", \"Topic2\", \"Topic2\", \"Topic2\", \"Topic2\", \"Topic2\", \"Topic2\", \"Topic2\", \"Topic2\", \"Topic2\", \"Topic2\", \"Topic2\", \"Topic2\", \"Topic2\", \"Topic2\", \"Topic2\", \"Topic2\", \"Topic2\", \"Topic2\", \"Topic2\", \"Topic2\", \"Topic2\", \"Topic2\", \"Topic2\", \"Topic2\", \"Topic2\", \"Topic2\", \"Topic2\", \"Topic2\", \"Topic2\", \"Topic2\", \"Topic2\", \"Topic2\", \"Topic2\", \"Topic2\", \"Topic2\", \"Topic2\", \"Topic2\", \"Topic2\", \"Topic2\", \"Topic2\", \"Topic2\", \"Topic2\", \"Topic2\", \"Topic2\", \"Topic2\", \"Topic2\", \"Topic2\", \"Topic2\", \"Topic2\", \"Topic2\", \"Topic2\", \"Topic3\", \"Topic3\", \"Topic3\", \"Topic3\", \"Topic3\", \"Topic3\", \"Topic3\", \"Topic3\", \"Topic3\", \"Topic3\", \"Topic3\", \"Topic3\", \"Topic3\", \"Topic3\", \"Topic3\", \"Topic3\", \"Topic3\", \"Topic3\", \"Topic3\", \"Topic3\", \"Topic3\", \"Topic3\", \"Topic3\", \"Topic3\", \"Topic3\", \"Topic3\", \"Topic3\", \"Topic3\", \"Topic3\", \"Topic3\", \"Topic3\", \"Topic3\", \"Topic3\", \"Topic3\", \"Topic3\", \"Topic3\", \"Topic3\", \"Topic3\", \"Topic3\", \"Topic3\", \"Topic3\", \"Topic3\", \"Topic3\", \"Topic3\", \"Topic3\", \"Topic3\", \"Topic3\", \"Topic3\", \"Topic3\", \"Topic3\", \"Topic3\", \"Topic3\", \"Topic3\", \"Topic3\", \"Topic3\", \"Topic3\", \"Topic3\", \"Topic3\", \"Topic4\", \"Topic4\", \"Topic4\", \"Topic4\", \"Topic4\", \"Topic4\", \"Topic4\", \"Topic4\", \"Topic4\", \"Topic4\", \"Topic4\", \"Topic4\", \"Topic4\", \"Topic4\", \"Topic4\", \"Topic4\", \"Topic4\", \"Topic4\", \"Topic4\", \"Topic4\", \"Topic4\", \"Topic4\", \"Topic4\", \"Topic4\", \"Topic4\", \"Topic4\", \"Topic4\", \"Topic4\", \"Topic4\", \"Topic4\", \"Topic4\", \"Topic4\", \"Topic4\", \"Topic4\", \"Topic4\", \"Topic4\", \"Topic4\", \"Topic4\", \"Topic4\", \"Topic4\", \"Topic4\", \"Topic4\", \"Topic4\", \"Topic4\", \"Topic4\", \"Topic4\", \"Topic4\", \"Topic4\", \"Topic4\", \"Topic4\", \"Topic4\", \"Topic4\", \"Topic4\", \"Topic4\", \"Topic5\", \"Topic5\", \"Topic5\", \"Topic5\", \"Topic5\", \"Topic5\", \"Topic5\", \"Topic5\", \"Topic5\", \"Topic5\", \"Topic5\", \"Topic5\", \"Topic5\", \"Topic5\", \"Topic5\", \"Topic5\", \"Topic5\", \"Topic5\", \"Topic5\", \"Topic5\", \"Topic5\", \"Topic5\", \"Topic5\", \"Topic5\", \"Topic5\", \"Topic5\", \"Topic5\", \"Topic5\", \"Topic5\", \"Topic5\", \"Topic5\", \"Topic5\", \"Topic5\", \"Topic5\", \"Topic5\", \"Topic6\", \"Topic6\", \"Topic6\", \"Topic6\", \"Topic6\", \"Topic6\", \"Topic6\", \"Topic6\", \"Topic6\", \"Topic6\", \"Topic6\", \"Topic6\", \"Topic6\", \"Topic6\", \"Topic6\", \"Topic6\", \"Topic6\", \"Topic6\", \"Topic6\", \"Topic6\", \"Topic6\", \"Topic6\", \"Topic6\", \"Topic6\", \"Topic6\", \"Topic6\", \"Topic6\", \"Topic6\", \"Topic6\", \"Topic6\", \"Topic6\", \"Topic6\", \"Topic6\", \"Topic6\", \"Topic6\", \"Topic6\", \"Topic6\", \"Topic6\", \"Topic6\", \"Topic6\"], \"Freq\": [1689.0, 2887.0, 2739.0, 1408.0, 1852.0, 3445.0, 1262.0, 745.0, 745.0, 720.0, 1200.0, 1157.0, 423.0, 465.0, 521.0, 996.0, 1073.0, 357.0, 207.0, 855.0, 276.0, 550.0, 860.0, 1349.0, 959.0, 537.0, 277.0, 379.0, 385.0, 390.0, 2886.665771484375, 1199.904541015625, 854.512939453125, 528.040771484375, 429.97686767578125, 374.15362548828125, 342.6649475097656, 993.2932739257812, 336.299072265625, 336.07708740234375, 330.1343994140625, 296.3775634765625, 282.5539245605469, 268.3291931152344, 241.42892456054688, 233.5870361328125, 224.01654052734375, 216.29275512695312, 198.55262756347656, 197.57736206054688, 182.8250732421875, 172.8870849609375, 171.9447021484375, 166.06044006347656, 164.8611297607422, 160.1060028076172, 157.432373046875, 155.69468688964844, 155.02392578125, 154.52203369140625, 1832.692626953125, 668.93896484375, 1058.955322265625, 208.9703369140625, 587.6434326171875, 403.20330810546875, 694.7355346679688, 339.5774841308594, 558.6709594726562, 733.5104370117188, 2820.066162109375, 312.7044677734375, 360.6497497558594, 1226.2774658203125, 355.47723388671875, 589.7432861328125, 870.4674682617188, 916.561279296875, 823.473388671875, 578.9714965820312, 816.7946166992188, 751.4154052734375, 541.9398193359375, 566.6068115234375, 468.3221130371094, 384.8250427246094, 488.8775634765625, 740.5821533203125, 383.5404968261719, 744.8282470703125, 378.2052001953125, 363.9203186035156, 302.13262939453125, 296.8613586425781, 269.3369445800781, 269.0108947753906, 253.8098602294922, 251.3335723876953, 247.6124267578125, 197.77310180664062, 187.59144592285156, 161.95469665527344, 129.87783813476562, 127.21316528320312, 119.01690673828125, 101.93570709228516, 101.32901763916016, 101.45321655273438, 99.7314224243164, 99.54573822021484, 97.67621612548828, 95.01837921142578, 92.05435943603516, 87.38407897949219, 86.97505950927734, 83.72532653808594, 80.40568542480469, 78.54285430908203, 77.7290267944336, 259.9389953613281, 504.2127380371094, 123.22773742675781, 509.1775817871094, 170.02110290527344, 168.2760009765625, 186.2232208251953, 1023.8367919921875, 334.71405029296875, 109.1565170288086, 172.98118591308594, 188.10487365722656, 928.395751953125, 231.3330078125, 215.12945556640625, 1541.145751953125, 311.8658752441406, 457.98480224609375, 345.00604248046875, 244.4306640625, 483.3678283691406, 344.2112731933594, 271.539794921875, 342.5130615234375, 333.3236999511719, 309.5400085449219, 437.2467956542969, 337.227783203125, 290.53533935546875, 249.74481201171875, 253.18821716308594, 422.1914367675781, 356.30499267578125, 261.35089111328125, 201.6477508544922, 149.26718139648438, 145.90567016601562, 106.23907470703125, 105.17938232421875, 104.1236572265625, 99.1818618774414, 92.38278198242188, 92.13691711425781, 91.76522827148438, 80.76567840576172, 81.74625396728516, 80.18402099609375, 161.4036865234375, 71.16947937011719, 69.48601531982422, 66.3312759399414, 63.40062713623047, 61.42454147338867, 60.682945251464844, 59.96339416503906, 59.278472900390625, 58.546844482421875, 57.077945709228516, 57.10258483886719, 55.252281188964844, 53.71729278564453, 124.92925262451172, 100.53923034667969, 424.41851806640625, 557.7553100585938, 199.908203125, 181.7703399658203, 286.49359130859375, 226.56210327148438, 280.2523498535156, 139.43150329589844, 120.17178344726562, 102.4864273071289, 143.39236450195312, 388.833251953125, 139.29879760742188, 129.47271728515625, 144.75721740722656, 167.45578002929688, 180.12615966796875, 215.97470092773438, 469.2308654785156, 184.41030883789062, 185.8885040283203, 134.0487823486328, 162.62860107421875, 149.52442932128906, 162.1134796142578, 146.28787231445312, 1687.4403076171875, 275.6595764160156, 172.052978515625, 166.41073608398438, 116.0641098022461, 97.54478454589844, 122.98047637939453, 94.44862365722656, 88.2846450805664, 79.73693084716797, 72.10425567626953, 69.50882720947266, 68.72785949707031, 65.81758117675781, 60.4267578125, 59.10044479370117, 58.03423309326172, 58.26177215576172, 53.797847747802734, 53.430885314941406, 52.532470703125, 50.475624084472656, 50.2859992980957, 49.32866668701172, 47.28546905517578, 46.50116729736328, 46.533329010009766, 46.09304428100586, 44.787479400634766, 44.61475372314453, 147.6564483642578, 188.58828735351562, 107.91551208496094, 224.0921173095703, 324.7918701171875, 127.23540496826172, 177.17958068847656, 374.32891845703125, 124.78428649902344, 479.46527099609375, 88.52289581298828, 97.31210327148438, 457.0589904785156, 120.489501953125, 170.76246643066406, 182.66954040527344, 112.9417724609375, 188.8838348388672, 177.09341430664062, 117.16583251953125, 146.8920135498047, 118.31365203857422, 97.36878967285156, 98.53915405273438, 100.02356719970703, 96.08653259277344, 94.24016571044922, 93.94398498535156, 78.13327026367188, 78.26602172851562, 76.7743911743164, 75.5045394897461, 69.90485382080078, 68.46072387695312, 62.412166595458984, 58.29875946044922, 55.64760971069336, 52.23246765136719, 50.96034622192383, 51.154563903808594, 50.57872009277344, 49.4288330078125, 47.2850227355957, 47.528228759765625, 45.6317138671875, 42.32272720336914, 40.18534851074219, 38.84711456298828, 38.42853546142578, 38.710811614990234, 35.54235076904297, 35.21844482421875, 34.91853332519531, 33.97410583496094, 142.9250946044922, 107.20451354980469, 100.50104522705078, 39.33311462402344, 43.109107971191406, 206.60287475585938, 110.31771850585938, 98.56184387207031, 83.98458099365234, 77.0832290649414, 71.34085845947266, 65.34241485595703, 64.85179901123047, 52.61056900024414, 52.048614501953125, 42.357975006103516, 41.55461883544922, 40.686283111572266, 39.14836120605469, 38.6231689453125, 38.01929473876953, 34.21466064453125, 32.59333038330078, 31.035709381103516, 30.519519805908203, 30.218271255493164, 29.024492263793945, 29.399946212768555, 28.779884338378906, 27.245939254760742, 28.414033889770508, 26.346561431884766, 25.76914405822754, 25.142194747924805, 23.83920669555664, 28.37017059326172, 36.89676284790039, 45.65478515625, 43.33156967163086, 43.536808013916016, 42.33883285522461, 41.312896728515625, 31.86845588684082, 30.772375106811523, 30.86073875427246], \"Term\": [\"network\", \"strategy\", \"cooperation\", \"social\", \"player\", \"game\", \"individual\", \"group\", \"theory\", \"cooperator\", \"agent\", \"use\", \"decision\", \"defector\", \"make\", \"evolutionary\", \"population\", \"classical\", \"cell\", \"dynamic\", \"scale\", \"good\", \"interaction\", \"study\", \"behavior\", \"human\", \"free\", \"cost\", \"information\", \"problem\", \"strategy\", \"agent\", \"dynamic\", \"structure\", \"rule\", \"simulation\", \"update\", \"evolutionary\", \"iterate\", \"spatial\", \"parameter\", \"degree\", \"neighbor\", \"opponent\", \"complex\", \"phase\", \"learn\", \"lattice\", \"obtain\", \"initial\", \"space\", \"memory\", \"feature\", \"learning\", \"extend\", \"adopt\", \"mutation\", \"imitation\", \"strong\", \"class\", \"player\", \"payoff\", \"population\", \"stable\", \"state\", \"number\", \"different\", \"probability\", \"play\", \"evolution\", \"game\", \"introduce\", \"case\", \"model\", \"type\", \"system\", \"result\", \"study\", \"dilemma\", \"give\", \"show\", \"use\", \"also\", \"interaction\", \"base\", \"consider\", \"find\", \"cooperation\", \"time\", \"group\", \"cost\", \"punishment\", \"benefit\", \"public\", \"other\", \"reward\", \"help\", \"common\", \"society\", \"community\", \"reputation\", \"preference\", \"gain\", \"person\", \"contribution\", \"pair\", \"specie\", \"receive\", \"ratio\", \"act\", \"avoid\", \"life\", \"altruism\", \"costly\", \"contribute\", \"joint\", \"latter\", \"gene\", \"altruistic\", \"reciprocity\", \"human\", \"great\", \"good\", \"people\", \"less\", \"subject\", \"individual\", \"experiment\", \"rather\", \"support\", \"explain\", \"social\", \"self\", \"behaviour\", \"cooperation\", \"cooperate\", \"cooperative\", \"increase\", \"suggest\", \"behavior\", \"however\", \"size\", \"level\", \"high\", \"mechanism\", \"show\", \"result\", \"find\", \"effect\", \"dilemma\", \"decision\", \"classical\", \"quantum\", \"strategic\", \"datum\", \"scheme\", \"user\", \"available\", \"measurement\", \"combine\", \"team\", \"aspect\", \"theoretic\", \"market\", \"effort\", \"perspective\", \"concept\", \"principle\", \"price\", \"landscape\", \"attention\", \"protocol\", \"agreement\", \"statistical\", \"constraint\", \"quantization\", \"profit\", \"notion\", \"investigation\", \"company\", \"utility\", \"construct\", \"make\", \"theory\", \"solution\", \"design\", \"information\", \"approach\", \"problem\", \"rational\", \"application\", \"incentive\", \"choice\", \"use\", \"develop\", \"research\", \"method\", \"framework\", \"propose\", \"paper\", \"game\", \"equilibrium\", \"provide\", \"analysis\", \"dilemma\", \"give\", \"model\", \"base\", \"network\", \"scale\", \"partner\", \"link\", \"critical\", \"coevolutionary\", \"topology\", \"dynamical\", \"node\", \"connectivity\", \"layer\", \"graphs\", \"determinant\", \"fast\", \"physical\", \"fluctuation\", \"adoption\", \"domain\", \"locate\", \"alliance\", \"connected\", \"hub\", \"brain\", \"tie\", \"path\", \"hierarchical\", \"perception\", \"online\", \"feedback\", \"actor\", \"region\", \"cluster\", \"activity\", \"free\", \"defector\", \"control\", \"influence\", \"cooperator\", \"transition\", \"social\", \"spread\", \"fraction\", \"cooperation\", \"emergence\", \"effect\", \"interaction\", \"random\", \"study\", \"individual\", \"size\", \"behavior\", \"increase\", \"investigate\", \"find\", \"evidence\", \"trust\", \"formation\", \"rationality\", \"attack\", \"grow\", \"service\", \"organization\", \"powerful\", \"year\", \"moral\", \"practice\", \"element\", \"bound\", \"quality\", \"welfare\", \"participation\", \"mobility\", \"enterprise\", \"yet\", \"metric\", \"balance\", \"definition\", \"scientific\", \"crowdsource\", \"loner\", \"line\", \"extinction\", \"monitor\", \"host\", \"member\", \"risk\", \"collective\", \"exchange\", \"form\", \"cell\", \"task\", \"entangle\", \"see\", \"sex\", \"intention\", \"age\", \"keep\", \"rating\", \"alone\", \"strain\", \"customer\", \"tumor\", \"male\", \"infection\", \"female\", \"virtual\", \"emotional\", \"ingroup\", \"woman\", \"removal\", \"frustration\", \"demographic\", \"unfair\", \"tolerance\", \"amplitude\", \"significance\", \"pass\", \"genotype\", \"regulate\", \"black\", \"tell\", \"expression\", \"correlate\", \"face\", \"participant\", \"control\", \"involve\", \"associate\", \"relationship\"], \"Total\": [1689.0, 2887.0, 2739.0, 1408.0, 1852.0, 3445.0, 1262.0, 745.0, 745.0, 720.0, 1200.0, 1157.0, 423.0, 465.0, 521.0, 996.0, 1073.0, 357.0, 207.0, 855.0, 276.0, 550.0, 860.0, 1349.0, 959.0, 537.0, 277.0, 379.0, 385.0, 390.0, 2887.66650390625, 1200.904541015625, 855.5166625976562, 529.0413818359375, 430.979736328125, 375.154296875, 343.6667175292969, 996.2161865234375, 337.299072265625, 337.0777282714844, 331.1413269042969, 297.3826599121094, 283.5533752441406, 269.3288269042969, 242.43202209472656, 234.59024047851562, 225.01629638671875, 217.2949981689453, 199.5560760498047, 198.58212280273438, 183.8264923095703, 173.8870391845703, 172.94960021972656, 167.06019592285156, 165.86375427246094, 161.1072998046875, 158.4324951171875, 156.69705200195312, 156.02769470214844, 155.52450561523438, 1852.39453125, 674.4380493164062, 1073.8114013671875, 210.93362426757812, 608.504150390625, 414.49786376953125, 730.111328125, 352.644775390625, 598.2740478515625, 807.2688598632812, 3445.3642578125, 326.7197265625, 389.2321472167969, 1580.519775390625, 384.8140563964844, 733.8402709960938, 1239.180908203125, 1349.1512451171875, 1239.8851318359375, 777.248046875, 1307.1448974609375, 1157.270751953125, 758.2117919921875, 860.3909912109375, 674.4661254882812, 452.2411193847656, 878.5748291015625, 2739.408447265625, 496.36865234375, 745.785888671875, 379.16546630859375, 364.87701416015625, 303.09185791015625, 297.8198547363281, 270.2969665527344, 269.9700622558594, 254.77005004882812, 252.29397583007812, 248.59388732910156, 198.73663330078125, 188.54794311523438, 162.91285705566406, 130.84034729003906, 128.1724853515625, 119.97474670410156, 102.90040588378906, 102.28925323486328, 102.41788482666016, 100.69204711914062, 100.5077133178711, 98.63999938964844, 95.9799575805664, 93.0124740600586, 88.34125518798828, 87.9347915649414, 84.69022369384766, 81.37421417236328, 79.5064468383789, 78.68807983398438, 264.2818298339844, 537.067626953125, 125.97842407226562, 550.9305419921875, 176.16757202148438, 175.4599609375, 195.41505432128906, 1262.2578125, 395.88104248046875, 111.85353088378906, 191.53330993652344, 211.62400817871094, 1408.6544189453125, 270.3755187988281, 251.15829467773438, 2739.408447265625, 407.271728515625, 676.9446411132812, 491.18341064453125, 323.78509521484375, 959.3975830078125, 557.4954223632812, 389.5011291503906, 607.8629760742188, 593.0560913085938, 535.568115234375, 1307.1448974609375, 1239.180908203125, 878.5748291015625, 550.758056640625, 1239.8851318359375, 423.1666259765625, 357.28387451171875, 262.32977294921875, 202.62583923339844, 150.24322509765625, 146.88204956054688, 107.21885681152344, 106.16049194335938, 105.10220336914062, 100.17216491699219, 93.35820770263672, 93.11493682861328, 92.74048614501953, 81.73827362060547, 82.73243713378906, 81.16299438476562, 163.43817138671875, 72.14695739746094, 70.45978546142578, 67.31888580322266, 64.37973022460938, 62.41104507446289, 61.666282653808594, 60.9412727355957, 60.255226135253906, 59.53102111816406, 58.05609893798828, 58.0814208984375, 56.23564910888672, 54.69240951538086, 132.535888671875, 107.26872253417969, 521.4443359375, 745.2979736328125, 238.69325256347656, 215.27789306640625, 385.29608154296875, 297.406494140625, 390.3317565917969, 168.24972534179688, 140.7178192138672, 116.451416015625, 213.41348266601562, 1157.270751953125, 208.42625427246094, 187.78294372558594, 230.21678161621094, 316.7464294433594, 378.55218505859375, 557.2127075195312, 3445.3642578125, 452.142333984375, 504.7822265625, 298.243896484375, 1239.8851318359375, 777.248046875, 1580.519775390625, 674.4661254882812, 1689.0611572265625, 276.66455078125, 173.05775451660156, 167.4151153564453, 117.07150268554688, 98.55233001708984, 124.28770446777344, 95.456298828125, 89.28860473632812, 80.74131774902344, 73.10803985595703, 70.51363372802734, 69.74837493896484, 66.82874298095703, 61.44614791870117, 60.1151008605957, 59.04033279418945, 59.283363342285156, 54.80608367919922, 54.43877410888672, 53.538246154785156, 51.47937774658203, 51.29051208496094, 50.33592224121094, 48.299041748046875, 47.50789260864258, 47.54549026489258, 47.10593032836914, 45.79301452636719, 45.61836624145508, 163.27618408203125, 214.80825805664062, 118.10258483886719, 277.9261169433594, 465.8420715332031, 169.33184814453125, 267.98687744140625, 720.5191650390625, 176.66795349121094, 1408.6544189453125, 116.32963562011719, 144.42234802246094, 2739.408447265625, 255.8841552734375, 550.758056640625, 860.3909912109375, 280.4805908203125, 1349.1512451171875, 1262.2578125, 389.5011291503906, 959.3975830078125, 491.18341064453125, 381.062255859375, 878.5748291015625, 101.00147247314453, 97.0574722290039, 95.21560668945312, 94.9178237915039, 79.10502624511719, 79.24545288085938, 77.7457046508789, 76.48345184326172, 70.88478088378906, 69.43659973144531, 63.385860443115234, 59.274166107177734, 56.63080978393555, 53.21388626098633, 51.93035888671875, 52.13822555541992, 51.552154541015625, 50.40492630004883, 48.25600814819336, 48.50611877441406, 46.61491394042969, 43.29585647583008, 41.15996170043945, 39.820823669433594, 39.40126419067383, 39.69148254394531, 36.52134323120117, 36.194793701171875, 35.890865325927734, 34.94440841674805, 160.2847137451172, 157.62161254882812, 197.77745056152344, 60.61661911010742, 228.34228515625, 207.54566955566406, 111.26581573486328, 99.533203125, 84.9410400390625, 78.03365325927734, 72.28528594970703, 66.29317474365234, 65.8207015991211, 53.566017150878906, 53.01751708984375, 43.30075454711914, 42.50251007080078, 41.62680435180664, 40.08932876586914, 39.56496810913086, 38.95942306518555, 35.170616149902344, 33.541770935058594, 31.980131149291992, 31.463092803955078, 31.183002471923828, 29.975109100341797, 30.36503028869629, 29.726381301879883, 28.1923885345459, 29.404579162597656, 27.302831649780273, 26.73176383972168, 26.085025787353516, 24.78795051574707, 29.527267456054688, 42.2174072265625, 62.495147705078125, 90.4718246459961, 159.4001007080078, 190.2525177001953, 169.33184814453125, 120.67601013183594, 97.77892303466797, 201.2685546875], \"loglift\": [30.0, 29.0, 28.0, 27.0, 26.0, 25.0, 24.0, 23.0, 22.0, 21.0, 20.0, 19.0, 18.0, 17.0, 16.0, 15.0, 14.0, 13.0, 12.0, 11.0, 10.0, 9.0, 8.0, 7.0, 6.0, 5.0, 4.0, 3.0, 2.0, 1.0, 0.8176000118255615, 0.8170999884605408, 0.8167999982833862, 0.816100001335144, 0.8155999779701233, 0.8152999877929688, 0.8149999976158142, 0.8149999976158142, 0.8149999976158142, 0.8149999976158142, 0.8148999810218811, 0.8145999908447266, 0.8144000172615051, 0.814300000667572, 0.8137999773025513, 0.8137000203132629, 0.8134999871253967, 0.8133000135421753, 0.8129000067710876, 0.8129000067710876, 0.8125, 0.8122000098228455, 0.8120999932289124, 0.8119999766349792, 0.8119000196456909, 0.8116999864578247, 0.8116000294685364, 0.8116000294685364, 0.8115000128746033, 0.8115000128746033, 0.8072999715805054, 0.8098000288009644, 0.8040000200271606, 0.8086000084877014, 0.7831000089645386, 0.7903000116348267, 0.7682999968528748, 0.7802000045776367, 0.7494999766349792, 0.7221999764442444, 0.6176999807357788, 0.7741000056266785, 0.7416999936103821, 0.5641999840736389, 0.7386999726295471, 0.599399983882904, 0.46480000019073486, 0.43140000104904175, 0.40869998931884766, 0.5235000252723694, 0.34779998660087585, 0.38609999418258667, 0.4821999967098236, 0.4002000093460083, 0.45320001244544983, 0.656499981880188, 0.23180000483989716, -0.4900999963283539, 0.5601000189781189, 1.4271999597549438, 1.4258999824523926, 1.4257999658584595, 1.4253000020980835, 1.4251999855041504, 1.4249000549316406, 1.4249000549316406, 1.4247000217437744, 1.4247000217437744, 1.4244999885559082, 1.4235999584197998, 1.4234000444412231, 1.4226000308990479, 1.4211000204086304, 1.4210000038146973, 1.4205000400543213, 1.4190000295639038, 1.4190000295639038, 1.4190000295639038, 1.4189000129699707, 1.4187999963760376, 1.4185999631881714, 1.4184000492095947, 1.4180999994277954, 1.4176000356674194, 1.4175000190734863, 1.4170000553131104, 1.4164999723434448, 1.4163000583648682, 1.416200041770935, 1.4119000434875488, 1.3653000593185425, 1.4063999652862549, 1.3496999740600586, 1.3930000066757202, 1.3867000341415405, 1.3803000450134277, 1.219099998474121, 1.260599970817566, 1.404099941253662, 1.3265999555587769, 1.3107000589370728, 1.0115000009536743, 1.2725000381469727, 1.2735999822616577, 0.8532999753952026, 1.1615999937057495, 1.0377000570297241, 1.0751999616622925, 1.1473000049591064, 0.742900013923645, 0.9463000297546387, 1.0677000284194946, 0.8547999858856201, 0.8522999882698059, 0.8802000284194946, 0.33340001106262207, 0.12700000405311584, 0.32190001010894775, 0.6376000046730042, -0.16019999980926514, 1.9627000093460083, 1.9622999429702759, 1.961300015449524, 1.9601999521255493, 1.9585000276565552, 1.958299994468689, 1.9558000564575195, 1.9557000398635864, 1.9557000398635864, 1.9551000595092773, 1.9544999599456787, 1.9544999599456787, 1.9543999433517456, 1.9529999494552612, 1.9529999494552612, 1.9529000520706177, 1.9524999856948853, 1.9514000415802002, 1.9510999917984009, 1.9501999616622925, 1.9496999979019165, 1.9491000175476074, 1.9488999843597412, 1.948799967765808, 1.948699951171875, 1.9483000040054321, 1.9479999542236328, 1.9479999542236328, 1.9473999738693237, 1.9470000267028809, 1.905900001525879, 1.9002000093460083, 1.7590999603271484, 1.6751999855041504, 1.7877000570297241, 1.795799970626831, 1.6686999797821045, 1.6928999423980713, 1.6337000131607056, 1.7770999670028687, 1.8071999549865723, 1.8372999429702759, 1.5673999786376953, 0.8743000030517578, 1.5621000528335571, 1.5931999683380127, 1.501099944114685, 1.3276000022888184, 1.2223000526428223, 1.017199993133545, -0.028699999675154686, 1.0681999921798706, 0.9660000205039978, 1.1653000116348267, -0.06629999727010727, 0.3167000114917755, -0.31220000982284546, 0.4366999864578247, 2.3148000240325928, 2.3120999336242676, 2.309999942779541, 2.309799909591675, 2.3071000576019287, 2.305500030517578, 2.3052000999450684, 2.3052000999450684, 2.304500102996826, 2.303299903869629, 2.3018999099731445, 2.3013999462127686, 2.3010001182556152, 2.30049991607666, 2.2990000247955322, 2.298799991607666, 2.2985999584198, 2.2983999252319336, 2.2971999645233154, 2.297100067138672, 2.296799898147583, 2.296099901199341, 2.2960000038146973, 2.295599937438965, 2.294600009918213, 2.2943999767303467, 2.294300079345703, 2.2939999103546143, 2.293600082397461, 2.2934999465942383, 2.2151999473571777, 2.1856000423431396, 2.225600004196167, 2.1005001068115234, 1.9551000595092773, 2.0299999713897705, 1.9019999504089355, 1.6608999967575073, 1.9680999517440796, 1.2381000518798828, 2.04259991645813, 1.9210000038146973, 0.5250999927520752, 1.562600016593933, 1.1447999477386475, 0.7660999894142151, 1.4061000347137451, 0.349700003862381, 0.35179999470710754, 1.1145000457763672, 0.4392000138759613, 0.892300009727478, 0.9513000249862671, 0.12790000438690186, 3.180000066757202, 3.1796998977661133, 3.179500102996826, 3.1793999671936035, 3.1774001121520996, 3.177299976348877, 3.1772000789642334, 3.1768999099731445, 3.175800085067749, 3.175600051879883, 3.174299955368042, 3.1731998920440674, 3.1721999645233154, 3.171099901199341, 3.1709001064300537, 3.1707000732421875, 3.1707000732421875, 3.1702001094818115, 3.1693999767303467, 3.1693999767303467, 3.1684000492095947, 3.1670000553131104, 3.165800094604492, 3.1649999618530273, 3.164799928665161, 3.1647000312805176, 3.162600040435791, 3.162400007247925, 3.1623001098632812, 3.161600112915039, 3.0750999450683594, 2.80430006980896, 2.5127999782562256, 2.757200002670288, 1.5226000547409058, 3.2404000759124756, 3.2363998889923096, 3.235100030899048, 3.233599901199341, 3.2327001094818115, 3.231800079345703, 3.2304999828338623, 3.23009991645813, 3.226900100708008, 3.2265000343322754, 3.222899913787842, 3.222399950027466, 3.222100019454956, 3.2211999893188477, 3.2207999229431152, 3.2204999923706055, 3.217400074005127, 3.216200113296509, 3.214900016784668, 3.2144999504089355, 3.2135000228881836, 3.2126998901367188, 3.212599992752075, 3.212599992752075, 3.2107999324798584, 3.210700035095215, 3.2093000411987305, 3.208199977874756, 3.2081000804901123, 3.205899953842163, 3.204900026321411, 3.1101999282836914, 2.9309000968933105, 2.5088000297546387, 1.947100043296814, 1.742300033569336, 1.8342000246047974, 1.9134000539779663, 2.0887999534606934, 1.3697999715805054], \"logprob\": [30.0, 29.0, 28.0, 27.0, 26.0, 25.0, 24.0, 23.0, 22.0, 21.0, 20.0, 19.0, 18.0, 17.0, 16.0, 15.0, 14.0, 13.0, 12.0, 11.0, 10.0, 9.0, 8.0, 7.0, 6.0, 5.0, 4.0, 3.0, 2.0, 1.0, -3.3791000843048096, -4.256999969482422, -4.596499919891357, -5.0777997970581055, -5.283299922943115, -5.422299861907959, -5.510300159454346, -4.446000099182129, -5.5289998054504395, -5.529699802398682, -5.547500133514404, -5.655399799346924, -5.703100204467773, -5.754799842834473, -5.860400199890137, -5.893499851226807, -5.935299873352051, -5.970399856567383, -6.056000232696533, -6.0609002113342285, -6.138500213623047, -6.194399833679199, -6.19980001449585, -6.2347002029418945, -6.2418999671936035, -6.271200180053711, -6.288000106811523, -6.299099922180176, -6.303400039672852, -6.306700229644775, -3.8334999084472656, -4.841300010681152, -4.381999969482422, -6.004799842834473, -4.970900058746338, -5.347599983215332, -4.803500175476074, -5.5192999839782715, -5.021399974822998, -4.749199867248535, -3.4024999141693115, -5.6016998291015625, -5.459099769592285, -4.235300064086914, -5.473499774932861, -4.967299938201904, -4.578000068664551, -4.526400089263916, -4.633500099182129, -4.985799789428711, -4.641600131988525, -4.724999904632568, -5.0518999099731445, -5.007299900054932, -5.19789981842041, -5.394199848175049, -5.154900074005127, -4.73960018157959, -5.397600173950195, -4.1234002113342285, -4.80109977722168, -4.839600086212158, -5.025599956512451, -5.0432000160217285, -5.140500068664551, -5.1417999267578125, -5.199900150299072, -5.209700107574463, -5.224599838256836, -5.449399948120117, -5.502200126647949, -5.649199962615967, -5.869900226593018, -5.890600204467773, -5.957200050354004, -6.112199783325195, -6.118100166320801, -6.1168999671936035, -6.133999824523926, -6.135900020599365, -6.154900074005127, -6.182400226593018, -6.214099884033203, -6.266200065612793, -6.270899772644043, -6.309000015258789, -6.349400043487549, -6.372900009155273, -6.383299827575684, -5.17609977722168, -4.513500213623047, -5.922500133514404, -4.503699779510498, -5.600599765777588, -5.610899925231934, -5.5096001625061035, -3.8052000999450684, -4.9232001304626465, -6.043700218200684, -5.5833001136779785, -5.499499797821045, -3.90310001373291, -5.292699813842773, -5.365300178527832, -3.396199941635132, -4.993899822235107, -4.6097002029418945, -4.892899990081787, -5.237599849700928, -4.555699825286865, -4.895299911499023, -5.132400035858154, -4.900199890136719, -4.9274001121521, -5.001399993896484, -4.656000137329102, -4.915800094604492, -5.064799785614014, -5.216100215911865, -5.202400207519531, -4.1545000076293945, -4.32420015335083, -4.634099960327148, -4.893400192260742, -5.194200038909912, -5.2170000076293945, -5.534299850463867, -5.544300079345703, -5.5543999671936035, -5.603000164031982, -5.673999786376953, -5.676700115203857, -5.680699825286865, -5.8084001541137695, -5.796299934387207, -5.8155999183654785, -5.116000175476074, -5.934899806976318, -5.958799839019775, -6.005300045013428, -6.05049991607666, -6.082099914550781, -6.094299793243408, -6.106200218200684, -6.117700099945068, -6.130099773406982, -6.1554999351501465, -6.155099868774414, -6.188000202178955, -6.21619987487793, -5.372200012207031, -5.589399814605713, -4.149199962615967, -3.875999927520752, -4.902100086212158, -4.997200012207031, -4.542200088500977, -4.776899814605713, -4.564300060272217, -5.262400150299072, -5.410999774932861, -5.570199966430664, -5.234399795532227, -4.236800193786621, -5.263299942016602, -5.33650016784668, -5.224899768829346, -5.07919979095459, -5.00629997253418, -4.82480001449585, -4.048900127410889, -4.982800006866455, -4.974800109863281, -5.301799774169922, -5.108500003814697, -5.192500114440918, -5.111700057983398, -5.214399814605713, -2.4182000160217285, -4.230000019073486, -4.701399803161621, -4.7347002029418945, -5.095099925994873, -5.268899917602539, -5.037199974060059, -5.30109977722168, -5.368599891662598, -5.4704999923706055, -5.571100234985352, -5.607699871063232, -5.61899995803833, -5.662300109863281, -5.747799873352051, -5.769999980926514, -5.7881999015808105, -5.784299850463867, -5.863999843597412, -5.870800018310547, -5.887800216674805, -5.927700042724609, -5.93149995803833, -5.950699806213379, -5.993000030517578, -6.009699821472168, -6.008999824523926, -6.018499851226807, -6.047299861907959, -6.05109977722168, -4.854300022125244, -4.609600067138672, -5.167900085449219, -4.437099933624268, -4.065999984741211, -5.003200054168701, -4.671999931335449, -3.924099922180176, -5.022600173950195, -3.676500082015991, -5.365900039672852, -5.271299839019775, -3.724400043487549, -5.057600021362305, -4.708899974822998, -4.641499996185303, -5.122300148010254, -4.608099937438965, -4.672500133514404, -5.085599899291992, -4.859499931335449, -5.075900077819824, -5.270699977874756, -5.258699893951416, -4.369800090789795, -4.409999847412109, -4.4293999671936035, -4.432499885559082, -4.616799831390381, -4.615099906921387, -4.634399890899658, -4.651000022888184, -4.728099822998047, -4.749000072479248, -4.8414998054504395, -4.909599781036377, -4.956200122833252, -5.019499778747559, -5.0441999435424805, -5.04040002822876, -5.051700115203857, -5.074699878692627, -5.11899995803833, -5.113900184631348, -5.154600143432617, -5.229899883270264, -5.281700134277344, -5.3155999183654785, -5.326399803161621, -5.3190999031066895, -5.4045000076293945, -5.413700103759766, -5.4222002029418945, -5.4496002197265625, -4.012899875640869, -4.30049991607666, -4.365099906921387, -5.303199768066406, -5.21150016784668, -3.5892999172210693, -4.216700077056885, -4.329400062561035, -4.4893999099731445, -4.575200080871582, -4.652599811553955, -4.7403998374938965, -4.748000144958496, -4.957099914550781, -4.967899799346924, -5.173900127410889, -5.192999839782715, -5.214200019836426, -5.252699851989746, -5.266200065612793, -5.2820000648498535, -5.387400150299072, -5.435999870300293, -5.484899997711182, -5.501699924468994, -5.511600017547607, -5.5518999099731445, -5.539100170135498, -5.560400009155273, -5.615200042724609, -5.573200225830078, -5.64870023727417, -5.670899868011475, -5.695499897003174, -5.748700141906738, -5.574699878692627, -5.3119001388549805, -5.098999977111816, -5.151199817657471, -5.146500110626221, -5.1743998527526855, -5.19890022277832, -5.458399772644043, -5.4934000968933105, -5.490600109100342]}, \"token.table\": {\"Topic\": [2, 3, 4, 4, 1, 4, 6, 1, 3, 4, 6, 1, 2, 3, 4, 2, 2, 6, 1, 3, 1, 3, 1, 3, 3, 2, 3, 4, 6, 5, 3, 3, 2, 5, 1, 2, 3, 1, 2, 4, 1, 2, 3, 2, 6, 5, 4, 1, 2, 3, 6, 1, 2, 3, 1, 3, 1, 4, 4, 3, 5, 3, 2, 2, 3, 1, 1, 3, 4, 4, 1, 2, 3, 3, 2, 3, 2, 2, 4, 6, 1, 2, 1, 2, 4, 1, 2, 4, 1, 2, 4, 2, 6, 2, 2, 4, 5, 6, 3, 3, 2, 4, 5, 1, 6, 1, 3, 4, 1, 3, 1, 2, 3, 4, 1, 2, 3, 4, 1, 4, 1, 2, 4, 6, 3, 5, 1, 2, 4, 6, 6, 5, 1, 2, 3, 5, 1, 2, 4, 1, 2, 2, 5, 1, 2, 3, 4, 1, 2, 3, 3, 6, 1, 5, 3, 4, 6, 4, 1, 4, 6, 1, 2, 4, 4, 1, 2, 5, 5, 1, 4, 1, 3, 2, 4, 6, 2, 1, 2, 3, 2, 6, 1, 2, 3, 1, 2, 3, 4, 1, 2, 5, 2, 5, 2, 4, 1, 2, 4, 5, 5, 1, 2, 3, 4, 4, 2, 3, 4, 1, 2, 3, 1, 2, 4, 1, 2, 4, 6, 1, 2, 3, 4, 1, 2, 3, 6, 1, 6, 1, 2, 4, 1, 2, 4, 1, 2, 4, 6, 3, 1, 6, 1, 2, 6, 3, 2, 1, 4, 1, 1, 1, 2, 4, 1, 2, 4, 2, 5, 4, 4, 5, 1, 2, 3, 4, 6, 3, 3, 1, 2, 4, 5, 6, 1, 1, 3, 5, 5, 1, 2, 3, 4, 5, 5, 1, 1, 1, 4, 4, 3, 1, 2, 1, 4, 1, 5, 2, 2, 1, 3, 1, 2, 6, 5, 4, 6, 4, 1, 2, 2, 3, 4, 2, 3, 1, 4, 1, 2, 1, 2, 1, 2, 5, 5, 2, 3, 3, 1, 2, 1, 2, 3, 5, 3, 1, 3, 3, 1, 2, 3, 4, 2, 2, 5, 3, 3, 1, 4, 2, 3, 6, 2, 2, 3, 5, 2, 2, 4, 2, 4, 5, 6, 1, 2, 4, 5, 6, 6, 2, 1, 3, 4, 5, 6, 1, 2, 3, 4, 2, 2, 5, 1, 4, 3, 5, 6, 1, 2, 3, 5, 6, 1, 2, 3, 4, 6, 1, 2, 4, 2, 4, 2, 1, 3, 1, 1, 2, 1, 4, 5, 1, 2, 1, 3, 3, 6, 3, 1, 1, 1, 1, 2, 4, 6, 2, 6, 1, 2, 3, 4, 6, 1, 2, 3, 1, 3, 4, 6, 3, 1, 6, 3, 1, 2, 3, 4, 1, 2, 3, 4, 6, 4, 1, 4, 5, 6, 1, 3, 6, 6, 1, 1, 2, 3, 3, 2, 3, 6, 5, 6, 5, 5], \"Freq\": [0.9949485063552856, 0.07620493322610855, 0.914459228515625, 0.9864447712898254, 0.9931269288063049, 0.9823792576789856, 0.9804930686950684, 0.9992467761039734, 0.9891953468322754, 0.9735707640647888, 0.980807900428772, 0.7148398160934448, 0.17805051803588867, 0.08836580812931061, 0.018464498221874237, 0.9891146421432495, 0.9912555813789368, 0.9522326588630676, 0.5465325713157654, 0.4492967128753662, 0.14212840795516968, 0.8527704477310181, 0.23536808788776398, 0.7632651329040527, 0.9880262017250061, 0.3784046471118927, 0.14318014681339264, 0.16363444924354553, 0.3170417547225952, 0.9860308766365051, 0.9785688519477844, 0.9890685081481934, 0.9935117363929749, 0.9700697064399719, 0.693882167339325, 0.08747659623622894, 0.2164674997329712, 0.34292352199554443, 0.5034409165382385, 0.15322114527225494, 0.06370484083890915, 0.8560338616371155, 0.07564949989318848, 0.9963976144790649, 0.9482760429382324, 0.9771885275840759, 0.9748391509056091, 0.9274670481681824, 0.023122448474168777, 0.04881405457854271, 0.9973708391189575, 0.15931513905525208, 0.1686866283416748, 0.6700607538223267, 0.9966275095939636, 0.9964065551757812, 0.11638285964727402, 0.8798544406890869, 0.9943955540657043, 0.48539406061172485, 0.5106750130653381, 0.9882984757423401, 0.9948711395263672, 0.9962934255599976, 0.9873399138450623, 0.994093120098114, 0.006118521559983492, 0.9850819706916809, 0.9899464845657349, 0.9908186197280884, 0.8513157963752747, 0.08844839036464691, 0.05749145522713661, 0.979168176651001, 0.05593429133296013, 0.9415605664253235, 0.9893695116043091, 0.991875410079956, 0.7500065565109253, 0.24212810397148132, 0.23325949907302856, 0.7660732865333557, 0.2704963684082031, 0.5625302195549011, 0.1668243408203125, 0.24374224245548248, 0.6765693426132202, 0.07829295843839645, 0.35391148924827576, 0.12629781663417816, 0.5190701484680176, 0.5084455609321594, 0.4752860963344574, 0.9969262480735779, 0.9848173260688782, 0.9908474683761597, 0.9644360542297363, 0.9881769418716431, 0.9917252659797668, 0.9972431063652039, 0.3005310297012329, 0.6976613402366638, 0.971818208694458, 0.9953505992889404, 0.9550459980964661, 0.15329024195671082, 0.8454189300537109, 0.9892703890800476, 0.3262544870376587, 0.6669025421142578, 0.951909601688385, 0.0027393081691116095, 0.020544812083244324, 0.02465377375483513, 0.6637711524963379, 0.2040511667728424, 0.13146379590034485, 0.9783520698547363, 0.9993960857391357, 0.9847438335418701, 0.21425016224384308, 0.45391982793807983, 0.31048116087913513, 0.021788151934742928, 0.9911469221115112, 0.9888610243797302, 0.4181579649448395, 0.10942451655864716, 0.4689622223377228, 0.9838478565216064, 0.994642972946167, 0.973971962928772, 0.5772518515586853, 0.013270157389342785, 0.4069514870643616, 0.9900845885276794, 0.9092385768890381, 0.08918961882591248, 0.001238744705915451, 0.9967715740203857, 0.0020075964275747538, 0.3464396595954895, 0.6433879137039185, 0.07325433194637299, 0.8462138175964355, 0.07578033953905106, 0.0025260113179683685, 0.0614297017455101, 0.8883680105209351, 0.04725361615419388, 0.2560198903083801, 0.7360571622848511, 0.9947924017906189, 0.9669898748397827, 0.6273521780967712, 0.10037634521722794, 0.276034951210022, 0.9875990152359009, 0.9945093989372253, 0.9826826453208923, 0.9753738045692444, 0.5565832257270813, 0.33121824264526367, 0.11268249154090881, 0.9814505577087402, 0.5999764800071716, 0.2058313488960266, 0.1883137822151184, 0.9872331023216248, 0.3185102641582489, 0.6716412305831909, 0.4672507345676422, 0.5272356271743774, 0.19069816172122955, 0.8059695959091187, 0.9674693942070007, 0.9935773015022278, 0.8184911012649536, 0.044987987726926804, 0.13612493872642517, 0.9936301112174988, 0.9584042429924011, 0.744935929775238, 0.06175634637475014, 0.1929885894060135, 0.05626843497157097, 0.9238914251327515, 0.01996621862053871, 0.9927158355712891, 0.007937867194414139, 0.976357638835907, 0.007937867194414139, 0.9989462494850159, 0.9842836260795593, 0.9969774484634399, 0.9893093109130859, 0.31025734543800354, 0.5614983439445496, 0.10960177332162857, 0.01686181128025055, 0.9729740023612976, 0.28699788451194763, 0.6170454025268555, 0.05381210148334503, 0.04125594347715378, 0.9712626934051514, 0.9384292960166931, 0.037239257246255875, 0.022343555465340614, 0.995551586151123, 0.11163453757762909, 0.8759017586708069, 0.05496928468346596, 0.7023853063583374, 0.24023613333702087, 0.048326101154088974, 0.8112447261810303, 0.14022491872310638, 0.9857205152511597, 0.08955662697553635, 0.09328815340995789, 0.15672409534454346, 0.6604800820350647, 0.08305301517248154, 0.1712968349456787, 0.7422862648963928, 0.9693518877029419, 0.9970685839653015, 0.9822192788124084, 0.6590027213096619, 0.12784884870052338, 0.21269400417804718, 0.9580076336860657, 0.024485819041728973, 0.01836436428129673, 0.6744304895401001, 0.05510910600423813, 0.25455158948898315, 0.013121215626597404, 0.9780272841453552, 0.7292252779006958, 0.2651728391647339, 0.9961485862731934, 0.9918500185012817, 0.9875312447547913, 0.9804083704948425, 0.9831123948097229, 0.9940403699874878, 0.9848437905311584, 0.9954834580421448, 0.9936538338661194, 0.03419583663344383, 0.9574834108352661, 0.005699305795133114, 0.3142155408859253, 0.5642719268798828, 0.12173796445131302, 0.9897899627685547, 0.9857249855995178, 0.9915472865104675, 0.9852920770645142, 0.9825785756111145, 0.05945025756955147, 0.12465376406908035, 0.8131260871887207, 0.0019177502254024148, 0.9728274345397949, 0.9909678101539612, 0.9895130395889282, 0.2614046633243561, 0.5788245797157288, 0.16057714819908142, 0.8921624422073364, 0.10606126487255096, 0.9948987364768982, 0.3692172169685364, 0.629841148853302, 0.9868086576461792, 0.9721271991729736, 0.7756941914558411, 0.10249792784452438, 0.10249792784452438, 0.018981097266077995, 0.9751784801483154, 0.9781361222267151, 0.9909583330154419, 0.9980484247207642, 0.0005920448456890881, 0.9987797141075134, 0.985568106174469, 0.9813809394836426, 0.9722607135772705, 0.02653813362121582, 0.9972134232521057, 0.9765225052833557, 0.9950661659240723, 0.9936789870262146, 0.9952017068862915, 0.9912497401237488, 0.6101799011230469, 0.3876436948776245, 0.996553361415863, 0.7726573348045349, 0.22075922787189484, 0.989289402961731, 0.9938878417015076, 0.9726256728172302, 0.9731041789054871, 0.9919369220733643, 0.007413579151034355, 0.9649903178215027, 0.028382068499922752, 0.9885269999504089, 0.9908522963523865, 0.9856708645820618, 0.9974839687347412, 0.9764648079872131, 0.9343544244766235, 0.06518752127885818, 0.9895300269126892, 0.010256994515657425, 0.9862067103385925, 0.013037671335041523, 0.9875180125236511, 0.9785038828849792, 0.9943966269493103, 0.979282021522522, 0.9841024875640869, 0.9641430377960205, 0.03402857854962349, 0.23313501477241516, 0.01024769339710474, 0.717338502407074, 0.03842885047197342, 0.9818090200424194, 0.5230454802513123, 0.4754958748817444, 0.9773911237716675, 0.3625325858592987, 0.2654609978199005, 0.3684757351875305, 0.003962104674428701, 0.9972471594810486, 0.9975963830947876, 0.9820845127105713, 0.9910799264907837, 0.9949309229850769, 0.5954065918922424, 0.402879923582077, 0.9744886755943298, 0.017880525439977646, 0.9894332885742188, 0.9931271076202393, 0.16641929745674133, 0.8261529207229614, 0.9903303384780884, 0.9861558675765991, 0.9837982654571533, 0.015135357156395912, 0.05512132868170738, 0.9064396023750305, 0.03674755245447159, 0.968212366104126, 0.4123843312263489, 0.2335188388824463, 0.15402306616306305, 0.04471637308597565, 0.15402306616306305, 0.9620625972747803, 0.9970938563346863, 0.05325297266244888, 0.6869633197784424, 0.11715654283761978, 0.06922886520624161, 0.06922886520624161, 0.7020766735076904, 0.271953821182251, 0.004034923389554024, 0.020981602370738983, 0.9964067935943604, 0.3172153830528259, 0.6788409352302551, 0.9977267384529114, 0.9975979924201965, 0.9939948320388794, 0.9793870449066162, 0.9889212846755981, 0.07397119700908661, 0.8543673157691956, 0.07027263194322586, 0.9904084205627441, 0.9867537617683411, 0.6250263452529907, 0.3343164324760437, 0.0007650261395610869, 0.0397813580930233, 0.952282190322876, 0.9969231486320496, 0.6983291506767273, 0.3003842234611511, 0.6587846875190735, 0.34004080295562744, 0.9976109862327576, 0.15920014679431915, 0.8378955125808716, 0.9955039620399475, 0.9968027472496033, 0.9873960018157959, 0.21490654349327087, 0.7650672793388367, 0.017192523926496506, 0.990833044052124, 0.004740827716886997, 0.9663040041923523, 0.03286748379468918, 0.9845544099807739, 0.9699599742889404, 0.996911346912384, 0.9997692108154297, 0.9934133887290955, 0.9980315566062927, 0.6796866059303284, 0.17863082885742188, 0.14008808135986328, 0.0014824134996160865, 0.9518201947212219, 0.04093850404024124, 0.027796214446425438, 0.7535862922668457, 0.13280414044857025, 0.04015008732676506, 0.0432385578751564, 0.06787331402301788, 0.9032371640205383, 0.026105118915438652, 0.8039896488189697, 0.11855440586805344, 0.0763108879327774, 0.9886234998703003, 0.9854516386985779, 0.11843455582857132, 0.8764157295227051, 0.9920154809951782, 0.1368580162525177, 0.11404834687709808, 0.7486938238143921, 0.9734598398208618, 0.7736185789108276, 0.13900958001613617, 0.05238042399287224, 0.032234106212854385, 0.9577053189277649, 0.9896393418312073, 0.2886771559715271, 0.7075420022010803, 0.989104688167572, 0.9849423170089722, 0.9225234985351562, 0.02858523465692997, 0.04677583649754524, 0.9755644202232361, 0.9980599880218506, 0.6489406228065491, 0.013825632631778717, 0.3361356854438782, 0.988632082939148, 0.05281588435173035, 0.9431407451629639, 0.9667160511016846, 0.9781690835952759, 0.9852814078330994, 0.9793106317520142, 0.9895658493041992], \"Term\": [\"act\", \"activity\", \"activity\", \"actor\", \"adopt\", \"adoption\", \"age\", \"agent\", \"agreement\", \"alliance\", \"alone\", \"also\", \"also\", \"also\", \"also\", \"altruism\", \"altruistic\", \"amplitude\", \"analysis\", \"analysis\", \"application\", \"application\", \"approach\", \"approach\", \"aspect\", \"associate\", \"associate\", \"associate\", \"associate\", \"attack\", \"attention\", \"available\", \"avoid\", \"balance\", \"base\", \"base\", \"base\", \"behavior\", \"behavior\", \"behavior\", \"behaviour\", \"behaviour\", \"behaviour\", \"benefit\", \"black\", \"bound\", \"brain\", \"case\", \"case\", \"case\", \"cell\", \"choice\", \"choice\", \"choice\", \"class\", \"classical\", \"cluster\", \"cluster\", \"coevolutionary\", \"collective\", \"collective\", \"combine\", \"common\", \"community\", \"company\", \"complex\", \"concept\", \"concept\", \"connected\", \"connectivity\", \"consider\", \"consider\", \"consider\", \"constraint\", \"construct\", \"construct\", \"contribute\", \"contribution\", \"control\", \"control\", \"cooperate\", \"cooperate\", \"cooperation\", \"cooperation\", \"cooperation\", \"cooperative\", \"cooperative\", \"cooperative\", \"cooperator\", \"cooperator\", \"cooperator\", \"correlate\", \"correlate\", \"cost\", \"costly\", \"critical\", \"crowdsource\", \"customer\", \"datum\", \"decision\", \"defector\", \"defector\", \"definition\", \"degree\", \"demographic\", \"design\", \"design\", \"determinant\", \"develop\", \"develop\", \"different\", \"different\", \"different\", \"different\", \"dilemma\", \"dilemma\", \"dilemma\", \"domain\", \"dynamic\", \"dynamical\", \"effect\", \"effect\", \"effect\", \"effect\", \"effort\", \"element\", \"emergence\", \"emergence\", \"emergence\", \"emotional\", \"entangle\", \"enterprise\", \"equilibrium\", \"equilibrium\", \"equilibrium\", \"evidence\", \"evolution\", \"evolution\", \"evolution\", \"evolutionary\", \"evolutionary\", \"exchange\", \"exchange\", \"experiment\", \"experiment\", \"experiment\", \"experiment\", \"explain\", \"explain\", \"explain\", \"expression\", \"expression\", \"extend\", \"extinction\", \"face\", \"face\", \"face\", \"fast\", \"feature\", \"feedback\", \"female\", \"find\", \"find\", \"find\", \"fluctuation\", \"form\", \"form\", \"form\", \"formation\", \"fraction\", \"fraction\", \"framework\", \"framework\", \"free\", \"free\", \"frustration\", \"gain\", \"game\", \"game\", \"game\", \"gene\", \"genotype\", \"give\", \"give\", \"give\", \"good\", \"good\", \"good\", \"graphs\", \"great\", \"great\", \"great\", \"group\", \"grow\", \"help\", \"hierarchical\", \"high\", \"high\", \"high\", \"high\", \"host\", \"however\", \"however\", \"however\", \"however\", \"hub\", \"human\", \"human\", \"human\", \"imitation\", \"incentive\", \"incentive\", \"increase\", \"increase\", \"increase\", \"individual\", \"individual\", \"individual\", \"infection\", \"influence\", \"influence\", \"influence\", \"influence\", \"information\", \"information\", \"information\", \"ingroup\", \"initial\", \"intention\", \"interaction\", \"interaction\", \"interaction\", \"introduce\", \"introduce\", \"introduce\", \"investigate\", \"investigate\", \"investigate\", \"investigate\", \"investigation\", \"involve\", \"involve\", \"iterate\", \"joint\", \"keep\", \"landscape\", \"latter\", \"lattice\", \"layer\", \"learn\", \"learning\", \"less\", \"less\", \"less\", \"level\", \"level\", \"level\", \"life\", \"line\", \"link\", \"locate\", \"loner\", \"make\", \"make\", \"make\", \"make\", \"male\", \"market\", \"measurement\", \"mechanism\", \"mechanism\", \"mechanism\", \"member\", \"member\", \"memory\", \"method\", \"method\", \"metric\", \"mobility\", \"model\", \"model\", \"model\", \"model\", \"monitor\", \"moral\", \"mutation\", \"neighbor\", \"network\", \"network\", \"node\", \"notion\", \"number\", \"number\", \"obtain\", \"online\", \"opponent\", \"organization\", \"other\", \"pair\", \"paper\", \"paper\", \"parameter\", \"participant\", \"participant\", \"participation\", \"partner\", \"pass\", \"path\", \"payoff\", \"payoff\", \"people\", \"people\", \"perception\", \"person\", \"perspective\", \"phase\", \"physical\", \"play\", \"play\", \"player\", \"player\", \"population\", \"population\", \"powerful\", \"practice\", \"preference\", \"price\", \"principle\", \"probability\", \"probability\", \"problem\", \"problem\", \"problem\", \"problem\", \"profit\", \"propose\", \"propose\", \"protocol\", \"provide\", \"provide\", \"provide\", \"provide\", \"public\", \"punishment\", \"quality\", \"quantization\", \"quantum\", \"random\", \"random\", \"rather\", \"rather\", \"rating\", \"ratio\", \"rational\", \"rational\", \"rationality\", \"receive\", \"reciprocity\", \"reciprocity\", \"region\", \"region\", \"region\", \"regulate\", \"relationship\", \"relationship\", \"relationship\", \"relationship\", \"relationship\", \"removal\", \"reputation\", \"research\", \"research\", \"research\", \"research\", \"research\", \"result\", \"result\", \"result\", \"result\", \"reward\", \"risk\", \"risk\", \"rule\", \"scale\", \"scheme\", \"scientific\", \"see\", \"self\", \"self\", \"self\", \"service\", \"sex\", \"show\", \"show\", \"show\", \"show\", \"significance\", \"simulation\", \"size\", \"size\", \"social\", \"social\", \"society\", \"solution\", \"solution\", \"space\", \"spatial\", \"specie\", \"spread\", \"spread\", \"spread\", \"stable\", \"stable\", \"state\", \"state\", \"statistical\", \"strain\", \"strategic\", \"strategy\", \"strong\", \"structure\", \"study\", \"study\", \"study\", \"study\", \"subject\", \"subject\", \"suggest\", \"suggest\", \"suggest\", \"suggest\", \"suggest\", \"support\", \"support\", \"support\", \"system\", \"system\", \"system\", \"task\", \"team\", \"tell\", \"tell\", \"theoretic\", \"theory\", \"theory\", \"theory\", \"tie\", \"time\", \"time\", \"time\", \"time\", \"tolerance\", \"topology\", \"transition\", \"transition\", \"trust\", \"tumor\", \"type\", \"type\", \"type\", \"unfair\", \"update\", \"use\", \"use\", \"use\", \"user\", \"utility\", \"utility\", \"virtual\", \"welfare\", \"woman\", \"year\", \"yet\"]}, \"R\": 30, \"lambda.step\": 0.01, \"plot.opts\": {\"xlab\": \"PC1\", \"ylab\": \"PC2\"}, \"topic.order\": [4, 5, 3, 2, 6, 1]};\n",
       "\n",
       "function LDAvis_load_lib(url, callback){\n",
       "  var s = document.createElement('script');\n",
       "  s.src = url;\n",
       "  s.async = true;\n",
       "  s.onreadystatechange = s.onload = callback;\n",
       "  s.onerror = function(){console.warn(\"failed to load library \" + url);};\n",
       "  document.getElementsByTagName(\"head\")[0].appendChild(s);\n",
       "}\n",
       "\n",
       "if(typeof(LDAvis) !== \"undefined\"){\n",
       "   // already loaded: just create the visualization\n",
       "   !function(LDAvis){\n",
       "       new LDAvis(\"#\" + \"ldavis_el5898949758284489032667427\", ldavis_el5898949758284489032667427_data);\n",
       "   }(LDAvis);\n",
       "}else if(typeof define === \"function\" && define.amd){\n",
       "   // require.js is available: use it to load d3/LDAvis\n",
       "   require.config({paths: {d3: \"https://cdnjs.cloudflare.com/ajax/libs/d3/3.5.5/d3.min\"}});\n",
       "   require([\"d3\"], function(d3){\n",
       "      window.d3 = d3;\n",
       "      LDAvis_load_lib(\"https://cdn.rawgit.com/bmabey/pyLDAvis/files/ldavis.v1.0.0.js\", function(){\n",
       "        new LDAvis(\"#\" + \"ldavis_el5898949758284489032667427\", ldavis_el5898949758284489032667427_data);\n",
       "      });\n",
       "    });\n",
       "}else{\n",
       "    // require.js not available: dynamically load d3 & LDAvis\n",
       "    LDAvis_load_lib(\"https://cdnjs.cloudflare.com/ajax/libs/d3/3.5.5/d3.min.js\", function(){\n",
       "         LDAvis_load_lib(\"https://cdn.rawgit.com/bmabey/pyLDAvis/files/ldavis.v1.0.0.js\", function(){\n",
       "                 new LDAvis(\"#\" + \"ldavis_el5898949758284489032667427\", ldavis_el5898949758284489032667427_data);\n",
       "            })\n",
       "         });\n",
       "}\n",
       "</script>"
      ],
      "text/plain": [
       "PreparedData(topic_coordinates=              x         y  topics  cluster       Freq\n",
       "topic                                                \n",
       "3     -0.218099 -0.105817       1        1  44.132702\n",
       "4     -0.179384  0.091151       2        1  23.967607\n",
       "2     -0.040406 -0.276994       3        1  14.015332\n",
       "1     -0.081485  0.273470       4        1   9.868976\n",
       "5      0.277361 -0.001089       5        1   4.118207\n",
       "0      0.242012  0.019279       6        1   3.897177, topic_info=     Category         Freq          Term        Total  loglift  logprob\n",
       "111   Default  1689.000000       network  1689.000000  30.0000  30.0000\n",
       "21    Default  2887.000000      strategy  2887.000000  29.0000  29.0000\n",
       "52    Default  2739.000000   cooperation  2739.000000  28.0000  28.0000\n",
       "845   Default  1408.000000        social  1408.000000  27.0000  27.0000\n",
       "69    Default  1852.000000        player  1852.000000  26.0000  26.0000\n",
       "...       ...          ...           ...          ...      ...      ...\n",
       "1114   Topic6    42.338833   participant   190.252518   1.7423  -5.1744\n",
       "691    Topic6    41.312897       control   169.331848   1.8342  -5.1989\n",
       "463    Topic6    31.868456       involve   120.676010   1.9134  -5.4584\n",
       "135    Topic6    30.772375     associate    97.778923   2.0888  -5.4934\n",
       "471    Topic6    30.860739  relationship   201.268555   1.3698  -5.4906\n",
       "\n",
       "[337 rows x 6 columns], token_table=      Topic      Freq      Term\n",
       "term                           \n",
       "659       2  0.994949       act\n",
       "1031      3  0.076205  activity\n",
       "1031      4  0.914459  activity\n",
       "896       4  0.986445     actor\n",
       "727       1  0.993127     adopt\n",
       "...     ...       ...       ...\n",
       "3373      6  0.966716   virtual\n",
       "945       5  0.978169   welfare\n",
       "1698      6  0.985281     woman\n",
       "1021      5  0.979311      year\n",
       "261       5  0.989566       yet\n",
       "\n",
       "[473 rows x 3 columns], R=30, lambda_step=0.01, plot_opts={'xlab': 'PC1', 'ylab': 'PC2'}, topic_order=[4, 5, 3, 2, 6, 1])"
      ]
     },
     "execution_count": 29,
     "metadata": {},
     "output_type": "execute_result"
    }
   ],
   "source": [
    "pyLDAvis.enable_notebook()\n",
    "vis = pyLDAvis.gensim.prepare(lda_model, corpus, id2word)\n",
    "vis"
   ]
  },
  {
   "cell_type": "code",
   "execution_count": 30,
   "metadata": {},
   "outputs": [
    {
     "name": "stdout",
     "output_type": "stream",
     "text": [
      "[(0,\n",
      "  '0.039*\"population\" + 0.028*\"evolutionary\" + 0.026*\"dynamic\" + 0.021*\"model\" '\n",
      "  '+ 0.014*\"selection\" + 0.013*\"result\" + 0.011*\"evolution\" + 0.011*\"evolve\" + '\n",
      "  '0.011*\"show\" + 0.010*\"process\"'),\n",
      " (1,\n",
      "  '0.105*\"game\" + 0.084*\"strategy\" + 0.053*\"player\" + 0.041*\"agent\" + '\n",
      "  '0.021*\"play\" + 0.018*\"dilemma\" + 0.016*\"state\" + 0.014*\"prisoner\" + '\n",
      "  '0.014*\"payoff\" + 0.013*\"equilibrium\"'),\n",
      " (2,\n",
      "  '0.024*\"behavior\" + 0.022*\"social\" + 0.019*\"human\" + 0.018*\"decision\" + '\n",
      "  '0.016*\"study\" + 0.016*\"experiment\" + 0.013*\"make\" + 0.013*\"suggest\" + '\n",
      "  '0.011*\"result\" + 0.011*\"behaviour\"'),\n",
      " (3,\n",
      "  '0.090*\"cooperation\" + 0.055*\"network\" + 0.024*\"interaction\" + '\n",
      "  '0.021*\"structure\" + 0.021*\"study\" + 0.019*\"evolution\" + 0.016*\"find\" + '\n",
      "  '0.014*\"behavior\" + 0.014*\"cooperative\" + 0.014*\"simulation\"'),\n",
      " (4,\n",
      "  '0.033*\"model\" + 0.027*\"theory\" + 0.017*\"system\" + 0.015*\"base\" + '\n",
      "  '0.015*\"paper\" + 0.014*\"problem\" + 0.013*\"propose\" + 0.011*\"present\" + '\n",
      "  '0.011*\"approach\" + 0.011*\"provide\"'),\n",
      " (5,\n",
      "  '0.048*\"individual\" + 0.030*\"group\" + 0.018*\"good\" + 0.017*\"social\" + '\n",
      "  '0.014*\"punishment\" + 0.013*\"level\" + 0.013*\"cost\" + 0.013*\"mechanism\" + '\n",
      "  '0.012*\"dilemma\" + 0.012*\"cooperative\"')]\n"
     ]
    }
   ],
   "source": [
    "pprint(model_list[max_index].print_topics())"
   ]
  },
  {
   "cell_type": "code",
   "execution_count": 31,
   "metadata": {},
   "outputs": [],
   "source": [
    "lda_model = gensim.models.ldamodel.LdaModel(corpus=corpus,\n",
    "                                           id2word=id2word,\n",
    "                                           num_topics=4, \n",
    "                                           random_state=100,\n",
    "                                           update_every=1,\n",
    "                                           chunksize=100,\n",
    "                                           passes=10,\n",
    "                                           alpha='auto',\n",
    "                                           per_word_topics=True)"
   ]
  },
  {
   "cell_type": "code",
   "execution_count": 32,
   "metadata": {},
   "outputs": [
    {
     "name": "stderr",
     "output_type": "stream",
     "text": [
      "//anaconda3/envs/literature/lib/python3.6/site-packages/pyLDAvis/_prepare.py:257: FutureWarning: Sorting because non-concatenation axis is not aligned. A future version\n",
      "of pandas will change to not sort by default.\n",
      "\n",
      "To accept the future behavior, pass 'sort=False'.\n",
      "\n",
      "To retain the current behavior and silence the warning, pass 'sort=True'.\n",
      "\n",
      "  return pd.concat([default_term_info] + list(topic_dfs))\n"
     ]
    },
    {
     "data": {
      "text/html": [
       "\n",
       "<link rel=\"stylesheet\" type=\"text/css\" href=\"https://cdn.rawgit.com/bmabey/pyLDAvis/files/ldavis.v1.0.0.css\">\n",
       "\n",
       "\n",
       "<div id=\"ldavis_el5898949926508405461185624\"></div>\n",
       "<script type=\"text/javascript\">\n",
       "\n",
       "var ldavis_el5898949926508405461185624_data = {\"mdsDat\": {\"x\": [0.17501794746967908, 0.13079348904008947, -0.010564843666062711, -0.2952465928437058], \"y\": [0.07096436874884142, -0.21586682639995491, 0.20582947209082986, -0.060927014439716425], \"topics\": [1, 2, 3, 4], \"cluster\": [1, 1, 1, 1], \"Freq\": [48.583702087402344, 26.112361907958984, 19.03557014465332, 6.268363952636719]}, \"tinfo\": {\"Category\": [\"Default\", \"Default\", \"Default\", \"Default\", \"Default\", \"Default\", \"Default\", \"Default\", \"Default\", \"Default\", \"Default\", \"Default\", \"Default\", \"Default\", \"Default\", \"Default\", \"Default\", \"Default\", \"Default\", \"Default\", \"Default\", \"Default\", \"Default\", \"Default\", \"Default\", \"Default\", \"Default\", \"Default\", \"Default\", \"Default\", \"Topic1\", \"Topic1\", \"Topic1\", \"Topic1\", \"Topic1\", \"Topic1\", \"Topic1\", \"Topic1\", \"Topic1\", \"Topic1\", \"Topic1\", \"Topic1\", \"Topic1\", \"Topic1\", \"Topic1\", \"Topic1\", \"Topic1\", \"Topic1\", \"Topic1\", \"Topic1\", \"Topic1\", \"Topic1\", \"Topic1\", \"Topic1\", \"Topic1\", \"Topic1\", \"Topic1\", \"Topic1\", \"Topic1\", \"Topic1\", \"Topic1\", \"Topic1\", \"Topic1\", \"Topic1\", \"Topic1\", \"Topic1\", \"Topic1\", \"Topic1\", \"Topic1\", \"Topic1\", \"Topic1\", \"Topic1\", \"Topic1\", \"Topic1\", \"Topic1\", \"Topic1\", \"Topic1\", \"Topic1\", \"Topic1\", \"Topic1\", \"Topic1\", \"Topic1\", \"Topic1\", \"Topic1\", \"Topic1\", \"Topic1\", \"Topic2\", \"Topic2\", \"Topic2\", \"Topic2\", \"Topic2\", \"Topic2\", \"Topic2\", \"Topic2\", \"Topic2\", \"Topic2\", \"Topic2\", \"Topic2\", \"Topic2\", \"Topic2\", \"Topic2\", \"Topic2\", \"Topic2\", \"Topic2\", \"Topic2\", \"Topic2\", \"Topic2\", \"Topic2\", \"Topic2\", \"Topic2\", \"Topic2\", \"Topic2\", \"Topic2\", \"Topic2\", \"Topic2\", \"Topic2\", \"Topic2\", \"Topic2\", \"Topic2\", \"Topic2\", \"Topic2\", \"Topic2\", \"Topic2\", \"Topic2\", \"Topic2\", \"Topic2\", \"Topic2\", \"Topic2\", \"Topic2\", \"Topic2\", \"Topic2\", \"Topic2\", \"Topic2\", \"Topic2\", \"Topic2\", \"Topic2\", \"Topic2\", \"Topic2\", \"Topic2\", \"Topic2\", \"Topic2\", \"Topic2\", \"Topic2\", \"Topic2\", \"Topic2\", \"Topic2\", \"Topic3\", \"Topic3\", \"Topic3\", \"Topic3\", \"Topic3\", \"Topic3\", \"Topic3\", \"Topic3\", \"Topic3\", \"Topic3\", \"Topic3\", \"Topic3\", \"Topic3\", \"Topic3\", \"Topic3\", \"Topic3\", \"Topic3\", \"Topic3\", \"Topic3\", \"Topic3\", \"Topic3\", \"Topic3\", \"Topic3\", \"Topic3\", \"Topic3\", \"Topic3\", \"Topic3\", \"Topic3\", \"Topic3\", \"Topic3\", \"Topic3\", \"Topic3\", \"Topic3\", \"Topic3\", \"Topic3\", \"Topic3\", \"Topic3\", \"Topic3\", \"Topic3\", \"Topic3\", \"Topic3\", \"Topic3\", \"Topic3\", \"Topic3\", \"Topic3\", \"Topic3\", \"Topic3\", \"Topic3\", \"Topic3\", \"Topic3\", \"Topic3\", \"Topic3\", \"Topic3\", \"Topic3\", \"Topic3\", \"Topic3\", \"Topic3\", \"Topic3\", \"Topic3\", \"Topic3\", \"Topic3\", \"Topic3\", \"Topic3\", \"Topic4\", \"Topic4\", \"Topic4\", \"Topic4\", \"Topic4\", \"Topic4\", \"Topic4\", \"Topic4\", \"Topic4\", \"Topic4\", \"Topic4\", \"Topic4\", \"Topic4\", \"Topic4\", \"Topic4\", \"Topic4\", \"Topic4\", \"Topic4\", \"Topic4\", \"Topic4\", \"Topic4\", \"Topic4\", \"Topic4\", \"Topic4\", \"Topic4\", \"Topic4\", \"Topic4\", \"Topic4\", \"Topic4\", \"Topic4\", \"Topic4\", \"Topic4\", \"Topic4\", \"Topic4\", \"Topic4\", \"Topic4\", \"Topic4\", \"Topic4\", \"Topic4\", \"Topic4\", \"Topic4\", \"Topic4\", \"Topic4\"], \"Freq\": [2765.0, 2770.0, 1454.0, 1219.0, 1665.0, 3350.0, 705.0, 1785.0, 1152.0, 454.0, 734.0, 526.0, 799.0, 956.0, 948.0, 207.0, 820.0, 504.0, 540.0, 527.0, 604.0, 1038.0, 345.0, 1146.0, 517.0, 334.0, 644.0, 397.0, 313.0, 394.0, 2769.7353515625, 1151.3392333984375, 819.9408569335938, 506.70648193359375, 412.59814453125, 359.0542907714844, 328.8385314941406, 322.73211669921875, 322.5174255371094, 316.8067626953125, 1660.1807861328125, 271.17291259765625, 257.51641845703125, 952.1282348632812, 231.69630432128906, 224.17738342285156, 214.9951171875, 207.59213256835938, 175.47698974609375, 171.86691284179688, 165.94125366210938, 159.3915252685547, 158.2281036376953, 153.6743621826172, 151.1071319580078, 149.44717407226562, 270.5122375488281, 148.30906677246094, 134.32781982421875, 130.35455322265625, 189.8817901611328, 1723.244140625, 981.0567016601562, 621.0310668945312, 199.454345703125, 544.273681640625, 2743.561279296875, 523.5384521484375, 372.5655212402344, 680.7366943359375, 626.6124877929688, 317.9200134277344, 294.9786071777344, 1177.05859375, 601.252685546875, 601.0995483398438, 911.55712890625, 817.101806640625, 759.88232421875, 787.76953125, 727.1986083984375, 564.2577514648438, 498.51702880859375, 441.42535400390625, 487.6414794921875, 525.9761352539062, 704.9998779296875, 525.9822387695312, 344.51409912109375, 333.88458251953125, 312.662841796875, 250.2043914794922, 254.96884155273438, 254.64540100097656, 208.47193908691406, 177.6278839111328, 122.04887390136719, 94.44450378417969, 88.6297378540039, 87.16829681396484, 82.76985168457031, 82.38368225097656, 89.24321746826172, 76.54029846191406, 73.6075439453125, 83.1778564453125, 120.48754119873047, 79.62499237060547, 66.88223266601562, 67.27488708496094, 71.43118286132812, 70.28353881835938, 76.3559341430664, 63.3366584777832, 64.75675201416016, 63.62733459472656, 1408.94140625, 179.79617309570312, 333.1843566894531, 1058.2298583984375, 226.4998779296875, 292.617431640625, 267.92120361328125, 219.08154296875, 261.4944152832031, 2238.986572265625, 446.4347229003906, 166.8871612548828, 185.9254608154297, 446.1681213378906, 618.3997802734375, 417.16741943359375, 152.7447509765625, 452.36163330078125, 621.1513061523438, 393.06134033203125, 430.0987243652344, 387.28131103515625, 339.3309020996094, 448.7291564941406, 368.6207580566406, 286.33953857421875, 384.7035217285156, 325.148681640625, 300.4820556640625, 288.6777648925781, 452.89996337890625, 159.9728240966797, 122.9468765258789, 114.17476654052734, 111.88484954833984, 99.29629516601562, 112.87744140625, 98.4133071899414, 99.00748443603516, 90.30963897705078, 86.84063720703125, 86.15568542480469, 80.4437255859375, 74.72627258300781, 65.60507202148438, 65.4054183959961, 62.85496139526367, 61.10207748413086, 61.35479736328125, 61.381839752197266, 65.9475326538086, 61.8703727722168, 57.778526306152344, 57.12370300292969, 60.88353729248047, 55.978729248046875, 55.12754821777344, 53.9059944152832, 53.40165328979492, 55.787841796875, 99.57621765136719, 62.5965461730957, 149.10089111328125, 192.5810546875, 108.12509155273438, 187.25990295410156, 373.1116027832031, 288.83416748046875, 471.4118957519531, 271.59033203125, 135.09176635742188, 114.53266906738281, 81.30296325683594, 163.20944213867188, 168.46888732910156, 121.243896484375, 176.08811950683594, 113.96144104003906, 336.5144348144531, 169.46121215820312, 550.4293212890625, 135.31948852539062, 205.30926513671875, 195.8520050048828, 276.2153625488281, 157.7002410888672, 160.10398864746094, 142.59288024902344, 204.4304962158203, 156.89154052734375, 122.7785873413086, 129.33480834960938, 131.50701904296875, 206.78884887695312, 83.98131561279297, 88.34918212890625, 77.02845001220703, 64.2160415649414, 63.351314544677734, 65.36371612548828, 61.40265655517578, 49.76081085205078, 46.39921951293945, 52.57508850097656, 57.2360725402832, 42.48123550415039, 40.81361389160156, 55.2072639465332, 39.28093719482422, 38.751285552978516, 38.568145751953125, 38.1467170715332, 35.918678283691406, 36.34606170654297, 42.08924865722656, 32.92626953125, 30.63517951965332, 30.901472091674805, 32.628108978271484, 31.122432708740234, 31.248075485229492, 29.082868576049805, 30.253807067871094, 33.87357711791992, 39.84181594848633, 56.775123596191406, 68.45087432861328, 55.55270004272461, 60.27665710449219, 41.91458511352539, 49.281578063964844, 49.72780990600586, 57.13713836669922, 52.59965515136719, 44.822635650634766, 39.09120178222656], \"Term\": [\"cooperation\", \"strategy\", \"social\", \"individual\", \"network\", \"game\", \"group\", \"player\", \"agent\", \"decision\", \"theory\", \"defector\", \"cooperator\", \"evolutionary\", \"behavior\", \"cell\", \"dynamic\", \"increase\", \"mechanism\", \"make\", \"level\", \"population\", \"punishment\", \"use\", \"human\", \"scale\", \"cooperative\", \"problem\", \"promote\", \"information\", \"strategy\", \"agent\", \"dynamic\", \"structure\", \"rule\", \"simulation\", \"update\", \"iterate\", \"spatial\", \"parameter\", \"network\", \"neighbor\", \"opponent\", \"evolutionary\", \"complex\", \"phase\", \"learn\", \"lattice\", \"space\", \"transition\", \"memory\", \"learning\", \"extend\", \"adopt\", \"mutation\", \"imitation\", \"random\", \"class\", \"heterogeneity\", \"noise\", \"obtain\", \"player\", \"population\", \"payoff\", \"stable\", \"state\", \"game\", \"play\", \"number\", \"evolution\", \"different\", \"probability\", \"introduce\", \"model\", \"system\", \"give\", \"study\", \"result\", \"use\", \"show\", \"dilemma\", \"interaction\", \"also\", \"base\", \"find\", \"cooperation\", \"group\", \"defector\", \"punishment\", \"scale\", \"promote\", \"reciprocity\", \"other\", \"reward\", \"partner\", \"reputation\", \"threshold\", \"ratio\", \"behavioral\", \"altruism\", \"costly\", \"contribute\", \"coordination\", \"interestingly\", \"altruistic\", \"determinant\", \"decrease\", \"fast\", \"indirect\", \"punish\", \"better\", \"adoption\", \"pressure\", \"intention\", \"alliance\", \"connected\", \"social\", \"subject\", \"cost\", \"individual\", \"help\", \"free\", \"benefit\", \"society\", \"public\", \"cooperation\", \"increase\", \"participant\", \"collective\", \"mechanism\", \"cooperator\", \"human\", \"less\", \"level\", \"behavior\", \"effect\", \"cooperative\", \"high\", \"good\", \"show\", \"find\", \"however\", \"study\", \"result\", \"interaction\", \"dilemma\", \"decision\", \"preference\", \"incentive\", \"user\", \"measurement\", \"team\", \"available\", \"rationality\", \"aspect\", \"policy\", \"market\", \"perspective\", \"service\", \"price\", \"bayesian\", \"moral\", \"article\", \"practice\", \"profit\", \"notion\", \"protocol\", \"sharing\", \"company\", \"commitment\", \"right\", \"review\", \"supply\", \"demand\", \"quality\", \"emotion\", \"trust\", \"quantization\", \"datum\", \"strategic\", \"knowledge\", \"design\", \"make\", \"information\", \"theory\", \"problem\", \"concept\", \"economic\", \"communication\", \"solution\", \"quantum\", \"rational\", \"approach\", \"test\", \"use\", \"classical\", \"game\", \"resource\", \"paper\", \"provide\", \"model\", \"propose\", \"equilibrium\", \"framework\", \"dilemma\", \"base\", \"research\", \"present\", \"give\", \"cell\", \"gene\", \"attack\", \"sex\", \"expression\", \"phenotype\", \"age\", \"detect\", \"functional\", \"protein\", \"rating\", \"exclusion\", \"strain\", \"tumor\", \"leave\", \"male\", \"infection\", \"host\", \"female\", \"man\", \"sample\", \"position\", \"virus\", \"woman\", \"scanning\", \"emotional\", \"ingroup\", \"nest\", \"frustration\", \"removal\", \"virtual\", \"tell\", \"brain\", \"specie\", \"growth\", \"task\", \"cheater\", \"genetic\", \"trait\", \"face\", \"measure\", \"increase\", \"study\"], \"Total\": [2765.0, 2770.0, 1454.0, 1219.0, 1665.0, 3350.0, 705.0, 1785.0, 1152.0, 454.0, 734.0, 526.0, 799.0, 956.0, 948.0, 207.0, 820.0, 504.0, 540.0, 527.0, 604.0, 1038.0, 345.0, 1146.0, 517.0, 334.0, 644.0, 397.0, 313.0, 394.0, 2770.7216796875, 1152.3179931640625, 820.9308471679688, 507.6845703125, 413.60040283203125, 360.0339660644531, 329.8226623535156, 323.7117614746094, 323.50042724609375, 317.80816650390625, 1665.9388427734375, 272.1437072753906, 258.49578857421875, 956.1237182617188, 232.6959228515625, 225.1705322265625, 215.9808349609375, 208.5731964111328, 176.46180725097656, 172.87278747558594, 166.9228057861328, 160.3723602294922, 159.2291259765625, 154.6623992919922, 152.09829711914062, 150.4307861328125, 272.3143005371094, 149.30853271484375, 135.35382080078125, 131.35179138183594, 191.70997619628906, 1785.219970703125, 1038.2110595703125, 651.9011840820312, 202.7091827392578, 591.7330322265625, 3350.804443359375, 576.76416015625, 400.9336853027344, 779.2796020507812, 716.9714965820312, 340.09906005859375, 316.0128173828125, 1544.6029052734375, 721.2543334960938, 750.6821899414062, 1335.874267578125, 1199.22265625, 1146.6795654296875, 1261.7353515625, 1220.655517578125, 865.4119873046875, 742.791015625, 665.02490234375, 859.9203491210938, 2765.6279296875, 705.9246826171875, 526.92822265625, 345.4242248535156, 334.8590087890625, 313.5848693847656, 251.1157684326172, 255.908447265625, 255.59584045410156, 209.3918914794922, 178.54026794433594, 122.9916763305664, 95.38986206054688, 89.588134765625, 88.1242904663086, 83.69636535644531, 83.31842041015625, 90.26599884033203, 77.50798034667969, 74.55492401123047, 84.2517318725586, 122.06855773925781, 80.70330810546875, 67.78986358642578, 68.1890640258789, 72.40430450439453, 71.26366424560547, 77.4668960571289, 64.26019287109375, 65.70953369140625, 64.59088134765625, 1454.6622314453125, 185.03640747070312, 360.0210266113281, 1219.0780029296875, 241.8123016357422, 317.04315185546875, 289.26629638671875, 234.26675415039062, 282.801025390625, 2765.6279296875, 504.6646423339844, 178.85121154785156, 201.58485412597656, 540.665283203125, 799.1376342773438, 517.3271484375, 167.913818359375, 604.92822265625, 948.602783203125, 557.517822265625, 644.37060546875, 582.4658203125, 509.3388671875, 1261.7353515625, 859.9203491210938, 541.2040405273438, 1335.874267578125, 1199.22265625, 865.4119873046875, 1220.655517578125, 454.39288330078125, 160.90870666503906, 123.87890625, 115.09365844726562, 112.81395721435547, 100.20964050292969, 113.91779327392578, 99.32801818847656, 99.94112396240234, 91.23262023925781, 87.73004913330078, 87.10127258300781, 81.35965728759766, 75.61843872070312, 66.52713775634766, 66.32939910888672, 63.76779556274414, 62.019222259521484, 62.28446578979492, 62.31682586669922, 66.9531021118164, 62.81658172607422, 58.68370819091797, 58.0306396484375, 61.85960006713867, 56.89779281616211, 56.041072845458984, 54.820579528808594, 54.32143783569336, 56.75613021850586, 101.65626525878906, 63.76646041870117, 161.13784790039062, 212.26673889160156, 119.55628204345703, 225.6595001220703, 527.3673706054688, 394.2630920410156, 734.9309692382812, 397.3871765136719, 166.91915893554688, 139.70458984375, 91.21939849853516, 240.62484741210938, 256.9776306152344, 165.900146484375, 296.5467834472656, 157.2515869140625, 1146.6795654296875, 336.7482604980469, 3350.804443359375, 220.7588348388672, 553.5394287109375, 500.7120361328125, 1544.6029052734375, 376.37286376953125, 445.48504638671875, 314.9303894042969, 1220.655517578125, 665.02490234375, 197.686767578125, 456.38275146484375, 750.6821899414062, 207.67108154296875, 84.86200714111328, 89.37388610839844, 78.0508804321289, 65.113525390625, 64.23958587646484, 66.32733917236328, 62.30865478515625, 50.65646743774414, 47.276458740234375, 53.59965896606445, 58.38526916503906, 43.35223388671875, 41.675846099853516, 56.38580322265625, 40.1417350769043, 39.61522674560547, 39.4364013671875, 39.00827407836914, 36.80192565917969, 37.24238967895508, 43.16933059692383, 33.78752899169922, 31.509693145751953, 31.786911010742188, 33.56491470336914, 32.01947021484375, 32.17115020751953, 30.001779556274414, 31.213666915893555, 35.143409729003906, 42.92417907714844, 68.78087615966797, 98.07461547851562, 83.89791870117188, 107.5709228515625, 55.33539962768555, 89.83175659179688, 100.44265747070312, 169.53402709960938, 173.28457641601562, 504.6646423339844, 1335.874267578125], \"loglift\": [30.0, 29.0, 28.0, 27.0, 26.0, 25.0, 24.0, 23.0, 22.0, 21.0, 20.0, 19.0, 18.0, 17.0, 16.0, 15.0, 14.0, 13.0, 12.0, 11.0, 10.0, 9.0, 8.0, 7.0, 6.0, 5.0, 4.0, 3.0, 2.0, 1.0, 0.7214999794960022, 0.7210000157356262, 0.7207000255584717, 0.7200000286102295, 0.7195000052452087, 0.7192000150680542, 0.7189000248908997, 0.7189000248908997, 0.7188000082969666, 0.7186999917030334, 0.7184000015258789, 0.7182999849319458, 0.7181000113487244, 0.7177000045776367, 0.7175999879837036, 0.7174999713897705, 0.7172999978065491, 0.717199981212616, 0.7163000106811523, 0.7160000205039978, 0.7160000205039978, 0.7156999707221985, 0.7156000137329102, 0.715499997138977, 0.7153000235557556, 0.7153000235557556, 0.7152000069618225, 0.7152000069618225, 0.7142999768257141, 0.7142999768257141, 0.7123000025749207, 0.6865000128746033, 0.6653000116348267, 0.6733999848365784, 0.7056999802589417, 0.6383000016212463, 0.5218999981880188, 0.6251000165939331, 0.6485000252723694, 0.5867000222206116, 0.5871999859809875, 0.6543999910354614, 0.652999997138977, 0.45010000467300415, 0.539900004863739, 0.49970000982284546, 0.33970001339912415, 0.33820000290870667, 0.31040000915527344, 0.2508000135421753, 0.20389999449253082, 0.29420000314712524, 0.3231000006198883, 0.31209999322891235, 0.15459999442100525, -0.9379000067710876, 1.3415000438690186, 1.340999960899353, 1.3401000499725342, 1.3398000001907349, 1.3398000001907349, 1.3391000032424927, 1.3391000032424927, 1.3389999866485596, 1.3384000062942505, 1.3375999927520752, 1.3351000547409058, 1.332800030708313, 1.3320000171661377, 1.3319000005722046, 1.3315999507904053, 1.3315000534057617, 1.3314000368118286, 1.330199956893921, 1.3300000429153442, 1.3299000263214111, 1.329699993133545, 1.329300045967102, 1.329300045967102, 1.329300045967102, 1.329200029373169, 1.3288999795913696, 1.3282999992370605, 1.3282999992370605, 1.3281999826431274, 1.3277000188827515, 1.3107999563217163, 1.3140000104904175, 1.2653000354766846, 1.201300024986267, 1.2773000001907349, 1.2625999450683594, 1.2661000490188599, 1.2756999731063843, 1.2644000053405762, 1.131500005722046, 1.2201999425888062, 1.2734999656677246, 1.2618999481201172, 1.1506999731063843, 1.086400032043457, 1.1275999546051025, 1.2481000423431396, 1.0520999431610107, 0.9193000197410583, 0.9932000041007996, 0.9384999871253967, 0.9345999956130981, 0.9366000294685364, 0.30889999866485596, 0.49570000171661377, 0.7060999870300293, 0.09790000319480896, 0.03759999945759773, 0.2849000096321106, -0.09910000115633011, 1.6555999517440796, 1.652999997138977, 1.6512999534606934, 1.6507999897003174, 1.6505999565124512, 1.6497000455856323, 1.6497000455856323, 1.6496000289916992, 1.6495000123977661, 1.6486999988555908, 1.6486999988555908, 1.6478999853134155, 1.6475000381469727, 1.6469999551773071, 1.6448999643325806, 1.6447999477386475, 1.6444000005722046, 1.6440000534057617, 1.6438000202178955, 1.6437000036239624, 1.6437000036239624, 1.6437000036239624, 1.6433000564575195, 1.6431000232696533, 1.6430000066757202, 1.6426000595092773, 1.6424000263214111, 1.6419999599456787, 1.641800045967102, 1.641700029373169, 1.638200044631958, 1.6403000354766846, 1.5812000036239624, 1.5614999532699585, 1.55840003490448, 1.4723000526428223, 1.3128000497817993, 1.3476999998092651, 1.2148000001907349, 1.2782000303268433, 1.4472999572753906, 1.4601999521255493, 1.5437999963760376, 1.2706999778747559, 1.2366000413894653, 1.3452999591827393, 1.1375999450683594, 1.336899995803833, 0.43290001153945923, 0.972100019454956, -0.14740000665187836, 1.1693999767303467, 0.6669999957084656, 0.7202000021934509, -0.0625, 0.7889999747276306, 0.6355000138282776, 0.8665000200271606, -0.12809999287128448, 0.21459999680519104, 1.1826000213623047, 0.3978999853134155, -0.08309999853372574, 2.765399932861328, 2.759200096130371, 2.7581000328063965, 2.756500005722046, 2.7558000087738037, 2.75570011138916, 2.755000114440918, 2.755000114440918, 2.751800060272217, 2.7509000301361084, 2.7504000663757324, 2.749799966812134, 2.7493999004364014, 2.748699903488159, 2.748500108718872, 2.747999906539917, 2.7476000785827637, 2.7474000453948975, 2.747299909591675, 2.7453999519348145, 2.745300054550171, 2.74429988861084, 2.743799924850464, 2.741499900817871, 2.7414000034332275, 2.741300106048584, 2.7411999702453613, 2.740499973297119, 2.7385001182556152, 2.7383999824523926, 2.7328999042510986, 2.6951000690460205, 2.5778000354766846, 2.4100000858306885, 2.3573999404907227, 2.1903998851776123, 2.4918999671936035, 2.169300079345703, 2.0666000843048096, 1.6821000576019287, 1.5773999691009521, 0.34850001335144043, -0.7617999911308289], \"logprob\": [30.0, 29.0, 28.0, 27.0, 26.0, 25.0, 24.0, 23.0, 22.0, 21.0, 20.0, 19.0, 18.0, 17.0, 16.0, 15.0, 14.0, 13.0, 12.0, 11.0, 10.0, 9.0, 8.0, 7.0, 6.0, 5.0, 4.0, 3.0, 2.0, 1.0, -3.5165998935699463, -4.394400119781494, -4.73390007019043, -5.215199947357178, -5.420599937438965, -5.559599876403809, -5.647500038146973, -5.666299819946289, -5.666900157928467, -5.684800148010254, -4.02839994430542, -5.8403000831604, -5.892000198364258, -4.584400177001953, -5.997700214385986, -6.030700206756592, -6.072500228881836, -6.107500076293945, -6.275599956512451, -6.29640007019043, -6.331500053405762, -6.371699810028076, -6.3790998458862305, -6.408299922943115, -6.425099849700928, -6.436200141906738, -5.842800140380859, -6.44379997253418, -6.542799949645996, -6.572800159454346, -6.196700096130371, -3.9911000728607178, -4.554500102996826, -5.01170015335083, -6.147500038146973, -5.143599987030029, -3.526099920272827, -5.182499885559082, -5.52269983291626, -4.919899940490723, -5.002799987792969, -5.681300163269043, -5.756199836730957, -4.372300148010254, -5.044099807739258, -5.044300079345703, -4.627900123596191, -4.737299919128418, -4.809899806976318, -4.773900032043457, -4.853899955749512, -5.107600212097168, -5.231500148773193, -5.353099822998047, -5.253499984741211, -5.177800178527832, -4.263999938964844, -4.5569000244140625, -4.980100154876709, -5.01140022277832, -5.077099800109863, -5.299900054931641, -5.281099796295166, -5.282299995422363, -5.482399940490723, -5.642499923706055, -6.0177998542785645, -6.274199962615967, -6.337699890136719, -6.354400157928467, -6.406199932098389, -6.410799980163574, -6.3308000564575195, -6.484399795532227, -6.523499965667725, -6.401199817657471, -6.030700206756592, -6.444900035858154, -6.61929988861084, -6.613399982452393, -6.553500175476074, -6.569699764251709, -6.486800193786621, -6.673799991607666, -6.651599884033203, -6.6691999435424805, -3.5715999603271484, -5.63040018081665, -5.013500213623047, -3.8578999042510986, -5.399499893188477, -5.1433000564575195, -5.231500148773193, -5.432799816131592, -5.255799770355225, -3.1084001064300537, -4.720900058746338, -5.704899787902832, -5.59689998626709, -4.721499919891357, -4.395100116729736, -4.788700103759766, -5.793399810791016, -4.707699775695801, -4.390600204467773, -4.848199844360352, -4.758200168609619, -4.863100051879883, -4.995200157165527, -4.715799808502197, -4.912399768829346, -5.164999961853027, -4.869699954986572, -5.037899971008301, -5.116799831390381, -5.156899929046631, -4.390399932861328, -5.431099891662598, -5.694399833679199, -5.768400192260742, -5.788599967956543, -5.9079999923706055, -5.779799938201904, -5.916900157928467, -5.910900115966797, -6.002900123596191, -6.041999816894531, -6.050000190734863, -6.118599891662598, -6.192299842834473, -6.322500228881836, -6.325500011444092, -6.365300178527832, -6.393599987030029, -6.389400005340576, -6.388999938964844, -6.317299842834473, -6.381100177764893, -6.44950008392334, -6.460899829864502, -6.397200107574463, -6.481100082397461, -6.496500015258789, -6.518899917602539, -6.528299808502197, -6.484600067138672, -5.905200004577637, -6.3694000244140625, -5.501500129699707, -5.24560022354126, -5.822800159454346, -5.273600101470947, -4.584199905395508, -4.8403000831604, -4.350399971008301, -4.901800155639648, -5.600200176239014, -5.7652997970581055, -6.107900142669678, -5.411099910736084, -5.37939977645874, -5.7083001136779785, -5.335100173950195, -5.770299911499023, -4.6875, -5.373499870300293, -4.195400238037109, -5.598499774932861, -5.181600093841553, -5.228799819946289, -4.884900093078613, -5.445400238037109, -5.430300235748291, -5.54610013961792, -5.1859002113342285, -5.4506001472473145, -5.695700168609619, -5.643700122833252, -5.627099990844727, -4.063600063323975, -4.964700222015381, -4.914000034332275, -5.05109977722168, -5.233099937438965, -5.246600151062012, -5.215400218963623, -5.277900218963623, -5.488100051879883, -5.558000087738037, -5.43310022354126, -5.348100185394287, -5.646299839019775, -5.686299800872803, -5.384200096130371, -5.724599838256836, -5.7382001876831055, -5.7428998947143555, -5.753900051116943, -5.8140997886657715, -5.802199840545654, -5.6554999351501465, -5.901100158691406, -5.973199844360352, -5.9644999504089355, -5.910099983215332, -5.957399845123291, -5.953400135040283, -6.025199890136719, -5.9857001304626465, -5.872700214385986, -5.710400104522705, -5.356200218200684, -5.1691999435424805, -5.377999782562256, -5.29640007019043, -5.6596999168396, -5.497799873352051, -5.488800048828125, -5.349899768829346, -5.432600021362305, -5.592599868774414, -5.729400157928467]}, \"token.table\": {\"Topic\": [1, 2, 4, 1, 2, 1, 2, 3, 2, 2, 1, 3, 3, 3, 4, 3, 1, 2, 3, 3, 1, 2, 2, 2, 4, 2, 3, 4, 4, 2, 4, 1, 1, 3, 2, 3, 3, 2, 3, 4, 3, 1, 1, 3, 2, 2, 1, 2, 1, 2, 1, 2, 2, 2, 3, 2, 1, 3, 4, 2, 3, 2, 4, 2, 3, 1, 3, 4, 2, 1, 2, 3, 1, 2, 3, 1, 2, 3, 1, 2, 4, 3, 4, 1, 3, 1, 2, 1, 2, 4, 4, 1, 2, 3, 4, 2, 4, 1, 2, 3, 1, 3, 1, 2, 4, 4, 1, 2, 3, 4, 1, 4, 1, 2, 3, 1, 2, 3, 2, 1, 4, 2, 3, 1, 1, 2, 3, 4, 4, 1, 2, 3, 4, 2, 3, 1, 3, 1, 2, 4, 2, 1, 2, 4, 1, 2, 3, 4, 2, 1, 2, 2, 1, 2, 1, 2, 3, 1, 1, 1, 4, 1, 2, 3, 4, 1, 2, 4, 1, 2, 3, 4, 4, 4, 3, 1, 2, 3, 4, 3, 1, 2, 1, 1, 2, 3, 3, 1, 1, 4, 1, 2, 1, 3, 1, 2, 1, 2, 1, 2, 1, 3, 1, 2, 3, 4, 2, 1, 2, 3, 1, 4, 1, 2, 4, 1, 2, 3, 1, 2, 4, 3, 3, 1, 2, 3, 2, 4, 3, 1, 2, 1, 3, 3, 2, 1, 2, 3, 4, 3, 1, 2, 3, 2, 3, 2, 2, 3, 3, 1, 3, 1, 2, 4, 2, 1, 3, 3, 2, 4, 2, 1, 2, 3, 4, 1, 3, 1, 2, 3, 4, 3, 2, 3, 1, 4, 2, 4, 3, 4, 3, 1, 2, 3, 1, 1, 2, 3, 1, 2, 3, 1, 3, 1, 1, 1, 4, 1, 2, 1, 3, 4, 1, 3, 1, 1, 1, 2, 3, 4, 2, 4, 3, 1, 3, 3, 4, 3, 1, 3, 4, 1, 2, 3, 4, 1, 3, 2, 1, 2, 4, 1, 3, 4, 4, 1, 1, 2, 3, 4, 3, 3, 4, 4, 4], \"Freq\": [0.9957171082496643, 0.9822677373886108, 0.9799880385398865, 0.998856246471405, 0.9892019629478455, 0.671790599822998, 0.1992485076189041, 0.12924227118492126, 0.9872419834136963, 0.9925568699836731, 0.40465790033340454, 0.5934982895851135, 0.9879595041275024, 0.9905832409858704, 0.9846276640892029, 0.991943359375, 0.6631330847740173, 0.09924440085887909, 0.23608139157295227, 0.9920763373374939, 0.34471753239631653, 0.6546470522880554, 0.9934351444244385, 0.9264819622039795, 0.07259746640920639, 0.9806047081947327, 0.15992817282676697, 0.8287187218666077, 0.9967685341835022, 0.23493099212646484, 0.7590078115463257, 0.9912360310554504, 0.495919406414032, 0.5018585920333862, 0.922688364982605, 0.0744103491306305, 0.9822397232055664, 0.04385032132267952, 0.8879690170288086, 0.06577548384666443, 0.9883492588996887, 0.99700927734375, 0.18571864068508148, 0.8087747693061829, 0.9908519387245178, 0.9841760993003845, 0.19019189476966858, 0.8095810413360596, 0.3321070075035095, 0.6673178672790527, 0.22524280846118927, 0.7733336091041565, 0.9859747886657715, 0.9249459505081177, 0.07221800088882446, 0.991679847240448, 0.018617600202560425, 0.9246741533279419, 0.055852800607681274, 0.0022007387597113848, 0.9969346523284912, 0.9830541610717773, 0.00819211732596159, 0.9982384443283081, 0.9850315451622009, 0.16839531064033508, 0.8286821246147156, 0.9789972305297852, 0.9851429462432861, 0.8745117783546448, 0.06555351614952087, 0.059974491596221924, 0.5955816507339478, 0.2367580384016037, 0.16712331771850586, 0.998866081237793, 0.1789490282535553, 0.8231655359268188, 0.28519266843795776, 0.7049102187156677, 0.008968323469161987, 0.9866775870323181, 0.9831694960594177, 0.6397520899772644, 0.35915908217430115, 0.8738840222358704, 0.12575717270374298, 0.9956870675086975, 0.0031376692932099104, 0.9762736558914185, 0.9828987121582031, 0.9922807812690735, 0.31852012872695923, 0.3421142101287842, 0.33621570467948914, 0.9912852644920349, 0.9741523265838623, 0.5674943923950195, 0.42910951375961304, 0.0034886952489614487, 0.5461524128913879, 0.4540686011314392, 0.07569947093725204, 0.9241644144058228, 0.9666092991828918, 0.9870408177375793, 0.8189078569412231, 0.016712404787540436, 0.16413968801498413, 0.9898422360420227, 0.44527682662010193, 0.5454640984535217, 0.8006051182746887, 0.02397819049656391, 0.17584006488323212, 0.19829627871513367, 0.6655687093734741, 0.1354697346687317, 0.998690128326416, 0.33373892307281494, 0.6674778461456299, 0.9346091747283936, 0.0620315819978714, 0.989997923374176, 0.30559733510017395, 0.6644166707992554, 0.018885228782892227, 0.010301033966243267, 0.9889340400695801, 0.2993325889110565, 0.5284513235092163, 0.14412309229373932, 0.0258682481944561, 0.8060663342475891, 0.1933012753725052, 0.9904887676239014, 0.9929051399230957, 0.025759680196642876, 0.8837552070617676, 0.08916812390089035, 0.9883483648300171, 0.13124673068523407, 0.8678690195083618, 0.9844699501991272, 0.15218263864517212, 0.11413698643445969, 0.7330130934715271, 0.9681609272956848, 0.9803892374038696, 0.6517127156257629, 0.3466556966304779, 0.9934461116790771, 0.933506429195404, 0.06328856945037842, 0.9978012442588806, 0.0920068770647049, 0.903340220451355, 0.9972518086433411, 0.995458722114563, 0.9914426803588867, 0.9754228591918945, 0.017866307869553566, 0.9111816883087158, 0.029777180403470993, 0.04168805107474327, 0.24961638450622559, 0.7471960783004761, 0.0016530887223780155, 0.2104794681072235, 0.06257497519254684, 0.7072868347167969, 0.018962113186717033, 0.9715573787689209, 0.9782096743583679, 0.9916784763336182, 0.3347095251083374, 0.02885426953434944, 0.32893869280815125, 0.30585527420043945, 0.9927849769592285, 0.1738598793745041, 0.8249096274375916, 0.9944716691970825, 0.7620081305503845, 0.05891481786966324, 0.1786867082118988, 0.979957640171051, 0.992779016494751, 0.9957973957061768, 0.9635962843894958, 0.9964351654052734, 0.0030013106297701597, 0.9897086024284363, 0.978868842124939, 0.9303284287452698, 0.06983698904514313, 0.9910804033279419, 0.005216212477535009, 0.9980820417404175, 0.9964501261711121, 0.628681480884552, 0.37034398317337036, 0.9974570870399475, 0.93373703956604, 0.005591239780187607, 0.061503637582063675, 0.9933527112007141, 0.9525983333587646, 0.04601924493908882, 0.987356424331665, 0.9948015809059143, 0.9807037115097046, 0.9085169434547424, 0.08669054508209229, 0.005201432853937149, 0.9651471972465515, 0.034169457852840424, 0.9864892363548279, 0.944894552230835, 0.053938936442136765, 0.9729129076004028, 0.9835660457611084, 0.9943526387214661, 0.6354315280914307, 0.0788811594247818, 0.2826574742794037, 0.9810642004013062, 0.01290873996913433, 0.9918215870857239, 0.935021698474884, 0.06174671649932861, 0.31455469131469727, 0.6844710111618042, 0.9793774485588074, 0.9981349110603333, 0.57389897108078, 0.00531387934461236, 0.4197964668273926, 0.9730001091957092, 0.9857646226882935, 0.38145679235458374, 0.22767578065395355, 0.39144256711006165, 0.9229103922843933, 0.07425715774297714, 0.982562243938446, 0.9987718462944031, 0.9756737351417542, 0.9879801869392395, 0.34244224429130554, 0.653753399848938, 0.9951735734939575, 0.0036722272634506226, 0.988812267780304, 0.9854296445846558, 0.2652197778224945, 0.7293543815612793, 0.9866299629211426, 0.9955567717552185, 0.9611174464225769, 0.996973991394043, 0.12140417844057083, 0.20234030485153198, 0.6221964359283447, 0.060702089220285416, 0.38503554463386536, 0.6115270256996155, 0.6812746524810791, 0.2710088789463043, 0.03335494175553322, 0.014175849966704845, 0.9842209815979004, 0.9976688027381897, 0.9861040115356445, 0.9985483288764954, 0.9666404128074646, 0.9974347352981567, 0.9752441644668579, 0.9832882881164551, 0.9865359663963318, 0.9870005249977112, 0.6245366930961609, 0.35585910081863403, 0.019813980907201767, 0.9971281290054321, 0.01924845390021801, 0.9686097502708435, 0.01237400621175766, 0.029880467802286148, 0.9348317384719849, 0.034149106591939926, 0.32000020146369934, 0.6774030327796936, 0.9917160272598267, 0.9984530806541443, 0.29569321870803833, 0.6933496594429016, 0.9817019701004028, 0.014799526892602444, 0.9193335175514221, 0.07942771166563034, 0.9688082337379456, 0.08951001614332199, 0.9092333316802979, 0.9997395277023315, 0.9986515641212463, 0.6826989650726318, 0.2882007658481598, 0.0007485734531655908, 0.029194364324212074, 0.9727815389633179, 0.027021709829568863, 0.981423020362854, 0.8332705497741699, 0.1649903506040573, 0.43692103028297424, 0.5577715635299683, 0.9879289269447327, 0.04659378528594971, 0.023296892642974854, 0.9318757057189941, 0.06359235942363739, 0.14626243710517883, 0.7249529361724854, 0.06359235942363739, 0.35785675048828125, 0.6408765316009521, 0.9919370412826538, 0.14933894574642181, 0.3584134578704834, 0.4977964758872986, 0.9949512481689453, 0.9837071895599365, 0.019674144685268402, 0.9837832450866699, 0.9975057244300842, 0.6627832651138306, 0.011337081901729107, 0.2938920557498932, 0.03226707875728607, 0.9904976487159729, 0.028454836457967758, 0.9674644470214844, 0.976691722869873, 0.9838242530822754], \"Term\": [\"adopt\", \"adoption\", \"age\", \"agent\", \"alliance\", \"also\", \"also\", \"also\", \"altruism\", \"altruistic\", \"approach\", \"approach\", \"article\", \"aspect\", \"attack\", \"available\", \"base\", \"base\", \"base\", \"bayesian\", \"behavior\", \"behavior\", \"behavioral\", \"benefit\", \"benefit\", \"better\", \"brain\", \"brain\", \"cell\", \"cheater\", \"cheater\", \"class\", \"classical\", \"classical\", \"collective\", \"collective\", \"commitment\", \"communication\", \"communication\", \"communication\", \"company\", \"complex\", \"concept\", \"concept\", \"connected\", \"contribute\", \"cooperation\", \"cooperation\", \"cooperative\", \"cooperative\", \"cooperator\", \"cooperator\", \"coordination\", \"cost\", \"cost\", \"costly\", \"datum\", \"datum\", \"datum\", \"decision\", \"decision\", \"decrease\", \"decrease\", \"defector\", \"demand\", \"design\", \"design\", \"detect\", \"determinant\", \"different\", \"different\", \"different\", \"dilemma\", \"dilemma\", \"dilemma\", \"dynamic\", \"economic\", \"economic\", \"effect\", \"effect\", \"effect\", \"emotion\", \"emotional\", \"equilibrium\", \"equilibrium\", \"evolution\", \"evolution\", \"evolutionary\", \"evolutionary\", \"exclusion\", \"expression\", \"extend\", \"face\", \"face\", \"face\", \"fast\", \"female\", \"find\", \"find\", \"find\", \"framework\", \"framework\", \"free\", \"free\", \"frustration\", \"functional\", \"game\", \"game\", \"game\", \"gene\", \"genetic\", \"genetic\", \"give\", \"give\", \"give\", \"good\", \"good\", \"good\", \"group\", \"growth\", \"growth\", \"help\", \"help\", \"heterogeneity\", \"high\", \"high\", \"high\", \"high\", \"host\", \"however\", \"however\", \"however\", \"however\", \"human\", \"human\", \"imitation\", \"incentive\", \"increase\", \"increase\", \"increase\", \"indirect\", \"individual\", \"individual\", \"infection\", \"information\", \"information\", \"information\", \"ingroup\", \"intention\", \"interaction\", \"interaction\", \"interestingly\", \"introduce\", \"introduce\", \"iterate\", \"knowledge\", \"knowledge\", \"lattice\", \"learn\", \"learning\", \"leave\", \"less\", \"less\", \"less\", \"less\", \"level\", \"level\", \"level\", \"make\", \"make\", \"make\", \"make\", \"male\", \"man\", \"market\", \"measure\", \"measure\", \"measure\", \"measure\", \"measurement\", \"mechanism\", \"mechanism\", \"memory\", \"model\", \"model\", \"model\", \"moral\", \"mutation\", \"neighbor\", \"nest\", \"network\", \"network\", \"noise\", \"notion\", \"number\", \"number\", \"obtain\", \"obtain\", \"opponent\", \"other\", \"paper\", \"paper\", \"parameter\", \"participant\", \"participant\", \"participant\", \"partner\", \"payoff\", \"payoff\", \"perspective\", \"phase\", \"phenotype\", \"play\", \"play\", \"play\", \"player\", \"player\", \"policy\", \"population\", \"population\", \"position\", \"practice\", \"preference\", \"present\", \"present\", \"present\", \"pressure\", \"pressure\", \"price\", \"probability\", \"probability\", \"problem\", \"problem\", \"profit\", \"promote\", \"propose\", \"propose\", \"propose\", \"protein\", \"protocol\", \"provide\", \"provide\", \"provide\", \"public\", \"public\", \"punish\", \"punishment\", \"quality\", \"quantization\", \"quantum\", \"quantum\", \"random\", \"random\", \"rating\", \"ratio\", \"rational\", \"rational\", \"rationality\", \"reciprocity\", \"removal\", \"reputation\", \"research\", \"research\", \"research\", \"research\", \"resource\", \"resource\", \"result\", \"result\", \"result\", \"result\", \"review\", \"reward\", \"right\", \"rule\", \"sample\", \"scale\", \"scanning\", \"service\", \"sex\", \"sharing\", \"show\", \"show\", \"show\", \"simulation\", \"social\", \"social\", \"social\", \"society\", \"society\", \"society\", \"solution\", \"solution\", \"space\", \"spatial\", \"specie\", \"specie\", \"stable\", \"stable\", \"state\", \"state\", \"strain\", \"strategic\", \"strategic\", \"strategy\", \"structure\", \"study\", \"study\", \"study\", \"study\", \"subject\", \"subject\", \"supply\", \"system\", \"system\", \"task\", \"task\", \"team\", \"tell\", \"tell\", \"tell\", \"test\", \"test\", \"test\", \"test\", \"theory\", \"theory\", \"threshold\", \"trait\", \"trait\", \"trait\", \"transition\", \"trust\", \"trust\", \"tumor\", \"update\", \"use\", \"use\", \"use\", \"use\", \"user\", \"virtual\", \"virtual\", \"virus\", \"woman\"]}, \"R\": 30, \"lambda.step\": 0.01, \"plot.opts\": {\"xlab\": \"PC1\", \"ylab\": \"PC2\"}, \"topic.order\": [4, 2, 3, 1]};\n",
       "\n",
       "function LDAvis_load_lib(url, callback){\n",
       "  var s = document.createElement('script');\n",
       "  s.src = url;\n",
       "  s.async = true;\n",
       "  s.onreadystatechange = s.onload = callback;\n",
       "  s.onerror = function(){console.warn(\"failed to load library \" + url);};\n",
       "  document.getElementsByTagName(\"head\")[0].appendChild(s);\n",
       "}\n",
       "\n",
       "if(typeof(LDAvis) !== \"undefined\"){\n",
       "   // already loaded: just create the visualization\n",
       "   !function(LDAvis){\n",
       "       new LDAvis(\"#\" + \"ldavis_el5898949926508405461185624\", ldavis_el5898949926508405461185624_data);\n",
       "   }(LDAvis);\n",
       "}else if(typeof define === \"function\" && define.amd){\n",
       "   // require.js is available: use it to load d3/LDAvis\n",
       "   require.config({paths: {d3: \"https://cdnjs.cloudflare.com/ajax/libs/d3/3.5.5/d3.min\"}});\n",
       "   require([\"d3\"], function(d3){\n",
       "      window.d3 = d3;\n",
       "      LDAvis_load_lib(\"https://cdn.rawgit.com/bmabey/pyLDAvis/files/ldavis.v1.0.0.js\", function(){\n",
       "        new LDAvis(\"#\" + \"ldavis_el5898949926508405461185624\", ldavis_el5898949926508405461185624_data);\n",
       "      });\n",
       "    });\n",
       "}else{\n",
       "    // require.js not available: dynamically load d3 & LDAvis\n",
       "    LDAvis_load_lib(\"https://cdnjs.cloudflare.com/ajax/libs/d3/3.5.5/d3.min.js\", function(){\n",
       "         LDAvis_load_lib(\"https://cdn.rawgit.com/bmabey/pyLDAvis/files/ldavis.v1.0.0.js\", function(){\n",
       "                 new LDAvis(\"#\" + \"ldavis_el5898949926508405461185624\", ldavis_el5898949926508405461185624_data);\n",
       "            })\n",
       "         });\n",
       "}\n",
       "</script>"
      ],
      "text/plain": [
       "PreparedData(topic_coordinates=              x         y  topics  cluster       Freq\n",
       "topic                                                \n",
       "3      0.175018  0.070964       1        1  48.583702\n",
       "1      0.130793 -0.215867       2        1  26.112362\n",
       "2     -0.010565  0.205829       3        1  19.035570\n",
       "0     -0.295247 -0.060927       4        1   6.268364, topic_info=     Category         Freq         Term        Total  loglift  logprob\n",
       "52    Default  2765.000000  cooperation  2765.000000  30.0000  30.0000\n",
       "21    Default  2770.000000     strategy  2770.000000  29.0000  29.0000\n",
       "845   Default  1454.000000       social  1454.000000  28.0000  28.0000\n",
       "173   Default  1219.000000   individual  1219.000000  27.0000  27.0000\n",
       "111   Default  1665.000000      network  1665.000000  26.0000  26.0000\n",
       "...       ...          ...          ...          ...      ...      ...\n",
       "2063   Topic4    49.727810        trait   100.442657   2.0666  -5.4888\n",
       "484    Topic4    57.137138         face   169.534027   1.6821  -5.3499\n",
       "721    Topic4    52.599655      measure   173.284576   1.5774  -5.4326\n",
       "243    Topic4    44.822636     increase   504.664642   0.3485  -5.5926\n",
       "442    Topic4    39.091202        study  1335.874268  -0.7618  -5.7294\n",
       "\n",
       "[252 rows x 6 columns], token_table=      Topic      Freq      Term\n",
       "term                           \n",
       "727       1  0.995717     adopt\n",
       "2990      2  0.982268  adoption\n",
       "1939      4  0.979988       age\n",
       "23        1  0.998856     agent\n",
       "2945      2  0.989202  alliance\n",
       "...     ...       ...       ...\n",
       "1587      3  0.990498      user\n",
       "3373      3  0.028455   virtual\n",
       "3373      4  0.967464   virtual\n",
       "4015      4  0.976692     virus\n",
       "1698      4  0.983824     woman\n",
       "\n",
       "[345 rows x 3 columns], R=30, lambda_step=0.01, plot_opts={'xlab': 'PC1', 'ylab': 'PC2'}, topic_order=[4, 2, 3, 1])"
      ]
     },
     "execution_count": 32,
     "metadata": {},
     "output_type": "execute_result"
    }
   ],
   "source": [
    "pyLDAvis.enable_notebook()\n",
    "vis = pyLDAvis.gensim.prepare(lda_model, corpus, id2word)\n",
    "vis"
   ]
  },
  {
   "cell_type": "code",
   "execution_count": 33,
   "metadata": {},
   "outputs": [
    {
     "name": "stdout",
     "output_type": "stream",
     "text": [
      "[(0,\n",
      "  '0.040*\"model\" + 0.038*\"network\" + 0.029*\"agent\" + 0.018*\"system\" + '\n",
      "  '0.018*\"base\" + 0.016*\"study\" + 0.012*\"structure\" + 0.010*\"dynamic\" + '\n",
      "  '0.009*\"simulation\" + 0.009*\"propose\"'),\n",
      " (1,\n",
      "  '0.027*\"social\" + 0.019*\"group\" + 0.017*\"behavior\" + 0.014*\"human\" + '\n",
      "  '0.012*\"decision\" + 0.011*\"make\" + 0.011*\"experiment\" + 0.009*\"punishment\" + '\n",
      "  '0.008*\"study\" + 0.008*\"suggest\"'),\n",
      " (2,\n",
      "  '0.059*\"cooperation\" + 0.030*\"individual\" + 0.025*\"population\" + '\n",
      "  '0.020*\"evolution\" + 0.019*\"evolutionary\" + 0.015*\"interaction\" + '\n",
      "  '0.013*\"cooperator\" + 0.012*\"mechanism\" + 0.012*\"cooperative\" + '\n",
      "  '0.011*\"level\"'),\n",
      " (3,\n",
      "  '0.075*\"game\" + 0.060*\"strategy\" + 0.038*\"player\" + 0.021*\"dilemma\" + '\n",
      "  '0.016*\"theory\" + 0.016*\"play\" + 0.012*\"payoff\" + 0.012*\"state\" + '\n",
      "  '0.010*\"prisoner\" + 0.010*\"show\"')]\n"
     ]
    }
   ],
   "source": [
    "pprint(model_list[2].print_topics())"
   ]
  },
  {
   "cell_type": "code",
   "execution_count": 34,
   "metadata": {},
   "outputs": [],
   "source": [
    "lda_model = gensim.models.ldamodel.LdaModel(corpus=corpus,\n",
    "                                           id2word=id2word,\n",
    "                                           num_topics=5, \n",
    "                                           random_state=100,\n",
    "                                           update_every=1,\n",
    "                                           chunksize=100,\n",
    "                                           passes=10,\n",
    "                                           alpha='auto',\n",
    "                                           per_word_topics=True)"
   ]
  },
  {
   "cell_type": "code",
   "execution_count": 35,
   "metadata": {},
   "outputs": [
    {
     "name": "stderr",
     "output_type": "stream",
     "text": [
      "//anaconda3/envs/literature/lib/python3.6/site-packages/pyLDAvis/_prepare.py:257: FutureWarning: Sorting because non-concatenation axis is not aligned. A future version\n",
      "of pandas will change to not sort by default.\n",
      "\n",
      "To accept the future behavior, pass 'sort=False'.\n",
      "\n",
      "To retain the current behavior and silence the warning, pass 'sort=True'.\n",
      "\n",
      "  return pd.concat([default_term_info] + list(topic_dfs))\n"
     ]
    },
    {
     "data": {
      "text/html": [
       "\n",
       "<link rel=\"stylesheet\" type=\"text/css\" href=\"https://cdn.rawgit.com/bmabey/pyLDAvis/files/ldavis.v1.0.0.css\">\n",
       "\n",
       "\n",
       "<div id=\"ldavis_el5898949924165289477828001\"></div>\n",
       "<script type=\"text/javascript\">\n",
       "\n",
       "var ldavis_el5898949924165289477828001_data = {\"mdsDat\": {\"x\": [0.21370831531485268, 0.15634714007655792, 0.048226015275477735, -0.1304661160248773, -0.28781535464201075], \"y\": [-0.04850984215421477, 0.19541157918855637, -0.24803099160187925, 0.13271760283268574, -0.03158834826514793], \"topics\": [1, 2, 3, 4, 5], \"cluster\": [1, 1, 1, 1, 1], \"Freq\": [44.0625114440918, 26.968442916870117, 15.761372566223145, 8.714448928833008, 4.493223667144775]}, \"tinfo\": {\"Category\": [\"Default\", \"Default\", \"Default\", \"Default\", \"Default\", \"Default\", \"Default\", \"Default\", \"Default\", \"Default\", \"Default\", \"Default\", \"Default\", \"Default\", \"Default\", \"Default\", \"Default\", \"Default\", \"Default\", \"Default\", \"Default\", \"Default\", \"Default\", \"Default\", \"Default\", \"Default\", \"Default\", \"Default\", \"Default\", \"Default\", \"Topic1\", \"Topic1\", \"Topic1\", \"Topic1\", \"Topic1\", \"Topic1\", \"Topic1\", \"Topic1\", \"Topic1\", \"Topic1\", \"Topic1\", \"Topic1\", \"Topic1\", \"Topic1\", \"Topic1\", \"Topic1\", \"Topic1\", \"Topic1\", \"Topic1\", \"Topic1\", \"Topic1\", \"Topic1\", \"Topic1\", \"Topic1\", \"Topic1\", \"Topic1\", \"Topic1\", \"Topic1\", \"Topic1\", \"Topic1\", \"Topic1\", \"Topic1\", \"Topic1\", \"Topic1\", \"Topic1\", \"Topic1\", \"Topic1\", \"Topic1\", \"Topic1\", \"Topic1\", \"Topic1\", \"Topic1\", \"Topic1\", \"Topic1\", \"Topic1\", \"Topic1\", \"Topic1\", \"Topic1\", \"Topic1\", \"Topic1\", \"Topic1\", \"Topic1\", \"Topic1\", \"Topic1\", \"Topic1\", \"Topic1\", \"Topic1\", \"Topic1\", \"Topic1\", \"Topic1\", \"Topic2\", \"Topic2\", \"Topic2\", \"Topic2\", \"Topic2\", \"Topic2\", \"Topic2\", \"Topic2\", \"Topic2\", \"Topic2\", \"Topic2\", \"Topic2\", \"Topic2\", \"Topic2\", \"Topic2\", \"Topic2\", \"Topic2\", \"Topic2\", \"Topic2\", \"Topic2\", \"Topic2\", \"Topic2\", \"Topic2\", \"Topic2\", \"Topic2\", \"Topic2\", \"Topic2\", \"Topic2\", \"Topic2\", \"Topic2\", \"Topic2\", \"Topic2\", \"Topic2\", \"Topic2\", \"Topic2\", \"Topic2\", \"Topic2\", \"Topic2\", \"Topic2\", \"Topic2\", \"Topic2\", \"Topic2\", \"Topic2\", \"Topic2\", \"Topic2\", \"Topic2\", \"Topic2\", \"Topic2\", \"Topic2\", \"Topic2\", \"Topic2\", \"Topic2\", \"Topic2\", \"Topic2\", \"Topic2\", \"Topic2\", \"Topic3\", \"Topic3\", \"Topic3\", \"Topic3\", \"Topic3\", \"Topic3\", \"Topic3\", \"Topic3\", \"Topic3\", \"Topic3\", \"Topic3\", \"Topic3\", \"Topic3\", \"Topic3\", \"Topic3\", \"Topic3\", \"Topic3\", \"Topic3\", \"Topic3\", \"Topic3\", \"Topic3\", \"Topic3\", \"Topic3\", \"Topic3\", \"Topic3\", \"Topic3\", \"Topic3\", \"Topic3\", \"Topic3\", \"Topic3\", \"Topic3\", \"Topic3\", \"Topic3\", \"Topic3\", \"Topic3\", \"Topic3\", \"Topic3\", \"Topic3\", \"Topic3\", \"Topic3\", \"Topic3\", \"Topic3\", \"Topic3\", \"Topic3\", \"Topic3\", \"Topic3\", \"Topic3\", \"Topic3\", \"Topic3\", \"Topic3\", \"Topic3\", \"Topic3\", \"Topic3\", \"Topic3\", \"Topic3\", \"Topic3\", \"Topic3\", \"Topic3\", \"Topic3\", \"Topic3\", \"Topic3\", \"Topic4\", \"Topic4\", \"Topic4\", \"Topic4\", \"Topic4\", \"Topic4\", \"Topic4\", \"Topic4\", \"Topic4\", \"Topic4\", \"Topic4\", \"Topic4\", \"Topic4\", \"Topic4\", \"Topic4\", \"Topic4\", \"Topic4\", \"Topic4\", \"Topic4\", \"Topic4\", \"Topic4\", \"Topic4\", \"Topic4\", \"Topic4\", \"Topic4\", \"Topic4\", \"Topic4\", \"Topic4\", \"Topic4\", \"Topic4\", \"Topic4\", \"Topic4\", \"Topic4\", \"Topic4\", \"Topic4\", \"Topic4\", \"Topic4\", \"Topic4\", \"Topic4\", \"Topic4\", \"Topic4\", \"Topic4\", \"Topic4\", \"Topic4\", \"Topic4\", \"Topic4\", \"Topic4\", \"Topic4\", \"Topic4\", \"Topic4\", \"Topic4\", \"Topic4\", \"Topic4\", \"Topic5\", \"Topic5\", \"Topic5\", \"Topic5\", \"Topic5\", \"Topic5\", \"Topic5\", \"Topic5\", \"Topic5\", \"Topic5\", \"Topic5\", \"Topic5\", \"Topic5\", \"Topic5\", \"Topic5\", \"Topic5\", \"Topic5\", \"Topic5\", \"Topic5\", \"Topic5\", \"Topic5\", \"Topic5\", \"Topic5\", \"Topic5\", \"Topic5\", \"Topic5\", \"Topic5\", \"Topic5\", \"Topic5\", \"Topic5\", \"Topic5\", \"Topic5\", \"Topic5\", \"Topic5\", \"Topic5\", \"Topic5\", \"Topic5\"], \"Freq\": [2706.0, 2851.0, 1426.0, 1173.0, 1713.0, 3411.0, 788.0, 543.0, 728.0, 1185.0, 662.0, 953.0, 1851.0, 461.0, 845.0, 494.0, 196.0, 529.0, 354.0, 1349.0, 392.0, 1150.0, 220.0, 521.0, 169.0, 204.0, 387.0, 387.0, 372.0, 572.0, 2850.453125, 1712.6207275390625, 1184.9200439453125, 424.6025085449219, 369.501708984375, 338.4051818847656, 332.11676025390625, 279.0490417480469, 264.9453430175781, 238.434814453125, 230.6913604736328, 216.2494659423828, 213.61575317382812, 841.1748046875, 194.49649047851562, 181.3667755126953, 180.5652618408203, 179.39080810546875, 176.86386108398438, 170.7492218017578, 164.0067901611328, 158.12794494628906, 155.48556518554688, 153.77362060546875, 330.6355285644531, 131.1311798095703, 125.09459686279297, 124.6419677734375, 123.21273040771484, 121.62571716308594, 702.5689697265625, 510.8878479003906, 275.6887512207031, 564.2028198242188, 552.6607666015625, 1613.374267578125, 890.7030029296875, 356.7945251464844, 2695.43701171875, 649.02783203125, 1265.9921875, 308.7358703613281, 584.7645263671875, 1002.41650390625, 363.1992492675781, 821.3781127929688, 588.8711547851562, 841.511962890625, 297.013671875, 346.6851501464844, 481.1979064941406, 543.37060546875, 715.5222778320312, 551.8916015625, 607.4307250976562, 480.00189208984375, 475.7426452636719, 543.1190185546875, 378.4627990722656, 396.15264892578125, 787.7409057617188, 661.6533203125, 493.6640930175781, 386.4648742675781, 371.5830078125, 335.98297119140625, 323.3006896972656, 313.3828125, 293.4204406738281, 234.78749084472656, 166.6685333251953, 2690.02099609375, 130.99240112304688, 125.30326843261719, 117.45293426513672, 114.53040313720703, 110.89797973632812, 108.93690490722656, 105.74508666992188, 100.4464111328125, 90.58457946777344, 87.87635803222656, 88.62051391601562, 88.45050048828125, 86.79022979736328, 83.58941650390625, 83.82553100585938, 81.458740234375, 77.65447998046875, 77.28917694091797, 372.60205078125, 1132.154296875, 112.56229400634766, 216.0808563232422, 256.3018493652344, 468.3955383300781, 276.15777587890625, 206.67578125, 241.97508239746094, 407.92999267578125, 472.8783874511719, 476.94171142578125, 302.9596862792969, 510.88238525390625, 1019.1002807617188, 393.146484375, 163.69508361816406, 401.9593811035156, 323.81280517578125, 503.6610412597656, 513.704345703125, 444.92156982421875, 343.20416259765625, 338.20794677734375, 308.840576171875, 297.9896240234375, 203.36085510253906, 195.89300537109375, 147.1370086669922, 115.40974426269531, 107.15851593017578, 105.02180480957031, 106.0672378540039, 93.18316650390625, 92.56599426269531, 92.35997772216797, 84.75822448730469, 84.34632873535156, 81.4771728515625, 82.46283721923828, 80.88504791259766, 83.7611312866211, 71.78376770019531, 70.10413360595703, 66.66091918945312, 66.88939666748047, 63.95527267456055, 61.217281341552734, 61.93431091308594, 59.796875, 58.977108001708984, 59.0669059753418, 58.0689811706543, 57.585853576660156, 57.610145568847656, 57.3306884765625, 320.585693359375, 101.6030044555664, 227.3176727294922, 147.38275146484375, 103.52376556396484, 203.4293975830078, 312.51690673828125, 531.6295776367188, 179.03231811523438, 71.43988037109375, 258.77618408203125, 134.86375427246094, 121.29820251464844, 177.13404846191406, 261.16455078125, 231.24832153320312, 209.49700927734375, 558.1119995117188, 125.79949188232422, 159.84921264648438, 197.85997009277344, 190.8413543701172, 250.2892608642578, 235.62643432617188, 147.94810485839844, 147.40594482421875, 115.06443786621094, 146.36978149414062, 113.0212173461914, 114.29714965820312, 114.56198120117188, 219.8346710205078, 203.8075714111328, 161.6942901611328, 113.47107696533203, 94.78587341308594, 96.00724029541016, 84.4260482788086, 110.63236999511719, 73.02495574951172, 70.31869506835938, 65.03995513916016, 64.44476318359375, 66.37350463867188, 66.04920196533203, 65.01061248779297, 62.37047576904297, 61.729713439941406, 62.58358383178711, 60.89451599121094, 60.565284729003906, 47.172306060791016, 44.393131256103516, 44.34234619140625, 50.06560516357422, 41.80405044555664, 41.14019775390625, 39.7342643737793, 39.01026916503906, 37.5592041015625, 37.254539489746094, 38.563072204589844, 98.17410278320312, 333.9783020019531, 62.191219329833984, 138.10476684570312, 147.44802856445312, 108.0516128540039, 229.33030700683594, 63.3758430480957, 171.03956604003906, 341.3868713378906, 218.6127471923828, 152.1756591796875, 134.74952697753906, 78.92085266113281, 73.15653991699219, 97.32533264160156, 89.62488555908203, 80.62142944335938, 82.45003509521484, 93.01182556152344, 76.1694107055664, 71.6996841430664, 195.57044982910156, 168.58026123046875, 104.41344451904297, 100.90082550048828, 83.66438293457031, 80.83067321777344, 72.9566650390625, 61.8587646484375, 52.48274230957031, 49.8244514465332, 49.25387954711914, 43.91763687133789, 40.13028335571289, 39.96333312988281, 38.54779052734375, 39.34638595581055, 37.091365814208984, 36.601600646972656, 37.40647888183594, 36.429832458496094, 36.021484375, 37.40013122558594, 34.34652328491211, 33.93214416503906, 36.228328704833984, 31.087318420410156, 29.41606903076172, 28.917009353637695, 28.65215301513672, 27.484725952148438, 27.837448120117188, 47.13170623779297, 61.16596603393555, 30.90300941467285, 38.701820373535156, 31.471149444580078, 31.22384262084961], \"Term\": [\"cooperation\", \"strategy\", \"social\", \"individual\", \"network\", \"game\", \"cooperator\", \"human\", \"theory\", \"agent\", \"group\", \"behavior\", \"player\", \"decision\", \"dynamic\", \"defector\", \"cell\", \"make\", \"classical\", \"study\", \"problem\", \"use\", \"control\", \"mechanism\", \"member\", \"participant\", \"probability\", \"experiment\", \"defection\", \"high\", \"strategy\", \"network\", \"agent\", \"rule\", \"simulation\", \"update\", \"iterate\", \"neighbor\", \"opponent\", \"complex\", \"phase\", \"cluster\", \"lattice\", \"dynamic\", \"real\", \"world\", \"space\", \"property\", \"transition\", \"memory\", \"learning\", \"adopt\", \"mutation\", \"imitation\", \"spatial\", \"represent\", \"topology\", \"derive\", \"correspond\", \"multiple\", \"different\", \"structure\", \"random\", \"state\", \"play\", \"player\", \"evolutionary\", \"type\", \"game\", \"system\", \"model\", \"parameter\", \"payoff\", \"study\", \"number\", \"use\", \"give\", \"result\", \"introduce\", \"process\", \"base\", \"evolution\", \"show\", \"interaction\", \"population\", \"also\", \"find\", \"dilemma\", \"time\", \"behavior\", \"cooperator\", \"group\", \"defector\", \"probability\", \"defection\", \"cost\", \"punishment\", \"scale\", \"promote\", \"reciprocity\", \"reputation\", \"cooperation\", \"fact\", \"coexistence\", \"maintain\", \"threshold\", \"coevolutionary\", \"fixation\", \"contribution\", \"frequency\", \"pair\", \"invasion\", \"ratio\", \"act\", \"avoid\", \"conditional\", \"coordination\", \"dominance\", \"costly\", \"contribute\", \"cooperate\", \"individual\", \"decrease\", \"help\", \"benefit\", \"mechanism\", \"free\", \"society\", \"public\", \"increase\", \"high\", \"level\", \"even\", \"cooperative\", \"social\", \"good\", \"favor\", \"effect\", \"however\", \"population\", \"show\", \"dilemma\", \"find\", \"behavior\", \"interaction\", \"result\", \"strategic\", \"collective\", \"scheme\", \"incentive\", \"user\", \"measurement\", \"available\", \"team\", \"theoretic\", \"rationality\", \"policy\", \"source\", \"market\", \"effort\", \"perspective\", \"solve\", \"principle\", \"price\", \"pool\", \"landscape\", \"attention\", \"agreement\", \"protocol\", \"constraint\", \"article\", \"quantization\", \"sharing\", \"profit\", \"notion\", \"practice\", \"classical\", \"construct\", \"quantum\", \"concept\", \"knowledge\", \"solution\", \"problem\", \"theory\", \"design\", \"argue\", \"information\", \"rational\", \"datum\", \"approach\", \"make\", \"decision\", \"equilibrium\", \"game\", \"research\", \"framework\", \"provide\", \"paper\", \"dilemma\", \"use\", \"propose\", \"give\", \"develop\", \"model\", \"share\", \"prisoner\", \"base\", \"control\", \"participant\", \"activity\", \"cognitive\", \"correlate\", \"determinant\", \"physical\", \"trust\", \"intention\", \"brain\", \"perception\", \"online\", \"keep\", \"path\", \"together\", \"actor\", \"emotion\", \"feedback\", \"neural\", \"switch\", \"cheat\", \"observed\", \"forward\", \"master\", \"adjust\", \"line\", \"donation\", \"respond\", \"assess\", \"laboratory\", \"spontaneous\", \"evidence\", \"human\", \"prosocial\", \"subject\", \"partner\", \"response\", \"decision\", \"negative\", \"experiment\", \"social\", \"behavior\", \"make\", \"study\", \"face\", \"positive\", \"time\", \"action\", \"other\", \"suggest\", \"use\", \"influence\", \"people\", \"cell\", \"member\", \"task\", \"formation\", \"attack\", \"organization\", \"sex\", \"age\", \"leave\", \"rating\", \"alone\", \"allocation\", \"strain\", \"position\", \"tumor\", \"customer\", \"male\", \"infection\", \"monitor\", \"host\", \"female\", \"influential\", \"sample\", \"man\", \"refer\", \"virus\", \"ingroup\", \"woman\", \"removal\", \"frustration\", \"demographic\", \"expression\", \"specie\", \"tell\", \"low\", \"cheater\", \"face\"], \"Total\": [2706.0, 2851.0, 1426.0, 1173.0, 1713.0, 3411.0, 788.0, 543.0, 728.0, 1185.0, 662.0, 953.0, 1851.0, 461.0, 845.0, 494.0, 196.0, 529.0, 354.0, 1349.0, 392.0, 1150.0, 220.0, 521.0, 169.0, 204.0, 387.0, 387.0, 372.0, 572.0, 2851.596435546875, 1713.6268310546875, 1185.924560546875, 425.6348876953125, 370.5060119628906, 339.4119567871094, 333.1235046386719, 280.0506591796875, 266.0093994140625, 239.44595336914062, 231.7016143798828, 217.26190185546875, 214.6219940185547, 845.1807250976562, 195.50624084472656, 182.37515258789062, 181.57232666015625, 180.40614318847656, 177.87501525878906, 171.75625610351562, 165.01620483398438, 159.13623046875, 156.49412536621094, 154.781494140625, 333.0570983886719, 132.14720153808594, 126.09954833984375, 125.65874481201172, 124.22774505615234, 122.63359069824219, 721.70703125, 523.7423706054688, 280.4739990234375, 604.0811767578125, 592.1339111328125, 1851.0770263671875, 994.475341796875, 378.23663330078125, 3411.01318359375, 726.397216796875, 1545.2215576171875, 329.1273498535156, 674.7374877929688, 1349.64599609375, 412.5525207519531, 1150.5096435546875, 763.7247924804688, 1207.7760009765625, 324.1702880859375, 405.17828369140625, 659.6638793945312, 812.0955200195312, 1272.2735595703125, 868.1420288085938, 1111.8671875, 746.7449340820312, 862.2999267578125, 1238.87109375, 503.31793212890625, 953.4703979492188, 788.7210083007812, 662.63330078125, 494.64349365234375, 387.4588928222656, 372.56866455078125, 336.9708557128906, 324.2765197753906, 314.3733215332031, 294.39776611328125, 235.76333618164062, 167.64486694335938, 2706.754150390625, 131.98480224609375, 126.29061126708984, 118.43919372558594, 115.51471710205078, 111.89171600341797, 109.92269897460938, 106.72905731201172, 101.43003845214844, 91.57540130615234, 88.85614013671875, 89.608642578125, 89.44324493408203, 87.78414916992188, 84.5759048461914, 84.82146453857422, 82.44815063476562, 78.63268280029297, 78.2736587524414, 381.5797424316406, 1173.701171875, 114.7178726196289, 226.88339233398438, 271.31134033203125, 521.3471069335938, 299.9388732910156, 220.48829650878906, 265.6595764160156, 478.7044982910156, 572.5811157226562, 588.5874633789062, 352.4587097167969, 639.1812744140625, 1426.298095703125, 499.0180358886719, 176.3037872314453, 551.4612426757812, 536.660400390625, 1111.8671875, 1272.2735595703125, 1238.87109375, 862.2999267578125, 953.4703979492188, 868.1420288085938, 1207.7760009765625, 204.3383331298828, 196.88076782226562, 148.1204071044922, 116.38682556152344, 108.13545989990234, 105.99967193603516, 107.0613784790039, 94.15765380859375, 93.53539276123047, 93.3333740234375, 85.73359680175781, 85.33162689208984, 82.44071197509766, 83.45108032226562, 81.86238861083984, 84.88568878173828, 72.76568603515625, 71.06906127929688, 67.64554595947266, 67.89227294921875, 64.93694305419922, 62.20454788208008, 62.94413757324219, 60.77604293823242, 59.947689056396484, 60.04891586303711, 59.05177688598633, 58.5609016418457, 58.588050842285156, 58.30609130859375, 354.6769714355469, 107.49793243408203, 259.2877502441406, 162.5686492919922, 112.40985107421875, 240.18142700195312, 392.7949523925781, 728.4310913085938, 215.79791259765625, 74.54878997802734, 375.2344970703125, 166.0882110595703, 156.69522094726562, 291.0116882324219, 529.0023803710938, 461.2688903808594, 452.6597900390625, 3411.01318359375, 191.37684631347656, 315.0090026855469, 493.6041259765625, 550.8801879882812, 1238.87109375, 1150.5096435546875, 372.7513122558594, 763.7247924804688, 205.08180236816406, 1545.2215576171875, 204.92185974121094, 460.3113098144531, 659.6638793945312, 220.77821350097656, 204.7344512939453, 162.6356658935547, 114.39904022216797, 95.72921752929688, 96.99479675292969, 85.40003204345703, 112.01045989990234, 73.9492416381836, 71.23839569091797, 65.98474884033203, 65.38373565673828, 67.34598541259766, 67.01878356933594, 65.97820281982422, 63.29946517944336, 62.65279769897461, 63.528175354003906, 61.8187141418457, 61.556976318359375, 48.12095642089844, 45.34599304199219, 45.296104431152344, 51.14716720581055, 42.753780364990234, 42.10205841064453, 40.67573547363281, 39.947715759277344, 38.496158599853516, 38.18458938598633, 39.53031539916992, 113.7193374633789, 543.9683837890625, 71.36872863769531, 198.96881103515625, 224.02957153320312, 153.18060302734375, 461.2688903808594, 76.17047119140625, 387.5905456542969, 1426.298095703125, 953.4703979492188, 529.0023803710938, 1349.64599609375, 171.84332275390625, 133.01959228515625, 503.31793212890625, 346.1375732421875, 255.2379913330078, 311.5769348144531, 1150.5096435546875, 284.94549560546875, 171.2100830078125, 196.5180206298828, 169.54014587402344, 105.38978576660156, 101.88285827636719, 84.6347427368164, 81.8234634399414, 73.93485260009766, 62.82829666137695, 53.45956039428711, 50.79190444946289, 50.27472686767578, 44.88935089111328, 41.0745849609375, 40.93540573120117, 39.4884033203125, 40.313812255859375, 38.033416748046875, 37.54090881347656, 38.369300842285156, 37.37213134765625, 36.96328353881836, 38.43113708496094, 35.29982376098633, 34.88266372680664, 37.261505126953125, 32.026611328125, 30.363309860229492, 29.869569778442383, 29.616411209106445, 28.456382751464844, 28.832468032836914, 60.54323959350586, 94.47042846679688, 39.345115661621094, 242.21401977539062, 51.34141540527344, 171.84332275390625], \"loglift\": [30.0, 29.0, 28.0, 27.0, 26.0, 25.0, 24.0, 23.0, 22.0, 21.0, 20.0, 19.0, 18.0, 17.0, 16.0, 15.0, 14.0, 13.0, 12.0, 11.0, 10.0, 9.0, 8.0, 7.0, 6.0, 5.0, 4.0, 3.0, 2.0, 1.0, 0.8191999793052673, 0.8190000057220459, 0.8187000155448914, 0.8170999884605408, 0.8167999982833862, 0.8166000247001648, 0.8165000081062317, 0.8159999847412109, 0.8155999779701233, 0.8152999877929688, 0.8151999711990356, 0.8148999810218811, 0.8148999810218811, 0.8148000240325928, 0.8144000172615051, 0.8140000104904175, 0.8140000104904175, 0.8138999938964844, 0.8138999938964844, 0.8137000203132629, 0.8133999705314636, 0.8131999969482422, 0.8130999803543091, 0.8130000233650208, 0.8123000264167786, 0.8118000030517578, 0.8116000294685364, 0.8113999962806702, 0.8113999962806702, 0.8112999796867371, 0.7926999926567078, 0.794700026512146, 0.8023999929428101, 0.7512999773025513, 0.7505999803543091, 0.6820999979972839, 0.7093999981880188, 0.7612000107765198, 0.5841000080108643, 0.7069000005722046, 0.620199978351593, 0.7555999755859375, 0.6764000058174133, 0.5220999717712402, 0.6920999884605408, 0.48260000348091125, 0.5595999956130981, 0.45820000767707825, 0.7321000099182129, 0.6636999845504761, 0.5041000247001648, 0.41769999265670776, 0.24400000274181366, 0.36660000681877136, 0.2150000035762787, 0.3776000142097473, 0.2248000055551529, -0.005100000184029341, 0.534500002861023, -0.05869999900460243, 1.3092999458312988, 1.309000015258789, 1.308500051498413, 1.3078999519348145, 1.3078999519348145, 1.3076000213623047, 1.3075000047683716, 1.3072999715805054, 1.3071999549865723, 1.306399941444397, 1.3047000169754028, 1.3042999505996704, 1.3029999732971191, 1.3027000427246094, 1.3020999431610107, 1.301900029182434, 1.3015999794006348, 1.3014999628067017, 1.301200032234192, 1.3007999658584595, 1.2996000051498413, 1.299399971961975, 1.299399971961975, 1.299299955368042, 1.2991000413894653, 1.298799991607666, 1.298699975013733, 1.2984000444412231, 1.2979999780654907, 1.2977999448776245, 1.2867000102996826, 1.2745000123977661, 1.2914999723434448, 1.2617000341415405, 1.253600001335144, 1.2034000158309937, 1.2279000282287598, 1.2458000183105469, 1.2171000242233276, 1.1505000591278076, 1.1191999912261963, 1.1002000570297241, 1.1591999530792236, 1.0865000486373901, 0.9743000268936157, 1.0720000267028809, 1.236299991607666, 0.9943000078201294, 0.8052999973297119, 0.5185999870300293, 0.4036000072956085, 0.2863999903202057, 0.38920000195503235, 0.27410000562667847, 0.2770000100135803, -0.08900000154972076, 1.8428000211715698, 1.8425999879837036, 1.84089994430542, 1.8392000198364258, 1.8385000228881836, 1.8382999897003174, 1.8382999897003174, 1.8372000455856323, 1.8372000455856323, 1.8371000289916992, 1.8361999988555908, 1.8359999656677246, 1.8358999490737915, 1.8357000350952148, 1.8356000185012817, 1.8343000411987305, 1.8339999914169312, 1.833899974822998, 1.832900047302246, 1.8327000141143799, 1.8323999643325806, 1.8315999507904053, 1.8314000368118286, 1.8314000368118286, 1.8313000202178955, 1.8310999870300293, 1.8308000564575195, 1.8308000564575195, 1.8308000564575195, 1.8307000398635864, 1.7466000318527222, 1.791200041770935, 1.715999960899353, 1.749500036239624, 1.7653000354766846, 1.68149995803833, 1.61899995803833, 1.5326999425888062, 1.6607999801635742, 1.8049999475479126, 1.4759999513626099, 1.6394000053405762, 1.591599941253662, 1.351199984550476, 1.141800045967102, 1.157099962234497, 1.0772000551223755, 0.03739999979734421, 1.4280999898910522, 1.1691999435424805, 0.9333999752998352, 0.7875000238418579, 0.2483000010251999, 0.26190000772476196, 0.9236000180244446, 0.20260000228881836, 1.269700050354004, -0.5091999769210815, 1.2525999546051025, 0.4544999897480011, 0.09700000286102295, 2.4358999729156494, 2.435699939727783, 2.4344000816345215, 2.431999921798706, 2.430299997329712, 2.430000066757202, 2.4286999702453613, 2.427799940109253, 2.4275999069213867, 2.4272000789642334, 2.425800085067749, 2.4256999492645264, 2.425600051879883, 2.425600051879883, 2.4254000186920166, 2.4254000186920166, 2.425299882888794, 2.4251999855041504, 2.425100088119507, 2.4238998889923096, 2.420300006866455, 2.4189999103546143, 2.4189000129699707, 2.418800115585327, 2.4177000522613525, 2.417099952697754, 2.416800022125244, 2.4163999557495117, 2.4154999256134033, 2.4154999256134033, 2.4154000282287598, 2.2932000160217285, 1.9523999691009521, 2.302500009536743, 2.0750999450683594, 2.021899938583374, 2.091200113296509, 1.7414000034332275, 2.2562999725341797, 1.6220999956130981, 1.0104000568389893, 0.9674000144004822, 1.194200038909912, 0.13600000739097595, 1.6620999574661255, 1.8423000574111938, 0.796999990940094, 1.0889999866485596, 1.2877999544143677, 1.110700011253357, -0.07500000298023224, 1.1208000183105469, 1.5698000192642212, 3.0978000164031982, 3.09689998626709, 3.0933001041412354, 3.092900037765503, 3.091099977493286, 3.090399980545044, 3.0892999172210693, 3.0869998931884766, 3.084199905395508, 3.083400011062622, 3.0820999145507812, 3.080699920654297, 3.0792999267578125, 3.0785999298095703, 3.0785000324249268, 3.0782999992370605, 3.077500104904175, 3.0773000717163086, 3.077199935913086, 3.0771000385284424, 3.0768001079559326, 3.0754001140594482, 3.075200080871582, 3.075000047683716, 3.07450008392334, 3.0727999210357666, 3.0708999633789062, 3.070199966430664, 3.069499969482422, 3.0678999423980713, 3.067500114440918, 2.8522000312805176, 2.6679000854492188, 2.8610999584198, 1.2687000036239624, 2.6131999492645264, 1.3971999883651733], \"logprob\": [30.0, 29.0, 28.0, 27.0, 26.0, 25.0, 24.0, 23.0, 22.0, 21.0, 20.0, 19.0, 18.0, 17.0, 16.0, 15.0, 14.0, 13.0, 12.0, 11.0, 10.0, 9.0, 8.0, 7.0, 6.0, 5.0, 4.0, 3.0, 2.0, 1.0, -3.390199899673462, -3.899600028991699, -4.26800012588501, -5.294300079345703, -5.433300018310547, -5.521200180053711, -5.539899826049805, -5.714000225067139, -5.765900135040283, -5.871300220489502, -5.904300212860107, -5.968999862670898, -5.981200218200684, -4.610599994659424, -6.074999809265137, -6.144899845123291, -6.1493000984191895, -6.155799865722656, -6.170000076293945, -6.2052001953125, -6.245500087738037, -6.2820000648498535, -6.298900127410889, -6.309899806976318, -5.544400215148926, -6.469200134277344, -6.516300201416016, -6.519999980926514, -6.531499862670898, -6.54449987411499, -4.7906999588012695, -5.109300136566162, -5.726099967956543, -5.010000228881836, -5.030700206756592, -3.9593000411987305, -4.553400039672852, -5.468299865722656, -3.4460999965667725, -4.869900226593018, -4.2017998695373535, -5.6128997802734375, -4.9741997718811035, -4.435200214385986, -5.450500011444092, -4.634399890899658, -4.967199802398682, -4.610199928283691, -5.651599884033203, -5.497000217437744, -5.169099807739258, -5.047599792480469, -4.77239990234375, -5.032100200653076, -4.936200141906738, -5.171599864959717, -5.180500030517578, -5.048099994659424, -5.409299850463867, -5.36359977722168, -4.185299873352051, -4.3597002029418945, -4.652599811553955, -4.89739990234375, -4.936699867248535, -5.037399768829346, -5.075900077819824, -5.10699987411499, -5.172900199890137, -5.3958001136779785, -5.738500118255615, -2.957200050354004, -5.979300022125244, -6.02370023727417, -6.088399887084961, -6.11359977722168, -6.145899772644043, -6.163700103759766, -6.193399906158447, -6.244800090789795, -6.348199844360352, -6.378499984741211, -6.370100021362305, -6.372000217437744, -6.390999794006348, -6.428599834442139, -6.4257001876831055, -6.454400062561035, -6.502200126647949, -6.506899833679199, -4.934000015258789, -3.8225998878479004, -6.13100004196167, -5.478799819946289, -5.30810022354126, -4.7052001953125, -5.233500003814697, -5.5233001708984375, -5.365600109100342, -4.843400001525879, -4.6956000328063965, -4.687099933624268, -5.140900135040283, -4.618299961090088, -3.927799940109253, -4.880300045013428, -5.756499767303467, -4.858099937438965, -5.0742998123168945, -4.632599830627441, -4.612800121307373, -4.7565999031066895, -5.01609992980957, -5.030799865722656, -5.121600151062012, -5.157400131225586, -5.002399921417236, -5.03980016708374, -5.326000213623047, -5.568900108337402, -5.643099784851074, -5.6631999015808105, -5.653299808502197, -5.782800197601318, -5.789400100708008, -5.7916998863220215, -5.877600193023682, -5.882400035858154, -5.916999816894531, -5.90500020980835, -5.924300193786621, -5.889400005340576, -6.043700218200684, -6.067399978637695, -6.117700099945068, -6.114299774169922, -6.159200191497803, -6.202899932861328, -6.191299915313721, -6.226399898529053, -6.240200042724609, -6.238699913024902, -6.25570011138916, -6.264100074768066, -6.263700008392334, -6.268499851226807, -4.5472002029418945, -5.696300029754639, -4.890999794006348, -5.3242998123168945, -5.677599906921387, -5.001999855041504, -4.572700023651123, -4.041399955749512, -5.129799842834473, -6.048500061035156, -4.76140022277832, -5.413099765777588, -5.519100189208984, -5.140500068664551, -4.752200126647949, -4.873899936676025, -4.972700119018555, -3.992799997329712, -5.482699871063232, -5.243100166320801, -5.029799938201904, -5.065899848937988, -4.7947998046875, -4.855100154876709, -5.320499897003174, -5.32420015335083, -5.571899890899658, -5.331200122833252, -5.589799880981445, -5.57859992980957, -5.576300144195557, -4.331900119781494, -4.407599925994873, -4.639100074768066, -4.993199825286865, -5.1732001304626465, -5.160399913787842, -5.288899898529053, -5.018599987030029, -5.434000015258789, -5.471700191497803, -5.549799919128418, -5.559000015258789, -5.5295000076293945, -5.53439998626709, -5.55019998550415, -5.591700077056885, -5.6020002365112305, -5.5883002281188965, -5.615600109100342, -5.621099948883057, -5.870999813079834, -5.931700229644775, -5.932799816131592, -5.811500072479248, -5.991799831390381, -6.007800102233887, -6.042600154876709, -6.060999870300293, -6.098899841308594, -6.10699987411499, -6.072500228881836, -5.138000011444092, -3.9137001037597656, -5.594600200653076, -4.796800136566162, -4.731299877166748, -5.042200088500977, -4.289599895477295, -5.575699806213379, -4.582900047302246, -3.8917999267578125, -4.337500095367432, -4.69980001449585, -4.821400165557861, -5.356299877166748, -5.432199954986572, -5.146699905395508, -5.2291998863220215, -5.335000038146973, -5.312600135803223, -5.1921000480651855, -5.3917999267578125, -5.452300071716309, -3.7864999771118164, -3.934999942779541, -4.414000034332275, -4.448200225830078, -4.6356000900268555, -4.670000076293945, -4.772500038146973, -4.9375, -5.101900100708008, -5.153900146484375, -5.16540002822876, -5.280099868774414, -5.370200157165527, -5.3744001388549805, -5.4105000495910645, -5.389999866485596, -5.448999881744385, -5.462299823760986, -5.440499782562256, -5.4670000076293945, -5.478300094604492, -5.440700054168701, -5.525899887084961, -5.538000106811523, -5.472499847412109, -5.6255998611450195, -5.680799961090088, -5.69789981842041, -5.707099914550781, -5.748700141906738, -5.736000061035156, -5.209400177001953, -4.948800086975098, -5.631499767303467, -5.406499862670898, -5.61329984664917, -5.621200084686279]}, \"token.table\": {\"Topic\": [2, 1, 2, 3, 4, 4, 4, 4, 1, 5, 1, 3, 5, 5, 1, 2, 3, 4, 1, 3, 2, 3, 3, 4, 5, 3, 3, 2, 1, 2, 3, 1, 2, 4, 2, 4, 5, 4, 5, 4, 2, 5, 1, 3, 1, 2, 2, 4, 3, 1, 1, 3, 2, 3, 2, 3, 2, 2, 4, 1, 2, 1, 2, 1, 2, 4, 2, 2, 4, 1, 2, 2, 5, 3, 4, 3, 4, 2, 5, 2, 2, 5, 1, 1, 3, 4, 1, 3, 1, 2, 3, 4, 1, 2, 3, 2, 4, 1, 2, 1, 2, 4, 5, 3, 4, 1, 2, 3, 1, 2, 1, 4, 5, 1, 2, 1, 2, 1, 2, 3, 4, 3, 5, 3, 4, 5, 2, 1, 2, 4, 5, 1, 2, 4, 2, 5, 4, 1, 3, 1, 2, 2, 5, 1, 2, 3, 1, 2, 3, 1, 2, 3, 2, 2, 3, 1, 2, 3, 5, 5, 1, 2, 3, 4, 2, 3, 4, 1, 3, 1, 2, 4, 5, 1, 2, 5, 1, 2, 3, 4, 5, 1, 2, 3, 5, 4, 1, 2, 4, 1, 2, 2, 1, 4, 2, 3, 4, 3, 1, 1, 5, 1, 2, 4, 5, 4, 1, 2, 5, 2, 1, 2, 3, 4, 5, 5, 3, 4, 3, 1, 2, 5, 1, 1, 2, 3, 5, 1, 1, 1, 2, 4, 1, 1, 4, 3, 1, 2, 4, 4, 1, 5, 2, 4, 2, 1, 3, 1, 2, 4, 2, 4, 4, 1, 2, 2, 3, 4, 4, 3, 1, 4, 1, 2, 4, 1, 2, 3, 3, 1, 2, 5, 2, 4, 3, 3, 3, 1, 2, 3, 2, 1, 3, 1, 4, 3, 2, 1, 1, 3, 2, 4, 3, 1, 2, 3, 4, 2, 3, 2, 3, 1, 3, 1, 2, 5, 2, 2, 3, 3, 1, 2, 5, 5, 1, 2, 1, 3, 4, 5, 4, 1, 2, 4, 1, 2, 3, 4, 1, 5, 2, 3, 5, 2, 3, 3, 1, 2, 3, 4, 1, 1, 2, 4, 1, 2, 3, 1, 3, 3, 3, 1, 1, 2, 1, 5, 4, 1, 3, 5, 3, 1, 1, 2, 1, 2, 4, 2, 4, 1, 2, 3, 4, 5, 4, 1, 3, 5, 3, 1, 5, 3, 1, 2, 3, 2, 1, 2, 4, 4, 1, 1, 1, 4, 5, 1, 2, 3, 5, 1, 1, 3, 4, 3, 5, 5, 1], \"Freq\": [0.9838641285896301, 0.5951390862464905, 0.13289514183998108, 0.01155609916895628, 0.2600122094154358, 0.9960914850234985, 0.9794711470603943, 0.9823692440986633, 0.9928600192070007, 0.9868165254592896, 0.9992203712463379, 0.9806357026100159, 0.9801879525184631, 0.9746447801589966, 0.6427897810935974, 0.2557767629623413, 0.09240102767944336, 0.00937401782721281, 0.3883005678653717, 0.608223021030426, 0.026828067377209663, 0.9523963928222656, 0.9841914176940918, 0.9871114492416382, 0.9925001859664917, 0.9855715036392212, 0.9900862574577332, 0.9910672903060913, 0.7291592359542847, 0.09550318121910095, 0.1743312031030655, 0.4153248965740204, 0.35449448227882385, 0.22968725860118866, 0.9435654282569885, 0.014743209816515446, 0.040543828159570694, 0.9826161861419678, 0.9973639845848083, 0.9767054319381714, 0.3700716197490692, 0.6038010120391846, 0.09304241091012955, 0.9050489068031311, 0.9941917657852173, 0.9920305609703064, 0.989780604839325, 0.9877704977989197, 0.9955263733863831, 0.9939612746238708, 0.0861174687743187, 0.9042333960533142, 0.9931906461715698, 0.9872310757637024, 0.04651252180337906, 0.948855459690094, 0.9837281107902527, 0.9931690692901611, 0.9964751601219177, 0.020965473726391792, 0.9775152206420898, 0.005911138840019703, 0.99381023645401, 0.17991766333580017, 0.799460232257843, 0.020338518545031548, 0.9990858435630798, 0.9903153777122498, 0.9923825263977051, 0.9901169538497925, 0.9971188902854919, 0.99195396900177, 0.9674103856086731, 0.7721996903419495, 0.22336354851722717, 0.5007925033569336, 0.4964566230773926, 0.9850252270698547, 0.008717037737369537, 0.9984736442565918, 0.9986990690231323, 0.9711273908615112, 0.9947576522827148, 0.16682274639606476, 0.8294797539710999, 0.9897438287734985, 0.43397316336631775, 0.5607518553733826, 0.9740794897079468, 0.020784057676792145, 0.0013856037985533476, 0.004156811162829399, 0.43830224871635437, 0.3591979742050171, 0.20179662108421326, 0.9824356436729431, 0.9833872318267822, 0.9950534701347351, 0.0035495366901159286, 0.19221659004688263, 0.7289723753929138, 0.05802765116095543, 0.021760368719697, 0.9826115965843201, 0.9895806908607483, 0.5346178412437439, 0.0022091646678745747, 0.4617154002189636, 0.13902337849140167, 0.8596751689910889, 0.05276147648692131, 0.861770749092102, 0.07914221286773682, 0.6686405539512634, 0.33001044392585754, 0.8959498405456543, 0.10357220470905304, 0.1367422342300415, 0.3379855453968048, 0.08256135135889053, 0.4411872327327728, 0.21472257375717163, 0.7763046622276306, 0.35497450828552246, 0.45972108840942383, 0.1803968846797943, 0.9925385117530823, 0.06806433200836182, 0.9302125573158264, 0.9916859865188599, 0.9739394783973694, 0.5520120859146118, 0.3977734446525574, 0.04986663907766342, 0.9916059374809265, 0.9913345575332642, 0.9713859558105469, 0.4888749122619629, 0.5079219937324524, 0.07668229192495346, 0.9201874732971191, 0.9859012365341187, 0.9488205313682556, 0.7900878190994263, 0.04602738097310066, 0.1635877639055252, 0.7712202072143555, 0.035353049635887146, 0.19247771799564362, 0.030059034004807472, 0.787546694278717, 0.18235814571380615, 0.9990442395210266, 0.9520308971405029, 0.04407550394535065, 0.16766183078289032, 0.8260838389396667, 0.003492954885587096, 0.003492954885587096, 0.9632846117019653, 0.18261082470417023, 0.6037337779998779, 0.141616553068161, 0.0708082765340805, 0.38421350717544556, 0.0018383421702310443, 0.6140062808990479, 0.9949510097503662, 0.9880843162536621, 0.033423542976379395, 0.8523003458976746, 0.07938091456890106, 0.03551251441240311, 0.03493222966790199, 0.964470386505127, 0.985591471195221, 0.5930958986282349, 0.08773607760667801, 0.052641645073890686, 0.26671767234802246, 0.9627609848976135, 0.16256500780582428, 0.14657500386238098, 0.6902350187301636, 0.9551001191139221, 0.9871636033058167, 0.635840654373169, 0.3559325337409973, 0.008063197135925293, 0.9161851406097412, 0.08020476251840591, 0.9903648495674133, 0.9966273903846741, 0.9800138473510742, 0.07116813957691193, 0.9251857995986938, 0.9689772725105286, 0.986857533454895, 0.997101902961731, 0.9938417673110962, 0.9726978540420532, 0.17669421434402466, 0.8104147911071777, 0.005096948705613613, 0.00679593114182353, 0.973824143409729, 0.05780012160539627, 0.7803016304969788, 0.1610146313905716, 0.987848699092865, 0.21171927452087402, 0.005671051796525717, 0.493381530046463, 0.28733330965042114, 0.97282874584198, 0.9746962189674377, 0.9825242757797241, 0.9775712490081787, 0.9905691146850586, 0.0997416079044342, 0.8976745009422302, 0.9968140721321106, 0.9955969452857971, 0.8192999958992004, 0.08542464673519135, 0.0944848358631134, 0.9643126130104065, 0.9948334693908691, 0.9904525279998779, 0.10502757877111435, 0.052513789385557175, 0.827092170715332, 0.9962483048439026, 0.9996342062950134, 0.9867562055587769, 0.9899629354476929, 0.8798879981040955, 0.11877275258302689, 0.9703172445297241, 0.978836715221405, 0.9962053894996643, 0.989936113357544, 0.6817166805267334, 0.3173508644104004, 0.9937166571617126, 0.6516843438148499, 0.34671786427497864, 0.9388462901115417, 0.06076675280928612, 0.9964126348495483, 0.3392409384250641, 0.6561633944511414, 0.9847985506057739, 0.867003858089447, 0.13190315663814545, 0.4614214301109314, 0.11681555211544037, 0.42053598165512085, 0.9850761294364929, 0.9894654154777527, 0.9969719052314758, 0.9836061596870422, 0.9339103698730469, 0.018576879054307938, 0.04728659987449646, 0.8713846206665039, 0.1280335634946823, 0.9914432764053345, 0.9904569387435913, 0.5459285378456116, 0.45329153537750244, 0.977149248123169, 0.4435436725616455, 0.5487913489341736, 0.9775993824005127, 0.9849574565887451, 0.9894773960113525, 0.7277683615684509, 0.023896871134638786, 0.24765847623348236, 0.9962347149848938, 0.20366860926151276, 0.7968534231185913, 0.8564131259918213, 0.14314685761928558, 0.9904218912124634, 0.9952521324157715, 0.9922056794166565, 0.6009368300437927, 0.3970475494861603, 0.11209391057491302, 0.8687278032302856, 0.9850003719329834, 0.3200945556163788, 0.26742076873779297, 0.40113118290901184, 0.01215548999607563, 0.9109402298927307, 0.08657696843147278, 0.9960634708404541, 0.9825323224067688, 0.11955828964710236, 0.8754752278327942, 0.9840484261512756, 0.014261571690440178, 0.9844088554382324, 0.9932077527046204, 0.18062691390514374, 0.812821090221405, 0.9857138395309448, 0.9922956824302673, 0.9967622756958008, 0.9661445617675781, 0.9791868329048157, 0.9913187623023987, 0.9961533546447754, 0.16198407113552094, 0.6583868265151978, 0.09405526518821716, 0.08360467851161957, 0.9762760996818542, 0.24807319045066833, 0.03916944935917854, 0.7050501108169556, 0.6971491575241089, 0.24673449993133545, 0.006623744964599609, 0.04967808723449707, 0.9985083937644958, 0.9631776213645935, 0.9956315755844116, 0.9924358129501343, 0.9873557090759277, 0.4440717101097107, 0.5514296889305115, 0.982188880443573, 0.5627720355987549, 0.4040011763572693, 0.01021792832762003, 0.023579834029078484, 0.9986342787742615, 0.045572519302368164, 0.7144368886947632, 0.23908045887947083, 0.031747717410326004, 0.9388253688812256, 0.031747717410326004, 0.14988669753074646, 0.845194399356842, 0.9895660877227783, 0.9843946695327759, 0.996847927570343, 0.9938235878944397, 0.006004976574331522, 0.34931567311286926, 0.6457046866416931, 0.9865846037864685, 0.9336493611335754, 0.06456086039543152, 0.973838210105896, 0.993450403213501, 0.9994401335716248, 0.9756705164909363, 0.022912029176950455, 0.7424169182777405, 0.15707822144031525, 0.10002622753381729, 0.301554799079895, 0.6935760378837585, 0.07060856372117996, 0.4846315085887909, 0.14121712744235992, 0.26317736506462097, 0.03851376101374626, 0.9909518361091614, 0.8934505581855774, 0.10600260645151138, 0.9868128895759583, 0.9877051711082458, 0.2033289223909378, 0.7878995537757874, 0.9942760467529297, 0.2471064180135727, 0.021965015679597855, 0.7303367853164673, 0.9955441355705261, 0.75101637840271, 0.05364402383565903, 0.19272112846374512, 0.9851738214492798, 0.9912803173065186, 0.9950807094573975, 0.00892773736268282, 0.9909788966178894, 0.9876317381858826, 0.9438535571098328, 0.002643847605213523, 0.021150780841708183, 0.034370020031929016, 0.9958400130271912, 0.7135968208312988, 0.20512647926807404, 0.08083374053239822, 0.9894996285438538, 0.9679450392723083, 0.9708877801895142, 0.992459774017334], \"Term\": [\"act\", \"action\", \"action\", \"action\", \"action\", \"activity\", \"actor\", \"adjust\", \"adopt\", \"age\", \"agent\", \"agreement\", \"allocation\", \"alone\", \"also\", \"also\", \"also\", \"also\", \"approach\", \"approach\", \"argue\", \"argue\", \"article\", \"assess\", \"attack\", \"attention\", \"available\", \"avoid\", \"base\", \"base\", \"base\", \"behavior\", \"behavior\", \"behavior\", \"benefit\", \"benefit\", \"benefit\", \"brain\", \"cell\", \"cheat\", \"cheater\", \"cheater\", \"classical\", \"classical\", \"cluster\", \"coevolutionary\", \"coexistence\", \"cognitive\", \"collective\", \"complex\", \"concept\", \"concept\", \"conditional\", \"constraint\", \"construct\", \"construct\", \"contribute\", \"contribution\", \"control\", \"cooperate\", \"cooperate\", \"cooperation\", \"cooperation\", \"cooperative\", \"cooperative\", \"cooperative\", \"cooperator\", \"coordination\", \"correlate\", \"correspond\", \"cost\", \"costly\", \"customer\", \"datum\", \"datum\", \"decision\", \"decision\", \"decrease\", \"decrease\", \"defection\", \"defector\", \"demographic\", \"derive\", \"design\", \"design\", \"determinant\", \"develop\", \"develop\", \"different\", \"different\", \"different\", \"different\", \"dilemma\", \"dilemma\", \"dilemma\", \"dominance\", \"donation\", \"dynamic\", \"dynamic\", \"effect\", \"effect\", \"effect\", \"effect\", \"effort\", \"emotion\", \"equilibrium\", \"equilibrium\", \"equilibrium\", \"even\", \"even\", \"evidence\", \"evidence\", \"evidence\", \"evolution\", \"evolution\", \"evolutionary\", \"evolutionary\", \"experiment\", \"experiment\", \"experiment\", \"experiment\", \"expression\", \"expression\", \"face\", \"face\", \"face\", \"fact\", \"favor\", \"favor\", \"feedback\", \"female\", \"find\", \"find\", \"find\", \"fixation\", \"formation\", \"forward\", \"framework\", \"framework\", \"free\", \"free\", \"frequency\", \"frustration\", \"game\", \"game\", \"game\", \"give\", \"give\", \"give\", \"good\", \"good\", \"good\", \"group\", \"help\", \"help\", \"high\", \"high\", \"high\", \"high\", \"host\", \"however\", \"however\", \"however\", \"however\", \"human\", \"human\", \"human\", \"imitation\", \"incentive\", \"increase\", \"increase\", \"increase\", \"increase\", \"individual\", \"individual\", \"infection\", \"influence\", \"influence\", \"influence\", \"influence\", \"influential\", \"information\", \"information\", \"information\", \"ingroup\", \"intention\", \"interaction\", \"interaction\", \"interaction\", \"introduce\", \"introduce\", \"invasion\", \"iterate\", \"keep\", \"knowledge\", \"knowledge\", \"laboratory\", \"landscape\", \"lattice\", \"learning\", \"leave\", \"level\", \"level\", \"level\", \"level\", \"line\", \"low\", \"low\", \"low\", \"maintain\", \"make\", \"make\", \"make\", \"make\", \"male\", \"man\", \"market\", \"master\", \"measurement\", \"mechanism\", \"mechanism\", \"member\", \"memory\", \"model\", \"model\", \"model\", \"monitor\", \"multiple\", \"mutation\", \"negative\", \"negative\", \"negative\", \"neighbor\", \"network\", \"neural\", \"notion\", \"number\", \"number\", \"observed\", \"online\", \"opponent\", \"organization\", \"other\", \"other\", \"pair\", \"paper\", \"paper\", \"parameter\", \"parameter\", \"participant\", \"partner\", \"partner\", \"path\", \"payoff\", \"payoff\", \"people\", \"people\", \"people\", \"perception\", \"perspective\", \"phase\", \"physical\", \"play\", \"play\", \"play\", \"player\", \"player\", \"policy\", \"pool\", \"population\", \"population\", \"position\", \"positive\", \"positive\", \"practice\", \"price\", \"principle\", \"prisoner\", \"prisoner\", \"prisoner\", \"probability\", \"problem\", \"problem\", \"process\", \"process\", \"profit\", \"promote\", \"property\", \"propose\", \"propose\", \"prosocial\", \"prosocial\", \"protocol\", \"provide\", \"provide\", \"provide\", \"provide\", \"public\", \"public\", \"punishment\", \"quantization\", \"quantum\", \"quantum\", \"random\", \"random\", \"rating\", \"ratio\", \"rational\", \"rational\", \"rationality\", \"real\", \"reciprocity\", \"refer\", \"removal\", \"represent\", \"reputation\", \"research\", \"research\", \"research\", \"research\", \"respond\", \"response\", \"response\", \"response\", \"result\", \"result\", \"result\", \"result\", \"rule\", \"sample\", \"scale\", \"scheme\", \"sex\", \"share\", \"share\", \"sharing\", \"show\", \"show\", \"show\", \"show\", \"simulation\", \"social\", \"social\", \"social\", \"society\", \"society\", \"society\", \"solution\", \"solution\", \"solve\", \"source\", \"space\", \"spatial\", \"spatial\", \"specie\", \"specie\", \"spontaneous\", \"state\", \"state\", \"strain\", \"strategic\", \"strategy\", \"structure\", \"structure\", \"study\", \"study\", \"study\", \"subject\", \"subject\", \"suggest\", \"suggest\", \"suggest\", \"suggest\", \"suggest\", \"switch\", \"system\", \"system\", \"task\", \"team\", \"tell\", \"tell\", \"theoretic\", \"theory\", \"theory\", \"theory\", \"threshold\", \"time\", \"time\", \"time\", \"together\", \"topology\", \"transition\", \"trust\", \"trust\", \"tumor\", \"type\", \"type\", \"type\", \"type\", \"update\", \"use\", \"use\", \"use\", \"user\", \"virus\", \"woman\", \"world\"]}, \"R\": 30, \"lambda.step\": 0.01, \"plot.opts\": {\"xlab\": \"PC1\", \"ylab\": \"PC2\"}, \"topic.order\": [4, 5, 3, 2, 1]};\n",
       "\n",
       "function LDAvis_load_lib(url, callback){\n",
       "  var s = document.createElement('script');\n",
       "  s.src = url;\n",
       "  s.async = true;\n",
       "  s.onreadystatechange = s.onload = callback;\n",
       "  s.onerror = function(){console.warn(\"failed to load library \" + url);};\n",
       "  document.getElementsByTagName(\"head\")[0].appendChild(s);\n",
       "}\n",
       "\n",
       "if(typeof(LDAvis) !== \"undefined\"){\n",
       "   // already loaded: just create the visualization\n",
       "   !function(LDAvis){\n",
       "       new LDAvis(\"#\" + \"ldavis_el5898949924165289477828001\", ldavis_el5898949924165289477828001_data);\n",
       "   }(LDAvis);\n",
       "}else if(typeof define === \"function\" && define.amd){\n",
       "   // require.js is available: use it to load d3/LDAvis\n",
       "   require.config({paths: {d3: \"https://cdnjs.cloudflare.com/ajax/libs/d3/3.5.5/d3.min\"}});\n",
       "   require([\"d3\"], function(d3){\n",
       "      window.d3 = d3;\n",
       "      LDAvis_load_lib(\"https://cdn.rawgit.com/bmabey/pyLDAvis/files/ldavis.v1.0.0.js\", function(){\n",
       "        new LDAvis(\"#\" + \"ldavis_el5898949924165289477828001\", ldavis_el5898949924165289477828001_data);\n",
       "      });\n",
       "    });\n",
       "}else{\n",
       "    // require.js not available: dynamically load d3 & LDAvis\n",
       "    LDAvis_load_lib(\"https://cdnjs.cloudflare.com/ajax/libs/d3/3.5.5/d3.min.js\", function(){\n",
       "         LDAvis_load_lib(\"https://cdn.rawgit.com/bmabey/pyLDAvis/files/ldavis.v1.0.0.js\", function(){\n",
       "                 new LDAvis(\"#\" + \"ldavis_el5898949924165289477828001\", ldavis_el5898949924165289477828001_data);\n",
       "            })\n",
       "         });\n",
       "}\n",
       "</script>"
      ],
      "text/plain": [
       "PreparedData(topic_coordinates=              x         y  topics  cluster       Freq\n",
       "topic                                                \n",
       "3      0.213708 -0.048510       1        1  44.062511\n",
       "4      0.156347  0.195412       2        1  26.968443\n",
       "2      0.048226 -0.248031       3        1  15.761373\n",
       "1     -0.130466  0.132718       4        1   8.714449\n",
       "0     -0.287815 -0.031588       5        1   4.493224, topic_info=     Category         Freq         Term        Total  loglift  logprob\n",
       "52    Default  2706.000000  cooperation  2706.000000  30.0000  30.0000\n",
       "21    Default  2851.000000     strategy  2851.000000  29.0000  29.0000\n",
       "845   Default  1426.000000       social  1426.000000  28.0000  28.0000\n",
       "173   Default  1173.000000   individual  1173.000000  27.0000  27.0000\n",
       "111   Default  1713.000000      network  1713.000000  26.0000  26.0000\n",
       "...       ...          ...          ...          ...      ...      ...\n",
       "1319   Topic5    61.165966       specie    94.470428   2.6679  -4.9488\n",
       "759    Topic5    30.903009         tell    39.345116   2.8611  -5.6315\n",
       "434    Topic5    38.701820          low   242.214020   1.2687  -5.4065\n",
       "3644   Topic5    31.471149      cheater    51.341415   2.6132  -5.6133\n",
       "484    Topic5    31.223843         face   171.843323   1.3972  -5.6212\n",
       "\n",
       "[297 rows x 6 columns], token_table=      Topic      Freq    Term\n",
       "term                         \n",
       "659       2  0.983864     act\n",
       "131       1  0.595139  action\n",
       "131       2  0.132895  action\n",
       "131       3  0.011556  action\n",
       "131       4  0.260012  action\n",
       "...     ...       ...     ...\n",
       "324       4  0.080834     use\n",
       "1587      3  0.989500    user\n",
       "4015      5  0.967945   virus\n",
       "1698      5  0.970888   woman\n",
       "870       1  0.992460   world\n",
       "\n",
       "[407 rows x 3 columns], R=30, lambda_step=0.01, plot_opts={'xlab': 'PC1', 'ylab': 'PC2'}, topic_order=[4, 5, 3, 2, 1])"
      ]
     },
     "execution_count": 35,
     "metadata": {},
     "output_type": "execute_result"
    }
   ],
   "source": [
    "pyLDAvis.enable_notebook()\n",
    "vis = pyLDAvis.gensim.prepare(lda_model, corpus, id2word)\n",
    "vis"
   ]
  },
  {
   "cell_type": "code",
   "execution_count": 37,
   "metadata": {},
   "outputs": [
    {
     "name": "stdout",
     "output_type": "stream",
     "text": [
      "[(0,\n",
      "  '0.040*\"social\" + 0.031*\"behavior\" + 0.018*\"human\" + 0.016*\"study\" + '\n",
      "  '0.013*\"experiment\" + 0.012*\"cooperative\" + 0.011*\"cooperation\" + '\n",
      "  '0.010*\"suggest\" + 0.009*\"find\" + 0.009*\"behaviour\"'),\n",
      " (1,\n",
      "  '0.027*\"individual\" + 0.025*\"group\" + 0.015*\"good\" + 0.012*\"show\" + '\n",
      "  '0.012*\"high\" + 0.012*\"increase\" + 0.011*\"punishment\" + 0.011*\"cost\" + '\n",
      "  '0.011*\"result\" + 0.009*\"benefit\"'),\n",
      " (2,\n",
      "  '0.092*\"game\" + 0.073*\"strategy\" + 0.047*\"player\" + 0.036*\"agent\" + '\n",
      "  '0.025*\"dilemma\" + 0.020*\"play\" + 0.015*\"payoff\" + 0.015*\"state\" + '\n",
      "  '0.012*\"prisoner\" + 0.012*\"equilibrium\"'),\n",
      " (3,\n",
      "  '0.061*\"cooperation\" + 0.043*\"network\" + 0.030*\"population\" + '\n",
      "  '0.026*\"evolutionary\" + 0.024*\"evolution\" + 0.022*\"interaction\" + '\n",
      "  '0.020*\"dynamic\" + 0.017*\"structure\" + 0.016*\"cooperator\" + 0.015*\"study\"'),\n",
      " (4,\n",
      "  '0.034*\"model\" + 0.023*\"theory\" + 0.019*\"base\" + 0.016*\"system\" + '\n",
      "  '0.012*\"problem\" + 0.012*\"paper\" + 0.011*\"propose\" + 0.011*\"information\" + '\n",
      "  '0.010*\"provide\" + 0.009*\"approach\"')]\n"
     ]
    }
   ],
   "source": [
    "pprint(model_list[3].print_topics())"
   ]
  },
  {
   "cell_type": "code",
   "execution_count": 46,
   "metadata": {},
   "outputs": [],
   "source": [
    "lda_model = gensim.models.ldamodel.LdaModel(corpus=corpus,\n",
    "                                           id2word=id2word,\n",
    "                                           num_topics=4, \n",
    "                                           random_state=100,\n",
    "                                           update_every=1,\n",
    "                                           chunksize=100,\n",
    "                                           passes=10,\n",
    "                                           alpha='auto',\n",
    "                                           per_word_topics=True)"
   ]
  },
  {
   "cell_type": "code",
   "execution_count": 47,
   "metadata": {},
   "outputs": [
    {
     "name": "stderr",
     "output_type": "stream",
     "text": [
      "//anaconda3/envs/literature/lib/python3.6/site-packages/pyLDAvis/_prepare.py:257: FutureWarning: Sorting because non-concatenation axis is not aligned. A future version\n",
      "of pandas will change to not sort by default.\n",
      "\n",
      "To accept the future behavior, pass 'sort=False'.\n",
      "\n",
      "To retain the current behavior and silence the warning, pass 'sort=True'.\n",
      "\n",
      "  return pd.concat([default_term_info] + list(topic_dfs))\n"
     ]
    },
    {
     "data": {
      "text/html": [
       "\n",
       "<link rel=\"stylesheet\" type=\"text/css\" href=\"https://cdn.rawgit.com/bmabey/pyLDAvis/files/ldavis.v1.0.0.css\">\n",
       "\n",
       "\n",
       "<div id=\"ldavis_el2155349249869762771239859\"></div>\n",
       "<script type=\"text/javascript\">\n",
       "\n",
       "var ldavis_el2155349249869762771239859_data = {\"mdsDat\": {\"x\": [0.18101260381540069, 0.18716950877839159, -0.09874924003595119, -0.26943287255784104], \"y\": [0.0038259651966301533, 0.09298885366287236, -0.25885505295952255, 0.16204023410002005], \"topics\": [1, 2, 3, 4], \"cluster\": [1, 1, 1, 1], \"Freq\": [45.52013397216797, 34.825103759765625, 13.778636932373047, 5.876123905181885]}, \"tinfo\": {\"Category\": [\"Default\", \"Default\", \"Default\", \"Default\", \"Default\", \"Default\", \"Default\", \"Default\", \"Default\", \"Default\", \"Default\", \"Default\", \"Default\", \"Default\", \"Default\", \"Default\", \"Default\", \"Default\", \"Default\", \"Default\", \"Default\", \"Default\", \"Default\", \"Default\", \"Default\", \"Default\", \"Default\", \"Default\", \"Default\", \"Default\", \"Topic1\", \"Topic1\", \"Topic1\", \"Topic1\", \"Topic1\", \"Topic1\", \"Topic1\", \"Topic1\", \"Topic1\", \"Topic1\", \"Topic1\", \"Topic1\", \"Topic1\", \"Topic1\", \"Topic1\", \"Topic1\", \"Topic1\", \"Topic1\", \"Topic1\", \"Topic1\", \"Topic1\", \"Topic1\", \"Topic1\", \"Topic1\", \"Topic1\", \"Topic1\", \"Topic1\", \"Topic1\", \"Topic1\", \"Topic1\", \"Topic1\", \"Topic1\", \"Topic1\", \"Topic1\", \"Topic1\", \"Topic1\", \"Topic1\", \"Topic1\", \"Topic1\", \"Topic1\", \"Topic1\", \"Topic1\", \"Topic1\", \"Topic1\", \"Topic1\", \"Topic1\", \"Topic1\", \"Topic1\", \"Topic1\", \"Topic1\", \"Topic1\", \"Topic1\", \"Topic1\", \"Topic1\", \"Topic1\", \"Topic1\", \"Topic1\", \"Topic1\", \"Topic1\", \"Topic1\", \"Topic1\", \"Topic2\", \"Topic2\", \"Topic2\", \"Topic2\", \"Topic2\", \"Topic2\", \"Topic2\", \"Topic2\", \"Topic2\", \"Topic2\", \"Topic2\", \"Topic2\", \"Topic2\", \"Topic2\", \"Topic2\", \"Topic2\", \"Topic2\", \"Topic2\", \"Topic2\", \"Topic2\", \"Topic2\", \"Topic2\", \"Topic2\", \"Topic2\", \"Topic2\", \"Topic2\", \"Topic2\", \"Topic2\", \"Topic2\", \"Topic2\", \"Topic2\", \"Topic2\", \"Topic2\", \"Topic2\", \"Topic2\", \"Topic2\", \"Topic2\", \"Topic2\", \"Topic2\", \"Topic2\", \"Topic2\", \"Topic2\", \"Topic2\", \"Topic2\", \"Topic2\", \"Topic2\", \"Topic2\", \"Topic2\", \"Topic2\", \"Topic2\", \"Topic2\", \"Topic2\", \"Topic3\", \"Topic3\", \"Topic3\", \"Topic3\", \"Topic3\", \"Topic3\", \"Topic3\", \"Topic3\", \"Topic3\", \"Topic3\", \"Topic3\", \"Topic3\", \"Topic3\", \"Topic3\", \"Topic3\", \"Topic3\", \"Topic3\", \"Topic3\", \"Topic3\", \"Topic3\", \"Topic3\", \"Topic3\", \"Topic3\", \"Topic3\", \"Topic3\", \"Topic3\", \"Topic3\", \"Topic3\", \"Topic3\", \"Topic3\", \"Topic3\", \"Topic3\", \"Topic3\", \"Topic3\", \"Topic3\", \"Topic3\", \"Topic3\", \"Topic3\", \"Topic3\", \"Topic3\", \"Topic3\", \"Topic3\", \"Topic3\", \"Topic3\", \"Topic3\", \"Topic3\", \"Topic3\", \"Topic3\", \"Topic3\", \"Topic3\", \"Topic3\", \"Topic3\", \"Topic4\", \"Topic4\", \"Topic4\", \"Topic4\", \"Topic4\", \"Topic4\", \"Topic4\", \"Topic4\", \"Topic4\", \"Topic4\", \"Topic4\", \"Topic4\", \"Topic4\", \"Topic4\", \"Topic4\", \"Topic4\", \"Topic4\", \"Topic4\", \"Topic4\", \"Topic4\", \"Topic4\", \"Topic4\", \"Topic4\", \"Topic4\", \"Topic4\", \"Topic4\", \"Topic4\", \"Topic4\", \"Topic4\", \"Topic4\", \"Topic4\", \"Topic4\", \"Topic4\", \"Topic4\", \"Topic4\", \"Topic4\", \"Topic4\", \"Topic4\", \"Topic4\", \"Topic4\", \"Topic4\", \"Topic4\", \"Topic4\"], \"Freq\": [1728.0, 2036.0, 3660.0, 967.0, 2479.0, 1135.0, 976.0, 777.0, 843.0, 693.0, 3045.0, 837.0, 663.0, 249.0, 745.0, 467.0, 162.0, 438.0, 740.0, 136.0, 1591.0, 364.0, 340.0, 1107.0, 115.0, 310.0, 454.0, 233.0, 286.0, 382.0, 662.5921020507812, 381.3828430175781, 369.7863464355469, 366.1158447265625, 355.6741638183594, 345.7380676269531, 335.1139831542969, 311.7962951660156, 296.7737731933594, 287.49896240234375, 266.0181579589844, 288.15380859375, 245.29298400878906, 207.7429656982422, 2028.407470703125, 174.3280029296875, 181.97439575195312, 171.62403869628906, 168.4888153076172, 175.510986328125, 164.21246337890625, 168.76451110839844, 150.11277770996094, 146.4484100341797, 134.7655029296875, 130.1788330078125, 127.97574615478516, 129.35256958007812, 121.96295166015625, 120.57856750488281, 173.86300659179688, 173.1669921875, 367.8357238769531, 190.6817626953125, 489.7663879394531, 603.7791137695312, 3121.066162109375, 204.65142822265625, 952.179443359375, 2046.072998046875, 978.2761840820312, 402.80419921875, 234.2598419189453, 476.80340576171875, 247.47149658203125, 816.5383911132812, 610.6862182617188, 481.7462463378906, 719.5262451171875, 497.9598693847656, 315.2779541015625, 661.69775390625, 386.03887939453125, 364.24176025390625, 570.3723754882812, 452.50048828125, 679.8052368164062, 466.9959716796875, 522.498291015625, 352.36492919921875, 349.54632568359375, 1727.3599853515625, 976.1104736328125, 777.0001220703125, 692.4046630859375, 466.88800048828125, 339.7597351074219, 309.69122314453125, 285.59320068359375, 269.8287353515625, 270.7023010253906, 262.67059326171875, 259.7398986816406, 248.39295959472656, 437.1951599121094, 241.98672485351562, 224.59996032714844, 204.85585021972656, 182.28396606445312, 163.14891052246094, 161.30316162109375, 156.15570068359375, 149.4102020263672, 143.67510986328125, 362.18328857421875, 139.90858459472656, 137.6499481201172, 135.6083526611328, 132.56385803222656, 133.32666015625, 120.71210479736328, 1092.3160400390625, 808.8385009765625, 182.88323974609375, 751.9252319335938, 824.081298828125, 1799.1551513671875, 577.6314086914062, 390.441162109375, 1025.86474609375, 639.839599609375, 696.80419921875, 684.518798828125, 998.6891479492188, 410.8848571777344, 525.7628784179688, 495.1664123535156, 413.3442077636719, 375.43914794921875, 363.2774353027344, 539.2437744140625, 338.0409851074219, 317.01617431640625, 130.22665405273438, 111.50975036621094, 101.54650115966797, 108.24134063720703, 90.51557922363281, 87.85779571533203, 88.36434936523438, 82.9471435546875, 84.45154571533203, 87.48876190185547, 79.1354751586914, 79.29422760009766, 81.89057159423828, 94.48462677001953, 71.08828735351562, 67.86715698242188, 66.15264892578125, 65.20903015136719, 60.56891632080078, 65.13209533691406, 66.46056365966797, 59.45892333984375, 57.366512298583984, 56.6480712890625, 54.831974029541016, 55.58005142211914, 59.332679748535156, 60.09687805175781, 57.041954040527344, 51.83425521850586, 60.426883697509766, 122.3382797241211, 114.8248291015625, 78.62785339355469, 155.42071533203125, 145.2967071533203, 122.70133972167969, 77.47537994384766, 92.2984848022461, 90.01739501953125, 76.50521850585938, 94.76229858398438, 187.1562957763672, 124.59101104736328, 134.50274658203125, 123.5131607055664, 108.18568420410156, 132.81912231445312, 123.77043151855469, 122.95049285888672, 83.362548828125, 81.69646453857422, 161.22784423828125, 135.20335388183594, 114.15179443359375, 77.40140533447266, 64.29472351074219, 64.14028930664062, 57.61888885498047, 55.59941101074219, 64.90525817871094, 47.737308502197266, 51.71556091308594, 42.143672943115234, 44.773841857910156, 42.82825469970703, 41.716522216796875, 36.972469329833984, 34.85486602783203, 36.969234466552734, 39.46537399291992, 34.250755310058594, 31.91090202331543, 31.88284683227539, 38.35681915283203, 32.119163513183594, 31.00106430053711, 32.35763931274414, 29.961467742919922, 30.555240631103516, 30.983732223510742, 35.30649185180664, 59.210838317871094, 35.864803314208984, 35.11798095703125, 47.02067565917969, 38.876991271972656, 68.29535675048828, 54.84247970581055, 56.8022575378418, 94.43356323242188, 142.85227966308594, 47.7935905456543, 39.68391036987305, 37.97997283935547], \"Term\": [\"network\", \"player\", \"game\", \"population\", \"cooperation\", \"agent\", \"evolutionary\", \"evolution\", \"dynamic\", \"cooperator\", \"strategy\", \"interaction\", \"group\", \"rate\", \"system\", \"structure\", \"cell\", \"defector\", \"theory\", \"mutation\", \"model\", \"rule\", \"spatial\", \"individual\", \"coexistence\", \"simulation\", \"increase\", \"design\", \"degree\", \"cooperate\", \"group\", \"cooperate\", \"iterate\", \"experiment\", \"action\", \"classical\", \"probability\", \"punishment\", \"opponent\", \"equilibrium\", \"quantum\", \"selection\", \"reward\", \"repeat\", \"player\", \"subject\", \"extend\", \"partner\", \"participant\", \"control\", \"reputation\", \"able\", \"nash_equilibrium\", \"member\", \"pure\", \"utility\", \"move\", \"mutual\", \"round\", \"contribution\", \"memory\", \"version\", \"set\", \"know\", \"prisoner\", \"give\", \"game\", \"choice\", \"use\", \"strategy\", \"dilemma\", \"human\", \"function\", \"play\", \"situation\", \"show\", \"behavior\", \"payoff\", \"result\", \"theory\", \"make\", \"study\", \"state\", \"however\", \"social\", \"find\", \"cooperation\", \"individual\", \"model\", \"also\", \"different\", \"network\", \"evolutionary\", \"evolution\", \"cooperator\", \"structure\", \"spatial\", \"simulation\", \"degree\", \"update\", \"random\", \"neighbor\", \"promote\", \"emergence\", \"defector\", \"complex\", \"distribution\", \"cluster\", \"property\", \"favor\", \"link\", \"community\", \"imitation\", \"fraction\", \"rule\", \"heterogeneity\", \"heterogeneous\", \"temptation\", \"lattice\", \"local\", \"topology\", \"agent\", \"dynamic\", \"emerge\", \"interaction\", \"population\", \"cooperation\", \"system\", \"mechanism\", \"model\", \"individual\", \"study\", \"social\", \"strategy\", \"different\", \"result\", \"show\", \"find\", \"base\", \"also\", \"game\", \"dilemma\", \"behavior\", \"user\", \"field\", \"team\", \"aspect\", \"market\", \"policy\", \"attack\", \"service\", \"practice\", \"rationality\", \"price\", \"project\", \"argue\", \"effort\", \"moral\", \"company\", \"article\", \"right\", \"age\", \"protocol\", \"agreement\", \"sharing\", \"quality\", \"commitment\", \"crowdsource\", \"emotion\", \"think\", \"prior\", \"accuracy\", \"science\", \"overcome\", \"task\", \"incentive\", \"online\", \"design\", \"research\", \"datum\", \"power\", \"application\", \"economic\", \"communication\", \"face\", \"theory\", \"approach\", \"provide\", \"problem\", \"work\", \"system\", \"paper\", \"use\", \"decision\", \"social\", \"cell\", \"mutation\", \"coexistence\", \"fixation\", \"genetic\", \"cycle\", \"landscape\", \"gene\", \"equation\", \"pool\", \"invader\", \"cheater\", \"slow\", \"oscillation\", \"production\", \"mutant\", \"protein\", \"representation_scheme\", \"facilitator\", \"second_order\", \"tumor\", \"strain\", \"convergence\", \"ecological\", \"host\", \"loner\", \"infection\", \"collapse\", \"buyer\", \"uniform\", \"fluctuation\", \"cyclic_dominance\", \"scissor\", \"phenotype\", \"abundant\", \"specie\", \"environmental\", \"growth\", \"rate\", \"population\", \"increase\", \"benefit\", \"fitness\"], \"Total\": [1728.0, 2036.0, 3660.0, 967.0, 2479.0, 1135.0, 976.0, 777.0, 843.0, 693.0, 3045.0, 837.0, 663.0, 249.0, 745.0, 467.0, 162.0, 438.0, 740.0, 136.0, 1591.0, 364.0, 340.0, 1107.0, 115.0, 310.0, 454.0, 233.0, 286.0, 382.0, 663.4066162109375, 382.21722412109375, 370.60650634765625, 366.9415588378906, 356.49786376953125, 346.5735778808594, 335.9668884277344, 312.6326904296875, 297.59112548828125, 288.3299865722656, 266.85968017578125, 289.067138671875, 246.12301635742188, 208.56114196777344, 2036.6112060546875, 175.14112854003906, 182.83880615234375, 172.44155883789062, 169.29615783691406, 176.357177734375, 165.02206420898438, 169.62863159179688, 150.92816162109375, 147.26873779296875, 135.61123657226562, 131.0084991455078, 128.80599975585938, 130.19288635253906, 122.77137756347656, 121.4062728881836, 175.2308349609375, 175.45005798339844, 381.2032165527344, 193.92193603515625, 516.4918212890625, 646.928466796875, 3660.8876953125, 211.00686645507812, 1206.9483642578125, 3045.336181640625, 1322.405029296875, 474.8893127441406, 251.55685424804688, 633.7637939453125, 274.9759826660156, 1322.009765625, 928.2740478515625, 703.280517578125, 1245.9239501953125, 740.1292724609375, 400.3191833496094, 1372.032958984375, 584.5578002929688, 534.2454833984375, 1336.8426513671875, 866.6448364257812, 2479.529296875, 1107.40869140625, 1591.8790283203125, 763.69482421875, 761.0109252929688, 1728.203369140625, 976.9708862304688, 777.8504638671875, 693.4971313476562, 467.73272705078125, 340.6059875488281, 310.54315185546875, 286.45379638671875, 270.67291259765625, 271.55535888671875, 263.5077209472656, 260.6009826660156, 249.2454071044922, 438.72998046875, 242.86065673828125, 225.49595642089844, 205.71298217773438, 183.1954345703125, 164.00624084472656, 162.16160583496094, 157.0341796875, 150.25445556640625, 144.5339813232422, 364.35614013671875, 140.76707458496094, 138.4978790283203, 136.45335388183594, 133.4134063720703, 134.182861328125, 121.54959106445312, 1135.822998046875, 843.9074096679688, 186.96255493164062, 837.1925048828125, 967.6199340820312, 2479.529296875, 745.1799926757812, 475.1901550292969, 1591.8790283203125, 1107.40869140625, 1372.032958984375, 1336.8426513671875, 3045.336181640625, 761.0109252929688, 1245.9239501953125, 1322.009765625, 866.6448364257812, 691.0973510742188, 763.69482421875, 3660.8876953125, 1322.405029296875, 928.2740478515625, 131.02157592773438, 112.34915161132812, 102.3122787475586, 109.09686279296875, 91.28119659423828, 88.65758514404297, 89.17112731933594, 83.7093505859375, 85.22770690917969, 88.30211639404297, 79.90202331542969, 80.06975555419922, 82.72062683105469, 95.4481430053711, 71.87226867675781, 68.634033203125, 66.93804168701172, 66.00423431396484, 61.36240768432617, 65.99897003173828, 67.36331939697266, 60.27231979370117, 58.171329498291016, 57.4451904296875, 55.60829544067383, 56.36697769165039, 60.20204162597656, 60.97861862182617, 57.92128372192383, 52.635101318359375, 61.39358901977539, 126.85563659667969, 122.80653381347656, 82.900634765625, 233.79856872558594, 218.11167907714844, 186.81336975097656, 92.31027221679688, 143.91668701171875, 138.66029357910156, 100.50004577636719, 160.64996337890625, 740.1292724609375, 328.1461486816406, 499.0043029785156, 406.96630859375, 334.8028869628906, 745.1799926757812, 571.9158935546875, 1206.9483642578125, 273.0821838378906, 1336.8426513671875, 162.0476531982422, 136.0605926513672, 115.12679290771484, 78.25848388671875, 65.13248443603516, 65.04498291015625, 58.46918487548828, 56.43251037597656, 65.94268035888672, 48.60663604736328, 52.658653259277344, 42.96332550048828, 45.65726089477539, 43.782318115234375, 42.667884826660156, 37.820152282714844, 35.69038391113281, 37.87586212158203, 40.444339752197266, 35.109989166259766, 32.72429275512695, 32.696388244628906, 39.359169006347656, 32.96669006347656, 31.819778442382812, 33.215248107910156, 30.77511978149414, 31.394731521606445, 31.8377685546875, 36.28044509887695, 60.85947799682617, 36.86015319824219, 36.08734893798828, 48.847999572753906, 40.35140609741211, 86.41609191894531, 67.78256225585938, 72.98406219482422, 249.35462951660156, 967.6199340820312, 454.3011474609375, 242.32371520996094, 128.71908569335938], \"loglift\": [30.0, 29.0, 28.0, 27.0, 26.0, 25.0, 24.0, 23.0, 22.0, 21.0, 20.0, 19.0, 18.0, 17.0, 16.0, 15.0, 14.0, 13.0, 12.0, 11.0, 10.0, 9.0, 8.0, 7.0, 6.0, 5.0, 4.0, 3.0, 2.0, 1.0, 0.7857999801635742, 0.7847999930381775, 0.7847999930381775, 0.7847999930381775, 0.7846999764442444, 0.784600019454956, 0.784500002861023, 0.7843000292778015, 0.7843000292778015, 0.7840999960899353, 0.7839000225067139, 0.7839000225067139, 0.7835999727249146, 0.7831000089645386, 0.7829999923706055, 0.7824000120162964, 0.7822999954223633, 0.7822999954223633, 0.7821999788284302, 0.7821999788284302, 0.7821000218391418, 0.7818999886512756, 0.7815999984741211, 0.7814000248908997, 0.7807999849319458, 0.7807000279426575, 0.7804999947547913, 0.7804999947547913, 0.7803999781608582, 0.7802000045776367, 0.77920001745224, 0.7738999724388123, 0.7512999773025513, 0.7702000141143799, 0.7339000105857849, 0.7179999947547913, 0.6274999976158142, 0.7563999891281128, 0.5498999953269958, 0.38929998874664307, 0.48559999465942383, 0.6223999857902527, 0.7157999873161316, 0.5023999810218811, 0.6815999746322632, 0.3052000105381012, 0.3682999908924103, 0.40869998931884766, 0.23800000548362732, 0.39070001244544983, 0.5482000112533569, 0.05779999867081642, 0.37209999561309814, 0.40400001406669617, -0.06480000168085098, 0.1371999979019165, -0.5070000290870667, -0.07639999687671661, -0.3269999921321869, 0.013500000350177288, 0.008999999612569809, 1.0542999505996704, 1.0540000200271606, 1.0536999702453613, 1.0533000230789185, 1.0529999732971191, 1.052299976348877, 1.0520999431610107, 1.051800012588501, 1.0516999959945679, 1.0516999959945679, 1.0515999794006348, 1.0514999628067017, 1.0513999462127686, 1.051300048828125, 1.051200032234192, 1.0508999824523926, 1.0506999492645264, 1.0498000383377075, 1.0496000051498413, 1.0494999885559082, 1.0492000579833984, 1.0492000579833984, 1.0489000082015991, 1.0489000082015991, 1.048699975013733, 1.048699975013733, 1.0485999584197998, 1.0484000444412231, 1.0484000444412231, 1.0478999614715576, 1.0157999992370605, 1.0124000310897827, 1.0327999591827393, 0.9473999738693237, 0.8942999839782715, 0.7340999841690063, 0.8001000285148621, 0.8583999872207642, 0.6154999732971191, 0.5062999725341797, 0.3772999942302704, 0.3855000138282776, -0.060100000351667404, 0.43849998712539673, 0.19200000166893005, 0.07280000299215317, 0.31450000405311584, 0.444599986076355, 0.3118000030517578, -0.8604999780654907, -0.3091999888420105, -0.019500000402331352, 1.9759999513626099, 1.9745999574661255, 1.9744999408721924, 1.9742000102996826, 1.9736000299453735, 1.9730000495910645, 1.9730000495910645, 1.9729000329971313, 1.9729000329971313, 1.9728000164031982, 1.9723999500274658, 1.9723000526428223, 1.972000002861023, 1.9718999862670898, 1.9710999727249146, 1.9708000421524048, 1.9701999425888062, 1.9699000120162964, 1.968999981880188, 1.9687999486923218, 1.9686000347137451, 1.968500018119812, 1.9680999517440796, 1.9680999517440796, 1.968000054359436, 1.968000054359436, 1.9674999713897705, 1.9674999713897705, 1.9667999744415283, 1.9666999578475952, 1.9661999940872192, 1.9457999467849731, 1.9148000478744507, 1.9291000366210938, 1.573699951171875, 1.5757999420166016, 1.5616999864578247, 1.8069000244140625, 1.5377999544143677, 1.5499999523162842, 1.7093000411987305, 1.454200029373169, 0.607200026512146, 1.0135999917984009, 0.6710000038146973, 0.7896999716758728, 0.852400004863739, 0.2574000060558319, 0.4514999985694885, -0.3019999861717224, 0.7954999804496765, -0.8130000233650208, 2.829200029373169, 2.828000068664551, 2.8257999420166016, 2.8232998847961426, 2.8213000297546387, 2.8203001022338867, 2.8196001052856445, 2.8194000720977783, 2.8183999061584473, 2.816200017929077, 2.816200017929077, 2.815000057220459, 2.81469988822937, 2.8122000694274902, 2.8117001056671143, 2.8115999698638916, 2.8106000423431396, 2.809999942779541, 2.809799909591675, 2.809499979019165, 2.8090999126434326, 2.8090999126434326, 2.808500051498413, 2.808199882507324, 2.808199882507324, 2.8080999851226807, 2.807499885559082, 2.8071999549865723, 2.8071000576019287, 2.8071000576019287, 2.80679988861084, 2.8069000244140625, 2.806999921798706, 2.796099901199341, 2.796999931335449, 2.598900079727173, 2.6224000453948975, 2.5836000442504883, 1.8632999658584595, 0.9211999773979187, 0.5824000239372253, 1.024899959564209, 1.613700032234192], \"logprob\": [30.0, 29.0, 28.0, 27.0, 26.0, 25.0, 24.0, 23.0, 22.0, 21.0, 20.0, 19.0, 18.0, 17.0, 16.0, 15.0, 14.0, 13.0, 12.0, 11.0, 10.0, 9.0, 8.0, 7.0, 6.0, 5.0, 4.0, 3.0, 2.0, 1.0, -4.869100093841553, -5.421500205993652, -5.452400207519531, -5.462399959564209, -5.491300106048584, -5.519599914550781, -5.55079984664917, -5.623000144958496, -5.672299861907959, -5.704100131988525, -5.781700134277344, -5.7017998695373535, -5.8628997802734375, -6.0289998054504395, -3.7502999305725098, -6.204400062561035, -6.161399841308594, -6.21999979019165, -6.238399982452393, -6.1975998878479, -6.264100074768066, -6.236800193786621, -6.353899955749512, -6.378600120544434, -6.4618000984191895, -6.496399879455566, -6.513500213623047, -6.502799987792969, -6.561600208282471, -6.572999954223633, -6.206999778747559, -6.210999965667725, -5.457699775695801, -6.114699840545654, -5.17140007019043, -4.962100028991699, -3.3194000720977783, -6.044000148773193, -4.5065999031066895, -3.7416000366210938, -4.479499816894531, -5.3668999671936035, -5.908899784088135, -5.198200225830078, -5.854000091552734, -4.660200119018555, -4.950699806213379, -5.187900066375732, -4.7866997718811035, -5.154799938201904, -5.611800193786621, -4.870500087738037, -5.40939998626709, -5.46750020980835, -5.019000053405762, -5.250500202178955, -4.843500137329102, -5.218999862670898, -5.1066999435424805, -5.5005998611450195, -5.508699893951416, -3.6431000232696533, -4.213900089263916, -4.441999912261963, -4.557300090789795, -4.951399803161621, -5.269199848175049, -5.3618998527526855, -5.44290018081665, -5.49970006942749, -5.496500015258789, -5.526599884033203, -5.537799835205078, -5.582499980926514, -5.017099857330322, -5.60860013961792, -5.683199882507324, -5.775199890136719, -5.891900062561035, -6.002799987792969, -6.014200210571289, -6.046599864959717, -6.090799808502197, -6.129899978637695, -5.2052998542785645, -6.156499862670898, -6.172800064086914, -6.187699794769287, -6.210400104522705, -6.204699993133545, -6.304100036621094, -4.101399898529053, -4.401899814605713, -5.888599872589111, -4.474899768829346, -4.383200168609619, -3.602400064468384, -4.73859977722168, -5.130199909210205, -4.1641998291015625, -4.636300086975098, -4.551000118255615, -4.56879997253418, -4.190999984741211, -5.07919979095459, -4.832600116729736, -4.892600059509277, -5.073200225830078, -5.169400215148926, -5.202300071716309, -4.807300090789795, -5.2743000984191895, -5.338500022888184, -5.301000118255615, -5.456200122833252, -5.549799919128418, -5.485899925231934, -5.664700031280518, -5.694499969482422, -5.688799858093262, -5.752099990844727, -5.734099864959717, -5.698800086975098, -5.799099922180176, -5.797100067138672, -5.764900207519531, -5.621799945831299, -5.906300067901611, -5.952700138092041, -5.978300094604492, -5.992700099945068, -6.066500186920166, -5.993899822235107, -5.973700046539307, -6.085000038146973, -6.120800018310547, -6.133399963378906, -6.165999889373779, -6.152400016784668, -6.087100028991699, -6.0742998123168945, -6.126500129699707, -6.2221999168396, -6.06879997253418, -5.363500118255615, -5.4268999099731445, -5.805500030517578, -5.124100208282471, -5.191500186920166, -5.360499858856201, -5.820300102233887, -5.645199775695801, -5.670300006866455, -5.832900047302246, -5.618899822235107, -4.938300132751465, -5.345200061798096, -5.268700122833252, -5.353899955749512, -5.486400127410889, -5.281300067901611, -5.351799964904785, -5.358500003814697, -5.747099876403809, -5.767300128936768, -4.235199928283691, -4.411300182342529, -4.58050012588501, -4.968999862670898, -5.154600143432617, -5.1570000648498535, -5.264200210571289, -5.299900054931641, -5.145100116729736, -5.452300071716309, -5.372300148010254, -5.577000141143799, -5.51639986038208, -5.560800075531006, -5.587100028991699, -5.707900047302246, -5.766900062561035, -5.708000183105469, -5.642600059509277, -5.784299850463867, -5.855100154876709, -5.855999946594238, -5.67110013961792, -5.848599910736084, -5.883999824523926, -5.84119987487793, -5.918099880218506, -5.898499965667725, -5.8846001625061035, -5.754000186920166, -5.2368998527526855, -5.73829984664917, -5.759300231933594, -5.46750020980835, -5.657599925994873, -5.094200134277344, -5.313600063323975, -5.278500080108643, -4.770100116729736, -4.356200218200684, -5.451200008392334, -5.6371002197265625, -5.681000232696533]}, \"token.table\": {\"Topic\": [1, 1, 2, 4, 3, 1, 3, 1, 2, 3, 1, 2, 3, 1, 2, 3, 1, 2, 3, 3, 3, 3, 3, 1, 2, 3, 1, 2, 1, 2, 4, 4, 4, 4, 1, 3, 1, 2, 4, 4, 3, 1, 3, 4, 2, 3, 2, 1, 1, 4, 1, 1, 2, 2, 4, 3, 4, 4, 1, 3, 1, 3, 2, 4, 2, 1, 2, 3, 1, 2, 1, 2, 3, 2, 2, 4, 4, 1, 3, 3, 1, 2, 2, 3, 3, 4, 4, 1, 2, 2, 1, 1, 1, 2, 3, 4, 2, 3, 1, 2, 3, 2, 4, 4, 2, 4, 2, 1, 2, 1, 2, 4, 4, 1, 2, 3, 1, 2, 4, 2, 2, 4, 1, 2, 3, 4, 1, 2, 3, 2, 1, 3, 4, 1, 2, 3, 4, 1, 2, 4, 1, 2, 4, 1, 1, 2, 4, 2, 2, 2, 4, 1, 2, 3, 3, 1, 2, 1, 1, 2, 1, 2, 3, 3, 1, 4, 4, 1, 1, 2, 2, 2, 3, 1, 4, 3, 1, 2, 3, 1, 1, 1, 2, 2, 4, 1, 2, 1, 2, 3, 4, 2, 4, 3, 4, 3, 3, 3, 1, 2, 1, 1, 2, 3, 4, 3, 2, 2, 4, 3, 1, 2, 3, 1, 1, 3, 1, 2, 1, 4, 3, 1, 4, 1, 1, 2, 3, 1, 2, 1, 3, 1, 1, 2, 3, 4, 4, 1, 3, 1, 2, 3, 3, 1, 2, 4, 2, 1, 2, 3, 4, 1, 2, 3, 2, 1, 4, 1, 2, 4, 4, 1, 2, 2, 1, 2, 3, 1, 2, 3, 4, 1, 3, 3, 2, 1, 2, 3, 3, 2, 4, 4, 2, 1, 2, 3, 4, 3, 1, 1, 2, 1, 2, 3], \"Freq\": [0.9962940812110901, 0.02478228323161602, 0.02478228323161602, 0.9665090441703796, 0.9840942025184631, 0.9986034631729126, 0.9940939545631409, 0.037858013063669205, 0.9614173769950867, 0.9797617197036743, 0.46091708540916443, 0.4753207564353943, 0.06285233050584793, 0.07643310725688934, 0.28488704562187195, 0.6392587423324585, 0.38092783093452454, 0.2376989722251892, 0.38092783093452454, 0.991288423538208, 0.9859864115715027, 0.9899459481239319, 0.9868665337562561, 0.3458268344402313, 0.5426152944564819, 0.10997003316879272, 0.658210813999176, 0.34149399399757385, 0.6024998426437378, 0.2310958355665207, 0.16506844758987427, 0.9736863374710083, 0.9935349225997925, 0.9775779843330383, 0.9715323448181152, 0.02843509428203106, 0.9983450174331665, 0.9965341091156006, 0.990212619304657, 0.9874268174171448, 0.9922501444816589, 0.21890537440776825, 0.7661688327789307, 0.0199004877358675, 0.9934142827987671, 0.9907621145248413, 0.9964561462402344, 0.9966536164283752, 0.997974693775177, 0.9654675126075745, 0.9968153834342957, 0.27424558997154236, 0.7255409359931946, 0.9978411793708801, 0.001441966975107789, 0.9890610575675964, 0.9839344620704651, 0.9766644239425659, 0.3372349739074707, 0.6584111452102661, 0.6920993328094482, 0.30393779277801514, 0.996056854724884, 0.002279306296259165, 0.9984158277511597, 0.19675056636333466, 0.13686995208263397, 0.6629638671875, 0.45991456508636475, 0.5400710701942444, 0.7395616173744202, 0.2555949091911316, 0.004537187982350588, 0.9978005886077881, 0.9586359858512878, 0.0402887798845768, 0.9706767797470093, 0.34616976976394653, 0.649068295955658, 0.9848279356956482, 0.01604599319398403, 0.9788056015968323, 0.9950032830238342, 0.9934895038604736, 0.17703668773174286, 0.8114181160926819, 0.9857045412063599, 0.9953872561454773, 0.998906672000885, 0.9990062117576599, 0.9974340200424194, 0.995412290096283, 0.3423592448234558, 0.06847184896469116, 0.5913478136062622, 0.9642882347106934, 0.9938645958900452, 0.9968922734260559, 0.5227054953575134, 0.47655045986175537, 0.0011538752587512136, 0.699196994304657, 0.29521653056144714, 0.9839189052581787, 0.0164312943816185, 0.9694463610649109, 0.996305525302887, 0.9302071928977966, 0.06757915765047073, 0.8525254726409912, 0.1472320556640625, 0.9923357963562012, 0.9826126098632812, 0.9336426258087158, 0.05255604162812233, 0.013911893591284752, 0.9993870854377747, 0.2192259430885315, 0.7809924483299255, 0.9945507645606995, 0.9964051246643066, 0.9742368459701538, 0.6813347339630127, 0.27328261733055115, 0.029948778450489044, 0.014974389225244522, 0.8486188054084778, 0.06948987394571304, 0.08001864701509476, 0.9916511178016663, 0.04885733500123024, 0.9364322423934937, 0.01628577895462513, 0.5613017082214355, 0.3279762864112854, 0.004402366001158953, 0.10565678775310516, 0.4217051863670349, 0.5779257416725159, 0.9748134016990662, 0.1015298143029213, 0.8982402682304382, 0.987492024898529, 0.9983634948730469, 0.9849324226379395, 0.015470142476260662, 0.9919755458831787, 0.9969013333320618, 0.9928367137908936, 0.9911847114562988, 0.9634129405021667, 0.7868720889091492, 0.019984053447842598, 0.1923465132713318, 0.9969194531440735, 0.176771342754364, 0.8207240700721741, 0.9913848638534546, 0.9929759502410889, 0.005706758238375187, 0.32791435718536377, 0.6445213556289673, 0.02701210230588913, 0.9878636002540588, 0.9937425255775452, 0.9783143997192383, 0.992205023765564, 0.990837574005127, 0.9938502907752991, 0.9980732202529907, 0.9993036985397339, 0.048250533640384674, 0.9529480934143066, 0.9980136156082153, 0.9821316599845886, 0.977300763130188, 0.48258844017982483, 0.3007435202598572, 0.21681509912014008, 0.9923438429832458, 0.9974393844604492, 0.685359537601471, 0.3142416179180145, 0.020471667870879173, 0.9621683955192566, 0.7526463270187378, 0.246148481965065, 0.9957718253135681, 0.003928093705326319, 0.9925828576087952, 0.9875195026397705, 0.8515740036964417, 0.14778529107570648, 0.834143340587616, 0.1516624242067337, 0.9855949878692627, 0.988710880279541, 0.9839514493942261, 0.948708176612854, 0.05033961683511734, 0.997122049331665, 0.5799005627632141, 0.1154886782169342, 0.3046935200691223, 0.984346866607666, 0.986639678478241, 0.9976938366889954, 0.993474543094635, 0.9806563258171082, 0.9848638772964478, 0.37875425815582275, 0.35270237922668457, 0.2705387473106384, 0.9979762434959412, 0.9954927563667297, 0.9798641204833984, 0.9967785477638245, 0.9979549050331116, 0.617594301700592, 0.37697315216064453, 0.9852538704872131, 0.9973094463348389, 0.9768754243850708, 0.9938064813613892, 0.1971467137336731, 0.13295941054821014, 0.6647970676422119, 0.5778843760490417, 0.42217665910720825, 0.9954371452331543, 0.9847853183746338, 0.9937169551849365, 0.005489134695380926, 0.9935334324836731, 0.987933874130249, 0.9698689579963684, 0.9683853983879089, 0.9963083267211914, 0.9915260076522827, 0.9653643369674683, 0.01836290955543518, 0.01573963649570942, 0.9788904786109924, 0.617998480796814, 0.3744299113750458, 0.007564240600913763, 0.9982509613037109, 0.8982602953910828, 0.01454672496765852, 0.08728034794330597, 0.985604465007782, 0.4263777732849121, 0.5124013423919678, 0.06133855879306793, 0.9982208609580994, 0.1967226266860962, 0.7868905067443848, 0.660328209400177, 0.3352961838245392, 0.005132084246724844, 0.9787013530731201, 0.6718469858169556, 0.328042596578598, 0.9984334707260132, 0.4824956953525543, 0.5080052614212036, 0.009474990889430046, 0.9934844970703125, 0.7756515145301819, 0.1784803718328476, 0.04562656208872795, 0.03153190761804581, 0.9617231488227844, 0.9969477653503418, 0.996677577495575, 0.6728554368019104, 0.07431134581565857, 0.25265857577323914, 0.9800332188606262, 0.9954784512519836, 0.9778668284416199, 0.9647070169448853, 0.9975139498710632, 0.7887661457061768, 0.1085381954908371, 0.10190991312265396, 0.0008285358780995011, 0.9922029972076416, 0.9923020601272583, 0.9860355854034424, 0.011399255134165287, 0.15232843160629272, 0.5226956009864807, 0.3225778639316559], \"Term\": [\"able\", \"abundant\", \"abundant\", \"abundant\", \"accuracy\", \"action\", \"age\", \"agent\", \"agent\", \"agreement\", \"also\", \"also\", \"also\", \"application\", \"application\", \"application\", \"approach\", \"approach\", \"approach\", \"argue\", \"article\", \"aspect\", \"attack\", \"base\", \"base\", \"base\", \"behavior\", \"behavior\", \"benefit\", \"benefit\", \"benefit\", \"buyer\", \"cell\", \"cheater\", \"choice\", \"choice\", \"classical\", \"cluster\", \"coexistence\", \"collapse\", \"commitment\", \"communication\", \"communication\", \"communication\", \"community\", \"company\", \"complex\", \"contribution\", \"control\", \"convergence\", \"cooperate\", \"cooperation\", \"cooperation\", \"cooperator\", \"cooperator\", \"crowdsource\", \"cycle\", \"cyclic_dominance\", \"datum\", \"datum\", \"decision\", \"decision\", \"defector\", \"defector\", \"degree\", \"design\", \"design\", \"design\", \"different\", \"different\", \"dilemma\", \"dilemma\", \"dilemma\", \"distribution\", \"dynamic\", \"dynamic\", \"ecological\", \"economic\", \"economic\", \"effort\", \"emerge\", \"emerge\", \"emergence\", \"emotion\", \"environmental\", \"environmental\", \"equation\", \"equilibrium\", \"evolution\", \"evolutionary\", \"experiment\", \"extend\", \"face\", \"face\", \"face\", \"facilitator\", \"favor\", \"field\", \"find\", \"find\", \"find\", \"fitness\", \"fitness\", \"fixation\", \"fluctuation\", \"fluctuation\", \"fraction\", \"function\", \"function\", \"game\", \"game\", \"gene\", \"genetic\", \"give\", \"give\", \"give\", \"group\", \"growth\", \"growth\", \"heterogeneity\", \"heterogeneous\", \"host\", \"however\", \"however\", \"however\", \"however\", \"human\", \"human\", \"human\", \"imitation\", \"incentive\", \"incentive\", \"incentive\", \"increase\", \"increase\", \"increase\", \"increase\", \"individual\", \"individual\", \"infection\", \"interaction\", \"interaction\", \"invader\", \"iterate\", \"know\", \"know\", \"landscape\", \"lattice\", \"link\", \"local\", \"loner\", \"make\", \"make\", \"make\", \"market\", \"mechanism\", \"mechanism\", \"member\", \"memory\", \"memory\", \"model\", \"model\", \"model\", \"moral\", \"move\", \"mutant\", \"mutation\", \"mutual\", \"nash_equilibrium\", \"neighbor\", \"network\", \"online\", \"online\", \"opponent\", \"oscillation\", \"overcome\", \"paper\", \"paper\", \"paper\", \"participant\", \"partner\", \"payoff\", \"payoff\", \"phenotype\", \"phenotype\", \"play\", \"play\", \"player\", \"player\", \"policy\", \"pool\", \"population\", \"population\", \"power\", \"power\", \"practice\", \"price\", \"prior\", \"prisoner\", \"prisoner\", \"probability\", \"problem\", \"problem\", \"problem\", \"production\", \"project\", \"promote\", \"property\", \"protein\", \"protocol\", \"provide\", \"provide\", \"provide\", \"punishment\", \"pure\", \"quality\", \"quantum\", \"random\", \"rate\", \"rate\", \"rationality\", \"repeat\", \"representation_scheme\", \"reputation\", \"research\", \"research\", \"research\", \"result\", \"result\", \"reward\", \"right\", \"round\", \"rule\", \"rule\", \"science\", \"scissor\", \"second_order\", \"selection\", \"service\", \"set\", \"set\", \"set\", \"sharing\", \"show\", \"show\", \"show\", \"simulation\", \"situation\", \"situation\", \"situation\", \"slow\", \"social\", \"social\", \"social\", \"spatial\", \"specie\", \"specie\", \"state\", \"state\", \"state\", \"strain\", \"strategy\", \"strategy\", \"structure\", \"study\", \"study\", \"study\", \"subject\", \"system\", \"system\", \"system\", \"task\", \"task\", \"team\", \"temptation\", \"theory\", \"theory\", \"theory\", \"think\", \"topology\", \"tumor\", \"uniform\", \"update\", \"use\", \"use\", \"use\", \"use\", \"user\", \"utility\", \"version\", \"version\", \"work\", \"work\", \"work\"]}, \"R\": 30, \"lambda.step\": 0.01, \"plot.opts\": {\"xlab\": \"PC1\", \"ylab\": \"PC2\"}, \"topic.order\": [1, 3, 4, 2]};\n",
       "\n",
       "function LDAvis_load_lib(url, callback){\n",
       "  var s = document.createElement('script');\n",
       "  s.src = url;\n",
       "  s.async = true;\n",
       "  s.onreadystatechange = s.onload = callback;\n",
       "  s.onerror = function(){console.warn(\"failed to load library \" + url);};\n",
       "  document.getElementsByTagName(\"head\")[0].appendChild(s);\n",
       "}\n",
       "\n",
       "if(typeof(LDAvis) !== \"undefined\"){\n",
       "   // already loaded: just create the visualization\n",
       "   !function(LDAvis){\n",
       "       new LDAvis(\"#\" + \"ldavis_el2155349249869762771239859\", ldavis_el2155349249869762771239859_data);\n",
       "   }(LDAvis);\n",
       "}else if(typeof define === \"function\" && define.amd){\n",
       "   // require.js is available: use it to load d3/LDAvis\n",
       "   require.config({paths: {d3: \"https://cdnjs.cloudflare.com/ajax/libs/d3/3.5.5/d3.min\"}});\n",
       "   require([\"d3\"], function(d3){\n",
       "      window.d3 = d3;\n",
       "      LDAvis_load_lib(\"https://cdn.rawgit.com/bmabey/pyLDAvis/files/ldavis.v1.0.0.js\", function(){\n",
       "        new LDAvis(\"#\" + \"ldavis_el2155349249869762771239859\", ldavis_el2155349249869762771239859_data);\n",
       "      });\n",
       "    });\n",
       "}else{\n",
       "    // require.js not available: dynamically load d3 & LDAvis\n",
       "    LDAvis_load_lib(\"https://cdnjs.cloudflare.com/ajax/libs/d3/3.5.5/d3.min.js\", function(){\n",
       "         LDAvis_load_lib(\"https://cdn.rawgit.com/bmabey/pyLDAvis/files/ldavis.v1.0.0.js\", function(){\n",
       "                 new LDAvis(\"#\" + \"ldavis_el2155349249869762771239859\", ldavis_el2155349249869762771239859_data);\n",
       "            })\n",
       "         });\n",
       "}\n",
       "</script>"
      ],
      "text/plain": [
       "PreparedData(topic_coordinates=              x         y  topics  cluster       Freq\n",
       "topic                                                \n",
       "0      0.181013  0.003826       1        1  45.520134\n",
       "2      0.187170  0.092989       2        1  34.825104\n",
       "3     -0.098749 -0.258855       3        1  13.778637\n",
       "1     -0.269433  0.162040       4        1   5.876124, topic_info=     Category         Freq         Term        Total  loglift  logprob\n",
       "110   Default  1728.000000      network  1728.000000  30.0000  30.0000\n",
       "68    Default  2036.000000       player  2036.000000  29.0000  29.0000\n",
       "144   Default  3660.000000         game  3660.000000  28.0000  28.0000\n",
       "662   Default   967.000000   population   967.000000  27.0000  27.0000\n",
       "51    Default  2479.000000  cooperation  2479.000000  26.0000  26.0000\n",
       "...       ...          ...          ...          ...      ...      ...\n",
       "473    Topic4    94.433563         rate   249.354630   1.8633  -4.7701\n",
       "662    Topic4   142.852280   population   967.619934   0.9212  -4.3562\n",
       "243    Topic4    47.793591     increase   454.301147   0.5824  -5.4512\n",
       "135    Topic4    39.683910      benefit   242.323715   1.0249  -5.6371\n",
       "1361   Topic4    37.979973      fitness   128.719086   1.6137  -5.6810\n",
       "\n",
       "[238 rows x 6 columns], token_table=      Topic      Freq      Term\n",
       "term                           \n",
       "698       1  0.996294      able\n",
       "2223      1  0.024782  abundant\n",
       "2223      2  0.024782  abundant\n",
       "2223      4  0.966509  abundant\n",
       "3845      3  0.984094  accuracy\n",
       "...     ...       ...       ...\n",
       "329       1  0.986036   version\n",
       "329       2  0.011399   version\n",
       "352       1  0.152328      work\n",
       "352       2  0.522696      work\n",
       "352       3  0.322578      work\n",
       "\n",
       "[294 rows x 3 columns], R=30, lambda_step=0.01, plot_opts={'xlab': 'PC1', 'ylab': 'PC2'}, topic_order=[1, 3, 4, 2])"
      ]
     },
     "execution_count": 47,
     "metadata": {},
     "output_type": "execute_result"
    }
   ],
   "source": [
    "pyLDAvis.enable_notebook()\n",
    "vis = pyLDAvis.gensim.prepare(lda_model, corpus, id2word)\n",
    "vis"
   ]
  },
  {
   "cell_type": "code",
   "execution_count": 48,
   "metadata": {},
   "outputs": [
    {
     "name": "stdout",
     "output_type": "stream",
     "text": [
      "[(0,\n",
      "  '0.030*\"model\" + 0.019*\"theory\" + 0.014*\"system\" + 0.010*\"problem\" + '\n",
      "  '0.010*\"provide\" + 0.009*\"propose\" + 0.009*\"base\" + 0.009*\"information\" + '\n",
      "  '0.008*\"approach\" + 0.008*\"work\"'),\n",
      " (1,\n",
      "  '0.059*\"cooperation\" + 0.036*\"network\" + 0.023*\"population\" + '\n",
      "  '0.021*\"evolutionary\" + 0.020*\"interaction\" + 0.020*\"evolution\" + '\n",
      "  '0.017*\"dynamic\" + 0.014*\"individual\" + 0.013*\"cooperator\" + '\n",
      "  '0.012*\"structure\"'),\n",
      " (2,\n",
      "  '0.076*\"game\" + 0.060*\"strategy\" + 0.039*\"player\" + 0.029*\"agent\" + '\n",
      "  '0.018*\"dilemma\" + 0.016*\"play\" + 0.012*\"payoff\" + 0.011*\"show\" + '\n",
      "  '0.011*\"state\" + 0.011*\"study\"'),\n",
      " (3,\n",
      "  '0.033*\"social\" + 0.022*\"behavior\" + 0.020*\"group\" + 0.017*\"individual\" + '\n",
      "  '0.014*\"human\" + 0.011*\"study\" + 0.011*\"experiment\" + 0.010*\"result\" + '\n",
      "  '0.009*\"cooperative\" + 0.009*\"suggest\"')]\n"
     ]
    }
   ],
   "source": [
    "pprint(model_list[2].print_topics())"
   ]
  },
  {
   "cell_type": "markdown",
   "metadata": {},
   "source": [
    "**Choose num = 4**"
   ]
  },
  {
   "cell_type": "code",
   "execution_count": 38,
   "metadata": {},
   "outputs": [],
   "source": [
    "optimal_model = model_list[3]\n",
    "model_topics = optimal_model.show_topics(formatted=False)"
   ]
  },
  {
   "cell_type": "code",
   "execution_count": 39,
   "metadata": {},
   "outputs": [],
   "source": [
    "def format_topics_sentences(ldamodel,\n",
    "                            corpus,\n",
    "                            data_frame):\n",
    "    data_with_topics = pd.DataFrame()\n",
    "\n",
    "    for i, row in enumerate(ldamodel[corpus]):\n",
    "        row = sorted(row, key=lambda x: (x[1]), reverse=True)\n",
    "        for j, (topic_num, prop_topic) in enumerate(row):\n",
    "            if j == 0: \n",
    "                wp = ldamodel.show_topic(topic_num)\n",
    "                topic_keywords = \", \".join([word for word, prop in wp])\n",
    "                data_with_topics = data_with_topics.append(pd.Series([int(topic_num),\n",
    "                                                                  round(prop_topic,4),\n",
    "                                                                  topic_keywords]),\n",
    "                                                         ignore_index=True)\n",
    "            else:\n",
    "                break\n",
    "    data_with_topics.columns = ['Dominant_Topic', 'Perc_Contribution', 'Topic_Keywords']\n",
    "\n",
    "    data_with_topics = pd.concat([data_with_topics, data_frame], axis=1)\n",
    "    return data_with_topics"
   ]
  },
  {
   "cell_type": "code",
   "execution_count": 40,
   "metadata": {},
   "outputs": [],
   "source": [
    "data_with_topics = format_topics_sentences(ldamodel=optimal_model,\n",
    "                                           corpus=corpus,\n",
    "                                           data_frame=data)"
   ]
  },
  {
   "cell_type": "code",
   "execution_count": 41,
   "metadata": {},
   "outputs": [
    {
     "data": {
      "text/plain": [
       "(2470, 19117)"
      ]
     },
     "execution_count": 41,
     "metadata": {},
     "output_type": "execute_result"
    }
   ],
   "source": [
    "len(data_with_topics), len(df)"
   ]
  },
  {
   "cell_type": "code",
   "execution_count": 42,
   "metadata": {},
   "outputs": [],
   "source": [
    "data_with_topics = data_with_topics[[\"Dominant_Topic\", \"Perc_Contribution\", \"Topic_Keywords\", 'unique_key']]"
   ]
  },
  {
   "cell_type": "code",
   "execution_count": 43,
   "metadata": {},
   "outputs": [
    {
     "data": {
      "text/plain": [
       "(2470, 2470)"
      ]
     },
     "execution_count": 43,
     "metadata": {},
     "output_type": "execute_result"
    }
   ],
   "source": [
    "len(data_with_topics['unique_key'].unique()), len(df['unique_key'].unique())"
   ]
  },
  {
   "cell_type": "code",
   "execution_count": 44,
   "metadata": {},
   "outputs": [],
   "source": [
    "merged = df.merge(data_with_topics, on='unique_key')"
   ]
  },
  {
   "cell_type": "code",
   "execution_count": 45,
   "metadata": {},
   "outputs": [
    {
     "data": {
      "text/plain": [
       "(19117, 2470)"
      ]
     },
     "execution_count": 45,
     "metadata": {},
     "output_type": "execute_result"
    }
   ],
   "source": [
    "len(merged), len(merged['unique_key'].unique())"
   ]
  },
  {
   "cell_type": "code",
   "execution_count": 46,
   "metadata": {},
   "outputs": [],
   "source": [
    "merged.to_csv('../data/prisoners_dilemma_meta_data_with_topics.csv')"
   ]
  },
  {
   "cell_type": "code",
   "execution_count": null,
   "metadata": {},
   "outputs": [],
   "source": []
  }
 ],
 "metadata": {
  "kernelspec": {
   "display_name": "literature",
   "language": "python",
   "name": "literature"
  },
  "language_info": {
   "codemirror_mode": {
    "name": "ipython",
    "version": 3
   },
   "file_extension": ".py",
   "mimetype": "text/x-python",
   "name": "python",
   "nbconvert_exporter": "python",
   "pygments_lexer": "ipython3",
   "version": "3.6.7"
  }
 },
 "nbformat": 4,
 "nbformat_minor": 2
}
