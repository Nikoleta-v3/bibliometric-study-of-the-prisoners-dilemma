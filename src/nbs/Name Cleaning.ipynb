{
 "cells": [
  {
   "cell_type": "code",
   "execution_count": 12,
   "metadata": {},
   "outputs": [],
   "source": [
    "import pandas as pd"
   ]
  },
  {
   "cell_type": "code",
   "execution_count": 40,
   "metadata": {},
   "outputs": [],
   "source": [
    "df = pd.read_csv('../data/prisoners_dilemma_articles_meta_data_clean.csv')"
   ]
  },
  {
   "cell_type": "code",
   "execution_count": 41,
   "metadata": {},
   "outputs": [],
   "source": [
    "names = df['author']"
   ]
  },
  {
   "cell_type": "code",
   "execution_count": 15,
   "metadata": {},
   "outputs": [],
   "source": [
    "names = [name.replace('.', '_') for name in names]"
   ]
  },
  {
   "cell_type": "code",
   "execution_count": 16,
   "metadata": {},
   "outputs": [],
   "source": [
    "df['name_check'] = names"
   ]
  },
  {
   "cell_type": "code",
   "execution_count": 18,
   "metadata": {},
   "outputs": [],
   "source": [
    "df_names = df[df['name_check'].str.contains('_')][['author', 'title']].drop_duplicates().reset_index(drop=True)"
   ]
  },
  {
   "cell_type": "code",
   "execution_count": 43,
   "metadata": {},
   "outputs": [
    {
     "data": {
      "text/plain": [
       "614"
      ]
     },
     "execution_count": 43,
     "metadata": {},
     "output_type": "execute_result"
    }
   ],
   "source": [
    "len(df_names)"
   ]
  },
  {
   "cell_type": "code",
   "execution_count": 19,
   "metadata": {},
   "outputs": [],
   "source": [
    "df_names.to_csv('names.csv')"
   ]
  },
  {
   "cell_type": "code",
   "execution_count": null,
   "metadata": {},
   "outputs": [],
   "source": []
  },
  {
   "cell_type": "code",
   "execution_count": 30,
   "metadata": {},
   "outputs": [],
   "source": [
    "fix = pd.read_csv('/Users/storm/Downloads/names.csv', index_col=0, header=None)"
   ]
  },
  {
   "cell_type": "code",
   "execution_count": 38,
   "metadata": {},
   "outputs": [],
   "source": [
    "names_dict = {}\n",
    "for i, row in fix.dropna().iterrows():\n",
    "    names_dict[row[2]] = row[1]"
   ]
  },
  {
   "cell_type": "code",
   "execution_count": 44,
   "metadata": {},
   "outputs": [],
   "source": [
    "df['author'] = df['author'].replace(names_dict)"
   ]
  },
  {
   "cell_type": "code",
   "execution_count": 45,
   "metadata": {},
   "outputs": [],
   "source": [
    "names = df['author']"
   ]
  },
  {
   "cell_type": "code",
   "execution_count": 46,
   "metadata": {},
   "outputs": [],
   "source": [
    "names = [name.replace('.', '_') for name in names]"
   ]
  },
  {
   "cell_type": "code",
   "execution_count": 47,
   "metadata": {},
   "outputs": [],
   "source": [
    "df['name_check'] = names"
   ]
  },
  {
   "cell_type": "code",
   "execution_count": 48,
   "metadata": {},
   "outputs": [],
   "source": [
    "df_names = df[df['name_check'].str.contains('_')][['author', 'title']].drop_duplicates().reset_index(drop=True)"
   ]
  },
  {
   "cell_type": "code",
   "execution_count": 49,
   "metadata": {},
   "outputs": [
    {
     "data": {
      "text/plain": [
       "524"
      ]
     },
     "execution_count": 49,
     "metadata": {},
     "output_type": "execute_result"
    }
   ],
   "source": [
    "len(df_names)"
   ]
  },
  {
   "cell_type": "code",
   "execution_count": 56,
   "metadata": {},
   "outputs": [],
   "source": [
    "df_names.drop_duplicates(subset='author').to_csv('fix_names.csv')"
   ]
  },
  {
   "cell_type": "code",
   "execution_count": 58,
   "metadata": {},
   "outputs": [],
   "source": [
    "fix = pd.read_csv('/Users/storm/Downloads/fix_names.csv', index_col=0, header=None)"
   ]
  },
  {
   "cell_type": "code",
   "execution_count": 59,
   "metadata": {},
   "outputs": [],
   "source": [
    "for i, row in fix.dropna().iterrows():\n",
    "    names_dict[row[2]] = row[1]"
   ]
  },
  {
   "cell_type": "code",
   "execution_count": 60,
   "metadata": {},
   "outputs": [
    {
     "data": {
      "text/plain": [
       "{'V. Knight': 'Vincent Knight',\n",
       " 'R. Axelrod': 'Robert Axelrod',\n",
       " 'N. Glynatsi': 'Nikoleta Glynatsi',\n",
       " 'N. Masuda': 'Naoki Masuda',\n",
       " 'M. Nowak': 'Martin Nowak',\n",
       " 'M. Harper': 'Marc Harper',\n",
       " 'K. Aihara': 'Kazuyuki Aihara',\n",
       " 'D. Ashlock': 'Daniel Ashlock',\n",
       " 'E. Kalai': 'Ehud Kalai',\n",
       " 'D. Samet': 'Dov samet',\n",
       " 'W. Stanford': 'William Stanford',\n",
       " 'H. Overcast': 'Edwin Overcast',\n",
       " 'R. Hoffmann': 'Robert Hoffmann',\n",
       " 'J. Wakano': 'Joe Wakano',\n",
       " 'V. Bixenstine': 'Edwin Bixenstine',\n",
       " 'J. Tejada': 'Juan Tejada',\n",
       " 'R. Aumann': 'Robert Aumann',\n",
       " 'E. Stanley': 'Ann Stanley',\n",
       " 'P. Darwen': 'Paul Darwen',\n",
       " 'X. Yao': 'Xin Yao',\n",
       " 'P. Schimit': 'Pedro Schimit',\n",
       " 'B. Santos': 'Benedito Santos',\n",
       " 'C. Soares': 'Maria Soares',\n",
       " 'E. Rovenskaya': 'Elena Rovenskaya',\n",
       " 'C. Hui': 'Cang Hui',\n",
       " 'M. Mcgeoch': 'Melodie McGeoch',\n",
       " 'A. Szolnoki': 'Attila Szolnoki',\n",
       " 'M. Perc': 'Matjaz Perc',\n",
       " 'G. Szabo': 'Gyorgy Szabo',\n",
       " 'J. Bendor': 'Jonathan Bendor',\n",
       " 'R. Kramer': 'Roderick Kramer',\n",
       " 'S. Stout': 'Suzanne Stout',\n",
       " 'K. Sigmund': 'Karl Sigmund',\n",
       " 'W. Press': 'William Press',\n",
       " 'F. Dyson': 'Freeman Dyson',\n",
       " 'A. Stewart': 'Alexander Stewart',\n",
       " 'J. Plotkin': 'Joshua Plotkin',\n",
       " 'C. Hilbe': 'Christian Hilbe',\n",
       " 'A. Traulsen': 'Arne Traulsen',\n",
       " 'R. Boyd': 'Robert Boyd',\n",
       " 'J. Lorberbaum': ' Jeffrey Lorberbaum ',\n",
       " 'J. Smith': 'Maynard Smith',\n",
       " 'M. May': 'Robert May',\n",
       " 'H. Ohtsuki': 'Hisashi Ohtsuki',\n",
       " 'C. Hauert': 'Christoph Hauert',\n",
       " 'E. Lieberman': 'Erez  Aiden',\n",
       " 'R.J. Aumann': 'Robert Aumann',\n",
       " 'E. Ahmed': 'Ahmed Hegazy',\n",
       " 'F. Fu': 'Feng Fu',\n",
       " 'J. Poncela': 'Julia Poncela-Casasnovas',\n",
       " 'J. Gomez-Gardenes': 'Jesus Gomez-Gardenes',\n",
       " 'L. Floria': 'Luis Floria',\n",
       " 'R. Jimenez': 'Raul Jimenez',\n",
       " 'J. Szwabinski': 'Janusz Szwabinski',\n",
       " 'S. Guida': 'Sibilla Di-Guida',\n",
       " 'T. Han': 'Anh Han',\n",
       " 'M. Santos': 'Marta Santos',\n",
       " 'S. Dorogovtsev': 'Sergey Dorogovtsev',\n",
       " 'J. Mendes': 'Jose Mendes',\n",
       " 'M. Pereira': 'Maelso Pereira',\n",
       " 'A. Brito': 'Alisson Brito',\n",
       " 'B.F. Oliveira': 'Breno Oliveira',\n",
       " 'J. Ramos': 'Jorge Ramos',\n",
       " 'H. Stanley': 'Eugene Stanley',\n",
       " 'J. Borondo': 'Javier Borondo',\n",
       " 'C. Rodriguez-Sickert': 'Carlos Rodriguez-Sickert',\n",
       " 'A. Sutcliffe': 'Alistair Sutcliffe',\n",
       " 'J. Molina': 'Jose Molina',\n",
       " 'J. Gimenez-Nadal': 'Ignacio Gimenez-Nadal',\n",
       " 'I. Okada': 'Isamu Okada',\n",
       " 'F. Babiloni': 'Fabio Babiloni',\n",
       " 'L. Astolfi': 'Laura Astolfi',\n",
       " 'F. Cincotti': 'Febo Cincotti',\n",
       " 'T. Ord': 'Toby Ord',\n",
       " 'A. Blair': 'Alan Blair',\n",
       " 'M.R. Frean': 'Marcus Frean',\n",
       " 'E.R. Abraham': 'Edward Abraham',\n",
       " 'A.P. Engelbrecht': 'Andries Engelbrecht',\n",
       " 'J. Garcia': 'Julian Garcia',\n",
       " \"C. O'Riordan\": \"\\nColm O'Riordan\",\n",
       " 'J. Griffith': 'Josephine Griffith',\n",
       " 'D. Curran': 'Dara Curran',\n",
       " 'H. Sorensen': 'Humphrey Sorensen',\n",
       " 'M. Gaudesi': 'Marco Gaudesi',\n",
       " 'E. Piccolo': 'Elio Piccolo',\n",
       " 'G. Squillero': 'Giovanni Squillero',\n",
       " 'A. Tonda': 'Alberto Tonda',\n",
       " 'N. Jin': 'Nanlin Jin',\n",
       " 'E. Tsang': 'Edward Tsang',\n",
       " 'A. Acan': 'Adnan Acan',\n",
       " 'H. Kwasnicka': 'Halina Kwasnicka',\n",
       " 'H. Ishibuchi': 'Hisao Ishibuchi',\n",
       " 'K. Ohara': 'Ken Ohara',\n",
       " 'K. Sowmya': 'Sowmya Karunakaran',\n",
       " 'C.K. Tan': 'Chee Tan',\n",
       " 'M.L. Sim': 'Moh Sim',\n",
       " 'T.C. Chuah': 'Teong Chuah',\n",
       " 'P. Hingston': 'Philip Hingston',\n",
       " 'G. Kendall': 'Graham Kendall',\n",
       " 'D. Kaur': 'Devinder Kaur',\n",
       " 'D.A. Wilson': 'Dominic Wilson',\n",
       " 'K. Chellapilla': 'Kumar Chellapilla',\n",
       " 'D.B. Fogel': 'David Fogel',\n",
       " 'W. Ashlock': 'Wendy Ashlock',\n",
       " 'D. Gutnisky': 'Diego Gutnisky',\n",
       " 'S. Meloni': 'Sandro Meloni',\n",
       " 'A. Buscarino': 'Arturo Buscarino',\n",
       " 'L. Fortuna': 'Luigi Fortuna',\n",
       " 'M. Frasca': 'Mattia Frasca',\n",
       " 'V. Latora': 'Vito Latora',\n",
       " 'A. Sanchez': 'Angel Sanchez',\n",
       " 'M. Marinho': 'Marcelo Marinho',\n",
       " 'O. Duran': 'Orencio Vinent',\n",
       " 'R. Mulet': 'Roberto Mulet',\n",
       " 'S. Bouzat': 'Sebastian Bouzat',\n",
       " 'E. Akiyama': 'Eizo Akiyama',\n",
       " 'M. Paternostro': 'Mauro Paternostro',\n",
       " 'M. Tame': 'Mark Tame',\n",
       " 'A. Ferreira': 'Antonio Ferreira',\n",
       " 'A. Lipowski': 'Adam Lipowski',\n",
       " 'C. Zhang': 'Chunyan Zhang',\n",
       " 'J. Zhang': 'Jianlei Zhang',\n",
       " 'G. Xie': 'Guangming Xie',\n",
       " 'J. Miller': 'John Miller',\n",
       " 'E. Kim': 'EunYoun Kim',\n",
       " 'M. Jones': 'Martin Jones',\n",
       " 'G. Koutsovoulos': 'Georgios Koutsovoulos',\n",
       " 'O. Campbell': 'Owen Campbell',\n",
       " 'B. Beaufils': 'Bruno  Beaufils',\n",
       " 'J. Delahaye': 'Jean-Paul Delahaye',\n",
       " 'P. Mathieu': 'Philippe Mathieu',\n",
       " 'A. Kaznatcheev': 'Artem Kaznatcheev',\n",
       " 'J. Peacock': 'Jeffrey Peacock',\n",
       " 'D. Basanta': 'David Basanta',\n",
       " 'A. Marusyk': ' Andriy Marusyk',\n",
       " 'J. Scott': 'Jacob Scott',\n",
       " 'S. Dridi': 'Slimane Dridi',\n",
       " 'E. Akçay': 'Erol Akcay',\n",
       " 'B. Allen': 'Benjamin Allen',\n",
       " 'G. Lippner': 'Gabor Lippner',\n",
       " 'B. Fotouhi': 'Babak Fotouhi',\n",
       " 'N. Momeni': 'Naghmeh Momeni',\n",
       " 'S. Yau': 'Shing-Tung Yau ',\n",
       " 'X.S. Liu': 'Xu-Sheng Liu',\n",
       " 'Zx. Wu': 'Zhi-Xi Wu',\n",
       " 'M. Chen': 'Michael  Chen',\n",
       " 'Jy. Guan': 'Jian-Yue Guan',\n",
       " 'A. Rapoport': 'Amnon Rapoport',\n",
       " 'D. Seale': 'Darryl Seale',\n",
       " 'A. Colman': 'Andrew Colman',\n",
       " 'D. Dion': 'Douglas Dion',\n",
       " 'M. Jurišić': 'Marko Jurisic',\n",
       " 'D. Kermek': 'Dragutin Kermek',\n",
       " 'M. Konecki': '\\nMladen Konecki',\n",
       " 'R. Sundaram': 'Rangarajan Sundaram',\n",
       " 'R. Selten': 'Reinhard Selten',\n",
       " 'P. Hammerstein': 'Peter Hammerstein',\n",
       " 'J. Wu': '\\nJianzhong Wu',\n",
       " 'C. Lee': 'Christopher Lee',\n",
       " 'D. Fryer': 'Dashiell Fryer',\n",
       " 'G. Price': 'George Price'}"
      ]
     },
     "execution_count": 60,
     "metadata": {},
     "output_type": "execute_result"
    }
   ],
   "source": [
    "names_dict"
   ]
  },
  {
   "cell_type": "code",
   "execution_count": 61,
   "metadata": {},
   "outputs": [],
   "source": [
    "names_dict['M. Konecki'] = 'Mladen Konecki'\n",
    "names_dict['J. Wu'] = 'Jianzhong Wu'"
   ]
  },
  {
   "cell_type": "code",
   "execution_count": 62,
   "metadata": {},
   "outputs": [
    {
     "data": {
      "text/plain": [
       "{'V. Knight': 'Vincent Knight',\n",
       " 'R. Axelrod': 'Robert Axelrod',\n",
       " 'N. Glynatsi': 'Nikoleta Glynatsi',\n",
       " 'N. Masuda': 'Naoki Masuda',\n",
       " 'M. Nowak': 'Martin Nowak',\n",
       " 'M. Harper': 'Marc Harper',\n",
       " 'K. Aihara': 'Kazuyuki Aihara',\n",
       " 'D. Ashlock': 'Daniel Ashlock',\n",
       " 'E. Kalai': 'Ehud Kalai',\n",
       " 'D. Samet': 'Dov samet',\n",
       " 'W. Stanford': 'William Stanford',\n",
       " 'H. Overcast': 'Edwin Overcast',\n",
       " 'R. Hoffmann': 'Robert Hoffmann',\n",
       " 'J. Wakano': 'Joe Wakano',\n",
       " 'V. Bixenstine': 'Edwin Bixenstine',\n",
       " 'J. Tejada': 'Juan Tejada',\n",
       " 'R. Aumann': 'Robert Aumann',\n",
       " 'E. Stanley': 'Ann Stanley',\n",
       " 'P. Darwen': 'Paul Darwen',\n",
       " 'X. Yao': 'Xin Yao',\n",
       " 'P. Schimit': 'Pedro Schimit',\n",
       " 'B. Santos': 'Benedito Santos',\n",
       " 'C. Soares': 'Maria Soares',\n",
       " 'E. Rovenskaya': 'Elena Rovenskaya',\n",
       " 'C. Hui': 'Cang Hui',\n",
       " 'M. Mcgeoch': 'Melodie McGeoch',\n",
       " 'A. Szolnoki': 'Attila Szolnoki',\n",
       " 'M. Perc': 'Matjaz Perc',\n",
       " 'G. Szabo': 'Gyorgy Szabo',\n",
       " 'J. Bendor': 'Jonathan Bendor',\n",
       " 'R. Kramer': 'Roderick Kramer',\n",
       " 'S. Stout': 'Suzanne Stout',\n",
       " 'K. Sigmund': 'Karl Sigmund',\n",
       " 'W. Press': 'William Press',\n",
       " 'F. Dyson': 'Freeman Dyson',\n",
       " 'A. Stewart': 'Alexander Stewart',\n",
       " 'J. Plotkin': 'Joshua Plotkin',\n",
       " 'C. Hilbe': 'Christian Hilbe',\n",
       " 'A. Traulsen': 'Arne Traulsen',\n",
       " 'R. Boyd': 'Robert Boyd',\n",
       " 'J. Lorberbaum': ' Jeffrey Lorberbaum ',\n",
       " 'J. Smith': 'Maynard Smith',\n",
       " 'M. May': 'Robert May',\n",
       " 'H. Ohtsuki': 'Hisashi Ohtsuki',\n",
       " 'C. Hauert': 'Christoph Hauert',\n",
       " 'E. Lieberman': 'Erez  Aiden',\n",
       " 'R.J. Aumann': 'Robert Aumann',\n",
       " 'E. Ahmed': 'Ahmed Hegazy',\n",
       " 'F. Fu': 'Feng Fu',\n",
       " 'J. Poncela': 'Julia Poncela-Casasnovas',\n",
       " 'J. Gomez-Gardenes': 'Jesus Gomez-Gardenes',\n",
       " 'L. Floria': 'Luis Floria',\n",
       " 'R. Jimenez': 'Raul Jimenez',\n",
       " 'J. Szwabinski': 'Janusz Szwabinski',\n",
       " 'S. Guida': 'Sibilla Di-Guida',\n",
       " 'T. Han': 'Anh Han',\n",
       " 'M. Santos': 'Marta Santos',\n",
       " 'S. Dorogovtsev': 'Sergey Dorogovtsev',\n",
       " 'J. Mendes': 'Jose Mendes',\n",
       " 'M. Pereira': 'Maelso Pereira',\n",
       " 'A. Brito': 'Alisson Brito',\n",
       " 'B.F. Oliveira': 'Breno Oliveira',\n",
       " 'J. Ramos': 'Jorge Ramos',\n",
       " 'H. Stanley': 'Eugene Stanley',\n",
       " 'J. Borondo': 'Javier Borondo',\n",
       " 'C. Rodriguez-Sickert': 'Carlos Rodriguez-Sickert',\n",
       " 'A. Sutcliffe': 'Alistair Sutcliffe',\n",
       " 'J. Molina': 'Jose Molina',\n",
       " 'J. Gimenez-Nadal': 'Ignacio Gimenez-Nadal',\n",
       " 'I. Okada': 'Isamu Okada',\n",
       " 'F. Babiloni': 'Fabio Babiloni',\n",
       " 'L. Astolfi': 'Laura Astolfi',\n",
       " 'F. Cincotti': 'Febo Cincotti',\n",
       " 'T. Ord': 'Toby Ord',\n",
       " 'A. Blair': 'Alan Blair',\n",
       " 'M.R. Frean': 'Marcus Frean',\n",
       " 'E.R. Abraham': 'Edward Abraham',\n",
       " 'A.P. Engelbrecht': 'Andries Engelbrecht',\n",
       " 'J. Garcia': 'Julian Garcia',\n",
       " \"C. O'Riordan\": \"\\nColm O'Riordan\",\n",
       " 'J. Griffith': 'Josephine Griffith',\n",
       " 'D. Curran': 'Dara Curran',\n",
       " 'H. Sorensen': 'Humphrey Sorensen',\n",
       " 'M. Gaudesi': 'Marco Gaudesi',\n",
       " 'E. Piccolo': 'Elio Piccolo',\n",
       " 'G. Squillero': 'Giovanni Squillero',\n",
       " 'A. Tonda': 'Alberto Tonda',\n",
       " 'N. Jin': 'Nanlin Jin',\n",
       " 'E. Tsang': 'Edward Tsang',\n",
       " 'A. Acan': 'Adnan Acan',\n",
       " 'H. Kwasnicka': 'Halina Kwasnicka',\n",
       " 'H. Ishibuchi': 'Hisao Ishibuchi',\n",
       " 'K. Ohara': 'Ken Ohara',\n",
       " 'K. Sowmya': 'Sowmya Karunakaran',\n",
       " 'C.K. Tan': 'Chee Tan',\n",
       " 'M.L. Sim': 'Moh Sim',\n",
       " 'T.C. Chuah': 'Teong Chuah',\n",
       " 'P. Hingston': 'Philip Hingston',\n",
       " 'G. Kendall': 'Graham Kendall',\n",
       " 'D. Kaur': 'Devinder Kaur',\n",
       " 'D.A. Wilson': 'Dominic Wilson',\n",
       " 'K. Chellapilla': 'Kumar Chellapilla',\n",
       " 'D.B. Fogel': 'David Fogel',\n",
       " 'W. Ashlock': 'Wendy Ashlock',\n",
       " 'D. Gutnisky': 'Diego Gutnisky',\n",
       " 'S. Meloni': 'Sandro Meloni',\n",
       " 'A. Buscarino': 'Arturo Buscarino',\n",
       " 'L. Fortuna': 'Luigi Fortuna',\n",
       " 'M. Frasca': 'Mattia Frasca',\n",
       " 'V. Latora': 'Vito Latora',\n",
       " 'A. Sanchez': 'Angel Sanchez',\n",
       " 'M. Marinho': 'Marcelo Marinho',\n",
       " 'O. Duran': 'Orencio Vinent',\n",
       " 'R. Mulet': 'Roberto Mulet',\n",
       " 'S. Bouzat': 'Sebastian Bouzat',\n",
       " 'E. Akiyama': 'Eizo Akiyama',\n",
       " 'M. Paternostro': 'Mauro Paternostro',\n",
       " 'M. Tame': 'Mark Tame',\n",
       " 'A. Ferreira': 'Antonio Ferreira',\n",
       " 'A. Lipowski': 'Adam Lipowski',\n",
       " 'C. Zhang': 'Chunyan Zhang',\n",
       " 'J. Zhang': 'Jianlei Zhang',\n",
       " 'G. Xie': 'Guangming Xie',\n",
       " 'J. Miller': 'John Miller',\n",
       " 'E. Kim': 'EunYoun Kim',\n",
       " 'M. Jones': 'Martin Jones',\n",
       " 'G. Koutsovoulos': 'Georgios Koutsovoulos',\n",
       " 'O. Campbell': 'Owen Campbell',\n",
       " 'B. Beaufils': 'Bruno  Beaufils',\n",
       " 'J. Delahaye': 'Jean-Paul Delahaye',\n",
       " 'P. Mathieu': 'Philippe Mathieu',\n",
       " 'A. Kaznatcheev': 'Artem Kaznatcheev',\n",
       " 'J. Peacock': 'Jeffrey Peacock',\n",
       " 'D. Basanta': 'David Basanta',\n",
       " 'A. Marusyk': ' Andriy Marusyk',\n",
       " 'J. Scott': 'Jacob Scott',\n",
       " 'S. Dridi': 'Slimane Dridi',\n",
       " 'E. Akçay': 'Erol Akcay',\n",
       " 'B. Allen': 'Benjamin Allen',\n",
       " 'G. Lippner': 'Gabor Lippner',\n",
       " 'B. Fotouhi': 'Babak Fotouhi',\n",
       " 'N. Momeni': 'Naghmeh Momeni',\n",
       " 'S. Yau': 'Shing-Tung Yau ',\n",
       " 'X.S. Liu': 'Xu-Sheng Liu',\n",
       " 'Zx. Wu': 'Zhi-Xi Wu',\n",
       " 'M. Chen': 'Michael  Chen',\n",
       " 'Jy. Guan': 'Jian-Yue Guan',\n",
       " 'A. Rapoport': 'Amnon Rapoport',\n",
       " 'D. Seale': 'Darryl Seale',\n",
       " 'A. Colman': 'Andrew Colman',\n",
       " 'D. Dion': 'Douglas Dion',\n",
       " 'M. Jurišić': 'Marko Jurisic',\n",
       " 'D. Kermek': 'Dragutin Kermek',\n",
       " 'M. Konecki': 'Mladen Konecki',\n",
       " 'R. Sundaram': 'Rangarajan Sundaram',\n",
       " 'R. Selten': 'Reinhard Selten',\n",
       " 'P. Hammerstein': 'Peter Hammerstein',\n",
       " 'J. Wu': 'Jianzhong Wu',\n",
       " 'C. Lee': 'Christopher Lee',\n",
       " 'D. Fryer': 'Dashiell Fryer',\n",
       " 'G. Price': 'George Price'}"
      ]
     },
     "execution_count": 62,
     "metadata": {},
     "output_type": "execute_result"
    }
   ],
   "source": [
    "names_dict"
   ]
  },
  {
   "cell_type": "code",
   "execution_count": 63,
   "metadata": {},
   "outputs": [],
   "source": [
    "df['author'] = df['author'].replace(names_dict)"
   ]
  },
  {
   "cell_type": "code",
   "execution_count": 67,
   "metadata": {},
   "outputs": [],
   "source": [
    "df = df.drop(columns=['Unnamed: 0', 'Unnamed: 0.1', 'Unnamed: 0.1.1.1', 'Unnamed: 0.1.1'])"
   ]
  },
  {
   "cell_type": "code",
   "execution_count": 68,
   "metadata": {},
   "outputs": [],
   "source": [
    "df.to_csv('../data/prisoners_dilemma_articles_meta_data_clean.csv')"
   ]
  },
  {
   "cell_type": "code",
   "execution_count": null,
   "metadata": {},
   "outputs": [],
   "source": []
  }
 ],
 "metadata": {
  "kernelspec": {
   "display_name": "literature",
   "language": "python",
   "name": "literature"
  },
  "language_info": {
   "codemirror_mode": {
    "name": "ipython",
    "version": 3
   },
   "file_extension": ".py",
   "mimetype": "text/x-python",
   "name": "python",
   "nbconvert_exporter": "python",
   "pygments_lexer": "ipython3",
   "version": "3.6.7"
  }
 },
 "nbformat": 4,
 "nbformat_minor": 2
}
